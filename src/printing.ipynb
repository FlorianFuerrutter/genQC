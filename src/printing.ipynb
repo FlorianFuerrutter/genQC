{
 "cells": [
  {
   "cell_type": "markdown",
   "id": "a8980c24-d62e-462b-ba89-3195cfdcc374",
   "metadata": {},
   "source": [
    "# Printing functions"
   ]
  },
  {
   "cell_type": "markdown",
   "id": "38c9eb7f-7527-4ea0-98fa-217f83cabc21",
   "metadata": {},
   "source": [
    "Advanced printing functions."
   ]
  },
  {
   "cell_type": "code",
   "execution_count": null,
   "id": "a8832bdd-f61c-44e1-8619-a9cb352ba768",
   "metadata": {},
   "outputs": [],
   "source": [
    "#| default_exp printing"
   ]
  },
  {
   "cell_type": "code",
   "execution_count": null,
   "id": "06272f6f-b4e3-4504-a90a-feebbf6ad821",
   "metadata": {},
   "outputs": [],
   "source": [
    "#| export\n",
    "from genQC.imports import *\n",
    "from ipywidgets import widgets\n",
    "if IN_NOTEBOOK: from IPython.display import Markdown"
   ]
  },
  {
   "cell_type": "code",
   "execution_count": null,
   "id": "ab31972e-76d3-4cb1-8696-c3af2bf7ca33",
   "metadata": {},
   "outputs": [],
   "source": [
    "#| export\n",
    "def display_colums(display_list, num_col=3):\n",
    "    \n",
    "    outputs = [widgets.Output() for i in range(num_col)]\n",
    "\n",
    "    for i in range(len(display_list)//num_col+1):\n",
    "        \n",
    "        ds = display_list[i*num_col:(i+1)*num_col]\n",
    "   \n",
    "        for d,output in zip(ds,outputs):\n",
    "            with output:\n",
    "                display(d)\n",
    "             \n",
    "    columns = widgets.HBox(outputs)\n",
    "    display(columns)  "
   ]
  },
  {
   "cell_type": "code",
   "execution_count": null,
   "id": "2c3f248d-fa4f-4e28-b8e9-9d044b9156d1",
   "metadata": {},
   "outputs": [
    {
     "data": {
      "text/plain": [
       "[tensor([[0.6266, 0.3672, 0.3988],\n",
       "         [0.6061, 0.2596, 0.4855],\n",
       "         [0.3177, 0.8166, 0.3100]]),\n",
       " tensor([[0.6266, 0.3672, 0.3988],\n",
       "         [0.6061, 0.2596, 0.4855],\n",
       "         [0.3177, 0.8166, 0.3100]]),\n",
       " tensor([[0.6266, 0.3672, 0.3988],\n",
       "         [0.6061, 0.2596, 0.4855],\n",
       "         [0.3177, 0.8166, 0.3100]])]"
      ]
     },
     "execution_count": null,
     "metadata": {},
     "output_type": "execute_result"
    }
   ],
   "source": [
    "a = [torch.rand((3, 3))]*3\n",
    "a"
   ]
  },
  {
   "cell_type": "markdown",
   "id": "fff65d71-865f-43a2-bf7b-c344acc2e35a",
   "metadata": {},
   "source": [
    "v.s."
   ]
  },
  {
   "cell_type": "code",
   "execution_count": null,
   "id": "cdcaddd8-0cb5-4893-8b47-8542d2e00755",
   "metadata": {},
   "outputs": [
    {
     "data": {
      "application/vnd.jupyter.widget-view+json": {
       "model_id": "c5c95e9d1bb9442799097d37b615cf62",
       "version_major": 2,
       "version_minor": 0
      },
      "text/plain": [
       "HBox(children=(Output(), Output(), Output()))"
      ]
     },
     "metadata": {},
     "output_type": "display_data"
    }
   ],
   "source": [
    "display_colums(a) # works only in notebook "
   ]
  },
  {
   "cell_type": "code",
   "execution_count": null,
   "id": "158dd169-fbd8-472d-8af9-2c1e01790fbf",
   "metadata": {},
   "outputs": [],
   "source": [
    "#| export\n",
    "def ndarray_to_latex(arr):\n",
    "    \"\"\"Returns a LaTeX `{pmatrix*}[r]` as a string\"\"\"\n",
    "    if len(arr.shape) > 2: raise ValueError('pmatrix can at most display two dimensions')\n",
    "    lines = str(arr).replace('[', '').replace(']', '').splitlines()\n",
    "    rv = [r'\\begin{pmatrix*}[r]']\n",
    "    rv += ['  ' + ' & '.join(l.split()) + r'\\\\' for l in lines]\n",
    "    rv +=  [r'\\end{pmatrix*}']\n",
    "    return '\\n'.join(rv)"
   ]
  },
  {
   "cell_type": "code",
   "execution_count": null,
   "id": "64b05f66-0840-45a1-b18f-b9a34bf48985",
   "metadata": {},
   "outputs": [],
   "source": [
    "#| export\n",
    "def tensor_to_latex(tensor):\n",
    "    \"\"\"Returns a `LaTeX {pmatrix*}[r]` as a string \"\"\"\n",
    "    if len(tensor.shape) > 2: raise ValueError('pmatrix can at most display two dimensions')\n",
    "    lines = str(tensor.numpy()).replace('[', '').replace(']', '').splitlines()\n",
    "    rv = [r'\\begin{pmatrix*}[r]']\n",
    "    rv += ['  ' + ' & '.join(l.split()) + r'\\\\' for l in lines]\n",
    "    rv +=  [r'\\end{pmatrix*}']\n",
    "    return '\\n'.join(rv)"
   ]
  },
  {
   "cell_type": "code",
   "execution_count": null,
   "id": "7c28d89d-7d89-460a-b4a2-b5671d6a7b55",
   "metadata": {},
   "outputs": [
    {
     "name": "stdout",
     "output_type": "stream",
     "text": [
      "\\begin{pmatrix*}[r]\n",
      "  2 & 2 & 2\\\\\n",
      "  2 & 2 & 2\\\\\n",
      "  2 & 2 & 2\\\\\n",
      "\\end{pmatrix*}\n"
     ]
    }
   ],
   "source": [
    "tex = tensor_to_latex(torch.full((3,3), 2))\n",
    "print(tex)"
   ]
  },
  {
   "cell_type": "code",
   "execution_count": null,
   "id": "36032308-bd0e-4409-9db0-9d89fc258e5a",
   "metadata": {},
   "outputs": [],
   "source": [
    "#| export\n",
    "def print_markdown(text, print_raw=False):\n",
    "    if IN_NOTEBOOK and not print_raw: display(Markdown(text))\n",
    "    else: print(text)"
   ]
  },
  {
   "cell_type": "code",
   "execution_count": null,
   "id": "ca556ece-a053-401c-8b8b-470c6faf9b1d",
   "metadata": {},
   "outputs": [
    {
     "data": {
      "text/markdown": [
       "$\\sqrt{2}$, *Test text*"
      ],
      "text/plain": [
       "<IPython.core.display.Markdown object>"
      ]
     },
     "metadata": {},
     "output_type": "display_data"
    }
   ],
   "source": [
    "print_markdown(\"$\\sqrt{2}$, *Test text*\")"
   ]
  },
  {
   "cell_type": "code",
   "execution_count": null,
   "id": "ddceb791-8961-4f94-8fa9-7b08d5f8b4c9",
   "metadata": {},
   "outputs": [
    {
     "data": {
      "text/markdown": [
       "$\\begin{pmatrix*}[r]\n",
       "  2 & 2 & 2\\\\\n",
       "  2 & 2 & 2\\\\\n",
       "  2 & 2 & 2\\\\\n",
       "\\end{pmatrix*}$"
      ],
      "text/plain": [
       "<IPython.core.display.Markdown object>"
      ]
     },
     "metadata": {},
     "output_type": "display_data"
    }
   ],
   "source": [
    "print_markdown(f\"${tex}$\")"
   ]
  },
  {
   "cell_type": "code",
   "execution_count": null,
   "id": "664afc55-6c90-4550-8f70-0f9f4cf3c280",
   "metadata": {},
   "outputs": [],
   "source": [
    "#| export\n",
    "def print_table(col_headings: list, data: np.array, row_headings=None, print_raw=False):   \n",
    "    assert len(col_headings) == data.shape[1]\n",
    "    if row_headings is not None: assert len(row_headings) == data.shape[0]\n",
    "        \n",
    "    #--------------------------------\n",
    "    head = \"\"\n",
    "    if row_headings is not None: head = \"| \" + head  \n",
    "    \n",
    "    for col_heading in col_headings: head += f\"|{col_heading}\"\n",
    "    head += \"|\\n\"\n",
    "                \n",
    "    #--------------------------------\n",
    "    seperator = \"\"\n",
    "    if row_headings is not None: seperator = \"|--\"\n",
    "        \n",
    "    for col_heading in col_headings: seperator += \"|--\"\n",
    "    seperator += \"|\\n\"\n",
    "    \n",
    "    #--------------------------------    \n",
    "    body = \"\"\n",
    "    for i, row in enumerate(data):\n",
    "        body_row = \"\"\n",
    "        for x in row:\n",
    "            body_row += f\"|{x:.2f}\"\n",
    "            \n",
    "        if row_headings is not None: \n",
    "            body_row = f\"|{row_headings[i]}\" + body_row\n",
    "        \n",
    "        body += body_row + \"|\\n\"\n",
    "                \n",
    "    #--------------------------------    \n",
    "    table = head + seperator + body\n",
    "      \n",
    "    print_markdown(table, print_raw)"
   ]
  },
  {
   "cell_type": "markdown",
   "id": "6f382584-1404-49d7-b672-40474207f7b1",
   "metadata": {},
   "source": [
    "Print a table:"
   ]
  },
  {
   "cell_type": "code",
   "execution_count": null,
   "id": "9659bea3-8353-4568-a5f2-927daedef3fe",
   "metadata": {},
   "outputs": [
    {
     "data": {
      "text/markdown": [
       "| |head1|head2|head3|\n",
       "|--|--|--|--|\n",
       "|sample|0.32|0.23|0.27|\n",
       "|dataset|0.74|0.41|0.00|\n"
      ],
      "text/plain": [
       "<IPython.core.display.Markdown object>"
      ]
     },
     "metadata": {},
     "output_type": "display_data"
    }
   ],
   "source": [
    "h = [\"head1\", \"head2\", \"head3\"]\n",
    "r = [\"sample\", \"dataset\"]\n",
    "d = np.random.rand(2, 3)\n",
    "print_table(h, d, r)"
   ]
  },
  {
   "cell_type": "markdown",
   "id": "f41f26a8-ac40-4e91-8c0e-1ef07a0fd4f4",
   "metadata": {},
   "source": [
    "# Export -"
   ]
  },
  {
   "cell_type": "code",
   "execution_count": null,
   "id": "a0474216-8e0c-4ba7-9a37-571ac7d8e82c",
   "metadata": {},
   "outputs": [],
   "source": [
    "#| hide\n",
    "import nbdev; nbdev.nbdev_export()"
   ]
  }
 ],
 "metadata": {
  "kernelspec": {
   "display_name": "python3",
   "language": "python",
   "name": "python3"
  }
 },
 "nbformat": 4,
 "nbformat_minor": 5
}
