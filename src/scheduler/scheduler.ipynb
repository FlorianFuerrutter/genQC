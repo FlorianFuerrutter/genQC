{
 "cells": [
  {
   "cell_type": "markdown",
   "id": "a8980c24-d62e-462b-ba89-3195cfdcc374",
   "metadata": {},
   "source": [
    "# Scheduler\n",
    "\n",
    "> Base class for schedulers."
   ]
  },
  {
   "cell_type": "code",
   "execution_count": null,
   "id": "a8832bdd-f61c-44e1-8619-a9cb352ba768",
   "metadata": {},
   "outputs": [],
   "source": [
    "#| default_exp scheduler.scheduler"
   ]
  },
  {
   "cell_type": "code",
   "execution_count": null,
   "id": "06272f6f-b4e3-4504-a90a-feebbf6ad821",
   "metadata": {},
   "outputs": [],
   "source": [
    "#| export\n",
    "from genQC.imports import *\n",
    "from genQC.utils.config_loader import *"
   ]
  },
  {
   "cell_type": "code",
   "execution_count": null,
   "id": "36032308-bd0e-4409-9db0-9d89fc258e5a",
   "metadata": {},
   "outputs": [],
   "source": [
    "#| export\n",
    "class Scheduler(abc.ABC):\n",
    "    \"\"\"Base class for all diffusion schedulers\"\"\"\n",
    "    \n",
    "    def __init__(self): \n",
    "        pass\n",
    "    \n",
    "    @abc.abstractmethod\n",
    "    def set_timesteps(self): pass\n",
    "     \n",
    "    @abc.abstractmethod\n",
    "    def step(self): pass\n",
    "\n",
    "    @abc.abstractmethod\n",
    "    def add_noise(self): pass\n",
    "\n",
    "    @abc.abstractmethod\n",
    "    def to(self): pass\n",
    "    #---------------------------------------\n",
    "\n",
    "    @staticmethod\n",
    "    def from_config(config, device: torch.device, save_path: str=None, verbose=True, silent=False):  \n",
    "        \"\"\"Use this if we have a loaded config.\"\"\"\n",
    "\n",
    "        _config = copy.deepcopy(config)\n",
    "        \n",
    "        if exists(device): _config[\"device\"] = device   # for loading sub-models\n",
    "        else:              device = _config.pop(\"device\", \"cpu\")\n",
    "\n",
    "        if \"beta_schedule\" in _config[\"params\"]:\n",
    "            beta_schedule = _config[\"params\"][\"beta_schedule\"]\n",
    "            \n",
    "            if \"path:\" in beta_schedule:\n",
    "                _config[\"params\"][\"beta_schedule\"] = \"path:\" + save_path + beta_schedule[len(\"path:\"):]\n",
    "        \n",
    "        scheduler = instantiate_from_config(_config)\n",
    "        return scheduler\n",
    "\n",
    "    #---------------------------------------\n",
    "    \n",
    "    def get_config(self, without_metadata=False):\n",
    "        if not without_metadata:       \n",
    "            config = {}\n",
    "            config[\"target\"] = class_to_str(type(self))\n",
    "            config[\"params\"] = self.params_config  \n",
    "        else:\n",
    "            config = self.params_config  \n",
    "\n",
    "        self.config = config        \n",
    "        return config\n",
    "    \n",
    "    @property\n",
    "    @abc.abstractmethod\n",
    "    def params_config(self): return None\n",
    "\n",
    "    #---------------------------------------\n",
    "\n",
    "    def unsqueeze_vector_to_shape(self, vec, shape):\n",
    "        return vec.view(*vec.shape, *([1] * (len(shape)-len(vec.shape))) )\n",
    "      \n",
    "    #---------------------------------------\n",
    "\n",
    "    @classmethod\n",
    "    def from_scheduler(cls, scheduler, **kwargs): \n",
    "        _kwargs = scheduler.params_config \n",
    "        _kwargs = _kwargs | kwargs\n",
    "        \n",
    "        new_scheduler = cls(**_kwargs)\n",
    "        return new_scheduler"
   ]
  },
  {
   "cell_type": "markdown",
   "id": "f41f26a8-ac40-4e91-8c0e-1ef07a0fd4f4",
   "metadata": {},
   "source": [
    "# Export -"
   ]
  },
  {
   "cell_type": "code",
   "execution_count": null,
   "id": "a0474216-8e0c-4ba7-9a37-571ac7d8e82c",
   "metadata": {},
   "outputs": [],
   "source": [
    "#| hide\n",
    "import nbdev; nbdev.nbdev_export()"
   ]
  }
 ],
 "metadata": {
  "kernelspec": {
   "display_name": "python3",
   "language": "python",
   "name": "python3"
  },
  "widgets": {
   "application/vnd.jupyter.widget-state+json": {
    "state": {},
    "version_major": 2,
    "version_minor": 0
   }
  }
 },
 "nbformat": 4,
 "nbformat_minor": 5
}
