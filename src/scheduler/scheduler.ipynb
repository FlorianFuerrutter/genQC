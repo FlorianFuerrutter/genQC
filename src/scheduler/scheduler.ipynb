{
 "cells": [
  {
   "cell_type": "markdown",
   "id": "a8980c24-d62e-462b-ba89-3195cfdcc374",
   "metadata": {},
   "source": [
    "# Scheduler"
   ]
  },
  {
   "cell_type": "markdown",
   "id": "bf6ceb41-a3d4-43b1-bae8-f255902f8a9b",
   "metadata": {},
   "source": [
    "Base class for schedulers."
   ]
  },
  {
   "cell_type": "code",
   "execution_count": null,
   "id": "a8832bdd-f61c-44e1-8619-a9cb352ba768",
   "metadata": {},
   "outputs": [],
   "source": [
    "#| default_exp scheduler.scheduler"
   ]
  },
  {
   "cell_type": "code",
   "execution_count": null,
   "id": "06272f6f-b4e3-4504-a90a-feebbf6ad821",
   "metadata": {},
   "outputs": [],
   "source": [
    "#| export\n",
    "from genQC.imports import *\n",
    "from genQC.util import virtual\n",
    "from genQC.config_loader import *"
   ]
  },
  {
   "cell_type": "code",
   "execution_count": null,
   "id": "36032308-bd0e-4409-9db0-9d89fc258e5a",
   "metadata": {},
   "outputs": [],
   "source": [
    "#| export\n",
    "class Scheduler:\n",
    "    \"\"\"Base class for all diffusion schedulers\"\"\"\n",
    "    def __init__(self): \n",
    "        pass\n",
    "    \n",
    "    @virtual\n",
    "    def set_timesteps(self): pass\n",
    "     \n",
    "    @virtual\n",
    "    def step(self): pass\n",
    "\n",
    "    @virtual\n",
    "    def add_noise(self): pass\n",
    "\n",
    "    #---------------------------------------\n",
    "\n",
    "    def get_config(self, without_metadata=False):\n",
    "        if not without_metadata:       \n",
    "            config = {}\n",
    "            config[\"target\"] = class_to_str(type(self))\n",
    "            config[\"params\"] = self.params_config  \n",
    "        else:\n",
    "            config = self.params_config  \n",
    "\n",
    "        self.config = config        \n",
    "        return config\n",
    "    \n",
    "    @property\n",
    "    @virtual\n",
    "    def params_config(self): return None\n",
    "\n",
    "    #---------------------------------------\n",
    "\n",
    "    def unsqueeze_vector_to_shape(self, vec, shape):\n",
    "        vec = vec.flatten()\n",
    "        while len(vec.shape) < len(shape):\n",
    "            vec = vec.unsqueeze(-1)\n",
    "        return vec "
   ]
  },
  {
   "cell_type": "markdown",
   "id": "f41f26a8-ac40-4e91-8c0e-1ef07a0fd4f4",
   "metadata": {},
   "source": [
    "# Export -"
   ]
  },
  {
   "cell_type": "code",
   "execution_count": null,
   "id": "a0474216-8e0c-4ba7-9a37-571ac7d8e82c",
   "metadata": {},
   "outputs": [],
   "source": [
    "#| hide\n",
    "import nbdev; nbdev.nbdev_export()"
   ]
  }
 ],
 "metadata": {
  "kernelspec": {
   "display_name": "python3",
   "language": "python",
   "name": "python3"
  }
 },
 "nbformat": 4,
 "nbformat_minor": 5
}
