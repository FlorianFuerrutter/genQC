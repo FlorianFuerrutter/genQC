{
 "cells": [
  {
   "cell_type": "markdown",
   "id": "69a855f1-55dd-482e-94f2-9ad02804be4d",
   "metadata": {},
   "source": [
    "# SRV demo-dataset and fine-tune"
   ]
  },
  {
   "cell_type": "markdown",
   "id": "e41e2465-49d8-46b8-b046-6ae1becfb268",
   "metadata": {},
   "source": [
    "In this notebook we create a (demo) 9-qubit dataset and fine-tune the model with it. Note, we use direct fine-tuning similar as you would train the model from scratch (with a higher learn-rate and larger dataset)."
   ]
  },
  {
   "cell_type": "code",
   "execution_count": null,
   "id": "3bde494e-9091-41a4-a601-bbcf9712c564",
   "metadata": {},
   "outputs": [],
   "source": [
    "from genQC.imports import *\n",
    "\n",
    "import genQC.util as util\n",
    "import genQC.platform.qcircuit_dataset_construction as data_const\n",
    "import genQC.inference.infer_srv as infer_srv\n",
    "import genQC.dataset.dataset_helper as dahe\n",
    "\n",
    "from genQC.pipeline.diffusion_pipeline import DiffusionPipeline\n",
    "from genQC.dataset.qc_dataset import Qc_Config_Dataset\n",
    "from genQC.dataset.mixed_cached_qc_dataset import Mixed_Cached_OpenClip_Dataset"
   ]
  },
  {
   "cell_type": "code",
   "execution_count": null,
   "id": "029be4f3-0d9a-4d0a-93d9-2338fda7a983",
   "metadata": {},
   "outputs": [
    {
     "name": "stdout",
     "output_type": "stream",
     "text": [
      "[INFO]: Cuda device has a capability of 8.6 (>= 8), allowing tf32 matmul.\n"
     ]
    }
   ],
   "source": [
    "device = util.infer_torch_device()  # use cuda if we can, cpu is much slower\n",
    "util.MemoryCleaner.purge_mem()      # clean existing memory alloc"
   ]
  },
  {
   "cell_type": "markdown",
   "id": "f77a3020-247c-4ac0-aaf1-ee5c371b5f06",
   "metadata": {},
   "source": [
    "## Setup and load"
   ]
  },
  {
   "cell_type": "code",
   "execution_count": null,
   "id": "e5d60c23-9514-4432-bc82-622c088fced6",
   "metadata": {},
   "outputs": [],
   "source": [
    "def get_preTrained_pipeline():\n",
    "    model_path = \"../../saves/qc_unet_config_SRV_3to8_qubit/\"\n",
    "    pipeline   = DiffusionPipeline.from_config_file(model_path, device)  \n",
    "    return pipeline"
   ]
  },
  {
   "cell_type": "markdown",
   "id": "742ae430-46f2-4099-ac8f-f422a4ddc1dc",
   "metadata": {},
   "source": [
    "Load the pre-trained model. Set 20 sample steps and use rescaled guidance-formula."
   ]
  },
  {
   "cell_type": "code",
   "execution_count": null,
   "id": "655756d0-1619-4e8e-acc1-3f76a507a73b",
   "metadata": {},
   "outputs": [
    {
     "name": "stdout",
     "output_type": "stream",
     "text": [
      "[INFO]: `genQC.models.unet_qc.QC_Cond_UNet` instantiated from given config on cuda.\n",
      "[INFO]: `genQC.models.frozen_open_clip.CachedFrozenOpenCLIPEmbedder` instantiated from given config on cuda.\n",
      "[INFO]: `genQC.models.frozen_open_clip.CachedFrozenOpenCLIPEmbedder`. No save_path` provided. No state dict loaded.\n",
      "Trained with gates: [<class 'qiskit.circuit.library.standard_gates.h.HGate'>, <class 'qiskit.circuit.library.standard_gates.x.CXGate'>]\n"
     ]
    }
   ],
   "source": [
    "pipeline = get_preTrained_pipeline()\n",
    "\n",
    "pipeline.guidance_sample_mode = \"rescaled\"\n",
    "pipeline.scheduler.set_timesteps(20) \n",
    "\n",
    "print(\"Trained with gates:\", pipeline.gate_pool)"
   ]
  },
  {
   "cell_type": "markdown",
   "id": "11fd1a13-512f-49d8-8b48-7c4298cd1c3c",
   "metadata": {},
   "source": [
    "## Generate 9 qubit circuits without fine-tune"
   ]
  },
  {
   "cell_type": "markdown",
   "id": "7ed21393-a99d-4fb2-aef6-0cebd85ae14f",
   "metadata": {},
   "source": [
    "Generate circuits as explained in the `0_hello_circuit` [[doc]](https://florianfuerrutter.github.io/genQC/examples/hello_circuit.html) [[notebook]](https://github.com/FlorianFuerrutter/genQC/blob/main/src/examples/0_hello_circuit.ipynb) example."
   ]
  },
  {
   "cell_type": "code",
   "execution_count": null,
   "id": "9ff69bfb-6053-4b88-9123-cc6ba93419d2",
   "metadata": {},
   "outputs": [
    {
     "data": {
      "text/plain": [
       "'Generate SRV: [2, 2, 2, 1, 1, 1, 1, 1, 2]'"
      ]
     },
     "execution_count": null,
     "metadata": {},
     "output_type": "execute_result"
    }
   ],
   "source": [
    "srv           = [2, 2, 2, 1, 1, 1, 1, 1, 2]  # set your target SRV\n",
    "num_of_qubits = len(srv)          \n",
    "assert num_of_qubits == 9\n",
    "\n",
    "prompt = f\"Generate SRV: {srv}\"  # model was trained with this phrase\n",
    "prompt"
   ]
  },
  {
   "cell_type": "code",
   "execution_count": null,
   "id": "72ec293e-5b3c-4f3d-a478-2389d6477c57",
   "metadata": {},
   "outputs": [
    {
     "data": {
      "application/vnd.jupyter.widget-view+json": {
       "model_id": "972410b9c3ef47609cb75c4e07b34800",
       "version_major": 2,
       "version_minor": 0
      },
      "text/plain": [
       "  0%|          | 0/20 [00:00<?, ?it/s]"
      ]
     },
     "metadata": {},
     "output_type": "display_data"
    },
    {
     "name": "stdout",
     "output_type": "stream",
     "text": [
      "[INFO]: (generate_srv_tensors) Generated 512 tensors\n",
      "Not valid error circuits: 14 out of 512\n"
     ]
    }
   ],
   "source": [
    "g         = 7.5     # guidance scale\n",
    "max_gates = 16      # how many time steps the tensor encoding has\n",
    "samples   = 512     # how many circuits to generate\n",
    "\n",
    "out_tensor                   = infer_srv.generate_srv_tensors(pipeline, prompt, samples, num_of_qubits, num_of_qubits, max_gates, g, no_bar=False) \n",
    "qc_list, error_cnt, srv_list = infer_srv.convert_tensors_to_srvs(out_tensor, pipeline.gate_pool)  # may take a moment, has to compute partial traces over (2^9)x(2^9) density matrices\n",
    "print(f\"Not valid error circuits: {error_cnt} out of {samples}\")"
   ]
  },
  {
   "cell_type": "code",
   "execution_count": null,
   "id": "96bdfbee-8cfd-4870-9c7b-43af3626ad1d",
   "metadata": {},
   "outputs": [
    {
     "name": "stdout",
     "output_type": "stream",
     "text": [
      "Accuracy on requested 9 qubit SRV=[2, 2, 2, 1, 1, 1, 1, 1, 2], with a model trained on 3 to 8 qubits circuits: 0.02\n"
     ]
    }
   ],
   "source": [
    "acc = infer_srv.get_srv_accuracy(srv_list, srv)\n",
    "print(f\"Accuracy on requested {len(srv)} qubit SRV={srv}, with a model trained on 3 to 8 qubits circuits: {acc:.2f}\")  "
   ]
  },
  {
   "cell_type": "markdown",
   "id": "555ab75b-848c-496c-8f61-dc73c294d838",
   "metadata": {},
   "source": [
    "## Fine-tune dataset"
   ]
  },
  {
   "cell_type": "markdown",
   "id": "3df8732e-885e-4544-a324-92d27c80a06e",
   "metadata": {},
   "source": [
    "Let's create a 9 qubit fine-tune training dataset."
   ]
  },
  {
   "cell_type": "markdown",
   "id": "486d8b1f-f078-4e27-b030-9cdb4cd09be9",
   "metadata": {},
   "source": [
    "### Sampling random circuits"
   ]
  },
  {
   "cell_type": "markdown",
   "id": "ed1c580e-9a8e-4ead-b36c-ab9ddd330880",
   "metadata": {},
   "source": [
    "We sample random 9 qubit circuits on which we fine-tune on. Note, there is no balancing over what SRVs are created! The initial model was only trained on 3 to 8 qubit circuits."
   ]
  },
  {
   "cell_type": "code",
   "execution_count": null,
   "id": "9f8423f3-7d0c-4f9d-be6c-617b9bf4e575",
   "metadata": {},
   "outputs": [
    {
     "data": {
      "application/vnd.jupyter.widget-view+json": {
       "model_id": "e886f8d8b16c46faaa383a9bc10c3755",
       "version_major": 2,
       "version_minor": 0
      },
      "text/plain": [
       "  0%|          | 0/100 [00:00<?, ?it/s]"
      ]
     },
     "metadata": {},
     "output_type": "display_data"
    },
    {
     "name": "stdout",
     "output_type": "stream",
     "text": [
      "Generated unique circuits: 100\n"
     ]
    }
   ],
   "source": [
    "# settings for random circuit sampling\n",
    "random_samples = int(1e2)                 # how many rnd qcs we sample, here small number to speed up example\n",
    "num_of_qubits  = 9\n",
    "min_gates      = 2\n",
    "max_gates      = 20\n",
    "gate_pool      = pipeline.gate_pool  \n",
    "optimized      = True                     # if qiskit optimizer is used\n",
    "\n",
    "x, y = data_const.gen_qc_dataset(samples=random_samples, num_of_qubits=num_of_qubits, min_gates=min_gates, max_gates=max_gates, \n",
    "                                gate_pool=gate_pool, optimized=optimized, silent=False)"
   ]
  },
  {
   "cell_type": "code",
   "execution_count": null,
   "id": "9731bf85-3748-4c6d-a072-228818890069",
   "metadata": {},
   "outputs": [
    {
     "data": {
      "text/plain": [
       "tensor([1, 1, 1, 1, 1, 1, 1, 1, 1], dtype=torch.int32)"
      ]
     },
     "execution_count": null,
     "metadata": {},
     "output_type": "execute_result"
    }
   ],
   "source": [
    "y[0]"
   ]
  },
  {
   "cell_type": "code",
   "execution_count": null,
   "id": "854640a2-f2f8-4bbc-9e07-c099784d6af9",
   "metadata": {},
   "outputs": [
    {
     "data": {
      "text/plain": [
       "'Generate SRV: [1 1 1 1 1 1 1 1 1]'"
      ]
     },
     "execution_count": null,
     "metadata": {},
     "output_type": "execute_result"
    }
   ],
   "source": [
    "y = np.array([f\"Generate SRV: {srv.numpy()}\" for srv in y]) # convert SRV to the trained prompt\n",
    "y[0]"
   ]
  },
  {
   "cell_type": "markdown",
   "id": "4baff23b-723b-425f-bf21-5d348d2fffc8",
   "metadata": {},
   "source": [
    "We get tokenized circuits with SRV:"
   ]
  },
  {
   "cell_type": "code",
   "execution_count": null,
   "id": "f4a35005-0953-404d-bb47-c40fd31c6501",
   "metadata": {},
   "outputs": [
    {
     "name": "stdout",
     "output_type": "stream",
     "text": [
      "Example circuit with prompt: \n",
      "Generate SRV: [1 1 1 1 2 1 1 1 2] \n",
      "tensor([[ 2,  2,  0,  0,  0,  0,  2,  1,  0,  0,  0,  0,  0,  0,  0,  0,  0,  0,  0,  0],\n",
      "        [ 0,  0,  0,  0,  0,  0,  0,  0,  0,  0,  0,  0,  0,  0,  0,  0,  0,  0,  0,  0],\n",
      "        [ 0,  0,  0,  0,  0,  0,  0,  0, -2,  1,  0,  0, -2,  0,  0,  0,  0,  0,  0,  0],\n",
      "        [ 0,  0,  0, -2,  1,  2,  0,  0,  0,  0,  0,  0,  0,  0,  0,  0,  0,  0,  0,  0],\n",
      "        [ 0, -2,  0,  0,  0,  0,  0,  0,  0,  0,  0,  0,  0,  0,  2,  1,  0,  0,  0,  0],\n",
      "        [-2,  0,  1,  0,  0, -2,  0,  0,  0,  0,  0,  2,  2,  1,  0,  0,  0,  0,  0,  0],\n",
      "        [ 0,  0,  0,  2,  0,  0, -2,  0,  0,  0,  0,  0,  0,  0,  0,  0,  0,  0,  0,  0],\n",
      "        [ 0,  0,  0,  0,  0,  0,  0,  0,  2,  0,  0,  0,  0,  0,  0,  0,  0,  0,  0,  0],\n",
      "        [ 0,  0,  0,  0,  0,  0,  0,  0,  0,  0,  1, -2,  0,  0, -2,  0,  0,  0,  0,  0]], dtype=torch.int32)\n"
     ]
    }
   ],
   "source": [
    "print(f\"Example circuit with prompt: \\n{y[-1]} \\n{x[-1]}\")"
   ]
  },
  {
   "cell_type": "markdown",
   "id": "b8585979-0aff-4c78-aedc-fc6dbbef0614",
   "metadata": {},
   "source": [
    "### Create a basic dataset"
   ]
  },
  {
   "cell_type": "markdown",
   "id": "3703b7b6-771f-4073-9b6d-faa7aab9a0c4",
   "metadata": {},
   "source": [
    "Direct fine-tuning is the same as you would train a new model from scratch. First, we create a `Qc_Config_Dataset` object that handles our dataset."
   ]
  },
  {
   "cell_type": "code",
   "execution_count": null,
   "id": "0c91ed32-5f03-4aa8-85ac-506ae2c77ef1",
   "metadata": {},
   "outputs": [],
   "source": [
    "# meta-data of dataset\n",
    "paras = {}\n",
    "paras[\"store_dict\"]     = {'x':'tensor', 'y':'numpy'}   #what is in the datset, with type\n",
    "paras[\"optimized\"]      = optimized    \n",
    "paras[\"dataset_to_gpu\"] = True if device==\"cuda\" else False\n",
    "paras[\"random_samples\"] = random_samples\n",
    "paras[\"num_of_qubits\"]  = num_of_qubits\n",
    "paras[\"min_gates\"]      = min_gates\n",
    "paras[\"max_gates\"]      = max_gates\n",
    "paras[\"gate_pool\"]      = [dahe.class_to_str(gate) for gate in gate_pool]"
   ]
  },
  {
   "cell_type": "markdown",
   "id": "3e10ab8f-6908-4953-80b3-94791527030a",
   "metadata": {},
   "source": [
    "Make sure our dataset has no duplicates and shuffle it:"
   ]
  },
  {
   "cell_type": "code",
   "execution_count": null,
   "id": "9d506816-cbe0-4c6b-ba82-03f07f9a22c9",
   "metadata": {},
   "outputs": [],
   "source": [
    "x, y = dahe.uniquify_tensor_dataset(x, y)\n",
    "assert x.shape[0] == x.unique(dim=0).shape[0]    # check if no duplicates\n",
    "\n",
    "x, y = dahe.shuffle_tensor_dataset(x, y)"
   ]
  },
  {
   "cell_type": "markdown",
   "id": "9b213646-4340-4135-979a-592c58b0a102",
   "metadata": {},
   "source": [
    "Now create the `Qc_Config_Dataset` object:"
   ]
  },
  {
   "cell_type": "code",
   "execution_count": null,
   "id": "d787dc71-1450-4489-adf0-ae5edf7e27b0",
   "metadata": {},
   "outputs": [
    {
     "name": "stdout",
     "output_type": "stream",
     "text": [
      "Label: ``Generate SRV: [1 1 1 1 2 1 1 1 2]``    SRV is: [1, 1, 1, 1, 2, 1, 1, 1, 2]\n"
     ]
    },
    {
     "data": {
      "image/png": "[encoded data removed]",
      "text/plain": [
       "<Figure size 1290.83x785.944 with 1 Axes>"
      ]
     },
     "metadata": {},
     "output_type": "display_data"
    }
   ],
   "source": [
    "qc_Config_Dataset = Qc_Config_Dataset(store_device=device, **paras)\n",
    "qc_Config_Dataset.x = x\n",
    "qc_Config_Dataset.y = y\n",
    "qc_Config_Dataset.dataset_to_gpu = True if device.type==\"cuda\" else False \n",
    "qc_Config_Dataset.plot_example()"
   ]
  },
  {
   "cell_type": "markdown",
   "id": "d426a6e6-3812-4d1b-a83f-ed936bd1ae1a",
   "metadata": {},
   "source": [
    "If you want to save the dataset to disk, you could use:\n",
    "\n",
    "```python\n",
    "config_path = \"YOUR_CONFIG_FILE\"  \n",
    "save_path   = \"YOUR_SAVE_PATH\"    \n",
    "qc_Config_Dataset.save_dataset(config_path, save_path)\n",
    "```\n",
    "where `config_path` file-path to the meta-data file, e.g. `\"../../configs/dataset/qc_9bit_fine_tune.yaml`\n",
    "\n",
    "and `save_path` file-path prefix where the raw dataset files are stored, e.g. `\"../../datasets/q-circuits/qc_9bit_fine_tune\"`."
   ]
  },
  {
   "cell_type": "markdown",
   "id": "f5ec742f-cd84-4b3e-972d-6dd89e25ce9d",
   "metadata": {},
   "source": [
    "A saved dataset can be loaded with:\n",
    "```python\n",
    "qc_Config_Dataset = Qc_Config_Dataset.from_config_file(config_path, device=device) \n",
    "```"
   ]
  },
  {
   "cell_type": "markdown",
   "id": "9ab7e8c2-2512-4edb-a3f2-9ac96b13f2aa",
   "metadata": {},
   "source": [
    "### Create a cached (mixed) dataset"
   ]
  },
  {
   "cell_type": "markdown",
   "id": "bcac06b4-abfa-4b1a-bf71-f50d21dde653",
   "metadata": {},
   "source": [
    "To speed up training we can cache the CLIP embeddings of the `y` dataset labels before we start fitting. We provide the `Cached_OpenClip_Dataset` object for this. Here we use a further extension, the `Mixed_Cached_OpenClip_Dataset`. It has advanced methods to handle padding and combining different task (e.g. compile and SRV) or different number of qubit datasets together (as explained in the appendix of the paper). We use it here to automatically cut and pad our 9 qubit circuits to the longest circuit within one batch."
   ]
  },
  {
   "cell_type": "markdown",
   "id": "dedacaf3-fee4-437e-8d4c-6f976ebe1542",
   "metadata": {},
   "source": [
    "See if the pipeline has already a padding token specified, else define one."
   ]
  },
  {
   "cell_type": "code",
   "execution_count": null,
   "id": "05c1cc09-8a9e-465d-be52-841ea400348b",
   "metadata": {},
   "outputs": [
    {
     "name": "stdout",
     "output_type": "stream",
     "text": [
      "pad_constant=3\n"
     ]
    }
   ],
   "source": [
    "try:    pad_constant = pipeline.params_config(\"\")[\"add_config\"][\"dataset\"][\"params\"][\"pad_constant\"]  #can NOT be 0 (empty token)! and not any other gate!\n",
    "except: pad_constant = len(qc_Config_Dataset.gate_pool)+1\n",
    "    \n",
    "print(f\"{pad_constant=}\")"
   ]
  },
  {
   "cell_type": "code",
   "execution_count": null,
   "id": "6102f426-51a7-4989-badd-2805596d4767",
   "metadata": {},
   "outputs": [
    {
     "data": {
      "application/vnd.jupyter.widget-view+json": {
       "model_id": "4aaea36d169b48a39cffb3fd01656929",
       "version_major": 2,
       "version_minor": 0
      },
      "text/plain": [
       "  0%|          | 0/1 [00:00<?, ?it/s]"
      ]
     },
     "metadata": {},
     "output_type": "display_data"
    },
    {
     "name": "stdout",
     "output_type": "stream",
     "text": [
      " - dataset size after balancing 100\n"
     ]
    }
   ],
   "source": [
    "dataset_list = [qc_Config_Dataset]                  # what datasets to combine\n",
    "\n",
    "parameters   = asdict(qc_Config_Dataset.params_config)\n",
    "parameters[\"num_down_scales\"] = 3                   # defined by the down-scale layers of the UNet\n",
    "\n",
    "mixed_dataset = Mixed_Cached_OpenClip_Dataset.from_datasets(dataset_list,                 \n",
    "                 balance_maxes=[1e8],          # what the maximum prompt (y) balance limit is, can be used to balance SRVs for different qubit numbers                                      \n",
    "                 pad_constant=pad_constant,\n",
    "                 device=device, \n",
    "                 bucket_batch_size=-1,         # if we use bucket padding\n",
    "                 max_samples=[1e8],            # if we want to limit the sizes of the dataset_list \n",
    "                 **parameters)"
   ]
  },
  {
   "cell_type": "markdown",
   "id": "5e8ad51c-a2ec-44a6-b30e-3233738e2074",
   "metadata": {},
   "source": [
    "Let's see what we are training on:"
   ]
  },
  {
   "cell_type": "code",
   "execution_count": null,
   "id": "8c63d097-98cd-4c08-819c-814bd090b81c",
   "metadata": {},
   "outputs": [
    {
     "data": {
      "image/png": "[encoded data removed]",
      "text/plain": [
       "<Figure size 1200x360 with 2 Axes>"
      ]
     },
     "metadata": {},
     "output_type": "display_data"
    }
   ],
   "source": [
    "fig, axs = plt.subplots(1, 2, figsize=(12, 3.6), squeeze=False, constrained_layout=True)  \n",
    "plt.sca(axs[0, 0])\n",
    "plt.xlabel(r\"$s$\")\n",
    "plt.title(\"Dist of space\")\n",
    "min_q, max_q = min(d.num_of_qubits for d in dataset_list), max(d.num_of_qubits for d in dataset_list)\n",
    "data = mixed_dataset.z[:, 0].cpu() \n",
    "plt.hist(data, bins=np.arange(min_q, max_q+2) - 0.5, rwidth=0.9)\n",
    "\n",
    "plt.sca(axs[0, 1])\n",
    "plt.xlabel(r\"$t$\")\n",
    "plt.title(\"Dist of time\")\n",
    "min_g, max_g = min(d.min_gates for d in dataset_list), max(d.max_gates for d in dataset_list)\n",
    "data = mixed_dataset.z[:, 1].cpu()\n",
    "plt.hist(data, bins=np.arange(min_g, max_g+2) - 0.5, rwidth=0.9)\n",
    "\n",
    "plt.show()"
   ]
  },
  {
   "cell_type": "markdown",
   "id": "0cda8408-1aa7-49a4-8628-0dfc8cf35b1d",
   "metadata": {},
   "source": [
    "Finally, we can create the dataloader used by the `DiffusionPipeline.fit()` funtion. This also caches all our prompts."
   ]
  },
  {
   "cell_type": "code",
   "execution_count": null,
   "id": "ec9b63c0-a92d-416f-994b-ea1ef6fae0c7",
   "metadata": {},
   "outputs": [
    {
     "name": "stdout",
     "output_type": "stream",
     "text": [
      "[INFO]: `genQC.models.unet_qc.QC_Cond_UNet` instantiated from given config on cuda.\n",
      "[INFO]: `genQC.models.frozen_open_clip.CachedFrozenOpenCLIPEmbedder` instantiated from given config on cuda.\n",
      "[INFO]: `genQC.models.frozen_open_clip.CachedFrozenOpenCLIPEmbedder`. No save_path` provided. No state dict loaded.\n",
      "[INFO]: Not balancing dataset!  balance_max=None\n",
      "[INFO]: Generate cache: converting tensors to str and tokenize\n",
      " - to str list\n",
      " - tokenize_and_push_to_device\n",
      " - generate_cache\n"
     ]
    },
    {
     "data": {
      "application/vnd.jupyter.widget-view+json": {
       "model_id": "35718baaaca440a0998ed013da98507b",
       "version_major": 2,
       "version_minor": 0
      },
      "text/plain": [
       "  0%|          | 0/1 [00:00<?, ?it/s]"
      ]
     },
     "metadata": {},
     "output_type": "display_data"
    },
    {
     "name": "stdout",
     "output_type": "stream",
     "text": [
      "[INFO]: caching trying to allocate memory (47, 77, 512) on cuda approx. 0.007 GB\n",
      "[INFO]: Generated cache\n"
     ]
    }
   ],
   "source": [
    "tuned_pipeline = get_preTrained_pipeline()  # load a fresh pre-trained model we want to train\n",
    "\n",
    "dataloaders = mixed_dataset.get_dataloaders(batch_size=16, text_encoder=tuned_pipeline.text_encoder.to(device), y_on_cpu=False)  # you can set y_on_cpu=True if you run out of device mem"
   ]
  },
  {
   "cell_type": "markdown",
   "id": "63ab9562-ea8a-478b-9590-077536393041",
   "metadata": {},
   "source": [
    "## Fine-tune"
   ]
  },
  {
   "cell_type": "markdown",
   "id": "65123d1d-e8e5-4b54-9eea-f84161b149c0",
   "metadata": {},
   "source": [
    "We have the dataloader object created and can start fine-tuning. Note, we just use all the diffusion scheduler parameters from the pre-trained config we loaded. "
   ]
  },
  {
   "cell_type": "code",
   "execution_count": null,
   "id": "ddb86cfc-d632-412c-817d-69f2225a071b",
   "metadata": {},
   "outputs": [],
   "source": [
    "tuned_pipeline.add_config[\"dataset\"] = mixed_dataset.get_config()   # add meta-data of dataset to save it with pipeline\n",
    "tuned_pipeline.compile(torch.optim.Adam, nn.MSELoss)"
   ]
  },
  {
   "cell_type": "code",
   "execution_count": null,
   "id": "11fd72ce-67ea-4741-bcfb-efbd108dd351",
   "metadata": {},
   "outputs": [
    {
     "data": {
      "application/vnd.jupyter.widget-view+json": {
       "model_id": "8677948b7c7b40a391a69827d8085a23",
       "version_major": 2,
       "version_minor": 0
      },
      "text/plain": [
       "Fit:   0%|          | 0/25 [00:00<?, ? epoch/s]"
      ]
     },
     "metadata": {},
     "output_type": "display_data"
    },
    {
     "data": {
      "application/vnd.jupyter.widget-view+json": {
       "model_id": "37751090453e45a7bc7f94318a3c8a92",
       "version_major": 2,
       "version_minor": 0
      },
      "text/plain": [
       "Epoch 0:   0%|          | 0/6 [00:00<?, ? batch/s]"
      ]
     },
     "metadata": {},
     "output_type": "display_data"
    },
    {
     "data": {
      "application/vnd.jupyter.widget-view+json": {
       "model_id": "af928d1b78794a7e82e62f0c5273ecf7",
       "version_major": 2,
       "version_minor": 0
      },
      "text/plain": [
       "Epoch 0:   0%|          | 0/1 [00:00<?, ? batch/s]"
      ]
     },
     "metadata": {},
     "output_type": "display_data"
    },
    {
     "data": {
      "application/vnd.jupyter.widget-view+json": {
       "model_id": "6659c5fdb34141489028aab8f2dc0686",
       "version_major": 2,
       "version_minor": 0
      },
      "text/plain": [
       "Epoch 1:   0%|          | 0/6 [00:00<?, ? batch/s]"
      ]
     },
     "metadata": {},
     "output_type": "display_data"
    },
    {
     "data": {
      "application/vnd.jupyter.widget-view+json": {
       "model_id": "d05b48968e8e4206918ea3dbb883d9d6",
       "version_major": 2,
       "version_minor": 0
      },
      "text/plain": [
       "Epoch 1:   0%|          | 0/1 [00:00<?, ? batch/s]"
      ]
     },
     "metadata": {},
     "output_type": "display_data"
    },
    {
     "data": {
      "application/vnd.jupyter.widget-view+json": {
       "model_id": "73ea6990d6aa4468bfefd781e1dd858f",
       "version_major": 2,
       "version_minor": 0
      },
      "text/plain": [
       "Epoch 2:   0%|          | 0/6 [00:00<?, ? batch/s]"
      ]
     },
     "metadata": {},
     "output_type": "display_data"
    },
    {
     "data": {
      "application/vnd.jupyter.widget-view+json": {
       "model_id": "a74b6b970bb5491a830417556046393c",
       "version_major": 2,
       "version_minor": 0
      },
      "text/plain": [
       "Epoch 2:   0%|          | 0/1 [00:00<?, ? batch/s]"
      ]
     },
     "metadata": {},
     "output_type": "display_data"
    },
    {
     "data": {
      "application/vnd.jupyter.widget-view+json": {
       "model_id": "f9ec2ef42af240358bc8be76b89c400d",
       "version_major": 2,
       "version_minor": 0
      },
      "text/plain": [
       "Epoch 3:   0%|          | 0/6 [00:00<?, ? batch/s]"
      ]
     },
     "metadata": {},
     "output_type": "display_data"
    },
    {
     "data": {
      "application/vnd.jupyter.widget-view+json": {
       "model_id": "8b190ab72fea4b3b832033b1fccac8fb",
       "version_major": 2,
       "version_minor": 0
      },
      "text/plain": [
       "Epoch 3:   0%|          | 0/1 [00:00<?, ? batch/s]"
      ]
     },
     "metadata": {},
     "output_type": "display_data"
    },
    {
     "data": {
      "application/vnd.jupyter.widget-view+json": {
       "model_id": "46ecd64de37d4325bcb1821c4758877e",
       "version_major": 2,
       "version_minor": 0
      },
      "text/plain": [
       "Epoch 4:   0%|          | 0/6 [00:00<?, ? batch/s]"
      ]
     },
     "metadata": {},
     "output_type": "display_data"
    },
    {
     "data": {
      "application/vnd.jupyter.widget-view+json": {
       "model_id": "87ab5aaed05447c299142aa1997d3320",
       "version_major": 2,
       "version_minor": 0
      },
      "text/plain": [
       "Epoch 4:   0%|          | 0/1 [00:00<?, ? batch/s]"
      ]
     },
     "metadata": {},
     "output_type": "display_data"
    },
    {
     "data": {
      "application/vnd.jupyter.widget-view+json": {
       "model_id": "c73eb7f291f94fa69ff30797ca57203e",
       "version_major": 2,
       "version_minor": 0
      },
      "text/plain": [
       "Epoch 5:   0%|          | 0/6 [00:00<?, ? batch/s]"
      ]
     },
     "metadata": {},
     "output_type": "display_data"
    },
    {
     "data": {
      "application/vnd.jupyter.widget-view+json": {
       "model_id": "ed0f029e99eb4c13b21b2eac7bb5b852",
       "version_major": 2,
       "version_minor": 0
      },
      "text/plain": [
       "Epoch 5:   0%|          | 0/1 [00:00<?, ? batch/s]"
      ]
     },
     "metadata": {},
     "output_type": "display_data"
    },
    {
     "data": {
      "application/vnd.jupyter.widget-view+json": {
       "model_id": "c7381d800e6c4b658f9e090128d6cdfa",
       "version_major": 2,
       "version_minor": 0
      },
      "text/plain": [
       "Epoch 6:   0%|          | 0/6 [00:00<?, ? batch/s]"
      ]
     },
     "metadata": {},
     "output_type": "display_data"
    },
    {
     "data": {
      "application/vnd.jupyter.widget-view+json": {
       "model_id": "8371cb34d1ff4604b034f21fb5dd173d",
       "version_major": 2,
       "version_minor": 0
      },
      "text/plain": [
       "Epoch 6:   0%|          | 0/1 [00:00<?, ? batch/s]"
      ]
     },
     "metadata": {},
     "output_type": "display_data"
    },
    {
     "data": {
      "application/vnd.jupyter.widget-view+json": {
       "model_id": "478d577a07d64094bc5e5acffbc0a3df",
       "version_major": 2,
       "version_minor": 0
      },
      "text/plain": [
       "Epoch 7:   0%|          | 0/6 [00:00<?, ? batch/s]"
      ]
     },
     "metadata": {},
     "output_type": "display_data"
    },
    {
     "data": {
      "application/vnd.jupyter.widget-view+json": {
       "model_id": "b250c7655d7745e7881ed07c53b85594",
       "version_major": 2,
       "version_minor": 0
      },
      "text/plain": [
       "Epoch 7:   0%|          | 0/1 [00:00<?, ? batch/s]"
      ]
     },
     "metadata": {},
     "output_type": "display_data"
    },
    {
     "data": {
      "application/vnd.jupyter.widget-view+json": {
       "model_id": "0f5f64ce67f2422686b918eec674e553",
       "version_major": 2,
       "version_minor": 0
      },
      "text/plain": [
       "Epoch 8:   0%|          | 0/6 [00:00<?, ? batch/s]"
      ]
     },
     "metadata": {},
     "output_type": "display_data"
    },
    {
     "data": {
      "application/vnd.jupyter.widget-view+json": {
       "model_id": "2136b9adac99475ca6aa260edf2a54d5",
       "version_major": 2,
       "version_minor": 0
      },
      "text/plain": [
       "Epoch 8:   0%|          | 0/1 [00:00<?, ? batch/s]"
      ]
     },
     "metadata": {},
     "output_type": "display_data"
    },
    {
     "data": {
      "application/vnd.jupyter.widget-view+json": {
       "model_id": "4560479f57824349b50b6a9f1fbaa0af",
       "version_major": 2,
       "version_minor": 0
      },
      "text/plain": [
       "Epoch 9:   0%|          | 0/6 [00:00<?, ? batch/s]"
      ]
     },
     "metadata": {},
     "output_type": "display_data"
    },
    {
     "data": {
      "application/vnd.jupyter.widget-view+json": {
       "model_id": "f6874cdec9264dc2aa59df8ce539e4f3",
       "version_major": 2,
       "version_minor": 0
      },
      "text/plain": [
       "Epoch 9:   0%|          | 0/1 [00:00<?, ? batch/s]"
      ]
     },
     "metadata": {},
     "output_type": "display_data"
    },
    {
     "data": {
      "application/vnd.jupyter.widget-view+json": {
       "model_id": "c6a38c6dfe5b417a91352dec79166939",
       "version_major": 2,
       "version_minor": 0
      },
      "text/plain": [
       "Epoch 10:   0%|          | 0/6 [00:00<?, ? batch/s]"
      ]
     },
     "metadata": {},
     "output_type": "display_data"
    },
    {
     "data": {
      "application/vnd.jupyter.widget-view+json": {
       "model_id": "fab644d4259e4f96a0a1616836fdbfb1",
       "version_major": 2,
       "version_minor": 0
      },
      "text/plain": [
       "Epoch 10:   0%|          | 0/1 [00:00<?, ? batch/s]"
      ]
     },
     "metadata": {},
     "output_type": "display_data"
    },
    {
     "data": {
      "application/vnd.jupyter.widget-view+json": {
       "model_id": "4eaa3c6987084b0a87ee9b50c62c2ac0",
       "version_major": 2,
       "version_minor": 0
      },
      "text/plain": [
       "Epoch 11:   0%|          | 0/6 [00:00<?, ? batch/s]"
      ]
     },
     "metadata": {},
     "output_type": "display_data"
    },
    {
     "data": {
      "application/vnd.jupyter.widget-view+json": {
       "model_id": "41cbd97c4a4d4601abfb235c7b0d6918",
       "version_major": 2,
       "version_minor": 0
      },
      "text/plain": [
       "Epoch 11:   0%|          | 0/1 [00:00<?, ? batch/s]"
      ]
     },
     "metadata": {},
     "output_type": "display_data"
    },
    {
     "data": {
      "application/vnd.jupyter.widget-view+json": {
       "model_id": "c40502a859094931a9ec5f698ea19ecf",
       "version_major": 2,
       "version_minor": 0
      },
      "text/plain": [
       "Epoch 12:   0%|          | 0/6 [00:00<?, ? batch/s]"
      ]
     },
     "metadata": {},
     "output_type": "display_data"
    },
    {
     "data": {
      "application/vnd.jupyter.widget-view+json": {
       "model_id": "a42e376688af4a538723d7e3ad4e00aa",
       "version_major": 2,
       "version_minor": 0
      },
      "text/plain": [
       "Epoch 12:   0%|          | 0/1 [00:00<?, ? batch/s]"
      ]
     },
     "metadata": {},
     "output_type": "display_data"
    },
    {
     "data": {
      "application/vnd.jupyter.widget-view+json": {
       "model_id": "11aabc1d2e6a473cad81cd22ec05ebfb",
       "version_major": 2,
       "version_minor": 0
      },
      "text/plain": [
       "Epoch 13:   0%|          | 0/6 [00:00<?, ? batch/s]"
      ]
     },
     "metadata": {},
     "output_type": "display_data"
    },
    {
     "data": {
      "application/vnd.jupyter.widget-view+json": {
       "model_id": "2576665c2e9f4629a911e9482c95a1de",
       "version_major": 2,
       "version_minor": 0
      },
      "text/plain": [
       "Epoch 13:   0%|          | 0/1 [00:00<?, ? batch/s]"
      ]
     },
     "metadata": {},
     "output_type": "display_data"
    },
    {
     "data": {
      "application/vnd.jupyter.widget-view+json": {
       "model_id": "786d49090efd4da6b479f6226180544d",
       "version_major": 2,
       "version_minor": 0
      },
      "text/plain": [
       "Epoch 14:   0%|          | 0/6 [00:00<?, ? batch/s]"
      ]
     },
     "metadata": {},
     "output_type": "display_data"
    },
    {
     "data": {
      "application/vnd.jupyter.widget-view+json": {
       "model_id": "5de308cc26794f3d84ffad304610f3b1",
       "version_major": 2,
       "version_minor": 0
      },
      "text/plain": [
       "Epoch 14:   0%|          | 0/1 [00:00<?, ? batch/s]"
      ]
     },
     "metadata": {},
     "output_type": "display_data"
    },
    {
     "data": {
      "application/vnd.jupyter.widget-view+json": {
       "model_id": "70a144ba057746dd87d32ae5bc5a068a",
       "version_major": 2,
       "version_minor": 0
      },
      "text/plain": [
       "Epoch 15:   0%|          | 0/6 [00:00<?, ? batch/s]"
      ]
     },
     "metadata": {},
     "output_type": "display_data"
    },
    {
     "data": {
      "application/vnd.jupyter.widget-view+json": {
       "model_id": "f279842e4c7c492a8fbaa3dd5bf24226",
       "version_major": 2,
       "version_minor": 0
      },
      "text/plain": [
       "Epoch 15:   0%|          | 0/1 [00:00<?, ? batch/s]"
      ]
     },
     "metadata": {},
     "output_type": "display_data"
    },
    {
     "data": {
      "application/vnd.jupyter.widget-view+json": {
       "model_id": "19f8565bad7e47eabaffbbd8e08abc42",
       "version_major": 2,
       "version_minor": 0
      },
      "text/plain": [
       "Epoch 16:   0%|          | 0/6 [00:00<?, ? batch/s]"
      ]
     },
     "metadata": {},
     "output_type": "display_data"
    },
    {
     "data": {
      "application/vnd.jupyter.widget-view+json": {
       "model_id": "659aec1c187441daba41dcd43be8b1a3",
       "version_major": 2,
       "version_minor": 0
      },
      "text/plain": [
       "Epoch 16:   0%|          | 0/1 [00:00<?, ? batch/s]"
      ]
     },
     "metadata": {},
     "output_type": "display_data"
    },
    {
     "data": {
      "application/vnd.jupyter.widget-view+json": {
       "model_id": "ce69154fc4584eda9e44c5f99a0e32a6",
       "version_major": 2,
       "version_minor": 0
      },
      "text/plain": [
       "Epoch 17:   0%|          | 0/6 [00:00<?, ? batch/s]"
      ]
     },
     "metadata": {},
     "output_type": "display_data"
    },
    {
     "data": {
      "application/vnd.jupyter.widget-view+json": {
       "model_id": "37b3e284cff747cf9b2954d6a49f3066",
       "version_major": 2,
       "version_minor": 0
      },
      "text/plain": [
       "Epoch 17:   0%|          | 0/1 [00:00<?, ? batch/s]"
      ]
     },
     "metadata": {},
     "output_type": "display_data"
    },
    {
     "data": {
      "application/vnd.jupyter.widget-view+json": {
       "model_id": "1b2c4c07647549ac8f01e60a66aebcb1",
       "version_major": 2,
       "version_minor": 0
      },
      "text/plain": [
       "Epoch 18:   0%|          | 0/6 [00:00<?, ? batch/s]"
      ]
     },
     "metadata": {},
     "output_type": "display_data"
    },
    {
     "data": {
      "application/vnd.jupyter.widget-view+json": {
       "model_id": "cffee810588443de81d599b707ab2170",
       "version_major": 2,
       "version_minor": 0
      },
      "text/plain": [
       "Epoch 18:   0%|          | 0/1 [00:00<?, ? batch/s]"
      ]
     },
     "metadata": {},
     "output_type": "display_data"
    },
    {
     "data": {
      "application/vnd.jupyter.widget-view+json": {
       "model_id": "5be01346175b4c23b08b005126740f60",
       "version_major": 2,
       "version_minor": 0
      },
      "text/plain": [
       "Epoch 19:   0%|          | 0/6 [00:00<?, ? batch/s]"
      ]
     },
     "metadata": {},
     "output_type": "display_data"
    },
    {
     "data": {
      "application/vnd.jupyter.widget-view+json": {
       "model_id": "dee77247cc114e639ba99cd8010dcf51",
       "version_major": 2,
       "version_minor": 0
      },
      "text/plain": [
       "Epoch 19:   0%|          | 0/1 [00:00<?, ? batch/s]"
      ]
     },
     "metadata": {},
     "output_type": "display_data"
    },
    {
     "data": {
      "application/vnd.jupyter.widget-view+json": {
       "model_id": "17a0fa0241904bd98f1216c6bb37837d",
       "version_major": 2,
       "version_minor": 0
      },
      "text/plain": [
       "Epoch 20:   0%|          | 0/6 [00:00<?, ? batch/s]"
      ]
     },
     "metadata": {},
     "output_type": "display_data"
    },
    {
     "data": {
      "application/vnd.jupyter.widget-view+json": {
       "model_id": "1b84552c2238435b9c740d9b831479c4",
       "version_major": 2,
       "version_minor": 0
      },
      "text/plain": [
       "Epoch 20:   0%|          | 0/1 [00:00<?, ? batch/s]"
      ]
     },
     "metadata": {},
     "output_type": "display_data"
    },
    {
     "data": {
      "application/vnd.jupyter.widget-view+json": {
       "model_id": "3fa1f9333f944d33bb418e2b0bf96b33",
       "version_major": 2,
       "version_minor": 0
      },
      "text/plain": [
       "Epoch 21:   0%|          | 0/6 [00:00<?, ? batch/s]"
      ]
     },
     "metadata": {},
     "output_type": "display_data"
    },
    {
     "data": {
      "application/vnd.jupyter.widget-view+json": {
       "model_id": "91b3d03613a849eca507a99778bf934f",
       "version_major": 2,
       "version_minor": 0
      },
      "text/plain": [
       "Epoch 21:   0%|          | 0/1 [00:00<?, ? batch/s]"
      ]
     },
     "metadata": {},
     "output_type": "display_data"
    },
    {
     "data": {
      "application/vnd.jupyter.widget-view+json": {
       "model_id": "3ff60124a4824fdf94e66b0b156dc3a4",
       "version_major": 2,
       "version_minor": 0
      },
      "text/plain": [
       "Epoch 22:   0%|          | 0/6 [00:00<?, ? batch/s]"
      ]
     },
     "metadata": {},
     "output_type": "display_data"
    },
    {
     "data": {
      "application/vnd.jupyter.widget-view+json": {
       "model_id": "296bd65ea8ef48d5b0397b492527f328",
       "version_major": 2,
       "version_minor": 0
      },
      "text/plain": [
       "Epoch 22:   0%|          | 0/1 [00:00<?, ? batch/s]"
      ]
     },
     "metadata": {},
     "output_type": "display_data"
    },
    {
     "data": {
      "application/vnd.jupyter.widget-view+json": {
       "model_id": "3131d3ad752a47728bc5f60fd69c6ff4",
       "version_major": 2,
       "version_minor": 0
      },
      "text/plain": [
       "Epoch 23:   0%|          | 0/6 [00:00<?, ? batch/s]"
      ]
     },
     "metadata": {},
     "output_type": "display_data"
    },
    {
     "data": {
      "application/vnd.jupyter.widget-view+json": {
       "model_id": "f3a85f968e7c4a11840a743342ba8a0a",
       "version_major": 2,
       "version_minor": 0
      },
      "text/plain": [
       "Epoch 23:   0%|          | 0/1 [00:00<?, ? batch/s]"
      ]
     },
     "metadata": {},
     "output_type": "display_data"
    },
    {
     "data": {
      "application/vnd.jupyter.widget-view+json": {
       "model_id": "3c76c93bb0164a7186cf6c4d020e3caf",
       "version_major": 2,
       "version_minor": 0
      },
      "text/plain": [
       "Epoch 24:   0%|          | 0/6 [00:00<?, ? batch/s]"
      ]
     },
     "metadata": {},
     "output_type": "display_data"
    },
    {
     "data": {
      "application/vnd.jupyter.widget-view+json": {
       "model_id": "fb7e5452624e43529bd29b9675cb6519",
       "version_major": 2,
       "version_minor": 0
      },
      "text/plain": [
       "Epoch 24:   0%|          | 0/1 [00:00<?, ? batch/s]"
      ]
     },
     "metadata": {},
     "output_type": "display_data"
    },
    {
     "data": {
      "image/png": "[encoded data removed]",
      "text/plain": [
       "<Figure size 1200x200 with 1 Axes>"
      ]
     },
     "metadata": {},
     "output_type": "display_data"
    }
   ],
   "source": [
    "epochs = 25      # how many epochs we train on our 9bit dataset\n",
    "lr     = 5e-5    # learn rate\n",
    "\n",
    "sched = functools.partial(torch.optim.lr_scheduler.OneCycleLR, max_lr=lr, total_steps=epochs*len(dataloaders.train))\n",
    "tuned_pipeline.fit(epochs, dataloaders, lr=lr, lr_sched=sched)"
   ]
  },
  {
   "cell_type": "markdown",
   "id": "6920a9c9-0038-4d3c-a061-26cb9235a4fe",
   "metadata": {},
   "source": [
    "If you want you can save the tuned pipeline with:\n",
    "\n",
    "```python\n",
    "store_dir = f\"../../saves/fine_tuned_on_9bits/\"\n",
    "\n",
    "tuned_pipeline.store_pipeline(config_path=store_dir, save_path=store_dir)\n",
    "```\n",
    "\n",
    "and load it again with the usual:\n",
    "\n",
    "```python\n",
    "tuned_pipeline = DiffusionPipeline.from_config_file(model_path, device)  \n",
    "```"
   ]
  },
  {
   "cell_type": "markdown",
   "id": "65acff8f-8486-42c9-8e78-b44f31de568b",
   "metadata": {},
   "source": [
    "## Generate 9 qubit circuits fine-tuned"
   ]
  },
  {
   "cell_type": "markdown",
   "id": "6e2d0aa4-343d-4f78-81de-f114b0a8333e",
   "metadata": {},
   "source": [
    "Test again to create a 9 qubit SRV as we did at the start but with the tuned model:"
   ]
  },
  {
   "cell_type": "code",
   "execution_count": null,
   "id": "c6879131-3e29-4f5e-a5da-9e43d33cddcc",
   "metadata": {},
   "outputs": [
    {
     "data": {
      "text/plain": [
       "'Generate SRV: [2, 2, 2, 1, 1, 1, 1, 1, 2]'"
      ]
     },
     "execution_count": null,
     "metadata": {},
     "output_type": "execute_result"
    }
   ],
   "source": [
    "prompt"
   ]
  },
  {
   "cell_type": "code",
   "execution_count": null,
   "id": "f1c82de5-3645-403b-a54e-5185860b0f7c",
   "metadata": {},
   "outputs": [
    {
     "data": {
      "application/vnd.jupyter.widget-view+json": {
       "model_id": "f867dd42b162435b846be378925dccdf",
       "version_major": 2,
       "version_minor": 0
      },
      "text/plain": [
       "  0%|          | 0/20 [00:00<?, ?it/s]"
      ]
     },
     "metadata": {},
     "output_type": "display_data"
    },
    {
     "name": "stdout",
     "output_type": "stream",
     "text": [
      "[INFO]: (generate_srv_tensors) Generated 512 tensors\n",
      "Not valid error circuits: 6 out of 512\n"
     ]
    }
   ],
   "source": [
    "g         = 7.5     # guidance scale\n",
    "max_gates = 16      # how many time steps the tensor encoding has\n",
    "samples   = 512     # how many circuits to generate\n",
    "\n",
    "tuned_pipeline.guidance_sample_mode = \"rescaled\"\n",
    "tuned_pipeline.scheduler.set_timesteps(20) \n",
    "\n",
    "out_tensor                   = infer_srv.generate_srv_tensors(tuned_pipeline, prompt, samples, num_of_qubits, num_of_qubits, max_gates, g, no_bar=False) \n",
    "qc_list, error_cnt, srv_list = infer_srv.convert_tensors_to_srvs(out_tensor, tuned_pipeline.gate_pool) # may take a moment, has to compute partial traces over (2^9)x(2^9) density matrices\n",
    "print(f\"Not valid error circuits: {error_cnt} out of {samples}\")"
   ]
  },
  {
   "cell_type": "code",
   "execution_count": null,
   "id": "1cf638ca-0513-4d82-8fa3-cac6deaaeb8f",
   "metadata": {},
   "outputs": [
    {
     "name": "stdout",
     "output_type": "stream",
     "text": [
      "Accuracy on requested 9 qubit SRV=[2, 2, 2, 1, 1, 1, 1, 1, 2]: \n",
      " - with a model trained only on 3 to 8 qubits qcs: 0.02 \n",
      " - and with fine-tuning on 9 qubit qcs: 0.08\n"
     ]
    }
   ],
   "source": [
    "tuned_acc = infer_srv.get_srv_accuracy(srv_list, srv)\n",
    "print(f\"Accuracy on requested {len(srv)} qubit SRV={srv}: \\n - with a model trained only on 3 to 8 qubits qcs: {acc:.2f} \\n - and with fine-tuning on 9 qubit qcs: {tuned_acc:.2f}\")  "
   ]
  },
  {
   "cell_type": "code",
   "execution_count": null,
   "id": "0ff55537-157f-4508-ad51-b2450b40e534",
   "metadata": {},
   "outputs": [],
   "source": []
  }
 ],
 "metadata": {
  "kernelspec": {
   "display_name": "python3",
   "language": "python",
   "name": "python3"
  },
  "widgets": {
   "application/vnd.jupyter.widget-state+json": {
    "state": {
     "0029a4035b87412aa65a2f8910ad7a2d": {
      "model_module": "@jupyter-widgets/controls",
      "model_module_version": "2.0.0",
      "model_name": "ProgressStyleModel",
      "state": {
       "description_width": ""
      }
     },
     "0041dc7875094d7cb1885f0961864470": {
      "model_module": "@jupyter-widgets/controls",
      "model_module_version": "2.0.0",
      "model_name": "ProgressStyleModel",
      "state": {
       "description_width": ""
      }
     },
     "00a761a634454b31b6e5bd327ebeea70": {
      "model_module": "@jupyter-widgets/base",
      "model_module_version": "2.0.0",
      "model_name": "LayoutModel",
      "state": {}
     },
     "0157f530118d422892ac49b3ef0cdff2": {
      "model_module": "@jupyter-widgets/controls",
      "model_module_version": "2.0.0",
      "model_name": "ProgressStyleModel",
      "state": {
       "description_width": ""
      }
     },
     "022c143e8b6c46279d4172f30dafe5b7": {
      "model_module": "@jupyter-widgets/controls",
      "model_module_version": "2.0.0",
      "model_name": "HTMLStyleModel",
      "state": {
       "description_width": "",
       "font_size": null,
       "text_color": null
      }
     },
     "0251da0b88914dbcb9410fc86680777c": {
      "model_module": "@jupyter-widgets/base",
      "model_module_version": "2.0.0",
      "model_name": "LayoutModel",
      "state": {}
     },
     "02834ae55c094df0ab7908beef9832a7": {
      "model_module": "@jupyter-widgets/base",
      "model_module_version": "2.0.0",
      "model_name": "LayoutModel",
      "state": {}
     },
     "0290bc14915847ffb7c5d7f68a5aee41": {
      "model_module": "@jupyter-widgets/controls",
      "model_module_version": "2.0.0",
      "model_name": "HTMLModel",
      "state": {
       "layout": "IPY_MODEL_27ca24878d094c6dbfb7f6ede6d48797",
       "style": "IPY_MODEL_398ca14a15344a8a85d277b8efa3f3ae",
       "value": "Epoch 8: 100%"
      }
     },
     "02d28f125c7b45959833ca9c040f9984": {
      "model_module": "@jupyter-widgets/controls",
      "model_module_version": "2.0.0",
      "model_name": "HTMLStyleModel",
      "state": {
       "description_width": "",
       "font_size": null,
       "text_color": null
      }
     },
     "02e226c1dd6d4cc1b5ca6b90ed7331ad": {
      "model_module": "@jupyter-widgets/base",
      "model_module_version": "2.0.0",
      "model_name": "LayoutModel",
      "state": {}
     },
     "0360d321ccd24896aa5fb26509794c3a": {
      "model_module": "@jupyter-widgets/base",
      "model_module_version": "2.0.0",
      "model_name": "LayoutModel",
      "state": {}
     },
     "0427f6154a0a4482b9a2e36701237da8": {
      "model_module": "@jupyter-widgets/base",
      "model_module_version": "2.0.0",
      "model_name": "LayoutModel",
      "state": {}
     },
     "0436fdedf6b3494f96b4777296431a43": {
      "model_module": "@jupyter-widgets/base",
      "model_module_version": "2.0.0",
      "model_name": "LayoutModel",
      "state": {}
     },
     "050b990f2bb74de8b52960da4b73c463": {
      "model_module": "@jupyter-widgets/controls",
      "model_module_version": "2.0.0",
      "model_name": "ProgressStyleModel",
      "state": {
       "description_width": ""
      }
     },
     "0581fae2faa44c40b40877fb616470ba": {
      "model_module": "@jupyter-widgets/base",
      "model_module_version": "2.0.0",
      "model_name": "LayoutModel",
      "state": {}
     },
     "058654e768cb45e7be3048a0c9e3c0ff": {
      "model_module": "@jupyter-widgets/controls",
      "model_module_version": "2.0.0",
      "model_name": "ProgressStyleModel",
      "state": {
       "description_width": ""
      }
     },
     "05ac1249f9c645d781390d7261a6f5b9": {
      "model_module": "@jupyter-widgets/controls",
      "model_module_version": "2.0.0",
      "model_name": "FloatProgressModel",
      "state": {
       "bar_style": "success",
       "layout": "IPY_MODEL_25583e7593604fed9a3076e9bb32a8e2",
       "max": 6,
       "style": "IPY_MODEL_6631db68be13423e87b39a35d1f24957",
       "value": 6
      }
     },
     "05ac865052a04e4e886c350aa43891d9": {
      "model_module": "@jupyter-widgets/base",
      "model_module_version": "2.0.0",
      "model_name": "LayoutModel",
      "state": {}
     },
     "0600e4400227420d929758d7f52afb9c": {
      "model_module": "@jupyter-widgets/controls",
      "model_module_version": "2.0.0",
      "model_name": "HTMLModel",
      "state": {
       "layout": "IPY_MODEL_1b10b43254cf4b6ea605ccce925a8fe9",
       "style": "IPY_MODEL_99ba826477cf4101b2d886ade6abe695",
       "value": " 20/20 [00:02&lt;00:00,  7.36it/s]"
      }
     },
     "06f9570317814ccb879ba2b8e2f53eb1": {
      "model_module": "@jupyter-widgets/base",
      "model_module_version": "2.0.0",
      "model_name": "LayoutModel",
      "state": {}
     },
     "08f90e1007834e3a8d36eb153a7280a5": {
      "model_module": "@jupyter-widgets/base",
      "model_module_version": "2.0.0",
      "model_name": "LayoutModel",
      "state": {}
     },
     "093d888b7e5946078cc0300dc95a04ef": {
      "model_module": "@jupyter-widgets/base",
      "model_module_version": "2.0.0",
      "model_name": "LayoutModel",
      "state": {}
     },
     "09c7ce2345c84ef4b138574a781e99cb": {
      "model_module": "@jupyter-widgets/controls",
      "model_module_version": "2.0.0",
      "model_name": "HTMLModel",
      "state": {
       "layout": "IPY_MODEL_84704c523fd94cd0adacb8bb50228675",
       "style": "IPY_MODEL_b6e722054d024c91b693816ffdd8c089",
       "value": " 1/1 [00:00&lt;00:00, 37.01 batch/s, loss=0.0231, loss_valid=0.016]"
      }
     },
     "09df9879d50a4ea982f73d1286adfbf8": {
      "model_module": "@jupyter-widgets/controls",
      "model_module_version": "2.0.0",
      "model_name": "HTMLStyleModel",
      "state": {
       "description_width": "",
       "font_size": null,
       "text_color": null
      }
     },
     "09f196d9a353439c823bd007d4b04dcf": {
      "model_module": "@jupyter-widgets/base",
      "model_module_version": "2.0.0",
      "model_name": "LayoutModel",
      "state": {}
     },
     "0a38693a216c49f9921ed128644c0604": {
      "model_module": "@jupyter-widgets/controls",
      "model_module_version": "2.0.0",
      "model_name": "ProgressStyleModel",
      "state": {
       "description_width": ""
      }
     },
     "0aee4b3b8a2d4ea9b33454f34fe58962": {
      "model_module": "@jupyter-widgets/base",
      "model_module_version": "2.0.0",
      "model_name": "LayoutModel",
      "state": {}
     },
     "0b1f7d86141e42c59f8b839e2362616f": {
      "model_module": "@jupyter-widgets/controls",
      "model_module_version": "2.0.0",
      "model_name": "HTMLStyleModel",
      "state": {
       "description_width": "",
       "font_size": null,
       "text_color": null
      }
     },
     "0b6dd11676774755ae3198d18af4a77b": {
      "model_module": "@jupyter-widgets/base",
      "model_module_version": "2.0.0",
      "model_name": "LayoutModel",
      "state": {}
     },
     "0b7337027ae841d4bfd05518ab18e28c": {
      "model_module": "@jupyter-widgets/controls",
      "model_module_version": "2.0.0",
      "model_name": "HTMLModel",
      "state": {
       "layout": "IPY_MODEL_5f1b4f6e6ad44cc691b6709cb33d318b",
       "style": "IPY_MODEL_d40446ed1ef54cbebc1fcc66cce870da",
       "value": "Epoch 1: 100%"
      }
     },
     "0c12416b0785412c8e039e93ce8c4b41": {
      "model_module": "@jupyter-widgets/base",
      "model_module_version": "2.0.0",
      "model_name": "LayoutModel",
      "state": {}
     },
     "0c19309369174e32b12a358cde69aa26": {
      "model_module": "@jupyter-widgets/controls",
      "model_module_version": "2.0.0",
      "model_name": "HTMLStyleModel",
      "state": {
       "description_width": "",
       "font_size": null,
       "text_color": null
      }
     },
     "0c37b7bd406c4c7eb26e8ee0710fef27": {
      "model_module": "@jupyter-widgets/controls",
      "model_module_version": "2.0.0",
      "model_name": "HTMLModel",
      "state": {
       "layout": "IPY_MODEL_bb19b2ceac7647279708755c62050d0f",
       "style": "IPY_MODEL_888b2e0dd0db42c8b5ef79d4896ddcc3",
       "value": " 1/1 [00:00&lt;00:00, 66.66it/s]"
      }
     },
     "0cb941353ba34c6ea7d499fb706305fb": {
      "model_module": "@jupyter-widgets/controls",
      "model_module_version": "2.0.0",
      "model_name": "HTMLModel",
      "state": {
       "layout": "IPY_MODEL_0cdfc5ab009a44db9c46d00f098d1425",
       "style": "IPY_MODEL_ed23c1a9b28b45ecb3cf23ae5a9e5bb5",
       "value": " 1/1 [00:00&lt;00:00, 40.00 batch/s, loss=0.0222, loss_valid=0.0177]"
      }
     },
     "0cdfc5ab009a44db9c46d00f098d1425": {
      "model_module": "@jupyter-widgets/base",
      "model_module_version": "2.0.0",
      "model_name": "LayoutModel",
      "state": {}
     },
     "0e197a866a9b41c68ec809b4c68ba9e9": {
      "model_module": "@jupyter-widgets/base",
      "model_module_version": "2.0.0",
      "model_name": "LayoutModel",
      "state": {}
     },
     "0ee441eaf792494986afe7c5bae174af": {
      "model_module": "@jupyter-widgets/base",
      "model_module_version": "2.0.0",
      "model_name": "LayoutModel",
      "state": {}
     },
     "0f04a445cf1c4442b8470d55cafed630": {
      "model_module": "@jupyter-widgets/base",
      "model_module_version": "2.0.0",
      "model_name": "LayoutModel",
      "state": {}
     },
     "0f33803357a14ba584293abc50de8b85": {
      "model_module": "@jupyter-widgets/controls",
      "model_module_version": "2.0.0",
      "model_name": "HTMLModel",
      "state": {
       "layout": "IPY_MODEL_f33f08247c3b4810839103f1d32d0a5b",
       "style": "IPY_MODEL_9a5b23294c0242f59acc4fdb9c9064cc",
       "value": "100%"
      }
     },
     "0f33ec19eec045b2a3fa6ae7c5e8827e": {
      "model_module": "@jupyter-widgets/base",
      "model_module_version": "2.0.0",
      "model_name": "LayoutModel",
      "state": {}
     },
     "0f5f64ce67f2422686b918eec674e553": {
      "model_module": "@jupyter-widgets/controls",
      "model_module_version": "2.0.0",
      "model_name": "HBoxModel",
      "state": {
       "children": [
        "IPY_MODEL_0290bc14915847ffb7c5d7f68a5aee41",
        "IPY_MODEL_61591054f2be41658a4444c524da51a5",
        "IPY_MODEL_fda3feb01eca4d209a05fa500ff62bdb"
       ],
       "layout": "IPY_MODEL_0436fdedf6b3494f96b4777296431a43"
      }
     },
     "0f6970f819314f6db8bab5083fac2a0d": {
      "model_module": "@jupyter-widgets/base",
      "model_module_version": "2.0.0",
      "model_name": "LayoutModel",
      "state": {}
     },
     "0f92db9e158046a89a8d3ce799e6ffda": {
      "model_module": "@jupyter-widgets/base",
      "model_module_version": "2.0.0",
      "model_name": "LayoutModel",
      "state": {}
     },
     "0fd80d32cf0b471b950cb34a84667524": {
      "model_module": "@jupyter-widgets/base",
      "model_module_version": "2.0.0",
      "model_name": "LayoutModel",
      "state": {}
     },
     "10ba0311bf7d462095b13f39030591b1": {
      "model_module": "@jupyter-widgets/controls",
      "model_module_version": "2.0.0",
      "model_name": "HTMLModel",
      "state": {
       "layout": "IPY_MODEL_7f9735c0724c47bfb16c9a69c923d8f0",
       "style": "IPY_MODEL_f4ca390769604f36af41977d655d3b7b",
       "value": " 6/6 [00:00&lt;00:00, 23.29 batch/s, loss=0.0222]"
      }
     },
     "10ee1940d46140d88b6953334a6d60c0": {
      "model_module": "@jupyter-widgets/controls",
      "model_module_version": "2.0.0",
      "model_name": "FloatProgressModel",
      "state": {
       "bar_style": "success",
       "layout": "IPY_MODEL_c11abb0c614d468e9673ef50fde73fe8",
       "max": 1,
       "style": "IPY_MODEL_c30e435445184201bb8956626662851f",
       "value": 1
      }
     },
     "1186b23107084541ae06992edb048ed3": {
      "model_module": "@jupyter-widgets/controls",
      "model_module_version": "2.0.0",
      "model_name": "HTMLModel",
      "state": {
       "layout": "IPY_MODEL_e5e6560202954da286cc328c2b6df0b2",
       "style": "IPY_MODEL_5a585e844f4a46b2b1e22dff03daeb84",
       "value": "Epoch 2: 100%"
      }
     },
     "11a8be3e48b54cc7aeed1757889d1bfe": {
      "model_module": "@jupyter-widgets/controls",
      "model_module_version": "2.0.0",
      "model_name": "HTMLStyleModel",
      "state": {
       "description_width": "",
       "font_size": null,
       "text_color": null
      }
     },
     "11aabc1d2e6a473cad81cd22ec05ebfb": {
      "model_module": "@jupyter-widgets/controls",
      "model_module_version": "2.0.0",
      "model_name": "HBoxModel",
      "state": {
       "children": [
        "IPY_MODEL_d0a66f4dd39942ec83d7cbad55d17cf6",
        "IPY_MODEL_3237f68ad4f048108e26b568c4df55e0",
        "IPY_MODEL_612abca25e654a0cbda1f8c01d7581d3"
       ],
       "layout": "IPY_MODEL_2467fa051bfe409d94e4a2b50392e0d8"
      }
     },
     "12911119643d43bbbc36d365ec22c6a4": {
      "model_module": "@jupyter-widgets/controls",
      "model_module_version": "2.0.0",
      "model_name": "HTMLModel",
      "state": {
       "layout": "IPY_MODEL_9e52f2ccf83248f4b1de96932e9a5a38",
       "style": "IPY_MODEL_3858ce195c7b40adb360e92bc5e7aaea",
       "value": "Epoch 5: 100%"
      }
     },
     "12a51bfa3baf42c794183d3433f74fea": {
      "model_module": "@jupyter-widgets/controls",
      "model_module_version": "2.0.0",
      "model_name": "ProgressStyleModel",
      "state": {
       "description_width": ""
      }
     },
     "1352773692444da58067a04e7cd814ca": {
      "model_module": "@jupyter-widgets/base",
      "model_module_version": "2.0.0",
      "model_name": "LayoutModel",
      "state": {}
     },
     "13d3804e5c7d42a2a7353e81e36f4295": {
      "model_module": "@jupyter-widgets/controls",
      "model_module_version": "2.0.0",
      "model_name": "HTMLModel",
      "state": {
       "layout": "IPY_MODEL_91e4ea8a4faf491dbf7d89a1eea08ba5",
       "style": "IPY_MODEL_cd0725a260564ecca168099ac39325d5",
       "value": "Epoch 15: 100%"
      }
     },
     "13e99f23bb814ff9a6a4463b10aa9b9b": {
      "model_module": "@jupyter-widgets/controls",
      "model_module_version": "2.0.0",
      "model_name": "HTMLStyleModel",
      "state": {
       "description_width": "",
       "font_size": null,
       "text_color": null
      }
     },
     "142f440c019c4353b2508ae8041b515a": {
      "model_module": "@jupyter-widgets/controls",
      "model_module_version": "2.0.0",
      "model_name": "FloatProgressModel",
      "state": {
       "bar_style": "success",
       "layout": "IPY_MODEL_e78398e8f88b46d3a70a168d93165c94",
       "max": 1,
       "style": "IPY_MODEL_5542eff67b28427eb438b35bd2b80f7e",
       "value": 1
      }
     },
     "14753c1059fc43cd84c6fe2d2edf37fa": {
      "model_module": "@jupyter-widgets/controls",
      "model_module_version": "2.0.0",
      "model_name": "ProgressStyleModel",
      "state": {
       "description_width": ""
      }
     },
     "14a95eb4723e4c31bfbf3fc03b4b65c1": {
      "model_module": "@jupyter-widgets/controls",
      "model_module_version": "2.0.0",
      "model_name": "HTMLStyleModel",
      "state": {
       "description_width": "",
       "font_size": null,
       "text_color": null
      }
     },
     "157d9c588b194753817b6dbb9c28a6cb": {
      "model_module": "@jupyter-widgets/base",
      "model_module_version": "2.0.0",
      "model_name": "LayoutModel",
      "state": {}
     },
     "160502c640ea4fddbcea0d37093d2ff9": {
      "model_module": "@jupyter-widgets/controls",
      "model_module_version": "2.0.0",
      "model_name": "HTMLStyleModel",
      "state": {
       "description_width": "",
       "font_size": null,
       "text_color": null
      }
     },
     "168df0daeacf4137b918169e55728e69": {
      "model_module": "@jupyter-widgets/base",
      "model_module_version": "2.0.0",
      "model_name": "LayoutModel",
      "state": {}
     },
     "1764417e1a224b74b6f758a04145a05b": {
      "model_module": "@jupyter-widgets/controls",
      "model_module_version": "2.0.0",
      "model_name": "HTMLStyleModel",
      "state": {
       "description_width": "",
       "font_size": null,
       "text_color": null
      }
     },
     "17a0fa0241904bd98f1216c6bb37837d": {
      "model_module": "@jupyter-widgets/controls",
      "model_module_version": "2.0.0",
      "model_name": "HBoxModel",
      "state": {
       "children": [
        "IPY_MODEL_3fcfa236453d4856a8e465b511dd6bc8",
        "IPY_MODEL_26c21a17f72a4e2eb3e7ad4ac3a363d3",
        "IPY_MODEL_603b269608034a839c4d508bc66fce3a"
       ],
       "layout": "IPY_MODEL_cc7e423d04364e72b263a583c0b8381e"
      }
     },
     "17c8e0419cd04be382d829f70177f33c": {
      "model_module": "@jupyter-widgets/controls",
      "model_module_version": "2.0.0",
      "model_name": "HTMLStyleModel",
      "state": {
       "description_width": "",
       "font_size": null,
       "text_color": null
      }
     },
     "17cbb829364146f1a6111a277aabe8b4": {
      "model_module": "@jupyter-widgets/base",
      "model_module_version": "2.0.0",
      "model_name": "LayoutModel",
      "state": {}
     },
     "182e53e4fc304600a4b4a5411a03435d": {
      "model_module": "@jupyter-widgets/controls",
      "model_module_version": "2.0.0",
      "model_name": "HTMLModel",
      "state": {
       "layout": "IPY_MODEL_6420e28c20a34f7ca18850ce6c949dae",
       "style": "IPY_MODEL_df8d4459fc3a444fa038009c11cbbc54",
       "value": "Epoch 10: 100%"
      }
     },
     "1863412441b946d0abb80c30f7e1f007": {
      "model_module": "@jupyter-widgets/controls",
      "model_module_version": "2.0.0",
      "model_name": "ProgressStyleModel",
      "state": {
       "description_width": ""
      }
     },
     "1894dd698e6d4320b0d9856926f291e3": {
      "model_module": "@jupyter-widgets/controls",
      "model_module_version": "2.0.0",
      "model_name": "HTMLStyleModel",
      "state": {
       "description_width": "",
       "font_size": null,
       "text_color": null
      }
     },
     "19e0d777034944e9817f831ae9118349": {
      "model_module": "@jupyter-widgets/controls",
      "model_module_version": "2.0.0",
      "model_name": "HTMLStyleModel",
      "state": {
       "description_width": "",
       "font_size": null,
       "text_color": null
      }
     },
     "19f8565bad7e47eabaffbbd8e08abc42": {
      "model_module": "@jupyter-widgets/controls",
      "model_module_version": "2.0.0",
      "model_name": "HBoxModel",
      "state": {
       "children": [
        "IPY_MODEL_fc4fc72915a74e9bad3a3a6a7c2e97a1",
        "IPY_MODEL_860d5ade5bce49519ad4968501d98147",
        "IPY_MODEL_b1a1112710e3481da12201bada938f03"
       ],
       "layout": "IPY_MODEL_1a20ce3ebca04e39bbe9a5a1bdd031c8"
      }
     },
     "1a20ce3ebca04e39bbe9a5a1bdd031c8": {
      "model_module": "@jupyter-widgets/base",
      "model_module_version": "2.0.0",
      "model_name": "LayoutModel",
      "state": {}
     },
     "1ad631c2fcf64e4c806193b04d38ac48": {
      "model_module": "@jupyter-widgets/base",
      "model_module_version": "2.0.0",
      "model_name": "LayoutModel",
      "state": {}
     },
     "1af8aad24d8049f186983e379764c897": {
      "model_module": "@jupyter-widgets/base",
      "model_module_version": "2.0.0",
      "model_name": "LayoutModel",
      "state": {}
     },
     "1b10b43254cf4b6ea605ccce925a8fe9": {
      "model_module": "@jupyter-widgets/base",
      "model_module_version": "2.0.0",
      "model_name": "LayoutModel",
      "state": {}
     },
     "1b2c4c07647549ac8f01e60a66aebcb1": {
      "model_module": "@jupyter-widgets/controls",
      "model_module_version": "2.0.0",
      "model_name": "HBoxModel",
      "state": {
       "children": [
        "IPY_MODEL_9ff62cf3a4db496a9f515acda86979d6",
        "IPY_MODEL_aeaae4760f9b4bd0b08e22699d83dc90",
        "IPY_MODEL_10ba0311bf7d462095b13f39030591b1"
       ],
       "layout": "IPY_MODEL_2e0f53d928014c4c9942fedba5616adf"
      }
     },
     "1b4ec200df30427cbd3aa24ca95b0826": {
      "model_module": "@jupyter-widgets/controls",
      "model_module_version": "2.0.0",
      "model_name": "HTMLStyleModel",
      "state": {
       "description_width": "",
       "font_size": null,
       "text_color": null
      }
     },
     "1b6334bcedd14603870b62c89f2417e0": {
      "model_module": "@jupyter-widgets/controls",
      "model_module_version": "2.0.0",
      "model_name": "HTMLModel",
      "state": {
       "layout": "IPY_MODEL_d7cc67dec98f4122bf1d84aea06b8742",
       "style": "IPY_MODEL_f83e92d156b04c18b75372ca42975645",
       "value": " 6/6 [00:01&lt;00:00,  6.24 batch/s, loss=0.0273]"
      }
     },
     "1b79184e63324bbb88c64188ea5543e8": {
      "model_module": "@jupyter-widgets/base",
      "model_module_version": "2.0.0",
      "model_name": "LayoutModel",
      "state": {}
     },
     "1b84552c2238435b9c740d9b831479c4": {
      "model_module": "@jupyter-widgets/controls",
      "model_module_version": "2.0.0",
      "model_name": "HBoxModel",
      "state": {
       "children": [
        "IPY_MODEL_b28992e34f1a4ed18a1f243d17bebb22",
        "IPY_MODEL_6a663aff8a6745d698b57fcb1d340f5f",
        "IPY_MODEL_508774ecd39e492fae78fbc957902c4a"
       ],
       "layout": "IPY_MODEL_e4f669d85fe74b1f90d3f27aaaa44d5f"
      }
     },
     "1ba05aa4494749168d68cdbf9713f9d2": {
      "model_module": "@jupyter-widgets/base",
      "model_module_version": "2.0.0",
      "model_name": "LayoutModel",
      "state": {}
     },
     "1cd7de91e4e54647a1d5a5807f874056": {
      "model_module": "@jupyter-widgets/controls",
      "model_module_version": "2.0.0",
      "model_name": "HTMLModel",
      "state": {
       "layout": "IPY_MODEL_ba16dbc65d5a46c8bdaeb938354449f8",
       "style": "IPY_MODEL_5fc8ffab811c411099316b8d797ca273",
       "value": " 1/1 [00:00&lt;00:00, 39.07 batch/s, loss=0.0256, loss_valid=0.0168]"
      }
     },
     "1d2134f6cb7a427dacd56870f4502c38": {
      "model_module": "@jupyter-widgets/controls",
      "model_module_version": "2.0.0",
      "model_name": "HTMLModel",
      "state": {
       "layout": "IPY_MODEL_c14ce60d56bf43bb9d1bcea8e08cedd9",
       "style": "IPY_MODEL_fb16eb9659824ed4907df592b20812e5",
       "value": "Epoch 24: 100%"
      }
     },
     "1d807491a6fe41cb817062e2ba6c02ef": {
      "model_module": "@jupyter-widgets/controls",
      "model_module_version": "2.0.0",
      "model_name": "HTMLModel",
      "state": {
       "layout": "IPY_MODEL_439ad84a04584328ae0cf0e18ea6297e",
       "style": "IPY_MODEL_98c95aa097b74b3ca8e4b789a6709ec3",
       "value": " 6/6 [00:00&lt;00:00, 23.51 batch/s, loss=0.0259]"
      }
     },
     "1e175ccbc22549888050d171687fdbaa": {
      "model_module": "@jupyter-widgets/controls",
      "model_module_version": "2.0.0",
      "model_name": "ProgressStyleModel",
      "state": {
       "description_width": ""
      }
     },
     "1e19f3d16d8e43ae8735363e2076aed5": {
      "model_module": "@jupyter-widgets/controls",
      "model_module_version": "2.0.0",
      "model_name": "HTMLModel",
      "state": {
       "layout": "IPY_MODEL_be0b8310cabd4a23951badeb195a88ec",
       "style": "IPY_MODEL_f66b0e0f1c89438db0904ef946cbb35c",
       "value": " 6/6 [00:00&lt;00:00, 23.30 batch/s, loss=0.0246]"
      }
     },
     "1e348829a6bd4b06b62beb218cfa42b2": {
      "model_module": "@jupyter-widgets/controls",
      "model_module_version": "2.0.0",
      "model_name": "HTMLStyleModel",
      "state": {
       "description_width": "",
       "font_size": null,
       "text_color": null
      }
     },
     "1e9f9a13577d4bfdb17dd02590e6708d": {
      "model_module": "@jupyter-widgets/base",
      "model_module_version": "2.0.0",
      "model_name": "LayoutModel",
      "state": {}
     },
     "1f2441ca404d4121b89db16a22582a0e": {
      "model_module": "@jupyter-widgets/controls",
      "model_module_version": "2.0.0",
      "model_name": "HTMLModel",
      "state": {
       "layout": "IPY_MODEL_02834ae55c094df0ab7908beef9832a7",
       "style": "IPY_MODEL_09df9879d50a4ea982f73d1286adfbf8",
       "value": " 20/20 [00:02&lt;00:00,  7.61it/s]"
      }
     },
     "1f8455a29a1f491ba6af98e131ddca0d": {
      "model_module": "@jupyter-widgets/controls",
      "model_module_version": "2.0.0",
      "model_name": "HTMLModel",
      "state": {
       "layout": "IPY_MODEL_4a218f4b0dd0414d91bb5a5599c7c72a",
       "style": "IPY_MODEL_cc2f4e0b03db4febaa9132485a058d22",
       "value": "Epoch 24: 100%"
      }
     },
     "1ff6826ceb5c4de5bf381d08087179e2": {
      "model_module": "@jupyter-widgets/controls",
      "model_module_version": "2.0.0",
      "model_name": "ProgressStyleModel",
      "state": {
       "description_width": ""
      }
     },
     "20b401893ab842a686c557357c9906d2": {
      "model_module": "@jupyter-widgets/controls",
      "model_module_version": "2.0.0",
      "model_name": "ProgressStyleModel",
      "state": {
       "description_width": ""
      }
     },
     "2136b9adac99475ca6aa260edf2a54d5": {
      "model_module": "@jupyter-widgets/controls",
      "model_module_version": "2.0.0",
      "model_name": "HBoxModel",
      "state": {
       "children": [
        "IPY_MODEL_d92a18f818964e9a89b49df78f0ad543",
        "IPY_MODEL_a405c26580dc48168366146de0d3221c",
        "IPY_MODEL_7eebe6b2da0a4c63991eac0a83657aae"
       ],
       "layout": "IPY_MODEL_0ee441eaf792494986afe7c5bae174af"
      }
     },
     "218d1f5ada7f4bf68a10a50501584df9": {
      "model_module": "@jupyter-widgets/controls",
      "model_module_version": "2.0.0",
      "model_name": "ProgressStyleModel",
      "state": {
       "description_width": ""
      }
     },
     "21923ea7de914eddbf6146ff58e29e29": {
      "model_module": "@jupyter-widgets/base",
      "model_module_version": "2.0.0",
      "model_name": "LayoutModel",
      "state": {}
     },
     "21ac8e594cbe48f9ad9869e25cd850d8": {
      "model_module": "@jupyter-widgets/controls",
      "model_module_version": "2.0.0",
      "model_name": "FloatProgressModel",
      "state": {
       "bar_style": "success",
       "layout": "IPY_MODEL_db0a8e29bbfe4eaba538d6ccdbce1411",
       "max": 6,
       "style": "IPY_MODEL_760f1e9e63bf4714b239892164b79568",
       "value": 6
      }
     },
     "2467fa051bfe409d94e4a2b50392e0d8": {
      "model_module": "@jupyter-widgets/base",
      "model_module_version": "2.0.0",
      "model_name": "LayoutModel",
      "state": {}
     },
     "25583e7593604fed9a3076e9bb32a8e2": {
      "model_module": "@jupyter-widgets/base",
      "model_module_version": "2.0.0",
      "model_name": "LayoutModel",
      "state": {}
     },
     "25678ca1e4eb47c4a08a79f6a72470d2": {
      "model_module": "@jupyter-widgets/controls",
      "model_module_version": "2.0.0",
      "model_name": "HTMLStyleModel",
      "state": {
       "description_width": "",
       "font_size": null,
       "text_color": null
      }
     },
     "2576665c2e9f4629a911e9482c95a1de": {
      "model_module": "@jupyter-widgets/controls",
      "model_module_version": "2.0.0",
      "model_name": "HBoxModel",
      "state": {
       "children": [
        "IPY_MODEL_f57886dd637247509c0b70decca05b51",
        "IPY_MODEL_62b21128f482417d92262d33c52a0b89",
        "IPY_MODEL_f8a3c22b856649b59ec9aae128852623"
       ],
       "layout": "IPY_MODEL_4e7135b32fd14ca5beeaca0a096745ea"
      }
     },
     "258bec713aee430c8c4713be3a6c796a": {
      "model_module": "@jupyter-widgets/controls",
      "model_module_version": "2.0.0",
      "model_name": "HTMLStyleModel",
      "state": {
       "description_width": "",
       "font_size": null,
       "text_color": null
      }
     },
     "268ec65f81d74c3dac4251bbd2218cd8": {
      "model_module": "@jupyter-widgets/controls",
      "model_module_version": "2.0.0",
      "model_name": "HTMLModel",
      "state": {
       "layout": "IPY_MODEL_5586923c3d2543419d4ffb8ee3f89391",
       "style": "IPY_MODEL_6a7ea945d7ed402e8cdf39462fe30e13",
       "value": " 1/1 [00:00&lt;00:00, 41.54 batch/s, loss=0.0211, loss_valid=0.0206]"
      }
     },
     "26c21a17f72a4e2eb3e7ad4ac3a363d3": {
      "model_module": "@jupyter-widgets/controls",
      "model_module_version": "2.0.0",
      "model_name": "FloatProgressModel",
      "state": {
       "bar_style": "success",
       "layout": "IPY_MODEL_0aee4b3b8a2d4ea9b33454f34fe58962",
       "max": 6,
       "style": "IPY_MODEL_59414fc6008a4a90a3cd7d1482ca4a2b",
       "value": 6
      }
     },
     "272c285d55be4b19857834c3dcf26f40": {
      "model_module": "@jupyter-widgets/controls",
      "model_module_version": "2.0.0",
      "model_name": "HTMLStyleModel",
      "state": {
       "description_width": "",
       "font_size": null,
       "text_color": null
      }
     },
     "277c125014a5445086b6c5729574b00e": {
      "model_module": "@jupyter-widgets/base",
      "model_module_version": "2.0.0",
      "model_name": "LayoutModel",
      "state": {}
     },
     "27ca24878d094c6dbfb7f6ede6d48797": {
      "model_module": "@jupyter-widgets/base",
      "model_module_version": "2.0.0",
      "model_name": "LayoutModel",
      "state": {}
     },
     "282541b5b7d04f2688c9901ee9d1a71b": {
      "model_module": "@jupyter-widgets/controls",
      "model_module_version": "2.0.0",
      "model_name": "HTMLStyleModel",
      "state": {
       "description_width": "",
       "font_size": null,
       "text_color": null
      }
     },
     "2893c70cfb974636a9dafaa674ea6060": {
      "model_module": "@jupyter-widgets/controls",
      "model_module_version": "2.0.0",
      "model_name": "FloatProgressModel",
      "state": {
       "bar_style": "success",
       "layout": "IPY_MODEL_a51e347c08b341518a8f8f8a3eab3047",
       "max": 1,
       "style": "IPY_MODEL_9615d7389c62469d9cd062b220b296e0",
       "value": 1
      }
     },
     "294c44a2c757474ba6c456bde8e01a7e": {
      "model_module": "@jupyter-widgets/base",
      "model_module_version": "2.0.0",
      "model_name": "LayoutModel",
      "state": {}
     },
     "296bd65ea8ef48d5b0397b492527f328": {
      "model_module": "@jupyter-widgets/controls",
      "model_module_version": "2.0.0",
      "model_name": "HBoxModel",
      "state": {
       "children": [
        "IPY_MODEL_9763fd6283f1497097c78b4ea393a5d3",
        "IPY_MODEL_aeff46616b824370b7e5a3805848638d",
        "IPY_MODEL_4e2459378fdd420db94ba53fc09c7139"
       ],
       "layout": "IPY_MODEL_407335764add4493a3dcb4a99bf54e86"
      }
     },
     "29cd734f249e412a91fb92f1e2b3be8d": {
      "model_module": "@jupyter-widgets/controls",
      "model_module_version": "2.0.0",
      "model_name": "HTMLStyleModel",
      "state": {
       "description_width": "",
       "font_size": null,
       "text_color": null
      }
     },
     "29ce1db42ff94f93a0a4b59da45864fb": {
      "model_module": "@jupyter-widgets/base",
      "model_module_version": "2.0.0",
      "model_name": "LayoutModel",
      "state": {}
     },
     "2a7aee26a4fd4602b6cbfb8e251f3740": {
      "model_module": "@jupyter-widgets/controls",
      "model_module_version": "2.0.0",
      "model_name": "ProgressStyleModel",
      "state": {
       "description_width": ""
      }
     },
     "2b174875974c4141806b836a46efdf4a": {
      "model_module": "@jupyter-widgets/controls",
      "model_module_version": "2.0.0",
      "model_name": "FloatProgressModel",
      "state": {
       "bar_style": "success",
       "layout": "IPY_MODEL_87c1cd9377d34239b64cb55516c62b4a",
       "max": 6,
       "style": "IPY_MODEL_c23d039ea4d148c2a55a0cdb535968fa",
       "value": 6
      }
     },
     "2b2f66ff4b9b4e52ab4528a0b85ffeb3": {
      "model_module": "@jupyter-widgets/controls",
      "model_module_version": "2.0.0",
      "model_name": "HTMLModel",
      "state": {
       "layout": "IPY_MODEL_677780d693ff4238b6596bb861417f8b",
       "style": "IPY_MODEL_768be05cc3614e0c8d2d1044a1fbe238",
       "value": " 6/6 [00:00&lt;00:00, 23.55 batch/s, loss=0.022]"
      }
     },
     "2b5a93f3336f47ee95e54de36273483f": {
      "model_module": "@jupyter-widgets/base",
      "model_module_version": "2.0.0",
      "model_name": "LayoutModel",
      "state": {}
     },
     "2b83aa8f713540de85492fbae6439922": {
      "model_module": "@jupyter-widgets/base",
      "model_module_version": "2.0.0",
      "model_name": "LayoutModel",
      "state": {}
     },
     "2c6195d90ab74debaf51272823da04d5": {
      "model_module": "@jupyter-widgets/controls",
      "model_module_version": "2.0.0",
      "model_name": "HTMLModel",
      "state": {
       "layout": "IPY_MODEL_d5ec1113877c4962b35d8d870f967786",
       "style": "IPY_MODEL_81f0e61da90a477ebc77ecfecb0f3779",
       "value": "Epoch 18: 100%"
      }
     },
     "2cf1d15ab8fd4a6cb94ac54d5809c77d": {
      "model_module": "@jupyter-widgets/base",
      "model_module_version": "2.0.0",
      "model_name": "LayoutModel",
      "state": {}
     },
     "2d24aa73c02446ac9c7e650f195989e0": {
      "model_module": "@jupyter-widgets/base",
      "model_module_version": "2.0.0",
      "model_name": "LayoutModel",
      "state": {}
     },
     "2dd9f7cf3e4c4055ad0bb6f9810242e9": {
      "model_module": "@jupyter-widgets/base",
      "model_module_version": "2.0.0",
      "model_name": "LayoutModel",
      "state": {}
     },
     "2e0f53d928014c4c9942fedba5616adf": {
      "model_module": "@jupyter-widgets/base",
      "model_module_version": "2.0.0",
      "model_name": "LayoutModel",
      "state": {}
     },
     "2eaa653e40e6445ea903975fe4a78a09": {
      "model_module": "@jupyter-widgets/controls",
      "model_module_version": "2.0.0",
      "model_name": "HTMLStyleModel",
      "state": {
       "description_width": "",
       "font_size": null,
       "text_color": null
      }
     },
     "2ef3b985dde145ec8045fef843db6d30": {
      "model_module": "@jupyter-widgets/controls",
      "model_module_version": "2.0.0",
      "model_name": "HTMLStyleModel",
      "state": {
       "description_width": "",
       "font_size": null,
       "text_color": null
      }
     },
     "2f38a28d9294424ca5c2070e70bc63c7": {
      "model_module": "@jupyter-widgets/controls",
      "model_module_version": "2.0.0",
      "model_name": "FloatProgressModel",
      "state": {
       "bar_style": "success",
       "layout": "IPY_MODEL_671d116957bb4a4e91dc79f700382a1f",
       "max": 1,
       "style": "IPY_MODEL_7c2b2a77e8b14bd0a8f6faafbb26a41d",
       "value": 1
      }
     },
     "300add90f5424409b173f04534f5edfb": {
      "model_module": "@jupyter-widgets/base",
      "model_module_version": "2.0.0",
      "model_name": "LayoutModel",
      "state": {}
     },
     "30e56f7eca664e70a285e4dd6c2aed8e": {
      "model_module": "@jupyter-widgets/base",
      "model_module_version": "2.0.0",
      "model_name": "LayoutModel",
      "state": {}
     },
     "30e758d9ba8348e39eba9b96a8ac2b17": {
      "model_module": "@jupyter-widgets/base",
      "model_module_version": "2.0.0",
      "model_name": "LayoutModel",
      "state": {}
     },
     "3131d3ad752a47728bc5f60fd69c6ff4": {
      "model_module": "@jupyter-widgets/controls",
      "model_module_version": "2.0.0",
      "model_name": "HBoxModel",
      "state": {
       "children": [
        "IPY_MODEL_d4173738c2374a159a05207b50bfce17",
        "IPY_MODEL_d8088c41455644b28f6a85406a1d8a58",
        "IPY_MODEL_1d807491a6fe41cb817062e2ba6c02ef"
       ],
       "layout": "IPY_MODEL_37f9a4c0e7b443d592007e1c7333fcd5"
      }
     },
     "31b9cba5b20b400d80230f02a53f2939": {
      "model_module": "@jupyter-widgets/controls",
      "model_module_version": "2.0.0",
      "model_name": "HTMLModel",
      "state": {
       "layout": "IPY_MODEL_1e9f9a13577d4bfdb17dd02590e6708d",
       "style": "IPY_MODEL_42295d7646284a00900c25c27c0d3faf",
       "value": " 6/6 [00:00&lt;00:00, 23.50 batch/s, loss=0.0222]"
      }
     },
     "320d83edc925471a9c98eaa2c6565a64": {
      "model_module": "@jupyter-widgets/controls",
      "model_module_version": "2.0.0",
      "model_name": "HTMLModel",
      "state": {
       "layout": "IPY_MODEL_6617017c7bea4e339c98541cad704356",
       "style": "IPY_MODEL_563341b595f64b6aa1268614bc071eeb",
       "value": "100%"
      }
     },
     "3237f68ad4f048108e26b568c4df55e0": {
      "model_module": "@jupyter-widgets/controls",
      "model_module_version": "2.0.0",
      "model_name": "FloatProgressModel",
      "state": {
       "bar_style": "success",
       "layout": "IPY_MODEL_47d2e6f520fb484985aaad43c280cca3",
       "max": 6,
       "style": "IPY_MODEL_df16db70601c49ee9208f543e0a8257e",
       "value": 6
      }
     },
     "329ae8b9ade94ffb98b4d97d1ad597f8": {
      "model_module": "@jupyter-widgets/base",
      "model_module_version": "2.0.0",
      "model_name": "LayoutModel",
      "state": {}
     },
     "33482d1eaa234fd18dd24553e30f17a2": {
      "model_module": "@jupyter-widgets/base",
      "model_module_version": "2.0.0",
      "model_name": "LayoutModel",
      "state": {}
     },
     "33ce66ecfff44992bbef29e8d4fa93ea": {
      "model_module": "@jupyter-widgets/controls",
      "model_module_version": "2.0.0",
      "model_name": "FloatProgressModel",
      "state": {
       "bar_style": "success",
       "layout": "IPY_MODEL_60eacd03b64d49a1ad1d045e8d64e726",
       "max": 6,
       "style": "IPY_MODEL_e28089a6565c42eb93d260dad777215f",
       "value": 6
      }
     },
     "352cbd06dfd547deaec06e724eee6694": {
      "model_module": "@jupyter-widgets/controls",
      "model_module_version": "2.0.0",
      "model_name": "FloatProgressModel",
      "state": {
       "bar_style": "success",
       "layout": "IPY_MODEL_3b56b828c8ce45cda8b6c1b66f896079",
       "max": 1,
       "style": "IPY_MODEL_20b401893ab842a686c557357c9906d2",
       "value": 1
      }
     },
     "35718baaaca440a0998ed013da98507b": {
      "model_module": "@jupyter-widgets/controls",
      "model_module_version": "2.0.0",
      "model_name": "HBoxModel",
      "state": {
       "children": [
        "IPY_MODEL_888da18515a24ed9b4ea44da69b8ac54",
        "IPY_MODEL_352cbd06dfd547deaec06e724eee6694",
        "IPY_MODEL_0c37b7bd406c4c7eb26e8ee0710fef27"
       ],
       "layout": "IPY_MODEL_9e23fc82f922404b8a6ad9cc7bd6f345"
      }
     },
     "35c9e5079555442e9662f4f073b29ca9": {
      "model_module": "@jupyter-widgets/controls",
      "model_module_version": "2.0.0",
      "model_name": "HTMLStyleModel",
      "state": {
       "description_width": "",
       "font_size": null,
       "text_color": null
      }
     },
     "35ff78bb9cf44d7399d77770a0e7012e": {
      "model_module": "@jupyter-widgets/base",
      "model_module_version": "2.0.0",
      "model_name": "LayoutModel",
      "state": {}
     },
     "360e80aa4e34450ab6a3fdf891bb31d2": {
      "model_module": "@jupyter-widgets/base",
      "model_module_version": "2.0.0",
      "model_name": "LayoutModel",
      "state": {}
     },
     "36245b31532f4b17ab695cbf697af407": {
      "model_module": "@jupyter-widgets/controls",
      "model_module_version": "2.0.0",
      "model_name": "FloatProgressModel",
      "state": {
       "bar_style": "success",
       "layout": "IPY_MODEL_5d0ba4ab824e49c4a84da81937750343",
       "max": 6,
       "style": "IPY_MODEL_14753c1059fc43cd84c6fe2d2edf37fa",
       "value": 6
      }
     },
     "369dcc7f0d1a42319ef0933b33933b86": {
      "model_module": "@jupyter-widgets/controls",
      "model_module_version": "2.0.0",
      "model_name": "HTMLStyleModel",
      "state": {
       "description_width": "",
       "font_size": null,
       "text_color": null
      }
     },
     "36aeed07cc324544bbce3f3d59b8443f": {
      "model_module": "@jupyter-widgets/base",
      "model_module_version": "2.0.0",
      "model_name": "LayoutModel",
      "state": {}
     },
     "36df9338d77e46f3943fc194f92b4d9d": {
      "model_module": "@jupyter-widgets/controls",
      "model_module_version": "2.0.0",
      "model_name": "ProgressStyleModel",
      "state": {
       "description_width": ""
      }
     },
     "374c190d3a354605a0657d4e23434606": {
      "model_module": "@jupyter-widgets/controls",
      "model_module_version": "2.0.0",
      "model_name": "HTMLStyleModel",
      "state": {
       "description_width": "",
       "font_size": null,
       "text_color": null
      }
     },
     "37751090453e45a7bc7f94318a3c8a92": {
      "model_module": "@jupyter-widgets/controls",
      "model_module_version": "2.0.0",
      "model_name": "HBoxModel",
      "state": {
       "children": [
        "IPY_MODEL_fa5ab57e39dd465dae6d8a86595bcb68",
        "IPY_MODEL_fb8fd20457cb4bc8b5d6e95bdc77a292",
        "IPY_MODEL_1b6334bcedd14603870b62c89f2417e0"
       ],
       "layout": "IPY_MODEL_8dee139e5dc3409d9a1dd22a0cf87437"
      }
     },
     "37aea00eec1a46ce8973257b03c1650a": {
      "model_module": "@jupyter-widgets/controls",
      "model_module_version": "2.0.0",
      "model_name": "HTMLModel",
      "state": {
       "layout": "IPY_MODEL_b71756795d1848888046dab587109c76",
       "style": "IPY_MODEL_65e2ddf0e03d4d698beca10c840efb80",
       "value": "Epoch 12: 100%"
      }
     },
     "37b3e284cff747cf9b2954d6a49f3066": {
      "model_module": "@jupyter-widgets/controls",
      "model_module_version": "2.0.0",
      "model_name": "HBoxModel",
      "state": {
       "children": [
        "IPY_MODEL_a6be2a56ff58426bb5eb3162422a5aa4",
        "IPY_MODEL_c3bec55e10aa4d7e84fb73b8002ca865",
        "IPY_MODEL_f66291cba37d4ecda641d5060d777e5e"
       ],
       "layout": "IPY_MODEL_ba294085f99c494dbb98dab0fe591894"
      }
     },
     "37ea4e5201da4727b357fc6c9f9dbefc": {
      "model_module": "@jupyter-widgets/controls",
      "model_module_version": "2.0.0",
      "model_name": "FloatProgressModel",
      "state": {
       "bar_style": "success",
       "layout": "IPY_MODEL_b87989fd83ed44089b0c3793a3a50361",
       "max": 1,
       "style": "IPY_MODEL_2a7aee26a4fd4602b6cbfb8e251f3740",
       "value": 1
      }
     },
     "37f9a4c0e7b443d592007e1c7333fcd5": {
      "model_module": "@jupyter-widgets/base",
      "model_module_version": "2.0.0",
      "model_name": "LayoutModel",
      "state": {}
     },
     "3858ce195c7b40adb360e92bc5e7aaea": {
      "model_module": "@jupyter-widgets/controls",
      "model_module_version": "2.0.0",
      "model_name": "HTMLStyleModel",
      "state": {
       "description_width": "",
       "font_size": null,
       "text_color": null
      }
     },
     "390e520715f24e228855297b87da7f8d": {
      "model_module": "@jupyter-widgets/controls",
      "model_module_version": "2.0.0",
      "model_name": "HTMLStyleModel",
      "state": {
       "description_width": "",
       "font_size": null,
       "text_color": null
      }
     },
     "39709e2ffdd64132b4c178feac82ea97": {
      "model_module": "@jupyter-widgets/controls",
      "model_module_version": "2.0.0",
      "model_name": "HTMLModel",
      "state": {
       "layout": "IPY_MODEL_7e5302ca5a5c4d93ab88d01a44ab8c4d",
       "style": "IPY_MODEL_cd3b68d1e2334a0f975ee01e1817f09f",
       "value": " 1/1 [00:00&lt;00:00, 40.00 batch/s, loss=0.025, loss_valid=0.0191]"
      }
     },
     "398ca14a15344a8a85d277b8efa3f3ae": {
      "model_module": "@jupyter-widgets/controls",
      "model_module_version": "2.0.0",
      "model_name": "HTMLStyleModel",
      "state": {
       "description_width": "",
       "font_size": null,
       "text_color": null
      }
     },
     "3992fcee505641b3ab5762e5620b8466": {
      "model_module": "@jupyter-widgets/controls",
      "model_module_version": "2.0.0",
      "model_name": "HTMLModel",
      "state": {
       "layout": "IPY_MODEL_af00ba6af0fe4404ac776135afdd33bc",
       "style": "IPY_MODEL_f335808181ef434cbb54649856ec7c51",
       "value": "Epoch 4: 100%"
      }
     },
     "3a05c8e9f55049898d1e2d8c06499c04": {
      "model_module": "@jupyter-widgets/controls",
      "model_module_version": "2.0.0",
      "model_name": "HTMLStyleModel",
      "state": {
       "description_width": "",
       "font_size": null,
       "text_color": null
      }
     },
     "3ab88bc17bb04f05a805aa2ccf42bacd": {
      "model_module": "@jupyter-widgets/controls",
      "model_module_version": "2.0.0",
      "model_name": "HTMLModel",
      "state": {
       "layout": "IPY_MODEL_8eb3d4007b8a497c8ee12158ae5388c2",
       "style": "IPY_MODEL_56863efc6e9f4c7c8791aaaa034a7940",
       "value": " 1/1 [00:00&lt;00:00,  5.15 batch/s, loss=0.0273, loss_valid=0.0329]"
      }
     },
     "3b545c6a91b14b90b7a25191c9d0bbc0": {
      "model_module": "@jupyter-widgets/controls",
      "model_module_version": "2.0.0",
      "model_name": "HTMLStyleModel",
      "state": {
       "description_width": "",
       "font_size": null,
       "text_color": null
      }
     },
     "3b56b828c8ce45cda8b6c1b66f896079": {
      "model_module": "@jupyter-widgets/base",
      "model_module_version": "2.0.0",
      "model_name": "LayoutModel",
      "state": {}
     },
     "3bf36c6b17e3427f997de8d184c49ace": {
      "model_module": "@jupyter-widgets/controls",
      "model_module_version": "2.0.0",
      "model_name": "HTMLModel",
      "state": {
       "layout": "IPY_MODEL_277c125014a5445086b6c5729574b00e",
       "style": "IPY_MODEL_d451bda2a4a7432bb50fea27017e473c",
       "value": "Epoch 22: 100%"
      }
     },
     "3c42454f24b84e5891def47283a7927b": {
      "model_module": "@jupyter-widgets/controls",
      "model_module_version": "2.0.0",
      "model_name": "HTMLStyleModel",
      "state": {
       "description_width": "",
       "font_size": null,
       "text_color": null
      }
     },
     "3c76c93bb0164a7186cf6c4d020e3caf": {
      "model_module": "@jupyter-widgets/controls",
      "model_module_version": "2.0.0",
      "model_name": "HBoxModel",
      "state": {
       "children": [
        "IPY_MODEL_1d2134f6cb7a427dacd56870f4502c38",
        "IPY_MODEL_524b25d8847842a39d23171ad52968a7",
        "IPY_MODEL_c493027bf0764a48a6410db112bd7d7a"
       ],
       "layout": "IPY_MODEL_30e758d9ba8348e39eba9b96a8ac2b17"
      }
     },
     "3cb18b32c65648f1824f6fedd564a80f": {
      "model_module": "@jupyter-widgets/base",
      "model_module_version": "2.0.0",
      "model_name": "LayoutModel",
      "state": {}
     },
     "3d1f4ff814dd440c9e9c0e0c0416a0bd": {
      "model_module": "@jupyter-widgets/base",
      "model_module_version": "2.0.0",
      "model_name": "LayoutModel",
      "state": {}
     },
     "3e2c05833c0442898af1cdfbe69e1f47": {
      "model_module": "@jupyter-widgets/base",
      "model_module_version": "2.0.0",
      "model_name": "LayoutModel",
      "state": {}
     },
     "3e745559469146a3832534a86092e511": {
      "model_module": "@jupyter-widgets/controls",
      "model_module_version": "2.0.0",
      "model_name": "HTMLStyleModel",
      "state": {
       "description_width": "",
       "font_size": null,
       "text_color": null
      }
     },
     "3fa1f9333f944d33bb418e2b0bf96b33": {
      "model_module": "@jupyter-widgets/controls",
      "model_module_version": "2.0.0",
      "model_name": "HBoxModel",
      "state": {
       "children": [
        "IPY_MODEL_a4d04ac0b7614188b53ce029a504360d",
        "IPY_MODEL_b69267e9bef74df282718319bad4014b",
        "IPY_MODEL_e3199974ae7d4f0fb203b1290aa14028"
       ],
       "layout": "IPY_MODEL_4a1313ec2e0f48c082825005da761769"
      }
     },
     "3fcfa236453d4856a8e465b511dd6bc8": {
      "model_module": "@jupyter-widgets/controls",
      "model_module_version": "2.0.0",
      "model_name": "HTMLModel",
      "state": {
       "layout": "IPY_MODEL_1b79184e63324bbb88c64188ea5543e8",
       "style": "IPY_MODEL_f20b8bc35d3b429f92f17cc1242523ae",
       "value": "Epoch 20: 100%"
      }
     },
     "3ff063b5159a413f926d1d8eed16dc81": {
      "model_module": "@jupyter-widgets/controls",
      "model_module_version": "2.0.0",
      "model_name": "HTMLStyleModel",
      "state": {
       "description_width": "",
       "font_size": null,
       "text_color": null
      }
     },
     "3ff60124a4824fdf94e66b0b156dc3a4": {
      "model_module": "@jupyter-widgets/controls",
      "model_module_version": "2.0.0",
      "model_name": "HBoxModel",
      "state": {
       "children": [
        "IPY_MODEL_3bf36c6b17e3427f997de8d184c49ace",
        "IPY_MODEL_e5476cec77514fb7ad32b62092b5de2b",
        "IPY_MODEL_afe92dea762f4fee8a16b0d14558418e"
       ],
       "layout": "IPY_MODEL_43684abd70ae4aec8b4f987cb31945cd"
      }
     },
     "407335764add4493a3dcb4a99bf54e86": {
      "model_module": "@jupyter-widgets/base",
      "model_module_version": "2.0.0",
      "model_name": "LayoutModel",
      "state": {}
     },
     "413c306f064f46a5a7a2732f584d18f3": {
      "model_module": "@jupyter-widgets/base",
      "model_module_version": "2.0.0",
      "model_name": "LayoutModel",
      "state": {}
     },
     "41b2e9711c0a4eeba644bef5754b187a": {
      "model_module": "@jupyter-widgets/controls",
      "model_module_version": "2.0.0",
      "model_name": "ProgressStyleModel",
      "state": {
       "description_width": ""
      }
     },
     "41cbd97c4a4d4601abfb235c7b0d6918": {
      "model_module": "@jupyter-widgets/controls",
      "model_module_version": "2.0.0",
      "model_name": "HBoxModel",
      "state": {
       "children": [
        "IPY_MODEL_ef782ba93aa4422ba81057158dc83730",
        "IPY_MODEL_e2d325d4f36649f495e616eb3fbbb179",
        "IPY_MODEL_a53567b94b6940778d26e49ed2b62fd9"
       ],
       "layout": "IPY_MODEL_7c4ab3675f2e4386ab5638c53d6b8db4"
      }
     },
     "41e1e946ea674eacac6dc7fd1993f456": {
      "model_module": "@jupyter-widgets/controls",
      "model_module_version": "2.0.0",
      "model_name": "ProgressStyleModel",
      "state": {
       "description_width": ""
      }
     },
     "4200ea0048df42f99ed8e029552a8ba5": {
      "model_module": "@jupyter-widgets/controls",
      "model_module_version": "2.0.0",
      "model_name": "HTMLStyleModel",
      "state": {
       "description_width": "",
       "font_size": null,
       "text_color": null
      }
     },
     "42295d7646284a00900c25c27c0d3faf": {
      "model_module": "@jupyter-widgets/controls",
      "model_module_version": "2.0.0",
      "model_name": "HTMLStyleModel",
      "state": {
       "description_width": "",
       "font_size": null,
       "text_color": null
      }
     },
     "43684abd70ae4aec8b4f987cb31945cd": {
      "model_module": "@jupyter-widgets/base",
      "model_module_version": "2.0.0",
      "model_name": "LayoutModel",
      "state": {}
     },
     "4392455aa19d4c52ae5d063cd8dbc74c": {
      "model_module": "@jupyter-widgets/base",
      "model_module_version": "2.0.0",
      "model_name": "LayoutModel",
      "state": {}
     },
     "4394caa65c97490086d36352af1471fa": {
      "model_module": "@jupyter-widgets/controls",
      "model_module_version": "2.0.0",
      "model_name": "HTMLStyleModel",
      "state": {
       "description_width": "",
       "font_size": null,
       "text_color": null
      }
     },
     "439ad84a04584328ae0cf0e18ea6297e": {
      "model_module": "@jupyter-widgets/base",
      "model_module_version": "2.0.0",
      "model_name": "LayoutModel",
      "state": {}
     },
     "43cb6bfc5f0a40e3bc093b63f0464274": {
      "model_module": "@jupyter-widgets/controls",
      "model_module_version": "2.0.0",
      "model_name": "HTMLStyleModel",
      "state": {
       "description_width": "",
       "font_size": null,
       "text_color": null
      }
     },
     "444b530820de4de9aebcb5922b161475": {
      "model_module": "@jupyter-widgets/controls",
      "model_module_version": "2.0.0",
      "model_name": "FloatProgressModel",
      "state": {
       "bar_style": "success",
       "layout": "IPY_MODEL_9416f3e9a35b4f8898d9eb710140e120",
       "max": 20,
       "style": "IPY_MODEL_b68305e6dcaf45108dbdc6a77091907b",
       "value": 20
      }
     },
     "44813b4a9e874d2299812946d0c202e6": {
      "model_module": "@jupyter-widgets/controls",
      "model_module_version": "2.0.0",
      "model_name": "FloatProgressModel",
      "state": {
       "bar_style": "success",
       "layout": "IPY_MODEL_9825f1f6f87b496f84d8cd89ef3f1460",
       "max": 1,
       "style": "IPY_MODEL_4ee6973e59bf49d0b43b89954c50c86e",
       "value": 1
      }
     },
     "449f76fa8741453cb8efeb8a68d84db5": {
      "model_module": "@jupyter-widgets/base",
      "model_module_version": "2.0.0",
      "model_name": "LayoutModel",
      "state": {}
     },
     "4560479f57824349b50b6a9f1fbaa0af": {
      "model_module": "@jupyter-widgets/controls",
      "model_module_version": "2.0.0",
      "model_name": "HBoxModel",
      "state": {
       "children": [
        "IPY_MODEL_c2fe2006de3645f6aed62f2542f9d898",
        "IPY_MODEL_ddbc8e95e97443058f28bda210702a83",
        "IPY_MODEL_2b2f66ff4b9b4e52ab4528a0b85ffeb3"
       ],
       "layout": "IPY_MODEL_4392455aa19d4c52ae5d063cd8dbc74c"
      }
     },
     "45e4b52364d64be68a8481b58215d80f": {
      "model_module": "@jupyter-widgets/base",
      "model_module_version": "2.0.0",
      "model_name": "LayoutModel",
      "state": {}
     },
     "4629453629cf46339c26997f7aca7a98": {
      "model_module": "@jupyter-widgets/controls",
      "model_module_version": "2.0.0",
      "model_name": "HTMLModel",
      "state": {
       "layout": "IPY_MODEL_5338e9ec38fd48f8a5d08a144ff79d35",
       "style": "IPY_MODEL_0c19309369174e32b12a358cde69aa26",
       "value": "100%"
      }
     },
     "4668ba7923d84483890585f5b3d3b703": {
      "model_module": "@jupyter-widgets/base",
      "model_module_version": "2.0.0",
      "model_name": "LayoutModel",
      "state": {}
     },
     "46ecd64de37d4325bcb1821c4758877e": {
      "model_module": "@jupyter-widgets/controls",
      "model_module_version": "2.0.0",
      "model_name": "HBoxModel",
      "state": {
       "children": [
        "IPY_MODEL_3992fcee505641b3ab5762e5620b8466",
        "IPY_MODEL_fc575fc58b1046fc9d40d7c4d1dba9fc",
        "IPY_MODEL_b42427debec8437fb0357bfdd69fac0d"
       ],
       "layout": "IPY_MODEL_e8f52ec5c7f842bdabcdddbb6bee9e0c"
      }
     },
     "4741b0e7f7a8434b9d26ed7cb1f39801": {
      "model_module": "@jupyter-widgets/base",
      "model_module_version": "2.0.0",
      "model_name": "LayoutModel",
      "state": {}
     },
     "478d577a07d64094bc5e5acffbc0a3df": {
      "model_module": "@jupyter-widgets/controls",
      "model_module_version": "2.0.0",
      "model_name": "HBoxModel",
      "state": {
       "children": [
        "IPY_MODEL_5f2e473fdc584e5895e372600702df57",
        "IPY_MODEL_05ac1249f9c645d781390d7261a6f5b9",
        "IPY_MODEL_1e19f3d16d8e43ae8735363e2076aed5"
       ],
       "layout": "IPY_MODEL_2b83aa8f713540de85492fbae6439922"
      }
     },
     "47d2e6f520fb484985aaad43c280cca3": {
      "model_module": "@jupyter-widgets/base",
      "model_module_version": "2.0.0",
      "model_name": "LayoutModel",
      "state": {}
     },
     "4807cf42d1d44421908acc6ae8dacef0": {
      "model_module": "@jupyter-widgets/controls",
      "model_module_version": "2.0.0",
      "model_name": "ProgressStyleModel",
      "state": {
       "description_width": ""
      }
     },
     "48eaca0a1d75498c8a2932c355b0a5f3": {
      "model_module": "@jupyter-widgets/controls",
      "model_module_version": "2.0.0",
      "model_name": "FloatProgressModel",
      "state": {
       "bar_style": "success",
       "layout": "IPY_MODEL_50b92b69e5034d7e8f717baaea44f80a",
       "max": 6,
       "style": "IPY_MODEL_8f05fdd8946845728b68dd4041740419",
       "value": 6
      }
     },
     "495661558fcf4defb44f4e797b42f6dc": {
      "model_module": "@jupyter-widgets/base",
      "model_module_version": "2.0.0",
      "model_name": "LayoutModel",
      "state": {}
     },
     "4a1313ec2e0f48c082825005da761769": {
      "model_module": "@jupyter-widgets/base",
      "model_module_version": "2.0.0",
      "model_name": "LayoutModel",
      "state": {}
     },
     "4a218f4b0dd0414d91bb5a5599c7c72a": {
      "model_module": "@jupyter-widgets/base",
      "model_module_version": "2.0.0",
      "model_name": "LayoutModel",
      "state": {}
     },
     "4aaea36d169b48a39cffb3fd01656929": {
      "model_module": "@jupyter-widgets/controls",
      "model_module_version": "2.0.0",
      "model_name": "HBoxModel",
      "state": {
       "children": [
        "IPY_MODEL_0f33803357a14ba584293abc50de8b85",
        "IPY_MODEL_142f440c019c4353b2508ae8041b515a",
        "IPY_MODEL_57f5e1f6d63d475189f7d7899a218e08"
       ],
       "layout": "IPY_MODEL_0c12416b0785412c8e039e93ce8c4b41"
      }
     },
     "4acca9defa6d4aff9b54fd55bea83a68": {
      "model_module": "@jupyter-widgets/controls",
      "model_module_version": "2.0.0",
      "model_name": "HTMLModel",
      "state": {
       "layout": "IPY_MODEL_66561dff217f482da8c289a86e9e3b0b",
       "style": "IPY_MODEL_11a8be3e48b54cc7aeed1757889d1bfe",
       "value": "Epoch 19: 100%"
      }
     },
     "4ca6b2be32a4482c8031b3660f5f5fca": {
      "model_module": "@jupyter-widgets/controls",
      "model_module_version": "2.0.0",
      "model_name": "FloatProgressModel",
      "state": {
       "bar_style": "success",
       "layout": "IPY_MODEL_762ef941ead44f188eb4322d369745fd",
       "max": 1,
       "style": "IPY_MODEL_41b2e9711c0a4eeba644bef5754b187a",
       "value": 1
      }
     },
     "4d8fca4b126748e2ae5223e6807712b7": {
      "model_module": "@jupyter-widgets/base",
      "model_module_version": "2.0.0",
      "model_name": "LayoutModel",
      "state": {}
     },
     "4d9ee98feb9742d3b482b50b72fed673": {
      "model_module": "@jupyter-widgets/controls",
      "model_module_version": "2.0.0",
      "model_name": "HTMLStyleModel",
      "state": {
       "description_width": "",
       "font_size": null,
       "text_color": null
      }
     },
     "4e2459378fdd420db94ba53fc09c7139": {
      "model_module": "@jupyter-widgets/controls",
      "model_module_version": "2.0.0",
      "model_name": "HTMLModel",
      "state": {
       "layout": "IPY_MODEL_630e96fd4c9f4fa290ae0e2be91cc518",
       "style": "IPY_MODEL_4d9ee98feb9742d3b482b50b72fed673",
       "value": " 1/1 [00:00&lt;00:00, 40.69 batch/s, loss=0.023, loss_valid=0.0217]"
      }
     },
     "4e56da0c92e54a09baf19175c957dff5": {
      "model_module": "@jupyter-widgets/controls",
      "model_module_version": "2.0.0",
      "model_name": "HTMLStyleModel",
      "state": {
       "description_width": "",
       "font_size": null,
       "text_color": null
      }
     },
     "4e7135b32fd14ca5beeaca0a096745ea": {
      "model_module": "@jupyter-widgets/base",
      "model_module_version": "2.0.0",
      "model_name": "LayoutModel",
      "state": {}
     },
     "4eaa3c6987084b0a87ee9b50c62c2ac0": {
      "model_module": "@jupyter-widgets/controls",
      "model_module_version": "2.0.0",
      "model_name": "HBoxModel",
      "state": {
       "children": [
        "IPY_MODEL_b345cfa5f2a74e89bc14bdce76935a33",
        "IPY_MODEL_6ef7b8bc2038487883cc4144eeb78458",
        "IPY_MODEL_8496a62239b54fb59d7fb79f85f37baa"
       ],
       "layout": "IPY_MODEL_fb5c7c5e62bc4fb4ac20dd293229951a"
      }
     },
     "4ee6973e59bf49d0b43b89954c50c86e": {
      "model_module": "@jupyter-widgets/controls",
      "model_module_version": "2.0.0",
      "model_name": "ProgressStyleModel",
      "state": {
       "description_width": ""
      }
     },
     "4f36e3a3ca234a3da8c696191a5604b4": {
      "model_module": "@jupyter-widgets/controls",
      "model_module_version": "2.0.0",
      "model_name": "HTMLStyleModel",
      "state": {
       "description_width": "",
       "font_size": null,
       "text_color": null
      }
     },
     "50504d97cc6244b09ef9bbb737b11623": {
      "model_module": "@jupyter-widgets/controls",
      "model_module_version": "2.0.0",
      "model_name": "FloatProgressModel",
      "state": {
       "bar_style": "success",
       "layout": "IPY_MODEL_157d9c588b194753817b6dbb9c28a6cb",
       "max": 6,
       "style": "IPY_MODEL_0157f530118d422892ac49b3ef0cdff2",
       "value": 6
      }
     },
     "508774ecd39e492fae78fbc957902c4a": {
      "model_module": "@jupyter-widgets/controls",
      "model_module_version": "2.0.0",
      "model_name": "HTMLModel",
      "state": {
       "layout": "IPY_MODEL_7f8303f498b14dc8ab1e0adc59a03dab",
       "style": "IPY_MODEL_258bec713aee430c8c4713be3a6c796a",
       "value": " 1/1 [00:00&lt;00:00, 41.67 batch/s, loss=0.023, loss_valid=0.0228]"
      }
     },
     "50b8ee9a2a734d5ca30fd56719be3ec6": {
      "model_module": "@jupyter-widgets/controls",
      "model_module_version": "2.0.0",
      "model_name": "HTMLModel",
      "state": {
       "layout": "IPY_MODEL_0427f6154a0a4482b9a2e36701237da8",
       "style": "IPY_MODEL_0b1f7d86141e42c59f8b839e2362616f",
       "value": "Epoch 16: 100%"
      }
     },
     "50b92b69e5034d7e8f717baaea44f80a": {
      "model_module": "@jupyter-widgets/base",
      "model_module_version": "2.0.0",
      "model_name": "LayoutModel",
      "state": {}
     },
     "50f6436ba07a46f9998769c4c62ff36b": {
      "model_module": "@jupyter-widgets/controls",
      "model_module_version": "2.0.0",
      "model_name": "HTMLModel",
      "state": {
       "layout": "IPY_MODEL_80c9b05a18554c3c9b5d46e16dc6c7bc",
       "style": "IPY_MODEL_53859404015341dfb9acdb83770c9ec3",
       "value": "Epoch 19: 100%"
      }
     },
     "51495969c09a4b6b89da252b75cd841a": {
      "model_module": "@jupyter-widgets/controls",
      "model_module_version": "2.0.0",
      "model_name": "FloatProgressModel",
      "state": {
       "bar_style": "success",
       "layout": "IPY_MODEL_d22f962219f74cdcbee49587b515e27f",
       "max": 1,
       "style": "IPY_MODEL_7d4c84b9b9574d568a42e72c7cf5c7ae",
       "value": 1
      }
     },
     "518a842ee4ff4b89ac106580b75d6b9b": {
      "model_module": "@jupyter-widgets/base",
      "model_module_version": "2.0.0",
      "model_name": "LayoutModel",
      "state": {}
     },
     "51d3d54cc22b40eb9487d23c3ef6a625": {
      "model_module": "@jupyter-widgets/controls",
      "model_module_version": "2.0.0",
      "model_name": "HTMLModel",
      "state": {
       "layout": "IPY_MODEL_21923ea7de914eddbf6146ff58e29e29",
       "style": "IPY_MODEL_741426245cc24fc197f3d7c8db4665bc",
       "value": "100%"
      }
     },
     "524b25d8847842a39d23171ad52968a7": {
      "model_module": "@jupyter-widgets/controls",
      "model_module_version": "2.0.0",
      "model_name": "FloatProgressModel",
      "state": {
       "bar_style": "success",
       "layout": "IPY_MODEL_e4c0eea87f5c441ca50165a92888f3d4",
       "max": 6,
       "style": "IPY_MODEL_1ff6826ceb5c4de5bf381d08087179e2",
       "value": 6
      }
     },
     "5338e9ec38fd48f8a5d08a144ff79d35": {
      "model_module": "@jupyter-widgets/base",
      "model_module_version": "2.0.0",
      "model_name": "LayoutModel",
      "state": {}
     },
     "53859404015341dfb9acdb83770c9ec3": {
      "model_module": "@jupyter-widgets/controls",
      "model_module_version": "2.0.0",
      "model_name": "HTMLStyleModel",
      "state": {
       "description_width": "",
       "font_size": null,
       "text_color": null
      }
     },
     "538890f5e4c247af81fc7ad72b3bde3e": {
      "model_module": "@jupyter-widgets/controls",
      "model_module_version": "2.0.0",
      "model_name": "HTMLStyleModel",
      "state": {
       "description_width": "",
       "font_size": null,
       "text_color": null
      }
     },
     "5516d3da4de84c02b75ab6af7572cf7b": {
      "model_module": "@jupyter-widgets/controls",
      "model_module_version": "2.0.0",
      "model_name": "HTMLStyleModel",
      "state": {
       "description_width": "",
       "font_size": null,
       "text_color": null
      }
     },
     "5542eff67b28427eb438b35bd2b80f7e": {
      "model_module": "@jupyter-widgets/controls",
      "model_module_version": "2.0.0",
      "model_name": "ProgressStyleModel",
      "state": {
       "description_width": ""
      }
     },
     "554d8f6fef444da4a787f4fb15f1c2fc": {
      "model_module": "@jupyter-widgets/controls",
      "model_module_version": "2.0.0",
      "model_name": "HTMLStyleModel",
      "state": {
       "description_width": "",
       "font_size": null,
       "text_color": null
      }
     },
     "555156357c5940beac0ca96265c75a83": {
      "model_module": "@jupyter-widgets/controls",
      "model_module_version": "2.0.0",
      "model_name": "ProgressStyleModel",
      "state": {
       "description_width": ""
      }
     },
     "5586923c3d2543419d4ffb8ee3f89391": {
      "model_module": "@jupyter-widgets/base",
      "model_module_version": "2.0.0",
      "model_name": "LayoutModel",
      "state": {}
     },
     "5616c1d1a2424148b4dd4a247be6044d": {
      "model_module": "@jupyter-widgets/controls",
      "model_module_version": "2.0.0",
      "model_name": "HTMLStyleModel",
      "state": {
       "description_width": "",
       "font_size": null,
       "text_color": null
      }
     },
     "56225e63941c4aa2b4f2ec1592782a13": {
      "model_module": "@jupyter-widgets/base",
      "model_module_version": "2.0.0",
      "model_name": "LayoutModel",
      "state": {}
     },
     "563341b595f64b6aa1268614bc071eeb": {
      "model_module": "@jupyter-widgets/controls",
      "model_module_version": "2.0.0",
      "model_name": "HTMLStyleModel",
      "state": {
       "description_width": "",
       "font_size": null,
       "text_color": null
      }
     },
     "5685fa3a673c497c887bb7dbf99f8b18": {
      "model_module": "@jupyter-widgets/controls",
      "model_module_version": "2.0.0",
      "model_name": "ProgressStyleModel",
      "state": {
       "description_width": ""
      }
     },
     "56863efc6e9f4c7c8791aaaa034a7940": {
      "model_module": "@jupyter-widgets/controls",
      "model_module_version": "2.0.0",
      "model_name": "HTMLStyleModel",
      "state": {
       "description_width": "",
       "font_size": null,
       "text_color": null
      }
     },
     "578e79b7be1b4b42b5eb8fe29ec17345": {
      "model_module": "@jupyter-widgets/controls",
      "model_module_version": "2.0.0",
      "model_name": "HTMLModel",
      "state": {
       "layout": "IPY_MODEL_7d19e4d2e1284f7c9e54e82a3b2b1f82",
       "style": "IPY_MODEL_4394caa65c97490086d36352af1471fa",
       "value": "Epoch 1: 100%"
      }
     },
     "57b6777e637d4cb3a3a6abba3e1628f3": {
      "model_module": "@jupyter-widgets/controls",
      "model_module_version": "2.0.0",
      "model_name": "ProgressStyleModel",
      "state": {
       "description_width": ""
      }
     },
     "57c2847b276d4e20b5d2ce68f8aeb320": {
      "model_module": "@jupyter-widgets/controls",
      "model_module_version": "2.0.0",
      "model_name": "HTMLStyleModel",
      "state": {
       "description_width": "",
       "font_size": null,
       "text_color": null
      }
     },
     "57f5e1f6d63d475189f7d7899a218e08": {
      "model_module": "@jupyter-widgets/controls",
      "model_module_version": "2.0.0",
      "model_name": "HTMLModel",
      "state": {
       "layout": "IPY_MODEL_a68c333673f34e1dbabb6ccd58f49a92",
       "style": "IPY_MODEL_99b78399f1be493abcb9906d05ca6588",
       "value": " 1/1 [00:00&lt;00:00,  7.92it/s]"
      }
     },
     "59414fc6008a4a90a3cd7d1482ca4a2b": {
      "model_module": "@jupyter-widgets/controls",
      "model_module_version": "2.0.0",
      "model_name": "ProgressStyleModel",
      "state": {
       "description_width": ""
      }
     },
     "596786b6be2d46a2aa527b8659337978": {
      "model_module": "@jupyter-widgets/base",
      "model_module_version": "2.0.0",
      "model_name": "LayoutModel",
      "state": {}
     },
     "5a585e844f4a46b2b1e22dff03daeb84": {
      "model_module": "@jupyter-widgets/controls",
      "model_module_version": "2.0.0",
      "model_name": "HTMLStyleModel",
      "state": {
       "description_width": "",
       "font_size": null,
       "text_color": null
      }
     },
     "5ac01b7023194ae5b547600d812e7b72": {
      "model_module": "@jupyter-widgets/controls",
      "model_module_version": "2.0.0",
      "model_name": "HTMLModel",
      "state": {
       "layout": "IPY_MODEL_ec11ea2843744a12888f79d0d283d62d",
       "style": "IPY_MODEL_63635f3216724a53b720cdf0c1355eec",
       "value": "Epoch 6: 100%"
      }
     },
     "5aec6e40ea274428b5f54c1b5602b3d4": {
      "model_module": "@jupyter-widgets/base",
      "model_module_version": "2.0.0",
      "model_name": "LayoutModel",
      "state": {}
     },
     "5b6cc86c87a74f248b1037e399531320": {
      "model_module": "@jupyter-widgets/controls",
      "model_module_version": "2.0.0",
      "model_name": "HTMLModel",
      "state": {
       "layout": "IPY_MODEL_e16b7ad785c94ce5a89ffd33d6d599d6",
       "style": "IPY_MODEL_7ae80bd4c95a4def869e093a27fcf4e7",
       "value": " 1/1 [00:00&lt;00:00, 40.77 batch/s, loss=0.0246, loss_valid=0.0164]"
      }
     },
     "5bb0ebef3bc344d5aacf512cf3620733": {
      "model_module": "@jupyter-widgets/base",
      "model_module_version": "2.0.0",
      "model_name": "LayoutModel",
      "state": {}
     },
     "5be01346175b4c23b08b005126740f60": {
      "model_module": "@jupyter-widgets/controls",
      "model_module_version": "2.0.0",
      "model_name": "HBoxModel",
      "state": {
       "children": [
        "IPY_MODEL_4acca9defa6d4aff9b54fd55bea83a68",
        "IPY_MODEL_2b174875974c4141806b836a46efdf4a",
        "IPY_MODEL_dbbb5e81772040af8e071d72b9ee14c9"
       ],
       "layout": "IPY_MODEL_09f196d9a353439c823bd007d4b04dcf"
      }
     },
     "5d0b817e4a8044839ee368be1399c3b0": {
      "model_module": "@jupyter-widgets/base",
      "model_module_version": "2.0.0",
      "model_name": "LayoutModel",
      "state": {}
     },
     "5d0ba4ab824e49c4a84da81937750343": {
      "model_module": "@jupyter-widgets/base",
      "model_module_version": "2.0.0",
      "model_name": "LayoutModel",
      "state": {}
     },
     "5de308cc26794f3d84ffad304610f3b1": {
      "model_module": "@jupyter-widgets/controls",
      "model_module_version": "2.0.0",
      "model_name": "HBoxModel",
      "state": {
       "children": [
        "IPY_MODEL_7e8259c6d0f64dd48fe5e8edf31fab96",
        "IPY_MODEL_b49008c4121942338159b9ffbaf41eb9",
        "IPY_MODEL_ebe3c6d1f9ab437592ab87175e82edbe"
       ],
       "layout": "IPY_MODEL_0f33ec19eec045b2a3fa6ae7c5e8827e"
      }
     },
     "5e2915dee0694c3c94a3791d00680b96": {
      "model_module": "@jupyter-widgets/base",
      "model_module_version": "2.0.0",
      "model_name": "LayoutModel",
      "state": {}
     },
     "5e80bb5ffe8443c4838889027402ed63": {
      "model_module": "@jupyter-widgets/controls",
      "model_module_version": "2.0.0",
      "model_name": "HTMLStyleModel",
      "state": {
       "description_width": "",
       "font_size": null,
       "text_color": null
      }
     },
     "5f1b4f6e6ad44cc691b6709cb33d318b": {
      "model_module": "@jupyter-widgets/base",
      "model_module_version": "2.0.0",
      "model_name": "LayoutModel",
      "state": {}
     },
     "5f26df1ca7ea45c9bd1f6dc0e17b27bc": {
      "model_module": "@jupyter-widgets/controls",
      "model_module_version": "2.0.0",
      "model_name": "ProgressStyleModel",
      "state": {
       "description_width": ""
      }
     },
     "5f2e473fdc584e5895e372600702df57": {
      "model_module": "@jupyter-widgets/controls",
      "model_module_version": "2.0.0",
      "model_name": "HTMLModel",
      "state": {
       "layout": "IPY_MODEL_5aec6e40ea274428b5f54c1b5602b3d4",
       "style": "IPY_MODEL_13e99f23bb814ff9a6a4463b10aa9b9b",
       "value": "Epoch 7: 100%"
      }
     },
     "5fc8ffab811c411099316b8d797ca273": {
      "model_module": "@jupyter-widgets/controls",
      "model_module_version": "2.0.0",
      "model_name": "HTMLStyleModel",
      "state": {
       "description_width": "",
       "font_size": null,
       "text_color": null
      }
     },
     "603b269608034a839c4d508bc66fce3a": {
      "model_module": "@jupyter-widgets/controls",
      "model_module_version": "2.0.0",
      "model_name": "HTMLModel",
      "state": {
       "layout": "IPY_MODEL_ebe7513d7ee6460590c19df98c6e634b",
       "style": "IPY_MODEL_a13ffaa221984e8b98237b79fb9e53ef",
       "value": " 6/6 [00:00&lt;00:00, 23.01 batch/s, loss=0.023]"
      }
     },
     "6054ccad77814f7287624b6ce81b7915": {
      "model_module": "@jupyter-widgets/controls",
      "model_module_version": "2.0.0",
      "model_name": "FloatProgressModel",
      "state": {
       "bar_style": "success",
       "layout": "IPY_MODEL_e7054676979e4ee6b8cd542daaa552df",
       "max": 25,
       "style": "IPY_MODEL_fd11cecfaf4c45f2aebb2a495b83eb26",
       "value": 25
      }
     },
     "608760915b134d639db72f6bc3e20cb1": {
      "model_module": "@jupyter-widgets/controls",
      "model_module_version": "2.0.0",
      "model_name": "HTMLStyleModel",
      "state": {
       "description_width": "",
       "font_size": null,
       "text_color": null
      }
     },
     "60eacd03b64d49a1ad1d045e8d64e726": {
      "model_module": "@jupyter-widgets/base",
      "model_module_version": "2.0.0",
      "model_name": "LayoutModel",
      "state": {}
     },
     "612abca25e654a0cbda1f8c01d7581d3": {
      "model_module": "@jupyter-widgets/controls",
      "model_module_version": "2.0.0",
      "model_name": "HTMLModel",
      "state": {
       "layout": "IPY_MODEL_c8dd94a665bd475f8dd2f1ca2c12277a",
       "style": "IPY_MODEL_d19af55d5c654ba9a602ccdf71779b32",
       "value": " 6/6 [00:00&lt;00:00, 23.39 batch/s, loss=0.0252]"
      }
     },
     "61591054f2be41658a4444c524da51a5": {
      "model_module": "@jupyter-widgets/controls",
      "model_module_version": "2.0.0",
      "model_name": "FloatProgressModel",
      "state": {
       "bar_style": "success",
       "layout": "IPY_MODEL_8654b54fc8824999840af085746e5c16",
       "max": 6,
       "style": "IPY_MODEL_903a1530285a4ae5bcd97bb92e616052",
       "value": 6
      }
     },
     "619a0cb4a7554e37869256bf411d205e": {
      "model_module": "@jupyter-widgets/controls",
      "model_module_version": "2.0.0",
      "model_name": "HTMLStyleModel",
      "state": {
       "description_width": "",
       "font_size": null,
       "text_color": null
      }
     },
     "62663a7d5ef84705b35a7ef1ad40bb7d": {
      "model_module": "@jupyter-widgets/base",
      "model_module_version": "2.0.0",
      "model_name": "LayoutModel",
      "state": {}
     },
     "62b21128f482417d92262d33c52a0b89": {
      "model_module": "@jupyter-widgets/controls",
      "model_module_version": "2.0.0",
      "model_name": "FloatProgressModel",
      "state": {
       "bar_style": "success",
       "layout": "IPY_MODEL_88080e24b7c14144914d10990fd73bd3",
       "max": 1,
       "style": "IPY_MODEL_dd24d4a3913141b09ca5fdeca62b72e9",
       "value": 1
      }
     },
     "630e96fd4c9f4fa290ae0e2be91cc518": {
      "model_module": "@jupyter-widgets/base",
      "model_module_version": "2.0.0",
      "model_name": "LayoutModel",
      "state": {}
     },
     "63635f3216724a53b720cdf0c1355eec": {
      "model_module": "@jupyter-widgets/controls",
      "model_module_version": "2.0.0",
      "model_name": "HTMLStyleModel",
      "state": {
       "description_width": "",
       "font_size": null,
       "text_color": null
      }
     },
     "64029156f2eb4502982a593ae35d6328": {
      "model_module": "@jupyter-widgets/base",
      "model_module_version": "2.0.0",
      "model_name": "LayoutModel",
      "state": {}
     },
     "6420e28c20a34f7ca18850ce6c949dae": {
      "model_module": "@jupyter-widgets/base",
      "model_module_version": "2.0.0",
      "model_name": "LayoutModel",
      "state": {}
     },
     "647f947d7e6f47cab7e59160320373d9": {
      "model_module": "@jupyter-widgets/base",
      "model_module_version": "2.0.0",
      "model_name": "LayoutModel",
      "state": {}
     },
     "659aec1c187441daba41dcd43be8b1a3": {
      "model_module": "@jupyter-widgets/controls",
      "model_module_version": "2.0.0",
      "model_name": "HBoxModel",
      "state": {
       "children": [
        "IPY_MODEL_50b8ee9a2a734d5ca30fd56719be3ec6",
        "IPY_MODEL_4ca6b2be32a4482c8031b3660f5f5fca",
        "IPY_MODEL_8e5fd9acd05f47438393263d955f7947"
       ],
       "layout": "IPY_MODEL_89df681b4abd4de6983156a84c219acc"
      }
     },
     "65e2ddf0e03d4d698beca10c840efb80": {
      "model_module": "@jupyter-widgets/controls",
      "model_module_version": "2.0.0",
      "model_name": "HTMLStyleModel",
      "state": {
       "description_width": "",
       "font_size": null,
       "text_color": null
      }
     },
     "6617017c7bea4e339c98541cad704356": {
      "model_module": "@jupyter-widgets/base",
      "model_module_version": "2.0.0",
      "model_name": "LayoutModel",
      "state": {}
     },
     "6631db68be13423e87b39a35d1f24957": {
      "model_module": "@jupyter-widgets/controls",
      "model_module_version": "2.0.0",
      "model_name": "ProgressStyleModel",
      "state": {
       "description_width": ""
      }
     },
     "66561dff217f482da8c289a86e9e3b0b": {
      "model_module": "@jupyter-widgets/base",
      "model_module_version": "2.0.0",
      "model_name": "LayoutModel",
      "state": {}
     },
     "6659c5fdb34141489028aab8f2dc0686": {
      "model_module": "@jupyter-widgets/controls",
      "model_module_version": "2.0.0",
      "model_name": "HBoxModel",
      "state": {
       "children": [
        "IPY_MODEL_578e79b7be1b4b42b5eb8fe29ec17345",
        "IPY_MODEL_48eaca0a1d75498c8a2932c355b0a5f3",
        "IPY_MODEL_8d7dfcfa978b44f588bc7ede1aedf7c5"
       ],
       "layout": "IPY_MODEL_95ca81a3f75247ed94c9b714fe340782"
      }
     },
     "66acf87bf1a744d1b6b89d2a672ef655": {
      "model_module": "@jupyter-widgets/base",
      "model_module_version": "2.0.0",
      "model_name": "LayoutModel",
      "state": {}
     },
     "66dc3cc3b32943a2828cf29674278137": {
      "model_module": "@jupyter-widgets/controls",
      "model_module_version": "2.0.0",
      "model_name": "FloatProgressModel",
      "state": {
       "bar_style": "success",
       "layout": "IPY_MODEL_05ac865052a04e4e886c350aa43891d9",
       "max": 1,
       "style": "IPY_MODEL_afe62aa241a84949b1bb649ebbed43f2",
       "value": 1
      }
     },
     "671d116957bb4a4e91dc79f700382a1f": {
      "model_module": "@jupyter-widgets/base",
      "model_module_version": "2.0.0",
      "model_name": "LayoutModel",
      "state": {}
     },
     "67676da148a54e7bb4accc5112b52a50": {
      "model_module": "@jupyter-widgets/controls",
      "model_module_version": "2.0.0",
      "model_name": "HTMLModel",
      "state": {
       "layout": "IPY_MODEL_dc79d079eee84c0bb50bb3b22fa5fe7d",
       "style": "IPY_MODEL_b2ca975ec5714feea43a6ace5dd47945",
       "value": "Epoch 5: 100%"
      }
     },
     "677780d693ff4238b6596bb861417f8b": {
      "model_module": "@jupyter-widgets/base",
      "model_module_version": "2.0.0",
      "model_name": "LayoutModel",
      "state": {}
     },
     "6779d034398c4abbbe4c408f11c8584f": {
      "model_module": "@jupyter-widgets/controls",
      "model_module_version": "2.0.0",
      "model_name": "HTMLModel",
      "state": {
       "layout": "IPY_MODEL_986bbcb651724b7e97ef925167e20d4a",
       "style": "IPY_MODEL_d9ef8ef1848d4747a451bcbd7849956a",
       "value": " 1/1 [00:00&lt;00:00, 38.46 batch/s, loss=0.022, loss_valid=0.0253]"
      }
     },
     "67df6b2965fd4d6ba077a8dccdb00d55": {
      "model_module": "@jupyter-widgets/base",
      "model_module_version": "2.0.0",
      "model_name": "LayoutModel",
      "state": {}
     },
     "688732ad65b549e496d1aac3e0146e35": {
      "model_module": "@jupyter-widgets/controls",
      "model_module_version": "2.0.0",
      "model_name": "HTMLStyleModel",
      "state": {
       "description_width": "",
       "font_size": null,
       "text_color": null
      }
     },
     "69b258e5824749aeae15d9eb8fb18af8": {
      "model_module": "@jupyter-widgets/controls",
      "model_module_version": "2.0.0",
      "model_name": "HTMLStyleModel",
      "state": {
       "description_width": "",
       "font_size": null,
       "text_color": null
      }
     },
     "6a663aff8a6745d698b57fcb1d340f5f": {
      "model_module": "@jupyter-widgets/controls",
      "model_module_version": "2.0.0",
      "model_name": "FloatProgressModel",
      "state": {
       "bar_style": "success",
       "layout": "IPY_MODEL_abb2557f15104541bd0eb170818d4c71",
       "max": 1,
       "style": "IPY_MODEL_af90fd06502e4ec8be564cc84e38a3d2",
       "value": 1
      }
     },
     "6a7ea945d7ed402e8cdf39462fe30e13": {
      "model_module": "@jupyter-widgets/controls",
      "model_module_version": "2.0.0",
      "model_name": "HTMLStyleModel",
      "state": {
       "description_width": "",
       "font_size": null,
       "text_color": null
      }
     },
     "6b349bca7a1a4e68a67c42395a051510": {
      "model_module": "@jupyter-widgets/controls",
      "model_module_version": "2.0.0",
      "model_name": "FloatProgressModel",
      "state": {
       "bar_style": "success",
       "layout": "IPY_MODEL_bb06e81c83224fc2b62d9f0957c645d9",
       "max": 20,
       "style": "IPY_MODEL_daebb9cc4aa346eeafba70408a078997",
       "value": 20
      }
     },
     "6b74e01a92cc41fda81f0224001b89cf": {
      "model_module": "@jupyter-widgets/base",
      "model_module_version": "2.0.0",
      "model_name": "LayoutModel",
      "state": {}
     },
     "6b96998e5f934a959f359b2f93aca232": {
      "model_module": "@jupyter-widgets/controls",
      "model_module_version": "2.0.0",
      "model_name": "FloatProgressModel",
      "state": {
       "bar_style": "success",
       "layout": "IPY_MODEL_495661558fcf4defb44f4e797b42f6dc",
       "max": 1,
       "style": "IPY_MODEL_050b990f2bb74de8b52960da4b73c463",
       "value": 1
      }
     },
     "6bcce461bbf047829818899dde04b193": {
      "model_module": "@jupyter-widgets/controls",
      "model_module_version": "2.0.0",
      "model_name": "FloatProgressModel",
      "state": {
       "bar_style": "success",
       "layout": "IPY_MODEL_8b18d0926cf744ebb361643152eab05f",
       "max": 20,
       "style": "IPY_MODEL_218d1f5ada7f4bf68a10a50501584df9",
       "value": 20
      }
     },
     "6c3712b6d88c48249c4717a0f9383f5b": {
      "model_module": "@jupyter-widgets/base",
      "model_module_version": "2.0.0",
      "model_name": "LayoutModel",
      "state": {}
     },
     "6c8a0c23750741eca52126530a1dbc1a": {
      "model_module": "@jupyter-widgets/base",
      "model_module_version": "2.0.0",
      "model_name": "LayoutModel",
      "state": {}
     },
     "6c8c109d712d46a3b7c5cbfaf3f63d1e": {
      "model_module": "@jupyter-widgets/base",
      "model_module_version": "2.0.0",
      "model_name": "LayoutModel",
      "state": {}
     },
     "6cd28c42dfb1454fbb15b857d5ac7b36": {
      "model_module": "@jupyter-widgets/controls",
      "model_module_version": "2.0.0",
      "model_name": "HTMLModel",
      "state": {
       "layout": "IPY_MODEL_1ba05aa4494749168d68cdbf9713f9d2",
       "style": "IPY_MODEL_43cb6bfc5f0a40e3bc093b63f0464274",
       "value": "Epoch 15: 100%"
      }
     },
     "6d92f611e3d049e885b781fccc20e6bf": {
      "model_module": "@jupyter-widgets/base",
      "model_module_version": "2.0.0",
      "model_name": "LayoutModel",
      "state": {}
     },
     "6dcc456dd8434dd4858c397abe9f2a5d": {
      "model_module": "@jupyter-widgets/base",
      "model_module_version": "2.0.0",
      "model_name": "LayoutModel",
      "state": {}
     },
     "6e99a7e40e8b4dd3ba57c561b3007601": {
      "model_module": "@jupyter-widgets/controls",
      "model_module_version": "2.0.0",
      "model_name": "HTMLStyleModel",
      "state": {
       "description_width": "",
       "font_size": null,
       "text_color": null
      }
     },
     "6ef7b8bc2038487883cc4144eeb78458": {
      "model_module": "@jupyter-widgets/controls",
      "model_module_version": "2.0.0",
      "model_name": "FloatProgressModel",
      "state": {
       "bar_style": "success",
       "layout": "IPY_MODEL_d39847f475f747ca815a9ae95b1c56ed",
       "max": 6,
       "style": "IPY_MODEL_c91fba931a644e6b8862961f4729456d",
       "value": 6
      }
     },
     "6fa34715b5f347618f4add9b34d2de1c": {
      "model_module": "@jupyter-widgets/base",
      "model_module_version": "2.0.0",
      "model_name": "LayoutModel",
      "state": {}
     },
     "6fd7516bf5654afb9551008bf0c423b7": {
      "model_module": "@jupyter-widgets/controls",
      "model_module_version": "2.0.0",
      "model_name": "HTMLStyleModel",
      "state": {
       "description_width": "",
       "font_size": null,
       "text_color": null
      }
     },
     "70a144ba057746dd87d32ae5bc5a068a": {
      "model_module": "@jupyter-widgets/controls",
      "model_module_version": "2.0.0",
      "model_name": "HBoxModel",
      "state": {
       "children": [
        "IPY_MODEL_13d3804e5c7d42a2a7353e81e36f4295",
        "IPY_MODEL_36245b31532f4b17ab695cbf697af407",
        "IPY_MODEL_c32d498e42064072aeb715db27f3a968"
       ],
       "layout": "IPY_MODEL_ace5f389b119431f9c9a3e0c8ffdd73a"
      }
     },
     "7263fe7ba18b4f8cbf4cd22a92e01804": {
      "model_module": "@jupyter-widgets/controls",
      "model_module_version": "2.0.0",
      "model_name": "HBoxModel",
      "state": {
       "children": [
        "IPY_MODEL_4629453629cf46339c26997f7aca7a98",
        "IPY_MODEL_444b530820de4de9aebcb5922b161475",
        "IPY_MODEL_cbfffd948a7c4d598e459656b0ff9fb1"
       ],
       "layout": "IPY_MODEL_f037193371e4411fa11845adedb3632b"
      }
     },
     "73970956da2046e5ac6dbb4da1ad5035": {
      "model_module": "@jupyter-widgets/controls",
      "model_module_version": "2.0.0",
      "model_name": "FloatProgressModel",
      "state": {
       "bar_style": "success",
       "layout": "IPY_MODEL_1af8aad24d8049f186983e379764c897",
       "max": 20,
       "style": "IPY_MODEL_555156357c5940beac0ca96265c75a83",
       "value": 20
      }
     },
     "73ea6990d6aa4468bfefd781e1dd858f": {
      "model_module": "@jupyter-widgets/controls",
      "model_module_version": "2.0.0",
      "model_name": "HBoxModel",
      "state": {
       "children": [
        "IPY_MODEL_1186b23107084541ae06992edb048ed3",
        "IPY_MODEL_96e396f26ac34230a187616b38e26cf2",
        "IPY_MODEL_925bfa27a95943c281118cc89cbc013d"
       ],
       "layout": "IPY_MODEL_0581fae2faa44c40b40877fb616470ba"
      }
     },
     "741426245cc24fc197f3d7c8db4665bc": {
      "model_module": "@jupyter-widgets/controls",
      "model_module_version": "2.0.0",
      "model_name": "HTMLStyleModel",
      "state": {
       "description_width": "",
       "font_size": null,
       "text_color": null
      }
     },
     "7473c7e49e104d828c2b7eed21489c81": {
      "model_module": "@jupyter-widgets/controls",
      "model_module_version": "2.0.0",
      "model_name": "HTMLModel",
      "state": {
       "layout": "IPY_MODEL_329ae8b9ade94ffb98b4d97d1ad597f8",
       "style": "IPY_MODEL_5516d3da4de84c02b75ab6af7572cf7b",
       "value": " 1/1 [00:00&lt;00:00, 32.26 batch/s, loss=0.0251, loss_valid=0.0261]"
      }
     },
     "747dd979f80d43eb9f67f04f13487f69": {
      "model_module": "@jupyter-widgets/controls",
      "model_module_version": "2.0.0",
      "model_name": "ProgressStyleModel",
      "state": {
       "description_width": ""
      }
     },
     "75275b231ae04fe38e017eda29406ee6": {
      "model_module": "@jupyter-widgets/base",
      "model_module_version": "2.0.0",
      "model_name": "LayoutModel",
      "state": {}
     },
     "752a3dc44a184ff79c85eb7d4263ef7c": {
      "model_module": "@jupyter-widgets/controls",
      "model_module_version": "2.0.0",
      "model_name": "HTMLModel",
      "state": {
       "layout": "IPY_MODEL_dddb5d2985f641529b5be5e766a24ea3",
       "style": "IPY_MODEL_6fd7516bf5654afb9551008bf0c423b7",
       "value": "Fit: 100%"
      }
     },
     "760f1e9e63bf4714b239892164b79568": {
      "model_module": "@jupyter-widgets/controls",
      "model_module_version": "2.0.0",
      "model_name": "ProgressStyleModel",
      "state": {
       "description_width": ""
      }
     },
     "762ef941ead44f188eb4322d369745fd": {
      "model_module": "@jupyter-widgets/base",
      "model_module_version": "2.0.0",
      "model_name": "LayoutModel",
      "state": {}
     },
     "768be05cc3614e0c8d2d1044a1fbe238": {
      "model_module": "@jupyter-widgets/controls",
      "model_module_version": "2.0.0",
      "model_name": "HTMLStyleModel",
      "state": {
       "description_width": "",
       "font_size": null,
       "text_color": null
      }
     },
     "77894e6cd47c49ce90fd1abe3bf1d8d1": {
      "model_module": "@jupyter-widgets/base",
      "model_module_version": "2.0.0",
      "model_name": "LayoutModel",
      "state": {}
     },
     "786d49090efd4da6b479f6226180544d": {
      "model_module": "@jupyter-widgets/controls",
      "model_module_version": "2.0.0",
      "model_name": "HBoxModel",
      "state": {
       "children": [
        "IPY_MODEL_ee31040284dd46a4adf04deb71f0cde1",
        "IPY_MODEL_50504d97cc6244b09ef9bbb737b11623",
        "IPY_MODEL_ec6f76fc8dc444218184f63820b49e38"
       ],
       "layout": "IPY_MODEL_dced06e801284511ac1401852d854800"
      }
     },
     "7929175f10224a0499e620fbb912d5ee": {
      "model_module": "@jupyter-widgets/controls",
      "model_module_version": "2.0.0",
      "model_name": "FloatProgressModel",
      "state": {
       "bar_style": "success",
       "layout": "IPY_MODEL_8832992cf0474d85aa2f02d01c048649",
       "max": 1,
       "style": "IPY_MODEL_57b6777e637d4cb3a3a6abba3e1628f3",
       "value": 1
      }
     },
     "79416fe8b4a3444792d6dc5b2121f09f": {
      "model_module": "@jupyter-widgets/controls",
      "model_module_version": "2.0.0",
      "model_name": "FloatProgressModel",
      "state": {
       "bar_style": "success",
       "layout": "IPY_MODEL_a06f7fbf6557455da134f271f6a6a56e",
       "max": 1,
       "style": "IPY_MODEL_ab63180422fc40f4a7fe97f9c0fd74ac",
       "value": 1
      }
     },
     "79888f9da9404015b1bec6bbef8ed2a3": {
      "model_module": "@jupyter-widgets/base",
      "model_module_version": "2.0.0",
      "model_name": "LayoutModel",
      "state": {}
     },
     "7aa5ef2f49404d43a5a7686a148fd3fc": {
      "model_module": "@jupyter-widgets/controls",
      "model_module_version": "2.0.0",
      "model_name": "HTMLModel",
      "state": {
       "layout": "IPY_MODEL_fbc34a52d85d425a9e6bd4ca805bf83f",
       "style": "IPY_MODEL_160502c640ea4fddbcea0d37093d2ff9",
       "value": "Epoch 17: 100%"
      }
     },
     "7ae80bd4c95a4def869e093a27fcf4e7": {
      "model_module": "@jupyter-widgets/controls",
      "model_module_version": "2.0.0",
      "model_name": "HTMLStyleModel",
      "state": {
       "description_width": "",
       "font_size": null,
       "text_color": null
      }
     },
     "7bc4773d49ca46e29764232bca964009": {
      "model_module": "@jupyter-widgets/controls",
      "model_module_version": "2.0.0",
      "model_name": "HTMLModel",
      "state": {
       "layout": "IPY_MODEL_c3d36ff8438244f7b6bab45b78916a5a",
       "style": "IPY_MODEL_57c2847b276d4e20b5d2ce68f8aeb320",
       "value": " 1/1 [00:00&lt;00:00, 40.00 batch/s, loss=0.0259, loss_valid=0.0233]"
      }
     },
     "7c009e92ba3d4f7fb6b0a1428c2f49b9": {
      "model_module": "@jupyter-widgets/controls",
      "model_module_version": "2.0.0",
      "model_name": "FloatProgressModel",
      "state": {
       "bar_style": "success",
       "layout": "IPY_MODEL_b6110733304b4a4dba01b636c8b6c47c",
       "style": "IPY_MODEL_c81ababa01ac4227b663ffd4d0ee9ab2",
       "value": 100
      }
     },
     "7c2b2a77e8b14bd0a8f6faafbb26a41d": {
      "model_module": "@jupyter-widgets/controls",
      "model_module_version": "2.0.0",
      "model_name": "ProgressStyleModel",
      "state": {
       "description_width": ""
      }
     },
     "7c4ab3675f2e4386ab5638c53d6b8db4": {
      "model_module": "@jupyter-widgets/base",
      "model_module_version": "2.0.0",
      "model_name": "LayoutModel",
      "state": {}
     },
     "7d19e4d2e1284f7c9e54e82a3b2b1f82": {
      "model_module": "@jupyter-widgets/base",
      "model_module_version": "2.0.0",
      "model_name": "LayoutModel",
      "state": {}
     },
     "7d3d71207362406c82d8e9a7f994b8b6": {
      "model_module": "@jupyter-widgets/base",
      "model_module_version": "2.0.0",
      "model_name": "LayoutModel",
      "state": {}
     },
     "7d4c84b9b9574d568a42e72c7cf5c7ae": {
      "model_module": "@jupyter-widgets/controls",
      "model_module_version": "2.0.0",
      "model_name": "ProgressStyleModel",
      "state": {
       "description_width": ""
      }
     },
     "7e5302ca5a5c4d93ab88d01a44ab8c4d": {
      "model_module": "@jupyter-widgets/base",
      "model_module_version": "2.0.0",
      "model_name": "LayoutModel",
      "state": {}
     },
     "7e8259c6d0f64dd48fe5e8edf31fab96": {
      "model_module": "@jupyter-widgets/controls",
      "model_module_version": "2.0.0",
      "model_name": "HTMLModel",
      "state": {
       "layout": "IPY_MODEL_1352773692444da58067a04e7cd814ca",
       "style": "IPY_MODEL_a0b0f0b5bf254e72b0e0b55f70cd32f6",
       "value": "Epoch 14: 100%"
      }
     },
     "7e82e88507f54173b9e08c5e6b995cb5": {
      "model_module": "@jupyter-widgets/controls",
      "model_module_version": "2.0.0",
      "model_name": "HTMLStyleModel",
      "state": {
       "description_width": "",
       "font_size": null,
       "text_color": null
      }
     },
     "7eebe6b2da0a4c63991eac0a83657aae": {
      "model_module": "@jupyter-widgets/controls",
      "model_module_version": "2.0.0",
      "model_name": "HTMLModel",
      "state": {
       "layout": "IPY_MODEL_64029156f2eb4502982a593ae35d6328",
       "style": "IPY_MODEL_4e56da0c92e54a09baf19175c957dff5",
       "value": " 1/1 [00:00&lt;00:00, 41.67 batch/s, loss=0.0229, loss_valid=0.021]"
      }
     },
     "7f7a363f097f470fbe6816df2c2b22bf": {
      "model_module": "@jupyter-widgets/controls",
      "model_module_version": "2.0.0",
      "model_name": "HTMLStyleModel",
      "state": {
       "description_width": "",
       "font_size": null,
       "text_color": null
      }
     },
     "7f8303f498b14dc8ab1e0adc59a03dab": {
      "model_module": "@jupyter-widgets/base",
      "model_module_version": "2.0.0",
      "model_name": "LayoutModel",
      "state": {}
     },
     "7f8be777a4284fda936b64f4a517e060": {
      "model_module": "@jupyter-widgets/controls",
      "model_module_version": "2.0.0",
      "model_name": "HTMLModel",
      "state": {
       "layout": "IPY_MODEL_dbf81498899b4058a95b849e461958e9",
       "style": "IPY_MODEL_b3730ed5e910484b826f1c3c8ec6cc31",
       "value": " 6/6 [00:00&lt;00:00,  9.83 batch/s, loss=0.022]"
      }
     },
     "7f9735c0724c47bfb16c9a69c923d8f0": {
      "model_module": "@jupyter-widgets/base",
      "model_module_version": "2.0.0",
      "model_name": "LayoutModel",
      "state": {}
     },
     "8054e2c9678549e9ac2ef02f3749bf28": {
      "model_module": "@jupyter-widgets/base",
      "model_module_version": "2.0.0",
      "model_name": "LayoutModel",
      "state": {}
     },
     "80c9b05a18554c3c9b5d46e16dc6c7bc": {
      "model_module": "@jupyter-widgets/base",
      "model_module_version": "2.0.0",
      "model_name": "LayoutModel",
      "state": {}
     },
     "80ce12e803264485abce90412654776c": {
      "model_module": "@jupyter-widgets/base",
      "model_module_version": "2.0.0",
      "model_name": "LayoutModel",
      "state": {}
     },
     "81a3aa5cbeab4bbba13b20c07c2f9ca2": {
      "model_module": "@jupyter-widgets/base",
      "model_module_version": "2.0.0",
      "model_name": "LayoutModel",
      "state": {}
     },
     "81f0e61da90a477ebc77ecfecb0f3779": {
      "model_module": "@jupyter-widgets/controls",
      "model_module_version": "2.0.0",
      "model_name": "HTMLStyleModel",
      "state": {
       "description_width": "",
       "font_size": null,
       "text_color": null
      }
     },
     "828be11ebb6049f9b892d060bc31c3c9": {
      "model_module": "@jupyter-widgets/base",
      "model_module_version": "2.0.0",
      "model_name": "LayoutModel",
      "state": {}
     },
     "8291eb66821f4f5c89de8442f837fe1a": {
      "model_module": "@jupyter-widgets/controls",
      "model_module_version": "2.0.0",
      "model_name": "ProgressStyleModel",
      "state": {
       "description_width": ""
      }
     },
     "8298db4e27b14b2ca5b2ab5e839958f3": {
      "model_module": "@jupyter-widgets/controls",
      "model_module_version": "2.0.0",
      "model_name": "HTMLStyleModel",
      "state": {
       "description_width": "",
       "font_size": null,
       "text_color": null
      }
     },
     "82b8c2ecfa7448ecaff50c78be58ec63": {
      "model_module": "@jupyter-widgets/controls",
      "model_module_version": "2.0.0",
      "model_name": "HTMLModel",
      "state": {
       "layout": "IPY_MODEL_4d8fca4b126748e2ae5223e6807712b7",
       "style": "IPY_MODEL_e74cc8d743ec4aeeb42f57b59fa04d03",
       "value": " 6/6 [00:00&lt;00:00, 23.38 batch/s, loss=0.0221]"
      }
     },
     "8371cb34d1ff4604b034f21fb5dd173d": {
      "model_module": "@jupyter-widgets/controls",
      "model_module_version": "2.0.0",
      "model_name": "HBoxModel",
      "state": {
       "children": [
        "IPY_MODEL_fc479f142f2d411faaf00f2e83161f17",
        "IPY_MODEL_b1be960bf030411faac9c10db93b6b63",
        "IPY_MODEL_d94a053d918d416dba529074ecab8428"
       ],
       "layout": "IPY_MODEL_596786b6be2d46a2aa527b8659337978"
      }
     },
     "83c84d19b104495ca2a486c5f78886cf": {
      "model_module": "@jupyter-widgets/base",
      "model_module_version": "2.0.0",
      "model_name": "LayoutModel",
      "state": {}
     },
     "83fb4daaf08d46b9992a02459c739ed2": {
      "model_module": "@jupyter-widgets/base",
      "model_module_version": "2.0.0",
      "model_name": "LayoutModel",
      "state": {}
     },
     "84704c523fd94cd0adacb8bb50228675": {
      "model_module": "@jupyter-widgets/base",
      "model_module_version": "2.0.0",
      "model_name": "LayoutModel",
      "state": {}
     },
     "8496a62239b54fb59d7fb79f85f37baa": {
      "model_module": "@jupyter-widgets/controls",
      "model_module_version": "2.0.0",
      "model_name": "HTMLModel",
      "state": {
       "layout": "IPY_MODEL_f03af1e3981149b681627cd99e6c1d59",
       "style": "IPY_MODEL_a78af2e86fe047f7ac3a41ad09210c0a",
       "value": " 6/6 [00:00&lt;00:00, 23.36 batch/s, loss=0.0231]"
      }
     },
     "860d5ade5bce49519ad4968501d98147": {
      "model_module": "@jupyter-widgets/controls",
      "model_module_version": "2.0.0",
      "model_name": "FloatProgressModel",
      "state": {
       "bar_style": "success",
       "layout": "IPY_MODEL_9d9ce944843f418b932051819dc180ea",
       "max": 6,
       "style": "IPY_MODEL_0041dc7875094d7cb1885f0961864470",
       "value": 6
      }
     },
     "8649bdf310fc409681ef2e771721aeb5": {
      "model_module": "@jupyter-widgets/controls",
      "model_module_version": "2.0.0",
      "model_name": "HTMLModel",
      "state": {
       "layout": "IPY_MODEL_5e2915dee0694c3c94a3791d00680b96",
       "style": "IPY_MODEL_5616c1d1a2424148b4dd4a247be6044d",
       "value": "Epoch 4: 100%"
      }
     },
     "8654b54fc8824999840af085746e5c16": {
      "model_module": "@jupyter-widgets/base",
      "model_module_version": "2.0.0",
      "model_name": "LayoutModel",
      "state": {}
     },
     "8677948b7c7b40a391a69827d8085a23": {
      "model_module": "@jupyter-widgets/controls",
      "model_module_version": "2.0.0",
      "model_name": "HBoxModel",
      "state": {
       "children": [
        "IPY_MODEL_752a3dc44a184ff79c85eb7d4263ef7c",
        "IPY_MODEL_6054ccad77814f7287624b6ce81b7915",
        "IPY_MODEL_d4295cdfbc304875b4c1690b5bd3d647"
       ],
       "layout": "IPY_MODEL_eb7827b65b294e74aec9cab0c9c512b4"
      }
     },
     "87ab5aaed05447c299142aa1997d3320": {
      "model_module": "@jupyter-widgets/controls",
      "model_module_version": "2.0.0",
      "model_name": "HBoxModel",
      "state": {
       "children": [
        "IPY_MODEL_8649bdf310fc409681ef2e771721aeb5",
        "IPY_MODEL_6b96998e5f934a959f359b2f93aca232",
        "IPY_MODEL_09c7ce2345c84ef4b138574a781e99cb"
       ],
       "layout": "IPY_MODEL_81a3aa5cbeab4bbba13b20c07c2f9ca2"
      }
     },
     "87c1cd9377d34239b64cb55516c62b4a": {
      "model_module": "@jupyter-widgets/base",
      "model_module_version": "2.0.0",
      "model_name": "LayoutModel",
      "state": {}
     },
     "87eff8a43447452c810d5a160b73ee45": {
      "model_module": "@jupyter-widgets/controls",
      "model_module_version": "2.0.0",
      "model_name": "FloatProgressModel",
      "state": {
       "bar_style": "success",
       "layout": "IPY_MODEL_0e197a866a9b41c68ec809b4c68ba9e9",
       "max": 1,
       "style": "IPY_MODEL_4807cf42d1d44421908acc6ae8dacef0",
       "value": 1
      }
     },
     "88080e24b7c14144914d10990fd73bd3": {
      "model_module": "@jupyter-widgets/base",
      "model_module_version": "2.0.0",
      "model_name": "LayoutModel",
      "state": {}
     },
     "8832992cf0474d85aa2f02d01c048649": {
      "model_module": "@jupyter-widgets/base",
      "model_module_version": "2.0.0",
      "model_name": "LayoutModel",
      "state": {}
     },
     "888b2e0dd0db42c8b5ef79d4896ddcc3": {
      "model_module": "@jupyter-widgets/controls",
      "model_module_version": "2.0.0",
      "model_name": "HTMLStyleModel",
      "state": {
       "description_width": "",
       "font_size": null,
       "text_color": null
      }
     },
     "888da18515a24ed9b4ea44da69b8ac54": {
      "model_module": "@jupyter-widgets/controls",
      "model_module_version": "2.0.0",
      "model_name": "HTMLModel",
      "state": {
       "layout": "IPY_MODEL_0fd80d32cf0b471b950cb34a84667524",
       "style": "IPY_MODEL_e48a92b79c994745996a03cf96752ac5",
       "value": "100%"
      }
     },
     "88dbc99a7c104c73a3b27e830bb18543": {
      "model_module": "@jupyter-widgets/base",
      "model_module_version": "2.0.0",
      "model_name": "LayoutModel",
      "state": {}
     },
     "88fbd8f93fa641a1bfd3eeef5a649d91": {
      "model_module": "@jupyter-widgets/controls",
      "model_module_version": "2.0.0",
      "model_name": "HTMLStyleModel",
      "state": {
       "description_width": "",
       "font_size": null,
       "text_color": null
      }
     },
     "89df681b4abd4de6983156a84c219acc": {
      "model_module": "@jupyter-widgets/base",
      "model_module_version": "2.0.0",
      "model_name": "LayoutModel",
      "state": {}
     },
     "89eb652e6db342899a2bf51a95cb455a": {
      "model_module": "@jupyter-widgets/controls",
      "model_module_version": "2.0.0",
      "model_name": "HTMLStyleModel",
      "state": {
       "description_width": "",
       "font_size": null,
       "text_color": null
      }
     },
     "89f2462695834faa8f11598d5a919951": {
      "model_module": "@jupyter-widgets/controls",
      "model_module_version": "2.0.0",
      "model_name": "HTMLStyleModel",
      "state": {
       "description_width": "",
       "font_size": null,
       "text_color": null
      }
     },
     "89fe39fc4ba840b9972a50fcf77ac19d": {
      "model_module": "@jupyter-widgets/base",
      "model_module_version": "2.0.0",
      "model_name": "LayoutModel",
      "state": {}
     },
     "8a4428a3aff44d7a867d30bbb3c3f0d7": {
      "model_module": "@jupyter-widgets/controls",
      "model_module_version": "2.0.0",
      "model_name": "HTMLModel",
      "state": {
       "layout": "IPY_MODEL_cbd1ea32729b4f9baa538525a188c0c3",
       "style": "IPY_MODEL_f7897f831f6f4c059b8bf65f6b072926",
       "value": " 1/1 [00:00&lt;00:00, 41.67 batch/s, loss=0.0233, loss_valid=0.0125]"
      }
     },
     "8ac4e402dd3e4edd8145081dd26f58c5": {
      "model_module": "@jupyter-widgets/controls",
      "model_module_version": "2.0.0",
      "model_name": "HTMLModel",
      "state": {
       "layout": "IPY_MODEL_413c306f064f46a5a7a2732f584d18f3",
       "style": "IPY_MODEL_89f2462695834faa8f11598d5a919951",
       "value": " 6/6 [00:00&lt;00:00, 23.02 batch/s, loss=0.0256]"
      }
     },
     "8b18d0926cf744ebb361643152eab05f": {
      "model_module": "@jupyter-widgets/base",
      "model_module_version": "2.0.0",
      "model_name": "LayoutModel",
      "state": {}
     },
     "8b190ab72fea4b3b832033b1fccac8fb": {
      "model_module": "@jupyter-widgets/controls",
      "model_module_version": "2.0.0",
      "model_name": "HBoxModel",
      "state": {
       "children": [
        "IPY_MODEL_edbef426fca04ddeb9ee8c0888253647",
        "IPY_MODEL_f2c09dd2fdb843c0ab1ff025ac586fe8",
        "IPY_MODEL_98a82a6b8ff7450c9325557dbb17b1e2"
       ],
       "layout": "IPY_MODEL_0f92db9e158046a89a8d3ce799e6ffda"
      }
     },
     "8cb349b469ee425c9fee6c2490dfa245": {
      "model_module": "@jupyter-widgets/base",
      "model_module_version": "2.0.0",
      "model_name": "LayoutModel",
      "state": {}
     },
     "8d57dad271b4487fbf19c70943c6790d": {
      "model_module": "@jupyter-widgets/controls",
      "model_module_version": "2.0.0",
      "model_name": "HTMLStyleModel",
      "state": {
       "description_width": "",
       "font_size": null,
       "text_color": null
      }
     },
     "8d7dfcfa978b44f588bc7ede1aedf7c5": {
      "model_module": "@jupyter-widgets/controls",
      "model_module_version": "2.0.0",
      "model_name": "HTMLModel",
      "state": {
       "layout": "IPY_MODEL_449f76fa8741453cb8efeb8a68d84db5",
       "style": "IPY_MODEL_bfcad4be39c0401bad89cb57f01cff81",
       "value": " 6/6 [00:00&lt;00:00, 23.20 batch/s, loss=0.0323]"
      }
     },
     "8db3c05656c74eaa968fb29d3fcaab1a": {
      "model_module": "@jupyter-widgets/base",
      "model_module_version": "2.0.0",
      "model_name": "LayoutModel",
      "state": {}
     },
     "8dee139e5dc3409d9a1dd22a0cf87437": {
      "model_module": "@jupyter-widgets/base",
      "model_module_version": "2.0.0",
      "model_name": "LayoutModel",
      "state": {}
     },
     "8df6040508b640b6a847e504c3ae09a5": {
      "model_module": "@jupyter-widgets/controls",
      "model_module_version": "2.0.0",
      "model_name": "HTMLStyleModel",
      "state": {
       "description_width": "",
       "font_size": null,
       "text_color": null
      }
     },
     "8e4f8249506241399d5c0e736d6af629": {
      "model_module": "@jupyter-widgets/controls",
      "model_module_version": "2.0.0",
      "model_name": "ProgressStyleModel",
      "state": {
       "description_width": ""
      }
     },
     "8e5fd9acd05f47438393263d955f7947": {
      "model_module": "@jupyter-widgets/controls",
      "model_module_version": "2.0.0",
      "model_name": "HTMLModel",
      "state": {
       "layout": "IPY_MODEL_c062cf56584348f5af81205d7b534f6b",
       "style": "IPY_MODEL_ee45ea12e8504b59a613ca35f9ca682f",
       "value": " 1/1 [00:00&lt;00:00, 41.66 batch/s, loss=0.0232, loss_valid=0.0132]"
      }
     },
     "8e7a25a1fdb04da097367a1a73710c37": {
      "model_module": "@jupyter-widgets/controls",
      "model_module_version": "2.0.0",
      "model_name": "ProgressStyleModel",
      "state": {
       "description_width": ""
      }
     },
     "8eb3d4007b8a497c8ee12158ae5388c2": {
      "model_module": "@jupyter-widgets/base",
      "model_module_version": "2.0.0",
      "model_name": "LayoutModel",
      "state": {}
     },
     "8f05fdd8946845728b68dd4041740419": {
      "model_module": "@jupyter-widgets/controls",
      "model_module_version": "2.0.0",
      "model_name": "ProgressStyleModel",
      "state": {
       "description_width": ""
      }
     },
     "8f1932aa0c6b421b84c1196b75e5cc1b": {
      "model_module": "@jupyter-widgets/base",
      "model_module_version": "2.0.0",
      "model_name": "LayoutModel",
      "state": {}
     },
     "903a1530285a4ae5bcd97bb92e616052": {
      "model_module": "@jupyter-widgets/controls",
      "model_module_version": "2.0.0",
      "model_name": "ProgressStyleModel",
      "state": {
       "description_width": ""
      }
     },
     "91b3d03613a849eca507a99778bf934f": {
      "model_module": "@jupyter-widgets/controls",
      "model_module_version": "2.0.0",
      "model_name": "HBoxModel",
      "state": {
       "children": [
        "IPY_MODEL_ee6f2149f3d1483286cca7914d2e85b8",
        "IPY_MODEL_c97f8552ef9b4f5c90678d4f57fccb03",
        "IPY_MODEL_ec4d966c98bf4919888e73d5a1a24355"
       ],
       "layout": "IPY_MODEL_6b74e01a92cc41fda81f0224001b89cf"
      }
     },
     "91e4ea8a4faf491dbf7d89a1eea08ba5": {
      "model_module": "@jupyter-widgets/base",
      "model_module_version": "2.0.0",
      "model_name": "LayoutModel",
      "state": {}
     },
     "925bfa27a95943c281118cc89cbc013d": {
      "model_module": "@jupyter-widgets/controls",
      "model_module_version": "2.0.0",
      "model_name": "HTMLModel",
      "state": {
       "layout": "IPY_MODEL_7d3d71207362406c82d8e9a7f994b8b6",
       "style": "IPY_MODEL_be9293b6c0514eacb5f1066de91e0926",
       "value": " 6/6 [00:00&lt;00:00, 13.10 batch/s, loss=0.0251]"
      }
     },
     "934c79efa3cb4d689caef841dbf159ae": {
      "model_module": "@jupyter-widgets/controls",
      "model_module_version": "2.0.0",
      "model_name": "HTMLStyleModel",
      "state": {
       "description_width": "",
       "font_size": null,
       "text_color": null
      }
     },
     "93c06ff595d348e0bb2a27feb0b015d9": {
      "model_module": "@jupyter-widgets/base",
      "model_module_version": "2.0.0",
      "model_name": "LayoutModel",
      "state": {}
     },
     "9416f3e9a35b4f8898d9eb710140e120": {
      "model_module": "@jupyter-widgets/base",
      "model_module_version": "2.0.0",
      "model_name": "LayoutModel",
      "state": {}
     },
     "95ca81a3f75247ed94c9b714fe340782": {
      "model_module": "@jupyter-widgets/base",
      "model_module_version": "2.0.0",
      "model_name": "LayoutModel",
      "state": {}
     },
     "9615d7389c62469d9cd062b220b296e0": {
      "model_module": "@jupyter-widgets/controls",
      "model_module_version": "2.0.0",
      "model_name": "ProgressStyleModel",
      "state": {
       "description_width": ""
      }
     },
     "962e58c11f87458dad17aea1b7fec423": {
      "model_module": "@jupyter-widgets/base",
      "model_module_version": "2.0.0",
      "model_name": "LayoutModel",
      "state": {}
     },
     "96e396f26ac34230a187616b38e26cf2": {
      "model_module": "@jupyter-widgets/controls",
      "model_module_version": "2.0.0",
      "model_name": "FloatProgressModel",
      "state": {
       "bar_style": "success",
       "layout": "IPY_MODEL_f6a7115d606241a7902c65f6e7b85507",
       "max": 6,
       "style": "IPY_MODEL_1e175ccbc22549888050d171687fdbaa",
       "value": 6
      }
     },
     "972410b9c3ef47609cb75c4e07b34800": {
      "model_module": "@jupyter-widgets/controls",
      "model_module_version": "2.0.0",
      "model_name": "HBoxModel",
      "state": {
       "children": [
        "IPY_MODEL_320d83edc925471a9c98eaa2c6565a64",
        "IPY_MODEL_73970956da2046e5ac6dbb4da1ad5035",
        "IPY_MODEL_cf08d7917e59495ca50de2e5ea046ad9"
       ],
       "layout": "IPY_MODEL_9d1ddcba59b34a0abc9d417313bdadaf"
      }
     },
     "9763fd6283f1497097c78b4ea393a5d3": {
      "model_module": "@jupyter-widgets/controls",
      "model_module_version": "2.0.0",
      "model_name": "HTMLModel",
      "state": {
       "layout": "IPY_MODEL_e57f5041057b4570a70e876673ae0d21",
       "style": "IPY_MODEL_022c143e8b6c46279d4172f30dafe5b7",
       "value": "Epoch 22: 100%"
      }
     },
     "97cf9cb3411d4256bc1bc65180d7e488": {
      "model_module": "@jupyter-widgets/controls",
      "model_module_version": "2.0.0",
      "model_name": "HTMLStyleModel",
      "state": {
       "description_width": "",
       "font_size": null,
       "text_color": null
      }
     },
     "9825f1f6f87b496f84d8cd89ef3f1460": {
      "model_module": "@jupyter-widgets/base",
      "model_module_version": "2.0.0",
      "model_name": "LayoutModel",
      "state": {}
     },
     "986bbcb651724b7e97ef925167e20d4a": {
      "model_module": "@jupyter-widgets/base",
      "model_module_version": "2.0.0",
      "model_name": "LayoutModel",
      "state": {}
     },
     "98a82a6b8ff7450c9325557dbb17b1e2": {
      "model_module": "@jupyter-widgets/controls",
      "model_module_version": "2.0.0",
      "model_name": "HTMLModel",
      "state": {
       "layout": "IPY_MODEL_79888f9da9404015b1bec6bbef8ed2a3",
       "style": "IPY_MODEL_3a05c8e9f55049898d1e2d8c06499c04",
       "value": " 1/1 [00:00&lt;00:00, 35.71 batch/s, loss=0.0291, loss_valid=0.0257]"
      }
     },
     "98c95aa097b74b3ca8e4b789a6709ec3": {
      "model_module": "@jupyter-widgets/controls",
      "model_module_version": "2.0.0",
      "model_name": "HTMLStyleModel",
      "state": {
       "description_width": "",
       "font_size": null,
       "text_color": null
      }
     },
     "98e4546c48df4bf0873ba2a90736e845": {
      "model_module": "@jupyter-widgets/controls",
      "model_module_version": "2.0.0",
      "model_name": "HTMLStyleModel",
      "state": {
       "description_width": "",
       "font_size": null,
       "text_color": null
      }
     },
     "99b78399f1be493abcb9906d05ca6588": {
      "model_module": "@jupyter-widgets/controls",
      "model_module_version": "2.0.0",
      "model_name": "HTMLStyleModel",
      "state": {
       "description_width": "",
       "font_size": null,
       "text_color": null
      }
     },
     "99ba826477cf4101b2d886ade6abe695": {
      "model_module": "@jupyter-widgets/controls",
      "model_module_version": "2.0.0",
      "model_name": "HTMLStyleModel",
      "state": {
       "description_width": "",
       "font_size": null,
       "text_color": null
      }
     },
     "9a5b23294c0242f59acc4fdb9c9064cc": {
      "model_module": "@jupyter-widgets/controls",
      "model_module_version": "2.0.0",
      "model_name": "HTMLStyleModel",
      "state": {
       "description_width": "",
       "font_size": null,
       "text_color": null
      }
     },
     "9d1ddcba59b34a0abc9d417313bdadaf": {
      "model_module": "@jupyter-widgets/base",
      "model_module_version": "2.0.0",
      "model_name": "LayoutModel",
      "state": {}
     },
     "9d906a813f8042b0ac968f5e1d6c15ad": {
      "model_module": "@jupyter-widgets/controls",
      "model_module_version": "2.0.0",
      "model_name": "ProgressStyleModel",
      "state": {
       "description_width": ""
      }
     },
     "9d9ce944843f418b932051819dc180ea": {
      "model_module": "@jupyter-widgets/base",
      "model_module_version": "2.0.0",
      "model_name": "LayoutModel",
      "state": {}
     },
     "9e23fc82f922404b8a6ad9cc7bd6f345": {
      "model_module": "@jupyter-widgets/base",
      "model_module_version": "2.0.0",
      "model_name": "LayoutModel",
      "state": {}
     },
     "9e52f2ccf83248f4b1de96932e9a5a38": {
      "model_module": "@jupyter-widgets/base",
      "model_module_version": "2.0.0",
      "model_name": "LayoutModel",
      "state": {}
     },
     "9f718c6a18504f2ca267b5a7a2079521": {
      "model_module": "@jupyter-widgets/base",
      "model_module_version": "2.0.0",
      "model_name": "LayoutModel",
      "state": {}
     },
     "9ff62cf3a4db496a9f515acda86979d6": {
      "model_module": "@jupyter-widgets/controls",
      "model_module_version": "2.0.0",
      "model_name": "HTMLModel",
      "state": {
       "layout": "IPY_MODEL_1ad631c2fcf64e4c806193b04d38ac48",
       "style": "IPY_MODEL_b3daf134e3564d9b80f9a8282d6321f9",
       "value": "Epoch 18: 100%"
      }
     },
     "a06f7fbf6557455da134f271f6a6a56e": {
      "model_module": "@jupyter-widgets/base",
      "model_module_version": "2.0.0",
      "model_name": "LayoutModel",
      "state": {}
     },
     "a0b0f0b5bf254e72b0e0b55f70cd32f6": {
      "model_module": "@jupyter-widgets/controls",
      "model_module_version": "2.0.0",
      "model_name": "HTMLStyleModel",
      "state": {
       "description_width": "",
       "font_size": null,
       "text_color": null
      }
     },
     "a13ffaa221984e8b98237b79fb9e53ef": {
      "model_module": "@jupyter-widgets/controls",
      "model_module_version": "2.0.0",
      "model_name": "HTMLStyleModel",
      "state": {
       "description_width": "",
       "font_size": null,
       "text_color": null
      }
     },
     "a15142d2ac2c4f4ea721e14785cb1cfd": {
      "model_module": "@jupyter-widgets/base",
      "model_module_version": "2.0.0",
      "model_name": "LayoutModel",
      "state": {}
     },
     "a166871dc370471cb616762ccc8f2a6f": {
      "model_module": "@jupyter-widgets/controls",
      "model_module_version": "2.0.0",
      "model_name": "FloatProgressModel",
      "state": {
       "bar_style": "success",
       "layout": "IPY_MODEL_b1a53301ccb14f62a0de2da87bab9ba1",
       "max": 6,
       "style": "IPY_MODEL_c72f72ec36da4056a1860420264c6785",
       "value": 6
      }
     },
     "a1c18d9e031145a79aa710ef7f3e0deb": {
      "model_module": "@jupyter-widgets/base",
      "model_module_version": "2.0.0",
      "model_name": "LayoutModel",
      "state": {}
     },
     "a305f67843614c9e973d86beb4c1b369": {
      "model_module": "@jupyter-widgets/controls",
      "model_module_version": "2.0.0",
      "model_name": "HTMLModel",
      "state": {
       "layout": "IPY_MODEL_bc46962258db43149e39930397a86060",
       "style": "IPY_MODEL_69b258e5824749aeae15d9eb8fb18af8",
       "value": " 6/6 [00:00&lt;00:00, 23.31 batch/s, loss=0.025]"
      }
     },
     "a405c26580dc48168366146de0d3221c": {
      "model_module": "@jupyter-widgets/controls",
      "model_module_version": "2.0.0",
      "model_name": "FloatProgressModel",
      "state": {
       "bar_style": "success",
       "layout": "IPY_MODEL_0360d321ccd24896aa5fb26509794c3a",
       "max": 1,
       "style": "IPY_MODEL_36df9338d77e46f3943fc194f92b4d9d",
       "value": 1
      }
     },
     "a42e376688af4a538723d7e3ad4e00aa": {
      "model_module": "@jupyter-widgets/controls",
      "model_module_version": "2.0.0",
      "model_name": "HBoxModel",
      "state": {
       "children": [
        "IPY_MODEL_37aea00eec1a46ce8973257b03c1650a",
        "IPY_MODEL_d5a86e0a89d04a37a7b7217ef6412735",
        "IPY_MODEL_0cb941353ba34c6ea7d499fb706305fb"
       ],
       "layout": "IPY_MODEL_36aeed07cc324544bbce3f3d59b8443f"
      }
     },
     "a47ab1cd8c944218afb1ba1fc2748628": {
      "model_module": "@jupyter-widgets/controls",
      "model_module_version": "2.0.0",
      "model_name": "HTMLStyleModel",
      "state": {
       "description_width": "",
       "font_size": null,
       "text_color": null
      }
     },
     "a4c7a10111024a8cb55074af141cb738": {
      "model_module": "@jupyter-widgets/controls",
      "model_module_version": "2.0.0",
      "model_name": "HTMLModel",
      "state": {
       "layout": "IPY_MODEL_8f1932aa0c6b421b84c1196b75e5cc1b",
       "style": "IPY_MODEL_8d57dad271b4487fbf19c70943c6790d",
       "value": "Epoch 23: 100%"
      }
     },
     "a4d04ac0b7614188b53ce029a504360d": {
      "model_module": "@jupyter-widgets/controls",
      "model_module_version": "2.0.0",
      "model_name": "HTMLModel",
      "state": {
       "layout": "IPY_MODEL_bb9f7011ffdf436ca387fc7797520693",
       "style": "IPY_MODEL_88fbd8f93fa641a1bfd3eeef5a649d91",
       "value": "Epoch 21: 100%"
      }
     },
     "a4f2a4c6a1304503af720a47d61d013b": {
      "model_module": "@jupyter-widgets/controls",
      "model_module_version": "2.0.0",
      "model_name": "HTMLModel",
      "state": {
       "layout": "IPY_MODEL_77894e6cd47c49ce90fd1abe3bf1d8d1",
       "style": "IPY_MODEL_e8786ad68acf4a30b068f09265bbc49a",
       "value": "Epoch 12: 100%"
      }
     },
     "a51e347c08b341518a8f8f8a3eab3047": {
      "model_module": "@jupyter-widgets/base",
      "model_module_version": "2.0.0",
      "model_name": "LayoutModel",
      "state": {}
     },
     "a53567b94b6940778d26e49ed2b62fd9": {
      "model_module": "@jupyter-widgets/controls",
      "model_module_version": "2.0.0",
      "model_name": "HTMLModel",
      "state": {
       "layout": "IPY_MODEL_3d1f4ff814dd440c9e9c0e0c0416a0bd",
       "style": "IPY_MODEL_619a0cb4a7554e37869256bf411d205e",
       "value": " 1/1 [00:00&lt;00:00, 37.04 batch/s, loss=0.0231, loss_valid=0.02]"
      }
     },
     "a68c333673f34e1dbabb6ccd58f49a92": {
      "model_module": "@jupyter-widgets/base",
      "model_module_version": "2.0.0",
      "model_name": "LayoutModel",
      "state": {}
     },
     "a6a4046f38104bbdae68c01902697a19": {
      "model_module": "@jupyter-widgets/controls",
      "model_module_version": "2.0.0",
      "model_name": "HTMLStyleModel",
      "state": {
       "description_width": "",
       "font_size": null,
       "text_color": null
      }
     },
     "a6be2a56ff58426bb5eb3162422a5aa4": {
      "model_module": "@jupyter-widgets/controls",
      "model_module_version": "2.0.0",
      "model_name": "HTMLModel",
      "state": {
       "layout": "IPY_MODEL_4741b0e7f7a8434b9d26ed7cb1f39801",
       "style": "IPY_MODEL_b0b0c849ba954466818208ec5f5648a2",
       "value": "Epoch 17: 100%"
      }
     },
     "a6ce63980f3541f6a62b00eb9df54220": {
      "model_module": "@jupyter-widgets/controls",
      "model_module_version": "2.0.0",
      "model_name": "FloatProgressModel",
      "state": {
       "bar_style": "success",
       "layout": "IPY_MODEL_b98f903a93d242daa5897a67a1013f5a",
       "max": 1,
       "style": "IPY_MODEL_12a51bfa3baf42c794183d3433f74fea",
       "value": 1
      }
     },
     "a74b6b970bb5491a830417556046393c": {
      "model_module": "@jupyter-widgets/controls",
      "model_module_version": "2.0.0",
      "model_name": "HBoxModel",
      "state": {
       "children": [
        "IPY_MODEL_e16762c5e5d143bd94009ea59014c81f",
        "IPY_MODEL_44813b4a9e874d2299812946d0c202e6",
        "IPY_MODEL_7473c7e49e104d828c2b7eed21489c81"
       ],
       "layout": "IPY_MODEL_62663a7d5ef84705b35a7ef1ad40bb7d"
      }
     },
     "a766039f3b994c13ac2b9042cf507329": {
      "model_module": "@jupyter-widgets/controls",
      "model_module_version": "2.0.0",
      "model_name": "FloatProgressModel",
      "state": {
       "bar_style": "success",
       "layout": "IPY_MODEL_6dcc456dd8434dd4858c397abe9f2a5d",
       "max": 6,
       "style": "IPY_MODEL_f0a8a5180a2c4673b0b81213353a862f",
       "value": 6
      }
     },
     "a78af2e86fe047f7ac3a41ad09210c0a": {
      "model_module": "@jupyter-widgets/controls",
      "model_module_version": "2.0.0",
      "model_name": "HTMLStyleModel",
      "state": {
       "description_width": "",
       "font_size": null,
       "text_color": null
      }
     },
     "a7e8535ac9b245d28090a4e8df14a7a0": {
      "model_module": "@jupyter-widgets/controls",
      "model_module_version": "2.0.0",
      "model_name": "HTMLStyleModel",
      "state": {
       "description_width": "",
       "font_size": null,
       "text_color": null
      }
     },
     "a808182f4f6b4b0ba88b38fbd001f379": {
      "model_module": "@jupyter-widgets/base",
      "model_module_version": "2.0.0",
      "model_name": "LayoutModel",
      "state": {}
     },
     "ab41da1f328f40b9afc777b6013f5142": {
      "model_module": "@jupyter-widgets/base",
      "model_module_version": "2.0.0",
      "model_name": "LayoutModel",
      "state": {}
     },
     "ab63180422fc40f4a7fe97f9c0fd74ac": {
      "model_module": "@jupyter-widgets/controls",
      "model_module_version": "2.0.0",
      "model_name": "ProgressStyleModel",
      "state": {
       "description_width": ""
      }
     },
     "abb2557f15104541bd0eb170818d4c71": {
      "model_module": "@jupyter-widgets/base",
      "model_module_version": "2.0.0",
      "model_name": "LayoutModel",
      "state": {}
     },
     "acd78099d7b04ee086a69219c55409ec": {
      "model_module": "@jupyter-widgets/controls",
      "model_module_version": "2.0.0",
      "model_name": "HTMLModel",
      "state": {
       "layout": "IPY_MODEL_ffe0a89f159b42808db054e5d872b097",
       "style": "IPY_MODEL_3ff063b5159a413f926d1d8eed16dc81",
       "value": "Epoch 7: 100%"
      }
     },
     "ace5f389b119431f9c9a3e0c8ffdd73a": {
      "model_module": "@jupyter-widgets/base",
      "model_module_version": "2.0.0",
      "model_name": "LayoutModel",
      "state": {}
     },
     "adee9c179542404e86296b2eeb7a090e": {
      "model_module": "@jupyter-widgets/base",
      "model_module_version": "2.0.0",
      "model_name": "LayoutModel",
      "state": {}
     },
     "ae40eff75c1647b68dbd788561274d51": {
      "model_module": "@jupyter-widgets/controls",
      "model_module_version": "2.0.0",
      "model_name": "HTMLStyleModel",
      "state": {
       "description_width": "",
       "font_size": null,
       "text_color": null
      }
     },
     "ae429db41e1a4bbca9416472d60260ea": {
      "model_module": "@jupyter-widgets/controls",
      "model_module_version": "2.0.0",
      "model_name": "HTMLModel",
      "state": {
       "layout": "IPY_MODEL_67df6b2965fd4d6ba077a8dccdb00d55",
       "style": "IPY_MODEL_8df6040508b640b6a847e504c3ae09a5",
       "value": "Epoch 10: 100%"
      }
     },
     "aeaae4760f9b4bd0b08e22699d83dc90": {
      "model_module": "@jupyter-widgets/controls",
      "model_module_version": "2.0.0",
      "model_name": "FloatProgressModel",
      "state": {
       "bar_style": "success",
       "layout": "IPY_MODEL_2dd9f7cf3e4c4055ad0bb6f9810242e9",
       "max": 6,
       "style": "IPY_MODEL_747dd979f80d43eb9f67f04f13487f69",
       "value": 6
      }
     },
     "aeff46616b824370b7e5a3805848638d": {
      "model_module": "@jupyter-widgets/controls",
      "model_module_version": "2.0.0",
      "model_name": "FloatProgressModel",
      "state": {
       "bar_style": "success",
       "layout": "IPY_MODEL_93c06ff595d348e0bb2a27feb0b015d9",
       "max": 1,
       "style": "IPY_MODEL_5685fa3a673c497c887bb7dbf99f8b18",
       "value": 1
      }
     },
     "af00ba6af0fe4404ac776135afdd33bc": {
      "model_module": "@jupyter-widgets/base",
      "model_module_version": "2.0.0",
      "model_name": "LayoutModel",
      "state": {}
     },
     "af90fd06502e4ec8be564cc84e38a3d2": {
      "model_module": "@jupyter-widgets/controls",
      "model_module_version": "2.0.0",
      "model_name": "ProgressStyleModel",
      "state": {
       "description_width": ""
      }
     },
     "af928d1b78794a7e82e62f0c5273ecf7": {
      "model_module": "@jupyter-widgets/controls",
      "model_module_version": "2.0.0",
      "model_name": "HBoxModel",
      "state": {
       "children": [
        "IPY_MODEL_f2d6eebdcfb84e7c8b576db61fea3ef8",
        "IPY_MODEL_51495969c09a4b6b89da252b75cd841a",
        "IPY_MODEL_3ab88bc17bb04f05a805aa2ccf42bacd"
       ],
       "layout": "IPY_MODEL_bf95911574c84e86be24cafe2ec4e4d8"
      }
     },
     "afe62aa241a84949b1bb649ebbed43f2": {
      "model_module": "@jupyter-widgets/controls",
      "model_module_version": "2.0.0",
      "model_name": "ProgressStyleModel",
      "state": {
       "description_width": ""
      }
     },
     "afe92dea762f4fee8a16b0d14558418e": {
      "model_module": "@jupyter-widgets/controls",
      "model_module_version": "2.0.0",
      "model_name": "HTMLModel",
      "state": {
       "layout": "IPY_MODEL_35ff78bb9cf44d7399d77770a0e7012e",
       "style": "IPY_MODEL_89eb652e6db342899a2bf51a95cb455a",
       "value": " 6/6 [00:00&lt;00:00, 22.92 batch/s, loss=0.023]"
      }
     },
     "b0099721edd2475ab65a69100a634dbe": {
      "model_module": "@jupyter-widgets/controls",
      "model_module_version": "2.0.0",
      "model_name": "ProgressStyleModel",
      "state": {
       "description_width": ""
      }
     },
     "b0b0c849ba954466818208ec5f5648a2": {
      "model_module": "@jupyter-widgets/controls",
      "model_module_version": "2.0.0",
      "model_name": "HTMLStyleModel",
      "state": {
       "description_width": "",
       "font_size": null,
       "text_color": null
      }
     },
     "b1a1112710e3481da12201bada938f03": {
      "model_module": "@jupyter-widgets/controls",
      "model_module_version": "2.0.0",
      "model_name": "HTMLModel",
      "state": {
       "layout": "IPY_MODEL_33482d1eaa234fd18dd24553e30f17a2",
       "style": "IPY_MODEL_35c9e5079555442e9662f4f073b29ca9",
       "value": " 6/6 [00:00&lt;00:00, 23.48 batch/s, loss=0.0232]"
      }
     },
     "b1a53301ccb14f62a0de2da87bab9ba1": {
      "model_module": "@jupyter-widgets/base",
      "model_module_version": "2.0.0",
      "model_name": "LayoutModel",
      "state": {}
     },
     "b1be960bf030411faac9c10db93b6b63": {
      "model_module": "@jupyter-widgets/controls",
      "model_module_version": "2.0.0",
      "model_name": "FloatProgressModel",
      "state": {
       "bar_style": "success",
       "layout": "IPY_MODEL_2cf1d15ab8fd4a6cb94ac54d5809c77d",
       "max": 1,
       "style": "IPY_MODEL_bd085cc24f5940be81b10c8974f05e07",
       "value": 1
      }
     },
     "b250c7655d7745e7881ed07c53b85594": {
      "model_module": "@jupyter-widgets/controls",
      "model_module_version": "2.0.0",
      "model_name": "HBoxModel",
      "state": {
       "children": [
        "IPY_MODEL_acd78099d7b04ee086a69219c55409ec",
        "IPY_MODEL_79416fe8b4a3444792d6dc5b2121f09f",
        "IPY_MODEL_5b6cc86c87a74f248b1037e399531320"
       ],
       "layout": "IPY_MODEL_66acf87bf1a744d1b6b89d2a672ef655"
      }
     },
     "b28992e34f1a4ed18a1f243d17bebb22": {
      "model_module": "@jupyter-widgets/controls",
      "model_module_version": "2.0.0",
      "model_name": "HTMLModel",
      "state": {
       "layout": "IPY_MODEL_a808182f4f6b4b0ba88b38fbd001f379",
       "style": "IPY_MODEL_554d8f6fef444da4a787f4fb15f1c2fc",
       "value": "Epoch 20: 100%"
      }
     },
     "b2ca975ec5714feea43a6ace5dd47945": {
      "model_module": "@jupyter-widgets/controls",
      "model_module_version": "2.0.0",
      "model_name": "HTMLStyleModel",
      "state": {
       "description_width": "",
       "font_size": null,
       "text_color": null
      }
     },
     "b2de28e99656454fafd8797745254405": {
      "model_module": "@jupyter-widgets/controls",
      "model_module_version": "2.0.0",
      "model_name": "HTMLStyleModel",
      "state": {
       "description_width": "",
       "font_size": null,
       "text_color": null
      }
     },
     "b345cfa5f2a74e89bc14bdce76935a33": {
      "model_module": "@jupyter-widgets/controls",
      "model_module_version": "2.0.0",
      "model_name": "HTMLModel",
      "state": {
       "layout": "IPY_MODEL_6d92f611e3d049e885b781fccc20e6bf",
       "style": "IPY_MODEL_25678ca1e4eb47c4a08a79f6a72470d2",
       "value": "Epoch 11: 100%"
      }
     },
     "b3730ed5e910484b826f1c3c8ec6cc31": {
      "model_module": "@jupyter-widgets/controls",
      "model_module_version": "2.0.0",
      "model_name": "HTMLStyleModel",
      "state": {
       "description_width": "",
       "font_size": null,
       "text_color": null
      }
     },
     "b3c2498e8617454fbf810da65932e6ad": {
      "model_module": "@jupyter-widgets/base",
      "model_module_version": "2.0.0",
      "model_name": "LayoutModel",
      "state": {}
     },
     "b3daf134e3564d9b80f9a8282d6321f9": {
      "model_module": "@jupyter-widgets/controls",
      "model_module_version": "2.0.0",
      "model_name": "HTMLStyleModel",
      "state": {
       "description_width": "",
       "font_size": null,
       "text_color": null
      }
     },
     "b42427debec8437fb0357bfdd69fac0d": {
      "model_module": "@jupyter-widgets/controls",
      "model_module_version": "2.0.0",
      "model_name": "HTMLModel",
      "state": {
       "layout": "IPY_MODEL_f760492446c0428b9df8bc2059685d8b",
       "style": "IPY_MODEL_1b4ec200df30427cbd3aa24ca95b0826",
       "value": " 6/6 [00:00&lt;00:00, 23.42 batch/s, loss=0.0231]"
      }
     },
     "b4545d97b9464453b69d2ff5e9418368": {
      "model_module": "@jupyter-widgets/base",
      "model_module_version": "2.0.0",
      "model_name": "LayoutModel",
      "state": {}
     },
     "b49008c4121942338159b9ffbaf41eb9": {
      "model_module": "@jupyter-widgets/controls",
      "model_module_version": "2.0.0",
      "model_name": "FloatProgressModel",
      "state": {
       "bar_style": "success",
       "layout": "IPY_MODEL_bc1a9455d87548edadf7220d213c760c",
       "max": 1,
       "style": "IPY_MODEL_0a38693a216c49f9921ed128644c0604",
       "value": 1
      }
     },
     "b5241ca2ae384e1a80a6525593edd551": {
      "model_module": "@jupyter-widgets/base",
      "model_module_version": "2.0.0",
      "model_name": "LayoutModel",
      "state": {}
     },
     "b6110733304b4a4dba01b636c8b6c47c": {
      "model_module": "@jupyter-widgets/base",
      "model_module_version": "2.0.0",
      "model_name": "LayoutModel",
      "state": {}
     },
     "b66dcd04b13e48b2a9eed21d152d5935": {
      "model_module": "@jupyter-widgets/base",
      "model_module_version": "2.0.0",
      "model_name": "LayoutModel",
      "state": {}
     },
     "b68305e6dcaf45108dbdc6a77091907b": {
      "model_module": "@jupyter-widgets/controls",
      "model_module_version": "2.0.0",
      "model_name": "ProgressStyleModel",
      "state": {
       "description_width": ""
      }
     },
     "b69267e9bef74df282718319bad4014b": {
      "model_module": "@jupyter-widgets/controls",
      "model_module_version": "2.0.0",
      "model_name": "FloatProgressModel",
      "state": {
       "bar_style": "success",
       "layout": "IPY_MODEL_8054e2c9678549e9ac2ef02f3749bf28",
       "max": 6,
       "style": "IPY_MODEL_1863412441b946d0abb80c30f7e1f007",
       "value": 6
      }
     },
     "b6e722054d024c91b693816ffdd8c089": {
      "model_module": "@jupyter-widgets/controls",
      "model_module_version": "2.0.0",
      "model_name": "HTMLStyleModel",
      "state": {
       "description_width": "",
       "font_size": null,
       "text_color": null
      }
     },
     "b71756795d1848888046dab587109c76": {
      "model_module": "@jupyter-widgets/base",
      "model_module_version": "2.0.0",
      "model_name": "LayoutModel",
      "state": {}
     },
     "b87989fd83ed44089b0c3793a3a50361": {
      "model_module": "@jupyter-widgets/base",
      "model_module_version": "2.0.0",
      "model_name": "LayoutModel",
      "state": {}
     },
     "b920a8beb95148b1976909087b636d1e": {
      "model_module": "@jupyter-widgets/controls",
      "model_module_version": "2.0.0",
      "model_name": "HTMLModel",
      "state": {
       "layout": "IPY_MODEL_ab41da1f328f40b9afc777b6013f5142",
       "style": "IPY_MODEL_538890f5e4c247af81fc7ad72b3bde3e",
       "value": " 1/1 [00:00&lt;00:00, 40.00 batch/s, loss=0.0222, loss_valid=0.0189]"
      }
     },
     "b98f903a93d242daa5897a67a1013f5a": {
      "model_module": "@jupyter-widgets/base",
      "model_module_version": "2.0.0",
      "model_name": "LayoutModel",
      "state": {}
     },
     "ba16dbc65d5a46c8bdaeb938354449f8": {
      "model_module": "@jupyter-widgets/base",
      "model_module_version": "2.0.0",
      "model_name": "LayoutModel",
      "state": {}
     },
     "ba294085f99c494dbb98dab0fe591894": {
      "model_module": "@jupyter-widgets/base",
      "model_module_version": "2.0.0",
      "model_name": "LayoutModel",
      "state": {}
     },
     "bb06e81c83224fc2b62d9f0957c645d9": {
      "model_module": "@jupyter-widgets/base",
      "model_module_version": "2.0.0",
      "model_name": "LayoutModel",
      "state": {}
     },
     "bb19b2ceac7647279708755c62050d0f": {
      "model_module": "@jupyter-widgets/base",
      "model_module_version": "2.0.0",
      "model_name": "LayoutModel",
      "state": {}
     },
     "bb9f7011ffdf436ca387fc7797520693": {
      "model_module": "@jupyter-widgets/base",
      "model_module_version": "2.0.0",
      "model_name": "LayoutModel",
      "state": {}
     },
     "bc1a9455d87548edadf7220d213c760c": {
      "model_module": "@jupyter-widgets/base",
      "model_module_version": "2.0.0",
      "model_name": "LayoutModel",
      "state": {}
     },
     "bc46962258db43149e39930397a86060": {
      "model_module": "@jupyter-widgets/base",
      "model_module_version": "2.0.0",
      "model_name": "LayoutModel",
      "state": {}
     },
     "bd085cc24f5940be81b10c8974f05e07": {
      "model_module": "@jupyter-widgets/controls",
      "model_module_version": "2.0.0",
      "model_name": "ProgressStyleModel",
      "state": {
       "description_width": ""
      }
     },
     "be0b8310cabd4a23951badeb195a88ec": {
      "model_module": "@jupyter-widgets/base",
      "model_module_version": "2.0.0",
      "model_name": "LayoutModel",
      "state": {}
     },
     "be9293b6c0514eacb5f1066de91e0926": {
      "model_module": "@jupyter-widgets/controls",
      "model_module_version": "2.0.0",
      "model_name": "HTMLStyleModel",
      "state": {
       "description_width": "",
       "font_size": null,
       "text_color": null
      }
     },
     "bf8dfe80f2c64fe6824bb11da0956d29": {
      "model_module": "@jupyter-widgets/base",
      "model_module_version": "2.0.0",
      "model_name": "LayoutModel",
      "state": {}
     },
     "bf95911574c84e86be24cafe2ec4e4d8": {
      "model_module": "@jupyter-widgets/base",
      "model_module_version": "2.0.0",
      "model_name": "LayoutModel",
      "state": {}
     },
     "bfcad4be39c0401bad89cb57f01cff81": {
      "model_module": "@jupyter-widgets/controls",
      "model_module_version": "2.0.0",
      "model_name": "HTMLStyleModel",
      "state": {
       "description_width": "",
       "font_size": null,
       "text_color": null
      }
     },
     "c04add7fa12f47859f805a58525ab5b1": {
      "model_module": "@jupyter-widgets/base",
      "model_module_version": "2.0.0",
      "model_name": "LayoutModel",
      "state": {}
     },
     "c062cf56584348f5af81205d7b534f6b": {
      "model_module": "@jupyter-widgets/base",
      "model_module_version": "2.0.0",
      "model_name": "LayoutModel",
      "state": {}
     },
     "c09aac48121a4c19942caec8459c3790": {
      "model_module": "@jupyter-widgets/base",
      "model_module_version": "2.0.0",
      "model_name": "LayoutModel",
      "state": {}
     },
     "c0aa52990a4b47268ad87cb88ae0b690": {
      "model_module": "@jupyter-widgets/controls",
      "model_module_version": "2.0.0",
      "model_name": "HTMLModel",
      "state": {
       "layout": "IPY_MODEL_45e4b52364d64be68a8481b58215d80f",
       "style": "IPY_MODEL_3e745559469146a3832534a86092e511",
       "value": "Epoch 3: 100%"
      }
     },
     "c11abb0c614d468e9673ef50fde73fe8": {
      "model_module": "@jupyter-widgets/base",
      "model_module_version": "2.0.0",
      "model_name": "LayoutModel",
      "state": {}
     },
     "c14a4b9bffdb46ba8ff06fbfbf0dbed0": {
      "model_module": "@jupyter-widgets/base",
      "model_module_version": "2.0.0",
      "model_name": "LayoutModel",
      "state": {}
     },
     "c14ce60d56bf43bb9d1bcea8e08cedd9": {
      "model_module": "@jupyter-widgets/base",
      "model_module_version": "2.0.0",
      "model_name": "LayoutModel",
      "state": {}
     },
     "c179c0bd002e4b5fbe721b38ef144b20": {
      "model_module": "@jupyter-widgets/base",
      "model_module_version": "2.0.0",
      "model_name": "LayoutModel",
      "state": {}
     },
     "c23d039ea4d148c2a55a0cdb535968fa": {
      "model_module": "@jupyter-widgets/controls",
      "model_module_version": "2.0.0",
      "model_name": "ProgressStyleModel",
      "state": {
       "description_width": ""
      }
     },
     "c2fe2006de3645f6aed62f2542f9d898": {
      "model_module": "@jupyter-widgets/controls",
      "model_module_version": "2.0.0",
      "model_name": "HTMLModel",
      "state": {
       "layout": "IPY_MODEL_c179c0bd002e4b5fbe721b38ef144b20",
       "style": "IPY_MODEL_a47ab1cd8c944218afb1ba1fc2748628",
       "value": "Epoch 9: 100%"
      }
     },
     "c30e435445184201bb8956626662851f": {
      "model_module": "@jupyter-widgets/controls",
      "model_module_version": "2.0.0",
      "model_name": "ProgressStyleModel",
      "state": {
       "description_width": ""
      }
     },
     "c32d498e42064072aeb715db27f3a968": {
      "model_module": "@jupyter-widgets/controls",
      "model_module_version": "2.0.0",
      "model_name": "HTMLModel",
      "state": {
       "layout": "IPY_MODEL_e18e5603691b422c869cb29f580d9d0a",
       "style": "IPY_MODEL_17c8e0419cd04be382d829f70177f33c",
       "value": " 6/6 [00:00&lt;00:00, 23.79 batch/s, loss=0.0211]"
      }
     },
     "c3bec55e10aa4d7e84fb73b8002ca865": {
      "model_module": "@jupyter-widgets/controls",
      "model_module_version": "2.0.0",
      "model_name": "FloatProgressModel",
      "state": {
       "bar_style": "success",
       "layout": "IPY_MODEL_29ce1db42ff94f93a0a4b59da45864fb",
       "max": 1,
       "style": "IPY_MODEL_c94952aaf242436a9eca5e8c2d364e1a",
       "value": 1
      }
     },
     "c3d36ff8438244f7b6bab45b78916a5a": {
      "model_module": "@jupyter-widgets/base",
      "model_module_version": "2.0.0",
      "model_name": "LayoutModel",
      "state": {}
     },
     "c40502a859094931a9ec5f698ea19ecf": {
      "model_module": "@jupyter-widgets/controls",
      "model_module_version": "2.0.0",
      "model_name": "HBoxModel",
      "state": {
       "children": [
        "IPY_MODEL_a4f2a4c6a1304503af720a47d61d013b",
        "IPY_MODEL_db2f9f01ad7848679c9a0c611cb629a8",
        "IPY_MODEL_31b9cba5b20b400d80230f02a53f2939"
       ],
       "layout": "IPY_MODEL_56225e63941c4aa2b4f2ec1592782a13"
      }
     },
     "c493027bf0764a48a6410db112bd7d7a": {
      "model_module": "@jupyter-widgets/controls",
      "model_module_version": "2.0.0",
      "model_name": "HTMLModel",
      "state": {
       "layout": "IPY_MODEL_c6e71b1c40144a0881249a729acd1fac",
       "style": "IPY_MODEL_3b545c6a91b14b90b7a25191c9d0bbc0",
       "value": " 6/6 [00:00&lt;00:00, 23.32 batch/s, loss=0.0253]"
      }
     },
     "c5565017b90b497da1c014c362249e9f": {
      "model_module": "@jupyter-widgets/base",
      "model_module_version": "2.0.0",
      "model_name": "LayoutModel",
      "state": {}
     },
     "c6a38c6dfe5b417a91352dec79166939": {
      "model_module": "@jupyter-widgets/controls",
      "model_module_version": "2.0.0",
      "model_name": "HBoxModel",
      "state": {
       "children": [
        "IPY_MODEL_182e53e4fc304600a4b4a5411a03435d",
        "IPY_MODEL_21ac8e594cbe48f9ad9869e25cd850d8",
        "IPY_MODEL_a305f67843614c9e973d86beb4c1b369"
       ],
       "layout": "IPY_MODEL_d43e4f5095684652817ac0d375fa940d"
      }
     },
     "c6e71b1c40144a0881249a729acd1fac": {
      "model_module": "@jupyter-widgets/base",
      "model_module_version": "2.0.0",
      "model_name": "LayoutModel",
      "state": {}
     },
     "c72f72ec36da4056a1860420264c6785": {
      "model_module": "@jupyter-widgets/controls",
      "model_module_version": "2.0.0",
      "model_name": "ProgressStyleModel",
      "state": {
       "description_width": ""
      }
     },
     "c7381d800e6c4b658f9e090128d6cdfa": {
      "model_module": "@jupyter-widgets/controls",
      "model_module_version": "2.0.0",
      "model_name": "HBoxModel",
      "state": {
       "children": [
        "IPY_MODEL_5ac01b7023194ae5b547600d812e7b72",
        "IPY_MODEL_a766039f3b994c13ac2b9042cf507329",
        "IPY_MODEL_7f8be777a4284fda936b64f4a517e060"
       ],
       "layout": "IPY_MODEL_6c3712b6d88c48249c4717a0f9383f5b"
      }
     },
     "c73eb7f291f94fa69ff30797ca57203e": {
      "model_module": "@jupyter-widgets/controls",
      "model_module_version": "2.0.0",
      "model_name": "HBoxModel",
      "state": {
       "children": [
        "IPY_MODEL_12911119643d43bbbc36d365ec22c6a4",
        "IPY_MODEL_a166871dc370471cb616762ccc8f2a6f",
        "IPY_MODEL_8ac4e402dd3e4edd8145081dd26f58c5"
       ],
       "layout": "IPY_MODEL_518a842ee4ff4b89ac106580b75d6b9b"
      }
     },
     "c81ababa01ac4227b663ffd4d0ee9ab2": {
      "model_module": "@jupyter-widgets/controls",
      "model_module_version": "2.0.0",
      "model_name": "ProgressStyleModel",
      "state": {
       "description_width": ""
      }
     },
     "c8dd94a665bd475f8dd2f1ca2c12277a": {
      "model_module": "@jupyter-widgets/base",
      "model_module_version": "2.0.0",
      "model_name": "LayoutModel",
      "state": {}
     },
     "c91fba931a644e6b8862961f4729456d": {
      "model_module": "@jupyter-widgets/controls",
      "model_module_version": "2.0.0",
      "model_name": "ProgressStyleModel",
      "state": {
       "description_width": ""
      }
     },
     "c94952aaf242436a9eca5e8c2d364e1a": {
      "model_module": "@jupyter-widgets/controls",
      "model_module_version": "2.0.0",
      "model_name": "ProgressStyleModel",
      "state": {
       "description_width": ""
      }
     },
     "c97f8552ef9b4f5c90678d4f57fccb03": {
      "model_module": "@jupyter-widgets/controls",
      "model_module_version": "2.0.0",
      "model_name": "FloatProgressModel",
      "state": {
       "bar_style": "success",
       "layout": "IPY_MODEL_6c8c109d712d46a3b7c5cbfaf3f63d1e",
       "max": 1,
       "style": "IPY_MODEL_d4c26d59b0b249f599f95a47dd8ef836",
       "value": 1
      }
     },
     "c98d303e8dba403a8957c3278fa174b2": {
      "model_module": "@jupyter-widgets/controls",
      "model_module_version": "2.0.0",
      "model_name": "FloatProgressModel",
      "state": {
       "bar_style": "success",
       "layout": "IPY_MODEL_360e80aa4e34450ab6a3fdf891bb31d2",
       "max": 1,
       "style": "IPY_MODEL_9d906a813f8042b0ac968f5e1d6c15ad",
       "value": 1
      }
     },
     "cbd1ea32729b4f9baa538525a188c0c3": {
      "model_module": "@jupyter-widgets/base",
      "model_module_version": "2.0.0",
      "model_name": "LayoutModel",
      "state": {}
     },
     "cbfffd948a7c4d598e459656b0ff9fb1": {
      "model_module": "@jupyter-widgets/controls",
      "model_module_version": "2.0.0",
      "model_name": "HTMLModel",
      "state": {
       "layout": "IPY_MODEL_0f04a445cf1c4442b8470d55cafed630",
       "style": "IPY_MODEL_390e520715f24e228855297b87da7f8d",
       "value": " 20/20 [00:03&lt;00:00,  7.72it/s]"
      }
     },
     "cc2f4e0b03db4febaa9132485a058d22": {
      "model_module": "@jupyter-widgets/controls",
      "model_module_version": "2.0.0",
      "model_name": "HTMLStyleModel",
      "state": {
       "description_width": "",
       "font_size": null,
       "text_color": null
      }
     },
     "cc7e423d04364e72b263a583c0b8381e": {
      "model_module": "@jupyter-widgets/base",
      "model_module_version": "2.0.0",
      "model_name": "LayoutModel",
      "state": {}
     },
     "cd0725a260564ecca168099ac39325d5": {
      "model_module": "@jupyter-widgets/controls",
      "model_module_version": "2.0.0",
      "model_name": "HTMLStyleModel",
      "state": {
       "description_width": "",
       "font_size": null,
       "text_color": null
      }
     },
     "cd3b68d1e2334a0f975ee01e1817f09f": {
      "model_module": "@jupyter-widgets/controls",
      "model_module_version": "2.0.0",
      "model_name": "HTMLStyleModel",
      "state": {
       "description_width": "",
       "font_size": null,
       "text_color": null
      }
     },
     "cd980156396c4d90bbe0c3fd70a2f77b": {
      "model_module": "@jupyter-widgets/controls",
      "model_module_version": "2.0.0",
      "model_name": "HTMLStyleModel",
      "state": {
       "description_width": "",
       "font_size": null,
       "text_color": null
      }
     },
     "ce69154fc4584eda9e44c5f99a0e32a6": {
      "model_module": "@jupyter-widgets/controls",
      "model_module_version": "2.0.0",
      "model_name": "HBoxModel",
      "state": {
       "children": [
        "IPY_MODEL_7aa5ef2f49404d43a5a7686a148fd3fc",
        "IPY_MODEL_33ce66ecfff44992bbef29e8d4fa93ea",
        "IPY_MODEL_82b8c2ecfa7448ecaff50c78be58ec63"
       ],
       "layout": "IPY_MODEL_2d24aa73c02446ac9c7e650f195989e0"
      }
     },
     "cf08d7917e59495ca50de2e5ea046ad9": {
      "model_module": "@jupyter-widgets/controls",
      "model_module_version": "2.0.0",
      "model_name": "HTMLModel",
      "state": {
       "layout": "IPY_MODEL_6c8a0c23750741eca52126530a1dbc1a",
       "style": "IPY_MODEL_b2de28e99656454fafd8797745254405",
       "value": " 20/20 [00:02&lt;00:00,  7.64it/s]"
      }
     },
     "cffee810588443de81d599b707ab2170": {
      "model_module": "@jupyter-widgets/controls",
      "model_module_version": "2.0.0",
      "model_name": "HBoxModel",
      "state": {
       "children": [
        "IPY_MODEL_2c6195d90ab74debaf51272823da04d5",
        "IPY_MODEL_a6ce63980f3541f6a62b00eb9df54220",
        "IPY_MODEL_b920a8beb95148b1976909087b636d1e"
       ],
       "layout": "IPY_MODEL_3e2c05833c0442898af1cdfbe69e1f47"
      }
     },
     "d05b48968e8e4206918ea3dbb883d9d6": {
      "model_module": "@jupyter-widgets/controls",
      "model_module_version": "2.0.0",
      "model_name": "HBoxModel",
      "state": {
       "children": [
        "IPY_MODEL_0b7337027ae841d4bfd05518ab18e28c",
        "IPY_MODEL_87eff8a43447452c810d5a160b73ee45",
        "IPY_MODEL_f689e0c4c0a44a7f96685a43b0fed6a5"
       ],
       "layout": "IPY_MODEL_06f9570317814ccb879ba2b8e2f53eb1"
      }
     },
     "d0a66f4dd39942ec83d7cbad55d17cf6": {
      "model_module": "@jupyter-widgets/controls",
      "model_module_version": "2.0.0",
      "model_name": "HTMLModel",
      "state": {
       "layout": "IPY_MODEL_c5565017b90b497da1c014c362249e9f",
       "style": "IPY_MODEL_1e348829a6bd4b06b62beb218cfa42b2",
       "value": "Epoch 13: 100%"
      }
     },
     "d0fd4e5852354bca8521754099b47a42": {
      "model_module": "@jupyter-widgets/base",
      "model_module_version": "2.0.0",
      "model_name": "LayoutModel",
      "state": {}
     },
     "d19af55d5c654ba9a602ccdf71779b32": {
      "model_module": "@jupyter-widgets/controls",
      "model_module_version": "2.0.0",
      "model_name": "HTMLStyleModel",
      "state": {
       "description_width": "",
       "font_size": null,
       "text_color": null
      }
     },
     "d22f962219f74cdcbee49587b515e27f": {
      "model_module": "@jupyter-widgets/base",
      "model_module_version": "2.0.0",
      "model_name": "LayoutModel",
      "state": {}
     },
     "d28d8b07c039459ea4618ac7be6a4b9a": {
      "model_module": "@jupyter-widgets/controls",
      "model_module_version": "2.0.0",
      "model_name": "ProgressStyleModel",
      "state": {
       "description_width": ""
      }
     },
     "d330dbe31f4b4b44ade4941c578fd1ac": {
      "model_module": "@jupyter-widgets/controls",
      "model_module_version": "2.0.0",
      "model_name": "HTMLModel",
      "state": {
       "layout": "IPY_MODEL_294c44a2c757474ba6c456bde8e01a7e",
       "style": "IPY_MODEL_4f36e3a3ca234a3da8c696191a5604b4",
       "value": "Epoch 9: 100%"
      }
     },
     "d39847f475f747ca815a9ae95b1c56ed": {
      "model_module": "@jupyter-widgets/base",
      "model_module_version": "2.0.0",
      "model_name": "LayoutModel",
      "state": {}
     },
     "d40446ed1ef54cbebc1fcc66cce870da": {
      "model_module": "@jupyter-widgets/controls",
      "model_module_version": "2.0.0",
      "model_name": "HTMLStyleModel",
      "state": {
       "description_width": "",
       "font_size": null,
       "text_color": null
      }
     },
     "d4173738c2374a159a05207b50bfce17": {
      "model_module": "@jupyter-widgets/controls",
      "model_module_version": "2.0.0",
      "model_name": "HTMLModel",
      "state": {
       "layout": "IPY_MODEL_83c84d19b104495ca2a486c5f78886cf",
       "style": "IPY_MODEL_7e82e88507f54173b9e08c5e6b995cb5",
       "value": "Epoch 23: 100%"
      }
     },
     "d4295cdfbc304875b4c1690b5bd3d647": {
      "model_module": "@jupyter-widgets/controls",
      "model_module_version": "2.0.0",
      "model_name": "HTMLModel",
      "state": {
       "layout": "IPY_MODEL_83fb4daaf08d46b9992a02459c739ed2",
       "style": "IPY_MODEL_4200ea0048df42f99ed8e029552a8ba5",
       "value": " 25/25 [00:08&lt;00:00,  3.48 epoch/s, loss=0.0253, loss_valid=0.0182]"
      }
     },
     "d43e4f5095684652817ac0d375fa940d": {
      "model_module": "@jupyter-widgets/base",
      "model_module_version": "2.0.0",
      "model_name": "LayoutModel",
      "state": {}
     },
     "d451bda2a4a7432bb50fea27017e473c": {
      "model_module": "@jupyter-widgets/controls",
      "model_module_version": "2.0.0",
      "model_name": "HTMLStyleModel",
      "state": {
       "description_width": "",
       "font_size": null,
       "text_color": null
      }
     },
     "d4c26d59b0b249f599f95a47dd8ef836": {
      "model_module": "@jupyter-widgets/controls",
      "model_module_version": "2.0.0",
      "model_name": "ProgressStyleModel",
      "state": {
       "description_width": ""
      }
     },
     "d5a86e0a89d04a37a7b7217ef6412735": {
      "model_module": "@jupyter-widgets/controls",
      "model_module_version": "2.0.0",
      "model_name": "FloatProgressModel",
      "state": {
       "bar_style": "success",
       "layout": "IPY_MODEL_5d0b817e4a8044839ee368be1399c3b0",
       "max": 1,
       "style": "IPY_MODEL_b0099721edd2475ab65a69100a634dbe",
       "value": 1
      }
     },
     "d5ec1113877c4962b35d8d870f967786": {
      "model_module": "@jupyter-widgets/base",
      "model_module_version": "2.0.0",
      "model_name": "LayoutModel",
      "state": {}
     },
     "d68806b87aea4883bb2ac17dc8cd6c51": {
      "model_module": "@jupyter-widgets/base",
      "model_module_version": "2.0.0",
      "model_name": "LayoutModel",
      "state": {}
     },
     "d757d88ac57e4dbbbf6ced5b3bc0538c": {
      "model_module": "@jupyter-widgets/base",
      "model_module_version": "2.0.0",
      "model_name": "LayoutModel",
      "state": {}
     },
     "d7cc67dec98f4122bf1d84aea06b8742": {
      "model_module": "@jupyter-widgets/base",
      "model_module_version": "2.0.0",
      "model_name": "LayoutModel",
      "state": {}
     },
     "d8088c41455644b28f6a85406a1d8a58": {
      "model_module": "@jupyter-widgets/controls",
      "model_module_version": "2.0.0",
      "model_name": "FloatProgressModel",
      "state": {
       "bar_style": "success",
       "layout": "IPY_MODEL_eb72df2b589f4bd2a0d5e317f8cc4de3",
       "max": 6,
       "style": "IPY_MODEL_058654e768cb45e7be3048a0c9e3c0ff",
       "value": 6
      }
     },
     "d92a18f818964e9a89b49df78f0ad543": {
      "model_module": "@jupyter-widgets/controls",
      "model_module_version": "2.0.0",
      "model_name": "HTMLModel",
      "state": {
       "layout": "IPY_MODEL_9f718c6a18504f2ca267b5a7a2079521",
       "style": "IPY_MODEL_2ef3b985dde145ec8045fef843db6d30",
       "value": "Epoch 8: 100%"
      }
     },
     "d94a053d918d416dba529074ecab8428": {
      "model_module": "@jupyter-widgets/controls",
      "model_module_version": "2.0.0",
      "model_name": "HTMLModel",
      "state": {
       "layout": "IPY_MODEL_b3c2498e8617454fbf810da65932e6ad",
       "style": "IPY_MODEL_8298db4e27b14b2ca5b2ab5e839958f3",
       "value": " 1/1 [00:00&lt;00:00, 34.48 batch/s, loss=0.022, loss_valid=0.0191]"
      }
     },
     "d9e912b46cd1491084379e6e4bec6f4a": {
      "model_module": "@jupyter-widgets/controls",
      "model_module_version": "2.0.0",
      "model_name": "HBoxModel",
      "state": {
       "children": [
        "IPY_MODEL_51d3d54cc22b40eb9487d23c3ef6a625",
        "IPY_MODEL_6b349bca7a1a4e68a67c42395a051510",
        "IPY_MODEL_0600e4400227420d929758d7f52afb9c"
       ],
       "layout": "IPY_MODEL_d757d88ac57e4dbbbf6ced5b3bc0538c"
      }
     },
     "d9ef8ef1848d4747a451bcbd7849956a": {
      "model_module": "@jupyter-widgets/controls",
      "model_module_version": "2.0.0",
      "model_name": "HTMLStyleModel",
      "state": {
       "description_width": "",
       "font_size": null,
       "text_color": null
      }
     },
     "daebb9cc4aa346eeafba70408a078997": {
      "model_module": "@jupyter-widgets/controls",
      "model_module_version": "2.0.0",
      "model_name": "ProgressStyleModel",
      "state": {
       "description_width": ""
      }
     },
     "db0a8e29bbfe4eaba538d6ccdbce1411": {
      "model_module": "@jupyter-widgets/base",
      "model_module_version": "2.0.0",
      "model_name": "LayoutModel",
      "state": {}
     },
     "db2f9f01ad7848679c9a0c611cb629a8": {
      "model_module": "@jupyter-widgets/controls",
      "model_module_version": "2.0.0",
      "model_name": "FloatProgressModel",
      "state": {
       "bar_style": "success",
       "layout": "IPY_MODEL_3cb18b32c65648f1824f6fedd564a80f",
       "max": 6,
       "style": "IPY_MODEL_5f26df1ca7ea45c9bd1f6dc0e17b27bc",
       "value": 6
      }
     },
     "dbbb5e81772040af8e071d72b9ee14c9": {
      "model_module": "@jupyter-widgets/controls",
      "model_module_version": "2.0.0",
      "model_name": "HTMLModel",
      "state": {
       "layout": "IPY_MODEL_300add90f5424409b173f04534f5edfb",
       "style": "IPY_MODEL_14a95eb4723e4c31bfbf3fc03b4b65c1",
       "value": " 6/6 [00:00&lt;00:00, 23.43 batch/s, loss=0.0233]"
      }
     },
     "dbf81498899b4058a95b849e461958e9": {
      "model_module": "@jupyter-widgets/base",
      "model_module_version": "2.0.0",
      "model_name": "LayoutModel",
      "state": {}
     },
     "dc79d079eee84c0bb50bb3b22fa5fe7d": {
      "model_module": "@jupyter-widgets/base",
      "model_module_version": "2.0.0",
      "model_name": "LayoutModel",
      "state": {}
     },
     "dced06e801284511ac1401852d854800": {
      "model_module": "@jupyter-widgets/base",
      "model_module_version": "2.0.0",
      "model_name": "LayoutModel",
      "state": {}
     },
     "dd24d4a3913141b09ca5fdeca62b72e9": {
      "model_module": "@jupyter-widgets/controls",
      "model_module_version": "2.0.0",
      "model_name": "ProgressStyleModel",
      "state": {
       "description_width": ""
      }
     },
     "ddbc8e95e97443058f28bda210702a83": {
      "model_module": "@jupyter-widgets/controls",
      "model_module_version": "2.0.0",
      "model_name": "FloatProgressModel",
      "state": {
       "bar_style": "success",
       "layout": "IPY_MODEL_6fa34715b5f347618f4add9b34d2de1c",
       "max": 6,
       "style": "IPY_MODEL_8e4f8249506241399d5c0e736d6af629",
       "value": 6
      }
     },
     "dddb5d2985f641529b5be5e766a24ea3": {
      "model_module": "@jupyter-widgets/base",
      "model_module_version": "2.0.0",
      "model_name": "LayoutModel",
      "state": {}
     },
     "dee77247cc114e639ba99cd8010dcf51": {
      "model_module": "@jupyter-widgets/controls",
      "model_module_version": "2.0.0",
      "model_name": "HBoxModel",
      "state": {
       "children": [
        "IPY_MODEL_50f6436ba07a46f9998769c4c62ff36b",
        "IPY_MODEL_7929175f10224a0499e620fbb912d5ee",
        "IPY_MODEL_8a4428a3aff44d7a867d30bbb3c3f0d7"
       ],
       "layout": "IPY_MODEL_00a761a634454b31b6e5bd327ebeea70"
      }
     },
     "df16db70601c49ee9208f543e0a8257e": {
      "model_module": "@jupyter-widgets/controls",
      "model_module_version": "2.0.0",
      "model_name": "ProgressStyleModel",
      "state": {
       "description_width": ""
      }
     },
     "df8d4459fc3a444fa038009c11cbbc54": {
      "model_module": "@jupyter-widgets/controls",
      "model_module_version": "2.0.0",
      "model_name": "HTMLStyleModel",
      "state": {
       "description_width": "",
       "font_size": null,
       "text_color": null
      }
     },
     "e16762c5e5d143bd94009ea59014c81f": {
      "model_module": "@jupyter-widgets/controls",
      "model_module_version": "2.0.0",
      "model_name": "HTMLModel",
      "state": {
       "layout": "IPY_MODEL_f50d518953fa4c1b94580935625b3179",
       "style": "IPY_MODEL_6e99a7e40e8b4dd3ba57c561b3007601",
       "value": "Epoch 2: 100%"
      }
     },
     "e16b7ad785c94ce5a89ffd33d6d599d6": {
      "model_module": "@jupyter-widgets/base",
      "model_module_version": "2.0.0",
      "model_name": "LayoutModel",
      "state": {}
     },
     "e18e5603691b422c869cb29f580d9d0a": {
      "model_module": "@jupyter-widgets/base",
      "model_module_version": "2.0.0",
      "model_name": "LayoutModel",
      "state": {}
     },
     "e27acc27e79f4250af7dc4e7cdc03f0c": {
      "model_module": "@jupyter-widgets/base",
      "model_module_version": "2.0.0",
      "model_name": "LayoutModel",
      "state": {}
     },
     "e28089a6565c42eb93d260dad777215f": {
      "model_module": "@jupyter-widgets/controls",
      "model_module_version": "2.0.0",
      "model_name": "ProgressStyleModel",
      "state": {
       "description_width": ""
      }
     },
     "e2d325d4f36649f495e616eb3fbbb179": {
      "model_module": "@jupyter-widgets/controls",
      "model_module_version": "2.0.0",
      "model_name": "FloatProgressModel",
      "state": {
       "bar_style": "success",
       "layout": "IPY_MODEL_b66dcd04b13e48b2a9eed21d152d5935",
       "max": 1,
       "style": "IPY_MODEL_e8952fb857834044a78dfc2e57d79e53",
       "value": 1
      }
     },
     "e3199974ae7d4f0fb203b1290aa14028": {
      "model_module": "@jupyter-widgets/controls",
      "model_module_version": "2.0.0",
      "model_name": "HTMLModel",
      "state": {
       "layout": "IPY_MODEL_e27acc27e79f4250af7dc4e7cdc03f0c",
       "style": "IPY_MODEL_934c79efa3cb4d689caef841dbf159ae",
       "value": " 6/6 [00:00&lt;00:00, 23.43 batch/s, loss=0.0249]"
      }
     },
     "e48a92b79c994745996a03cf96752ac5": {
      "model_module": "@jupyter-widgets/controls",
      "model_module_version": "2.0.0",
      "model_name": "HTMLStyleModel",
      "state": {
       "description_width": "",
       "font_size": null,
       "text_color": null
      }
     },
     "e4c0eea87f5c441ca50165a92888f3d4": {
      "model_module": "@jupyter-widgets/base",
      "model_module_version": "2.0.0",
      "model_name": "LayoutModel",
      "state": {}
     },
     "e4f669d85fe74b1f90d3f27aaaa44d5f": {
      "model_module": "@jupyter-widgets/base",
      "model_module_version": "2.0.0",
      "model_name": "LayoutModel",
      "state": {}
     },
     "e5476cec77514fb7ad32b62092b5de2b": {
      "model_module": "@jupyter-widgets/controls",
      "model_module_version": "2.0.0",
      "model_name": "FloatProgressModel",
      "state": {
       "bar_style": "success",
       "layout": "IPY_MODEL_08f90e1007834e3a8d36eb153a7280a5",
       "max": 6,
       "style": "IPY_MODEL_d28d8b07c039459ea4618ac7be6a4b9a",
       "value": 6
      }
     },
     "e57f5041057b4570a70e876673ae0d21": {
      "model_module": "@jupyter-widgets/base",
      "model_module_version": "2.0.0",
      "model_name": "LayoutModel",
      "state": {}
     },
     "e5e6560202954da286cc328c2b6df0b2": {
      "model_module": "@jupyter-widgets/base",
      "model_module_version": "2.0.0",
      "model_name": "LayoutModel",
      "state": {}
     },
     "e6c83b28a4154b28809a3138956e8fa9": {
      "model_module": "@jupyter-widgets/base",
      "model_module_version": "2.0.0",
      "model_name": "LayoutModel",
      "state": {}
     },
     "e7054676979e4ee6b8cd542daaa552df": {
      "model_module": "@jupyter-widgets/base",
      "model_module_version": "2.0.0",
      "model_name": "LayoutModel",
      "state": {}
     },
     "e74cc8d743ec4aeeb42f57b59fa04d03": {
      "model_module": "@jupyter-widgets/controls",
      "model_module_version": "2.0.0",
      "model_name": "HTMLStyleModel",
      "state": {
       "description_width": "",
       "font_size": null,
       "text_color": null
      }
     },
     "e78398e8f88b46d3a70a168d93165c94": {
      "model_module": "@jupyter-widgets/base",
      "model_module_version": "2.0.0",
      "model_name": "LayoutModel",
      "state": {}
     },
     "e78c2998d2a447d49674354f5541e140": {
      "model_module": "@jupyter-widgets/controls",
      "model_module_version": "2.0.0",
      "model_name": "FloatProgressModel",
      "state": {
       "bar_style": "success",
       "layout": "IPY_MODEL_962e58c11f87458dad17aea1b7fec423",
       "max": 6,
       "style": "IPY_MODEL_8e7a25a1fdb04da097367a1a73710c37",
       "value": 6
      }
     },
     "e8786ad68acf4a30b068f09265bbc49a": {
      "model_module": "@jupyter-widgets/controls",
      "model_module_version": "2.0.0",
      "model_name": "HTMLStyleModel",
      "state": {
       "description_width": "",
       "font_size": null,
       "text_color": null
      }
     },
     "e886f8d8b16c46faaa383a9bc10c3755": {
      "model_module": "@jupyter-widgets/controls",
      "model_module_version": "2.0.0",
      "model_name": "HBoxModel",
      "state": {
       "children": [
        "IPY_MODEL_fb08790c93f64cfd9705e45e4dd08f10",
        "IPY_MODEL_7c009e92ba3d4f7fb6b0a1428c2f49b9",
        "IPY_MODEL_fdaa8256d421455e978713d76e1b3390"
       ],
       "layout": "IPY_MODEL_e6c83b28a4154b28809a3138956e8fa9"
      }
     },
     "e8952fb857834044a78dfc2e57d79e53": {
      "model_module": "@jupyter-widgets/controls",
      "model_module_version": "2.0.0",
      "model_name": "ProgressStyleModel",
      "state": {
       "description_width": ""
      }
     },
     "e8f52ec5c7f842bdabcdddbb6bee9e0c": {
      "model_module": "@jupyter-widgets/base",
      "model_module_version": "2.0.0",
      "model_name": "LayoutModel",
      "state": {}
     },
     "e9f30ba065fc4f3a867c3e090725462e": {
      "model_module": "@jupyter-widgets/base",
      "model_module_version": "2.0.0",
      "model_name": "LayoutModel",
      "state": {}
     },
     "eb72df2b589f4bd2a0d5e317f8cc4de3": {
      "model_module": "@jupyter-widgets/base",
      "model_module_version": "2.0.0",
      "model_name": "LayoutModel",
      "state": {}
     },
     "eb7827b65b294e74aec9cab0c9c512b4": {
      "model_module": "@jupyter-widgets/base",
      "model_module_version": "2.0.0",
      "model_name": "LayoutModel",
      "state": {}
     },
     "ebe3c6d1f9ab437592ab87175e82edbe": {
      "model_module": "@jupyter-widgets/controls",
      "model_module_version": "2.0.0",
      "model_name": "HTMLModel",
      "state": {
       "layout": "IPY_MODEL_30e56f7eca664e70a285e4dd6c2aed8e",
       "style": "IPY_MODEL_19e0d777034944e9817f831ae9118349",
       "value": " 1/1 [00:00&lt;00:00, 41.65 batch/s, loss=0.0242, loss_valid=0.0159]"
      }
     },
     "ebe7513d7ee6460590c19df98c6e634b": {
      "model_module": "@jupyter-widgets/base",
      "model_module_version": "2.0.0",
      "model_name": "LayoutModel",
      "state": {}
     },
     "ec11ea2843744a12888f79d0d283d62d": {
      "model_module": "@jupyter-widgets/base",
      "model_module_version": "2.0.0",
      "model_name": "LayoutModel",
      "state": {}
     },
     "ec4d966c98bf4919888e73d5a1a24355": {
      "model_module": "@jupyter-widgets/controls",
      "model_module_version": "2.0.0",
      "model_name": "HTMLModel",
      "state": {
       "layout": "IPY_MODEL_a1c18d9e031145a79aa710ef7f3e0deb",
       "style": "IPY_MODEL_3c42454f24b84e5891def47283a7927b",
       "value": " 1/1 [00:00&lt;00:00, 40.00 batch/s, loss=0.0249, loss_valid=0.0252]"
      }
     },
     "ec6f76fc8dc444218184f63820b49e38": {
      "model_module": "@jupyter-widgets/controls",
      "model_module_version": "2.0.0",
      "model_name": "HTMLModel",
      "state": {
       "layout": "IPY_MODEL_0f6970f819314f6db8bab5083fac2a0d",
       "style": "IPY_MODEL_cd980156396c4d90bbe0c3fd70a2f77b",
       "value": " 6/6 [00:00&lt;00:00, 23.42 batch/s, loss=0.0242]"
      }
     },
     "ed0f029e99eb4c13b21b2eac7bb5b852": {
      "model_module": "@jupyter-widgets/controls",
      "model_module_version": "2.0.0",
      "model_name": "HBoxModel",
      "state": {
       "children": [
        "IPY_MODEL_67676da148a54e7bb4accc5112b52a50",
        "IPY_MODEL_10ee1940d46140d88b6953334a6d60c0",
        "IPY_MODEL_1cd7de91e4e54647a1d5a5807f874056"
       ],
       "layout": "IPY_MODEL_75275b231ae04fe38e017eda29406ee6"
      }
     },
     "ed23c1a9b28b45ecb3cf23ae5a9e5bb5": {
      "model_module": "@jupyter-widgets/controls",
      "model_module_version": "2.0.0",
      "model_name": "HTMLStyleModel",
      "state": {
       "description_width": "",
       "font_size": null,
       "text_color": null
      }
     },
     "edbef426fca04ddeb9ee8c0888253647": {
      "model_module": "@jupyter-widgets/controls",
      "model_module_version": "2.0.0",
      "model_name": "HTMLModel",
      "state": {
       "layout": "IPY_MODEL_17cbb829364146f1a6111a277aabe8b4",
       "style": "IPY_MODEL_a6a4046f38104bbdae68c01902697a19",
       "value": "Epoch 3: 100%"
      }
     },
     "ee31040284dd46a4adf04deb71f0cde1": {
      "model_module": "@jupyter-widgets/controls",
      "model_module_version": "2.0.0",
      "model_name": "HTMLModel",
      "state": {
       "layout": "IPY_MODEL_8db3c05656c74eaa968fb29d3fcaab1a",
       "style": "IPY_MODEL_688732ad65b549e496d1aac3e0146e35",
       "value": "Epoch 14: 100%"
      }
     },
     "ee45ea12e8504b59a613ca35f9ca682f": {
      "model_module": "@jupyter-widgets/controls",
      "model_module_version": "2.0.0",
      "model_name": "HTMLStyleModel",
      "state": {
       "description_width": "",
       "font_size": null,
       "text_color": null
      }
     },
     "ee6f2149f3d1483286cca7914d2e85b8": {
      "model_module": "@jupyter-widgets/controls",
      "model_module_version": "2.0.0",
      "model_name": "HTMLModel",
      "state": {
       "layout": "IPY_MODEL_5bb0ebef3bc344d5aacf512cf3620733",
       "style": "IPY_MODEL_02d28f125c7b45959833ca9c040f9984",
       "value": "Epoch 21: 100%"
      }
     },
     "ef782ba93aa4422ba81057158dc83730": {
      "model_module": "@jupyter-widgets/controls",
      "model_module_version": "2.0.0",
      "model_name": "HTMLModel",
      "state": {
       "layout": "IPY_MODEL_d68806b87aea4883bb2ac17dc8cd6c51",
       "style": "IPY_MODEL_374c190d3a354605a0657d4e23434606",
       "value": "Epoch 11: 100%"
      }
     },
     "f037193371e4411fa11845adedb3632b": {
      "model_module": "@jupyter-widgets/base",
      "model_module_version": "2.0.0",
      "model_name": "LayoutModel",
      "state": {}
     },
     "f03af1e3981149b681627cd99e6c1d59": {
      "model_module": "@jupyter-widgets/base",
      "model_module_version": "2.0.0",
      "model_name": "LayoutModel",
      "state": {}
     },
     "f0a8a5180a2c4673b0b81213353a862f": {
      "model_module": "@jupyter-widgets/controls",
      "model_module_version": "2.0.0",
      "model_name": "ProgressStyleModel",
      "state": {
       "description_width": ""
      }
     },
     "f1d7f9679090424b9abc7d2fc5d51fe8": {
      "model_module": "@jupyter-widgets/controls",
      "model_module_version": "2.0.0",
      "model_name": "HTMLModel",
      "state": {
       "layout": "IPY_MODEL_093d888b7e5946078cc0300dc95a04ef",
       "style": "IPY_MODEL_282541b5b7d04f2688c9901ee9d1a71b",
       "value": "100%"
      }
     },
     "f20b8bc35d3b429f92f17cc1242523ae": {
      "model_module": "@jupyter-widgets/controls",
      "model_module_version": "2.0.0",
      "model_name": "HTMLStyleModel",
      "state": {
       "description_width": "",
       "font_size": null,
       "text_color": null
      }
     },
     "f279842e4c7c492a8fbaa3dd5bf24226": {
      "model_module": "@jupyter-widgets/controls",
      "model_module_version": "2.0.0",
      "model_name": "HBoxModel",
      "state": {
       "children": [
        "IPY_MODEL_6cd28c42dfb1454fbb15b857d5ac7b36",
        "IPY_MODEL_c98d303e8dba403a8957c3278fa174b2",
        "IPY_MODEL_268ec65f81d74c3dac4251bbd2218cd8"
       ],
       "layout": "IPY_MODEL_b4545d97b9464453b69d2ff5e9418368"
      }
     },
     "f2c09dd2fdb843c0ab1ff025ac586fe8": {
      "model_module": "@jupyter-widgets/controls",
      "model_module_version": "2.0.0",
      "model_name": "FloatProgressModel",
      "state": {
       "bar_style": "success",
       "layout": "IPY_MODEL_c14a4b9bffdb46ba8ff06fbfbf0dbed0",
       "max": 1,
       "style": "IPY_MODEL_41e1e946ea674eacac6dc7fd1993f456",
       "value": 1
      }
     },
     "f2d6eebdcfb84e7c8b576db61fea3ef8": {
      "model_module": "@jupyter-widgets/controls",
      "model_module_version": "2.0.0",
      "model_name": "HTMLModel",
      "state": {
       "layout": "IPY_MODEL_80ce12e803264485abce90412654776c",
       "style": "IPY_MODEL_272c285d55be4b19857834c3dcf26f40",
       "value": "Epoch 0: 100%"
      }
     },
     "f335808181ef434cbb54649856ec7c51": {
      "model_module": "@jupyter-widgets/controls",
      "model_module_version": "2.0.0",
      "model_name": "HTMLStyleModel",
      "state": {
       "description_width": "",
       "font_size": null,
       "text_color": null
      }
     },
     "f33f08247c3b4810839103f1d32d0a5b": {
      "model_module": "@jupyter-widgets/base",
      "model_module_version": "2.0.0",
      "model_name": "LayoutModel",
      "state": {}
     },
     "f38eb882bbfa4ce787782bf8753dd34a": {
      "model_module": "@jupyter-widgets/controls",
      "model_module_version": "2.0.0",
      "model_name": "HTMLModel",
      "state": {
       "layout": "IPY_MODEL_0b6dd11676774755ae3198d18af4a77b",
       "style": "IPY_MODEL_7f7a363f097f470fbe6816df2c2b22bf",
       "value": " 6/6 [00:00&lt;00:00, 22.91 batch/s, loss=0.0291]"
      }
     },
     "f3a85f968e7c4a11840a743342ba8a0a": {
      "model_module": "@jupyter-widgets/controls",
      "model_module_version": "2.0.0",
      "model_name": "HBoxModel",
      "state": {
       "children": [
        "IPY_MODEL_a4c7a10111024a8cb55074af141cb738",
        "IPY_MODEL_66dc3cc3b32943a2828cf29674278137",
        "IPY_MODEL_7bc4773d49ca46e29764232bca964009"
       ],
       "layout": "IPY_MODEL_8cb349b469ee425c9fee6c2490dfa245"
      }
     },
     "f4ca390769604f36af41977d655d3b7b": {
      "model_module": "@jupyter-widgets/controls",
      "model_module_version": "2.0.0",
      "model_name": "HTMLStyleModel",
      "state": {
       "description_width": "",
       "font_size": null,
       "text_color": null
      }
     },
     "f50d518953fa4c1b94580935625b3179": {
      "model_module": "@jupyter-widgets/base",
      "model_module_version": "2.0.0",
      "model_name": "LayoutModel",
      "state": {}
     },
     "f57886dd637247509c0b70decca05b51": {
      "model_module": "@jupyter-widgets/controls",
      "model_module_version": "2.0.0",
      "model_name": "HTMLModel",
      "state": {
       "layout": "IPY_MODEL_2b5a93f3336f47ee95e54de36273483f",
       "style": "IPY_MODEL_ae40eff75c1647b68dbd788561274d51",
       "value": "Epoch 13: 100%"
      }
     },
     "f5cfb7343cda44578efc0040112b8a7a": {
      "model_module": "@jupyter-widgets/base",
      "model_module_version": "2.0.0",
      "model_name": "LayoutModel",
      "state": {}
     },
     "f66291cba37d4ecda641d5060d777e5e": {
      "model_module": "@jupyter-widgets/controls",
      "model_module_version": "2.0.0",
      "model_name": "HTMLModel",
      "state": {
       "layout": "IPY_MODEL_828be11ebb6049f9b892d060bc31c3c9",
       "style": "IPY_MODEL_2eaa653e40e6445ea903975fe4a78a09",
       "value": " 1/1 [00:00&lt;00:00, 41.67 batch/s, loss=0.0221, loss_valid=0.0243]"
      }
     },
     "f66b0e0f1c89438db0904ef946cbb35c": {
      "model_module": "@jupyter-widgets/controls",
      "model_module_version": "2.0.0",
      "model_name": "HTMLStyleModel",
      "state": {
       "description_width": "",
       "font_size": null,
       "text_color": null
      }
     },
     "f6874cdec9264dc2aa59df8ce539e4f3": {
      "model_module": "@jupyter-widgets/controls",
      "model_module_version": "2.0.0",
      "model_name": "HBoxModel",
      "state": {
       "children": [
        "IPY_MODEL_d330dbe31f4b4b44ade4941c578fd1ac",
        "IPY_MODEL_37ea4e5201da4727b357fc6c9f9dbefc",
        "IPY_MODEL_6779d034398c4abbbe4c408f11c8584f"
       ],
       "layout": "IPY_MODEL_f5cfb7343cda44578efc0040112b8a7a"
      }
     },
     "f689e0c4c0a44a7f96685a43b0fed6a5": {
      "model_module": "@jupyter-widgets/controls",
      "model_module_version": "2.0.0",
      "model_name": "HTMLModel",
      "state": {
       "layout": "IPY_MODEL_adee9c179542404e86296b2eeb7a090e",
       "style": "IPY_MODEL_29cd734f249e412a91fb92f1e2b3be8d",
       "value": " 1/1 [00:00&lt;00:00, 40.70 batch/s, loss=0.0323, loss_valid=0.0266]"
      }
     },
     "f6a7115d606241a7902c65f6e7b85507": {
      "model_module": "@jupyter-widgets/base",
      "model_module_version": "2.0.0",
      "model_name": "LayoutModel",
      "state": {}
     },
     "f760492446c0428b9df8bc2059685d8b": {
      "model_module": "@jupyter-widgets/base",
      "model_module_version": "2.0.0",
      "model_name": "LayoutModel",
      "state": {}
     },
     "f7897f831f6f4c059b8bf65f6b072926": {
      "model_module": "@jupyter-widgets/controls",
      "model_module_version": "2.0.0",
      "model_name": "HTMLStyleModel",
      "state": {
       "description_width": "",
       "font_size": null,
       "text_color": null
      }
     },
     "f83e92d156b04c18b75372ca42975645": {
      "model_module": "@jupyter-widgets/controls",
      "model_module_version": "2.0.0",
      "model_name": "HTMLStyleModel",
      "state": {
       "description_width": "",
       "font_size": null,
       "text_color": null
      }
     },
     "f867dd42b162435b846be378925dccdf": {
      "model_module": "@jupyter-widgets/controls",
      "model_module_version": "2.0.0",
      "model_name": "HBoxModel",
      "state": {
       "children": [
        "IPY_MODEL_f1d7f9679090424b9abc7d2fc5d51fe8",
        "IPY_MODEL_6bcce461bbf047829818899dde04b193",
        "IPY_MODEL_1f2441ca404d4121b89db16a22582a0e"
       ],
       "layout": "IPY_MODEL_88dbc99a7c104c73a3b27e830bb18543"
      }
     },
     "f8a3c22b856649b59ec9aae128852623": {
      "model_module": "@jupyter-widgets/controls",
      "model_module_version": "2.0.0",
      "model_name": "HTMLModel",
      "state": {
       "layout": "IPY_MODEL_d0fd4e5852354bca8521754099b47a42",
       "style": "IPY_MODEL_1894dd698e6d4320b0d9856926f291e3",
       "value": " 1/1 [00:00&lt;00:00, 40.00 batch/s, loss=0.0252, loss_valid=0.0209]"
      }
     },
     "f9ec2ef42af240358bc8be76b89c400d": {
      "model_module": "@jupyter-widgets/controls",
      "model_module_version": "2.0.0",
      "model_name": "HBoxModel",
      "state": {
       "children": [
        "IPY_MODEL_c0aa52990a4b47268ad87cb88ae0b690",
        "IPY_MODEL_e78c2998d2a447d49674354f5541e140",
        "IPY_MODEL_f38eb882bbfa4ce787782bf8753dd34a"
       ],
       "layout": "IPY_MODEL_89fe39fc4ba840b9972a50fcf77ac19d"
      }
     },
     "fa5ab57e39dd465dae6d8a86595bcb68": {
      "model_module": "@jupyter-widgets/controls",
      "model_module_version": "2.0.0",
      "model_name": "HTMLModel",
      "state": {
       "layout": "IPY_MODEL_168df0daeacf4137b918169e55728e69",
       "style": "IPY_MODEL_98e4546c48df4bf0873ba2a90736e845",
       "value": "Epoch 0: 100%"
      }
     },
     "fab644d4259e4f96a0a1616836fdbfb1": {
      "model_module": "@jupyter-widgets/controls",
      "model_module_version": "2.0.0",
      "model_name": "HBoxModel",
      "state": {
       "children": [
        "IPY_MODEL_ae429db41e1a4bbca9416472d60260ea",
        "IPY_MODEL_2f38a28d9294424ca5c2070e70bc63c7",
        "IPY_MODEL_39709e2ffdd64132b4c178feac82ea97"
       ],
       "layout": "IPY_MODEL_b5241ca2ae384e1a80a6525593edd551"
      }
     },
     "fb08790c93f64cfd9705e45e4dd08f10": {
      "model_module": "@jupyter-widgets/controls",
      "model_module_version": "2.0.0",
      "model_name": "HTMLModel",
      "state": {
       "layout": "IPY_MODEL_0251da0b88914dbcb9410fc86680777c",
       "style": "IPY_MODEL_369dcc7f0d1a42319ef0933b33933b86",
       "value": "100%"
      }
     },
     "fb16eb9659824ed4907df592b20812e5": {
      "model_module": "@jupyter-widgets/controls",
      "model_module_version": "2.0.0",
      "model_name": "HTMLStyleModel",
      "state": {
       "description_width": "",
       "font_size": null,
       "text_color": null
      }
     },
     "fb5c7c5e62bc4fb4ac20dd293229951a": {
      "model_module": "@jupyter-widgets/base",
      "model_module_version": "2.0.0",
      "model_name": "LayoutModel",
      "state": {}
     },
     "fb7e5452624e43529bd29b9675cb6519": {
      "model_module": "@jupyter-widgets/controls",
      "model_module_version": "2.0.0",
      "model_name": "HBoxModel",
      "state": {
       "children": [
        "IPY_MODEL_1f8455a29a1f491ba6af98e131ddca0d",
        "IPY_MODEL_2893c70cfb974636a9dafaa674ea6060",
        "IPY_MODEL_fd075dc942ce4f7da746d15c3690a4ce"
       ],
       "layout": "IPY_MODEL_02e226c1dd6d4cc1b5ca6b90ed7331ad"
      }
     },
     "fb8fd20457cb4bc8b5d6e95bdc77a292": {
      "model_module": "@jupyter-widgets/controls",
      "model_module_version": "2.0.0",
      "model_name": "FloatProgressModel",
      "state": {
       "bar_style": "success",
       "layout": "IPY_MODEL_c09aac48121a4c19942caec8459c3790",
       "max": 6,
       "style": "IPY_MODEL_8291eb66821f4f5c89de8442f837fe1a",
       "value": 6
      }
     },
     "fbc34a52d85d425a9e6bd4ca805bf83f": {
      "model_module": "@jupyter-widgets/base",
      "model_module_version": "2.0.0",
      "model_name": "LayoutModel",
      "state": {}
     },
     "fc479f142f2d411faaf00f2e83161f17": {
      "model_module": "@jupyter-widgets/controls",
      "model_module_version": "2.0.0",
      "model_name": "HTMLModel",
      "state": {
       "layout": "IPY_MODEL_bf8dfe80f2c64fe6824bb11da0956d29",
       "style": "IPY_MODEL_608760915b134d639db72f6bc3e20cb1",
       "value": "Epoch 6: 100%"
      }
     },
     "fc4fc72915a74e9bad3a3a6a7c2e97a1": {
      "model_module": "@jupyter-widgets/controls",
      "model_module_version": "2.0.0",
      "model_name": "HTMLModel",
      "state": {
       "layout": "IPY_MODEL_4668ba7923d84483890585f5b3d3b703",
       "style": "IPY_MODEL_97cf9cb3411d4256bc1bc65180d7e488",
       "value": "Epoch 16: 100%"
      }
     },
     "fc575fc58b1046fc9d40d7c4d1dba9fc": {
      "model_module": "@jupyter-widgets/controls",
      "model_module_version": "2.0.0",
      "model_name": "FloatProgressModel",
      "state": {
       "bar_style": "success",
       "layout": "IPY_MODEL_647f947d7e6f47cab7e59160320373d9",
       "max": 6,
       "style": "IPY_MODEL_0029a4035b87412aa65a2f8910ad7a2d",
       "value": 6
      }
     },
     "fd075dc942ce4f7da746d15c3690a4ce": {
      "model_module": "@jupyter-widgets/controls",
      "model_module_version": "2.0.0",
      "model_name": "HTMLModel",
      "state": {
       "layout": "IPY_MODEL_a15142d2ac2c4f4ea721e14785cb1cfd",
       "style": "IPY_MODEL_5e80bb5ffe8443c4838889027402ed63",
       "value": " 1/1 [00:00&lt;00:00, 40.00 batch/s, loss=0.0253, loss_valid=0.0182]"
      }
     },
     "fd11cecfaf4c45f2aebb2a495b83eb26": {
      "model_module": "@jupyter-widgets/controls",
      "model_module_version": "2.0.0",
      "model_name": "ProgressStyleModel",
      "state": {
       "description_width": ""
      }
     },
     "fda3feb01eca4d209a05fa500ff62bdb": {
      "model_module": "@jupyter-widgets/controls",
      "model_module_version": "2.0.0",
      "model_name": "HTMLModel",
      "state": {
       "layout": "IPY_MODEL_e9f30ba065fc4f3a867c3e090725462e",
       "style": "IPY_MODEL_a7e8535ac9b245d28090a4e8df14a7a0",
       "value": " 6/6 [00:00&lt;00:00, 23.49 batch/s, loss=0.0229]"
      }
     },
     "fdaa8256d421455e978713d76e1b3390": {
      "model_module": "@jupyter-widgets/controls",
      "model_module_version": "2.0.0",
      "model_name": "HTMLModel",
      "state": {
       "layout": "IPY_MODEL_c04add7fa12f47859f805a58525ab5b1",
       "style": "IPY_MODEL_1764417e1a224b74b6f758a04145a05b",
       "value": " 100/100 [00:11&lt;00:00,  8.58it/s]"
      }
     },
     "ffe0a89f159b42808db054e5d872b097": {
      "model_module": "@jupyter-widgets/base",
      "model_module_version": "2.0.0",
      "model_name": "LayoutModel",
      "state": {}
     }
    },
    "version_major": 2,
    "version_minor": 0
   }
  }
 },
 "nbformat": 4,
 "nbformat_minor": 5
}
