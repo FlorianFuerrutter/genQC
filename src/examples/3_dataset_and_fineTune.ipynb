{
 "cells": [
  {
   "cell_type": "markdown",
   "id": "69a855f1-55dd-482e-94f2-9ad02804be4d",
   "metadata": {},
   "source": [
    "# SRV demo-dataset and fine-tune"
   ]
  },
  {
   "cell_type": "markdown",
   "id": "e41e2465-49d8-46b8-b046-6ae1becfb268",
   "metadata": {},
   "source": [
    "In this notebook we create a (demo) 9-qubit dataset and fine-tune the model with it. Note, we use direct fine-tuning similar as you would train the model from scratch (with a higher learn-rate and larger dataset)."
   ]
  },
  {
   "cell_type": "code",
   "execution_count": null,
   "id": "3bde494e-9091-41a4-a601-bbcf9712c564",
   "metadata": {},
   "outputs": [],
   "source": [
    "from genQC.imports import *\n",
    "\n",
    "import genQC.util as util\n",
    "import genQC.platform.qcircuit_dataset_construction as data_const\n",
    "import genQC.inference.infer_srv as infer_srv\n",
    "import genQC.dataset.dataset_helper as dahe\n",
    "\n",
    "from genQC.pipeline.diffusion_pipeline import DiffusionPipeline\n",
    "from genQC.dataset.qc_dataset import Qc_Config_Dataset\n",
    "from genQC.dataset.mixed_cached_qc_dataset import Mixed_Cached_OpenClip_Dataset"
   ]
  },
  {
   "cell_type": "code",
   "execution_count": null,
   "id": "029be4f3-0d9a-4d0a-93d9-2338fda7a983",
   "metadata": {},
   "outputs": [
    {
     "name": "stdout",
     "output_type": "stream",
     "text": [
      "[INFO]: Cuda device has a capability of 8.6 (>= 8), allowing tf32 matmul.\n"
     ]
    }
   ],
   "source": [
    "device = util.infer_torch_device()  # use cuda if we can, cpu is much slower\n",
    "util.MemoryCleaner.purge_mem()      # clean existing memory alloc"
   ]
  },
  {
   "cell_type": "markdown",
   "id": "f77a3020-247c-4ac0-aaf1-ee5c371b5f06",
   "metadata": {},
   "source": [
    "## Setup and load"
   ]
  },
  {
   "cell_type": "code",
   "execution_count": null,
   "id": "e5d60c23-9514-4432-bc82-622c088fced6",
   "metadata": {},
   "outputs": [],
   "source": [
    "def get_preTrained_pipeline():\n",
    "    model_path = \"../../saves/qc_unet_config_SRV_3to8_qubit/\"\n",
    "    pipeline   = DiffusionPipeline.from_config_file(model_path, device)  \n",
    "    return pipeline"
   ]
  },
  {
   "cell_type": "markdown",
   "id": "742ae430-46f2-4099-ac8f-f422a4ddc1dc",
   "metadata": {},
   "source": [
    "Load the pre-trained model. Set 20 sample steps and use rescaled guidance-formula."
   ]
  },
  {
   "cell_type": "code",
   "execution_count": null,
   "id": "655756d0-1619-4e8e-acc1-3f76a507a73b",
   "metadata": {},
   "outputs": [
    {
     "name": "stdout",
     "output_type": "stream",
     "text": [
      "[INFO]: `genQC.models.unet_qc.QC_Cond_UNet` instantiated from given config on cuda.\n",
      "[INFO]: `genQC.models.frozen_open_clip.CachedFrozenOpenCLIPEmbedder` instantiated from given config on cuda.\n",
      "[INFO]: `genQC.models.frozen_open_clip.CachedFrozenOpenCLIPEmbedder`. No save_path` provided. No state dict loaded.\n",
      "Trained with gates: [<class 'qiskit.circuit.library.standard_gates.h.HGate'>, <class 'qiskit.circuit.library.standard_gates.x.CXGate'>]\n"
     ]
    }
   ],
   "source": [
    "pipeline = get_preTrained_pipeline()\n",
    "\n",
    "pipeline.guidance_sample_mode = \"rescaled\"\n",
    "pipeline.scheduler.set_timesteps(20) \n",
    "\n",
    "print(\"Trained with gates:\", pipeline.gate_pool)"
   ]
  },
  {
   "cell_type": "markdown",
   "id": "11fd1a13-512f-49d8-8b48-7c4298cd1c3c",
   "metadata": {},
   "source": [
    "## Generate 9 qubit circuits without fine-tune"
   ]
  },
  {
   "cell_type": "markdown",
   "id": "7ed21393-a99d-4fb2-aef6-0cebd85ae14f",
   "metadata": {},
   "source": [
    "Generate circuits as explained in the `0_hello_circuit` [[doc]](https://florianfuerrutter.github.io/genQC/examples/hello_circuit.html) [[notebook]](https://github.com/FlorianFuerrutter/genQC/blob/main/src/examples/0_hello_circuit.ipynb) example."
   ]
  },
  {
   "cell_type": "code",
   "execution_count": null,
   "id": "9ff69bfb-6053-4b88-9123-cc6ba93419d2",
   "metadata": {},
   "outputs": [
    {
     "data": {
      "text/plain": [
       "'Generate SRV: [2, 2, 2, 1, 1, 1, 1, 1, 2]'"
      ]
     },
     "execution_count": null,
     "metadata": {},
     "output_type": "execute_result"
    }
   ],
   "source": [
    "srv           = [2, 2, 2, 1, 1, 1, 1, 1, 2]  # set your target SRV\n",
    "num_of_qubits = len(srv)          \n",
    "assert num_of_qubits == 9\n",
    "\n",
    "prompt = f\"Generate SRV: {srv}\"  # model was trained with this phrase\n",
    "prompt"
   ]
  },
  {
   "cell_type": "code",
   "execution_count": null,
   "id": "72ec293e-5b3c-4f3d-a478-2389d6477c57",
   "metadata": {},
   "outputs": [
    {
     "data": {
      "application/vnd.jupyter.widget-view+json": {
       "model_id": "f2b2e6a4f21343758fb4f28e5345db3c",
       "version_major": 2,
       "version_minor": 0
      },
      "text/plain": [
       "  0%|          | 0/20 [00:00<?, ?it/s]"
      ]
     },
     "metadata": {},
     "output_type": "display_data"
    },
    {
     "name": "stdout",
     "output_type": "stream",
     "text": [
      "[INFO]: (generate_srv_tensors) Generated 512 tensors\n",
      "Not valid error circuits: 16 out of 512\n"
     ]
    }
   ],
   "source": [
    "g         = 7.5     # guidance scale\n",
    "max_gates = 16      # how many time steps the tensor encoding has\n",
    "samples   = 512     # how many circuits to generate\n",
    "\n",
    "out_tensor                   = infer_srv.generate_srv_tensors(pipeline, prompt, samples, num_of_qubits, num_of_qubits, max_gates, g, no_bar=False) \n",
    "qc_list, error_cnt, srv_list = infer_srv.convert_tensors_to_srvs(out_tensor, pipeline.gate_pool)  # may take a moment, has to compute partial traces over (2^9)x(2^9) density matrices\n",
    "print(f\"Not valid error circuits: {error_cnt} out of {samples}\")"
   ]
  },
  {
   "cell_type": "code",
   "execution_count": null,
   "id": "96bdfbee-8cfd-4870-9c7b-43af3626ad1d",
   "metadata": {},
   "outputs": [
    {
     "name": "stdout",
     "output_type": "stream",
     "text": [
      "Accuracy on requested 9 qubit SRV=[2, 2, 2, 1, 1, 1, 1, 1, 2], with a model trained on 3 to 8 qubits circuits: 0.03\n"
     ]
    }
   ],
   "source": [
    "acc = infer_srv.get_srv_accuracy(srv_list, srv)\n",
    "print(f\"Accuracy on requested {len(srv)} qubit SRV={srv}, with a model trained on 3 to 8 qubits circuits: {acc:.2f}\")  "
   ]
  },
  {
   "cell_type": "markdown",
   "id": "555ab75b-848c-496c-8f61-dc73c294d838",
   "metadata": {},
   "source": [
    "## Fine-tune dataset"
   ]
  },
  {
   "cell_type": "markdown",
   "id": "3df8732e-885e-4544-a324-92d27c80a06e",
   "metadata": {},
   "source": [
    "Let's create a 9 qubit fine-tune training dataset."
   ]
  },
  {
   "cell_type": "markdown",
   "id": "486d8b1f-f078-4e27-b030-9cdb4cd09be9",
   "metadata": {},
   "source": [
    "### Sampling random circuits"
   ]
  },
  {
   "cell_type": "markdown",
   "id": "ed1c580e-9a8e-4ead-b36c-ab9ddd330880",
   "metadata": {},
   "source": [
    "We sample random 9 qubit circuits on which we fine-tune on. Note, there is no balancing over what SRVs are created! The initial model was only trained on 3 to 8 qubit circuits."
   ]
  },
  {
   "cell_type": "code",
   "execution_count": null,
   "id": "9f8423f3-7d0c-4f9d-be6c-617b9bf4e575",
   "metadata": {},
   "outputs": [
    {
     "data": {
      "application/vnd.jupyter.widget-view+json": {
       "model_id": "edf10f623fa04090b56cd611c5d5963c",
       "version_major": 2,
       "version_minor": 0
      },
      "text/plain": [
       "  0%|          | 0/100 [00:00<?, ?it/s]"
      ]
     },
     "metadata": {},
     "output_type": "display_data"
    },
    {
     "name": "stdout",
     "output_type": "stream",
     "text": [
      "Generated unique circuits: 100\n"
     ]
    }
   ],
   "source": [
    "# settings for random circuit sampling\n",
    "random_samples = int(1e2)                 # how many rnd qcs we sample, here small number to speed up example\n",
    "num_of_qubits  = 9\n",
    "min_gates      = 2\n",
    "max_gates      = 20\n",
    "gate_pool      = pipeline.gate_pool  \n",
    "optimized      = True                     # if qiskit optimizer is used\n",
    "\n",
    "x, y = data_const.gen_qc_dataset(samples=random_samples, num_of_qubits=num_of_qubits, min_gates=min_gates, max_gates=max_gates, \n",
    "                                gate_pool=gate_pool, optimized=optimized, silent=False)"
   ]
  },
  {
   "cell_type": "code",
   "execution_count": null,
   "id": "9731bf85-3748-4c6d-a072-228818890069",
   "metadata": {},
   "outputs": [
    {
     "data": {
      "text/plain": [
       "tensor([1, 2, 1, 1, 2, 2, 2, 2, 1], dtype=torch.int32)"
      ]
     },
     "execution_count": null,
     "metadata": {},
     "output_type": "execute_result"
    }
   ],
   "source": [
    "y[0]"
   ]
  },
  {
   "cell_type": "code",
   "execution_count": null,
   "id": "854640a2-f2f8-4bbc-9e07-c099784d6af9",
   "metadata": {},
   "outputs": [
    {
     "data": {
      "text/plain": [
       "'Generate SRV: [1 2 1 1 2 2 2 2 1]'"
      ]
     },
     "execution_count": null,
     "metadata": {},
     "output_type": "execute_result"
    }
   ],
   "source": [
    "y = np.array([f\"Generate SRV: {srv.numpy()}\" for srv in y]) # convert SRV to the trained prompt\n",
    "y[0]"
   ]
  },
  {
   "cell_type": "markdown",
   "id": "4baff23b-723b-425f-bf21-5d348d2fffc8",
   "metadata": {},
   "source": [
    "We get tokenized circuits with SRV:"
   ]
  },
  {
   "cell_type": "code",
   "execution_count": null,
   "id": "f4a35005-0953-404d-bb47-c40fd31c6501",
   "metadata": {},
   "outputs": [
    {
     "name": "stdout",
     "output_type": "stream",
     "text": [
      "Example circuit with prompt: \n",
      "Generate SRV: [1 1 1 1 1 1 2 1 2] \n",
      "tensor([[ 2,  2,  0,  0,  0,  0,  0,  0,  0,  0,  0,  0,  0,  0,  0,  0,  0,  0,  0,  0],\n",
      "        [ 0, -2,  0,  0,  0,  0,  0,  0,  0,  0,  0,  0,  0,  0,  0,  0,  0,  0,  0,  0],\n",
      "        [ 0,  0,  0,  0,  0,  0,  0,  0,  0,  0,  0,  0,  0,  0,  0,  0,  0,  0,  0,  0],\n",
      "        [-2,  0,  0,  0,  0,  0,  0,  0,  0,  0,  0,  0,  0,  0,  0,  0,  0,  0,  0,  0],\n",
      "        [ 0,  0,  0, -2,  0,  0,  0,  0,  0,  0,  0,  0,  0,  0,  0,  0,  0,  0,  0,  0],\n",
      "        [ 0,  0, -2,  0,  0,  0,  0,  0,  0,  0,  0,  0,  0,  0,  0,  0,  0,  0,  0,  0],\n",
      "        [ 0,  0,  2,  2,  0,  2,  0,  0,  0,  0,  0,  0,  0,  0,  0,  0,  0,  0,  0,  0],\n",
      "        [ 0,  0,  0,  0,  0,  0,  0,  0,  0,  0,  0,  0,  0,  0,  0,  0,  0,  0,  0,  0],\n",
      "        [ 0,  0,  0,  0,  1, -2,  1,  0,  0,  0,  0,  0,  0,  0,  0,  0,  0,  0,  0,  0]], dtype=torch.int32)\n"
     ]
    }
   ],
   "source": [
    "print(f\"Example circuit with prompt: \\n{y[-1]} \\n{x[-1]}\")"
   ]
  },
  {
   "cell_type": "markdown",
   "id": "b8585979-0aff-4c78-aedc-fc6dbbef0614",
   "metadata": {},
   "source": [
    "### Create a basic dataset"
   ]
  },
  {
   "cell_type": "markdown",
   "id": "3703b7b6-771f-4073-9b6d-faa7aab9a0c4",
   "metadata": {},
   "source": [
    "Direct fine-tuning is the same as you would train a new model from scratch. First, we create a `Qc_Config_Dataset` object that handles our dataset."
   ]
  },
  {
   "cell_type": "code",
   "execution_count": null,
   "id": "0c91ed32-5f03-4aa8-85ac-506ae2c77ef1",
   "metadata": {},
   "outputs": [],
   "source": [
    "# meta-data of dataset\n",
    "paras = {}\n",
    "paras[\"store_dict\"]     = {'x':'tensor', 'y':'numpy'}   #what is in the datset, with type\n",
    "paras[\"optimized\"]      = optimized    \n",
    "paras[\"dataset_to_gpu\"] = True if device==\"cuda\" else False\n",
    "paras[\"random_samples\"] = random_samples\n",
    "paras[\"num_of_qubits\"]  = num_of_qubits\n",
    "paras[\"min_gates\"]      = min_gates\n",
    "paras[\"max_gates\"]      = max_gates\n",
    "paras[\"gate_pool\"]      = [dahe.class_to_str(gate) for gate in gate_pool]"
   ]
  },
  {
   "cell_type": "markdown",
   "id": "3e10ab8f-6908-4953-80b3-94791527030a",
   "metadata": {},
   "source": [
    "Make sure our dataset has no duplicates and shuffle it:"
   ]
  },
  {
   "cell_type": "code",
   "execution_count": null,
   "id": "9d506816-cbe0-4c6b-ba82-03f07f9a22c9",
   "metadata": {},
   "outputs": [],
   "source": [
    "x, y = dahe.uniquify_tensor_dataset(x, y)\n",
    "assert x.shape[0] == x.unique(dim=0).shape[0]    # check if no duplicates\n",
    "\n",
    "x, y = dahe.shuffle_tensor_dataset(x, y)"
   ]
  },
  {
   "cell_type": "markdown",
   "id": "9b213646-4340-4135-979a-592c58b0a102",
   "metadata": {},
   "source": [
    "Now create the `Qc_Config_Dataset` object:"
   ]
  },
  {
   "cell_type": "code",
   "execution_count": null,
   "id": "d787dc71-1450-4489-adf0-ae5edf7e27b0",
   "metadata": {},
   "outputs": [
    {
     "name": "stdout",
     "output_type": "stream",
     "text": [
      "Label: ``Generate SRV: [1 2 2 1 1 1 1 1 2]``    SRV is: [1, 2, 2, 1, 1, 1, 1, 1, 2]\n"
     ]
    },
    {
     "data": {
      "image/png": "[encoded data removed]",
      "text/plain": [
       "<Figure size 1374.44x785.944 with 1 Axes>"
      ]
     },
     "metadata": {},
     "output_type": "display_data"
    }
   ],
   "source": [
    "qc_Config_Dataset = Qc_Config_Dataset(store_device=device, **paras)\n",
    "qc_Config_Dataset.x = x\n",
    "qc_Config_Dataset.y = y\n",
    "qc_Config_Dataset.dataset_to_gpu = True if device.type==\"cuda\" else False \n",
    "qc_Config_Dataset.plot_example()"
   ]
  },
  {
   "cell_type": "markdown",
   "id": "d426a6e6-3812-4d1b-a83f-ed936bd1ae1a",
   "metadata": {},
   "source": [
    "If you want to save the dataset to disk, you could use:\n",
    "\n",
    "```python\n",
    "config_path = \"YOUR_CONFIG_FILE\"  \n",
    "save_path   = \"YOUR_SAVE_PATH\"    \n",
    "qc_Config_Dataset.save_dataset(config_path, save_path)\n",
    "```\n",
    "where `config_path` file-path to the meta-data file, e.g. `\"../../configs/dataset/qc_9bit_fine_tune.yaml`\n",
    "\n",
    "and `save_path` file-path prefix where the raw dataset files are stored, e.g. `\"../../datasets/q-circuits/qc_9bit_fine_tune\"`."
   ]
  },
  {
   "cell_type": "markdown",
   "id": "f5ec742f-cd84-4b3e-972d-6dd89e25ce9d",
   "metadata": {},
   "source": [
    "A saved dataset can be loaded with:\n",
    "```python\n",
    "qc_Config_Dataset = Qc_Config_Dataset.from_config_file(config_path, device=device) \n",
    "```"
   ]
  },
  {
   "cell_type": "markdown",
   "id": "9ab7e8c2-2512-4edb-a3f2-9ac96b13f2aa",
   "metadata": {},
   "source": [
    "### Create a cached (mixed) dataset"
   ]
  },
  {
   "cell_type": "markdown",
   "id": "bcac06b4-abfa-4b1a-bf71-f50d21dde653",
   "metadata": {},
   "source": [
    "To speed up training we can cache the CLIP embeddings of the `y` dataset labels before we start fitting. We provide the `Cached_OpenClip_Dataset` object for this. Here we use a further extension, the `Mixed_Cached_OpenClip_Dataset`. It has advanced methods to handle padding and combining different task (e.g. compile and SRV) or different number of qubit datasets together (as explained in the appendix of the paper). We use it here to automatically cut and pad our 9 qubit circuits to the longest circuit within one batch."
   ]
  },
  {
   "cell_type": "markdown",
   "id": "dedacaf3-fee4-437e-8d4c-6f976ebe1542",
   "metadata": {},
   "source": [
    "See if the pipeline has already a padding token specified, else define one."
   ]
  },
  {
   "cell_type": "code",
   "execution_count": null,
   "id": "05c1cc09-8a9e-465d-be52-841ea400348b",
   "metadata": {},
   "outputs": [
    {
     "name": "stdout",
     "output_type": "stream",
     "text": [
      "pad_constant=3\n"
     ]
    }
   ],
   "source": [
    "try:    pad_constant = pipeline.params_config(\"\")[\"add_config\"][\"dataset\"][\"params\"][\"pad_constant\"]  #can NOT be 0 (empty token)! and not any other gate!\n",
    "except: pad_constant = len(qc_Config_Dataset.gate_pool)+1\n",
    "    \n",
    "print(f\"{pad_constant=}\")"
   ]
  },
  {
   "cell_type": "code",
   "execution_count": null,
   "id": "6102f426-51a7-4989-badd-2805596d4767",
   "metadata": {},
   "outputs": [
    {
     "data": {
      "application/vnd.jupyter.widget-view+json": {
       "model_id": "cf6b9849288d422b8e2102eefa9c80ba",
       "version_major": 2,
       "version_minor": 0
      },
      "text/plain": [
       "  0%|          | 0/1 [00:00<?, ?it/s]"
      ]
     },
     "metadata": {},
     "output_type": "display_data"
    },
    {
     "name": "stdout",
     "output_type": "stream",
     "text": [
      " - dataset size after balancing 100\n"
     ]
    }
   ],
   "source": [
    "dataset_list = [qc_Config_Dataset]                  # what datasets to combine\n",
    "\n",
    "parameters   = asdict(qc_Config_Dataset.params_config)\n",
    "parameters[\"num_down_scales\"] = 3                   # defined by the down-scale layers of the UNet\n",
    "\n",
    "mixed_dataset = Mixed_Cached_OpenClip_Dataset.from_datasets(dataset_list,                 \n",
    "                 balance_maxes=[1e8],          # what the maximum prompt (y) balance limit is, can be used to balance SRVs for different qubit numbers                                      \n",
    "                 pad_constant=pad_constant,\n",
    "                 device=device, \n",
    "                 bucket_batch_size=-1,         # if we use bucket padding\n",
    "                 max_samples=[1e8],            # if we want to limit the sizes of the dataset_list \n",
    "                 **parameters)"
   ]
  },
  {
   "cell_type": "markdown",
   "id": "5e8ad51c-a2ec-44a6-b30e-3233738e2074",
   "metadata": {},
   "source": [
    "Let's see what we are training on:"
   ]
  },
  {
   "cell_type": "code",
   "execution_count": null,
   "id": "8c63d097-98cd-4c08-819c-814bd090b81c",
   "metadata": {},
   "outputs": [
    {
     "data": {
      "image/png": "[encoded data removed]",
      "text/plain": [
       "<Figure size 1200x360 with 2 Axes>"
      ]
     },
     "metadata": {},
     "output_type": "display_data"
    }
   ],
   "source": [
    "fig, axs = plt.subplots(1, 2, figsize=(12, 3.6), squeeze=False, constrained_layout=True)  \n",
    "plt.sca(axs[0, 0])\n",
    "plt.xlabel(r\"$s$\")\n",
    "plt.title(\"Dist of space\")\n",
    "min_q, max_q = min(d.num_of_qubits for d in dataset_list), max(d.num_of_qubits for d in dataset_list)\n",
    "data = mixed_dataset.z[:, 0].cpu() \n",
    "plt.hist(data, bins=np.arange(min_q, max_q+2) - 0.5, rwidth=0.9)\n",
    "\n",
    "plt.sca(axs[0, 1])\n",
    "plt.xlabel(r\"$t$\")\n",
    "plt.title(\"Dist of time\")\n",
    "min_g, max_g = min(d.min_gates for d in dataset_list), max(d.max_gates for d in dataset_list)\n",
    "data = mixed_dataset.z[:, 1].cpu()\n",
    "plt.hist(data, bins=np.arange(min_g, max_g+2) - 0.5, rwidth=0.9)\n",
    "\n",
    "plt.show()"
   ]
  },
  {
   "cell_type": "markdown",
   "id": "0cda8408-1aa7-49a4-8628-0dfc8cf35b1d",
   "metadata": {},
   "source": [
    "Finally, we can create the dataloader used by the `DiffusionPipeline.fit()` funtion. This also caches all our prompts."
   ]
  },
  {
   "cell_type": "code",
   "execution_count": null,
   "id": "ec9b63c0-a92d-416f-994b-ea1ef6fae0c7",
   "metadata": {},
   "outputs": [
    {
     "name": "stdout",
     "output_type": "stream",
     "text": [
      "[INFO]: `genQC.models.unet_qc.QC_Cond_UNet` instantiated from given config on cuda.\n",
      "[INFO]: `genQC.models.frozen_open_clip.CachedFrozenOpenCLIPEmbedder` instantiated from given config on cuda.\n",
      "[INFO]: `genQC.models.frozen_open_clip.CachedFrozenOpenCLIPEmbedder`. No save_path` provided. No state dict loaded.\n",
      "[INFO]: Not balancing dataset!  balance_max=None\n",
      "[INFO]: Generate cache: converting tensors to str and tokenize\n",
      " - to str list\n",
      " - tokenize_and_push_to_device\n",
      " - generate_cache\n"
     ]
    },
    {
     "data": {
      "application/vnd.jupyter.widget-view+json": {
       "model_id": "13c923ec93e54f5591552e3d411c383d",
       "version_major": 2,
       "version_minor": 0
      },
      "text/plain": [
       "  0%|          | 0/1 [00:00<?, ?it/s]"
      ]
     },
     "metadata": {},
     "output_type": "display_data"
    },
    {
     "name": "stdout",
     "output_type": "stream",
     "text": [
      "[INFO]: caching trying to allocate memory (53, 77, 512) on cuda, approx. 0.008 GB\n",
      "[INFO]: Generated cache\n"
     ]
    }
   ],
   "source": [
    "tuned_pipeline = get_preTrained_pipeline()  # load a fresh pre-trained model we want to train\n",
    "\n",
    "dataloaders = mixed_dataset.get_dataloaders(batch_size=16, text_encoder=tuned_pipeline.text_encoder.to(device), y_on_cpu=False)  # you can set y_on_cpu=True if you run out of device mem"
   ]
  },
  {
   "cell_type": "markdown",
   "id": "63ab9562-ea8a-478b-9590-077536393041",
   "metadata": {},
   "source": [
    "## Fine-tune"
   ]
  },
  {
   "cell_type": "markdown",
   "id": "65123d1d-e8e5-4b54-9eea-f84161b149c0",
   "metadata": {},
   "source": [
    "We have the dataloader object created and can start fine-tuning. Note, we just use all the diffusion scheduler parameters from the pre-trained config we loaded. "
   ]
  },
  {
   "cell_type": "code",
   "execution_count": null,
   "id": "ddb86cfc-d632-412c-817d-69f2225a071b",
   "metadata": {},
   "outputs": [],
   "source": [
    "tuned_pipeline.add_config[\"dataset\"] = mixed_dataset.get_config()   # add meta-data of dataset to save it with pipeline\n",
    "tuned_pipeline.compile(torch.optim.Adam, nn.MSELoss)"
   ]
  },
  {
   "cell_type": "code",
   "execution_count": null,
   "id": "11fd72ce-67ea-4741-bcfb-efbd108dd351",
   "metadata": {},
   "outputs": [
    {
     "data": {
      "application/vnd.jupyter.widget-view+json": {
       "model_id": "59476f348eed4432ae3c01cf899eb159",
       "version_major": 2,
       "version_minor": 0
      },
      "text/plain": [
       "Fit:   0%|          | 0/25 [00:00<?, ? epoch/s]"
      ]
     },
     "metadata": {},
     "output_type": "display_data"
    },
    {
     "data": {
      "application/vnd.jupyter.widget-view+json": {
       "model_id": "1f7e05d60c2c46a29e406be9e9bb04e5",
       "version_major": 2,
       "version_minor": 0
      },
      "text/plain": [
       "Epoch 0:   0%|          | 0/6 [00:00<?, ? batch/s]"
      ]
     },
     "metadata": {},
     "output_type": "display_data"
    },
    {
     "data": {
      "application/vnd.jupyter.widget-view+json": {
       "model_id": "8a967ed71a5d446391ebf2a99922c623",
       "version_major": 2,
       "version_minor": 0
      },
      "text/plain": [
       "Epoch 0:   0%|          | 0/1 [00:00<?, ? batch/s]"
      ]
     },
     "metadata": {},
     "output_type": "display_data"
    },
    {
     "data": {
      "application/vnd.jupyter.widget-view+json": {
       "model_id": "3712efb0817c4cd9875d3a87ab70f19e",
       "version_major": 2,
       "version_minor": 0
      },
      "text/plain": [
       "Epoch 1:   0%|          | 0/6 [00:00<?, ? batch/s]"
      ]
     },
     "metadata": {},
     "output_type": "display_data"
    },
    {
     "data": {
      "application/vnd.jupyter.widget-view+json": {
       "model_id": "d39a59a411f948be9423cffb67992c1f",
       "version_major": 2,
       "version_minor": 0
      },
      "text/plain": [
       "Epoch 1:   0%|          | 0/1 [00:00<?, ? batch/s]"
      ]
     },
     "metadata": {},
     "output_type": "display_data"
    },
    {
     "data": {
      "application/vnd.jupyter.widget-view+json": {
       "model_id": "85eaef6e35e94d3ebf46c4ddd5c94d08",
       "version_major": 2,
       "version_minor": 0
      },
      "text/plain": [
       "Epoch 2:   0%|          | 0/6 [00:00<?, ? batch/s]"
      ]
     },
     "metadata": {},
     "output_type": "display_data"
    },
    {
     "data": {
      "application/vnd.jupyter.widget-view+json": {
       "model_id": "3cfa9f7308eb4f1d921cf47f78b76f83",
       "version_major": 2,
       "version_minor": 0
      },
      "text/plain": [
       "Epoch 2:   0%|          | 0/1 [00:00<?, ? batch/s]"
      ]
     },
     "metadata": {},
     "output_type": "display_data"
    },
    {
     "data": {
      "application/vnd.jupyter.widget-view+json": {
       "model_id": "f289b2403c22496eb1519d315bd61f88",
       "version_major": 2,
       "version_minor": 0
      },
      "text/plain": [
       "Epoch 3:   0%|          | 0/6 [00:00<?, ? batch/s]"
      ]
     },
     "metadata": {},
     "output_type": "display_data"
    },
    {
     "data": {
      "application/vnd.jupyter.widget-view+json": {
       "model_id": "af7287632b5045d3a95bfbc64d54b588",
       "version_major": 2,
       "version_minor": 0
      },
      "text/plain": [
       "Epoch 3:   0%|          | 0/1 [00:00<?, ? batch/s]"
      ]
     },
     "metadata": {},
     "output_type": "display_data"
    },
    {
     "data": {
      "application/vnd.jupyter.widget-view+json": {
       "model_id": "fdea2b7152d14578be0f1cfb73fe0826",
       "version_major": 2,
       "version_minor": 0
      },
      "text/plain": [
       "Epoch 4:   0%|          | 0/6 [00:00<?, ? batch/s]"
      ]
     },
     "metadata": {},
     "output_type": "display_data"
    },
    {
     "data": {
      "application/vnd.jupyter.widget-view+json": {
       "model_id": "3ae43d0e49904dcda0d2c358d3b8363b",
       "version_major": 2,
       "version_minor": 0
      },
      "text/plain": [
       "Epoch 4:   0%|          | 0/1 [00:00<?, ? batch/s]"
      ]
     },
     "metadata": {},
     "output_type": "display_data"
    },
    {
     "data": {
      "application/vnd.jupyter.widget-view+json": {
       "model_id": "d986bc9e632c4e96bdd652c4b7709517",
       "version_major": 2,
       "version_minor": 0
      },
      "text/plain": [
       "Epoch 5:   0%|          | 0/6 [00:00<?, ? batch/s]"
      ]
     },
     "metadata": {},
     "output_type": "display_data"
    },
    {
     "data": {
      "application/vnd.jupyter.widget-view+json": {
       "model_id": "67bc0a9601fd4cfd9bcc53da0b361e86",
       "version_major": 2,
       "version_minor": 0
      },
      "text/plain": [
       "Epoch 5:   0%|          | 0/1 [00:00<?, ? batch/s]"
      ]
     },
     "metadata": {},
     "output_type": "display_data"
    },
    {
     "data": {
      "application/vnd.jupyter.widget-view+json": {
       "model_id": "e21f5f3bb7c7496d92915b00d528a621",
       "version_major": 2,
       "version_minor": 0
      },
      "text/plain": [
       "Epoch 6:   0%|          | 0/6 [00:00<?, ? batch/s]"
      ]
     },
     "metadata": {},
     "output_type": "display_data"
    },
    {
     "data": {
      "application/vnd.jupyter.widget-view+json": {
       "model_id": "177589d404cd493783831653330e2c18",
       "version_major": 2,
       "version_minor": 0
      },
      "text/plain": [
       "Epoch 6:   0%|          | 0/1 [00:00<?, ? batch/s]"
      ]
     },
     "metadata": {},
     "output_type": "display_data"
    },
    {
     "data": {
      "application/vnd.jupyter.widget-view+json": {
       "model_id": "ecdd3e28b88f4d48987d122d47bc4b08",
       "version_major": 2,
       "version_minor": 0
      },
      "text/plain": [
       "Epoch 7:   0%|          | 0/6 [00:00<?, ? batch/s]"
      ]
     },
     "metadata": {},
     "output_type": "display_data"
    },
    {
     "data": {
      "application/vnd.jupyter.widget-view+json": {
       "model_id": "8da3e548afa6417a8b3e3e552fde0812",
       "version_major": 2,
       "version_minor": 0
      },
      "text/plain": [
       "Epoch 7:   0%|          | 0/1 [00:00<?, ? batch/s]"
      ]
     },
     "metadata": {},
     "output_type": "display_data"
    },
    {
     "data": {
      "application/vnd.jupyter.widget-view+json": {
       "model_id": "1bf14e9099d14028a5751043fae5941b",
       "version_major": 2,
       "version_minor": 0
      },
      "text/plain": [
       "Epoch 8:   0%|          | 0/6 [00:00<?, ? batch/s]"
      ]
     },
     "metadata": {},
     "output_type": "display_data"
    },
    {
     "data": {
      "application/vnd.jupyter.widget-view+json": {
       "model_id": "e781244858ed45a8ac10094022b244cc",
       "version_major": 2,
       "version_minor": 0
      },
      "text/plain": [
       "Epoch 8:   0%|          | 0/1 [00:00<?, ? batch/s]"
      ]
     },
     "metadata": {},
     "output_type": "display_data"
    },
    {
     "data": {
      "application/vnd.jupyter.widget-view+json": {
       "model_id": "45fbfa91971f4743ba1acc2c18fc1057",
       "version_major": 2,
       "version_minor": 0
      },
      "text/plain": [
       "Epoch 9:   0%|          | 0/6 [00:00<?, ? batch/s]"
      ]
     },
     "metadata": {},
     "output_type": "display_data"
    },
    {
     "data": {
      "application/vnd.jupyter.widget-view+json": {
       "model_id": "3336f6277c8946dd8c231d6113cb616c",
       "version_major": 2,
       "version_minor": 0
      },
      "text/plain": [
       "Epoch 9:   0%|          | 0/1 [00:00<?, ? batch/s]"
      ]
     },
     "metadata": {},
     "output_type": "display_data"
    },
    {
     "data": {
      "application/vnd.jupyter.widget-view+json": {
       "model_id": "ad2cf0c51e81486296a3ca11efeb740b",
       "version_major": 2,
       "version_minor": 0
      },
      "text/plain": [
       "Epoch 10:   0%|          | 0/6 [00:00<?, ? batch/s]"
      ]
     },
     "metadata": {},
     "output_type": "display_data"
    },
    {
     "data": {
      "application/vnd.jupyter.widget-view+json": {
       "model_id": "c0ef0289ba6a42b4bde1f203abe004b3",
       "version_major": 2,
       "version_minor": 0
      },
      "text/plain": [
       "Epoch 10:   0%|          | 0/1 [00:00<?, ? batch/s]"
      ]
     },
     "metadata": {},
     "output_type": "display_data"
    },
    {
     "data": {
      "application/vnd.jupyter.widget-view+json": {
       "model_id": "337774478d694009b8d74958b10d5d61",
       "version_major": 2,
       "version_minor": 0
      },
      "text/plain": [
       "Epoch 11:   0%|          | 0/6 [00:00<?, ? batch/s]"
      ]
     },
     "metadata": {},
     "output_type": "display_data"
    },
    {
     "data": {
      "application/vnd.jupyter.widget-view+json": {
       "model_id": "0257bf4cf535426c8ced00cd9f6dc841",
       "version_major": 2,
       "version_minor": 0
      },
      "text/plain": [
       "Epoch 11:   0%|          | 0/1 [00:00<?, ? batch/s]"
      ]
     },
     "metadata": {},
     "output_type": "display_data"
    },
    {
     "data": {
      "application/vnd.jupyter.widget-view+json": {
       "model_id": "218a09e180f54498a588a636276a9f6a",
       "version_major": 2,
       "version_minor": 0
      },
      "text/plain": [
       "Epoch 12:   0%|          | 0/6 [00:00<?, ? batch/s]"
      ]
     },
     "metadata": {},
     "output_type": "display_data"
    },
    {
     "data": {
      "application/vnd.jupyter.widget-view+json": {
       "model_id": "55b1b8d6711b4547be3b4cb73835b9d2",
       "version_major": 2,
       "version_minor": 0
      },
      "text/plain": [
       "Epoch 12:   0%|          | 0/1 [00:00<?, ? batch/s]"
      ]
     },
     "metadata": {},
     "output_type": "display_data"
    },
    {
     "data": {
      "application/vnd.jupyter.widget-view+json": {
       "model_id": "735f8f0d762247a3841a1719933cd1a2",
       "version_major": 2,
       "version_minor": 0
      },
      "text/plain": [
       "Epoch 13:   0%|          | 0/6 [00:00<?, ? batch/s]"
      ]
     },
     "metadata": {},
     "output_type": "display_data"
    },
    {
     "data": {
      "application/vnd.jupyter.widget-view+json": {
       "model_id": "c2e9f90b8adb4a4488ea7c0ef7a839f1",
       "version_major": 2,
       "version_minor": 0
      },
      "text/plain": [
       "Epoch 13:   0%|          | 0/1 [00:00<?, ? batch/s]"
      ]
     },
     "metadata": {},
     "output_type": "display_data"
    },
    {
     "data": {
      "application/vnd.jupyter.widget-view+json": {
       "model_id": "d82d30b3d6e448c498363ab55fa23b4c",
       "version_major": 2,
       "version_minor": 0
      },
      "text/plain": [
       "Epoch 14:   0%|          | 0/6 [00:00<?, ? batch/s]"
      ]
     },
     "metadata": {},
     "output_type": "display_data"
    },
    {
     "data": {
      "application/vnd.jupyter.widget-view+json": {
       "model_id": "87c309d967ae4c9abb213b9d8df747e5",
       "version_major": 2,
       "version_minor": 0
      },
      "text/plain": [
       "Epoch 14:   0%|          | 0/1 [00:00<?, ? batch/s]"
      ]
     },
     "metadata": {},
     "output_type": "display_data"
    },
    {
     "data": {
      "application/vnd.jupyter.widget-view+json": {
       "model_id": "bca985b7dd3d444da8152972aa56c4ae",
       "version_major": 2,
       "version_minor": 0
      },
      "text/plain": [
       "Epoch 15:   0%|          | 0/6 [00:00<?, ? batch/s]"
      ]
     },
     "metadata": {},
     "output_type": "display_data"
    },
    {
     "data": {
      "application/vnd.jupyter.widget-view+json": {
       "model_id": "d85991ff5813490a90a4995c7c3972ac",
       "version_major": 2,
       "version_minor": 0
      },
      "text/plain": [
       "Epoch 15:   0%|          | 0/1 [00:00<?, ? batch/s]"
      ]
     },
     "metadata": {},
     "output_type": "display_data"
    },
    {
     "data": {
      "application/vnd.jupyter.widget-view+json": {
       "model_id": "485dc0521a7d4b2d94a0a912a07c20e5",
       "version_major": 2,
       "version_minor": 0
      },
      "text/plain": [
       "Epoch 16:   0%|          | 0/6 [00:00<?, ? batch/s]"
      ]
     },
     "metadata": {},
     "output_type": "display_data"
    },
    {
     "data": {
      "application/vnd.jupyter.widget-view+json": {
       "model_id": "a175cf2080ff4673b0423d9f4a5e922a",
       "version_major": 2,
       "version_minor": 0
      },
      "text/plain": [
       "Epoch 16:   0%|          | 0/1 [00:00<?, ? batch/s]"
      ]
     },
     "metadata": {},
     "output_type": "display_data"
    },
    {
     "data": {
      "application/vnd.jupyter.widget-view+json": {
       "model_id": "e80faf8c4c84457f8245b2cb45238c56",
       "version_major": 2,
       "version_minor": 0
      },
      "text/plain": [
       "Epoch 17:   0%|          | 0/6 [00:00<?, ? batch/s]"
      ]
     },
     "metadata": {},
     "output_type": "display_data"
    },
    {
     "data": {
      "application/vnd.jupyter.widget-view+json": {
       "model_id": "e68fabfb8cbd42c39d30f27813cc1560",
       "version_major": 2,
       "version_minor": 0
      },
      "text/plain": [
       "Epoch 17:   0%|          | 0/1 [00:00<?, ? batch/s]"
      ]
     },
     "metadata": {},
     "output_type": "display_data"
    },
    {
     "data": {
      "application/vnd.jupyter.widget-view+json": {
       "model_id": "e4080f856f3645089a2a63f5c3ea3af5",
       "version_major": 2,
       "version_minor": 0
      },
      "text/plain": [
       "Epoch 18:   0%|          | 0/6 [00:00<?, ? batch/s]"
      ]
     },
     "metadata": {},
     "output_type": "display_data"
    },
    {
     "data": {
      "application/vnd.jupyter.widget-view+json": {
       "model_id": "4a68b6bbd9c3457fa54dca4f85780cbf",
       "version_major": 2,
       "version_minor": 0
      },
      "text/plain": [
       "Epoch 18:   0%|          | 0/1 [00:00<?, ? batch/s]"
      ]
     },
     "metadata": {},
     "output_type": "display_data"
    },
    {
     "data": {
      "application/vnd.jupyter.widget-view+json": {
       "model_id": "3607394cb1234c95a2edb2b294d0cf3a",
       "version_major": 2,
       "version_minor": 0
      },
      "text/plain": [
       "Epoch 19:   0%|          | 0/6 [00:00<?, ? batch/s]"
      ]
     },
     "metadata": {},
     "output_type": "display_data"
    },
    {
     "data": {
      "application/vnd.jupyter.widget-view+json": {
       "model_id": "5df8d22e9d6a4ee2a5f313105e3f1a38",
       "version_major": 2,
       "version_minor": 0
      },
      "text/plain": [
       "Epoch 19:   0%|          | 0/1 [00:00<?, ? batch/s]"
      ]
     },
     "metadata": {},
     "output_type": "display_data"
    },
    {
     "data": {
      "application/vnd.jupyter.widget-view+json": {
       "model_id": "9a8f427c2a504a50893b61c4a7ece9dc",
       "version_major": 2,
       "version_minor": 0
      },
      "text/plain": [
       "Epoch 20:   0%|          | 0/6 [00:00<?, ? batch/s]"
      ]
     },
     "metadata": {},
     "output_type": "display_data"
    },
    {
     "data": {
      "application/vnd.jupyter.widget-view+json": {
       "model_id": "9665abacc42c42e3b4554fd9f72c3082",
       "version_major": 2,
       "version_minor": 0
      },
      "text/plain": [
       "Epoch 20:   0%|          | 0/1 [00:00<?, ? batch/s]"
      ]
     },
     "metadata": {},
     "output_type": "display_data"
    },
    {
     "data": {
      "application/vnd.jupyter.widget-view+json": {
       "model_id": "167f585f2bd04d11801aa49661b5e72f",
       "version_major": 2,
       "version_minor": 0
      },
      "text/plain": [
       "Epoch 21:   0%|          | 0/6 [00:00<?, ? batch/s]"
      ]
     },
     "metadata": {},
     "output_type": "display_data"
    },
    {
     "data": {
      "application/vnd.jupyter.widget-view+json": {
       "model_id": "d894dd344a274e04a8d30d4966081e7a",
       "version_major": 2,
       "version_minor": 0
      },
      "text/plain": [
       "Epoch 21:   0%|          | 0/1 [00:00<?, ? batch/s]"
      ]
     },
     "metadata": {},
     "output_type": "display_data"
    },
    {
     "data": {
      "application/vnd.jupyter.widget-view+json": {
       "model_id": "de5184cbc6ad4519ae9f7ca5c9add260",
       "version_major": 2,
       "version_minor": 0
      },
      "text/plain": [
       "Epoch 22:   0%|          | 0/6 [00:00<?, ? batch/s]"
      ]
     },
     "metadata": {},
     "output_type": "display_data"
    },
    {
     "data": {
      "application/vnd.jupyter.widget-view+json": {
       "model_id": "f0f87454ef214e63977c74bbe07cd92e",
       "version_major": 2,
       "version_minor": 0
      },
      "text/plain": [
       "Epoch 22:   0%|          | 0/1 [00:00<?, ? batch/s]"
      ]
     },
     "metadata": {},
     "output_type": "display_data"
    },
    {
     "data": {
      "application/vnd.jupyter.widget-view+json": {
       "model_id": "c3779af668c44e199933c1a641e61ced",
       "version_major": 2,
       "version_minor": 0
      },
      "text/plain": [
       "Epoch 23:   0%|          | 0/6 [00:00<?, ? batch/s]"
      ]
     },
     "metadata": {},
     "output_type": "display_data"
    },
    {
     "data": {
      "application/vnd.jupyter.widget-view+json": {
       "model_id": "285f24cc9ac347b3880046445c5b1160",
       "version_major": 2,
       "version_minor": 0
      },
      "text/plain": [
       "Epoch 23:   0%|          | 0/1 [00:00<?, ? batch/s]"
      ]
     },
     "metadata": {},
     "output_type": "display_data"
    },
    {
     "data": {
      "application/vnd.jupyter.widget-view+json": {
       "model_id": "3450c99d4aa54af79949b4085503af09",
       "version_major": 2,
       "version_minor": 0
      },
      "text/plain": [
       "Epoch 24:   0%|          | 0/6 [00:00<?, ? batch/s]"
      ]
     },
     "metadata": {},
     "output_type": "display_data"
    },
    {
     "data": {
      "application/vnd.jupyter.widget-view+json": {
       "model_id": "961c0fac34d54b3b8b0eb5b8c0c6b309",
       "version_major": 2,
       "version_minor": 0
      },
      "text/plain": [
       "Epoch 24:   0%|          | 0/1 [00:00<?, ? batch/s]"
      ]
     },
     "metadata": {},
     "output_type": "display_data"
    },
    {
     "data": {
      "image/png": "[encoded data removed]",
      "text/plain": [
       "<Figure size 1200x200 with 1 Axes>"
      ]
     },
     "metadata": {},
     "output_type": "display_data"
    }
   ],
   "source": [
    "epochs = 25      # how many epochs we train on our 9bit dataset\n",
    "lr     = 5e-5    # learn rate\n",
    "\n",
    "sched = functools.partial(torch.optim.lr_scheduler.OneCycleLR, max_lr=lr, total_steps=epochs*len(dataloaders.train))\n",
    "tuned_pipeline.fit(epochs, dataloaders, lr=lr, lr_sched=sched)"
   ]
  },
  {
   "cell_type": "markdown",
   "id": "6920a9c9-0038-4d3c-a061-26cb9235a4fe",
   "metadata": {},
   "source": [
    "If you want you can save the tuned pipeline with:\n",
    "\n",
    "```python\n",
    "store_dir = f\"../../saves/fine_tuned_on_9bits/\"\n",
    "\n",
    "tuned_pipeline.store_pipeline(config_path=store_dir, save_path=store_dir)\n",
    "```\n",
    "\n",
    "and load it again with the usual:\n",
    "\n",
    "```python\n",
    "tuned_pipeline = DiffusionPipeline.from_config_file(model_path, device)  \n",
    "```"
   ]
  },
  {
   "cell_type": "markdown",
   "id": "65acff8f-8486-42c9-8e78-b44f31de568b",
   "metadata": {},
   "source": [
    "## Generate 9 qubit circuits fine-tuned"
   ]
  },
  {
   "cell_type": "markdown",
   "id": "6e2d0aa4-343d-4f78-81de-f114b0a8333e",
   "metadata": {},
   "source": [
    "Test again to create a 9 qubit SRV as we did at the start but with the tuned model:"
   ]
  },
  {
   "cell_type": "code",
   "execution_count": null,
   "id": "c6879131-3e29-4f5e-a5da-9e43d33cddcc",
   "metadata": {},
   "outputs": [
    {
     "data": {
      "text/plain": [
       "'Generate SRV: [2, 2, 2, 1, 1, 1, 1, 1, 2]'"
      ]
     },
     "execution_count": null,
     "metadata": {},
     "output_type": "execute_result"
    }
   ],
   "source": [
    "prompt"
   ]
  },
  {
   "cell_type": "code",
   "execution_count": null,
   "id": "f1c82de5-3645-403b-a54e-5185860b0f7c",
   "metadata": {},
   "outputs": [
    {
     "data": {
      "application/vnd.jupyter.widget-view+json": {
       "model_id": "c9ade90fdaa045e889a91d9a78be190d",
       "version_major": 2,
       "version_minor": 0
      },
      "text/plain": [
       "  0%|          | 0/20 [00:00<?, ?it/s]"
      ]
     },
     "metadata": {},
     "output_type": "display_data"
    },
    {
     "name": "stdout",
     "output_type": "stream",
     "text": [
      "[INFO]: (generate_srv_tensors) Generated 512 tensors\n",
      "Not valid error circuits: 4 out of 512\n"
     ]
    }
   ],
   "source": [
    "g         = 7.5     # guidance scale\n",
    "max_gates = 16      # how many time steps the tensor encoding has\n",
    "samples   = 512     # how many circuits to generate\n",
    "\n",
    "tuned_pipeline.guidance_sample_mode = \"rescaled\"\n",
    "tuned_pipeline.scheduler.set_timesteps(20) \n",
    "\n",
    "out_tensor                   = infer_srv.generate_srv_tensors(tuned_pipeline, prompt, samples, num_of_qubits, num_of_qubits, max_gates, g, no_bar=False) \n",
    "qc_list, error_cnt, srv_list = infer_srv.convert_tensors_to_srvs(out_tensor, tuned_pipeline.gate_pool) # may take a moment, has to compute partial traces over (2^9)x(2^9) density matrices\n",
    "print(f\"Not valid error circuits: {error_cnt} out of {samples}\")"
   ]
  },
  {
   "cell_type": "code",
   "execution_count": null,
   "id": "1cf638ca-0513-4d82-8fa3-cac6deaaeb8f",
   "metadata": {},
   "outputs": [
    {
     "name": "stdout",
     "output_type": "stream",
     "text": [
      "Accuracy on requested 9 qubit SRV=[2, 2, 2, 1, 1, 1, 1, 1, 2]: \n",
      " - with a model trained only on 3 to 8 qubits qcs: 0.03 \n",
      " - and with fine-tuning on 9 qubit qcs: 0.26\n"
     ]
    }
   ],
   "source": [
    "tuned_acc = infer_srv.get_srv_accuracy(srv_list, srv)\n",
    "print(f\"Accuracy on requested {len(srv)} qubit SRV={srv}: \\n - with a model trained only on 3 to 8 qubits qcs: {acc:.2f} \\n - and with fine-tuning on 9 qubit qcs: {tuned_acc:.2f}\")  "
   ]
  },
  {
   "cell_type": "code",
   "execution_count": null,
   "id": "0ff55537-157f-4508-ad51-b2450b40e534",
   "metadata": {},
   "outputs": [],
   "source": []
  }
 ],
 "metadata": {
  "kernelspec": {
   "display_name": "python3",
   "language": "python",
   "name": "python3"
  },
  "widgets": {
   "application/vnd.jupyter.widget-state+json": {
    "state": {},
    "version_major": 2,
    "version_minor": 0
   }
  }
 },
 "nbformat": 4,
 "nbformat_minor": 5
}
