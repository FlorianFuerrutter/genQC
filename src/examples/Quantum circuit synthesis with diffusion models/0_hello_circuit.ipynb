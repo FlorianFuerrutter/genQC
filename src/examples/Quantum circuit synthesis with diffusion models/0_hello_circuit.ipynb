{
 "cells": [
  {
   "cell_type": "raw",
   "id": "a1eaa873-0e5d-4dd3-9e44-440a70df611f",
   "metadata": {},
   "source": [
    "---\n",
    "categories:\n",
    "  - Entanglement generation\n",
    "  - Quantum circuits\n",
    "  - Pretrained model\n",
    "---"
   ]
  },
  {
   "cell_type": "markdown",
   "id": "69a855f1-55dd-482e-94f2-9ad02804be4d",
   "metadata": {},
   "source": [
    "# Generate a circuit\n",
    "\n",
    "> A minimal example to generate a circuit. We load a pre-trained (SRV, 3 to 8 qubit) model and condition on a given Schmidt-Rank-Vector (SRV)."
   ]
  },
  {
   "cell_type": "code",
   "execution_count": null,
   "id": "3bde494e-9091-41a4-a601-bbcf9712c564",
   "metadata": {},
   "outputs": [],
   "source": [
    "from genQC.imports import *\n",
    "import genQC.utils.misc_utils as util\n",
    "\n",
    "from genQC.pipeline.diffusion_pipeline import DiffusionPipeline\n",
    "from genQC.platform.tokenizer.circuits_tokenizer import CircuitTokenizer\n",
    "from genQC.platform.simulation import Simulator, CircuitBackendType\n",
    "\n",
    "from genQC.inference.sampling import generate_tensors, decode_tensors_to_backend\n",
    "from genQC.inference.evaluation_helper import get_srvs"
   ]
  },
  {
   "cell_type": "code",
   "execution_count": null,
   "id": "029be4f3-0d9a-4d0a-93d9-2338fda7a983",
   "metadata": {},
   "outputs": [
    {
     "name": "stdout",
     "output_type": "stream",
     "text": [
      "[INFO]: Cuda device has a capability of 8.6 (>= 8), allowing tf32 matmul.\n"
     ]
    },
    {
     "data": {
      "text/plain": [
       "device(type='cuda')"
      ]
     },
     "execution_count": null,
     "metadata": {},
     "output_type": "execute_result"
    }
   ],
   "source": [
    "util.MemoryCleaner.purge_mem()      # clean existing memory alloc\n",
    "device = util.infer_torch_device()  # use cuda if we can\n",
    "device"
   ]
  },
  {
   "cell_type": "code",
   "execution_count": null,
   "id": "785dc2ca-1fe8-4f0d-94bc-964b8f1733ac",
   "metadata": {},
   "outputs": [],
   "source": [
    "# We set a seed to pytorch, numpy and python. \n",
    "# Note: This will also set deterministic algorithms, possibly at the cost of reduced performance!\n",
    "util.set_seed(0)"
   ]
  },
  {
   "cell_type": "markdown",
   "id": "f77a3020-247c-4ac0-aaf1-ee5c371b5f06",
   "metadata": {},
   "source": [
    "## Setup and load"
   ]
  },
  {
   "cell_type": "markdown",
   "id": "742ae430-46f2-4099-ac8f-f422a4ddc1dc",
   "metadata": {},
   "source": [
    "Load the pre-trained model directly from [Hugging Face: Floki00/qc_srv_3to8qubit](https://huggingface.co/Floki00/qc_srv_3to8qubit)."
   ]
  },
  {
   "cell_type": "code",
   "execution_count": null,
   "id": "e5d60c23-9514-4432-bc82-622c088fced6",
   "metadata": {},
   "outputs": [],
   "source": [
    "pipeline = DiffusionPipeline.from_pretrained(\"Floki00/qc_srv_3to8qubit\", device)"
   ]
  },
  {
   "cell_type": "markdown",
   "id": "104f977d-a6c5-4dbf-b272-b1a8fc6f013a",
   "metadata": {},
   "source": [
    "Check on what gates the model was trained"
   ]
  },
  {
   "cell_type": "code",
   "execution_count": null,
   "id": "62b067ac-d5a4-4424-b7da-571ae95067c6",
   "metadata": {},
   "outputs": [
    {
     "data": {
      "text/plain": [
       "['h', 'cx']"
      ]
     },
     "execution_count": null,
     "metadata": {},
     "output_type": "execute_result"
    }
   ],
   "source": [
    "pipeline.gate_pool"
   ]
  },
  {
   "cell_type": "markdown",
   "id": "431d3e29-f121-4c61-95bc-bfd7960a4870",
   "metadata": {},
   "source": [
    "Set 20 sample steps and use rescaled guidance-formula."
   ]
  },
  {
   "cell_type": "code",
   "execution_count": null,
   "id": "96702fba-5a10-44e6-bef9-634d9e41a1af",
   "metadata": {},
   "outputs": [],
   "source": [
    "pipeline.guidance_sample_mode = \"rescaled\"\n",
    "pipeline.scheduler.set_timesteps(20) "
   ]
  },
  {
   "cell_type": "markdown",
   "id": "65acff8f-8486-42c9-8e78-b44f31de568b",
   "metadata": {},
   "source": [
    "## Inference / sampling"
   ]
  },
  {
   "cell_type": "markdown",
   "id": "a09bd191-0374-45af-b923-f131c5d36af9",
   "metadata": {},
   "source": [
    "Set our desired condition SRV"
   ]
  },
  {
   "cell_type": "code",
   "execution_count": null,
   "id": "d1d4b69e-c14a-4dac-9cdf-2b65ecaee158",
   "metadata": {},
   "outputs": [
    {
     "data": {
      "text/plain": [
       "'Generate SRV: [2, 1, 2, 1, 2]'"
      ]
     },
     "execution_count": null,
     "metadata": {},
     "output_type": "execute_result"
    }
   ],
   "source": [
    "srv           = [2, 1, 2, 1, 2]  # set your target SRV; can be 3 to 8 qubit\n",
    "num_of_qubits = len(srv)          \n",
    "\n",
    "prompt = f\"Generate SRV: {srv}\"  # model was trained with this phrase\n",
    "prompt"
   ]
  },
  {
   "cell_type": "markdown",
   "id": "0184031c-627c-4b82-9607-e35a22f699f4",
   "metadata": {},
   "source": [
    "Define sample parameters"
   ]
  },
  {
   "cell_type": "code",
   "execution_count": null,
   "id": "721ba4f1-60f0-4f23-9306-bdf07f8fe659",
   "metadata": {},
   "outputs": [],
   "source": [
    "g         = 10      # guidance scale\n",
    "max_gates = 16      # how many time steps the tensor encoding has\n",
    "samples   = 64      # how many circuits to generate"
   ]
  },
  {
   "cell_type": "markdown",
   "id": "2842cc0c-770a-451c-ac44-e7265dbd87c2",
   "metadata": {},
   "source": [
    "Sample tokenized circuits"
   ]
  },
  {
   "cell_type": "code",
   "execution_count": null,
   "id": "51a84305-bcf1-43b5-a3b9-752a2defaf81",
   "metadata": {},
   "outputs": [
    {
     "data": {
      "application/vnd.jupyter.widget-view+json": {
       "model_id": "3728850a9cc2452db5d4236acf614a80",
       "version_major": 2,
       "version_minor": 0
      },
      "text/plain": [
       "  0%|          | 0/20 [00:00<?, ?it/s]"
      ]
     },
     "metadata": {},
     "output_type": "display_data"
    },
    {
     "name": "stdout",
     "output_type": "stream",
     "text": [
      "[INFO]: (generate_comp_tensors) Generated 64 tensors\n"
     ]
    }
   ],
   "source": [
    "out_tensor = generate_tensors(pipeline, prompt, samples, num_of_qubits, num_of_qubits, max_gates, g, no_bar=False)"
   ]
  },
  {
   "cell_type": "markdown",
   "id": "4d07a692-8c6f-4c31-8fd2-d8cd89edecf0",
   "metadata": {},
   "source": [
    "Check how many distinct tensors we got:"
   ]
  },
  {
   "cell_type": "code",
   "execution_count": null,
   "id": "72c575b4-ebc5-46b7-b588-55f3340df04d",
   "metadata": {},
   "outputs": [
    {
     "data": {
      "text/plain": [
       "64"
      ]
     },
     "execution_count": null,
     "metadata": {},
     "output_type": "execute_result"
    }
   ],
   "source": [
    "out_tensor.unique(dim=0).shape[0]"
   ]
  },
  {
   "cell_type": "markdown",
   "id": "14e5728b-22d5-480f-bde8-5add698611b4",
   "metadata": {},
   "source": [
    "Let's look what is generated. Note, 3 is the padding token (or empty action)."
   ]
  },
  {
   "cell_type": "code",
   "execution_count": null,
   "id": "9116f267-9f6b-4f80-a0f6-ef38fb694a28",
   "metadata": {},
   "outputs": [
    {
     "data": {
      "text/plain": [
       "tensor([[[ 1,  0,  2, -2,  2,  3,  3,  3,  3,  3,  3,  3,  3,  3,  3,  3],\n",
       "         [ 0,  0,  0,  0,  0,  3,  3,  3,  3,  3,  3,  3,  3,  3,  3,  3],\n",
       "         [ 0,  1, -2,  0, -2,  3,  3,  3,  3,  3,  3,  3,  3,  3,  3,  3],\n",
       "         [ 0,  0,  0,  0,  0,  3,  3,  3,  3,  3,  3,  3,  3,  3,  3,  3],\n",
       "         [ 0,  0,  0,  2,  0,  3,  3,  3,  3,  3,  3,  3,  3,  3,  3,  3]],\n",
       "\n",
       "        [[ 0,  0,  0,  2,  1, -2,  1,  3,  3,  3,  3,  3,  3,  3,  3,  3],\n",
       "         [ 0,  0,  0,  0,  0,  0,  0,  3,  3,  3,  3,  3,  3,  3,  3,  3],\n",
       "         [ 2,  1, -2, -2,  0,  2,  0,  3,  3,  3,  3,  3,  3,  3,  3,  3],\n",
       "         [ 0,  0,  0,  0,  0,  0,  0,  3,  3,  3,  3,  3,  3,  3,  3,  3],\n",
       "         [-2,  0,  2,  0,  0,  0,  0,  3,  3,  3,  3,  3,  3,  3,  3,  3]]], device='cuda:0')"
      ]
     },
     "execution_count": null,
     "metadata": {},
     "output_type": "execute_result"
    }
   ],
   "source": [
    "out_tensor[:2]"
   ]
  },
  {
   "cell_type": "markdown",
   "id": "d4a3c5f4-3333-49a0-a965-2c392dcc2002",
   "metadata": {},
   "source": [
    "## Convert to qiskit circuit "
   ]
  },
  {
   "cell_type": "markdown",
   "id": "2f71bbfa-8fd0-4a0c-ba9c-1a4f09da527d",
   "metadata": {},
   "source": [
    "To get a qiskit circuit we need to do: \n",
    "\n",
    "- apply cosine similarity to go from embeddings to token matrices (the function `generate_tensors` did this already)\n",
    "- parse token matrix to qiskit and filter out error circuits\n",
    "- calculate SRV and plot circuits"
   ]
  },
  {
   "cell_type": "code",
   "execution_count": null,
   "id": "177968da-cbc2-455e-bd5d-d0357016c5cd",
   "metadata": {},
   "outputs": [],
   "source": [
    "vocabulary = {g:i+1 for i, g in enumerate(pipeline.gate_pool)} \n",
    "tokenizer  = CircuitTokenizer(vocabulary)\n",
    "simulator  = Simulator(CircuitBackendType.QISKIT)"
   ]
  },
  {
   "cell_type": "code",
   "execution_count": null,
   "id": "420e3dea-8ccd-46eb-a21c-84137345566b",
   "metadata": {},
   "outputs": [
    {
     "data": {
      "text/plain": [
       "qiskit.circuit.quantumcircuit.QuantumCircuit"
      ]
     },
     "execution_count": null,
     "metadata": {},
     "output_type": "execute_result"
    }
   ],
   "source": [
    "qc_list, error_cnt = decode_tensors_to_backend(simulator, tokenizer, out_tensor)\n",
    "qc_list[0].__class__"
   ]
  },
  {
   "cell_type": "markdown",
   "id": "b033c5a9-d77a-467e-8474-537ace2d9b4b",
   "metadata": {},
   "source": [
    "Generated error circuits (token matrices that don't correspond to circuits):"
   ]
  },
  {
   "cell_type": "code",
   "execution_count": null,
   "id": "6f9dd437-cac3-4fa7-bdfe-0046c6a727e2",
   "metadata": {},
   "outputs": [
    {
     "data": {
      "text/plain": [
       "0"
      ]
     },
     "execution_count": null,
     "metadata": {},
     "output_type": "execute_result"
    }
   ],
   "source": [
    "error_cnt"
   ]
  },
  {
   "cell_type": "markdown",
   "id": "8a93fdc6-9e12-4e07-b25a-ca3f21a5cda4",
   "metadata": {},
   "source": [
    "What SRVs did we get:"
   ]
  },
  {
   "cell_type": "code",
   "execution_count": null,
   "id": "79d9c737-6773-47af-8d3a-7e1ec9ec704b",
   "metadata": {},
   "outputs": [
    {
     "data": {
      "text/plain": [
       "[[2, 1, 2, 1, 2], [2, 1, 2, 1, 2], [2, 1, 2, 1, 2], [2, 1, 2, 1, 2]]"
      ]
     },
     "execution_count": null,
     "metadata": {},
     "output_type": "execute_result"
    }
   ],
   "source": [
    "srv_list = get_srvs(simulator, qc_list)\n",
    "srv_list[:4]"
   ]
  },
  {
   "cell_type": "markdown",
   "id": "995435c3-ec71-4b2d-84cc-8aa1ededd546",
   "metadata": {},
   "source": [
    "That is an accuracy of:"
   ]
  },
  {
   "cell_type": "code",
   "execution_count": null,
   "id": "f15f0507-e9c9-4176-8acf-27c2e063694f",
   "metadata": {},
   "outputs": [
    {
     "data": {
      "text/plain": [
       "0.96875"
      ]
     },
     "execution_count": null,
     "metadata": {},
     "output_type": "execute_result"
    }
   ],
   "source": [
    "sum(srv==x for x in srv_list)/len(srv_list)"
   ]
  },
  {
   "cell_type": "markdown",
   "id": "782ffa59-6386-49d1-9014-2bf093674e43",
   "metadata": {},
   "source": [
    "Finally plot some of the circuits:"
   ]
  },
  {
   "cell_type": "code",
   "execution_count": null,
   "id": "fc0308c1-1a0b-4be1-90b1-2811a13caee4",
   "metadata": {},
   "outputs": [
    {
     "data": {
      "image/png": "[encoded data removed]",
      "text/plain": [
       "<Figure size 1800x500 with 8 Axes>"
      ]
     },
     "metadata": {},
     "output_type": "display_data"
    }
   ],
   "source": [
    "fig, axs = plt.subplots(2, 4, figsize=(18,5), constrained_layout=True)\n",
    "for qc,is_srv,ax in zip(qc_list, srv_list, axs.flatten()): \n",
    "    is_srv = [int(x) for x in is_srv]\n",
    "    qc.draw(\"mpl\", plot_barriers=False, ax=ax, style = \"clifford\")\n",
    "    ax.set_title(f\"{'Correct' if is_srv==srv else 'NOT correct'}, is SRV = {is_srv}\")\n",
    "plt.show()"
   ]
  },
  {
   "cell_type": "code",
   "execution_count": null,
   "id": "0244290d-5c57-4b70-b670-a839876a9ccf",
   "metadata": {},
   "outputs": [],
   "source": []
  },
  {
   "cell_type": "code",
   "execution_count": null,
   "id": "52132fa0-9208-442d-a31d-af65bcfba714",
   "metadata": {},
   "outputs": [
    {
     "name": "stdout",
     "output_type": "stream",
     "text": [
      "genQC Version 0.2.0\n"
     ]
    }
   ],
   "source": [
    "import genQC\n",
    "print(\"genQC Version\", genQC.__version__)"
   ]
  },
  {
   "cell_type": "code",
   "execution_count": null,
   "id": "d6aed55c-e9ec-4c5e-a691-37695556bde4",
   "metadata": {},
   "outputs": [],
   "source": []
  }
 ],
 "metadata": {
  "kernelspec": {
   "display_name": "python3",
   "language": "python",
   "name": "python3"
  },
  "widgets": {
   "application/vnd.jupyter.widget-state+json": {
    "state": {
     "01fd2d6f0f8049c09946379c771a467c": {
      "model_module": "@jupyter-widgets/base",
      "model_module_version": "2.0.0",
      "model_name": "LayoutModel",
      "state": {}
     },
     "0f3daaab2a3a4d229f890bd491a05e82": {
      "model_module": "@jupyter-widgets/controls",
      "model_module_version": "2.0.0",
      "model_name": "FloatProgressModel",
      "state": {
       "bar_style": "success",
       "layout": "IPY_MODEL_5ead7394a77a46c89a0dc48418f4e39e",
       "max": 2,
       "style": "IPY_MODEL_eff7700fa64041f3abb2862855b60290",
       "value": 2
      }
     },
     "2786583fbd6a457cb54fe2c9fb700ad0": {
      "model_module": "@jupyter-widgets/base",
      "model_module_version": "2.0.0",
      "model_name": "LayoutModel",
      "state": {}
     },
     "3728850a9cc2452db5d4236acf614a80": {
      "model_module": "@jupyter-widgets/controls",
      "model_module_version": "2.0.0",
      "model_name": "HBoxModel",
      "state": {
       "children": [
        "IPY_MODEL_ef23d7660a5e417db0d9eeba1031e9ad",
        "IPY_MODEL_aedc7c86f4ee4d98a9e56c0688ecde25",
        "IPY_MODEL_7a6f3a282b084773908db5ee1ba437cc"
       ],
       "layout": "IPY_MODEL_2786583fbd6a457cb54fe2c9fb700ad0"
      }
     },
     "5b1ceaae9fc44634ac4b685d7bd73a0a": {
      "model_module": "@jupyter-widgets/controls",
      "model_module_version": "2.0.0",
      "model_name": "ProgressStyleModel",
      "state": {
       "description_width": ""
      }
     },
     "5ead7394a77a46c89a0dc48418f4e39e": {
      "model_module": "@jupyter-widgets/base",
      "model_module_version": "2.0.0",
      "model_name": "LayoutModel",
      "state": {}
     },
     "5f2c514cac1c47eca2ab21e293678346": {
      "model_module": "@jupyter-widgets/base",
      "model_module_version": "2.0.0",
      "model_name": "LayoutModel",
      "state": {}
     },
     "785851c8014c4432af6e1fbd0d6aa0f5": {
      "model_module": "@jupyter-widgets/controls",
      "model_module_version": "2.0.0",
      "model_name": "HTMLStyleModel",
      "state": {
       "description_width": "",
       "font_size": null,
       "text_color": null
      }
     },
     "7a6f3a282b084773908db5ee1ba437cc": {
      "model_module": "@jupyter-widgets/controls",
      "model_module_version": "2.0.0",
      "model_name": "HTMLModel",
      "state": {
       "layout": "IPY_MODEL_b9786c3808464a3f8b1c03d6bea7a50e",
       "style": "IPY_MODEL_785851c8014c4432af6e1fbd0d6aa0f5",
       "value": " 20/20 [00:00&lt;00:00, 55.44it/s]"
      }
     },
     "86be99d6a44d4001be89fc20c52ad5c3": {
      "model_module": "@jupyter-widgets/base",
      "model_module_version": "2.0.0",
      "model_name": "LayoutModel",
      "state": {}
     },
     "9c0135bb50e44bb5b81cbe7f3d4b9cdf": {
      "model_module": "@jupyter-widgets/controls",
      "model_module_version": "2.0.0",
      "model_name": "HTMLModel",
      "state": {
       "layout": "IPY_MODEL_cf8d8da83cdf4941b075544e68cf8dd0",
       "style": "IPY_MODEL_c2f8914870514273ada4c3f0c9f4f9b9",
       "value": "Fetching 2 files: 100%"
      }
     },
     "a1ff221e8278428d9d3bbe4bc9ac86f8": {
      "model_module": "@jupyter-widgets/controls",
      "model_module_version": "2.0.0",
      "model_name": "HBoxModel",
      "state": {
       "children": [
        "IPY_MODEL_9c0135bb50e44bb5b81cbe7f3d4b9cdf",
        "IPY_MODEL_0f3daaab2a3a4d229f890bd491a05e82",
        "IPY_MODEL_a4091280768a4ee29d4ba6c0ec4f0e9e"
       ],
       "layout": "IPY_MODEL_a478f88390034ed6b78b289f74a466c2"
      }
     },
     "a4091280768a4ee29d4ba6c0ec4f0e9e": {
      "model_module": "@jupyter-widgets/controls",
      "model_module_version": "2.0.0",
      "model_name": "HTMLModel",
      "state": {
       "layout": "IPY_MODEL_5f2c514cac1c47eca2ab21e293678346",
       "style": "IPY_MODEL_b2cb6f61f8cb449e946c418c2a71dd82",
       "value": " 2/2 [00:00&lt;00:00, 400.09it/s]"
      }
     },
     "a478f88390034ed6b78b289f74a466c2": {
      "model_module": "@jupyter-widgets/base",
      "model_module_version": "2.0.0",
      "model_name": "LayoutModel",
      "state": {}
     },
     "aedc7c86f4ee4d98a9e56c0688ecde25": {
      "model_module": "@jupyter-widgets/controls",
      "model_module_version": "2.0.0",
      "model_name": "FloatProgressModel",
      "state": {
       "bar_style": "success",
       "layout": "IPY_MODEL_86be99d6a44d4001be89fc20c52ad5c3",
       "max": 20,
       "style": "IPY_MODEL_5b1ceaae9fc44634ac4b685d7bd73a0a",
       "value": 20
      }
     },
     "b2cb6f61f8cb449e946c418c2a71dd82": {
      "model_module": "@jupyter-widgets/controls",
      "model_module_version": "2.0.0",
      "model_name": "HTMLStyleModel",
      "state": {
       "description_width": "",
       "font_size": null,
       "text_color": null
      }
     },
     "b9786c3808464a3f8b1c03d6bea7a50e": {
      "model_module": "@jupyter-widgets/base",
      "model_module_version": "2.0.0",
      "model_name": "LayoutModel",
      "state": {}
     },
     "c2f8914870514273ada4c3f0c9f4f9b9": {
      "model_module": "@jupyter-widgets/controls",
      "model_module_version": "2.0.0",
      "model_name": "HTMLStyleModel",
      "state": {
       "description_width": "",
       "font_size": null,
       "text_color": null
      }
     },
     "cf8d8da83cdf4941b075544e68cf8dd0": {
      "model_module": "@jupyter-widgets/base",
      "model_module_version": "2.0.0",
      "model_name": "LayoutModel",
      "state": {}
     },
     "ef23d7660a5e417db0d9eeba1031e9ad": {
      "model_module": "@jupyter-widgets/controls",
      "model_module_version": "2.0.0",
      "model_name": "HTMLModel",
      "state": {
       "layout": "IPY_MODEL_01fd2d6f0f8049c09946379c771a467c",
       "style": "IPY_MODEL_ff8e452e252b4f26922e88b85ba10ddf",
       "value": "100%"
      }
     },
     "eff7700fa64041f3abb2862855b60290": {
      "model_module": "@jupyter-widgets/controls",
      "model_module_version": "2.0.0",
      "model_name": "ProgressStyleModel",
      "state": {
       "description_width": ""
      }
     },
     "ff8e452e252b4f26922e88b85ba10ddf": {
      "model_module": "@jupyter-widgets/controls",
      "model_module_version": "2.0.0",
      "model_name": "HTMLStyleModel",
      "state": {
       "description_width": "",
       "font_size": null,
       "text_color": null
      }
     }
    },
    "version_major": 2,
    "version_minor": 0
   }
  }
 },
 "nbformat": 4,
 "nbformat_minor": 5
}
