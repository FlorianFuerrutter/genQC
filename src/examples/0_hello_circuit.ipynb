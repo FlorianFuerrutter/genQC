{
 "cells": [
  {
   "cell_type": "markdown",
   "id": "69a855f1-55dd-482e-94f2-9ad02804be4d",
   "metadata": {},
   "source": [
    "# Generate a circuit"
   ]
  },
  {
   "cell_type": "markdown",
   "id": "e41e2465-49d8-46b8-b046-6ae1becfb268",
   "metadata": {},
   "source": [
    "A minimal example to generate a circuit. We load a pre-trained (SRV, 3 to 8 qubit) model and condition on a given Schmidt-Rank-Vector (SRV)."
   ]
  },
  {
   "cell_type": "code",
   "execution_count": null,
   "id": "3bde494e-9091-41a4-a601-bbcf9712c564",
   "metadata": {},
   "outputs": [],
   "source": [
    "from genQC.imports import *\n",
    "from genQC.pipeline.diffusion_pipeline import DiffusionPipeline\n",
    "import genQC.inference.infer_srv as infer_srv\n",
    "import genQC.util as util"
   ]
  },
  {
   "cell_type": "code",
   "execution_count": null,
   "id": "029be4f3-0d9a-4d0a-93d9-2338fda7a983",
   "metadata": {},
   "outputs": [
    {
     "name": "stdout",
     "output_type": "stream",
     "text": [
      "[INFO]: Cuda device has a capability of 8.6 (>= 8), allowing tf32 matmul.\n"
     ]
    }
   ],
   "source": [
    "device = util.infer_torch_device()  # use cuda if we can\n",
    "util.MemoryCleaner.purge_mem()      # clean existing memory alloc"
   ]
  },
  {
   "cell_type": "code",
   "execution_count": null,
   "id": "4f36be1a-a5c6-4484-a096-4a37c9772e84",
   "metadata": {},
   "outputs": [
    {
     "data": {
      "text/plain": [
       "device(type='cuda')"
      ]
     },
     "execution_count": null,
     "metadata": {},
     "output_type": "execute_result"
    }
   ],
   "source": [
    "device"
   ]
  },
  {
   "cell_type": "markdown",
   "id": "f77a3020-247c-4ac0-aaf1-ee5c371b5f06",
   "metadata": {},
   "source": [
    "## Setup and load"
   ]
  },
  {
   "cell_type": "markdown",
   "id": "742ae430-46f2-4099-ac8f-f422a4ddc1dc",
   "metadata": {},
   "source": [
    "Load the pre-trained model"
   ]
  },
  {
   "cell_type": "code",
   "execution_count": null,
   "id": "e5d60c23-9514-4432-bc82-622c088fced6",
   "metadata": {},
   "outputs": [
    {
     "name": "stdout",
     "output_type": "stream",
     "text": [
      "[INFO]: `genQC.models.unet_qc.QC_Cond_UNet` instantiated from given config on cuda.\n",
      "[INFO]: `genQC.models.frozen_open_clip.CachedFrozenOpenCLIPEmbedder` instantiated from given config on cuda.\n",
      "[INFO]: `genQC.models.frozen_open_clip.CachedFrozenOpenCLIPEmbedder`. No save_path` provided. No state dict loaded.\n"
     ]
    }
   ],
   "source": [
    "model_path = \"../../saves/qc_unet_config_SRV_3to8_qubit/\"\n",
    "pipeline   = DiffusionPipeline.from_config_file(model_path, device)  "
   ]
  },
  {
   "cell_type": "markdown",
   "id": "104f977d-a6c5-4dbf-b272-b1a8fc6f013a",
   "metadata": {},
   "source": [
    "Check on what gates the model was trained"
   ]
  },
  {
   "cell_type": "code",
   "execution_count": null,
   "id": "62b067ac-d5a4-4424-b7da-571ae95067c6",
   "metadata": {},
   "outputs": [
    {
     "data": {
      "text/plain": [
       "[qiskit.circuit.library.standard_gates.h.HGate,\n",
       " qiskit.circuit.library.standard_gates.x.CXGate]"
      ]
     },
     "execution_count": null,
     "metadata": {},
     "output_type": "execute_result"
    }
   ],
   "source": [
    "pipeline.gate_pool"
   ]
  },
  {
   "cell_type": "markdown",
   "id": "431d3e29-f121-4c61-95bc-bfd7960a4870",
   "metadata": {},
   "source": [
    "Set 20 sample steps and use rescaled guidance-formula."
   ]
  },
  {
   "cell_type": "code",
   "execution_count": null,
   "id": "96702fba-5a10-44e6-bef9-634d9e41a1af",
   "metadata": {},
   "outputs": [],
   "source": [
    "pipeline.guidance_sample_mode = \"rescaled\"\n",
    "pipeline.scheduler.set_timesteps(20) "
   ]
  },
  {
   "cell_type": "markdown",
   "id": "65acff8f-8486-42c9-8e78-b44f31de568b",
   "metadata": {},
   "source": [
    "## Inference / sampling"
   ]
  },
  {
   "cell_type": "markdown",
   "id": "a09bd191-0374-45af-b923-f131c5d36af9",
   "metadata": {},
   "source": [
    "Set our desired condition SRV"
   ]
  },
  {
   "cell_type": "code",
   "execution_count": null,
   "id": "d1d4b69e-c14a-4dac-9cdf-2b65ecaee158",
   "metadata": {},
   "outputs": [
    {
     "data": {
      "text/plain": [
       "'Generate SRV: [2, 1, 2, 1, 2]'"
      ]
     },
     "execution_count": null,
     "metadata": {},
     "output_type": "execute_result"
    }
   ],
   "source": [
    "srv           = [2, 1, 2, 1, 2]  # set your target SRV; can be 3 to 8 qubit\n",
    "num_of_qubits = len(srv)          \n",
    "\n",
    "prompt = f\"Generate SRV: {srv}\"  # model was trained with this phrase\n",
    "prompt"
   ]
  },
  {
   "cell_type": "markdown",
   "id": "0184031c-627c-4b82-9607-e35a22f699f4",
   "metadata": {},
   "source": [
    "Define sample parameters"
   ]
  },
  {
   "cell_type": "code",
   "execution_count": null,
   "id": "721ba4f1-60f0-4f23-9306-bdf07f8fe659",
   "metadata": {},
   "outputs": [],
   "source": [
    "g         = 7.5     # guidance scale\n",
    "max_gates = 16      # how many time steps the tensor encoding has\n",
    "samples   = 32      # how many circuits to generate"
   ]
  },
  {
   "cell_type": "markdown",
   "id": "2842cc0c-770a-451c-ac44-e7265dbd87c2",
   "metadata": {},
   "source": [
    "Sample tokenized circuits"
   ]
  },
  {
   "cell_type": "code",
   "execution_count": null,
   "id": "f72a4c09-3af9-4221-a987-2dc7fa8b2b33",
   "metadata": {},
   "outputs": [
    {
     "data": {
      "application/vnd.jupyter.widget-view+json": {
       "model_id": "06bcdc1ec6a24fe7917aac0f3ea80399",
       "version_major": 2,
       "version_minor": 0
      },
      "text/plain": [
       "  0%|          | 0/20 [00:00<?, ?it/s]"
      ]
     },
     "metadata": {},
     "output_type": "display_data"
    },
    {
     "name": "stdout",
     "output_type": "stream",
     "text": [
      "[INFO]: (generate_srv_tensors) Generated 32 tensors\n"
     ]
    }
   ],
   "source": [
    "out_tensor = infer_srv.generate_srv_tensors(pipeline, prompt, samples, num_of_qubits, num_of_qubits, max_gates, g, no_bar=False) "
   ]
  },
  {
   "cell_type": "markdown",
   "id": "4d07a692-8c6f-4c31-8fd2-d8cd89edecf0",
   "metadata": {},
   "source": [
    "Check how many distinct tensors we got:"
   ]
  },
  {
   "cell_type": "code",
   "execution_count": null,
   "id": "72c575b4-ebc5-46b7-b588-55f3340df04d",
   "metadata": {},
   "outputs": [
    {
     "data": {
      "text/plain": [
       "32"
      ]
     },
     "execution_count": null,
     "metadata": {},
     "output_type": "execute_result"
    }
   ],
   "source": [
    "out_tensor.unique(dim=0).shape[0]"
   ]
  },
  {
   "cell_type": "markdown",
   "id": "14e5728b-22d5-480f-bde8-5add698611b4",
   "metadata": {},
   "source": [
    "Let's look what is generated. Note, 3 is the padding token (or empty action)."
   ]
  },
  {
   "cell_type": "code",
   "execution_count": null,
   "id": "9116f267-9f6b-4f80-a0f6-ef38fb694a28",
   "metadata": {},
   "outputs": [
    {
     "data": {
      "text/plain": [
       "tensor([[[ 0,  2,  1,  2, -2,  0,  2,  0,  0,  2,  3,  3,  3,  3,  3,  3],\n",
       "         [-2,  0,  0,  0,  0,  0,  0,  0,  0,  0,  3,  3,  3,  3,  3,  3],\n",
       "         [ 2, -2,  0, -2,  2,  1,  0,  0,  0,  0,  3,  3,  3,  3,  3,  3],\n",
       "         [ 0,  0,  0,  0,  0,  0, -2,  1,  0,  0,  3,  3,  3,  3,  3,  3],\n",
       "         [ 0,  0,  0,  0,  0,  0,  0,  0,  1, -2,  3,  3,  3,  3,  3,  3]],\n",
       "\n",
       "        [[ 1, -2,  0,  0,  0,  3,  3,  3,  3,  3,  3,  3,  3,  3,  3,  3],\n",
       "         [ 0,  0,  0,  0,  0,  3,  3,  3,  3,  3,  3,  3,  3,  3,  3,  3],\n",
       "         [ 0,  2,  0, -2,  1,  3,  3,  3,  3,  3,  3,  3,  3,  3,  3,  3],\n",
       "         [ 0,  0, -2,  0,  0,  3,  3,  3,  3,  3,  3,  3,  3,  3,  3,  3],\n",
       "         [ 0,  0,  2,  2,  0,  3,  3,  3,  3,  3,  3,  3,  3,  3,  3,  3]]])"
      ]
     },
     "execution_count": null,
     "metadata": {},
     "output_type": "execute_result"
    }
   ],
   "source": [
    "out_tensor[:2]"
   ]
  },
  {
   "cell_type": "markdown",
   "id": "d4a3c5f4-3333-49a0-a965-2c392dcc2002",
   "metadata": {},
   "source": [
    "## Convert to quiskit circuit "
   ]
  },
  {
   "cell_type": "markdown",
   "id": "2f71bbfa-8fd0-4a0c-ba9c-1a4f09da527d",
   "metadata": {},
   "source": [
    "To get a quiskit circuit we need to do: \n",
    "\n",
    "- apply cos. sim. to go from embeddings to token matrices (the function `infer_srv.generate_srv_tensors` did this already)\n",
    "- parse token matrix to quiskit and filter out error circuits\n",
    "- calculate SRV and plot circuits"
   ]
  },
  {
   "cell_type": "code",
   "execution_count": null,
   "id": "79d9c737-6773-47af-8d3a-7e1ec9ec704b",
   "metadata": {},
   "outputs": [],
   "source": [
    "qc_list, error_cnt, svr_list = infer_srv.convert_tensors_to_srvs(out_tensor, pipeline.gate_pool)"
   ]
  },
  {
   "cell_type": "markdown",
   "id": "b033c5a9-d77a-467e-8474-537ace2d9b4b",
   "metadata": {},
   "source": [
    "Generated error circuits:"
   ]
  },
  {
   "cell_type": "code",
   "execution_count": null,
   "id": "6f9dd437-cac3-4fa7-bdfe-0046c6a727e2",
   "metadata": {},
   "outputs": [
    {
     "data": {
      "text/plain": [
       "0"
      ]
     },
     "execution_count": null,
     "metadata": {},
     "output_type": "execute_result"
    }
   ],
   "source": [
    "error_cnt"
   ]
  },
  {
   "cell_type": "markdown",
   "id": "8a93fdc6-9e12-4e07-b25a-ca3f21a5cda4",
   "metadata": {},
   "source": [
    "What SRVs did we get:"
   ]
  },
  {
   "cell_type": "code",
   "execution_count": null,
   "id": "363350c2-9b04-4231-a898-d82dff6382ae",
   "metadata": {},
   "outputs": [
    {
     "data": {
      "text/plain": [
       "[[2, 1, 2, 1, 2], [2, 1, 2, 1, 2], [2, 1, 2, 1, 2], [2, 1, 2, 1, 2]]"
      ]
     },
     "execution_count": null,
     "metadata": {},
     "output_type": "execute_result"
    }
   ],
   "source": [
    "svr_list[:4]"
   ]
  },
  {
   "cell_type": "markdown",
   "id": "995435c3-ec71-4b2d-84cc-8aa1ededd546",
   "metadata": {},
   "source": [
    "That is an accuracy of:"
   ]
  },
  {
   "cell_type": "code",
   "execution_count": null,
   "id": "f15f0507-e9c9-4176-8acf-27c2e063694f",
   "metadata": {},
   "outputs": [
    {
     "data": {
      "text/plain": [
       "0.9375"
      ]
     },
     "execution_count": null,
     "metadata": {},
     "output_type": "execute_result"
    }
   ],
   "source": [
    "sum(srv==x for x in svr_list)/len(svr_list)"
   ]
  },
  {
   "cell_type": "markdown",
   "id": "782ffa59-6386-49d1-9014-2bf093674e43",
   "metadata": {},
   "source": [
    "Finally plot some of the circuits:"
   ]
  },
  {
   "cell_type": "code",
   "execution_count": null,
   "id": "fc0308c1-1a0b-4be1-90b1-2811a13caee4",
   "metadata": {},
   "outputs": [
    {
     "data": {
      "image/png": "[encoded data removed]",
      "text/plain": [
       "<Figure size 1800x500 with 8 Axes>"
      ]
     },
     "metadata": {},
     "output_type": "display_data"
    }
   ],
   "source": [
    "fig, axs = plt.subplots(2, 4, figsize=(18,5), constrained_layout=True)\n",
    "for qc,is_svr,ax in zip(qc_list, svr_list, axs.flatten()): \n",
    "    qc.draw(\"mpl\", plot_barriers=False, ax=ax)\n",
    "    ax.set_title(f\"{'Correct' if is_svr==srv else 'NOT correct'}, is SRV = {is_svr}\")\n",
    "plt.show()"
   ]
  },
  {
   "cell_type": "code",
   "execution_count": null,
   "id": "f1c82de5-3645-403b-a54e-5185860b0f7c",
   "metadata": {},
   "outputs": [],
   "source": []
  },
  {
   "cell_type": "code",
   "execution_count": null,
   "id": "1cf638ca-0513-4d82-8fa3-cac6deaaeb8f",
   "metadata": {},
   "outputs": [],
   "source": []
  }
 ],
 "metadata": {
  "kernelspec": {
   "display_name": "python3",
   "language": "python",
   "name": "python3"
  },
  "widgets": {
   "application/vnd.jupyter.widget-state+json": {
    "state": {},
    "version_major": 2,
    "version_minor": 0
   }
  }
 },
 "nbformat": 4,
 "nbformat_minor": 5
}
