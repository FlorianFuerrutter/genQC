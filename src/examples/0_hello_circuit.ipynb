{
 "cells": [
  {
   "cell_type": "markdown",
   "id": "69a855f1-55dd-482e-94f2-9ad02804be4d",
   "metadata": {},
   "source": [
    "# Generate a circuit"
   ]
  },
  {
   "cell_type": "markdown",
   "id": "e41e2465-49d8-46b8-b046-6ae1becfb268",
   "metadata": {},
   "source": [
    "A minimal example to generate a circuit. We load a pre-trained (SRV, 3 to 8 qubit) model and condition on a given Schmidt-Rank-Vector (SRV)."
   ]
  },
  {
   "cell_type": "code",
   "execution_count": null,
   "id": "3bde494e-9091-41a4-a601-bbcf9712c564",
   "metadata": {},
   "outputs": [],
   "source": [
    "from genQC.imports import *\n",
    "from genQC.pipeline.diffusion_pipeline import DiffusionPipeline\n",
    "import genQC.inference.infer_srv as infer_srv\n",
    "import genQC.util as util"
   ]
  },
  {
   "cell_type": "code",
   "execution_count": null,
   "id": "029be4f3-0d9a-4d0a-93d9-2338fda7a983",
   "metadata": {},
   "outputs": [
    {
     "name": "stdout",
     "output_type": "stream",
     "text": [
      "[INFO]: Cuda device has a capability of 8.6 (>= 8), allowing tf32 matmul.\n"
     ]
    }
   ],
   "source": [
    "device = util.infer_torch_device()  # use cuda if we can\n",
    "util.MemoryCleaner.purge_mem()      # clean existing memory alloc"
   ]
  },
  {
   "cell_type": "code",
   "execution_count": null,
   "id": "4f36be1a-a5c6-4484-a096-4a37c9772e84",
   "metadata": {},
   "outputs": [
    {
     "data": {
      "text/plain": [
       "device(type='cuda')"
      ]
     },
     "execution_count": null,
     "metadata": {},
     "output_type": "execute_result"
    }
   ],
   "source": [
    "device"
   ]
  },
  {
   "cell_type": "markdown",
   "id": "f77a3020-247c-4ac0-aaf1-ee5c371b5f06",
   "metadata": {},
   "source": [
    "## Setup and load"
   ]
  },
  {
   "cell_type": "markdown",
   "id": "742ae430-46f2-4099-ac8f-f422a4ddc1dc",
   "metadata": {},
   "source": [
    "Load the pre-trained model"
   ]
  },
  {
   "cell_type": "code",
   "execution_count": null,
   "id": "e5d60c23-9514-4432-bc82-622c088fced6",
   "metadata": {},
   "outputs": [
    {
     "name": "stdout",
     "output_type": "stream",
     "text": [
      "[INFO]: `genQC.models.unet_qc.QC_Cond_UNet` instantiated from given config on cuda.\n",
      "[INFO]: `genQC.models.frozen_open_clip.CachedFrozenOpenCLIPEmbedder` instantiated from given config on cuda.\n",
      "[INFO]: `genQC.models.frozen_open_clip.CachedFrozenOpenCLIPEmbedder`. No save_path` provided. No state dict loaded.\n"
     ]
    }
   ],
   "source": [
    "model_path = \"../../saves/qc_unet_config_SRV_3to8_qubit/\"\n",
    "pipeline   = DiffusionPipeline.from_config_file(model_path, device)  "
   ]
  },
  {
   "cell_type": "markdown",
   "id": "104f977d-a6c5-4dbf-b272-b1a8fc6f013a",
   "metadata": {},
   "source": [
    "Check on what gates the model was trained"
   ]
  },
  {
   "cell_type": "code",
   "execution_count": null,
   "id": "62b067ac-d5a4-4424-b7da-571ae95067c6",
   "metadata": {},
   "outputs": [
    {
     "data": {
      "text/plain": [
       "[qiskit.circuit.library.standard_gates.h.HGate,\n",
       " qiskit.circuit.library.standard_gates.x.CXGate]"
      ]
     },
     "execution_count": null,
     "metadata": {},
     "output_type": "execute_result"
    }
   ],
   "source": [
    "pipeline.gate_pool"
   ]
  },
  {
   "cell_type": "markdown",
   "id": "431d3e29-f121-4c61-95bc-bfd7960a4870",
   "metadata": {},
   "source": [
    "Set 20 sample steps and use rescaled guidance-formula."
   ]
  },
  {
   "cell_type": "code",
   "execution_count": null,
   "id": "96702fba-5a10-44e6-bef9-634d9e41a1af",
   "metadata": {},
   "outputs": [],
   "source": [
    "pipeline.guidance_sample_mode = \"rescaled\"\n",
    "pipeline.scheduler.set_timesteps(20) "
   ]
  },
  {
   "cell_type": "markdown",
   "id": "65acff8f-8486-42c9-8e78-b44f31de568b",
   "metadata": {},
   "source": [
    "## Inference / sampling"
   ]
  },
  {
   "cell_type": "markdown",
   "id": "a09bd191-0374-45af-b923-f131c5d36af9",
   "metadata": {},
   "source": [
    "Set our desired condition SRV"
   ]
  },
  {
   "cell_type": "code",
   "execution_count": null,
   "id": "d1d4b69e-c14a-4dac-9cdf-2b65ecaee158",
   "metadata": {},
   "outputs": [
    {
     "data": {
      "text/plain": [
       "'Generate SRV: [2, 1, 2, 1, 2]'"
      ]
     },
     "execution_count": null,
     "metadata": {},
     "output_type": "execute_result"
    }
   ],
   "source": [
    "srv           = [2, 1, 2, 1, 2]  # set your target SRV; can be 3 to 8 qubit\n",
    "num_of_qubits = len(srv)          \n",
    "\n",
    "prompt = f\"Generate SRV: {srv}\"  # model was trained with this phrase\n",
    "prompt"
   ]
  },
  {
   "cell_type": "markdown",
   "id": "0184031c-627c-4b82-9607-e35a22f699f4",
   "metadata": {},
   "source": [
    "Define sample parameters"
   ]
  },
  {
   "cell_type": "code",
   "execution_count": null,
   "id": "721ba4f1-60f0-4f23-9306-bdf07f8fe659",
   "metadata": {},
   "outputs": [],
   "source": [
    "g         = 7.5     # guidance scale\n",
    "max_gates = 16      # how many time steps the tensor encoding has\n",
    "samples   = 64      # how many circuits to generate"
   ]
  },
  {
   "cell_type": "markdown",
   "id": "2842cc0c-770a-451c-ac44-e7265dbd87c2",
   "metadata": {},
   "source": [
    "Sample tokenized circuits"
   ]
  },
  {
   "cell_type": "code",
   "execution_count": null,
   "id": "f72a4c09-3af9-4221-a987-2dc7fa8b2b33",
   "metadata": {},
   "outputs": [
    {
     "data": {
      "application/vnd.jupyter.widget-view+json": {
       "model_id": "203ad6167bbf472d83f5ba93b9baf0de",
       "version_major": 2,
       "version_minor": 0
      },
      "text/plain": [
       "  0%|          | 0/20 [00:00<?, ?it/s]"
      ]
     },
     "metadata": {},
     "output_type": "display_data"
    },
    {
     "name": "stdout",
     "output_type": "stream",
     "text": [
      "[INFO]: (generate_srv_tensors) Generated 64 tensors\n"
     ]
    }
   ],
   "source": [
    "out_tensor = infer_srv.generate_srv_tensors(pipeline, prompt, samples, num_of_qubits, num_of_qubits, max_gates, g, no_bar=False) "
   ]
  },
  {
   "cell_type": "markdown",
   "id": "4d07a692-8c6f-4c31-8fd2-d8cd89edecf0",
   "metadata": {},
   "source": [
    "Check how many distinct tensors we got:"
   ]
  },
  {
   "cell_type": "code",
   "execution_count": null,
   "id": "72c575b4-ebc5-46b7-b588-55f3340df04d",
   "metadata": {},
   "outputs": [
    {
     "data": {
      "text/plain": [
       "64"
      ]
     },
     "execution_count": null,
     "metadata": {},
     "output_type": "execute_result"
    }
   ],
   "source": [
    "out_tensor.unique(dim=0).shape[0]"
   ]
  },
  {
   "cell_type": "markdown",
   "id": "14e5728b-22d5-480f-bde8-5add698611b4",
   "metadata": {},
   "source": [
    "Let's look what is generated. Note, 3 is the padding token (or empty action)."
   ]
  },
  {
   "cell_type": "code",
   "execution_count": null,
   "id": "9116f267-9f6b-4f80-a0f6-ef38fb694a28",
   "metadata": {},
   "outputs": [
    {
     "data": {
      "text/plain": [
       "tensor([[[ 0,  2,  1,  0,  0, -2,  1,  2,  0,  3,  3,  3,  3,  3,  3,  3],\n",
       "         [ 1,  0,  0,  0,  0,  0,  0,  0,  0,  3,  3,  3,  3,  3,  3,  3],\n",
       "         [ 0, -2,  0,  1,  0,  0,  0, -2,  2,  3,  3,  3,  3,  3,  3,  3],\n",
       "         [ 0,  0,  0,  0,  0,  0,  0,  0,  0,  3,  3,  3,  3,  3,  3,  3],\n",
       "         [ 0,  0,  0,  0,  1,  2,  0,  0, -2,  3,  3,  3,  3,  3,  3,  3]],\n",
       "\n",
       "        [[ 0,  0,  2,  2,  0,  3,  3,  3,  3,  3,  3,  3,  3,  3,  3,  3],\n",
       "         [ 0,  0,  0, -2,  0,  3,  3,  3,  3,  3,  3,  3,  3,  3,  3,  3],\n",
       "         [ 0,  0,  0,  0,  2,  3,  3,  3,  3,  3,  3,  3,  3,  3,  3,  3],\n",
       "         [ 1,  0,  0,  0,  0,  3,  3,  3,  3,  3,  3,  3,  3,  3,  3,  3],\n",
       "         [ 0,  1, -2,  0, -2,  3,  3,  3,  3,  3,  3,  3,  3,  3,  3,  3]]])"
      ]
     },
     "execution_count": null,
     "metadata": {},
     "output_type": "execute_result"
    }
   ],
   "source": [
    "out_tensor[:2]"
   ]
  },
  {
   "cell_type": "markdown",
   "id": "d4a3c5f4-3333-49a0-a965-2c392dcc2002",
   "metadata": {},
   "source": [
    "## Convert to qiskit circuit "
   ]
  },
  {
   "cell_type": "markdown",
   "id": "2f71bbfa-8fd0-4a0c-ba9c-1a4f09da527d",
   "metadata": {},
   "source": [
    "To get a qiskit circuit we need to do: \n",
    "\n",
    "- apply cosine similarity to go from embeddings to token matrices (the function `infer_srv.generate_srv_tensors` did this already)\n",
    "- parse token matrix to qiskit and filter out error circuits\n",
    "- calculate SRV and plot circuits"
   ]
  },
  {
   "cell_type": "code",
   "execution_count": null,
   "id": "79d9c737-6773-47af-8d3a-7e1ec9ec704b",
   "metadata": {},
   "outputs": [],
   "source": [
    "qc_list, error_cnt, srv_list = infer_srv.convert_tensors_to_srvs(out_tensor, pipeline.gate_pool)"
   ]
  },
  {
   "cell_type": "markdown",
   "id": "b033c5a9-d77a-467e-8474-537ace2d9b4b",
   "metadata": {},
   "source": [
    "Generated error circuits (token matrices that don't correspond to circuits):"
   ]
  },
  {
   "cell_type": "code",
   "execution_count": null,
   "id": "6f9dd437-cac3-4fa7-bdfe-0046c6a727e2",
   "metadata": {},
   "outputs": [
    {
     "data": {
      "text/plain": [
       "0"
      ]
     },
     "execution_count": null,
     "metadata": {},
     "output_type": "execute_result"
    }
   ],
   "source": [
    "error_cnt"
   ]
  },
  {
   "cell_type": "markdown",
   "id": "8a93fdc6-9e12-4e07-b25a-ca3f21a5cda4",
   "metadata": {},
   "source": [
    "What SRVs did we get:"
   ]
  },
  {
   "cell_type": "code",
   "execution_count": null,
   "id": "363350c2-9b04-4231-a898-d82dff6382ae",
   "metadata": {},
   "outputs": [
    {
     "data": {
      "text/plain": [
       "[[2, 1, 2, 1, 2], [2, 1, 2, 1, 2], [2, 1, 2, 1, 2], [2, 1, 2, 1, 2]]"
      ]
     },
     "execution_count": null,
     "metadata": {},
     "output_type": "execute_result"
    }
   ],
   "source": [
    "srv_list[:4]"
   ]
  },
  {
   "cell_type": "markdown",
   "id": "995435c3-ec71-4b2d-84cc-8aa1ededd546",
   "metadata": {},
   "source": [
    "That is an accuracy of:"
   ]
  },
  {
   "cell_type": "code",
   "execution_count": null,
   "id": "f15f0507-e9c9-4176-8acf-27c2e063694f",
   "metadata": {},
   "outputs": [
    {
     "data": {
      "text/plain": [
       "0.875"
      ]
     },
     "execution_count": null,
     "metadata": {},
     "output_type": "execute_result"
    }
   ],
   "source": [
    "sum(srv==x for x in srv_list)/len(srv_list)"
   ]
  },
  {
   "cell_type": "markdown",
   "id": "782ffa59-6386-49d1-9014-2bf093674e43",
   "metadata": {},
   "source": [
    "Finally plot some of the circuits:"
   ]
  },
  {
   "cell_type": "code",
   "execution_count": null,
   "id": "fc0308c1-1a0b-4be1-90b1-2811a13caee4",
   "metadata": {},
   "outputs": [
    {
     "data": {
      "image/png": "[encoded data removed]",
      "text/plain": [
       "<Figure size 1800x500 with 8 Axes>"
      ]
     },
     "metadata": {},
     "output_type": "display_data"
    }
   ],
   "source": [
    "fig, axs = plt.subplots(2, 4, figsize=(18,5), constrained_layout=True)\n",
    "for qc,is_srv,ax in zip(qc_list, srv_list, axs.flatten()): \n",
    "    qc.draw(\"mpl\", plot_barriers=False, ax=ax, style = \"clifford\")\n",
    "    ax.set_title(f\"{'Correct' if is_srv==srv else 'NOT correct'}, is SRV = {is_srv}\")\n",
    "plt.show()"
   ]
  },
  {
   "cell_type": "code",
   "execution_count": null,
   "id": "0244290d-5c57-4b70-b670-a839876a9ccf",
   "metadata": {},
   "outputs": [],
   "source": []
  }
 ],
 "metadata": {
  "kernelspec": {
   "display_name": "python3",
   "language": "python",
   "name": "python3"
  },
  "widgets": {
   "application/vnd.jupyter.widget-state+json": {
    "state": {
     "07debdc74c3542b0bc147c34d82c897a": {
      "model_module": "@jupyter-widgets/base",
      "model_module_version": "2.0.0",
      "model_name": "LayoutModel",
      "state": {}
     },
     "09aa649213da460c8f7322fc95c63e6c": {
      "model_module": "@jupyter-widgets/base",
      "model_module_version": "2.0.0",
      "model_name": "LayoutModel",
      "state": {}
     },
     "09d8992ed5a247849e94866dcbc18c0e": {
      "model_module": "@jupyter-widgets/controls",
      "model_module_version": "2.0.0",
      "model_name": "ProgressStyleModel",
      "state": {
       "description_width": ""
      }
     },
     "203ad6167bbf472d83f5ba93b9baf0de": {
      "model_module": "@jupyter-widgets/controls",
      "model_module_version": "2.0.0",
      "model_name": "HBoxModel",
      "state": {
       "children": [
        "IPY_MODEL_ec6f6e0e6aba4775b38fc462397159f2",
        "IPY_MODEL_64daffce9e52494d84dd0a3f7fe50c69",
        "IPY_MODEL_9ad3a327022d4f11a19c21da917548a9"
       ],
       "layout": "IPY_MODEL_ec77641e17ba4169a0bcbfd8d4340cee"
      }
     },
     "34ac9476f056432a8f17c52dc39044a1": {
      "model_module": "@jupyter-widgets/base",
      "model_module_version": "2.0.0",
      "model_name": "LayoutModel",
      "state": {}
     },
     "3d170fb35b80402f881e60d36b9a4aaa": {
      "model_module": "@jupyter-widgets/controls",
      "model_module_version": "2.0.0",
      "model_name": "HTMLStyleModel",
      "state": {
       "description_width": "",
       "font_size": null,
       "text_color": null
      }
     },
     "5082c9ff9f0a4790a3d92206e86541ba": {
      "model_module": "@jupyter-widgets/controls",
      "model_module_version": "2.0.0",
      "model_name": "ProgressStyleModel",
      "state": {
       "description_width": ""
      }
     },
     "64daffce9e52494d84dd0a3f7fe50c69": {
      "model_module": "@jupyter-widgets/controls",
      "model_module_version": "2.0.0",
      "model_name": "FloatProgressModel",
      "state": {
       "bar_style": "success",
       "layout": "IPY_MODEL_34ac9476f056432a8f17c52dc39044a1",
       "max": 20,
       "style": "IPY_MODEL_09d8992ed5a247849e94866dcbc18c0e",
       "value": 20
      }
     },
     "65d08bdc913541fcb2a9ea45be412600": {
      "model_module": "@jupyter-widgets/controls",
      "model_module_version": "2.0.0",
      "model_name": "HTMLStyleModel",
      "state": {
       "description_width": "",
       "font_size": null,
       "text_color": null
      }
     },
     "96c07cc3bc6e4876b28bee58009a8bb4": {
      "model_module": "@jupyter-widgets/base",
      "model_module_version": "2.0.0",
      "model_name": "LayoutModel",
      "state": {}
     },
     "9ad3a327022d4f11a19c21da917548a9": {
      "model_module": "@jupyter-widgets/controls",
      "model_module_version": "2.0.0",
      "model_name": "HTMLModel",
      "state": {
       "layout": "IPY_MODEL_fe286977009e4b11a449b5d145e61cb9",
       "style": "IPY_MODEL_65d08bdc913541fcb2a9ea45be412600",
       "value": " 20/20 [00:00&lt;00:00, 56.27it/s]"
      }
     },
     "9f6ffb0960fb4e0397fbe755433bc717": {
      "model_module": "@jupyter-widgets/controls",
      "model_module_version": "2.0.0",
      "model_name": "FloatProgressModel",
      "state": {
       "bar_style": "success",
       "layout": "IPY_MODEL_07debdc74c3542b0bc147c34d82c897a",
       "max": 20,
       "style": "IPY_MODEL_5082c9ff9f0a4790a3d92206e86541ba",
       "value": 20
      }
     },
     "a4c23241980f43c8903a3d5b77b804c6": {
      "model_module": "@jupyter-widgets/controls",
      "model_module_version": "2.0.0",
      "model_name": "HTMLModel",
      "state": {
       "layout": "IPY_MODEL_e1ffcd51465d44599a0e30f05511894a",
       "style": "IPY_MODEL_b49f0fdf09214e618e7c62cb91862ef6",
       "value": "100%"
      }
     },
     "b49f0fdf09214e618e7c62cb91862ef6": {
      "model_module": "@jupyter-widgets/controls",
      "model_module_version": "2.0.0",
      "model_name": "HTMLStyleModel",
      "state": {
       "description_width": "",
       "font_size": null,
       "text_color": null
      }
     },
     "b80c4ed69216421287d51bc94e954007": {
      "model_module": "@jupyter-widgets/base",
      "model_module_version": "2.0.0",
      "model_name": "LayoutModel",
      "state": {}
     },
     "d059e74336004fcf846e49c1b208f781": {
      "model_module": "@jupyter-widgets/controls",
      "model_module_version": "2.0.0",
      "model_name": "HTMLModel",
      "state": {
       "layout": "IPY_MODEL_09aa649213da460c8f7322fc95c63e6c",
       "style": "IPY_MODEL_fa7a58f8cb7d4d4fb6a06787f95e441d",
       "value": " 20/20 [00:00&lt;00:00, 36.56it/s]"
      }
     },
     "e1ffcd51465d44599a0e30f05511894a": {
      "model_module": "@jupyter-widgets/base",
      "model_module_version": "2.0.0",
      "model_name": "LayoutModel",
      "state": {}
     },
     "ec6f6e0e6aba4775b38fc462397159f2": {
      "model_module": "@jupyter-widgets/controls",
      "model_module_version": "2.0.0",
      "model_name": "HTMLModel",
      "state": {
       "layout": "IPY_MODEL_96c07cc3bc6e4876b28bee58009a8bb4",
       "style": "IPY_MODEL_3d170fb35b80402f881e60d36b9a4aaa",
       "value": "100%"
      }
     },
     "ec77641e17ba4169a0bcbfd8d4340cee": {
      "model_module": "@jupyter-widgets/base",
      "model_module_version": "2.0.0",
      "model_name": "LayoutModel",
      "state": {}
     },
     "edf9e80ec0da4959b6aea3c06f6996e9": {
      "model_module": "@jupyter-widgets/controls",
      "model_module_version": "2.0.0",
      "model_name": "HBoxModel",
      "state": {
       "children": [
        "IPY_MODEL_a4c23241980f43c8903a3d5b77b804c6",
        "IPY_MODEL_9f6ffb0960fb4e0397fbe755433bc717",
        "IPY_MODEL_d059e74336004fcf846e49c1b208f781"
       ],
       "layout": "IPY_MODEL_b80c4ed69216421287d51bc94e954007"
      }
     },
     "fa7a58f8cb7d4d4fb6a06787f95e441d": {
      "model_module": "@jupyter-widgets/controls",
      "model_module_version": "2.0.0",
      "model_name": "HTMLStyleModel",
      "state": {
       "description_width": "",
       "font_size": null,
       "text_color": null
      }
     },
     "fe286977009e4b11a449b5d145e61cb9": {
      "model_module": "@jupyter-widgets/base",
      "model_module_version": "2.0.0",
      "model_name": "LayoutModel",
      "state": {}
     }
    },
    "version_major": 2,
    "version_minor": 0
   }
  }
 },
 "nbformat": 4,
 "nbformat_minor": 5
}
