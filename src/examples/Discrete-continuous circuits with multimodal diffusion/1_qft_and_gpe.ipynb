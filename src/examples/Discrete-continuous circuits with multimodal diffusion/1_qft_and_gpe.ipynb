{
 "cells": [
  {
   "cell_type": "raw",
   "id": "c4e9a976-c6b5-4ce2-8e92-1dd7cee7c736",
   "metadata": {},
   "source": [
    "---\n",
    "categories:\n",
    "  - Unitary compilation\n",
    "  - Parameterized gates\n",
    "  - Quantum circuits\n",
    "  - Pretrained model\n",
    "---"
   ]
  },
  {
   "cell_type": "markdown",
   "id": "6c172f48-2011-45c9-ba09-b49edc98b7ec",
   "metadata": {},
   "source": [
    "# Quantum Fourier transform and gate-pair tokenization\n",
    "\n",
    "> A short tutorial showing the compilation of the Quantum Fourier transform (QFT) and extracting tokens via Gate-Pair tokenization (GPE)."
   ]
  },
  {
   "cell_type": "code",
   "execution_count": null,
   "id": "24ecd66b-9552-4e9b-aa68-ce292444d85e",
   "metadata": {},
   "outputs": [],
   "source": [
    "from genQC.imports import *\n",
    "import genQC.utils.misc_utils as util\n",
    "\n",
    "from genQC.dataset.config_dataset import ConfigDataset\n",
    "from genQC.pipeline.multimodal_diffusion_pipeline import MultimodalDiffusionPipeline_ParametrizedCompilation\n",
    "from genQC.scheduler.scheduler_dpm import DPMScheduler\n",
    "\n",
    "from genQC.platform.tokenizer.circuits_tokenizer import CircuitTokenizer\n",
    "from genQC.platform.simulation import Simulator, CircuitBackendType\n",
    "from genQC.inference.sampling import decode_tensors_to_backend, generate_compilation_tensors\n",
    "from genQC.inference.evaluation_helper import get_unitaries\n",
    "from genQC.inference.eval_metrics import UnitaryInfidelityNorm\n",
    "from genQC.benchmark.bench_compilation import SpecialUnitaries\n",
    "import genQC.platform.tokenizer.tensor_tokenizer as gpe"
   ]
  },
  {
   "cell_type": "code",
   "execution_count": null,
   "id": "5ae966b5-0f67-4ffe-9d2b-ed0f23c7c383",
   "metadata": {},
   "outputs": [
    {
     "name": "stdout",
     "output_type": "stream",
     "text": [
      "[INFO]: Cuda device has a capability of 8.6 (>= 8), allowing tf32 matmul.\n"
     ]
    },
    {
     "data": {
      "text/plain": [
       "device(type='cuda')"
      ]
     },
     "execution_count": null,
     "metadata": {},
     "output_type": "execute_result"
    }
   ],
   "source": [
    "util.MemoryCleaner.purge_mem()      # clean existing memory alloc\n",
    "device = util.infer_torch_device()  # use cuda if we can\n",
    "device"
   ]
  },
  {
   "cell_type": "code",
   "execution_count": null,
   "id": "f903ecdc-f07c-4e0a-8fc9-1d1bea2bfec5",
   "metadata": {},
   "outputs": [],
   "source": [
    "# We set a seed to pytorch, numpy and python. \n",
    "# Note: This will also set deterministic algorithms, possibly at the cost of reduced performance!\n",
    "util.set_seed(0)"
   ]
  },
  {
   "cell_type": "markdown",
   "id": "73b1255b-b440-4bb9-89fc-c864fbcafaa1",
   "metadata": {},
   "source": [
    "## Load model"
   ]
  },
  {
   "cell_type": "markdown",
   "id": "5baf1d7a-5cf5-4d06-919b-75bc0aa2c6f0",
   "metadata": {},
   "source": [
    "Load the pre-trained model directly from [Hugging Face: Floki00/cirdit_multimodal_compile_3to5qubit](https://huggingface.co/Floki00/cirdit_multimodal_compile_3to5qubit)."
   ]
  },
  {
   "cell_type": "code",
   "execution_count": null,
   "id": "6ff4eb91-6929-4d54-b6e5-38f6d7b18fdf",
   "metadata": {},
   "outputs": [],
   "source": [
    "pipeline = MultimodalDiffusionPipeline_ParametrizedCompilation.from_pretrained(\"Floki00/cirdit_multimodal_compile_3to5qubit\", device)"
   ]
  },
  {
   "cell_type": "markdown",
   "id": "1d836ce9-e753-4407-be75-72c5da485328",
   "metadata": {},
   "source": [
    "The model is trained with the gate set:"
   ]
  },
  {
   "cell_type": "code",
   "execution_count": null,
   "id": "13830bb8-7be4-4fed-9983-09f13d1bf8f4",
   "metadata": {},
   "outputs": [
    {
     "data": {
      "text/plain": [
       "['h', 'cx', 'ccx', 'swap', 'rx', 'ry', 'rz', 'cp']"
      ]
     },
     "execution_count": null,
     "metadata": {},
     "output_type": "execute_result"
    }
   ],
   "source": [
    "pipeline.gate_pool"
   ]
  },
  {
   "cell_type": "markdown",
   "id": "2047cc5b-deeb-4bf7-8706-152e1aceddfc",
   "metadata": {},
   "source": [
    "which we need in order to define the `vocabulary`, allowing us to decode tokenized circuits."
   ]
  },
  {
   "cell_type": "code",
   "execution_count": null,
   "id": "36c309d1-bd8b-40b4-b0e7-2d887b6963cb",
   "metadata": {},
   "outputs": [
    {
     "data": {
      "text/plain": [
       "{'h': 1, 'cx': 2, 'ccx': 3, 'swap': 4, 'rx': 5, 'ry': 6, 'rz': 7, 'cp': 8}"
      ]
     },
     "execution_count": null,
     "metadata": {},
     "output_type": "execute_result"
    }
   ],
   "source": [
    "vocabulary = {g:i+1 for i, g in enumerate(pipeline.gate_pool)} \n",
    "tokenizer  = CircuitTokenizer(vocabulary)\n",
    "tokenizer.vocabulary"
   ]
  },
  {
   "cell_type": "markdown",
   "id": "67f82d86-963b-4d43-8105-6656d42269b7",
   "metadata": {},
   "source": [
    "### Set inference parameters"
   ]
  },
  {
   "cell_type": "markdown",
   "id": "d58cd4d1-c1ec-4e27-a286-7d302b467ca0",
   "metadata": {},
   "source": [
    "Set diffusion model inference parameters."
   ]
  },
  {
   "cell_type": "code",
   "execution_count": null,
   "id": "eda49101-93cb-48c6-a761-ca8aae4ad1ba",
   "metadata": {},
   "outputs": [],
   "source": [
    "pipeline.scheduler   = DPMScheduler.from_scheduler(pipeline.scheduler)\n",
    "pipeline.scheduler_w = DPMScheduler.from_scheduler(pipeline.scheduler_w)\n",
    "\n",
    "timesteps = 40\n",
    "pipeline.scheduler.set_timesteps(timesteps) \n",
    "pipeline.scheduler_w.set_timesteps(timesteps) \n",
    "\n",
    "pipeline.lambda_h = 1.5\n",
    "pipeline.lambda_w = 0.45\n",
    "pipeline.g_h = 0.4\n",
    "pipeline.g_w = 0.2\n",
    "\n",
    "# These parameters are specific to our pre-trained model.\n",
    "system_size   = 5\n",
    "max_gates     = 32"
   ]
  },
  {
   "cell_type": "markdown",
   "id": "3d32dbf9-7279-4edf-bdc7-ed3e33609a7f",
   "metadata": {},
   "source": [
    "For evaluation, we also need a circuit simulator backend."
   ]
  },
  {
   "cell_type": "code",
   "execution_count": null,
   "id": "e996c1f7-76e9-460d-ab39-c5b43114ade9",
   "metadata": {},
   "outputs": [],
   "source": [
    "simulator = Simulator(CircuitBackendType.QISKIT)"
   ]
  },
  {
   "cell_type": "markdown",
   "id": "7835d6ad-03d1-4a7b-ab89-939b187468a5",
   "metadata": {},
   "source": [
    "## Compile the QFT unitary"
   ]
  },
  {
   "cell_type": "markdown",
   "id": "b09547e6-2cb4-4e3f-8ec0-2894bac018cd",
   "metadata": {},
   "source": [
    "We now compile the 4-qubit QFT."
   ]
  },
  {
   "cell_type": "code",
   "execution_count": null,
   "id": "cea55486-b01e-4ee6-a94f-9720740e8176",
   "metadata": {},
   "outputs": [],
   "source": [
    "samples       = 512\n",
    "num_of_qubits = 4\n",
    "prompt        = f\"Compile {num_of_qubits} qubits using: ['h', 'cx', 'ccx', 'swap', 'rx', 'ry', 'rz', 'cp']\"\n",
    "\n",
    "U = SpecialUnitaries.QFT(num_of_qubits).to(torch.complex64)"
   ]
  },
  {
   "cell_type": "code",
   "execution_count": null,
   "id": "6dbf2639-9bcb-402f-89bd-bdfef47a5d29",
   "metadata": {},
   "outputs": [
    {
     "data": {
      "application/vnd.jupyter.widget-view+json": {
       "model_id": "947bf1d7d4d04ffea3abf8530908ad62",
       "version_major": 2,
       "version_minor": 0
      },
      "text/plain": [
       "  0%|          | 0/40 [00:00<?, ?it/s]"
      ]
     },
     "metadata": {},
     "output_type": "display_data"
    },
    {
     "data": {
      "application/vnd.jupyter.widget-view+json": {
       "model_id": "fa240a3d6d114b6da392ac2fbe059980",
       "version_major": 2,
       "version_minor": 0
      },
      "text/plain": [
       "  0%|          | 0/40 [00:00<?, ?it/s]"
      ]
     },
     "metadata": {},
     "output_type": "display_data"
    },
    {
     "name": "stdout",
     "output_type": "stream",
     "text": [
      "[INFO]: (generate_comp_tensors) Generated 512 tensors\n"
     ]
    }
   ],
   "source": [
    "out_tensor, params = generate_compilation_tensors(pipeline, \n",
    "                                      prompt=prompt, \n",
    "                                      U=U, \n",
    "                                      samples=samples, \n",
    "                                      system_size=system_size, \n",
    "                                      num_of_qubits=num_of_qubits, \n",
    "                                      max_gates=max_gates,\n",
    "                                      no_bar=False,        # show progress bar\n",
    "                                      auto_batch_size=256, # limit batch size for less GPU memory usage\n",
    "                                     )"
   ]
  },
  {
   "cell_type": "markdown",
   "id": "188ca3b3-aad8-4553-afa6-948b90089643",
   "metadata": {},
   "source": [
    "For instance, a circuit tensor alongside parameters the model generated looks like this"
   ]
  },
  {
   "cell_type": "code",
   "execution_count": null,
   "id": "38513404-0da1-4ca6-b9be-1e1706fc9010",
   "metadata": {},
   "outputs": [
    {
     "name": "stdout",
     "output_type": "stream",
     "text": [
      "tensor([[ 0,  0,  8,  0, -2,  0,  0,  0,  4,  0,  0,  0,  0,  0,  9,  9,  9,  9,  9,  9,  9,  9,  9,  9,  9,  9,  9,  9,  9,  9,  9,  9],\n",
      "        [ 0,  0,  0,  4,  2,  3,  1,  8,  0,  8,  8,  0,  0,  0,  9,  9,  9,  9,  9,  9,  9,  9,  9,  9,  9,  9,  9,  9,  9,  9,  9,  9],\n",
      "        [ 0,  8,  8,  4,  0, -3,  0,  0,  0,  0,  8,  1,  8,  0,  9,  9,  9,  9,  9,  9,  9,  9,  9,  9,  9,  9,  9,  9,  9,  9,  9,  9],\n",
      "        [ 1,  8,  0,  0,  0, -3,  0,  8,  4,  8,  0,  0,  8,  1,  9,  9,  9,  9,  9,  9,  9,  9,  9,  9,  9,  9,  9,  9,  9,  9,  9,  9]], device='cuda:0')\n",
      "tensor([[ 0.0000, -0.7021, -0.9835,  0.0000,  0.0000,  0.0000,  0.0000, -0.9720,  0.0000,  0.6553,  0.2625,  0.0000, -0.7555,  0.0000,  0.0000,  0.0000,  0.0000,  0.0000,  0.0000,  0.0000,  0.0000,\n",
      "          0.0000,  0.0000,  0.0000,  0.0000,  0.0000,  0.0000,  0.0000,  0.0000,  0.0000,  0.0000,  0.0000]], device='cuda:0')\n"
     ]
    }
   ],
   "source": [
    "print(out_tensor[0])\n",
    "print(params[0])"
   ]
  },
  {
   "cell_type": "markdown",
   "id": "b42cc007-fcfe-4baa-8565-06e603552e8a",
   "metadata": {},
   "source": [
    "### Evaluate and plot circuits"
   ]
  },
  {
   "cell_type": "markdown",
   "id": "a75b21e3-444d-423a-a02f-7ff48f9e8ddd",
   "metadata": {},
   "source": [
    "We decode these now to circuits and calculate their unitaries."
   ]
  },
  {
   "cell_type": "code",
   "execution_count": null,
   "id": "400c673d-89d9-455f-b911-e2e7b9e8535b",
   "metadata": {},
   "outputs": [],
   "source": [
    "generated_qc_list, _ = decode_tensors_to_backend(simulator, tokenizer, out_tensor, params)\n",
    "generated_us         = get_unitaries(simulator, generated_qc_list)"
   ]
  },
  {
   "cell_type": "markdown",
   "id": "fcf6e586-c40c-4d66-9a94-f18e6f82ffc0",
   "metadata": {},
   "source": [
    "We then evaluate the unitary infidelity to our target `U`."
   ]
  },
  {
   "cell_type": "code",
   "execution_count": null,
   "id": "2593218b-7edb-4499-abd0-8ac4524d034a",
   "metadata": {},
   "outputs": [],
   "source": [
    "U_norms = UnitaryInfidelityNorm.distance(\n",
    "                    approx_U=torch.from_numpy(np.stack(generated_us)).to(torch.complex128), \n",
    "                    target_U=U.unsqueeze(0).to(torch.complex128),\n",
    "                )"
   ]
  },
  {
   "cell_type": "markdown",
   "id": "3e68cd4c-3870-4748-bff7-93c3e4fff3d8",
   "metadata": {},
   "source": [
    "We get the following distribution of the infidelities."
   ]
  },
  {
   "cell_type": "code",
   "execution_count": null,
   "id": "8625b627-f981-417d-82c7-934d4dc0697f",
   "metadata": {},
   "outputs": [
    {
     "data": {
      "image/png": "[encoded data removed]",
      "text/plain": [
       "<Figure size 700x300 with 1 Axes>"
      ]
     },
     "metadata": {},
     "output_type": "display_data"
    }
   ],
   "source": [
    "plt.figure(figsize=(7, 3), constrained_layout=True)\n",
    "plt.xlabel(UnitaryInfidelityNorm.name(), fontsize=13)\n",
    "plt.ylabel(\"Frequency\", fontsize=13)\n",
    "plt.hist(U_norms, bins=60)\n",
    "plt.xlim([-0.05, 1.05])\n",
    "plt.show()"
   ]
  },
  {
   "cell_type": "markdown",
   "id": "ddec7c92-bc95-45e6-940a-22439e2324d4",
   "metadata": {},
   "source": [
    "We plot the four best ciruits, w.r.t. the infidelity:"
   ]
  },
  {
   "cell_type": "code",
   "execution_count": null,
   "id": "37788247-4e1d-4d39-8877-90deb67c5cd8",
   "metadata": {},
   "outputs": [
    {
     "data": {
      "image/png": "[encoded data removed]",
      "text/plain": [
       "<Figure size 1500x300 with 4 Axes>"
      ]
     },
     "metadata": {},
     "output_type": "display_data"
    }
   ],
   "source": [
    "plot_k_best = 4\n",
    "\n",
    "idx = np.argsort(U_norms)\n",
    "fig, axs = plt.subplots(1, plot_k_best, figsize=(10, 2), constrained_layout=True, dpi=150)\n",
    "\n",
    "for i, (idx_i, ax) in enumerate(zip(idx[:plot_k_best], axs.flatten())): \n",
    "    ax.clear()\n",
    "    generated_qc_list[idx_i].draw(\"mpl\", plot_barriers=False, ax=ax)\n",
    "    ax.set_title(f\"The {i+1}. best circuit: \\n infidelity {U_norms[idx_i]:0.1e}.\", fontsize=10)"
   ]
  },
  {
   "cell_type": "markdown",
   "id": "02831e92-8b4b-4534-b411-e22a432ab1a8",
   "metadata": {},
   "source": [
    "## Gate-Pair tokenization"
   ]
  },
  {
   "cell_type": "markdown",
   "id": "78fbf7dc-03e4-44a4-b9f2-7b0d6b3f07d0",
   "metadata": {},
   "source": [
    "Now we want to extract reusable substructures (gadgets) from generated circuits. We use all generated tensors in `out_tensor`, regardless if their circuits have good or bad infidelity."
   ]
  },
  {
   "cell_type": "code",
   "execution_count": null,
   "id": "f1bb2aed-1070-427a-a085-7332fdbfbdbd",
   "metadata": {},
   "outputs": [],
   "source": [
    "gate_pair_tokenizer = gpe.GatePairTokenizer(unique_class_values=pipeline.embedder.unique_class_values, \n",
    "                                            zero_token=0, \n",
    "                                            padding_token=9, \n",
    "                                            device=\"cpu\")"
   ]
  },
  {
   "cell_type": "markdown",
   "id": "a4df80e9-2bf3-4216-b143-36999e2d598e",
   "metadata": {},
   "source": [
    "Next, we run our proposed Gate-Pair Encoding (GPE) scheme:"
   ]
  },
  {
   "cell_type": "code",
   "execution_count": null,
   "id": "49fe6f42-d84d-4196-8e7d-5127b11e0685",
   "metadata": {},
   "outputs": [
    {
     "data": {
      "application/vnd.jupyter.widget-view+json": {
       "model_id": "962235847487477e88ee001eaa67b2ee",
       "version_major": 2,
       "version_minor": 0
      },
      "text/plain": [
       "  0%|          | 0/100 [00:00<?, ?it/s]"
      ]
     },
     "metadata": {},
     "output_type": "display_data"
    },
    {
     "name": "stdout",
     "output_type": "stream",
     "text": [
      "New depth reached 1\n",
      "New depth reached 2\n",
      "New depth reached 3\n",
      "break: max_iters reached\n"
     ]
    }
   ],
   "source": [
    "_ = gate_pair_tokenizer.learn(out_tensor.cpu(), max_depth=5, max_iters=100)"
   ]
  },
  {
   "cell_type": "markdown",
   "id": "87fa40be-403b-494f-ab65-4a686350fc0c",
   "metadata": {},
   "source": [
    "Now we plot the extracted tokens."
   ]
  },
  {
   "cell_type": "code",
   "execution_count": null,
   "id": "601fa89b-154f-4e12-8f73-5fb3a1d74463",
   "metadata": {},
   "outputs": [],
   "source": [
    "max_depth = 4\n",
    "topk      = 5"
   ]
  },
  {
   "cell_type": "code",
   "execution_count": null,
   "id": "b734265c-2189-406b-9886-adcbc2be6584",
   "metadata": {},
   "outputs": [
    {
     "data": {
      "application/vnd.jupyter.widget-view+json": {
       "model_id": "3ad8e473e03047969891e6c1204a1290",
       "version_major": 2,
       "version_minor": 0
      },
      "text/plain": [
       "  0%|          | 0/100 [00:00<?, ?it/s]"
      ]
     },
     "metadata": {},
     "output_type": "display_data"
    }
   ],
   "source": [
    "unpacked_vocab_configs_depths, unpacked_vocab_configs_cnts_depths = \\\n",
    "                    gpe.get_topk_depth_unpacked(gate_pair_tokenizer, num_of_qubits, use_raw=True)"
   ]
  },
  {
   "cell_type": "code",
   "execution_count": null,
   "id": "7e234672-0b27-4449-ae92-28d5aafd299b",
   "metadata": {},
   "outputs": [
    {
     "data": {
      "image/png": "[encoded data removed]",
      "text/plain": [
       "<Figure size 2400x1200 with 15 Axes>"
      ]
     },
     "metadata": {},
     "output_type": "display_data"
    }
   ],
   "source": [
    "max_depth = min(max_depth, max(unpacked_vocab_configs_depths.keys()))\n",
    "fig, axs = plt.subplots(max_depth, topk, figsize=(12, 6), dpi=200)\n",
    "\n",
    "for ax in axs.flatten():\n",
    "    ax.clear()   \n",
    "    ax.set_axis_off()\n",
    "\n",
    "for (depth, unpacked_vocab_configs), (unpacked_vocab_configs_cnts), axs_sel in \\\n",
    "        zip(unpacked_vocab_configs_depths.items(), unpacked_vocab_configs_cnts_depths.values(), axs):\n",
    "        \n",
    "    if depth > max_depth:\n",
    "        break\n",
    "   \n",
    "    for i, (ax, unpacked_vocab_config, unpacked_vocab_config_cnt) in \\\n",
    "            enumerate(zip(axs_sel, unpacked_vocab_configs, unpacked_vocab_configs_cnts)):\n",
    "        \n",
    "        zero_ps = torch.zeros((1, unpacked_vocab_config.shape[-1])) - 1\n",
    "        instr = tokenizer.decode(unpacked_vocab_config, zero_ps)\n",
    "        qc    = simulator.genqc_to_backend(instr, place_barriers=False)\n",
    "\n",
    "        #------\n",
    "\n",
    "        ax.clear() \n",
    "        qc.draw(\"mpl\", \n",
    "                plot_barriers=False, \n",
    "                ax=ax, \n",
    "                idle_wires=False)\n",
    "\n",
    "        for text in ax.texts:\n",
    "            if 'q' in text.get_text():\n",
    "                text.set_visible(False)\n",
    "                text.remove()\n",
    "\n",
    "        ax.patch.set_facecolor('none')\n",
    "        ax.patches[0].set_color(\"none\")\n",
    "                \n",
    "        ax.set_title(f\"Occurrences: {unpacked_vocab_config_cnt.item()}\", fontsize=6)\n",
    "        if i==0:\n",
    "            plt.figtext(-0.03, 1-(depth-0.7)/max_depth, f\"Depth {depth}:\", horizontalalignment='left', verticalalignment='top', fontsize=12)\n",
    "\n",
    "plt.tight_layout()\n",
    "plt.show()"
   ]
  },
  {
   "cell_type": "markdown",
   "id": "146b3c78-3975-4d48-8fe4-7d257c0dcedd",
   "metadata": {},
   "source": [
    "As we only extract discrete tokens, the parameters of the continuous gates are set to 0 for plotting."
   ]
  },
  {
   "cell_type": "code",
   "execution_count": null,
   "id": "22d4e269-2a56-4026-81f3-8e22889adaf9",
   "metadata": {},
   "outputs": [],
   "source": []
  },
  {
   "cell_type": "code",
   "execution_count": null,
   "id": "8c9909e3-a035-46f7-8979-44be322a5fe0",
   "metadata": {},
   "outputs": [
    {
     "name": "stdout",
     "output_type": "stream",
     "text": [
      "genQC Version 0.2.0\n"
     ]
    }
   ],
   "source": [
    "import genQC\n",
    "print(\"genQC Version\", genQC.__version__)"
   ]
  },
  {
   "cell_type": "code",
   "execution_count": null,
   "id": "87d2050b-6b59-44d0-8a41-f393bc656bcf",
   "metadata": {},
   "outputs": [],
   "source": []
  }
 ],
 "metadata": {
  "kernelspec": {
   "display_name": "python3",
   "language": "python",
   "name": "python3"
  },
  "widgets": {
   "application/vnd.jupyter.widget-state+json": {
    "state": {
     "021f52d503b44f5e93f326f4e1c681e9": {
      "model_module": "@jupyter-widgets/controls",
      "model_module_version": "2.0.0",
      "model_name": "HTMLModel",
      "state": {
       "layout": "IPY_MODEL_b7b3c47c7bb14d2ea1ee06e8afdba7f6",
       "style": "IPY_MODEL_12d3e5aabc814faa8604361b1c80490a",
       "value": "100%"
      }
     },
     "0ba4139e005649238a5b4040b628100f": {
      "model_module": "@jupyter-widgets/controls",
      "model_module_version": "2.0.0",
      "model_name": "FloatProgressModel",
      "state": {
       "bar_style": "success",
       "layout": "IPY_MODEL_2dc7af76b38b435e8115388ff771bdcb",
       "max": 40,
       "style": "IPY_MODEL_804a105cc9d647bbab287df9ff67502f",
       "value": 40
      }
     },
     "0de51d1b7df643d181aabefb36044dd0": {
      "model_module": "@jupyter-widgets/controls",
      "model_module_version": "2.0.0",
      "model_name": "ProgressStyleModel",
      "state": {
       "description_width": ""
      }
     },
     "122ff94a05ef4363937c00a7ddcb041b": {
      "model_module": "@jupyter-widgets/base",
      "model_module_version": "2.0.0",
      "model_name": "LayoutModel",
      "state": {}
     },
     "12d3e5aabc814faa8604361b1c80490a": {
      "model_module": "@jupyter-widgets/controls",
      "model_module_version": "2.0.0",
      "model_name": "HTMLStyleModel",
      "state": {
       "description_width": "",
       "font_size": null,
       "text_color": null
      }
     },
     "189915e75b474731878f4dd2d82eea7d": {
      "model_module": "@jupyter-widgets/controls",
      "model_module_version": "2.0.0",
      "model_name": "HTMLStyleModel",
      "state": {
       "description_width": "",
       "font_size": null,
       "text_color": null
      }
     },
     "18f39bb92f814ba192c66550cf35f972": {
      "model_module": "@jupyter-widgets/controls",
      "model_module_version": "2.0.0",
      "model_name": "FloatProgressModel",
      "state": {
       "bar_style": "success",
       "layout": "IPY_MODEL_122ff94a05ef4363937c00a7ddcb041b",
       "max": 40,
       "style": "IPY_MODEL_0de51d1b7df643d181aabefb36044dd0",
       "value": 40
      }
     },
     "2dc7af76b38b435e8115388ff771bdcb": {
      "model_module": "@jupyter-widgets/base",
      "model_module_version": "2.0.0",
      "model_name": "LayoutModel",
      "state": {}
     },
     "318e739a6c804569a9a6fe91a95791f9": {
      "model_module": "@jupyter-widgets/controls",
      "model_module_version": "2.0.0",
      "model_name": "HTMLModel",
      "state": {
       "layout": "IPY_MODEL_c9419d0d5f8e441e815aaccc5a7e69e1",
       "style": "IPY_MODEL_4da4dd4163ae4fffa6ba18402643beee",
       "value": "Fetching 4 files: 100%"
      }
     },
     "341b725d6ea741f4afb8cede9a4ad7a0": {
      "model_module": "@jupyter-widgets/base",
      "model_module_version": "2.0.0",
      "model_name": "LayoutModel",
      "state": {}
     },
     "3ad8e473e03047969891e6c1204a1290": {
      "model_module": "@jupyter-widgets/controls",
      "model_module_version": "2.0.0",
      "model_name": "HBoxModel",
      "state": {
       "children": [
        "IPY_MODEL_021f52d503b44f5e93f326f4e1c681e9",
        "IPY_MODEL_51fcfd77dc8c4475ba826f165c8f1f46",
        "IPY_MODEL_eb040d59b1a24ae287c1cc61832eaf82"
       ],
       "layout": "IPY_MODEL_824ffe4f7f30494b8139208af9f5d021"
      }
     },
     "4690a080654a4e1ea3b9edd4d3c073b1": {
      "model_module": "@jupyter-widgets/controls",
      "model_module_version": "2.0.0",
      "model_name": "HTMLStyleModel",
      "state": {
       "description_width": "",
       "font_size": null,
       "text_color": null
      }
     },
     "49813f4fc64b44a799ec78f0921ce5d0": {
      "model_module": "@jupyter-widgets/base",
      "model_module_version": "2.0.0",
      "model_name": "LayoutModel",
      "state": {}
     },
     "4b5ae46e8b1445eda653dfcc62686dbe": {
      "model_module": "@jupyter-widgets/base",
      "model_module_version": "2.0.0",
      "model_name": "LayoutModel",
      "state": {}
     },
     "4d2312b354ca4f30807c08d024c6e9f0": {
      "model_module": "@jupyter-widgets/controls",
      "model_module_version": "2.0.0",
      "model_name": "HTMLStyleModel",
      "state": {
       "description_width": "",
       "font_size": null,
       "text_color": null
      }
     },
     "4da4dd4163ae4fffa6ba18402643beee": {
      "model_module": "@jupyter-widgets/controls",
      "model_module_version": "2.0.0",
      "model_name": "HTMLStyleModel",
      "state": {
       "description_width": "",
       "font_size": null,
       "text_color": null
      }
     },
     "51fcfd77dc8c4475ba826f165c8f1f46": {
      "model_module": "@jupyter-widgets/controls",
      "model_module_version": "2.0.0",
      "model_name": "FloatProgressModel",
      "state": {
       "bar_style": "success",
       "layout": "IPY_MODEL_b391734f3fc7449a801ebc1b0dfec054",
       "style": "IPY_MODEL_7e807267d2c74ffc91806e201348b15b",
       "value": 100
      }
     },
     "6b156939bb904c9dafe187a6c1770ea3": {
      "model_module": "@jupyter-widgets/base",
      "model_module_version": "2.0.0",
      "model_name": "LayoutModel",
      "state": {}
     },
     "6d6e280e276840b3babdf728594bc1c1": {
      "model_module": "@jupyter-widgets/controls",
      "model_module_version": "2.0.0",
      "model_name": "HTMLModel",
      "state": {
       "layout": "IPY_MODEL_edff37b931ba467f8c3af55668d610dc",
       "style": "IPY_MODEL_4d2312b354ca4f30807c08d024c6e9f0",
       "value": "100%"
      }
     },
     "7e807267d2c74ffc91806e201348b15b": {
      "model_module": "@jupyter-widgets/controls",
      "model_module_version": "2.0.0",
      "model_name": "ProgressStyleModel",
      "state": {
       "description_width": ""
      }
     },
     "7e928f8f42024d3dae49e80ddd82b3b2": {
      "model_module": "@jupyter-widgets/controls",
      "model_module_version": "2.0.0",
      "model_name": "HTMLModel",
      "state": {
       "layout": "IPY_MODEL_c649ae350b714328a6b377c44e47f509",
       "style": "IPY_MODEL_eeaf1b6b54674163b2a61d665af4df79",
       "value": " 40/40 [01:52&lt;00:00,  2.84s/it]"
      }
     },
     "804a105cc9d647bbab287df9ff67502f": {
      "model_module": "@jupyter-widgets/controls",
      "model_module_version": "2.0.0",
      "model_name": "ProgressStyleModel",
      "state": {
       "description_width": ""
      }
     },
     "82066e5a51a344d49ba6c6f44b06325b": {
      "model_module": "@jupyter-widgets/controls",
      "model_module_version": "2.0.0",
      "model_name": "FloatProgressModel",
      "state": {
       "bar_style": "success",
       "layout": "IPY_MODEL_8837e58cb680404e8479e38a03e27688",
       "style": "IPY_MODEL_e9132d33e6fe420cbe944ee26871e305",
       "value": 100
      }
     },
     "824ffe4f7f30494b8139208af9f5d021": {
      "model_module": "@jupyter-widgets/base",
      "model_module_version": "2.0.0",
      "model_name": "LayoutModel",
      "state": {}
     },
     "8837e58cb680404e8479e38a03e27688": {
      "model_module": "@jupyter-widgets/base",
      "model_module_version": "2.0.0",
      "model_name": "LayoutModel",
      "state": {}
     },
     "8fcdeb78bf434af0b590a4b334a69901": {
      "model_module": "@jupyter-widgets/base",
      "model_module_version": "2.0.0",
      "model_name": "LayoutModel",
      "state": {}
     },
     "947bf1d7d4d04ffea3abf8530908ad62": {
      "model_module": "@jupyter-widgets/controls",
      "model_module_version": "2.0.0",
      "model_name": "HBoxModel",
      "state": {
       "children": [
        "IPY_MODEL_9d2698b2d5244c8ab28111bfebf13091",
        "IPY_MODEL_18f39bb92f814ba192c66550cf35f972",
        "IPY_MODEL_7e928f8f42024d3dae49e80ddd82b3b2"
       ],
       "layout": "IPY_MODEL_c157678062c94873bd42f3fcc219c967"
      }
     },
     "962235847487477e88ee001eaa67b2ee": {
      "model_module": "@jupyter-widgets/controls",
      "model_module_version": "2.0.0",
      "model_name": "HBoxModel",
      "state": {
       "children": [
        "IPY_MODEL_6d6e280e276840b3babdf728594bc1c1",
        "IPY_MODEL_82066e5a51a344d49ba6c6f44b06325b",
        "IPY_MODEL_b47cb0c8ab634af4b7c9571985cccf3f"
       ],
       "layout": "IPY_MODEL_49813f4fc64b44a799ec78f0921ce5d0"
      }
     },
     "9a1869704d7a48e3b26e80f244377358": {
      "model_module": "@jupyter-widgets/controls",
      "model_module_version": "2.0.0",
      "model_name": "ProgressStyleModel",
      "state": {
       "description_width": ""
      }
     },
     "9d2698b2d5244c8ab28111bfebf13091": {
      "model_module": "@jupyter-widgets/controls",
      "model_module_version": "2.0.0",
      "model_name": "HTMLModel",
      "state": {
       "layout": "IPY_MODEL_4b5ae46e8b1445eda653dfcc62686dbe",
       "style": "IPY_MODEL_a7327c7ff92e4b0e87ef3ec38a95779d",
       "value": "100%"
      }
     },
     "a67d491da7384d2e9c7d96de8779849f": {
      "model_module": "@jupyter-widgets/base",
      "model_module_version": "2.0.0",
      "model_name": "LayoutModel",
      "state": {}
     },
     "a7327c7ff92e4b0e87ef3ec38a95779d": {
      "model_module": "@jupyter-widgets/controls",
      "model_module_version": "2.0.0",
      "model_name": "HTMLStyleModel",
      "state": {
       "description_width": "",
       "font_size": null,
       "text_color": null
      }
     },
     "b391734f3fc7449a801ebc1b0dfec054": {
      "model_module": "@jupyter-widgets/base",
      "model_module_version": "2.0.0",
      "model_name": "LayoutModel",
      "state": {}
     },
     "b47cb0c8ab634af4b7c9571985cccf3f": {
      "model_module": "@jupyter-widgets/controls",
      "model_module_version": "2.0.0",
      "model_name": "HTMLModel",
      "state": {
       "layout": "IPY_MODEL_341b725d6ea741f4afb8cede9a4ad7a0",
       "style": "IPY_MODEL_dced64245df74f84840f0e2e922f1d5c",
       "value": " 100/100 [00:40&lt;00:00,  2.51it/s]"
      }
     },
     "b7b3c47c7bb14d2ea1ee06e8afdba7f6": {
      "model_module": "@jupyter-widgets/base",
      "model_module_version": "2.0.0",
      "model_name": "LayoutModel",
      "state": {}
     },
     "bda858eb4a444b6f9c2e4d12918619d8": {
      "model_module": "@jupyter-widgets/controls",
      "model_module_version": "2.0.0",
      "model_name": "HTMLModel",
      "state": {
       "layout": "IPY_MODEL_dbbafaa32f044dc79cde20dca640d182",
       "style": "IPY_MODEL_d8cd8f60d9a44adabb401eee87dc5b95",
       "value": "100%"
      }
     },
     "c157678062c94873bd42f3fcc219c967": {
      "model_module": "@jupyter-widgets/base",
      "model_module_version": "2.0.0",
      "model_name": "LayoutModel",
      "state": {}
     },
     "c649ae350b714328a6b377c44e47f509": {
      "model_module": "@jupyter-widgets/base",
      "model_module_version": "2.0.0",
      "model_name": "LayoutModel",
      "state": {}
     },
     "c9419d0d5f8e441e815aaccc5a7e69e1": {
      "model_module": "@jupyter-widgets/base",
      "model_module_version": "2.0.0",
      "model_name": "LayoutModel",
      "state": {}
     },
     "cae28b86bb0e49368d6dac67ccc30360": {
      "model_module": "@jupyter-widgets/controls",
      "model_module_version": "2.0.0",
      "model_name": "HTMLStyleModel",
      "state": {
       "description_width": "",
       "font_size": null,
       "text_color": null
      }
     },
     "d3e70533f1024409ab6f0a3662f0f515": {
      "model_module": "@jupyter-widgets/base",
      "model_module_version": "2.0.0",
      "model_name": "LayoutModel",
      "state": {}
     },
     "d8cd8f60d9a44adabb401eee87dc5b95": {
      "model_module": "@jupyter-widgets/controls",
      "model_module_version": "2.0.0",
      "model_name": "HTMLStyleModel",
      "state": {
       "description_width": "",
       "font_size": null,
       "text_color": null
      }
     },
     "dbbafaa32f044dc79cde20dca640d182": {
      "model_module": "@jupyter-widgets/base",
      "model_module_version": "2.0.0",
      "model_name": "LayoutModel",
      "state": {}
     },
     "dbef30da12f646c2b35e308367007bd2": {
      "model_module": "@jupyter-widgets/controls",
      "model_module_version": "2.0.0",
      "model_name": "HTMLModel",
      "state": {
       "layout": "IPY_MODEL_e3497cfed0494def925f01b715b31d10",
       "style": "IPY_MODEL_4690a080654a4e1ea3b9edd4d3c073b1",
       "value": " 4/4 [00:00&lt;00:00, 798.72it/s]"
      }
     },
     "dced64245df74f84840f0e2e922f1d5c": {
      "model_module": "@jupyter-widgets/controls",
      "model_module_version": "2.0.0",
      "model_name": "HTMLStyleModel",
      "state": {
       "description_width": "",
       "font_size": null,
       "text_color": null
      }
     },
     "dfc99b2ee2b74d00b6097a20baade825": {
      "model_module": "@jupyter-widgets/controls",
      "model_module_version": "2.0.0",
      "model_name": "HBoxModel",
      "state": {
       "children": [
        "IPY_MODEL_318e739a6c804569a9a6fe91a95791f9",
        "IPY_MODEL_ff3ef79425414a96859a7dae83ee809a",
        "IPY_MODEL_dbef30da12f646c2b35e308367007bd2"
       ],
       "layout": "IPY_MODEL_6b156939bb904c9dafe187a6c1770ea3"
      }
     },
     "dfe56ee8b5b24cf2aaf2d149d0911663": {
      "model_module": "@jupyter-widgets/base",
      "model_module_version": "2.0.0",
      "model_name": "LayoutModel",
      "state": {}
     },
     "e3497cfed0494def925f01b715b31d10": {
      "model_module": "@jupyter-widgets/base",
      "model_module_version": "2.0.0",
      "model_name": "LayoutModel",
      "state": {}
     },
     "e9132d33e6fe420cbe944ee26871e305": {
      "model_module": "@jupyter-widgets/controls",
      "model_module_version": "2.0.0",
      "model_name": "ProgressStyleModel",
      "state": {
       "description_width": ""
      }
     },
     "eb040d59b1a24ae287c1cc61832eaf82": {
      "model_module": "@jupyter-widgets/controls",
      "model_module_version": "2.0.0",
      "model_name": "HTMLModel",
      "state": {
       "layout": "IPY_MODEL_a67d491da7384d2e9c7d96de8779849f",
       "style": "IPY_MODEL_cae28b86bb0e49368d6dac67ccc30360",
       "value": " 100/100 [00:00&lt;00:00, 1785.68it/s]"
      }
     },
     "eb4ee8e9c8454fac8dc424778e9f73a2": {
      "model_module": "@jupyter-widgets/controls",
      "model_module_version": "2.0.0",
      "model_name": "HTMLModel",
      "state": {
       "layout": "IPY_MODEL_dfe56ee8b5b24cf2aaf2d149d0911663",
       "style": "IPY_MODEL_189915e75b474731878f4dd2d82eea7d",
       "value": " 40/40 [01:53&lt;00:00,  2.82s/it]"
      }
     },
     "edff37b931ba467f8c3af55668d610dc": {
      "model_module": "@jupyter-widgets/base",
      "model_module_version": "2.0.0",
      "model_name": "LayoutModel",
      "state": {}
     },
     "eeaf1b6b54674163b2a61d665af4df79": {
      "model_module": "@jupyter-widgets/controls",
      "model_module_version": "2.0.0",
      "model_name": "HTMLStyleModel",
      "state": {
       "description_width": "",
       "font_size": null,
       "text_color": null
      }
     },
     "fa240a3d6d114b6da392ac2fbe059980": {
      "model_module": "@jupyter-widgets/controls",
      "model_module_version": "2.0.0",
      "model_name": "HBoxModel",
      "state": {
       "children": [
        "IPY_MODEL_bda858eb4a444b6f9c2e4d12918619d8",
        "IPY_MODEL_0ba4139e005649238a5b4040b628100f",
        "IPY_MODEL_eb4ee8e9c8454fac8dc424778e9f73a2"
       ],
       "layout": "IPY_MODEL_8fcdeb78bf434af0b590a4b334a69901"
      }
     },
     "ff3ef79425414a96859a7dae83ee809a": {
      "model_module": "@jupyter-widgets/controls",
      "model_module_version": "2.0.0",
      "model_name": "FloatProgressModel",
      "state": {
       "bar_style": "success",
       "layout": "IPY_MODEL_d3e70533f1024409ab6f0a3662f0f515",
       "max": 4,
       "style": "IPY_MODEL_9a1869704d7a48e3b26e80f244377358",
       "value": 4
      }
     }
    },
    "version_major": 2,
    "version_minor": 0
   }
  }
 },
 "nbformat": 4,
 "nbformat_minor": 5
}
