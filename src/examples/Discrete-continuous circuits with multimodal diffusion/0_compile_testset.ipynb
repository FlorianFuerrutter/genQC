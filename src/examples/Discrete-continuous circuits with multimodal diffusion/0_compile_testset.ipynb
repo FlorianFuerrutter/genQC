{
 "cells": [
  {
   "cell_type": "raw",
   "id": "c4e9a976-c6b5-4ce2-8e92-1dd7cee7c736",
   "metadata": {},
   "source": [
    "---\n",
    "categories:\n",
    "  - Unitary compilation\n",
    "  - Parameterized gates\n",
    "  - Quantum circuits\n",
    "  - Pretrained model\n",
    "---"
   ]
  },
  {
   "cell_type": "markdown",
   "id": "6c172f48-2011-45c9-ba09-b49edc98b7ec",
   "metadata": {},
   "source": [
    "# Compile unitaries with parametrized circuits\n",
    "\n",
    "> A short tutorial showing unitary compilation with parametrized circuits."
   ]
  },
  {
   "cell_type": "code",
   "execution_count": null,
   "id": "24ecd66b-9552-4e9b-aa68-ce292444d85e",
   "metadata": {},
   "outputs": [],
   "source": [
    "from genQC.imports import *\n",
    "import genQC.utils.misc_utils as util\n",
    "\n",
    "from genQC.dataset.config_dataset import ConfigDataset\n",
    "from genQC.pipeline.multimodal_diffusion_pipeline import MultimodalDiffusionPipeline_ParametrizedCompilation\n",
    "from genQC.scheduler.scheduler_dpm import DPMScheduler\n",
    "\n",
    "from genQC.platform.tokenizer.circuits_tokenizer import CircuitTokenizer\n",
    "from genQC.platform.simulation import Simulator, CircuitBackendType\n",
    "from genQC.inference.sampling import decode_tensors_to_backend, generate_compilation_tensors\n",
    "from genQC.inference.evaluation_helper import get_unitaries\n",
    "from genQC.inference.eval_metrics import UnitaryInfidelityNorm\n",
    "from genQC.dataset.balancing import get_tensor_gate_length"
   ]
  },
  {
   "cell_type": "code",
   "execution_count": null,
   "id": "5ae966b5-0f67-4ffe-9d2b-ed0f23c7c383",
   "metadata": {},
   "outputs": [
    {
     "name": "stdout",
     "output_type": "stream",
     "text": [
      "[INFO]: Cuda device has a capability of 8.6 (>= 8), allowing tf32 matmul.\n"
     ]
    },
    {
     "data": {
      "text/plain": [
       "device(type='cuda')"
      ]
     },
     "execution_count": null,
     "metadata": {},
     "output_type": "execute_result"
    }
   ],
   "source": [
    "util.MemoryCleaner.purge_mem()      # clean existing memory alloc\n",
    "device = util.infer_torch_device()  # use cuda if we can\n",
    "device"
   ]
  },
  {
   "cell_type": "code",
   "execution_count": null,
   "id": "f903ecdc-f07c-4e0a-8fc9-1d1bea2bfec5",
   "metadata": {},
   "outputs": [],
   "source": [
    "# We set a seed to pytorch, numpy and python. \n",
    "# Note: This will also set deterministic algorithms, possibly at the cost of reduced performance!\n",
    "util.set_seed(0)"
   ]
  },
  {
   "cell_type": "markdown",
   "id": "73b1255b-b440-4bb9-89fc-c864fbcafaa1",
   "metadata": {},
   "source": [
    "## Load model"
   ]
  },
  {
   "cell_type": "markdown",
   "id": "39db6391-1b4f-41ec-b0ef-4e3350c5d790",
   "metadata": {},
   "source": [
    "Load the pre-trained model directly from [Hugging Face: Floki00/cirdit_multimodal_compile_3to5qubit](https://huggingface.co/Floki00/cirdit_multimodal_compile_3to5qubit)."
   ]
  },
  {
   "cell_type": "code",
   "execution_count": null,
   "id": "6ff4eb91-6929-4d54-b6e5-38f6d7b18fdf",
   "metadata": {},
   "outputs": [],
   "source": [
    "pipeline = MultimodalDiffusionPipeline_ParametrizedCompilation.from_pretrained(\"Floki00/cirdit_multimodal_compile_3to5qubit\", device)"
   ]
  },
  {
   "cell_type": "markdown",
   "id": "03202ede-a4a0-431c-877e-d308604c6901",
   "metadata": {},
   "source": [
    "The model is trained with the gate set:"
   ]
  },
  {
   "cell_type": "code",
   "execution_count": null,
   "id": "e4992c91-8f21-48d8-80d2-d156f883133e",
   "metadata": {},
   "outputs": [
    {
     "data": {
      "text/plain": [
       "['h', 'cx', 'ccx', 'swap', 'rx', 'ry', 'rz', 'cp']"
      ]
     },
     "execution_count": null,
     "metadata": {},
     "output_type": "execute_result"
    }
   ],
   "source": [
    "pipeline.gate_pool"
   ]
  },
  {
   "cell_type": "markdown",
   "id": "5f48f11f-f215-481c-9f36-60a34b36e97f",
   "metadata": {},
   "source": [
    "which we need in order to define the `vocabulary`, allowing us to decode tokenized circuits."
   ]
  },
  {
   "cell_type": "code",
   "execution_count": null,
   "id": "c97ddef1-173d-412c-a0b3-3a4e90edd299",
   "metadata": {},
   "outputs": [
    {
     "data": {
      "text/plain": [
       "{'h': 1, 'cx': 2, 'ccx': 3, 'swap': 4, 'rx': 5, 'ry': 6, 'rz': 7, 'cp': 8}"
      ]
     },
     "execution_count": null,
     "metadata": {},
     "output_type": "execute_result"
    }
   ],
   "source": [
    "vocabulary = {g:i+1 for i, g in enumerate(pipeline.gate_pool)} \n",
    "tokenizer  = CircuitTokenizer(vocabulary)\n",
    "tokenizer.vocabulary"
   ]
  },
  {
   "cell_type": "markdown",
   "id": "b4aab0b8-4f8a-49d4-989b-bc42cd9876e9",
   "metadata": {},
   "source": [
    "### Set inference parameters"
   ]
  },
  {
   "cell_type": "markdown",
   "id": "6ab1e4f6-9ae7-4711-825a-92ba96b28d74",
   "metadata": {},
   "source": [
    "Set diffusion model inference parameters."
   ]
  },
  {
   "cell_type": "code",
   "execution_count": null,
   "id": "f7592401-ab32-4beb-8727-42c02d9584b0",
   "metadata": {},
   "outputs": [],
   "source": [
    "pipeline.scheduler   = DPMScheduler.from_scheduler(pipeline.scheduler)\n",
    "pipeline.scheduler_w = DPMScheduler.from_scheduler(pipeline.scheduler_w)\n",
    "\n",
    "timesteps = 40\n",
    "pipeline.scheduler.set_timesteps(timesteps) \n",
    "pipeline.scheduler_w.set_timesteps(timesteps) \n",
    "\n",
    "pipeline.lambda_h = 1.0\n",
    "pipeline.lambda_w = 0.35\n",
    "pipeline.g_h = 0.3\n",
    "pipeline.g_w = 0.1"
   ]
  },
  {
   "cell_type": "markdown",
   "id": "953d070b-492c-44bd-b2fa-7f4b5b9630fa",
   "metadata": {},
   "source": [
    "We assume in this tutorial circuits of 4 qubits."
   ]
  },
  {
   "cell_type": "code",
   "execution_count": null,
   "id": "51a147e1-543c-49d2-a3b6-4f5c2b8f41d2",
   "metadata": {},
   "outputs": [],
   "source": [
    "num_of_samples_per_U = 32  # How many circuits we sample per unitary\n",
    "num_of_qubits = 4\n",
    "\n",
    "prompt = \"Compile 4 qubits using: ['h', 'cx', 'ccx', 'swap', 'rx', 'ry', 'rz', 'cp']\"\n",
    "\n",
    "# These parameters are specific to our pre-trained model.\n",
    "system_size   = 5\n",
    "max_gates     = 32"
   ]
  },
  {
   "cell_type": "markdown",
   "id": "7b2fa84f-94c1-4032-9bdc-b10284c4a68a",
   "metadata": {},
   "source": [
    "For evaluation, we also need a circuit simulator backend."
   ]
  },
  {
   "cell_type": "code",
   "execution_count": null,
   "id": "7920f4e9-0376-448c-9159-2d3095c35aaa",
   "metadata": {},
   "outputs": [],
   "source": [
    "simulator = Simulator(CircuitBackendType.QISKIT)"
   ]
  },
  {
   "cell_type": "markdown",
   "id": "b0060705-6d0d-4d48-95c0-988f700bb3f8",
   "metadata": {},
   "source": [
    "## Load test unitaries"
   ]
  },
  {
   "cell_type": "markdown",
   "id": "827a7eae-3585-45a0-a611-01bc8b4c1c5d",
   "metadata": {},
   "source": [
    "We load a balanced testset directly from [Hugging Face: Floki00/unitary_compilation_testset_3to5qubit](https://huggingface.co/datasets/Floki00/unitary_compilation_testset_3to5qubit)."
   ]
  },
  {
   "cell_type": "code",
   "execution_count": null,
   "id": "118357f2-6340-4667-983c-0b250a08ec4c",
   "metadata": {},
   "outputs": [],
   "source": [
    "testset = ConfigDataset.from_huggingface(\"Floki00/unitary_compilation_testset_3to5qubit\", device=\"cpu\")"
   ]
  },
  {
   "cell_type": "markdown",
   "id": "ae9737d4-ef9a-4757-b351-ddaa8625aa67",
   "metadata": {},
   "source": [
    "We pick the 4 qubit circuits as test cases for this tutorial."
   ]
  },
  {
   "cell_type": "code",
   "execution_count": null,
   "id": "d61708c5-3e8e-4782-8a02-37abfa2315ec",
   "metadata": {},
   "outputs": [],
   "source": [
    "target_xs = testset.xs_4qubits  # tokenized circuit\n",
    "target_ps = testset.ps_4qubits  # circuit angle paramters\n",
    "target_us = testset.us_4qubits.float()  # corresponding unitaries, "
   ]
  },
  {
   "cell_type": "markdown",
   "id": "dea0df41-ca38-438f-a60a-c158427065ac",
   "metadata": {},
   "source": [
    "For 4 qubits the unitary is a 16x16 matrix. Complex numbers are split into 2 channels (real, imag)."
   ]
  },
  {
   "cell_type": "code",
   "execution_count": null,
   "id": "d9e7035c-0a07-4c9f-bbf4-aaa10784cb8c",
   "metadata": {},
   "outputs": [
    {
     "data": {
      "text/plain": [
       "torch.Size([3947, 2, 16, 16])"
      ]
     },
     "execution_count": null,
     "metadata": {},
     "output_type": "execute_result"
    }
   ],
   "source": [
    "target_us.shape  # [batch, 2, 2^n, 2^n]"
   ]
  },
  {
   "cell_type": "markdown",
   "id": "01beefbe-5d31-4744-b5cc-0c3897781c8b",
   "metadata": {},
   "source": [
    "A random circuit may look like this:"
   ]
  },
  {
   "cell_type": "code",
   "execution_count": null,
   "id": "0da110b2-4894-4f6b-9a1c-cd50c69fb455",
   "metadata": {},
   "outputs": [
    {
     "data": {
      "image/png": "[encoded data removed]",
      "text/plain": [
       "<Figure size 1040x367.889 with 1 Axes>"
      ]
     },
     "execution_count": null,
     "metadata": {},
     "output_type": "execute_result"
    }
   ],
   "source": [
    "rnd_index = torch.randint(target_us.shape[0], (1, ))\n",
    "\n",
    "qc_list, _ = decode_tensors_to_backend(simulator, tokenizer, target_xs[rnd_index], target_ps[rnd_index])\n",
    "qc_list[0].draw(\"mpl\")"
   ]
  },
  {
   "cell_type": "markdown",
   "id": "6975d819-7f39-4942-b185-1d82275b5eef",
   "metadata": {},
   "source": [
    "Next, we further restrict to circuits with a maximum of 16 gates. "
   ]
  },
  {
   "cell_type": "code",
   "execution_count": null,
   "id": "9f862cd3-590b-4528-aed8-786558e460c0",
   "metadata": {},
   "outputs": [],
   "source": [
    "gate_cnts = get_tensor_gate_length(target_xs)\n",
    "\n",
    "ind = (gate_cnts <= 16).nonzero().squeeze()\n",
    "target_xs = target_xs[ind] \n",
    "target_ps = target_ps[ind]  \n",
    "target_us = target_us[ind] "
   ]
  },
  {
   "cell_type": "markdown",
   "id": "6017c08b-11c0-4827-bce2-066bc16a13ac",
   "metadata": {},
   "source": [
    "We plot the distribution of the gate counts for this testset, seeing it is uniformly balanced."
   ]
  },
  {
   "cell_type": "code",
   "execution_count": null,
   "id": "4407e4ba-90c0-49ab-a1b6-cf988eee8b5d",
   "metadata": {},
   "outputs": [
    {
     "data": {
      "image/png": "[encoded data removed]",
      "text/plain": [
       "<Figure size 640x480 with 1 Axes>"
      ]
     },
     "metadata": {},
     "output_type": "display_data"
    }
   ],
   "source": [
    "gate_cnts = get_tensor_gate_length(target_xs)\n",
    "\n",
    "d = np.bincount(gate_cnts)\n",
    "plt.bar(range(d.size), d)\n",
    "plt.xlabel(\"Number of gates\", fontsize=13)\n",
    "plt.ylabel(\"Frequency\", fontsize=13)\n",
    "plt.show()"
   ]
  },
  {
   "cell_type": "markdown",
   "id": "7835d6ad-03d1-4a7b-ab89-939b187468a5",
   "metadata": {},
   "source": [
    "## Compile a single unitary"
   ]
  },
  {
   "cell_type": "markdown",
   "id": "142811b8-e9e7-433f-90d2-1f1adf8be00b",
   "metadata": {},
   "source": [
    "First, we want to compile a single unitary for 4 qubits from the testset. We pick one with 8 gates."
   ]
  },
  {
   "cell_type": "code",
   "execution_count": null,
   "id": "76c28d9d-9420-4197-bbe2-d8a99a879696",
   "metadata": {},
   "outputs": [
    {
     "data": {
      "image/png": "[encoded data removed]",
      "text/plain": [
       "<Figure size 789.163x367.889 with 1 Axes>"
      ]
     },
     "execution_count": null,
     "metadata": {},
     "output_type": "execute_result"
    }
   ],
   "source": [
    "ind = (gate_cnts == 8).nonzero().squeeze()[:1]\n",
    "\n",
    "qc_list, _ = decode_tensors_to_backend(simulator, tokenizer, target_xs[ind], target_ps[ind])\n",
    "qc_list[0].draw(\"mpl\")"
   ]
  },
  {
   "cell_type": "code",
   "execution_count": null,
   "id": "6dbf2639-9bcb-402f-89bd-bdfef47a5d29",
   "metadata": {},
   "outputs": [
    {
     "data": {
      "application/vnd.jupyter.widget-view+json": {
       "model_id": "1d212f97803d4180bc93e2ccc8277855",
       "version_major": 2,
       "version_minor": 0
      },
      "text/plain": [
       "  0%|          | 0/40 [00:00<?, ?it/s]"
      ]
     },
     "metadata": {},
     "output_type": "display_data"
    },
    {
     "name": "stdout",
     "output_type": "stream",
     "text": [
      "[INFO]: (generate_comp_tensors) Generated 32 tensors\n"
     ]
    }
   ],
   "source": [
    "U = target_us[ind].squeeze()\n",
    "\n",
    "out_tensor, params = generate_compilation_tensors(pipeline, \n",
    "                                                  prompt=prompt, \n",
    "                                                  U=U, \n",
    "                                                  samples=num_of_samples_per_U, \n",
    "                                                  system_size=system_size, \n",
    "                                                  num_of_qubits=num_of_qubits, \n",
    "                                                  max_gates=max_gates,\n",
    "                                                  no_bar=False,  # show progress bar\n",
    "                                                 )"
   ]
  },
  {
   "cell_type": "markdown",
   "id": "2fad5657-9483-417d-a49a-af9825a12237",
   "metadata": {},
   "source": [
    "For instance, a circuit tensor alongside parameters the model generated looks like this"
   ]
  },
  {
   "cell_type": "code",
   "execution_count": null,
   "id": "38513404-0da1-4ca6-b9be-1e1706fc9010",
   "metadata": {},
   "outputs": [
    {
     "name": "stdout",
     "output_type": "stream",
     "text": [
      "tensor([[ 7,  8,  0, -3,  1,  0,  0,  0,  9,  9,  9,  9,  9,  9,  9,  9,  9,  9,  9,  9,  9,  9,  9,  9,  9,  9,  9,  9,  9,  9,  9,  9],\n",
      "        [ 0,  8,  0, -3,  0,  7,  4,  0,  9,  9,  9,  9,  9,  9,  9,  9,  9,  9,  9,  9,  9,  9,  9,  9,  9,  9,  9,  9,  9,  9,  9,  9],\n",
      "        [ 0,  0,  4,  3,  0,  0,  4,  0,  9,  9,  9,  9,  9,  9,  9,  9,  9,  9,  9,  9,  9,  9,  9,  9,  9,  9,  9,  9,  9,  9,  9,  9],\n",
      "        [ 0,  0,  4,  0,  0,  0,  0,  1,  9,  9,  9,  9,  9,  9,  9,  9,  9,  9,  9,  9,  9,  9,  9,  9,  9,  9,  9,  9,  9,  9,  9,  9]], device='cuda:0')\n",
      "tensor([[ 0.2794,  0.1956,  0.0000,  0.0000,  0.0000, -0.3857,  0.0000,  0.0000,  0.0000,  0.0000,  0.0000,  0.0000,  0.0000,  0.0000,  0.0000,  0.0000,  0.0000,  0.0000,  0.0000,  0.0000,  0.0000,\n",
      "          0.0000,  0.0000,  0.0000,  0.0000,  0.0000,  0.0000,  0.0000,  0.0000,  0.0000,  0.0000,  0.0000]], device='cuda:0')\n"
     ]
    }
   ],
   "source": [
    "print(out_tensor[0])\n",
    "print(params[0])"
   ]
  },
  {
   "cell_type": "markdown",
   "id": "f67664dd-3644-468d-8ada-ec51216e4d82",
   "metadata": {},
   "source": [
    "### Evaluate and plot circuits"
   ]
  },
  {
   "cell_type": "markdown",
   "id": "bb08c4b1-c2e6-420a-8f76-91dd7bb139ba",
   "metadata": {},
   "source": [
    "We decode these now to circuits and calculate their unitaries"
   ]
  },
  {
   "cell_type": "code",
   "execution_count": null,
   "id": "400c673d-89d9-455f-b911-e2e7b9e8535b",
   "metadata": {},
   "outputs": [],
   "source": [
    "generated_qc_list, _ = decode_tensors_to_backend(simulator, tokenizer, out_tensor, params)\n",
    "generated_us         = get_unitaries(simulator, generated_qc_list)"
   ]
  },
  {
   "cell_type": "markdown",
   "id": "fa287539-98c8-42e6-b4f3-92d2577ca3c2",
   "metadata": {},
   "source": [
    "We then evaluate the unitary infidelity to our target `U`."
   ]
  },
  {
   "cell_type": "code",
   "execution_count": null,
   "id": "6f672f64-9f77-4241-abe9-0013e374936d",
   "metadata": {},
   "outputs": [],
   "source": [
    "U_norms = UnitaryInfidelityNorm.distance(\n",
    "                    approx_U=torch.from_numpy(np.stack(generated_us)).to(torch.complex128), \n",
    "                    target_U=torch.complex(U[0], U[1]).unsqueeze(0).to(torch.complex128),\n",
    "                )"
   ]
  },
  {
   "cell_type": "markdown",
   "id": "866aea78-4078-471a-a50a-9287dec78afc",
   "metadata": {},
   "source": [
    "We plot the four best ciruits, w.r.t. the infidelity:"
   ]
  },
  {
   "cell_type": "code",
   "execution_count": null,
   "id": "e4d3c2cd-3dee-4459-9054-116bb863453f",
   "metadata": {},
   "outputs": [
    {
     "data": {
      "image/png": "[encoded data removed]",
      "text/plain": [
       "<Figure size 1500x300 with 4 Axes>"
      ]
     },
     "metadata": {},
     "output_type": "display_data"
    }
   ],
   "source": [
    "plot_k_best = 4\n",
    "\n",
    "idx = np.argsort(U_norms)\n",
    "fig, axs = plt.subplots(1, plot_k_best, figsize=(10, 2), constrained_layout=True, dpi=150)\n",
    "\n",
    "for i, (idx_i, ax) in enumerate(zip(idx[:plot_k_best], axs.flatten())): \n",
    "    ax.clear()\n",
    "    generated_qc_list[idx_i].draw(\"mpl\", plot_barriers=False, ax=ax)\n",
    "    ax.set_title(f\"The {i+1}. best circuit: \\n infidelity {U_norms[idx_i]:0.1e}.\", fontsize=10)"
   ]
  },
  {
   "cell_type": "markdown",
   "id": "83e74d47-2ea6-4489-8db8-1c12f911cee4",
   "metadata": {},
   "source": [
    "## Compile testset unitaries"
   ]
  },
  {
   "cell_type": "markdown",
   "id": "d5ba0233-747b-4010-905b-724cdf98aa16",
   "metadata": {},
   "source": [
    "To get an overall performance estimation, we compile multiple unitaries, record the best infidelities and plot the distribution."
   ]
  },
  {
   "cell_type": "markdown",
   "id": "b113a7bc-e33d-47be-9e0d-08e5676ce3fd",
   "metadata": {},
   "source": [
    "### Generate tensors"
   ]
  },
  {
   "cell_type": "markdown",
   "id": "0365b747-1bf9-445d-a2f9-e6926df11732",
   "metadata": {},
   "source": [
    "To keep the tutorial short in computation time, we only take a few unitaries here, but this can be adjusted by the user to use the full testset."
   ]
  },
  {
   "cell_type": "code",
   "execution_count": null,
   "id": "26bb8354-af39-4059-a468-b9bc744dab09",
   "metadata": {},
   "outputs": [],
   "source": [
    "Us = target_us[:16]"
   ]
  },
  {
   "cell_type": "code",
   "execution_count": null,
   "id": "eb331ca2-b61a-4f3b-88e4-4b37a4a11886",
   "metadata": {},
   "outputs": [
    {
     "data": {
      "application/vnd.jupyter.widget-view+json": {
       "model_id": "41ecaa3e39064fdabb2618c82cc2c817",
       "version_major": 2,
       "version_minor": 0
      },
      "text/plain": [
       "  0%|          | 0/16 [00:00<?, ?it/s]"
      ]
     },
     "metadata": {},
     "output_type": "display_data"
    }
   ],
   "source": [
    "best_infidelities = []\n",
    "\n",
    "for U in tqdm(Us):\n",
    "    out_tensor, params = generate_compilation_tensors(pipeline, \n",
    "                                                      prompt=prompt, \n",
    "                                                      U=U, \n",
    "                                                      samples=num_of_samples_per_U, \n",
    "                                                      system_size=system_size, \n",
    "                                                      num_of_qubits=num_of_qubits, \n",
    "                                                      max_gates=max_gates\n",
    "                                                     )\n",
    "\n",
    "    generated_qc_list, _ = decode_tensors_to_backend(simulator, tokenizer, out_tensor, params)\n",
    "    generated_us         = get_unitaries(simulator, generated_qc_list)\n",
    "\n",
    "    U_norms = UnitaryInfidelityNorm.distance(\n",
    "                    approx_U=torch.from_numpy(np.stack(generated_us)).to(torch.complex128), \n",
    "                    target_U=torch.complex(U[0], U[1]).unsqueeze(0).to(torch.complex128),\n",
    "                )\n",
    "\n",
    "    best_infidelities.append(U_norms.min())"
   ]
  },
  {
   "cell_type": "markdown",
   "id": "3696b804-cc4f-418a-976e-9180bc70334e",
   "metadata": {},
   "source": [
    "### Plot infidelities"
   ]
  },
  {
   "cell_type": "markdown",
   "id": "519e4e8d-ca3a-45a7-a25d-89cc6a1ce7e7",
   "metadata": {},
   "source": [
    "For the compiled unitaries, we get the following distribution of the best infidelities."
   ]
  },
  {
   "cell_type": "code",
   "execution_count": null,
   "id": "5b27912e-28db-44c5-b2bf-aa57f8491c41",
   "metadata": {},
   "outputs": [
    {
     "data": {
      "image/png": "[encoded data removed]",
      "text/plain": [
       "<Figure size 1050x450 with 1 Axes>"
      ]
     },
     "metadata": {},
     "output_type": "display_data"
    }
   ],
   "source": [
    "plt.figure(figsize=(7, 3), constrained_layout=True, dpi=150)\n",
    "plt.title(f\"Best infidelities of {len(best_infidelities)} unitaries, with {num_of_samples_per_U} circuits sampled per unitary.\")\n",
    "plt.xlabel(UnitaryInfidelityNorm.name(), fontsize=13)\n",
    "plt.ylabel(\"Frequency\", fontsize=13)\n",
    "plt.hist(best_infidelities, bins=60)\n",
    "plt.xlim([-0.05, 1.05])\n",
    "plt.show()"
   ]
  },
  {
   "cell_type": "code",
   "execution_count": null,
   "id": "d6c5de55-7f37-4b51-9308-e1908b675326",
   "metadata": {},
   "outputs": [],
   "source": []
  },
  {
   "cell_type": "code",
   "execution_count": null,
   "id": "8c9909e3-a035-46f7-8979-44be322a5fe0",
   "metadata": {},
   "outputs": [
    {
     "name": "stdout",
     "output_type": "stream",
     "text": [
      "genQC Version 0.2.0\n"
     ]
    }
   ],
   "source": [
    "import genQC\n",
    "print(\"genQC Version\", genQC.__version__)"
   ]
  },
  {
   "cell_type": "code",
   "execution_count": null,
   "id": "745e9097-b8fb-4621-af9e-e115630c5a1d",
   "metadata": {},
   "outputs": [],
   "source": []
  }
 ],
 "metadata": {
  "kernelspec": {
   "display_name": "python3",
   "language": "python",
   "name": "python3"
  },
  "widgets": {
   "application/vnd.jupyter.widget-state+json": {
    "state": {
     "10aa5cc8502446c0ba1d3917ecd6790c": {
      "model_module": "@jupyter-widgets/controls",
      "model_module_version": "2.0.0",
      "model_name": "HTMLStyleModel",
      "state": {
       "description_width": "",
       "font_size": null,
       "text_color": null
      }
     },
     "13d1f24a857c4b97b07ec36fe2b2f3e8": {
      "model_module": "@jupyter-widgets/base",
      "model_module_version": "2.0.0",
      "model_name": "LayoutModel",
      "state": {}
     },
     "16846c1990e24e3b9b246ca483e670aa": {
      "model_module": "@jupyter-widgets/controls",
      "model_module_version": "2.0.0",
      "model_name": "HTMLStyleModel",
      "state": {
       "description_width": "",
       "font_size": null,
       "text_color": null
      }
     },
     "173f24fff9024479b51f8642c2a20890": {
      "model_module": "@jupyter-widgets/controls",
      "model_module_version": "2.0.0",
      "model_name": "HTMLModel",
      "state": {
       "layout": "IPY_MODEL_d3fb9ba04cbe4258b54914829554616d",
       "style": "IPY_MODEL_4e66f780d7154ec4b7984ea9d58a94d8",
       "value": " 40/40 [00:15&lt;00:00,  2.67it/s]"
      }
     },
     "1d212f97803d4180bc93e2ccc8277855": {
      "model_module": "@jupyter-widgets/controls",
      "model_module_version": "2.0.0",
      "model_name": "HBoxModel",
      "state": {
       "children": [
        "IPY_MODEL_5098ae4c3dbd4e2daadd9a7cd3358c29",
        "IPY_MODEL_dc6cbcb4369a41e69129099a53150b72",
        "IPY_MODEL_173f24fff9024479b51f8642c2a20890"
       ],
       "layout": "IPY_MODEL_840bce2699264e83a13ef0f0e5a46f2e"
      }
     },
     "26b2f763e7fe47fb92bac12432a45adc": {
      "model_module": "@jupyter-widgets/controls",
      "model_module_version": "2.0.0",
      "model_name": "HTMLModel",
      "state": {
       "layout": "IPY_MODEL_5bc6d07104954da5835822c034ed472f",
       "style": "IPY_MODEL_d08e198700c640f8bafd47ce5af3182d",
       "value": " 16/16 [04:08&lt;00:00, 15.70s/it]"
      }
     },
     "363950db340a4e0796907fa34e41d56d": {
      "model_module": "@jupyter-widgets/base",
      "model_module_version": "2.0.0",
      "model_name": "LayoutModel",
      "state": {}
     },
     "41ecaa3e39064fdabb2618c82cc2c817": {
      "model_module": "@jupyter-widgets/controls",
      "model_module_version": "2.0.0",
      "model_name": "HBoxModel",
      "state": {
       "children": [
        "IPY_MODEL_bafdd6a005834225a60dc2d1e061aa64",
        "IPY_MODEL_d580fa8c95e949a0a71e6341a5e0ec2e",
        "IPY_MODEL_26b2f763e7fe47fb92bac12432a45adc"
       ],
       "layout": "IPY_MODEL_13d1f24a857c4b97b07ec36fe2b2f3e8"
      }
     },
     "48e5d282b12349388b6fdec4929adfdb": {
      "model_module": "@jupyter-widgets/base",
      "model_module_version": "2.0.0",
      "model_name": "LayoutModel",
      "state": {}
     },
     "4e66f780d7154ec4b7984ea9d58a94d8": {
      "model_module": "@jupyter-widgets/controls",
      "model_module_version": "2.0.0",
      "model_name": "HTMLStyleModel",
      "state": {
       "description_width": "",
       "font_size": null,
       "text_color": null
      }
     },
     "5098ae4c3dbd4e2daadd9a7cd3358c29": {
      "model_module": "@jupyter-widgets/controls",
      "model_module_version": "2.0.0",
      "model_name": "HTMLModel",
      "state": {
       "layout": "IPY_MODEL_aa556319d474425f9a0f1f28b45bbe1a",
       "style": "IPY_MODEL_16846c1990e24e3b9b246ca483e670aa",
       "value": "100%"
      }
     },
     "5bc6d07104954da5835822c034ed472f": {
      "model_module": "@jupyter-widgets/base",
      "model_module_version": "2.0.0",
      "model_name": "LayoutModel",
      "state": {}
     },
     "616b4af59c894e58afe303d3dbbaf8c1": {
      "model_module": "@jupyter-widgets/controls",
      "model_module_version": "2.0.0",
      "model_name": "HTMLStyleModel",
      "state": {
       "description_width": "",
       "font_size": null,
       "text_color": null
      }
     },
     "6dbaefdf5c8e48c28cd867610e6ca21a": {
      "model_module": "@jupyter-widgets/controls",
      "model_module_version": "2.0.0",
      "model_name": "HTMLModel",
      "state": {
       "layout": "IPY_MODEL_721b89bfef704fe7a381047f9c8f4c8c",
       "style": "IPY_MODEL_10aa5cc8502446c0ba1d3917ecd6790c",
       "value": "Fetching 4 files: 100%"
      }
     },
     "721b89bfef704fe7a381047f9c8f4c8c": {
      "model_module": "@jupyter-widgets/base",
      "model_module_version": "2.0.0",
      "model_name": "LayoutModel",
      "state": {}
     },
     "803c865f87fd4693bd655a8f82195f8f": {
      "model_module": "@jupyter-widgets/controls",
      "model_module_version": "2.0.0",
      "model_name": "ProgressStyleModel",
      "state": {
       "description_width": ""
      }
     },
     "836761d0b78f459c98dfbf1e90db4711": {
      "model_module": "@jupyter-widgets/controls",
      "model_module_version": "2.0.0",
      "model_name": "ProgressStyleModel",
      "state": {
       "description_width": ""
      }
     },
     "840bce2699264e83a13ef0f0e5a46f2e": {
      "model_module": "@jupyter-widgets/base",
      "model_module_version": "2.0.0",
      "model_name": "LayoutModel",
      "state": {}
     },
     "8a2c3bff466c4dd683f7a4162a39e5d8": {
      "model_module": "@jupyter-widgets/base",
      "model_module_version": "2.0.0",
      "model_name": "LayoutModel",
      "state": {}
     },
     "8e6a61b9182c484fa1ea066833ffdb70": {
      "model_module": "@jupyter-widgets/base",
      "model_module_version": "2.0.0",
      "model_name": "LayoutModel",
      "state": {}
     },
     "93e3597245eb4104885fde076800959a": {
      "model_module": "@jupyter-widgets/controls",
      "model_module_version": "2.0.0",
      "model_name": "HBoxModel",
      "state": {
       "children": [
        "IPY_MODEL_6dbaefdf5c8e48c28cd867610e6ca21a",
        "IPY_MODEL_d109cd9c508546b79fd97126c9172a9f",
        "IPY_MODEL_b2f7f31612984c84a20353334cefd4b1"
       ],
       "layout": "IPY_MODEL_bcbe8bfcb5264f388d7d942c24d7ebd3"
      }
     },
     "9fbfde92ec4d4e1c9c6a824cbfaabbbf": {
      "model_module": "@jupyter-widgets/controls",
      "model_module_version": "2.0.0",
      "model_name": "ProgressStyleModel",
      "state": {
       "description_width": ""
      }
     },
     "aa556319d474425f9a0f1f28b45bbe1a": {
      "model_module": "@jupyter-widgets/base",
      "model_module_version": "2.0.0",
      "model_name": "LayoutModel",
      "state": {}
     },
     "b2f7f31612984c84a20353334cefd4b1": {
      "model_module": "@jupyter-widgets/controls",
      "model_module_version": "2.0.0",
      "model_name": "HTMLModel",
      "state": {
       "layout": "IPY_MODEL_48e5d282b12349388b6fdec4929adfdb",
       "style": "IPY_MODEL_b31576e33c174944ac4c727ffecf7f28",
       "value": " 4/4 [00:00&lt;00:00, 800.17it/s]"
      }
     },
     "b31576e33c174944ac4c727ffecf7f28": {
      "model_module": "@jupyter-widgets/controls",
      "model_module_version": "2.0.0",
      "model_name": "HTMLStyleModel",
      "state": {
       "description_width": "",
       "font_size": null,
       "text_color": null
      }
     },
     "bafdd6a005834225a60dc2d1e061aa64": {
      "model_module": "@jupyter-widgets/controls",
      "model_module_version": "2.0.0",
      "model_name": "HTMLModel",
      "state": {
       "layout": "IPY_MODEL_ddf711e546d3441fb242aff8a2e86981",
       "style": "IPY_MODEL_616b4af59c894e58afe303d3dbbaf8c1",
       "value": "100%"
      }
     },
     "bcbe8bfcb5264f388d7d942c24d7ebd3": {
      "model_module": "@jupyter-widgets/base",
      "model_module_version": "2.0.0",
      "model_name": "LayoutModel",
      "state": {}
     },
     "d08e198700c640f8bafd47ce5af3182d": {
      "model_module": "@jupyter-widgets/controls",
      "model_module_version": "2.0.0",
      "model_name": "HTMLStyleModel",
      "state": {
       "description_width": "",
       "font_size": null,
       "text_color": null
      }
     },
     "d109cd9c508546b79fd97126c9172a9f": {
      "model_module": "@jupyter-widgets/controls",
      "model_module_version": "2.0.0",
      "model_name": "FloatProgressModel",
      "state": {
       "bar_style": "success",
       "layout": "IPY_MODEL_8e6a61b9182c484fa1ea066833ffdb70",
       "max": 4,
       "style": "IPY_MODEL_9fbfde92ec4d4e1c9c6a824cbfaabbbf",
       "value": 4
      }
     },
     "d3fb9ba04cbe4258b54914829554616d": {
      "model_module": "@jupyter-widgets/base",
      "model_module_version": "2.0.0",
      "model_name": "LayoutModel",
      "state": {}
     },
     "d580fa8c95e949a0a71e6341a5e0ec2e": {
      "model_module": "@jupyter-widgets/controls",
      "model_module_version": "2.0.0",
      "model_name": "FloatProgressModel",
      "state": {
       "bar_style": "success",
       "layout": "IPY_MODEL_363950db340a4e0796907fa34e41d56d",
       "max": 16,
       "style": "IPY_MODEL_836761d0b78f459c98dfbf1e90db4711",
       "value": 16
      }
     },
     "dc6cbcb4369a41e69129099a53150b72": {
      "model_module": "@jupyter-widgets/controls",
      "model_module_version": "2.0.0",
      "model_name": "FloatProgressModel",
      "state": {
       "bar_style": "success",
       "layout": "IPY_MODEL_8a2c3bff466c4dd683f7a4162a39e5d8",
       "max": 40,
       "style": "IPY_MODEL_803c865f87fd4693bd655a8f82195f8f",
       "value": 40
      }
     },
     "ddf711e546d3441fb242aff8a2e86981": {
      "model_module": "@jupyter-widgets/base",
      "model_module_version": "2.0.0",
      "model_name": "LayoutModel",
      "state": {}
     }
    },
    "version_major": 2,
    "version_minor": 0
   }
  }
 },
 "nbformat": 4,
 "nbformat_minor": 5
}
