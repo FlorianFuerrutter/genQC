{
 "cells": [
  {
   "cell_type": "markdown",
   "metadata": {},
   "source": [
    "# genQC &middot; Generative Quantum Circuits\n",
    "\n",
    "> Generating quantum circuits with diffusion models"
   ]
  },
  {
   "cell_type": "markdown",
   "metadata": {},
   "source": [
    "<p align=\"left\">\n",
    "  <a><img src=\"https://img.shields.io/badge/python-3.12-red\" alt=\"python-3.12\"></a>\n",
    "  <a href=\"https://doi.org/10.5281/zenodo.10282060\"><img src=\"https://zenodo.org/badge/DOI/10.5281/zenodo.10282060.svg\" alt=\"DOI\"></a>\n",
    "  <a href=\"https://florianfuerrutter.github.io/genQC\"><img src=\"https://img.shields.io/badge/Documentation-c\" alt=\"https://florianfuerrutter.github.io/genQC\"></a>\n",
    "  <a href=\"https://huggingface.co/collections/Floki00/\"><img src=\"https://img.shields.io/badge/%F0%9F%A4%97%20Hugging%20Face-Models_and_datasets-orange\" alt=\"huggingface.co/collections/Floki00\"></a>\n",
    "  <a href=\"https://huggingface.co/spaces/Floki00/genQC\"><img src=\"https://img.shields.io/badge/%F0%9F%A4%97%20Hugging%20Face-Online_Demo-blue\" alt=\"Online_Demo\"></a>\n",
    "</p>"
   ]
  },
  {
   "cell_type": "markdown",
   "metadata": {},
   "source": [
    "Code repository for generating quantum circuits with diffusion models."
   ]
  },
  {
   "cell_type": "markdown",
   "metadata": {},
   "source": [
    "![Generation process for 4-qubit QFT.](https://github.com/FlorianFuerrutter/genQC/blob/main/src/webpage/assets/qft_4qubit_circuit_15s_wpause.gif?raw=true)\n",
    "\n",
    "<!-- ![Generation process for 4-qubit QFT.](webpage/assets/qft_4qubit_circuit_15s_wpause.gif) -->\n",
    "<!-- ![](https://github.com/FlorianFuerrutter/genQC/blob/main/src/assets/inference.png?raw=true) -->"
   ]
  },
  {
   "cell_type": "markdown",
   "metadata": {},
   "source": [
    "## 📰 News"
   ]
  },
  {
   "cell_type": "markdown",
   "metadata": {},
   "source": [
    "- 🔥 [2025-06-02] Paper release: [Synthesis of discrete-continuous quantum circuits with multimodal diffusion models](https://www.arxiv.org/abs/2506.01666).\n",
    "- 🔥 [2025-06-01] *Discrete-continuous circuits with multimodal diffusion* - model released on [Hugging Face: huggingface.co/collections/Floki00](https://huggingface.co/collections/Floki00/discrete-continuous-circuits-with-multimodal-diffusion-6839c4e4553e56b957bbd5bf)."
   ]
  },
  {
   "cell_type": "markdown",
   "metadata": {},
   "source": [
    "## The codebase"
   ]
  },
  {
   "cell_type": "markdown",
   "metadata": {},
   "source": [
    "The code contained within this repo allows the sampling of pre-trained diffusion models and includes our pipeline to fine-tune and train models from scratch. Pre-trained weights can be found on [[Hugging Face]](https://huggingface.co/collections/Floki00/) and can be downloaded automatically via our code (see minimal example). For the text CLIP model weights we use the [`OpenCLIP`](https://github.com/mlfoundations/open_clip) library, which will download (and cache) the CLIP model on first usage of our pipeline. In case you prefer reading a documentation, rather than notebooks or code, see the project page under [[Documentation]](https://florianfuerrutter.github.io/genQC/)."
   ]
  },
  {
   "cell_type": "markdown",
   "metadata": {},
   "source": [
    "This repo inlcudes:\n",
    "\n",
    "1. `genQC/` a full release of our used diffusion pipeline.\n",
    "2. `src/examples/` examples and tutorials to show how to use the library.\n",
    "3. `src/` the source notebooks for [`nbdev`](https://github.com/fastai/nbdev)."
   ]
  },
  {
   "cell_type": "markdown",
   "metadata": {},
   "source": [
    "## Examples"
   ]
  },
  {
   "cell_type": "markdown",
   "metadata": {},
   "source": [
    "#### Minimal example"
   ]
  },
  {
   "cell_type": "markdown",
   "metadata": {},
   "source": [
    "A minimal example to compile the 4-qubit Quantum Fourier transform (QFT) unitary, using parameterized circuits."
   ]
  },
  {
   "cell_type": "code",
   "execution_count": null,
   "metadata": {},
   "outputs": [],
   "source": [
    "import torch\n",
    "from genQC.pipeline.multimodal_diffusion_pipeline import MultimodalDiffusionPipeline_ParametrizedCompilation\n",
    "from genQC.inference.sampling import generate_compilation_tensors, decode_tensors_to_backend\n",
    "from genQC.utils.misc_utils import infer_torch_device, set_seed\n",
    "from genQC.platform.tokenizer.circuits_tokenizer import CircuitTokenizer\n",
    "from genQC.benchmark.bench_compilation import SpecialUnitaries\n",
    "from genQC.platform.simulation import Simulator, CircuitBackendType\n",
    "\n",
    "device = infer_torch_device()\n",
    "set_seed(0)\n",
    "\n",
    "pipeline = MultimodalDiffusionPipeline_ParametrizedCompilation.from_pretrained(\n",
    "                                repo_id=\"Floki00/cirdit_multimodal_compile_3to5qubit\", \n",
    "                                device=device)\n",
    "\n",
    "pipeline.scheduler.set_timesteps(40) \n",
    "pipeline.scheduler_w.set_timesteps(40) \n",
    "\n",
    "pipeline.g_h, pipeline.g_w = 0.3, 0.1\n",
    "pipeline.lambda_h, pipeline.lambda_w = 1.0, 0.35\n",
    "\n",
    "U = SpecialUnitaries.QFT(num_qubits=4).to(torch.complex64)\n",
    "\n",
    "out_tensor, params = generate_compilation_tensors(pipeline, \n",
    "                          prompt=\"Compile 4 qubits using: ['h', 'cx', 'ccx', 'swap', 'rx', 'ry', 'rz', 'cp']\", \n",
    "                          U=U, \n",
    "                          samples=8, \n",
    "                          system_size=5, \n",
    "                          num_of_qubits=4, \n",
    "                          max_gates=32)"
   ]
  },
  {
   "cell_type": "code",
   "execution_count": null,
   "metadata": {},
   "outputs": [
    {
     "data": {
      "image/png": "[encoded data removed]",
      "text/plain": [
       "<Figure size 1792.5x367.889 with 1 Axes>"
      ]
     },
     "execution_count": null,
     "metadata": {},
     "output_type": "execute_result"
    }
   ],
   "source": [
    "vocabulary = {g:i+1 for i, g in enumerate(pipeline.gate_pool)} \n",
    "tokenizer  = CircuitTokenizer(vocabulary)\n",
    "simulator  = Simulator(CircuitBackendType.QISKIT)\n",
    "\n",
    "qc_list, _ = decode_tensors_to_backend(simulator, tokenizer, out_tensor, params)\n",
    "qc_list[0].draw(\"mpl\")"
   ]
  },
  {
   "cell_type": "markdown",
   "metadata": {},
   "source": [
    "#### Further examples"
   ]
  },
  {
   "cell_type": "markdown",
   "metadata": {},
   "source": [
    "More detailed examples and tutorial notebooks are provided on the project page [[tutorials]](https://florianfuerrutter.github.io/genQC/examples/tutorials.html) or in the directory `src/examples/`."
   ]
  },
  {
   "cell_type": "markdown",
   "metadata": {},
   "source": [
    "## Installation"
   ]
  },
  {
   "cell_type": "markdown",
   "metadata": {},
   "source": [
    "The installation of `genQC` is done via `pip` within a few minutes, depending on your downloading speed."
   ]
  },
  {
   "cell_type": "markdown",
   "metadata": {},
   "source": [
    "#### Method 1: pip install"
   ]
  },
  {
   "cell_type": "markdown",
   "metadata": {},
   "source": [
    "To install `genQC` just run:"
   ]
  },
  {
   "cell_type": "markdown",
   "metadata": {},
   "source": [
    "```sh\n",
    "pip install genQC\n",
    "```"
   ]
  },
  {
   "cell_type": "markdown",
   "metadata": {},
   "source": [
    "Note, this will install missing requirements automatically. You may want to install some of them manually beforehand, e.g. `torch` for specific cuda support, see [https://pytorch.org/get-started/locally/](https://pytorch.org/get-started/locally/)."
   ]
  },
  {
   "cell_type": "markdown",
   "metadata": {},
   "source": [
    "**Requirements:** `genQC` depends on `python` (min. version 3.12) and the libraries: `torch`, `numpy`, `matplotlib`, `scipy`, `omegaconf`, `qiskit`, `tqdm`, `joblib`, `open_clip_torch`, `ipywidgets`, `pylatexenc`, `safetensors`, `tensordict` and `huggingface_hub`. All can be installed with `pip install`. In `src/RELEASES.md` [[doc]](https://florianfuerrutter.github.io/genQC/RELEASES.html) and the [GitHub release descriptions](https://github.com/FlorianFuerrutter/genQC/releases), specific tested-on versions are listed."
   ]
  },
  {
   "cell_type": "markdown",
   "metadata": {},
   "source": [
    "#### Method 2: clone the repository"
   ]
  },
  {
   "cell_type": "markdown",
   "metadata": {},
   "source": [
    "To use the latest GitHub code, you can clone the repository by running: "
   ]
  },
  {
   "cell_type": "markdown",
   "metadata": {},
   "source": [
    "```sh\n",
    "git clone https://github.com/FlorianFuerrutter/genQC.git\n",
    "cd genQC\n",
    "```"
   ]
  },
  {
   "cell_type": "markdown",
   "metadata": {},
   "source": [
    "The library `genQC` is built using jupyter notebooks and [`nbdev`](https://github.com/fastai/nbdev). To install the library use in the clone directory:"
   ]
  },
  {
   "cell_type": "markdown",
   "metadata": {},
   "source": [
    "```sh\n",
    "pip install -e .\n",
    "```"
   ]
  },
  {
   "cell_type": "markdown",
   "metadata": {},
   "source": [
    "#### Test installation"
   ]
  },
  {
   "cell_type": "markdown",
   "metadata": {},
   "source": [
    "You can run the provided `src/examples/Quantum circuit synthesis with diffusion models/0_hello_circuit` [[doc]](https://florianfuerrutter.github.io/genQC/examples/Quantum%20circuit%20synthesis%20with%20diffusion%20models/hello_circuit.html) [[notebook]](https://github.com/FlorianFuerrutter/genQC/blob/main/src/examples/Quantum%20circuit%20synthesis%20with%20diffusion%20models/0_hello_circuit.ipynb) example to test your installation. On a computer with a moderate GPU this inference example notebook should run under half a minute. "
   ]
  },
  {
   "cell_type": "markdown",
   "metadata": {},
   "source": [
    "## License"
   ]
  },
  {
   "cell_type": "markdown",
   "metadata": {},
   "source": [
    "The code and weights in this repository are licensed under the [Apache License 2.0](https://github.com/FlorianFuerrutter/genQC/blob/main/LICENSE.txt)."
   ]
  },
  {
   "cell_type": "markdown",
   "metadata": {},
   "source": [
    "## BibTeX"
   ]
  },
  {
   "cell_type": "markdown",
   "metadata": {},
   "source": [
    "We kindly ask you to cite our paper if any of the previous material was useful for your work."
   ]
  },
  {
   "cell_type": "markdown",
   "metadata": {},
   "source": [
    "#### Quantum circuit synthesis with diffusion models\n",
    "\n",
    "``` latex\n",
    "@article{furrutter2024quantum,\n",
    "  title={Quantum circuit synthesis with diffusion models},\n",
    "  author={F{\\\"u}rrutter, Florian and Mu{\\~n}oz-Gil, Gorka and Briegel, Hans J},\n",
    "  journal={Nature Machine Intelligence},\n",
    "  doi = {https://doi.org/10.1038/s42256-024-00831-9},\n",
    "  vol = {6},\n",
    "  pages = {515-–524},\n",
    "  pages={1--10},\n",
    "  year={2024},\n",
    "  publisher={Nature Publishing Group UK London}\n",
    "}\n",
    "```"
   ]
  },
  {
   "cell_type": "code",
   "execution_count": null,
   "metadata": {},
   "outputs": [],
   "source": []
  }
 ],
 "metadata": {
  "kernelspec": {
   "display_name": "python3",
   "language": "python",
   "name": "python3"
  },
  "widgets": {
   "application/vnd.jupyter.widget-state+json": {
    "state": {
     "146e96bf002d4819bcaa45f1c16b70b6": {
      "model_module": "@jupyter-widgets/base",
      "model_module_version": "2.0.0",
      "model_name": "LayoutModel",
      "state": {}
     },
     "2c697df188b646e0ab347270d14960ca": {
      "model_module": "@jupyter-widgets/base",
      "model_module_version": "2.0.0",
      "model_name": "LayoutModel",
      "state": {}
     },
     "3ccea5db1deb417c81b1697a1e0a2d24": {
      "model_module": "@jupyter-widgets/controls",
      "model_module_version": "2.0.0",
      "model_name": "HBoxModel",
      "state": {
       "children": [
        "IPY_MODEL_da7b00514b3b404cb5647af324e31281",
        "IPY_MODEL_ab4ff0b22a664acd9ae8f40a4823082f",
        "IPY_MODEL_9a6d5010abde4b17b18078c9460c09b4"
       ],
       "layout": "IPY_MODEL_8a1674d463224f09b8378fd5c69a42a5"
      }
     },
     "5e0f4b112a5b49cca8219bb958988f96": {
      "model_module": "@jupyter-widgets/controls",
      "model_module_version": "2.0.0",
      "model_name": "HTMLStyleModel",
      "state": {
       "description_width": "",
       "font_size": null,
       "text_color": null
      }
     },
     "6c66ed03f0664cf4b59efe8b1107fa8c": {
      "model_module": "@jupyter-widgets/controls",
      "model_module_version": "2.0.0",
      "model_name": "HTMLStyleModel",
      "state": {
       "description_width": "",
       "font_size": null,
       "text_color": null
      }
     },
     "8a1674d463224f09b8378fd5c69a42a5": {
      "model_module": "@jupyter-widgets/base",
      "model_module_version": "2.0.0",
      "model_name": "LayoutModel",
      "state": {}
     },
     "9a6d5010abde4b17b18078c9460c09b4": {
      "model_module": "@jupyter-widgets/controls",
      "model_module_version": "2.0.0",
      "model_name": "HTMLModel",
      "state": {
       "layout": "IPY_MODEL_2c697df188b646e0ab347270d14960ca",
       "style": "IPY_MODEL_5e0f4b112a5b49cca8219bb958988f96",
       "value": " 4/4 [00:00&lt;00:00, 800.48it/s]"
      }
     },
     "ab4ff0b22a664acd9ae8f40a4823082f": {
      "model_module": "@jupyter-widgets/controls",
      "model_module_version": "2.0.0",
      "model_name": "FloatProgressModel",
      "state": {
       "bar_style": "success",
       "layout": "IPY_MODEL_146e96bf002d4819bcaa45f1c16b70b6",
       "max": 4,
       "style": "IPY_MODEL_c9c084f8e7204cabac0a4ab5f18c0c30",
       "value": 4
      }
     },
     "c9c084f8e7204cabac0a4ab5f18c0c30": {
      "model_module": "@jupyter-widgets/controls",
      "model_module_version": "2.0.0",
      "model_name": "ProgressStyleModel",
      "state": {
       "description_width": ""
      }
     },
     "da7b00514b3b404cb5647af324e31281": {
      "model_module": "@jupyter-widgets/controls",
      "model_module_version": "2.0.0",
      "model_name": "HTMLModel",
      "state": {
       "layout": "IPY_MODEL_db733df6b58e4b54ade60e77ca1bc8e4",
       "style": "IPY_MODEL_6c66ed03f0664cf4b59efe8b1107fa8c",
       "value": "Fetching 4 files: 100%"
      }
     },
     "db733df6b58e4b54ade60e77ca1bc8e4": {
      "model_module": "@jupyter-widgets/base",
      "model_module_version": "2.0.0",
      "model_name": "LayoutModel",
      "state": {}
     }
    },
    "version_major": 2,
    "version_minor": 0
   }
  }
 },
 "nbformat": 4,
 "nbformat_minor": 4
}
