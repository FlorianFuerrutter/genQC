{
 "cells": [
  {
   "cell_type": "markdown",
   "id": "a8980c24-d62e-462b-ba89-3195cfdcc374",
   "metadata": {},
   "source": [
    "# Metrics"
   ]
  },
  {
   "cell_type": "markdown",
   "id": "f7055695-c1f0-4a83-bc23-7f629725331d",
   "metadata": {},
   "source": [
    "Definition of metrics used during training."
   ]
  },
  {
   "cell_type": "code",
   "execution_count": null,
   "id": "a8832bdd-f61c-44e1-8619-a9cb352ba768",
   "metadata": {},
   "outputs": [],
   "source": [
    "#| default_exp metrics"
   ]
  },
  {
   "cell_type": "code",
   "execution_count": null,
   "id": "06272f6f-b4e3-4504-a90a-feebbf6ad821",
   "metadata": {},
   "outputs": [],
   "source": [
    "#| export\n",
    "from genQC.imports import *\n",
    "from genQC.util import virtual"
   ]
  },
  {
   "cell_type": "code",
   "execution_count": null,
   "id": "36032308-bd0e-4409-9db0-9d89fc258e5a",
   "metadata": {},
   "outputs": [],
   "source": [
    "#| export\n",
    "class Metric:\n",
    "    \"\"\"Base metric class.\"\"\"\n",
    "    def __init__(self, name: str, device): \n",
    "        self.name   = name\n",
    "        self.device = torch.device(device)\n",
    "        self.reset_state() \n",
    "    def __repr__(self): return f\"{self.name}={self.result()}\"\n",
    "\n",
    "    def update_state(self, inp, tar=None): self.empty=False\n",
    "    def reset_state(self): self.empty=True        \n",
    "    \n",
    "    @virtual\n",
    "    def _eval(self, inp, tar): pass\n",
    "    @virtual\n",
    "    def result(self): pass "
   ]
  },
  {
   "cell_type": "code",
   "execution_count": null,
   "id": "c0402572-bebf-4a04-94b3-4fcedb46bddd",
   "metadata": {},
   "outputs": [],
   "source": [
    "#| export\n",
    "class Mean(Metric):\n",
    "    \"\"\"Mean metric, used for loss ..\"\"\"\n",
    "    def __init__(self, name: str, device): super().__init__(name, device)   \n",
    "    @torch.inference_mode()\n",
    "    def update_state(self, inp: torch.Tensor, tar: torch.Tensor=None, weight: float=1):\n",
    "        super().update_state(inp, tar)         \n",
    "        val = self._eval(inp, tar)        \n",
    "        self.weighted_sum += torch.sum(val * weight)\n",
    "        self.weight       += weight * torch.numel(val)   \n",
    "    @torch.inference_mode()\n",
    "    def reset_state(self): \n",
    "        super().reset_state()\n",
    "        self.weighted_sum = torch.tensor(0.0, device=self.device)\n",
    "        self.weight       = torch.tensor(0.0, device=self.device)   \n",
    "    def _eval(self, inp, tar): return inp  \n",
    "    @torch.inference_mode()\n",
    "    def result(self): return (self.weighted_sum/self.weight).cpu()"
   ]
  },
  {
   "cell_type": "code",
   "execution_count": null,
   "id": "a057e486-924a-4b5e-adc4-3bcaf575ed51",
   "metadata": {},
   "outputs": [],
   "source": [
    "#| export\n",
    "class Accuracy(Mean):   \n",
    "    \"\"\"Accuracy metric.\"\"\"\n",
    "    @torch.inference_mode()\n",
    "    def _eval(self, inp, tar): return (inp==tar).float().mean()"
   ]
  },
  {
   "cell_type": "markdown",
   "id": "a379ebe9-cc2d-4cbd-b5b1-0325a605bed9",
   "metadata": {},
   "source": [
    "Example usage:"
   ]
  },
  {
   "cell_type": "code",
   "execution_count": null,
   "id": "54442022-1e09-4615-a2db-44cce4577b69",
   "metadata": {},
   "outputs": [
    {
     "name": "stdout",
     "output_type": "stream",
     "text": [
      "mean=nan True\n",
      "mean=0.75 False\n",
      "mean=0.875 False\n",
      "mean=nan True\n"
     ]
    }
   ],
   "source": [
    "a = Accuracy(\"mean\", \"cpu\")\n",
    "print(a, a.empty)\n",
    "\n",
    "a.update_state(torch.Tensor([3,2,2,1]), torch.Tensor([1,2,2,1]))\n",
    "print(a, a.empty)\n",
    "\n",
    "a.update_state(torch.Tensor([1,2,2,3]), torch.Tensor([1,2,2,3]))\n",
    "print(a, a.empty)\n",
    "\n",
    "a.reset_state()\n",
    "print(a, a.empty)"
   ]
  },
  {
   "cell_type": "markdown",
   "id": "f41f26a8-ac40-4e91-8c0e-1ef07a0fd4f4",
   "metadata": {},
   "source": [
    "# Export -"
   ]
  },
  {
   "cell_type": "code",
   "execution_count": null,
   "id": "a0474216-8e0c-4ba7-9a37-571ac7d8e82c",
   "metadata": {},
   "outputs": [],
   "source": [
    "#| hide\n",
    "import nbdev; nbdev.nbdev_export()"
   ]
  }
 ],
 "metadata": {
  "kernelspec": {
   "display_name": "python3",
   "language": "python",
   "name": "python3"
  }
 },
 "nbformat": 4,
 "nbformat_minor": 5
}
