{
 "cells": [
  {
   "cell_type": "markdown",
   "id": "7883f9c7-7102-4dd1-9a85-f3d2f1e653fc",
   "metadata": {},
   "source": [
    "# Base embedder\n",
    "\n",
    "> Class for base embedder."
   ]
  },
  {
   "cell_type": "code",
   "execution_count": null,
   "id": "e71cd37f-025e-411a-b830-16f4d512c617",
   "metadata": {},
   "outputs": [],
   "source": [
    "#| default_exp models.embedding.base_embedder"
   ]
  },
  {
   "cell_type": "code",
   "execution_count": null,
   "id": "7db9efd6-abbc-4256-b0d9-7f7da64d81b4",
   "metadata": {},
   "outputs": [],
   "source": [
    "#| export\n",
    "from genQC.imports import *\n",
    "from genQC.models.config_model import ConfigModel"
   ]
  },
  {
   "cell_type": "markdown",
   "id": "0b1ba64b-f053-42ba-a2a2-5b855d74d80b",
   "metadata": {},
   "source": [
    "## Base embedder class"
   ]
  },
  {
   "cell_type": "code",
   "execution_count": null,
   "id": "c245730f-dc67-4209-8ae5-d5080da0e362",
   "metadata": {},
   "outputs": [],
   "source": [
    "#| export\n",
    "class BaseEmbedder(ConfigModel, abc.ABC):\n",
    "    def __init__(self) -> None: \n",
    "        super().__init__()  \n",
    "\n",
    "        # Note: While using DDP with huggingface-Accelerate we noticed\n",
    "        # the fixed weights didn't get synced if there is no parameter\n",
    "        # that requires a gradient. So we add a dummy to make sure\n",
    "        # all model instances/nodes have the same embedder!\n",
    "        self.dummy_parameter = torch.tensor(0.0)\n",
    "        self.dummy_parameter = nn.Parameter(self.dummy_parameter)\n",
    "\n",
    "    def forward(self, *args, **kwargs): \n",
    "        return self.embed(*args, **kwargs)\n",
    "    \n",
    "    @abc.abstractmethod\n",
    "    def embed(self, x): pass\n",
    "        \n",
    "    @abc.abstractmethod\n",
    "    def invert(self, x): pass"
   ]
  },
  {
   "cell_type": "markdown",
   "id": "cdfd7536-56f8-479d-911f-3d62b427ecba",
   "metadata": {},
   "source": [
    "# Export -"
   ]
  },
  {
   "cell_type": "code",
   "execution_count": null,
   "id": "6c9f41df-ba6d-429d-a6a2-a9ff60a1ddbe",
   "metadata": {},
   "outputs": [],
   "source": [
    "#| hide\n",
    "import nbdev; nbdev.nbdev_export()"
   ]
  }
 ],
 "metadata": {
  "kernelspec": {
   "display_name": "python3",
   "language": "python",
   "name": "python3"
  },
  "widgets": {
   "application/vnd.jupyter.widget-state+json": {
    "state": {},
    "version_major": 2,
    "version_minor": 0
   }
  }
 },
 "nbformat": 4,
 "nbformat_minor": 5
}
