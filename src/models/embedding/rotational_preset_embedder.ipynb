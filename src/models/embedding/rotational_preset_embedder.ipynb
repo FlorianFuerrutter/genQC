{
 "cells": [
  {
   "cell_type": "markdown",
   "id": "05a8ff60-1782-451e-9bc9-ccd9d7a03bea",
   "metadata": {},
   "source": [
    "# Rotational preset embedder\n",
    "\n",
    "> Class for a rotational preset embedder."
   ]
  },
  {
   "cell_type": "code",
   "execution_count": null,
   "id": "779dd562-2fb7-4992-8ff2-36d8a350947a",
   "metadata": {},
   "outputs": [],
   "source": [
    "#| default_exp models.embedding.rotational_preset_embedder"
   ]
  },
  {
   "cell_type": "code",
   "execution_count": null,
   "id": "99334d1d-82c6-4f8a-afd7-6d63139b6d32",
   "metadata": {},
   "outputs": [],
   "source": [
    "#| export\n",
    "from genQC.imports import *\n",
    "from genQC.utils.math import gram_schmidt\n",
    "from genQC.models.embedding.base_embedder import BaseEmbedder"
   ]
  },
  {
   "cell_type": "markdown",
   "id": "42d3c11c-d57f-4f9f-b6bf-0e2b873378ae",
   "metadata": {},
   "source": [
    "## MultimodialEmbedder"
   ]
  },
  {
   "cell_type": "code",
   "execution_count": null,
   "id": "5f0229fc-4437-4d3a-8cef-da668275a488",
   "metadata": {},
   "outputs": [],
   "source": [
    "#| export\n",
    "class MultimodialEmbedder(BaseEmbedder):\n",
    "    \n",
    "    def __init__(self, zero_sum_space: bool) -> None:\n",
    "        super().__init__()\n",
    "\n",
    "        self.zero_sum_space = zero_sum_space\n",
    "        \n",
    "        h_mean, h_std = torch.tensor(0.0), torch.tensor(1.0)\n",
    "        w_mean, w_std = torch.tensor(0.0), torch.tensor(1.0)\n",
    "        \n",
    "        self.register_buffer('h_mean', h_mean)\n",
    "        self.register_buffer('h_std', h_std)\n",
    "\n",
    "        self.register_buffer('w_mean', w_mean)\n",
    "        self.register_buffer('w_std', w_std)\n",
    "\n",
    "    def set_scaling(self, h: torch.Tensor, w: torch.Tensor) -> None:\n",
    "        self.h_mean, self.h_std = torch.tensor(0.0), torch.tensor(1.0)\n",
    "        self.w_mean, self.w_std = torch.tensor(0.0), torch.tensor(1.0)\n",
    "\n",
    "        return #disbled; not needed for new emb initialization\n",
    "        \n",
    "        x = self.embed(h, w)\n",
    "\n",
    "        if not self.channel_last:\n",
    "            x_h = x[:, :self.clr_dim]\n",
    "            x_w = x[:, self.clr_dim:]\n",
    "        else:\n",
    "            x_h = x[..., :self.clr_dim]\n",
    "            x_w = x[..., self.clr_dim:]\n",
    "        \n",
    "        self.h_mean, self.h_std = x_h.mean(), x_h.std()\n",
    "        self.w_mean, self.w_std = x_w.mean(), x_w.std()\n",
    "   \n",
    "    def scale_emb(self, x_emb: torch.Tensor) -> torch.Tensor:\n",
    "        # x_emb .. [b, ch, s, t]\n",
    "\n",
    "        # mean\n",
    "        if not self.zero_sum_space:\n",
    "            if not self.channel_last:\n",
    "                x_emb[:, :self.clr_dim] -= self.h_mean\n",
    "                x_emb[:, self.clr_dim:] -= self.w_mean\n",
    "            else:\n",
    "                x_emb[..., :self.clr_dim] -= self.h_mean\n",
    "                x_emb[..., self.clr_dim:] -= self.w_mean\n",
    "        \n",
    "        # variance\n",
    "        if not self.channel_last:\n",
    "            x_emb[:, :self.clr_dim] /= self.h_std\n",
    "            x_emb[:, self.clr_dim:] /= self.w_std\n",
    "        else:\n",
    "            x_emb[..., :self.clr_dim] /= self.h_std\n",
    "            x_emb[..., self.clr_dim:] /= self.w_std\n",
    "              \n",
    "        return x_emb\n",
    "\n",
    "    def invert_scale_emb(self, x_emb: torch.Tensor) -> torch.Tensor:\n",
    "        # x_emb .. [b, ch, s, t]\n",
    "\n",
    "        # variance\n",
    "        if not self.channel_last:\n",
    "            x_emb[:, :self.clr_dim] *= self.h_std\n",
    "            x_emb[:, self.clr_dim:] *= self.w_std\n",
    "        else:\n",
    "            x_emb[..., :self.clr_dim] *= self.h_std\n",
    "            x_emb[..., self.clr_dim:] *= self.w_std\n",
    "\n",
    "        # mean\n",
    "        if not self.zero_sum_space:    \n",
    "            if not self.channel_last:\n",
    "                x_emb[:, :self.clr_dim] += self.h_mean\n",
    "                x_emb[:, self.clr_dim:] += self.w_mean\n",
    "            else:\n",
    "                x_emb[..., :self.clr_dim] += self.h_mean\n",
    "                x_emb[..., self.clr_dim:] += self.w_mean\n",
    "        \n",
    "        return x_emb"
   ]
  },
  {
   "cell_type": "markdown",
   "id": "9d16c463-4fc5-4e98-bcb6-bef16cb61564",
   "metadata": {},
   "source": [
    "## MultimodialPresetEmbedder"
   ]
  },
  {
   "cell_type": "code",
   "execution_count": null,
   "id": "22c7fbfb-c37e-4f47-942f-29b4433e9a52",
   "metadata": {},
   "outputs": [],
   "source": [
    "#| export\n",
    "@dataclass\n",
    "class MultimodialPresetEmbedderConfig:  \n",
    "    clr_dim: int\n",
    "    num_clrs: int\n",
    "    params_dim: int\n",
    "    num_params_per_clr: int\n",
    "    zero_sum_space: bool\n",
    "    explicit_node_type_embeddings: bool\n",
    "    channel_last: bool\n",
    "    parametrized_tokens: Optional[list[int]] = None \n",
    "    unique_class_values: Optional[list[int]] = None"
   ]
  },
  {
   "cell_type": "code",
   "execution_count": null,
   "id": "b8cc949e-c462-48ea-a9c0-2d1d3b9f43ce",
   "metadata": {},
   "outputs": [],
   "source": [
    "#| export\n",
    "class MultimodialPresetEmbedder(MultimodialEmbedder):\n",
    "    \"\"\"\n",
    "    Embedder class for multimodial discrete and continuous data, e.g. parametrized gates/actions. \n",
    "    Embeddings are fixed and not trained.\n",
    "    \"\"\"\n",
    "    \n",
    "    def __init__(self, \n",
    "                 clr_dim: int, \n",
    "                 num_clrs: int, \n",
    "                 params_dim: int, \n",
    "                 num_params_per_clr: int, \n",
    "                 zero_sum_space: bool,\n",
    "                 explicit_node_type_embeddings: bool = True,\n",
    "                 channel_last: bool = True,\n",
    "                 parametrized_tokens: Optional[list[int]] = None,\n",
    "                 unique_class_values: Optional[list[int]] = None) -> None:\n",
    "        \"\"\"\n",
    "        Note `explicit_node_type_embeddings` means we convert the `+-k` to all postive, but there are often unsused connection types. For instance, `1=H` the minus node is never used.\n",
    "\n",
    "        To improve this and reduce the `clr_dim`, we can provide `unique_values` which are the only tokens that actually appear.\n",
    "        \"\"\"\n",
    "        super().__init__(zero_sum_space=zero_sum_space)\n",
    "\n",
    "\n",
    "        if exists(unique_class_values):\n",
    "            assert isinstance(unique_class_values, list)\n",
    "            self.unique_class_values_tensor = torch.tensor(unique_class_values)\n",
    "            \n",
    "            explicit_node_type_embeddings = False\n",
    "\n",
    "            print(f\"[INFO]: provided `unique_class_values` ({unique_class_values}), enforcing `num_clrs=len(unique_class_values)={len(unique_class_values)}`.\")\n",
    "            num_clrs = len(unique_class_values)\n",
    "        \n",
    "        self.explicit_node_type_embeddings = explicit_node_type_embeddings  \n",
    "        self.channel_last = channel_last\n",
    "        self.parametrized_tokens = parametrized_tokens\n",
    "        self.unique_class_values = unique_class_values\n",
    "\n",
    "        if (num_params_per_clr*num_clrs) > params_dim and num_params_per_clr > 0:\n",
    "            print(f\"[WARNING]: For `num_params_per_clr` larger 0, we need at least a `params_dim` (is {params_dim}) of\"\n",
    "                  f\" `num_params_per_clr*num_clrs` (is {num_params_per_clr*num_clrs}),\"\n",
    "                  f\" automatically setting `params_dim` to {num_params_per_clr*num_clrs} to inforce this!\")\n",
    "        \n",
    "            params_dim = num_params_per_clr*num_clrs\n",
    "\n",
    "        if self.zero_sum_space and ((num_params_per_clr*num_clrs) + 1) > params_dim and num_params_per_clr > 0:\n",
    "            print(f\"[WARNING]: `params_dim` is set to the minimum `num_params_per_clr*num_clrs`={num_params_per_clr*num_clrs},\"\n",
    "                  f\" but for `{zero_sum_space=}` we need one more dimension, automatically setting it to\"\n",
    "                  f\" `num_params_per_clr*num_clrs+1` {num_params_per_clr*num_clrs+1}.\")\n",
    "            \n",
    "            params_dim = num_params_per_clr*num_clrs + 1\n",
    "        \n",
    "        if self.zero_sum_space:        \n",
    "            if self.explicit_node_type_embeddings and ((num_clrs*2 - 2) + 1) > clr_dim:\n",
    "                print(f\"[WARNING]: `clr_dim` is set to {clr_dim} and `{explicit_node_type_embeddings=}`,\"\n",
    "                      f\" but for `{zero_sum_space=}` we need one more dimension than the number of tokens `(num_clrs*2 - 2)` (is {(num_clrs*2 - 2)}),\"\n",
    "                      f\" automatically setting it to `clr_dim=(num_clrs*2 - 2) + 1` {(num_clrs*2 - 2) + 1}.\")\n",
    "\n",
    "                # has empty and padd tokens, these only have the plus branch (so -2)!\n",
    "                clr_dim = (num_clrs*2 - 2) + 1\n",
    "\n",
    "            elif (num_clrs + 1) > clr_dim:\n",
    "                print(f\"[WARNING]: `clr_dim` is set to {clr_dim} and `{explicit_node_type_embeddings=}`,\"\n",
    "                      f\" but for `{zero_sum_space=}` we need one more dimension than the number of tokens `num_clrs` (is {num_clrs}),\"\n",
    "                      f\" automatically setting it to `clr_dim=num_clrs+1` {num_clrs+1}.\")\n",
    "                \n",
    "                clr_dim = num_clrs + 1\n",
    "            \n",
    "        self.clr_dim            = clr_dim\n",
    "        self.num_clrs           = num_clrs\n",
    "        self.params_dim         = params_dim\n",
    "        self.num_params_per_clr = num_params_per_clr\n",
    "        \n",
    "        self._num_discrete_embeddings = self.num_clrs\n",
    "        self._num_param_embeddings    = self.num_params_per_clr * self.num_clrs\n",
    "        self.embedding_dim            = self.clr_dim + self.params_dim\n",
    "\n",
    "        if self.explicit_node_type_embeddings:\n",
    "            # use distinct embeddings for +-k and not just +-v\n",
    "            # has empty and padd tokens, these only have the plus branch (so -2)!\n",
    "            self._num_discrete_embeddings = self.num_clrs*2 - 2\n",
    "     \n",
    "        self.num_embeddings = self._num_discrete_embeddings + self._num_param_embeddings\n",
    "        self.emb_clr        = nn.Embedding(num_embeddings=self.num_embeddings, embedding_dim=self.embedding_dim)    \n",
    "        print(f\"[INFO]: Created `nn.Embedding` with a total of {self.num_embeddings} vectors in a {self.embedding_dim} dimensional space.\")\n",
    "        \n",
    "        self.params_config = MultimodialPresetEmbedderConfig(clr_dim=self.clr_dim, \n",
    "                                                             num_clrs=self.num_clrs, \n",
    "                                                             params_dim=self.params_dim, \n",
    "                                                             num_params_per_clr=self.num_params_per_clr,\n",
    "                                                             zero_sum_space=self.zero_sum_space,\n",
    "                                                             explicit_node_type_embeddings=self.explicit_node_type_embeddings,\n",
    "                                                             channel_last=self.channel_last,\n",
    "                                                             parametrized_tokens=self.parametrized_tokens)\n",
    "        \n",
    "        self._init_weights(zero_sum_space=self.zero_sum_space)\n",
    "    \n",
    "    def _init_weights(self, zero_sum_space) -> None:\n",
    "        self.emb_clr.weight.requires_grad = False\n",
    "        \n",
    "        _dtype = self.emb_clr.weight.dtype\n",
    "        self.emb_clr = self.emb_clr.to(torch.float64)\n",
    "        \n",
    "        # keep spaces ortho with clr\n",
    "        self.emb_clr.weight.data.zero_()\n",
    "        nn.init.orthogonal_(self.emb_clr.weight.data[:self._num_discrete_embeddings, :self.clr_dim])\n",
    "        nn.init.orthogonal_(self.emb_clr.weight.data[self._num_discrete_embeddings:, self.clr_dim:])\n",
    "\n",
    "        if zero_sum_space:\n",
    "            assert self._num_discrete_embeddings < self.clr_dim, f\"{self._num_discrete_embeddings} < {self.clr_dim}\"\n",
    "            if self._num_param_embeddings > 0:\n",
    "                assert self._num_param_embeddings < self.params_dim, f\"{self._num_param_embeddings} < {self.params_dim}\"\n",
    " \n",
    "            # Convert to zero-sum space\n",
    "            self.emb_clr.weight.data[:self._num_discrete_embeddings, :self.clr_dim] -= torch.mean(self.emb_clr.weight.data[:self._num_discrete_embeddings, :self.clr_dim], dim=-1, keepdim=True) \n",
    "            if self._num_param_embeddings > 0:\n",
    "                self.emb_clr.weight.data[self._num_discrete_embeddings:, self.clr_dim:] -= torch.mean(self.emb_clr.weight.data[self._num_discrete_embeddings:, self.clr_dim:], dim=-1, keepdim=True) \n",
    "\n",
    "            # Orthonormalization that conserves zero-sum space\n",
    "            self.emb_clr.weight.data[:self._num_discrete_embeddings, :self.clr_dim] = gram_schmidt(self.emb_clr.weight.data[:self._num_discrete_embeddings, :self.clr_dim])\n",
    "            if self._num_param_embeddings > 0:\n",
    "                self.emb_clr.weight.data[self._num_discrete_embeddings:, self.clr_dim:] = gram_schmidt(self.emb_clr.weight.data[self._num_discrete_embeddings:, self.clr_dim:])\n",
    "            \n",
    "        self.emb_clr.weight.data[:self._num_discrete_embeddings, :self.clr_dim] /= torch.std(self.emb_clr.weight.data[:self._num_discrete_embeddings, :self.clr_dim], dim=-1, keepdim=True, correction=0)\n",
    "        if self._num_param_embeddings > 0:\n",
    "            self.emb_clr.weight.data[self._num_discrete_embeddings:, self.clr_dim:] /= torch.std(self.emb_clr.weight.data[self._num_discrete_embeddings:, self.clr_dim:], dim=-1, keepdim=True, correction=0)   \n",
    "        \n",
    "        self.emb_clr = self.emb_clr.to(_dtype)\n",
    "        \n",
    "    def print_emb_matrix(self) -> None:\n",
    "        print(self.emb_clr.weight.data)\n",
    "\n",
    "    #-----------------------------------------------\n",
    "\n",
    "    def tokens_to_unique_class_values(self, x: torch.Tensor) -> torch.Tensor:\n",
    "        if exists(self.unique_class_values):\n",
    "            self.unique_class_values_tensor = self.unique_class_values_tensor.to(x.device)\n",
    "            return torch.searchsorted(self.unique_class_values_tensor, x)\n",
    "        return x\n",
    "\n",
    "    def unique_class_values_to_tokens(self, x: torch.Tensor) -> torch.Tensor:\n",
    "        if exists(self.unique_class_values):\n",
    "            self.unique_class_values_tensor = self.unique_class_values_tensor.to(x.device)\n",
    "            return self.unique_class_values_tensor[x]\n",
    "        return x\n",
    "    \n",
    "    #-----------------------------------------------\n",
    "\n",
    "    def embed_discrete(self, h: torch.Tensor) -> torch.Tensor:\n",
    "\n",
    "        if self.unique_class_values:\n",
    "            # tokens are already correct\n",
    "            tokens = h \n",
    "            x_emb  = self.emb_clr(tokens)\n",
    "        \n",
    "        elif self.explicit_node_type_embeddings:\n",
    "            # e.g. num_clrs=4: [-2, -1, zero, 1, 2, padd] to all positive  [0, 1, 2 (zero), 3, 4, 5 (padd)]\n",
    "            tokens = h \n",
    "            x_emb  = self.emb_clr(tokens + (self.num_clrs-2))\n",
    "        \n",
    "        else:\n",
    "            sign   = torch.sign(h + 0.1)  #trick: add 0.1 so that the sign of 0 is +1, else the 0 token would be all 0s.     \n",
    "            tokens = torch.abs(h)\n",
    "            \n",
    "            x_emb = self.emb_clr(tokens)      \n",
    "            x_emb = x_emb * sign.unsqueeze(-1)     # [b, s, t, ch]\n",
    "        \n",
    "        return x_emb, tokens\n",
    "       \n",
    "\n",
    "    def embed(self, h: torch.Tensor, w: torch.Tensor) -> torch.Tensor: \n",
    "        \"\"\"\n",
    "        sample from p(x0|h, w)\n",
    "        h discrete\n",
    "        w cont\n",
    "        \"\"\"\n",
    "\n",
    "        x_emb, tokens = self.embed_discrete(h)\n",
    "\n",
    "        v_p    = self.embed_continuous(w, tokens)          \n",
    "        x_emb += v_p     \n",
    "\n",
    "        if not self.channel_last:   \n",
    "             # contiguous important for multi-node cluster     \n",
    "            x_emb = torch.permute(x_emb, (0, 3, 1, 2)).contiguous() # to [b, ch, s, t]\n",
    "     \n",
    "        return x_emb\n",
    "    \n",
    "    #-----------------------------------------------\n",
    "\n",
    "    def get_discrete_sim(self, x: torch.Tensor) -> torch.Tensor:\n",
    "        #collaps clr to gate ... use cos sim\n",
    " \n",
    "        clrs = self.emb_clr.weight.detach()[:self._num_discrete_embeddings] # is [clr_num, clr_dim]\n",
    "        \n",
    "        model_device = clrs.device\n",
    "        x = x.to(model_device)\n",
    "        \n",
    "        # to shape [b*space*time, clr_dim]\n",
    "        x_flat = x.reshape(-1, x.shape[-1])\n",
    "                \n",
    "        #normalize for cos sim       \n",
    "        norm_clr    = F.normalize(  clrs[:, :self.clr_dim], dim=1) #clrs   / torch.linalg.vector_norm(  clrs, dim=1, keepdim=True) #torch.linalg.vector_norm(  clrs[:, :self.clr_dim], dim=1, keepdim=True) \n",
    "        norm_x_flat = F.normalize(x_flat[:, :self.clr_dim], dim=1) #x_flat / torch.linalg.vector_norm(x_flat, dim=1, keepdim=True) #torch.linalg.vector_norm(x_flat[:, :self.clr_dim], dim=1, keepdim=True) \n",
    "        \n",
    "        #matmul out is [clr_num, b*space*time] =  [clr_num, clr_dim] x [b*space*time, clr_dim].T\n",
    "        sim = torch.matmul(norm_clr, norm_x_flat.T) \n",
    "\n",
    "        return sim\n",
    "\n",
    "    @torch.inference_mode()\n",
    "    def invert_discrete(self, x: torch.Tensor, return_sim: bool = False, finite_temperature: bool = False) -> torch.Tensor:\n",
    "        #collaps clr to gate ... use cos sim\n",
    " \n",
    "        input_device = x.device\n",
    "\n",
    "        if not self.channel_last:   \n",
    "            x = x.permute(0, 2, 3, 1)\n",
    "        \n",
    "        #sim out is [clr_num, b*space*time]\n",
    "        sim = self.get_discrete_sim(x)\n",
    "\n",
    "        if self.explicit_node_type_embeddings or self.unique_class_values:\n",
    "            #get highest similarity\n",
    "            if finite_temperature:\n",
    "                _cat = torch.distributions.categorical.Categorical(logits=sim.transpose(-1, -2))\n",
    "                scores_flat = _cat.sample()\n",
    "            else:\n",
    "                scores_flat = torch.argmax(sim, dim=0) #reduce the clr_num dim\n",
    "\n",
    "            if self.explicit_node_type_embeddings:\n",
    "                scores_flat = scores_flat - (self.num_clrs-2)\n",
    "            \n",
    "        else:\n",
    "            #get highest abs(similarity) and sign of it\n",
    "            abs_sim = sim.abs()\n",
    "            \n",
    "            if finite_temperature:\n",
    "                _cat = torch.distributions.categorical.Categorical(logits=abs_sim.transpose(-1, -2))\n",
    "                max_idx = _cat.sample()\n",
    "            else:\n",
    "                max_idx = torch.argmax(abs_sim, dim=0) #reduce the clr_num dim\n",
    "                \n",
    "            sign = torch.sign(sim[max_idx, torch.arange(x_flat.shape[0])])\n",
    "            scores_flat = max_idx * sign\n",
    "\n",
    "        # back to [b, space, time]\n",
    "        scores = scores_flat.reshape(x.shape[0], x.shape[1], x.shape[2]).to(torch.int64)      \n",
    "        scores = scores.to(input_device)\n",
    "\n",
    "        if return_sim:\n",
    "            return scores, sim\n",
    "        return scores\n",
    "\n",
    "    @torch.inference_mode()\n",
    "    def invert(self, x: torch.Tensor, reduce_spatial: bool = True) -> torch.Tensor: \n",
    "        \"\"\"sample from p(h, w|x0)\"\"\"\n",
    "\n",
    "        pred_tokens = self.invert_discrete(x)\n",
    "        pred_params = self.invert_continuous(x, pred_tokens, reduce_spatial=reduce_spatial)\n",
    "\n",
    "        pred_tokens = self.unique_class_values_to_tokens(pred_tokens)\n",
    "        \n",
    "        return pred_tokens, pred_params\n",
    "\n",
    "    #-----------------------------------------------\n",
    "\n",
    "    def _prepare_params(self, tokens: torch.Tensor, w: torch.Tensor) -> torch.Tensor:\n",
    "        tokens = tokens.abs()\n",
    "\n",
    "        # w ... [b, nP, s or 1, t]\n",
    "        \n",
    "        if self.parametrized_tokens:\n",
    "            # Force all non parameterized embeddings to all zero or random lambdas !\n",
    "            pmask = self.get_parametrized_mask(tokens).unsqueeze(1)     # [b, 1, s, t]     \n",
    "            rnd_w = torch.zeros((w.shape[0], w.shape[1], pmask.shape[2], w.shape[3]), device=w.device)   \n",
    "            w_m   = torch.where(pmask, w, rnd_w)\n",
    "            \n",
    "        else:\n",
    "            # this does not include padding tokens!\n",
    "            pmask = (tokens > 0).unsqueeze(1)\n",
    "            w_m   = torch.where(pmask, w, 0.0) # ... [b, nP, s, t]\n",
    "        \n",
    "        return w_m\n",
    "\n",
    "    def _reduce_params_spatial(self, tokens: torch.Tensor, params: torch.Tensor) -> torch.Tensor:\n",
    "        tokens = tokens.abs()\n",
    "\n",
    "        if self.parametrized_tokens:\n",
    "            #check if not param gate\n",
    "            mask = self.get_parametrized_mask(tokens).unsqueeze(1).float()  # ... [b, 1, s, t]\n",
    "        else:\n",
    "            #check if not empty token\n",
    "            mask = (tokens > 0).unsqueeze(1).float() # ... [b, 1, s, t]\n",
    "\n",
    "        # to catch all zero tokens at t, compute how many we have per timestep\n",
    "        red_mask = mask.sum(-2) # ... [b, 1, t]\n",
    "        red_mask = torch.where(red_mask > 0.0, red_mask, 1.0)\n",
    "        \n",
    "        params = (params*mask).sum(-2) / red_mask # ... [b, nP, s, t] to [b, nP, t]   average over s, ignore masked positions        \n",
    "        return params\n",
    "\n",
    "    def get_parametrized_mask(self, tokens: torch.Tensor) -> torch.Tensor:\n",
    "\n",
    "        parametrized_tokens = torch.tensor(self.parametrized_tokens, device=tokens.device) \n",
    "        \n",
    "        if exists(self.unique_class_values):\n",
    "            parametrized_tokens = self.tokens_to_unique_class_values(parametrized_tokens)\n",
    "  \n",
    "        pmask = torch.isin(tokens.abs(), parametrized_tokens) \n",
    "  \n",
    "        return pmask"
   ]
  },
  {
   "cell_type": "markdown",
   "id": "53a57b59-09d1-48ae-b846-99f4129b0c70",
   "metadata": {},
   "source": [
    "### RotationalMultimodialPresetEmbedder"
   ]
  },
  {
   "cell_type": "code",
   "execution_count": null,
   "id": "a6af141a-7caa-49ad-a0c0-96657c570b1e",
   "metadata": {},
   "outputs": [],
   "source": [
    "#| export\n",
    "class RotationalMultimodialPresetEmbedder(MultimodialPresetEmbedder):\n",
    "    \n",
    "    def __init__(self, \n",
    "                 clr_dim: int, \n",
    "                 num_clrs: int, \n",
    "                 params_dim: int, \n",
    "                 num_params_per_clr: int, \n",
    "                 zero_sum_space: bool,\n",
    "                 explicit_node_type_embeddings: bool = True,\n",
    "                 channel_last: bool = True,\n",
    "                 parametrized_tokens: Optional[list[int]] = None,\n",
    "                 unique_class_values: Optional[list[int]] = None\n",
    "                ) -> None:\n",
    "\n",
    "        self.channel_last = channel_last\n",
    "        self.parametrized_tokens = parametrized_tokens\n",
    "        \n",
    "        if (2*num_params_per_clr*num_clrs) > params_dim and num_params_per_clr > 0:\n",
    "            print(f\"[WARNING]: We need at least a `params_dim` (is {params_dim}) of `2*num_params_per_clr*num_clrs` (is {2*num_params_per_clr*num_clrs}),\"\n",
    "                  f\" automatically setting `params_dim` to {2*num_params_per_clr*num_clrs} to inforce this!\")\n",
    "        \n",
    "            params_dim = 2*num_params_per_clr*num_clrs\n",
    "\n",
    "        if zero_sum_space and (2*num_params_per_clr*num_clrs+1) > params_dim and num_params_per_clr > 0:\n",
    "            print(f\"[WARNING]: `params_dim` is set to the minimum `2*num_params_per_clr*num_clrs`={2*num_params_per_clr*num_clrs},\"\n",
    "                  f\" but for `{zero_sum_space=}` we need one more dimension, automatically setting it to\"\n",
    "                  f\" `2*num_params_per_clr*num_clrs+1` {2*num_params_per_clr*num_clrs+1}.\")\n",
    "            \n",
    "            params_dim = 2*num_params_per_clr*num_clrs + 1\n",
    "            \n",
    "        super().__init__(clr_dim=clr_dim,\n",
    "                         num_clrs=num_clrs,\n",
    "                         params_dim=params_dim,\n",
    "                         num_params_per_clr=2*num_params_per_clr,  # pass factor 2 to create more embeddings for cos-sin encoding\n",
    "                         zero_sum_space=zero_sum_space,\n",
    "                         explicit_node_type_embeddings=explicit_node_type_embeddings,\n",
    "                         channel_last=channel_last,\n",
    "                         parametrized_tokens=parametrized_tokens,\n",
    "                         unique_class_values=unique_class_values) \n",
    "\n",
    "        self.num_params_per_clr    = num_params_per_clr   # remove the factor 2\n",
    "        self._num_param_embeddings = self.num_params_per_clr * self.num_clrs \n",
    "        self.nP                    = num_params_per_clr\n",
    "\n",
    "        self.params_config = MultimodialPresetEmbedderConfig(clr_dim=self.clr_dim, \n",
    "                                                             num_clrs=self.num_clrs, \n",
    "                                                             params_dim=self.params_dim, \n",
    "                                                             num_params_per_clr=self.num_params_per_clr,\n",
    "                                                             zero_sum_space=self.zero_sum_space,\n",
    "                                                             explicit_node_type_embeddings=self.explicit_node_type_embeddings,\n",
    "                                                             channel_last=self.channel_last,\n",
    "                                                             parametrized_tokens=self.parametrized_tokens,\n",
    "                                                             unique_class_values=self.unique_class_values)\n",
    "\n",
    "    \n",
    "    def embed_continuous(self, w: torch.Tensor, tokens: torch.Tensor) -> torch.Tensor:\n",
    "        # take care that v_empty stays that! not apply params to all bits only to a [s,t] pos\n",
    "        # params ... [b, nP, t]\n",
    "        # w      ...  qc=[b, nP, t]     mbqc=[b, nP, s, t]\n",
    "\n",
    "        tokens = tokens.abs()\n",
    "        \n",
    "        if w.dim() == 3:\n",
    "            w = w.unsqueeze(2) # to [b, nP, 1, t]\n",
    "\n",
    "\n",
    "        w_m = self._prepare_params(tokens, w)\n",
    "        \n",
    "        w_m = w_m.unsqueeze(-1)  # ... [b, nP, s, t, 1]\n",
    "        w_m = w_m * torch.pi     # [-1, 1] to [-pi, pi]\n",
    "\n",
    "        # first pick starting points of indices\n",
    "        # then add a numerator for all the number of paramters\n",
    "        # then add a numerator for cos-sin vectors\n",
    "        \n",
    "        #Note: .view(-1, 1, 1) introduces some numeric variances in 1e-07 range, but should be faster!\n",
    "        indices = self._num_discrete_embeddings + tokens * self.nP * 2                                    # ... [b, s, t]    \n",
    "        indices = indices.unsqueeze(1) + torch.arange(self.nP, device=indices.device).view(-1, 1, 1) * 2  # ... [b, nP, s, t]\n",
    "        indices = indices.unsqueeze(1) + torch.arange(2, device=indices.device).view(-1, 1, 1, 1)         # ... [b, 2, nP, s, t] \n",
    "        p_clrs  = self.emb_clr(indices).contiguous()                                                      # ... [b, 2, nP, s, t, ch]\n",
    "    \n",
    "        v_p = torch.cos(w_m)*p_clrs[:, 0] + torch.sin(w_m)*p_clrs[:, 1] # ... [b, nP, s, t, ch]\n",
    "        v_p = torch.sum(v_p, dim=1)                                     # ... [b, s, t, ch]\n",
    "\n",
    "        return v_p\n",
    "\n",
    "    @torch.inference_mode()\n",
    "    def invert_continuous(self, x: torch.Tensor, tokens: torch.Tensor, reduce_spatial: bool = True) -> torch.Tensor:\n",
    "        \"\"\"reduce_spatial=True for circuits, False for mbqc\"\"\"\n",
    "        \n",
    "        model_device = self.emb_clr.weight.device\n",
    "        input_device = x.device\n",
    "\n",
    "        if not self.channel_last:\n",
    "            x = x.permute(0, 2, 3, 1)   # to [b,    s, t, ch]\n",
    "        x = x.unsqueeze(1).unsqueeze(1)  # to [b, 1, 1, s, t, ch]\n",
    "      \n",
    "        x      = x.to(model_device) \n",
    "        tokens = tokens.to(model_device).abs()\n",
    "\n",
    "        #-----\n",
    "        # params should [b, nP, max_gates]\n",
    "        # x      ... [b, ch, s, t] \n",
    "        # tokens ... [b,   , s, t] \n",
    "\n",
    "        #Note: .view(-1, 1, 1) introduces some numeric variances in 1e-07 range, but should be faster!\n",
    "        indices = self._num_discrete_embeddings + tokens * self.nP * 2                                    # ... [b, s, t]    \n",
    "        indices = indices.unsqueeze(1) + torch.arange(self.nP, device=indices.device).view(-1, 1, 1) * 2  # ... [b, nP, s, t]\n",
    "        indices = indices.unsqueeze(1) + torch.arange(2, device=indices.device).view(-1, 1, 1, 1)         # ... [b, 2, nP, s, t] \n",
    "        p_clrs  = self.emb_clr(indices).contiguous()                                                      # ... [b, 2, nP, s, t, ch]\n",
    "\n",
    "        overlaps = (x * p_clrs).sum(-1)                           # ... [b, 2, nP, s, t]\n",
    "        params   = torch.arctan2(overlaps[:, 1], overlaps[:, 0])  # ... [b, nP, s, t]\n",
    "        params   = params / torch.pi                              #  [-pi, pi] to [-1, 1]\n",
    "           \n",
    "        # now reduce spatial s, average over non empty token s\n",
    "        if reduce_spatial:\n",
    "            params = self._reduce_params_spatial(tokens, params)\n",
    "               \n",
    "        return params.to(input_device)"
   ]
  },
  {
   "cell_type": "markdown",
   "id": "14d1bda6-a435-4e67-9ae3-72f5daad9c83",
   "metadata": {},
   "source": [
    "### RotationalMultimodialPresetEmbedderTiny"
   ]
  },
  {
   "cell_type": "markdown",
   "id": "472a5ae9-a178-420f-9967-3afc2db95e95",
   "metadata": {},
   "source": [
    "Has the same logic as `RotationalMultimodialPresetEmbedder`, but uses the same parameter vector-subspace for all tokens. This makes the parameter embeddings the same for all tokens while reducing the dimesionality of the embeddings, i.e. it is independent of the number of tokens."
   ]
  },
  {
   "cell_type": "code",
   "execution_count": null,
   "id": "86651b06-97c3-491b-b3dc-88a635753351",
   "metadata": {},
   "outputs": [],
   "source": [
    "#| export\n",
    "class RotationalMultimodialPresetEmbedderTiny(MultimodialPresetEmbedder):\n",
    "    \"\"\"Mostly the same as `RotationalMultimodialPresetEmbedder`, but the param embedding is not depending on the tokens.\"\"\"\n",
    "    \n",
    "    def __init__(self, \n",
    "                 clr_dim: int, \n",
    "                 num_clrs: int,\n",
    "                 params_dim: int, \n",
    "                 num_params_per_clr: int, \n",
    "                 zero_sum_space: bool,\n",
    "                 explicit_node_type_embeddings: bool = True,\n",
    "                 channel_last: bool = True,\n",
    "                 parametrized_tokens: Optional[list[int]] = None,\n",
    "                 unique_class_values: Optional[list[int]] = None\n",
    "                ) -> None:\n",
    "        super(MultimodialPresetEmbedder, self).__init__(zero_sum_space=zero_sum_space) # call grandparent class\n",
    "\n",
    "        if exists(unique_class_values):\n",
    "            assert isinstance(unique_class_values, list)\n",
    "            self.unique_class_values_tensor = torch.tensor(unique_class_values)\n",
    "            \n",
    "            explicit_node_type_embeddings = False\n",
    "\n",
    "            print(f\"[INFO]: provided `unique_class_values` ({unique_class_values}), enforcing `num_clrs=len(unique_class_values)={len(unique_class_values)}`.\")\n",
    "            num_clrs = len(unique_class_values)\n",
    "        \n",
    "        self.zero_sum_space = zero_sum_space\n",
    "        self.explicit_node_type_embeddings = explicit_node_type_embeddings  \n",
    "        self.channel_last = channel_last\n",
    "        self.parametrized_tokens = parametrized_tokens\n",
    "        self.unique_class_values = unique_class_values\n",
    "        # assert exists(parametrized_tokens)\n",
    "\n",
    "        if (2*num_params_per_clr) > params_dim and num_params_per_clr > 0:\n",
    "            print(f\"[WARNING]: We need at least a `params_dim` (is {params_dim}) of `2*num_params_per_clr` (is {2*num_params_per_clr}),\"\n",
    "                  f\" automatically setting `params_dim` to {2*num_params_per_clr} to inforce this!\")\n",
    "        \n",
    "            params_dim = 2*num_params_per_clr\n",
    "\n",
    "        if self.zero_sum_space and (2*num_params_per_clr+1) > params_dim and num_params_per_clr > 0:\n",
    "            print(f\"[WARNING]: `params_dim` is set to the minimum `2*num_params_per_clr`={2*num_params_per_clr},\"\n",
    "                  f\" but for `{zero_sum_space=}` we need one more dimension, automatically setting it to\"\n",
    "                  f\" `2*num_params_per_clr+1` {2*num_params_per_clr+1}.\")\n",
    "            \n",
    "            params_dim = 2*num_params_per_clr + 1\n",
    "       \n",
    "        if self.zero_sum_space:\n",
    "            if self.explicit_node_type_embeddings and ((num_clrs*2 - 2) + 1) > clr_dim:\n",
    "                print(f\"[WARNING]: `clr_dim` is set to {clr_dim} and `{explicit_node_type_embeddings=}`,\"\n",
    "                      f\" but for `{zero_sum_space=}` we need one more dimension than the number of tokens `(num_clrs*2 - 2)` (is {(num_clrs*2 - 2)}),\"\n",
    "                      f\" automatically setting it to `clr_dim=(num_clrs*2 - 2) + 1` {(num_clrs*2 - 2) + 1}.\")\n",
    "\n",
    "                # has empty and padd tokens, these only have the plus branch (so -2)!\n",
    "                clr_dim = (num_clrs*2 - 2) + 1\n",
    "\n",
    "            elif (num_clrs + 1) > clr_dim:\n",
    "                print(f\"[WARNING]: `clr_dim` is set to {clr_dim} and `{explicit_node_type_embeddings=}`,\"\n",
    "                      f\" but for `{zero_sum_space=}` we need one more dimension than the number of tokens `num_clrs` (is {num_clrs}),\"\n",
    "                      f\" automatically setting it to `clr_dim=num_clrs+1` {num_clrs+1}.\")\n",
    "                \n",
    "                clr_dim = num_clrs + 1\n",
    "  \n",
    "        self.clr_dim            = clr_dim\n",
    "        self.num_clrs           = num_clrs\n",
    "        self.params_dim         = params_dim\n",
    "        self.num_params_per_clr = num_params_per_clr\n",
    "        self.nP                 = num_params_per_clr\n",
    "     \n",
    "        self._num_discrete_embeddings = self.num_clrs\n",
    "        self._num_param_embeddings    = self.num_params_per_clr * 2\n",
    "        self.embedding_dim            = self.clr_dim + self.params_dim\n",
    "       \n",
    "        if self.explicit_node_type_embeddings:\n",
    "            # use distinct embeddings for +-k and not just +-v\n",
    "            # has empty and padd tokens, these only have the plus branch (so -2)!\n",
    "            self._num_discrete_embeddings = self.num_clrs*2 - 2\n",
    "            \n",
    "        self.num_embeddings = self._num_discrete_embeddings + self._num_param_embeddings \n",
    "        self.emb_clr        = nn.Embedding(num_embeddings=self.num_embeddings, embedding_dim=self.embedding_dim)    \n",
    "        print(f\"[INFO]: Created `nn.Embedding` with a total of {self.num_embeddings} vectors in a {self.embedding_dim} dimensional space.\")\n",
    "        \n",
    "        self.params_config = MultimodialPresetEmbedderConfig(clr_dim=self.clr_dim, \n",
    "                                                             num_clrs=self.num_clrs, \n",
    "                                                             params_dim=self.params_dim, \n",
    "                                                             num_params_per_clr=self.num_params_per_clr,\n",
    "                                                             zero_sum_space=self.zero_sum_space,\n",
    "                                                             explicit_node_type_embeddings=self.explicit_node_type_embeddings,\n",
    "                                                             channel_last=self.channel_last,\n",
    "                                                             parametrized_tokens=self.parametrized_tokens,\n",
    "                                                             unique_class_values=self.unique_class_values)\n",
    "        \n",
    "        self._init_weights(zero_sum_space=self.zero_sum_space)\n",
    "\n",
    "    def embed_continuous(self, w: torch.Tensor, tokens: torch.Tensor) -> torch.Tensor:\n",
    "        # take care that v_empty stays that! not apply params to all bits only to a [s,t] pos\n",
    "        # params ... [b, nP, t]\n",
    "        # w      ...  qc=[b, nP, t]     mbqc=[b, nP, s, t]\n",
    "\n",
    "        tokens = tokens.abs()\n",
    "        \n",
    "        if w.dim() == 3:\n",
    "            w = w.unsqueeze(2) # to [b, nP, 1, t]\n",
    "\n",
    "        w_m = self._prepare_params(tokens, w)\n",
    "            \n",
    "        w_m = w_m.unsqueeze(-1)  # ... [b, nP, s, t, 1]\n",
    "        w_m = w_m * torch.pi     # [-1, 1] to [-pi, pi]\n",
    "\n",
    "        # first pick starting points of indices\n",
    "        # then add a numerator for all the number of paramters\n",
    "        # then add a numerator for cos-sin vectors\n",
    "        \n",
    "        #Note: .view(-1, 1, 1) introduces some numeric variances in 1e-07 range, but should be faster!\n",
    "        indices = torch.full_like(tokens, self._num_discrete_embeddings)   #+ 0 * tokens * self.nP * 2                               # ... [b, s, t]    \n",
    "        indices = indices.unsqueeze(1) + torch.arange(self.nP, device=indices.device).view(-1, 1, 1) * 2  # ... [b, nP, s, t]\n",
    "        indices = indices.unsqueeze(1) + torch.arange(2, device=indices.device).view(-1, 1, 1, 1)         # ... [b, 2, nP, s, t] \n",
    "        p_clrs  = self.emb_clr(indices).contiguous()                                                      # ... [b, 2, nP, s, t, ch]\n",
    "\n",
    "        # This cos-sin combination conserves mean and variance of the embeddings\n",
    "        v_p = torch.cos(w_m)*p_clrs[:, 0] + torch.sin(w_m)*p_clrs[:, 1] # ... [b, nP, s, t, ch]\n",
    "        v_p = torch.sum(v_p, dim=1)                                     # ... [b, s, t, ch]\n",
    "\n",
    "        return v_p\n",
    "\n",
    "    @torch.inference_mode()\n",
    "    def invert_continuous(self, x: torch.Tensor, tokens: torch.Tensor, reduce_spatial: bool = True) -> torch.Tensor:\n",
    "        \"\"\"reduce_spatial=True for circuits, False for mbqc\"\"\"\n",
    "        \n",
    "        model_device = self.emb_clr.weight.device\n",
    "        input_device = x.device\n",
    "\n",
    "        if not self.channel_last:\n",
    "            x = x.permute(0, 2, 3, 1)   # to [b,    s, t, ch]\n",
    "        x = x.unsqueeze(1).unsqueeze(1)  # to [b, 1, 1, s, t, ch]\n",
    "      \n",
    "        x      = x.to(model_device) \n",
    "        tokens = tokens.to(model_device).abs()\n",
    "\n",
    "        #-----\n",
    "        # params should [b, nP, max_gates]\n",
    "        # x      ... [b, ch, s, t] \n",
    "        # tokens ... [b,   , s, t] \n",
    "\n",
    "        #Note: .view(-1, 1, 1) introduces some numeric variances in 1e-07 range, but should be faster!\n",
    "        indices = torch.full_like(tokens, self._num_discrete_embeddings) #+ 0 * tokens * self.nP * 2                                               # ... [b, s, t]    \n",
    "        indices = indices.unsqueeze(1) + torch.arange(self.nP, device=indices.device).view(-1, 1, 1) * 2  # ... [b, nP, s, t]\n",
    "        indices = indices.unsqueeze(1) + torch.arange(2, device=indices.device).view(-1, 1, 1, 1)         # ... [b, 2, nP, s, t] \n",
    "        p_clrs  = self.emb_clr(indices).contiguous()                                                      # ... [b, 2, nP, s, t, ch]\n",
    "\n",
    "        # Note we dont need to normalize x as this norm cancels in  the fraction of arctan2(y/x)\n",
    "        overlaps = (x * p_clrs).sum(-1)                           # ... [b, 2, nP, s, t]\n",
    "        params   = torch.arctan2(overlaps[:, 1], overlaps[:, 0])  # ... [b, nP, s, t]\n",
    "        params   = params / torch.pi                              #  [-pi, pi] to [-1, 1]\n",
    "           \n",
    "        # now reduce spatial s, average over non empty token s\n",
    "        if reduce_spatial:\n",
    "            params = self._reduce_params_spatial(tokens, params)\n",
    "\n",
    "        return params.to(input_device)"
   ]
  },
  {
   "cell_type": "markdown",
   "id": "979e66c6-890b-4406-bf16-96be0751ede2",
   "metadata": {},
   "source": [
    "## Test"
   ]
  },
  {
   "cell_type": "markdown",
   "id": "02f1b232-402c-44f4-9493-36b128f69e8a",
   "metadata": {},
   "source": [
    "### Encode decode check: fixed tensor"
   ]
  },
  {
   "cell_type": "code",
   "execution_count": null,
   "id": "2134bec1-ef0f-4a66-af00-77fcc7b47e97",
   "metadata": {},
   "outputs": [],
   "source": [
    "s, t = 3, 8\n",
    "\n",
    "rnd_tokens = torch.tensor([[[ 2, 0, 1, 0,  2, -3, 0,  8],\n",
    "                            [-2, 4, 0, 5,  2,  3, 6,  8],\n",
    "                            [ 2, 4, 0, 0, -2,  0, 0,  8]],\n",
    "                          \n",
    "                           [[ 8, 8, 1, 0,  2, -3, 0,  8],\n",
    "                            [ 8, 8, 0, 7,  2,  3, 1,  8],\n",
    "                            [ 8, 8, 8, 8,  8,  8, 8,  8]]])\n",
    "\n",
    "rnd_params = torch.rand((2, 1, t))*2-1"
   ]
  },
  {
   "cell_type": "code",
   "execution_count": null,
   "id": "28570210-5d67-444e-ab6e-af097de3b60f",
   "metadata": {},
   "outputs": [
    {
     "name": "stdout",
     "output_type": "stream",
     "text": [
      "[INFO]: provided `unique_class_values` ([-3, -2, 0, 1, 2, 3, 4, 5, 6, 7, 8]), enforcing `num_clrs=len(unique_class_values)=11`.\n",
      "[WARNING]: We need at least a `params_dim` (is 1) of `2*num_params_per_clr` (is 2), automatically setting `params_dim` to 2 to inforce this!\n",
      "[WARNING]: `params_dim` is set to the minimum `2*num_params_per_clr`=2, but for `zero_sum_space=True` we need one more dimension, automatically setting it to `2*num_params_per_clr+1` 3.\n",
      "[WARNING]: `clr_dim` is set to 1 and `explicit_node_type_embeddings=False`, but for `zero_sum_space=True` we need one more dimension than the number of tokens `num_clrs` (is 11), automatically setting it to `clr_dim=num_clrs+1` 12.\n",
      "[INFO]: Created `nn.Embedding` with a total of 13 vectors in a 15 dimensional space.\n"
     ]
    }
   ],
   "source": [
    "unique_class_values = None\n",
    "unique_class_values = rnd_tokens.unique(sorted=True)\n",
    "\n",
    "num_clrs = 9\n",
    "num_params_per_clr = 1\n",
    "parametrized_tokens = [5, 6, 7]\n",
    "\n",
    "clr_dim    = 1\n",
    "params_dim = 1\n",
    "\n",
    "embedder = RotationalMultimodialPresetEmbedderTiny(clr_dim=clr_dim, \n",
    "                                               num_clrs=num_clrs, \n",
    "                                               params_dim=params_dim, \n",
    "                                               num_params_per_clr=num_params_per_clr,\n",
    "                                               zero_sum_space=True,\n",
    "                                               explicit_node_type_embeddings=True, \n",
    "                                               channel_last=True,\n",
    "                                               parametrized_tokens=parametrized_tokens,\n",
    "                                               unique_class_values=unique_class_values.tolist())"
   ]
  },
  {
   "cell_type": "code",
   "execution_count": null,
   "id": "9174e846-9e86-4f31-b735-20c8277648e3",
   "metadata": {},
   "outputs": [
    {
     "data": {
      "text/plain": [
       "(tensor([[[ 2,  0,  1,  0,  2, -3,  0,  8],\n",
       "          [-2,  4,  0,  5,  2,  3,  6,  8],\n",
       "          [ 2,  4,  0,  0, -2,  0,  0,  8]],\n",
       " \n",
       "         [[ 8,  8,  1,  0,  2, -3,  0,  8],\n",
       "          [ 8,  8,  0,  7,  2,  3,  1,  8],\n",
       "          [ 8,  8,  8,  8,  8,  8,  8,  8]]]),\n",
       " tensor([[[-0.0690,  0.7864,  0.9059,  0.3405,  0.9263, -0.5743,  0.6541,  0.8584]],\n",
       " \n",
       "         [[-0.3695, -0.8219,  0.2678, -0.3850, -0.5806, -0.2786,  0.0526,  0.5283]]]))"
      ]
     },
     "execution_count": null,
     "metadata": {},
     "output_type": "execute_result"
    }
   ],
   "source": [
    "rnd_tokens, rnd_params"
   ]
  },
  {
   "cell_type": "code",
   "execution_count": null,
   "id": "46130163-667c-4f56-acc2-5dec2ef47b2e",
   "metadata": {},
   "outputs": [
    {
     "data": {
      "text/plain": [
       "tensor([[[ 4,  2,  3,  2,  4,  0,  2, 10],\n",
       "         [ 1,  6,  2,  7,  4,  5,  8, 10],\n",
       "         [ 4,  6,  2,  2,  1,  2,  2, 10]],\n",
       "\n",
       "        [[10, 10,  3,  2,  4,  0,  2, 10],\n",
       "         [10, 10,  2,  9,  4,  5,  3, 10],\n",
       "         [10, 10, 10, 10, 10, 10, 10, 10]]])"
      ]
     },
     "execution_count": null,
     "metadata": {},
     "output_type": "execute_result"
    }
   ],
   "source": [
    "rnd_tokens_cls = embedder.tokens_to_unique_class_values(rnd_tokens)\n",
    "rnd_tokens_cls"
   ]
  },
  {
   "cell_type": "code",
   "execution_count": null,
   "id": "b68914c6-1203-42f1-bc37-10427f216949",
   "metadata": {},
   "outputs": [
    {
     "name": "stdout",
     "output_type": "stream",
     "text": [
      "torch.Size([2, 3, 8, 15])\n"
     ]
    },
    {
     "data": {
      "text/plain": [
       "(tensor([[[ 2,  0,  1,  0,  2, -3,  0,  8],\n",
       "          [-2,  4,  0,  5,  2,  3,  6,  8],\n",
       "          [ 2,  4,  0,  0, -2,  0,  0,  8]],\n",
       " \n",
       "         [[ 8,  8,  1,  0,  2, -3,  0,  8],\n",
       "          [ 8,  8,  0,  7,  2,  3,  1,  8],\n",
       "          [ 8,  8,  8,  8,  8,  8,  8,  8]]]),\n",
       " tensor([[[ 0.0000,  0.0000,  0.0000,  0.3405,  0.0000,  0.0000,  0.6541,  0.0000]],\n",
       " \n",
       "         [[ 0.0000,  0.0000,  0.0000, -0.3850,  0.0000,  0.0000,  0.0000,  0.0000]]]))"
      ]
     },
     "execution_count": null,
     "metadata": {},
     "output_type": "execute_result"
    }
   ],
   "source": [
    "enc_tensor = embedder.embed(rnd_tokens_cls, rnd_params)\n",
    "print(enc_tensor.shape)\n",
    "\n",
    "recon_tensor, recon_params = embedder.invert(enc_tensor, reduce_spatial=1)\n",
    "recon_tensor, recon_params"
   ]
  },
  {
   "cell_type": "code",
   "execution_count": null,
   "id": "2d02d749-36e1-450e-9fb1-6b5a825a8d4e",
   "metadata": {},
   "outputs": [],
   "source": [
    "assert torch.allclose(recon_tensor, rnd_tokens)\n",
    "assert not torch.allclose(recon_params, rnd_params, atol=1e-06)   # note decoding puts 0s on all non param times, but we had rnd ones\n",
    "\n",
    "pmask = embedder.get_parametrized_mask(embedder.tokens_to_unique_class_values(recon_tensor))\n",
    "assert torch.allclose(torch.where(pmask.any(1, keepdim=True), recon_params, 0.0), torch.where(pmask.any(1, keepdim=True), rnd_params, 0.0), atol=1e-06)"
   ]
  },
  {
   "cell_type": "markdown",
   "id": "3013e755-dd52-4d79-bae9-2b3675ef979c",
   "metadata": {},
   "source": [
    "### Encode decode check: random circuits"
   ]
  },
  {
   "cell_type": "code",
   "execution_count": null,
   "id": "6e27664d-bf41-4bc9-ae6f-cb97bed17469",
   "metadata": {},
   "outputs": [],
   "source": [
    "from genQC.platform.simulation import Simulator, CircuitBackendType\n",
    "from genQC.platform.tokenizer.circuits_tokenizer import CircuitTokenizer, Vocabulary\n",
    "from genQC.platform.circuits_generation import get_rnd_encoded_circuits, CircuitConditionType\n",
    "from genQC.dataset.balancing import get_tensor_gate_length"
   ]
  },
  {
   "cell_type": "code",
   "execution_count": null,
   "id": "2f5c40c5-61a7-4f32-bd0e-059525685c5e",
   "metadata": {},
   "outputs": [
    {
     "data": {
      "text/plain": [
       "{'h': 1, 'cx': 2, 'ccx': 3, 'swap': 4, 'rx': 5, 'ry': 6, 'cp': 7}"
      ]
     },
     "execution_count": null,
     "metadata": {},
     "output_type": "execute_result"
    }
   ],
   "source": [
    "g = ['h', 'cx', 'ccx', 'swap', 'rx', 'ry', 'cp']\n",
    "\n",
    "simulator = Simulator(CircuitBackendType.QISKIT)\n",
    "tokenizer = CircuitTokenizer({gi:i+1 for i,gi in enumerate(g)})\n",
    "tokenizer.vocabulary"
   ]
  },
  {
   "cell_type": "code",
   "execution_count": null,
   "id": "679ad014-1bab-4bda-9ec1-aae819e8cb50",
   "metadata": {},
   "outputs": [
    {
     "data": {
      "text/plain": [
       "[5, 6, 7]"
      ]
     },
     "execution_count": null,
     "metadata": {},
     "output_type": "execute_result"
    }
   ],
   "source": [
    "parametrized_tokens = CircuitTokenizer.get_parametrized_tokens(tokenizer.vocabulary)\n",
    "parametrized_tokens"
   ]
  },
  {
   "cell_type": "code",
   "execution_count": null,
   "id": "31ba6cae-9aee-4287-9b0d-cc5de883f6ef",
   "metadata": {},
   "outputs": [],
   "source": [
    "def get_rnd_qc():\n",
    "    tensors, ys, Us, params = get_rnd_encoded_circuits(backend=simulator.backend, \n",
    "                                                       tokenizer=tokenizer,\n",
    "                                                       condition=CircuitConditionType.UNITARY,\n",
    "                                                       samples=b,          \n",
    "                                                       num_of_qubits=s, \n",
    "                                                       min_gates=2, \n",
    "                                                       max_gates=t,\n",
    "                                                       min_sub_gate_pool_cnt=len(tokenizer.vocabulary),\n",
    "                                                       optimized=False)\n",
    "    \n",
    "    l = get_tensor_gate_length(tensors, padding_token=0)\n",
    "    for i, li in enumerate(l):    \n",
    "        tensors[i, :, li:] = 8\n",
    "    \n",
    "    return tensors, ys, Us, params"
   ]
  },
  {
   "cell_type": "code",
   "execution_count": null,
   "id": "124bb90d-35da-481d-bf89-2328c893c486",
   "metadata": {},
   "outputs": [
    {
     "data": {
      "application/vnd.jupyter.widget-view+json": {
       "model_id": "5315df66a2274e7680906b4a7f09978e",
       "version_major": 2,
       "version_minor": 0
      },
      "text/plain": [
       "  0%|          | 0/512 [00:00<?, ?it/s]"
      ]
     },
     "metadata": {},
     "output_type": "display_data"
    },
    {
     "name": "stdout",
     "output_type": "stream",
     "text": [
      "[INFO]: Generated unique circuits: 511.\n",
      "[INFO]: No max_num_params provided, infered p_max_para=1, p_min_value=tensor(-0.9999) and p_max_value=tensor(0.9992).\n"
     ]
    },
    {
     "data": {
      "text/plain": [
       "tensor([[-3, -3,  0,  0,  4,  0, -2,  2,  0,  0,  0,  0,  0,  3,  0,  0,  0,  0, -3,  0,  4,  7, -3,  4],\n",
       "        [-3,  3,  0,  0,  4,  0,  0, -2,  1,  7,  3,  0,  6,  0,  6,  0, -2,  7, -3,  0,  0,  7,  3,  0],\n",
       "        [ 0, -3,  7,  5,  0,  1,  2,  0,  0,  0, -3,  4,  0, -3,  0,  1,  0,  7,  3,  0,  4,  0, -3,  0],\n",
       "        [ 3,  0,  7,  0,  0,  0,  0,  0,  0,  7, -3,  4,  0, -3,  0,  0,  2,  0,  0,  5,  0,  0,  0,  4]], dtype=torch.int32)"
      ]
     },
     "execution_count": null,
     "metadata": {},
     "output_type": "execute_result"
    }
   ],
   "source": [
    "b    = 512\n",
    "s, t = 4, 24\n",
    "\n",
    "tensors, ys, Us, params = get_rnd_qc()\n",
    "tensors[0]"
   ]
  },
  {
   "cell_type": "code",
   "execution_count": null,
   "id": "2d3c9b91-0e7c-4330-8e50-35203f88cff4",
   "metadata": {},
   "outputs": [
    {
     "name": "stdout",
     "output_type": "stream",
     "text": [
      "[INFO]: provided `unique_class_values` ([-3, -2, 0, 1, 2, 3, 4, 5, 6, 7, 8]), enforcing `num_clrs=len(unique_class_values)=11`.\n",
      "[WARNING]: We need at least a `params_dim` (is 1) of `2*num_params_per_clr` (is 2), automatically setting `params_dim` to 2 to inforce this!\n",
      "[WARNING]: `params_dim` is set to the minimum `2*num_params_per_clr`=2, but for `zero_sum_space=True` we need one more dimension, automatically setting it to `2*num_params_per_clr+1` 3.\n",
      "[WARNING]: `clr_dim` is set to 1 and `explicit_node_type_embeddings=False`, but for `zero_sum_space=True` we need one more dimension than the number of tokens `num_clrs` (is 11), automatically setting it to `clr_dim=num_clrs+1` 12.\n",
      "[INFO]: Created `nn.Embedding` with a total of 13 vectors in a 15 dimensional space.\n"
     ]
    }
   ],
   "source": [
    "unique_class_values = None\n",
    "unique_class_values = tensors.unique(sorted=True)\n",
    "\n",
    "num_clrs = len(tokenizer.vocabulary) + 1 + 1\n",
    "num_params_per_clr = 3 if \"u\" in g else 1\n",
    "\n",
    "clr_dim    =1\n",
    "params_dim = 1\n",
    "\n",
    "embedder = RotationalMultimodialPresetEmbedderTiny(clr_dim=clr_dim, \n",
    "                                                   num_clrs=num_clrs, \n",
    "                                                   params_dim=params_dim, \n",
    "                                                   num_params_per_clr=num_params_per_clr,\n",
    "                                                   zero_sum_space=True,\n",
    "                                                   explicit_node_type_embeddings=True,\n",
    "                                                   channel_last=True,\n",
    "                                                   parametrized_tokens=parametrized_tokens, \n",
    "                                                   unique_class_values=unique_class_values.tolist())"
   ]
  },
  {
   "cell_type": "code",
   "execution_count": null,
   "id": "16e50b15-f0c4-4267-b918-09a6a9dac006",
   "metadata": {},
   "outputs": [
    {
     "data": {
      "text/plain": [
       "tensor([[0, 0, 2, 2, 6, 2, 1, 4, 2, 2, 2, 2, 2, 5, 2, 2, 2, 2, 0, 2, 6, 9, 0, 6],\n",
       "        [0, 5, 2, 2, 6, 2, 2, 1, 3, 9, 5, 2, 8, 2, 8, 2, 1, 9, 0, 2, 2, 9, 5, 2],\n",
       "        [2, 0, 9, 7, 2, 3, 4, 2, 2, 2, 0, 6, 2, 0, 2, 3, 2, 9, 5, 2, 6, 2, 0, 2],\n",
       "        [5, 2, 9, 2, 2, 2, 2, 2, 2, 9, 0, 6, 2, 0, 2, 2, 4, 2, 2, 7, 2, 2, 2, 6]])"
      ]
     },
     "execution_count": null,
     "metadata": {},
     "output_type": "execute_result"
    }
   ],
   "source": [
    "tensors = embedder.tokens_to_unique_class_values(tensors)\n",
    "tensors[0]"
   ]
  },
  {
   "cell_type": "code",
   "execution_count": null,
   "id": "e4473d87-387b-43d8-b512-c5619091cfc8",
   "metadata": {},
   "outputs": [
    {
     "data": {
      "text/plain": [
       "np.float64(3.4641016151377544)"
      ]
     },
     "execution_count": null,
     "metadata": {},
     "output_type": "execute_result"
    }
   ],
   "source": [
    "np.sqrt(embedder.clr_dim) "
   ]
  },
  {
   "cell_type": "code",
   "execution_count": null,
   "id": "0159f236-f825-4396-859b-e231d7faf9b6",
   "metadata": {},
   "outputs": [
    {
     "name": "stdout",
     "output_type": "stream",
     "text": [
      "token   0:   mean -1.49e-08   norm 3.46    std 1.0\n",
      "token   1:   mean 4.97e-09   norm 3.46    std 1.0\n",
      "token   2:   mean -1.49e-08   norm 3.46    std 1.0\n",
      "token   3:   mean -2.48e-08   norm 3.46    std 1.0\n",
      "token   4:   mean 0.0   norm 3.46    std 1.0\n",
      "token   5:   mean 1.49e-08   norm 3.46    std 1.0\n",
      "token   6:   mean -1.24e-09   norm 3.46    std 1.0\n",
      "token   7:   mean 1.99e-08   norm 3.46    std 1.0\n",
      "token   8:   mean 1.99e-08   norm 3.46    std 1.0\n",
      "token   9:   mean -2.48e-09   norm 3.46    std 1.0\n",
      "token  10:   mean 9.93e-09   norm 3.46    std 1.0\n",
      "params  0:   mean -1.99e-08   norm 1.73    std 1.0\n",
      "params  1:   mean -3.97e-08   norm 1.73    std 1.0\n"
     ]
    }
   ],
   "source": [
    "#embedder single token clr mean:\n",
    "for i in range(embedder._num_discrete_embeddings):\n",
    "    a = embedder.emb_clr(torch.tensor([i]))[:, :embedder.clr_dim]\n",
    "    print(f\"token  {str(i):>2}:   mean {a.mean():0.3}   norm {torch.linalg.vector_norm(a):0.3}    std {a.std(correction=0):0.3}\")\n",
    "\n",
    "for i in range(embedder._num_param_embeddings):\n",
    "    a = embedder.emb_clr(torch.tensor([embedder._num_discrete_embeddings+i]))[:, embedder.clr_dim:]\n",
    "    print(f\"params {str(i):>2}:   mean {a.mean():0.3}   norm {torch.linalg.vector_norm(a):0.3}    std {a.std(correction=0):0.3}\")"
   ]
  },
  {
   "cell_type": "code",
   "execution_count": null,
   "id": "09389ae7-6608-45b7-977c-b7b387391ab1",
   "metadata": {},
   "outputs": [
    {
     "data": {
      "image/png": "[encoded data removed]",
      "text/plain": [
       "<Figure size 640x480 with 2 Axes>"
      ]
     },
     "metadata": {},
     "output_type": "display_data"
    }
   ],
   "source": [
    "#get scalar produkt of all\n",
    "p = torch.zeros((embedder.num_embeddings, embedder.num_embeddings))\n",
    "for i,j in itertools.product(range(embedder.num_embeddings), range(embedder.num_embeddings)):\n",
    "    v1 = embedder.emb_clr(torch.tensor([i])) \n",
    "    v2 = embedder.emb_clr(torch.tensor([j]))\n",
    "    p[i, j] = (v1 * v2).sum() / (torch.linalg.norm(v1)*torch.linalg.norm(v2))\n",
    "    \n",
    "plt.imshow(p)\n",
    "plt.colorbar()\n",
    "plt.show()"
   ]
  },
  {
   "cell_type": "code",
   "execution_count": null,
   "id": "f4c8232d-0b6e-4f52-94e6-e5e4587ae0d1",
   "metadata": {},
   "outputs": [
    {
     "data": {
      "text/plain": [
       "(tensor(-7.4943e-09), tensor(1.))"
      ]
     },
     "execution_count": null,
     "metadata": {},
     "output_type": "execute_result"
    }
   ],
   "source": [
    "#before normalization global scale\n",
    "enc_tensor = embedder.embed(tensors, params)\n",
    "enc_tensor.mean(), enc_tensor.std(correction=0)"
   ]
  },
  {
   "cell_type": "code",
   "execution_count": null,
   "id": "20f48a04-fe8b-4c27-9c54-ce4caed8e8b9",
   "metadata": {},
   "outputs": [
    {
     "data": {
      "text/plain": [
       "tensor([1.])"
      ]
     },
     "execution_count": null,
     "metadata": {},
     "output_type": "execute_result"
    }
   ],
   "source": [
    "enc_tensor[..., :embedder.clr_dim].std(-1, correction=0).unique()"
   ]
  },
  {
   "cell_type": "code",
   "execution_count": null,
   "id": "38591b4d-50ce-4a36-befd-08c579466399",
   "metadata": {},
   "outputs": [
    {
     "data": {
      "text/plain": [
       "tensor([1.0000, 1.0000, 1.0000, 1.0000])"
      ]
     },
     "execution_count": null,
     "metadata": {},
     "output_type": "execute_result"
    }
   ],
   "source": [
    "enc_tensor[..., embedder.clr_dim:].std(-1, correction=0).unique()"
   ]
  },
  {
   "cell_type": "code",
   "execution_count": null,
   "id": "986eda9a-3450-4acf-8648-6090ec5d30b6",
   "metadata": {},
   "outputs": [
    {
     "data": {
      "text/plain": [
       "tensor(1.)"
      ]
     },
     "execution_count": null,
     "metadata": {},
     "output_type": "execute_result"
    }
   ],
   "source": [
    "enc_tensor[..., :embedder.clr_dim].var(correction=0)"
   ]
  },
  {
   "cell_type": "code",
   "execution_count": null,
   "id": "9801b83b-b448-4c33-8e1f-a91b5249e901",
   "metadata": {},
   "outputs": [
    {
     "name": "stdout",
     "output_type": "stream",
     "text": [
      "tensors.shape=torch.Size([511, 4, 24])\n",
      "params.shape=torch.Size([511, 1, 24])\n",
      "tensor(5.9605e-08)\n"
     ]
    }
   ],
   "source": [
    "recon_tensor, recon_params = embedder.invert(enc_tensor)\n",
    "\n",
    "print(f\"{tensors.shape=}\")\n",
    "print(f\"{params.shape=}\")\n",
    "print((params-recon_params).abs().max())\n",
    "\n",
    "assert torch.allclose(embedder.unique_class_values_to_tokens(tensors).long(), recon_tensor)\n",
    "assert torch.allclose(params, recon_params, atol=1e-07)"
   ]
  },
  {
   "cell_type": "markdown",
   "id": "00f38b38-3b96-43aa-8bc1-3097bcc2bfce",
   "metadata": {},
   "source": [
    "# Export -"
   ]
  },
  {
   "cell_type": "code",
   "execution_count": null,
   "id": "947b033b-cd7d-4fb7-99dc-12035a0ae647",
   "metadata": {},
   "outputs": [],
   "source": [
    "#| hide\n",
    "import nbdev; nbdev.nbdev_export()"
   ]
  }
 ],
 "metadata": {
  "kernelspec": {
   "display_name": "python3",
   "language": "python",
   "name": "python3"
  },
  "widgets": {
   "application/vnd.jupyter.widget-state+json": {
    "state": {},
    "version_major": 2,
    "version_minor": 0
   }
  }
 },
 "nbformat": 4,
 "nbformat_minor": 5
}
