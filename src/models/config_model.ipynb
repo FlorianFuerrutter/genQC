{
 "cells": [
  {
   "cell_type": "markdown",
   "id": "7883f9c7-7102-4dd1-9a85-f3d2f1e653fc",
   "metadata": {},
   "source": [
    "# Config model"
   ]
  },
  {
   "cell_type": "markdown",
   "id": "f4e2e8f6-575f-4f5f-81f7-854ad4525351",
   "metadata": {},
   "source": [
    "Model base class that handles loading and storing from/to config-files."
   ]
  },
  {
   "cell_type": "code",
   "execution_count": null,
   "id": "e71cd37f-025e-411a-b830-16f4d512c617",
   "metadata": {},
   "outputs": [],
   "source": [
    "#| default_exp models.config_model"
   ]
  },
  {
   "cell_type": "code",
   "execution_count": null,
   "id": "7db9efd6-abbc-4256-b0d9-7f7da64d81b4",
   "metadata": {},
   "outputs": [],
   "source": [
    "#| export\n",
    "from genQC.imports import *\n",
    "from genQC.config_loader import *\n",
    "from genQC.util import *\n",
    "from datetime import datetime"
   ]
  },
  {
   "cell_type": "markdown",
   "id": "f8228d0c-220e-400e-ae19-08dae3dd256a",
   "metadata": {},
   "source": [
    "## Model"
   ]
  },
  {
   "cell_type": "code",
   "execution_count": null,
   "id": "90e32385-485c-4bb0-863a-9b6390e8b9df",
   "metadata": {},
   "outputs": [],
   "source": [
    "#| export\n",
    "class Config_Model(nn.Module):\n",
    "    \"\"\"A basic `nn.Module` with IO functionality.\"\"\"\n",
    "    def __init__(self): super().__init__()\n",
    "    \n",
    "    #---------------------\n",
    "    \n",
    "    def get_config(self, save_path=None, without_metadata=False):\n",
    "        if not without_metadata:       \n",
    "            config = {}\n",
    "            config[\"target\"]         = class_to_str(type(self)) \n",
    "            config[\"save_path\"]      = save_path\n",
    "            config[\"save_datetime\"]  = datetime.now().strftime(\"%m/%d/%Y %H:%M:%S\")\n",
    "            config[\"params\"]         = self.params_config  \n",
    "        else:\n",
    "            config = self.params_config  \n",
    "        \n",
    "        self.config = config        \n",
    "        return config\n",
    "    \n",
    "    def store_model(self, config_path: str=None, save_path: str=None, without_metadata=False):        \n",
    "    \n",
    "        config = self.get_config(save_path, without_metadata)\n",
    "    \n",
    "        if exists(config_path):\n",
    "            if without_metadata: save_dataclass_yaml(config, config_path)\n",
    "            else               : save_dict_yaml(config, config_path)            \n",
    "                       \n",
    "        if exists(save_path):\n",
    "            torch.save(self.state_dict(), save_path)     \n",
    "    \n",
    "    #---------------------\n",
    "    \n",
    "    @staticmethod\n",
    "    def from_config(config, device: torch.device, save_path: str=None):  \n",
    "        \"\"\"Use this if we have a loaded config. Maybe within other classes (e.g. pipeline and nested models)\"\"\"\n",
    "        \n",
    "        model = instantiate_from_config(config)\n",
    "        model = model.to(device) \n",
    "        print(f\"[INFO]: `{class_to_str(type(model))}` instantiated from given config on {device}.\")\n",
    "        \n",
    "        #--------------------------------        \n",
    "        if not exists(save_path):            \n",
    "            if \"save_path\" in config:\n",
    "                save_path = config[\"save_path\"]\n",
    "            else:\n",
    "                print(\"[INFO]: Found no key `save_path` path in config.\")\n",
    "                                  \n",
    "        if exists(save_path):\n",
    "            model.load_state_dict(torch.load(save_path, map_location=torch.device(device).type, weights_only=True), strict=True)\n",
    "        else:\n",
    "            print(f\"[INFO]: `{class_to_str(type(model))}`. No save_path` provided. No state dict loaded.\")\n",
    "\n",
    "        return model\n",
    "    \n",
    "    @staticmethod\n",
    "    def from_config_file(config_path, device: torch.device, save_path: str=None):    \n",
    "        config = load_config(config_path)\n",
    "        return Config_Model.from_config(config, device, save_path)       "
   ]
  },
  {
   "cell_type": "markdown",
   "id": "cdfd7536-56f8-479d-911f-3d62b427ecba",
   "metadata": {},
   "source": [
    "# Export -"
   ]
  },
  {
   "cell_type": "code",
   "execution_count": null,
   "id": "6c9f41df-ba6d-429d-a6a2-a9ff60a1ddbe",
   "metadata": {},
   "outputs": [],
   "source": [
    "#| hide\n",
    "import nbdev; nbdev.nbdev_export()"
   ]
  }
 ],
 "metadata": {
  "kernelspec": {
   "display_name": "python3",
   "language": "python",
   "name": "python3"
  }
 },
 "nbformat": 4,
 "nbformat_minor": 5
}
