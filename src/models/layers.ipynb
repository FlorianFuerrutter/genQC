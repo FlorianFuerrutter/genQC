{
 "cells": [
  {
   "cell_type": "markdown",
   "id": "a8980c24-d62e-462b-ba89-3195cfdcc374",
   "metadata": {},
   "source": [
    "# Layers"
   ]
  },
  {
   "cell_type": "markdown",
   "id": "1074866c-9b85-4cd3-ab81-dd09c62348d0",
   "metadata": {},
   "source": [
    "Common model layers."
   ]
  },
  {
   "cell_type": "code",
   "execution_count": null,
   "id": "a8832bdd-f61c-44e1-8619-a9cb352ba768",
   "metadata": {},
   "outputs": [],
   "source": [
    "#| default_exp models.layers"
   ]
  },
  {
   "cell_type": "code",
   "execution_count": null,
   "id": "06272f6f-b4e3-4504-a90a-feebbf6ad821",
   "metadata": {},
   "outputs": [],
   "source": [
    "#| export\n",
    "from genQC.imports import *"
   ]
  },
  {
   "cell_type": "markdown",
   "id": "49c94fc1-fc52-404f-a03e-ee892ba03cc9",
   "metadata": {},
   "source": [
    "## Basic scaling blocks"
   ]
  },
  {
   "cell_type": "code",
   "execution_count": null,
   "id": "9e85d3dd-f169-464a-ad26-3fc344982b25",
   "metadata": {},
   "outputs": [],
   "source": [
    "#| export\n",
    "class DownBlock2D(nn.Module):  \n",
    "    \"\"\"A 2d down scale block.\"\"\"\n",
    "    def __init__(self, in_ch, out_ch, kernel_size=2, stride=2, padding=0, use_conv=True):\n",
    "        super().__init__()  \n",
    "        self.use_conv = use_conv                \n",
    "        if self.use_conv: \n",
    "            self.conv1  = nn.Conv2d(in_ch, out_ch, kernel_size=kernel_size, stride=stride, padding=padding)           \n",
    "        else:       \n",
    "            self.avg_pool = nn.AvgPool2d(kernel_size=kernel_size, stride=stride, padding=padding)    \n",
    "            self.convId   = nn.Conv2d(in_ch, out_ch, kernel_size=1, stride=1, padding=\"same\") if in_ch!=out_ch else nn.Identity()   \n",
    "        \n",
    "    def forward(self, x):               \n",
    "        if self.use_conv:\n",
    "            #x = F.pad(x, pad=(0,0,0,1), mode=\"constant\", value=0) #for 2d: pad=(0,1,0,1)\n",
    "            x = self.conv1(x)          \n",
    "        else:\n",
    "            x = self.avg_pool(x)\n",
    "            x = self.convId(x)           \n",
    "        return x"
   ]
  },
  {
   "cell_type": "code",
   "execution_count": null,
   "id": "5f59ce01-cf1d-449a-8434-a24d4275f6ff",
   "metadata": {},
   "outputs": [],
   "source": [
    "#| export\n",
    "class UpBlock2D(nn.Module):  \n",
    "    \"\"\"A 2d up scale block.\"\"\"\n",
    "    def __init__(self, in_ch, out_ch, kernel_size=2, stride=2, padding=0, use_conv=True):\n",
    "        super().__init__()  \n",
    "        self.use_conv  = use_conv                 \n",
    "        self.up_sample = nn.Upsample(scale_factor=kernel_size)           \n",
    "        if self.use_conv: \n",
    "            self.conv1  = nn.Conv2d(in_ch, out_ch, kernel_size=(1,3), stride=1, padding=\"same\")  \n",
    "        else:             \n",
    "            self.convId = nn.Conv2d(in_ch, out_ch, kernel_size=1, stride=1, padding=\"same\") if in_ch!=out_ch else nn.Identity()   \n",
    "            \n",
    "    def forward(self, x):        \n",
    "        x = self.up_sample(x)       \n",
    "        if self.use_conv: \n",
    "            x = self.conv1(x)          \n",
    "        else:             \n",
    "            x = self.convId(x)                \n",
    "        return x"
   ]
  },
  {
   "cell_type": "code",
   "execution_count": null,
   "id": "43810f8e-888d-452a-a7be-928c0141adf2",
   "metadata": {},
   "outputs": [],
   "source": [
    "#| hide\n",
    "#| export\n",
    "class ResDownBlock2D(nn.Module):  \n",
    "    \"\"\"A 2d residual down scale block.\"\"\"\n",
    "    def __init__(self, in_ch, out_ch, kernel_size=2, stride=2, padding=0):\n",
    "        super().__init__()     \n",
    "        self.act    = nn.SiLU() \n",
    "        self.conv1  = nn.Conv2d( in_ch, out_ch, kernel_size=kernel_size, stride=stride, padding=padding) \n",
    "        self.norm   = torch.nn.GroupNorm(num_groups=16, num_channels=out_ch, eps=1e-5, affine=True)        \n",
    "        self.convId = nn.Conv2d(in_ch, out_ch, kernel_size=1, stride=1, padding=\"same\") if in_ch!=out_ch else lambda x:x\n",
    "        self.down   = nn.AvgPool2d(kernel_size=kernel_size, stride=stride, padding=padding)\n",
    "               \n",
    "    def forward(self, x):         \n",
    "        r1 = self.conv1(x)\n",
    "        r1 = self.norm(r1)\n",
    "        r1 = self.act(r1)\n",
    "        \n",
    "        r2 = self.convId(x)\n",
    "        r2 = self.down(r2)\n",
    "        return self.act(r1 + r2)"
   ]
  },
  {
   "cell_type": "code",
   "execution_count": null,
   "id": "28006ba4-b4ce-4898-aa39-bb026a53fa5c",
   "metadata": {},
   "outputs": [],
   "source": [
    "#| hide\n",
    "#| export\n",
    "class ResUpBlock2D(nn.Module):  \n",
    "    \"\"\"A 2d residual up scale block.\"\"\"\n",
    "    def __init__(self, in_ch, out_ch, kernel_size=2, stride=2, padding=0):\n",
    "        super().__init__()     \n",
    "        self.act    = nn.SiLU()\n",
    "        self.conv1  = nn.ConvTranspose2d(in_ch, out_ch, kernel_size=kernel_size, stride=stride, padding=padding) \n",
    "        self.norm   = torch.nn.GroupNorm(num_groups=16, num_channels=out_ch, eps=1e-6, affine=True)        \n",
    "        self.convId = nn.Conv2d(in_ch, out_ch, kernel_size=1, stride=1, padding=\"same\") if in_ch!=out_ch else nn.Identity()\n",
    "        self.up     = nn.Upsample(scale_factor=kernel_size)\n",
    "               \n",
    "    def forward(self, x):         \n",
    "        r1 = self.conv1(x)\n",
    "        r1 = self.norm(r1)\n",
    "        r1 = self.act(r1)\n",
    "        \n",
    "        r2 = self.convId(x)\n",
    "        r2 = self.up(r2)\n",
    "        return self.act(r1 + r2)"
   ]
  },
  {
   "cell_type": "markdown",
   "id": "448bc6fe-3af1-429f-bce5-f0cc44c42fd4",
   "metadata": {},
   "source": [
    "## ResNet blocks"
   ]
  },
  {
   "cell_type": "code",
   "execution_count": null,
   "id": "994a03e4-dbcf-4c3a-bfca-ff22020f612b",
   "metadata": {},
   "outputs": [],
   "source": [
    "#| export\n",
    "class ResBlock2D(nn.Module):\n",
    "    \"\"\"A 2d residual block.\"\"\"\n",
    "    def __init__(self, in_ch, out_ch, kernel_size, skip=True):\n",
    "        super().__init__()             \n",
    "        self.act   = nn.SiLU()             \n",
    "        self.conv1 = nn.Conv2d( in_ch, out_ch, kernel_size=kernel_size, stride=1, padding =\"same\")        \n",
    "        self.conv2 = nn.Conv2d(out_ch, out_ch, kernel_size=kernel_size, stride=1, padding =\"same\")\n",
    "        \n",
    "        self.norm1  = torch.nn.GroupNorm(num_groups=32, num_channels=in_ch) #, eps=1e-6, affine=True)         \n",
    "        self.norm2  = torch.nn.GroupNorm(num_groups=32, num_channels=out_ch) #, eps=1e-6, affine=True)  \n",
    "        \n",
    "        self.skip  = skip \n",
    "        if self.skip:        \n",
    "            self.skip_connection= nn.Conv2d(in_ch,  out_ch, kernel_size=1, stride=1, padding =\"same\") if in_ch!=out_ch else nn.Identity()\n",
    "         \n",
    "    def forward(self, x):      \n",
    "        \n",
    "        #in layers\n",
    "        h = self.norm1(x) \n",
    "        h = self.act(h)\n",
    "        h = self.conv1(h)  \n",
    "        \n",
    "        #out layers\n",
    "        h = self.norm2(h) \n",
    "        h = self.act(h)\n",
    "        h = self.conv2(h)\n",
    "    \n",
    "        #----\n",
    "    \n",
    "        if not self.skip: return h  \n",
    "                   \n",
    "        return self.skip_connection(x) + h"
   ]
  },
  {
   "cell_type": "code",
   "execution_count": null,
   "id": "06af7915-5597-494a-adb3-bad9c356f8a4",
   "metadata": {},
   "outputs": [],
   "source": [
    "#| export\n",
    "class ResBlock2D_Conditional(nn.Module):\n",
    "    \"\"\"A 2d residual block with input of a time-step $t$ embedding.\"\"\"\n",
    "    def __init__(self, in_ch, out_ch, t_emb_size, kernel_size, skip=True):\n",
    "        super().__init__()             \n",
    "        self.act   = nn.SiLU()             \n",
    "        self.conv1 = nn.Conv2d( in_ch, out_ch, kernel_size=kernel_size, stride=1, padding =\"same\")        \n",
    "        self.conv2 = nn.Conv2d(out_ch, out_ch, kernel_size=kernel_size, stride=1, padding =\"same\")\n",
    "        \n",
    "        self.norm1  = torch.nn.GroupNorm(num_groups=32, num_channels=in_ch) #, eps=1e-6, affine=True)         \n",
    "        self.norm2  = torch.nn.GroupNorm(num_groups=32, num_channels=out_ch) #, eps=1e-6, affine=True)  \n",
    "        \n",
    "        self.skip  = skip \n",
    "        if self.skip:        \n",
    "            self.skip_connection= nn.Conv2d(in_ch,  out_ch, kernel_size=1, stride=1, padding =\"same\") if in_ch!=out_ch else nn.Identity()\n",
    "        \n",
    "        self.t_proj = nn.Linear(t_emb_size, out_ch)    \n",
    "               \n",
    "    def forward(self, x, t_emb):      \n",
    "        \n",
    "        #in layers\n",
    "        h = self.norm1(x) \n",
    "        h = self.act(h)\n",
    "        h = self.conv1(h)  \n",
    "        \n",
    "        #embed\n",
    "        h = h + self.t_proj(t_emb)[:, :, None, None]\n",
    "        \n",
    "        #out layers\n",
    "        h = self.norm2(h) \n",
    "        h = self.act(h)\n",
    "        h = self.conv2(h)\n",
    "    \n",
    "        #----\n",
    "    \n",
    "        if not self.skip: return h  \n",
    "                   \n",
    "        return self.skip_connection(x) + h"
   ]
  },
  {
   "cell_type": "markdown",
   "id": "4f79f764-f9f1-49bb-aa44-e771d748c223",
   "metadata": {},
   "source": [
    "## FeedForward layer"
   ]
  },
  {
   "cell_type": "code",
   "execution_count": null,
   "id": "bbe2ed0a-8cc9-4926-9a46-f377d73df581",
   "metadata": {},
   "outputs": [],
   "source": [
    "#| export\n",
    "class FeedForward(nn.Module):\n",
    "    \"\"\"A small dense feed-forward network as used in `transformers`.\"\"\"\n",
    "    def __init__(self, in_ch, out_ch, inner_mult=1):\n",
    "        super().__init__()\n",
    "        self.proj1 = nn.Linear(in_ch, in_ch*inner_mult)   \n",
    "        self.proj2 = nn.Linear(in_ch*inner_mult, out_ch) \n",
    "        self.act   = nn.SiLU()\n",
    "        \n",
    "    def forward(self, x):\n",
    "        x = self.proj1(x)\n",
    "        x = self.act(x)\n",
    "        x = self.proj2(x) \n",
    "        return x     "
   ]
  },
  {
   "cell_type": "markdown",
   "id": "6c230bb5-4b6d-4891-99f8-6f76f5c08fe0",
   "metadata": {},
   "source": [
    "## Position embedding layers"
   ]
  },
  {
   "attachments": {
    "a31f2432-fbf6-4ef8-b023-91ea2bfb84ca.png": {
     "image/png": "[encoded data removed]"
    }
   },
   "cell_type": "markdown",
   "id": "ab364029-0d4a-461b-aaf4-da0ac25381eb",
   "metadata": {},
   "source": [
    "Create sinusoidal position embeddings, same as those from the `transformer`:\n",
    "\n",
    "![](attachment:a31f2432-fbf6-4ef8-b023-91ea2bfb84ca.png)"
   ]
  },
  {
   "cell_type": "code",
   "execution_count": null,
   "id": "fab3d4a3-5d08-4855-bd49-853200b799b1",
   "metadata": {},
   "outputs": [],
   "source": [
    "#| export\n",
    "class PositionalEncoding(nn.Module):\n",
    "    \"\"\"An absolute pos encoding layer.\"\"\"\n",
    "    def __init__(self, d_model: int, dropout: float = 0.0, max_len: int = 5000):\n",
    "        super().__init__()\n",
    "        self.dropout = nn.Dropout(p=dropout)\n",
    "\n",
    "        position = torch.arange(max_len).unsqueeze(1)\n",
    "        div_term = torch.exp(torch.arange(0, d_model, 2) * (-math.log(10000.0) / d_model))\n",
    "        pe = torch.zeros(max_len, d_model)\n",
    "        pe[:, 0::2] = torch.sin(position * div_term)\n",
    "        pe[:, 1::2] = torch.cos(position * div_term)\n",
    "        self.register_buffer('pe', pe)\n",
    "\n",
    "    def forward(self, x: torch.Tensor) -> torch.Tensor:\n",
    "        \"\"\"\n",
    "        Arguments:\n",
    "            x: Tensor, shape ``[batch_size, seq_len , embedding_dim]``\n",
    "        \"\"\"\n",
    "        x = x + self.pe[None, :x.size(1)]\n",
    "        return self.dropout(x)"
   ]
  },
  {
   "cell_type": "code",
   "execution_count": null,
   "id": "36032308-bd0e-4409-9db0-9d89fc258e5a",
   "metadata": {},
   "outputs": [],
   "source": [
    "#| export\n",
    "class TimeEmbedding(PositionalEncoding):\n",
    "    \"\"\"A time embedding layer\"\"\"\n",
    "    def __init__(self, d_model: int, dropout: float = 0.0, max_len: int = 5000):\n",
    "        super().__init__(d_model, dropout, max_len)             \n",
    "        self.ff = FeedForward(d_model, d_model)  \n",
    "       \n",
    "    def forward(self, t: torch.Tensor):       \n",
    "        x = self.pe[t]       \n",
    "        x = self.ff(x)               \n",
    "        return self.dropout(x)"
   ]
  },
  {
   "cell_type": "code",
   "execution_count": null,
   "id": "a64b9668-8b10-409c-b1a1-7284b80a117a",
   "metadata": {},
   "outputs": [],
   "source": [
    "#| export\n",
    "class PositionalEncodingTransposed(PositionalEncoding):\n",
    "    def __init__(self, d_model: int, dropout: float = 0.0, max_len: int = 5000):\n",
    "        super().__init__(d_model, dropout, max_len)        \n",
    "        self.pe = torch.permute(self.pe, (1, 0)) # [max_len, d_model] to [d_model, max_len]\n",
    "               \n",
    "    def forward(self, x: torch.Tensor) -> torch.Tensor:\n",
    "        \"\"\"\n",
    "        Arguments:\n",
    "            x: Tensor, shape ``[batch_size, embedding_dim, seq_len]``\n",
    "        \"\"\"\n",
    "        x = x + self.pe[None, :, :x.size(2)]\n",
    "        return self.dropout(x)"
   ]
  },
  {
   "cell_type": "code",
   "execution_count": null,
   "id": "3577aa1f-67f1-496e-b0ac-23158c2c5b4f",
   "metadata": {},
   "outputs": [],
   "source": [
    "#| export\n",
    "class PositionalEncoding2D(PositionalEncodingTransposed):\n",
    "    \"\"\"A 2D absolute pos encoding layer.\"\"\"\n",
    "    def __init__(self, d_model: int, dropout: float = 0.0, max_len: int = 5000):\n",
    "        super().__init__(d_model=d_model//2, dropout=dropout, max_len=max_len)    \n",
    "        self.d_model_half = d_model//2    \n",
    "        # self.proj         = nn.Conv2d(d_model, d_model, kernel_size=1, stride=1, padding =\"same\")      \n",
    "    \n",
    "    def forward(self, x: torch.Tensor) -> torch.Tensor:\n",
    "        \"\"\"\n",
    "        Arguments:\n",
    "            x: Tensor, shape ``[batch_size, gate_color, space , time]``\n",
    "        \"\"\"\n",
    "                                          \n",
    "        p1 = self.pe[None, :, :x.size(2),       None] #space encoding\n",
    "        p2 = self.pe[None, :,       None, :x.size(3)] #time encoding \n",
    "                                \n",
    "        x[:, :self.d_model_half] = x[:, :self.d_model_half] + p1\n",
    "        x[:, self.d_model_half:] = x[:, self.d_model_half:] + p2\n",
    "        \n",
    "        # x = self.proj(x)\n",
    "        \n",
    "        return self.dropout(x)"
   ]
  },
  {
   "cell_type": "code",
   "execution_count": null,
   "id": "520b57e6-615b-4cf1-ab86-5c3a9a4003ce",
   "metadata": {},
   "outputs": [],
   "source": [
    "#| hide\n",
    "#| export\n",
    "class PositionalEncoding2DSpaceOnly(PositionalEncodingTransposed):\n",
    "    def __init__(self, d_model: int, dropout: float = 0.0, max_len: int = 5000):\n",
    "        super().__init__(d_model=d_model, dropout=dropout, max_len=max_len)      \n",
    "    \n",
    "    def forward(self, x: torch.Tensor) -> torch.Tensor:\n",
    "        \"\"\"\n",
    "        Arguments:\n",
    "            x: Tensor, shape ``[batch_size, gate_color, space , time]``\n",
    "        \"\"\"\n",
    "                                          \n",
    "        p1 = self.pe[None, :, :x.size(2), None] #space encoding        \n",
    "        return self.dropout(x + p1)"
   ]
  },
  {
   "cell_type": "code",
   "execution_count": null,
   "id": "18df9b32-740e-4be5-a999-f89a1e3d264e",
   "metadata": {},
   "outputs": [
    {
     "data": {
      "text/plain": [
       "torch.Size([4, 3, 4])"
      ]
     },
     "execution_count": null,
     "metadata": {},
     "output_type": "execute_result"
    }
   ],
   "source": [
    "a = torch.zeros((1, 4, 3, 4))\n",
    "l = PositionalEncoding2D(d_model=4)   \n",
    "\n",
    "l(a)[0].shape"
   ]
  },
  {
   "cell_type": "markdown",
   "id": "f41f26a8-ac40-4e91-8c0e-1ef07a0fd4f4",
   "metadata": {},
   "source": [
    "# Export -"
   ]
  },
  {
   "cell_type": "code",
   "execution_count": null,
   "id": "a0474216-8e0c-4ba7-9a37-571ac7d8e82c",
   "metadata": {},
   "outputs": [],
   "source": [
    "#| hide\n",
    "import nbdev; nbdev.nbdev_export()"
   ]
  }
 ],
 "metadata": {
  "kernelspec": {
   "display_name": "python3",
   "language": "python",
   "name": "python3"
  }
 },
 "nbformat": 4,
 "nbformat_minor": 5
}
