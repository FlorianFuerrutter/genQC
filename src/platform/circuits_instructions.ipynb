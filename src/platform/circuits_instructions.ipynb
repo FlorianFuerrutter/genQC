{
 "cells": [
  {
   "cell_type": "markdown",
   "id": "4bf8892a-8c4a-4d36-8fd9-c983a1bea170",
   "metadata": {},
   "source": [
    "# Circuits instructions\n",
    "\n",
    "> Classes for quantum circuit instructions."
   ]
  },
  {
   "cell_type": "code",
   "execution_count": null,
   "id": "8f8bab72-5b33-4d47-8805-8efa39510344",
   "metadata": {},
   "outputs": [],
   "source": [
    "#| default_exp platform.circuits_instructions"
   ]
  },
  {
   "cell_type": "code",
   "execution_count": null,
   "id": "c82c4d7b-e275-416e-b88d-3d527a9e3bff",
   "metadata": {},
   "outputs": [],
   "source": [
    "#| export\n",
    "from genQC.imports import *"
   ]
  },
  {
   "cell_type": "markdown",
   "id": "a0aef250-6b8a-4b34-b9a9-9745048d8ea5",
   "metadata": {},
   "source": [
    "## Circuit instructions"
   ]
  },
  {
   "cell_type": "code",
   "execution_count": null,
   "id": "904acc48-5087-4efb-bd49-717f2397c867",
   "metadata": {},
   "outputs": [],
   "source": [
    "#| export\n",
    "@dataclass\n",
    "class CircuitInstruction():\n",
    "    \"\"\"Basic quantum circuit instruction.\"\"\"\n",
    "    name: str\n",
    "    control_nodes: Sequence[int]\n",
    "    target_nodes: Sequence[int]\n",
    "    params: Sequence[float]"
   ]
  },
  {
   "cell_type": "code",
   "execution_count": null,
   "id": "94b09554-53de-444d-a928-4a57a6bbc6d4",
   "metadata": {},
   "outputs": [],
   "source": [
    "#| export\n",
    "class CircuitInstructions():\n",
    "    \"\"\"Basic quantum circuit instruction handler.\"\"\"\n",
    "    \n",
    "    def __init__(self, tensor_shape: torch.Size) -> None:\n",
    "        assert len(tensor_shape) == 2   # ... [qubits, time]\n",
    "        self.tensor_shape  = tensor_shape     \n",
    "        self._instructions = []\n",
    "        self.instruction_names_set = set()\n",
    "    \n",
    "    def add_instruction(self,  \n",
    "                        name: str, \n",
    "                        control_nodes: Sequence[int], \n",
    "                        target_nodes: Sequence[int], \n",
    "                        params: Sequence[float]) -> None:\n",
    "        self.instruction_names_set.add(name)\n",
    "        self._instructions.append(CircuitInstruction(name, control_nodes, target_nodes, params))\n",
    "\n",
    "    @property\n",
    "    def data(self) -> List[CircuitInstruction]: return self._instructions\n",
    "\n",
    "    @property\n",
    "    def length(self) -> int: return len(self._instructions)\n",
    "\n",
    "    @property\n",
    "    def num_qubits(self) -> int: return self.tensor_shape[0]\n",
    "\n",
    "    @property\n",
    "    def max_gates(self) -> int: return self.tensor_shape[1]\n",
    "    \n",
    "    def __repr__(self) -> str: return str(self._instructions)\n",
    "\n",
    "    def print(self) -> None:\n",
    "        for instruction in self.data: \n",
    "            print(instruction)        "
   ]
  },
  {
   "cell_type": "markdown",
   "id": "13cf0ddc-2efe-426f-816a-bc6b1d324ae0",
   "metadata": {},
   "source": [
    "# Export -"
   ]
  },
  {
   "cell_type": "code",
   "execution_count": null,
   "id": "99039570-261c-4196-a4bc-6e476c743c1e",
   "metadata": {},
   "outputs": [],
   "source": [
    "#| hide\n",
    "import nbdev; nbdev.nbdev_export()"
   ]
  }
 ],
 "metadata": {
  "kernelspec": {
   "display_name": "python3",
   "language": "python",
   "name": "python3"
  },
  "widgets": {
   "application/vnd.jupyter.widget-state+json": {
    "state": {},
    "version_major": 2,
    "version_minor": 0
   }
  }
 },
 "nbformat": 4,
 "nbformat_minor": 5
}
