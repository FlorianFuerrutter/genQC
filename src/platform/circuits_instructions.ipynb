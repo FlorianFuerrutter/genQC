{
 "cells": [
  {
   "cell_type": "markdown",
   "id": "4bf8892a-8c4a-4d36-8fd9-c983a1bea170",
   "metadata": {},
   "source": [
    "# Circuits instructions\n",
    "\n",
    "> Classes for quantum circuit instructions."
   ]
  },
  {
   "cell_type": "code",
   "execution_count": 1,
   "id": "8f8bab72-5b33-4d47-8805-8efa39510344",
   "metadata": {
    "execution": {
     "iopub.execute_input": "2025-06-01T11:17:39.587330Z",
     "iopub.status.busy": "2025-06-01T11:17:39.586324Z",
     "iopub.status.idle": "2025-06-01T11:17:39.590157Z",
     "shell.execute_reply": "2025-06-01T11:17:39.589629Z",
     "shell.execute_reply.started": "2025-06-01T11:17:39.587330Z"
    }
   },
   "outputs": [],
   "source": [
    "#| default_exp platform.circuits_instructions"
   ]
  },
  {
   "cell_type": "code",
   "execution_count": 2,
   "id": "c82c4d7b-e275-416e-b88d-3d527a9e3bff",
   "metadata": {
    "execution": {
     "iopub.execute_input": "2025-06-01T11:17:39.591145Z",
     "iopub.status.busy": "2025-06-01T11:17:39.591145Z",
     "iopub.status.idle": "2025-06-01T11:17:41.600054Z",
     "shell.execute_reply": "2025-06-01T11:17:41.600054Z",
     "shell.execute_reply.started": "2025-06-01T11:17:39.591145Z"
    }
   },
   "outputs": [],
   "source": [
    "#| export\n",
    "from genQC.imports import *"
   ]
  },
  {
   "cell_type": "markdown",
   "id": "a0aef250-6b8a-4b34-b9a9-9745048d8ea5",
   "metadata": {},
   "source": [
    "## Circuit instructions"
   ]
  },
  {
   "cell_type": "code",
   "execution_count": 3,
   "id": "904acc48-5087-4efb-bd49-717f2397c867",
   "metadata": {
    "execution": {
     "iopub.execute_input": "2025-06-01T11:17:41.601066Z",
     "iopub.status.busy": "2025-06-01T11:17:41.601066Z",
     "iopub.status.idle": "2025-06-01T11:17:41.604606Z",
     "shell.execute_reply": "2025-06-01T11:17:41.604606Z",
     "shell.execute_reply.started": "2025-06-01T11:17:41.601066Z"
    }
   },
   "outputs": [],
   "source": [
    "#| export\n",
    "@dataclass\n",
    "class CircuitInstruction():\n",
    "    \"\"\"Basic quantum circuit instruction.\"\"\"\n",
    "    name: str\n",
    "    control_nodes: Sequence[int]\n",
    "    target_nodes: Sequence[int]\n",
    "    params: Sequence[float]"
   ]
  },
  {
   "cell_type": "code",
   "execution_count": 4,
   "id": "94b09554-53de-444d-a928-4a57a6bbc6d4",
   "metadata": {
    "execution": {
     "iopub.execute_input": "2025-06-01T11:17:41.605588Z",
     "iopub.status.busy": "2025-06-01T11:17:41.605588Z",
     "iopub.status.idle": "2025-06-01T11:17:41.616431Z",
     "shell.execute_reply": "2025-06-01T11:17:41.616431Z",
     "shell.execute_reply.started": "2025-06-01T11:17:41.605588Z"
    }
   },
   "outputs": [],
   "source": [
    "#| export\n",
    "class CircuitInstructions():\n",
    "    \"\"\"Basic quantum circuit instruction handler.\"\"\"\n",
    "    \n",
    "    def __init__(self, tensor_shape: torch.Size) -> None:\n",
    "        assert len(tensor_shape) == 2   # ... [qubits, time]\n",
    "        self.tensor_shape  = tensor_shape     \n",
    "        self._instructions = []\n",
    "        self.instruction_names_set = set()\n",
    "    \n",
    "    def add_instruction(self,  \n",
    "                        name: str, \n",
    "                        control_nodes: Sequence[int], \n",
    "                        target_nodes: Sequence[int], \n",
    "                        params: Sequence[float]) -> None:\n",
    "        self.instruction_names_set.add(name)\n",
    "        self._instructions.append(CircuitInstruction(name, control_nodes, target_nodes, params))\n",
    "\n",
    "    @property\n",
    "    def data(self) -> List[CircuitInstruction]: return self._instructions\n",
    "\n",
    "    @property\n",
    "    def length(self) -> int: return len(self._instructions)\n",
    "\n",
    "    @property\n",
    "    def num_qubits(self) -> int: return self.tensor_shape[0]\n",
    "\n",
    "    @property\n",
    "    def max_gates(self) -> int: return self.tensor_shape[1]\n",
    "    \n",
    "    def __repr__(self) -> str: return str(self._instructions)\n",
    "\n",
    "    def print(self) -> None:\n",
    "        for instruction in self.data: \n",
    "            print(instruction)        "
   ]
  },
  {
   "cell_type": "markdown",
   "id": "13cf0ddc-2efe-426f-816a-bc6b1d324ae0",
   "metadata": {},
   "source": [
    "# Export -"
   ]
  },
  {
   "cell_type": "code",
   "execution_count": 5,
   "id": "99039570-261c-4196-a4bc-6e476c743c1e",
   "metadata": {
    "execution": {
     "iopub.execute_input": "2025-06-01T11:17:41.617443Z",
     "iopub.status.busy": "2025-06-01T11:17:41.617443Z",
     "iopub.status.idle": "2025-06-01T11:17:42.517875Z",
     "shell.execute_reply": "2025-06-01T11:17:42.517875Z",
     "shell.execute_reply.started": "2025-06-01T11:17:41.617443Z"
    }
   },
   "outputs": [],
   "source": [
    "#| hide\n",
    "import nbdev; nbdev.nbdev_export()"
   ]
  }
 ],
 "metadata": {
  "kernelspec": {
   "display_name": "Python 3 (ipykernel)",
   "language": "python",
   "name": "python3"
  },
  "language_info": {
   "codemirror_mode": {
    "name": "ipython",
    "version": 3
   },
   "file_extension": ".py",
   "mimetype": "text/x-python",
   "name": "python",
   "nbconvert_exporter": "python",
   "pygments_lexer": "ipython3",
   "version": "3.12.9"
  },
  "widgets": {
   "application/vnd.jupyter.widget-state+json": {
    "state": {},
    "version_major": 2,
    "version_minor": 0
   }
  }
 },
 "nbformat": 4,
 "nbformat_minor": 5
}
