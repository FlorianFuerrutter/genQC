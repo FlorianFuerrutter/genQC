{
 "cells": [
  {
   "cell_type": "markdown",
   "id": "21de19e5-7294-4e4b-9b83-43c0603dba29",
   "metadata": {},
   "source": [
    "# Quantum circuit dataset construction"
   ]
  },
  {
   "cell_type": "markdown",
   "id": "4da1f40c-5c09-4284-a045-d48a98c0ff54",
   "metadata": {},
   "source": [
    "Functions to construct a dataset. Here we define the tokenization (encoding and decoding)."
   ]
  },
  {
   "cell_type": "code",
   "execution_count": null,
   "id": "a0d899fa-9bb4-431f-94b7-b963419acc96",
   "metadata": {},
   "outputs": [],
   "source": [
    "#| default_exp platform.qcircuit_dataset_construction"
   ]
  },
  {
   "cell_type": "code",
   "execution_count": null,
   "id": "e81b26cc-5347-4259-a254-87ff004c11d6",
   "metadata": {},
   "outputs": [],
   "source": [
    "#| export\n",
    "from genQC.imports import *\n",
    "from genQC.platform.simulation.qcircuit_sim import *\n",
    "import genQC.dataset.dataset_helper as dahe\n",
    "\n",
    "import qiskit.quantum_info as qi\n",
    "from qiskit import QuantumCircuit\n",
    "from qiskit.circuit.gate import Gate\n",
    "import qiskit.circuit.library as ql"
   ]
  },
  {
   "cell_type": "markdown",
   "id": "c2308c49-a291-46e4-bc9d-0d59b73d46dd",
   "metadata": {},
   "source": [
    "## Tokenizer: encoding and decoding"
   ]
  },
  {
   "cell_type": "code",
   "execution_count": null,
   "id": "f6eafb80-4229-4632-8692-8170a9fb3a48",
   "metadata": {},
   "outputs": [],
   "source": [
    "#| export\n",
    "def get_target_control_qubits(qc: QuantumCircuit, gate: Gate):\n",
    "    acts_on_cnt = gate.operation.num_qubits\n",
    "    acts_on     = [qc.find_bit(qubit).index for qubit in gate.qubits]      # order: (*control_qubits, *target_qubits)\n",
    "\n",
    "    assert acts_on_cnt == len(acts_on), \"error in: acts_on_cnt == len(acts_on)\"\n",
    "\n",
    "    num_ctrl_qubits = gate.operation.num_ctrl_qubits if hasattr(gate.operation, \"num_ctrl_qubits\") else 0 \n",
    "    num_targ_qubits = acts_on_cnt - num_ctrl_qubits\n",
    "\n",
    "    control_qubits, target_qubits = acts_on[:-num_targ_qubits], acts_on[-num_targ_qubits:]   \n",
    "    \n",
    "    return control_qubits, target_qubits  "
   ]
  },
  {
   "cell_type": "code",
   "execution_count": null,
   "id": "06cb9a08-8c90-41f7-9b32-76025a2a0776",
   "metadata": {},
   "outputs": [],
   "source": [
    "#| export\n",
    "def encode_circuit(qc: QuantumCircuit, num_of_qubits, gate_classes: dict, max_gates: int, sign_labels={\"control_qubits\":-1, \"target_qubits\":+1}, return_params=False):\n",
    "    # circuit tensor\n",
    "    #  [qbits, time]  .. in +- gate_number   \n",
    "    #                         0 for empty\n",
    "       \n",
    "    tensor = torch.zeros((num_of_qubits, max_gates), dtype=torch.int32) \n",
    "    params = []\n",
    "    \n",
    "    for t, gate in enumerate(qc.data):\n",
    "        params.append(gate.operation.params)\n",
    "        \n",
    "        gate_id = gate_classes[gate.operation.name]  #for new tensor just use this as the abs(T) and then assign the sign dep on the c/t\n",
    "                         \n",
    "        control_qubits, target_qubits = get_target_control_qubits(qc, gate)  \n",
    "                       \n",
    "        for bit in control_qubits:\n",
    "            tensor[bit, t] = gate_id * sign_labels[\"control_qubits\"]\n",
    "        \n",
    "        for bit in target_qubits:\n",
    "            tensor[bit, t] = gate_id * sign_labels[\"target_qubits\"]\n",
    "\n",
    "    if return_params: \n",
    "        num_of_max_params = max(len(para) for para in params)\n",
    "        params_tensor     = torch.zeros((num_of_max_params, max_gates), dtype=torch.float32)\n",
    "        \n",
    "        for t, para in enumerate(params):\n",
    "            params_tensor[:len(para), t] = torch.tensor(para)\n",
    "                     \n",
    "        return tensor, params_tensor\n",
    "        \n",
    "    return tensor"
   ]
  },
  {
   "cell_type": "code",
   "execution_count": null,
   "id": "89a0ed1f-f5e8-4e9a-aae2-3b06babf84cb",
   "metadata": {},
   "outputs": [],
   "source": [
    "#| export\n",
    "def decode_circuit(enc_tensor: torch.Tensor, gate_pool: list[Gate], place_barrier=True, sign_labels={\"control_qubits\":-1, \"target_qubits\":+1}, params_tensor=None):  \n",
    "    # should have dim 2, [bits, sequence]\n",
    "    #minus ... control_qubits\n",
    "    #plus  ... target_qubits\n",
    "\n",
    "    assert enc_tensor.ndim == 2, f\"{enc_tensor.shape=}\"\n",
    "    num_of_qubits, time = enc_tensor.shape\n",
    "        \n",
    "    gate_qiskit_classes = {(i+1):x for i,x in enumerate(gate_pool)}\n",
    "    \n",
    "    qc = QuantumCircuit(num_of_qubits)  \n",
    "          \n",
    "    for t in range(time):         \n",
    "        enc_time_slice = enc_tensor[:, t] # only contains all bits at time t   \n",
    "                      \n",
    "        for gate_index,gate_qiskit_class in gate_qiskit_classes.items():                       \n",
    "            target_qubits  = (enc_time_slice == (sign_labels[\"target_qubits\"] *gate_index)).nonzero()\n",
    "            control_qubits = (enc_time_slice == (sign_labels[\"control_qubits\"]*gate_index)).nonzero()\n",
    "                       \n",
    "            if target_qubits.nelement() > 0:\n",
    "                num_of_paramters = get_number_of_gate_params(gate_qiskit_class)   \n",
    "                if exists(params_tensor) and num_of_paramters > 0 : params = params_tensor[:num_of_paramters, t].tolist()\n",
    "                else:                                               params = [0] * num_of_paramters\n",
    "                \n",
    "                qc.append(gate_qiskit_class(*params), [*control_qubits.tolist(), *target_qubits.tolist()], [])        \n",
    "                if place_barrier: qc.barrier()\n",
    "                break #break on first hit, per def only one gate allowed per t\n",
    "                \n",
    "            elif control_qubits.nelement() > 0: #no target but control means error\n",
    "                raise RuntimeError(\"control_qubits.nelement() > 0\")\n",
    "            #else we are fine with tensor that have time steps with no action!\n",
    "\n",
    "    return qc"
   ]
  },
  {
   "cell_type": "markdown",
   "id": "7289bef7-cb71-44e8-af61-7c759a39566b",
   "metadata": {},
   "source": [
    "## Dataset generation"
   ]
  },
  {
   "cell_type": "markdown",
   "id": "02849cca-6bad-4096-9901-0c75c172afd2",
   "metadata": {},
   "source": [
    "### Totally random SRV circuits"
   ]
  },
  {
   "cell_type": "code",
   "execution_count": null,
   "id": "4c5a67ab-086f-43ea-81a1-2c685582e393",
   "metadata": {},
   "outputs": [],
   "source": [
    "#| export\n",
    "def get_rnd_encoded_circuit(num_of_qubits, min_gates, max_gates, gate_pool, gate_classes, rng, optimized=True, return_params=False):    \n",
    "    qc = rnd_circuit(num_of_qubits, rng.integers(min_gates, max_gates+1), gate_pool, rng)  \n",
    "    if optimized: qc = optimize_circuit(qc, gate_pool)        \n",
    "    svr = schmidt_rank_vector(qi.DensityMatrix(qc))\n",
    "    \n",
    "    if return_params:\n",
    "        qc_tensor, params_tensor = encode_circuit(qc, num_of_qubits, gate_classes, max_gates, return_params=return_params)  \n",
    "        return qc, qc_tensor, svr, params_tensor\n",
    "    \n",
    "    qc_tensor = encode_circuit(qc, num_of_qubits, gate_classes, max_gates, return_params=return_params)     \n",
    "    return qc, qc_tensor, svr "
   ]
  },
  {
   "cell_type": "code",
   "execution_count": null,
   "id": "a73c45d8-7a90-46e8-b7f1-dac57b7d3216",
   "metadata": {},
   "outputs": [],
   "source": [
    "#| export\n",
    "def get_rnd_encoded_circuits(samples, num_of_qubits=3, min_gates=3, max_gates=10, gate_pool=[ql.HGate, ql.CXGate], optimized=True, silent=False, return_params=False):\n",
    "    gate_classes = gate_pool_to_gate_classes(gate_pool) #{x().name:(i+1) for i,x in enumerate(gate_pool)}\n",
    "    \n",
    "    rng = np.random.default_rng()\n",
    "    \n",
    "    data   = []\n",
    "    label  = []\n",
    "    params = []\n",
    "    \n",
    "    for i in tqdm(range(samples), disable=silent):            \n",
    "        if return_params:\n",
    "            qc, qc_tensor, svr, params_tensor = get_rnd_encoded_circuit(num_of_qubits, min_gates, max_gates, gate_pool, gate_classes, rng, optimized, return_params=return_params)  \n",
    "            params.append(params_tensor)\n",
    "            \n",
    "        else:\n",
    "             qc, qc_tensor, svr = get_rnd_encoded_circuit(num_of_qubits, min_gates, max_gates, gate_pool, gate_classes, rng, optimized, return_params=return_params)  \n",
    "            \n",
    "        data.append(qc_tensor)\n",
    "        label.append(svr)\n",
    "    \n",
    "    if return_params: return data, label, params\n",
    "    return data, label"
   ]
  },
  {
   "cell_type": "code",
   "execution_count": null,
   "id": "4749e144-c6de-4fe2-bb72-e0923bfd4d27",
   "metadata": {},
   "outputs": [
    {
     "name": "stdout",
     "output_type": "stream",
     "text": [
      "Encode:\n"
     ]
    },
    {
     "data": {
      "application/vnd.jupyter.widget-view+json": {
       "model_id": "0ba61b257e6345b9823ea4b9852edd47",
       "version_major": 2,
       "version_minor": 0
      },
      "text/plain": [
       "  0%|          | 0/1 [00:00<?, ?it/s]"
      ]
     },
     "metadata": {},
     "output_type": "display_data"
    },
    {
     "name": "stdout",
     "output_type": "stream",
     "text": [
      "enc_i=tensor([[-2,  0, -2,  3,  3,  0],\n",
      "        [ 2,  1,  2, -3, -3,  0],\n",
      "        [ 0,  0,  0,  0,  0,  1]], dtype=torch.int32)\n",
      "y_i=[2, 2, 1]\n",
      "params_i=tensor([[0.0000, 0.0000, 0.0000, 2.2710, 4.8585, 0.0000],\n",
      "        [0.0000, 0.0000, 0.0000, 0.0304, 1.1044, 0.0000],\n",
      "        [0.0000, 0.0000, 0.0000, 3.0486, 4.9504, 0.0000]])\n",
      "Decode:\n"
     ]
    },
    {
     "data": {
      "image/png": "[encoded data removed]",
      "text/plain": [
       "<Figure size 1290.83x284.278 with 1 Axes>"
      ]
     },
     "metadata": {},
     "output_type": "display_data"
    }
   ],
   "source": [
    "gate_pool=[ql.HGate, ql.CXGate, ql.CU3Gate, ql.CRXGate]\n",
    "\n",
    "print(\"Encode:\")\n",
    "enc_t, y, params = get_rnd_encoded_circuits(samples=1, num_of_qubits=3, min_gates=6, max_gates=6, gate_pool=gate_pool, optimized=True, return_params=True)\n",
    "\n",
    "for enc_i, y_i, params_i in zip(enc_t, y, params):\n",
    "    print(f\"{enc_i=}\")\n",
    "    print(f\"{y_i=}\")\n",
    "    print(f\"{params_i=}\")\n",
    "\n",
    "print(\"Decode:\")\n",
    "qc = decode_circuit(enc_t[0], gate_pool=gate_pool, params_tensor=params[0])\n",
    "display(qc.draw(\"mpl\"))"
   ]
  },
  {
   "cell_type": "code",
   "execution_count": null,
   "id": "65fa2e53-1d1c-4429-a12f-910f8de9f89f",
   "metadata": {},
   "outputs": [],
   "source": [
    "#| export\n",
    "def gen_qc_dataset(samples, num_of_qubits, min_gates, max_gates, gate_pool, optimized, silent=False):\n",
    "    tensor, srv = get_rnd_encoded_circuits(samples, num_of_qubits, min_gates, max_gates, gate_pool, optimized, silent)\n",
    "\n",
    "    # make sure we have unique circuits\n",
    "    tensor = torch.stack(tensor, dim=0)\n",
    "    tensor_unique, tensor_indices = dahe.get_unique_elements_indices(tensor)\n",
    "    \n",
    "    if not silent: print(f\"Generated unique circuits: {tensor_unique.shape[0]}\")\n",
    "    \n",
    "    #--------------------------\n",
    "    #select uniques only\n",
    "    \n",
    "    x = tensor[tensor_indices]\n",
    "    y = torch.Tensor(srv).type(torch.int32)[tensor_indices] #leave as tensor, treat as 2D condition, combine cond into one large (each cat)\n",
    "    \n",
    "    return x,y"
   ]
  },
  {
   "cell_type": "markdown",
   "id": "3da76639-b8b1-4623-9bd9-9953bfe37ee1",
   "metadata": {},
   "source": [
    "### Specific random SRV circuit"
   ]
  },
  {
   "cell_type": "code",
   "execution_count": null,
   "id": "36d252ce-81e2-4833-b070-b290947c8dea",
   "metadata": {},
   "outputs": [],
   "source": [
    "#| export\n",
    "def get_specific_rnd_srv_circuit(srv, requested_length, gate_pool, max_i=2000, silent=True, fix_length_after_optimizing=True, requested_length_tolerance=0):\n",
    "    rng = np.random.default_rng()\n",
    "    \n",
    "    num_of_qubits = len(srv) \n",
    "    is_srv        = None\n",
    "\n",
    "    if requested_length < sum(srv)-num_of_qubits: return None   #not possible to generate this srv, to few gates\n",
    "    \n",
    "    i = 0\n",
    "    while is_srv != srv:                  # brute-force sample a SRV\n",
    "        qc = rnd_circuit(num_of_qubits, requested_length, gate_pool, rng)  \n",
    "        qc = optimize_circuit(qc, gate_pool)        \n",
    "\n",
    "        if i > max_i: \n",
    "            if not silent: print(f\"Max i reached: {srv=}  {requested_length=}  {requested_length_tolerance=}  {max_i=}\")\n",
    "            return None #raise RuntimeError(\"max i reached\")     \n",
    "        i += 1\n",
    "\n",
    "        #---------------\n",
    "        if fix_length_after_optimizing and len(qc.data) < requested_length-requested_length_tolerance:\n",
    "                continue\n",
    "        \n",
    "        is_srv = schmidt_rank_vector(qi.DensityMatrix(qc)) \n",
    "       \n",
    "    return qc"
   ]
  },
  {
   "cell_type": "markdown",
   "id": "cc38416d-ee86-4892-96c2-9b729286d835",
   "metadata": {},
   "source": [
    "### Unitary dataset"
   ]
  },
  {
   "cell_type": "code",
   "execution_count": null,
   "id": "83aee5e2-3e75-4b3f-8ad4-690911d97b23",
   "metadata": {},
   "outputs": [],
   "source": [
    "#| export\n",
    "def gen_compilation_rndGates_dataset(samples, num_of_qubits, min_gates, max_gates, gate_pool, min_sub_gate_pool_cnt=1, silent=False):\n",
    "    '''Samples rnd circuit with a rnd subset of gates and return qc with gate label and unitary'''\n",
    "\n",
    "    gate_classes = {x().name:(i+1) for i,x in enumerate(gate_pool)} #+1 for empty! global gate classes so we fix the indices! 1...H   2...CX   so on\n",
    "\n",
    "    #-------------------------------\n",
    "    \n",
    "    rng     = np.random.default_rng()\n",
    "    n       = len(gate_pool) + 1\n",
    "    c_range = np.arange(n-1)\n",
    "          \n",
    "    tensor = []\n",
    "    label  = []\n",
    "    U      = []\n",
    "    \n",
    "    for i in tqdm(range(samples), disable=silent):\n",
    "        sub_gate_pool_cnt = rng.integers(min_sub_gate_pool_cnt, n)       \n",
    "        sub_gate_pool_ind = rng.choice(c_range, size=sub_gate_pool_cnt, replace=False)         \n",
    "        sub_gate_pool     = [gate_pool[ind] for ind in sub_gate_pool_ind]  # pick random subeset of gates\n",
    "              \n",
    "        qc, qc_tensor, svr = get_rnd_encoded_circuit(num_of_qubits, min_gates, max_gates, sub_gate_pool, gate_classes, rng, optimized=True)\n",
    "    \n",
    "        tensor.append(qc_tensor)\n",
    "        label.append(f\"Compile using: {[x().name for x in sub_gate_pool]}\")\n",
    "        U.append(qi.Operator(qc).to_matrix())\n",
    "        \n",
    "    #-------------------------------\n",
    "        \n",
    "    # make sure we have unique circuits\n",
    "    tensor = torch.stack(tensor, dim=0)\n",
    "    tensor_unique, tensor_indices = dahe.get_unique_elements_indices(tensor)\n",
    "    \n",
    "    if not silent: print(f\"generated unique circuits: {tensor_unique.shape[0]}\")\n",
    "    \n",
    "    #--------------------------\n",
    "    #select uniques only\n",
    "    \n",
    "    x = tensor[tensor_indices]\n",
    "    y = [label[i] for i in tensor_indices.tolist()]\n",
    "    U = [    U[i] for i in tensor_indices.tolist()]\n",
    "    \n",
    "    return x,y,U  "
   ]
  },
  {
   "cell_type": "code",
   "execution_count": null,
   "id": "ef6c86d9-83f4-4d10-b8be-59093b5aac5d",
   "metadata": {},
   "outputs": [
    {
     "data": {
      "application/vnd.jupyter.widget-view+json": {
       "model_id": "bbf2a9e343de4bdfadf2536aed805228",
       "version_major": 2,
       "version_minor": 0
      },
      "text/plain": [
       "  0%|          | 0/1 [00:00<?, ?it/s]"
      ]
     },
     "metadata": {},
     "output_type": "display_data"
    },
    {
     "name": "stdout",
     "output_type": "stream",
     "text": [
      "generated unique circuits: 1\n",
      "\n",
      "y Label >>> Compile using: ['x'] <<<\n",
      "\n",
      "tensor([[0, 0, 0, 0],\n",
      "        [4, 0, 0, 0],\n",
      "        [0, 4, 4, 4]], dtype=torch.int32)\n",
      "\n",
      "[[0.+0.j 0.+0.j 0.+0.j 0.+0.j 0.+0.j 0.+0.j 1.+0.j 0.+0.j]\n",
      " [0.+0.j 0.+0.j 0.+0.j 0.+0.j 0.+0.j 0.+0.j 0.+0.j 1.+0.j]\n",
      " [0.+0.j 0.+0.j 0.+0.j 0.+0.j 1.+0.j 0.+0.j 0.+0.j 0.+0.j]\n",
      " [0.+0.j 0.+0.j 0.+0.j 0.+0.j 0.+0.j 1.+0.j 0.+0.j 0.+0.j]\n",
      " [0.+0.j 0.+0.j 1.+0.j 0.+0.j 0.+0.j 0.+0.j 0.+0.j 0.+0.j]\n",
      " [0.+0.j 0.+0.j 0.+0.j 1.+0.j 0.+0.j 0.+0.j 0.+0.j 0.+0.j]\n",
      " [1.+0.j 0.+0.j 0.+0.j 0.+0.j 0.+0.j 0.+0.j 0.+0.j 0.+0.j]\n",
      " [0.+0.j 1.+0.j 0.+0.j 0.+0.j 0.+0.j 0.+0.j 0.+0.j 0.+0.j]]\n",
      "\n",
      "Decoded:\n"
     ]
    },
    {
     "data": {
      "image/png": "[encoded data removed]",
      "text/plain": [
       "<Figure size 789.163x284.278 with 1 Axes>"
      ]
     },
     "metadata": {},
     "output_type": "display_data"
    }
   ],
   "source": [
    "gate_pool=[ql.HGate, ql.CXGate, ql.ZGate, ql.XGate, ql.CCXGate]\n",
    "\n",
    "enc_t, y, U = gen_compilation_rndGates_dataset(samples=1, num_of_qubits=3, min_gates=3, max_gates=4, gate_pool=gate_pool)\n",
    "\n",
    "np.set_printoptions(edgeitems=30, linewidth=100000, formatter=dict(float=lambda x: \"%.3g\" % x))\n",
    "\n",
    "print(f\"\\ny Label >>> {y[0]} <<<\")\n",
    "print(f\"\\n{enc_t[0]}\")\n",
    "print(f\"\\n{U[0]}\")\n",
    "print(\"\\nDecoded:\")\n",
    "qc = decode_circuit(enc_t[0], gate_pool=gate_pool)\n",
    "display(qc.draw(\"mpl\"))"
   ]
  },
  {
   "cell_type": "markdown",
   "id": "2854cb4a-2a02-400f-a8af-efd21efa39fe",
   "metadata": {},
   "source": [
    "### Graph states dataset"
   ]
  },
  {
   "cell_type": "code",
   "execution_count": null,
   "id": "79e18993-1742-4c81-9957-f50bd4f3afb9",
   "metadata": {},
   "outputs": [],
   "source": [
    "#place all h on all bist then only cz"
   ]
  },
  {
   "cell_type": "markdown",
   "id": "b603ed4a-dbf3-48ad-a5f2-f162bb989665",
   "metadata": {},
   "source": [
    "# Export -"
   ]
  },
  {
   "cell_type": "code",
   "execution_count": null,
   "id": "8246b9cc-fd8b-4a1e-92bc-9fcf0a8dd082",
   "metadata": {},
   "outputs": [],
   "source": [
    "#| hide\n",
    "import nbdev; nbdev.nbdev_export()"
   ]
  }
 ],
 "metadata": {
  "kernelspec": {
   "display_name": "python3",
   "language": "python",
   "name": "python3"
  },
  "widgets": {
   "application/vnd.jupyter.widget-state+json": {
    "state": {
     "0015549f1fa849569e28890bc177c2e3": {
      "model_module": "@jupyter-widgets/controls",
      "model_module_version": "2.0.0",
      "model_name": "FloatProgressModel",
      "state": {
       "bar_style": "success",
       "layout": "IPY_MODEL_909f981cd976432695b6b1e75e7afb56",
       "max": 1,
       "style": "IPY_MODEL_0ecf8fdd93a34babb273867999ae570d",
       "value": 1
      }
     },
     "02e0621cfdb94913bee8927c354b374a": {
      "model_module": "@jupyter-widgets/controls",
      "model_module_version": "2.0.0",
      "model_name": "HTMLModel",
      "state": {
       "layout": "IPY_MODEL_2c549a4c524f47edb7033299693dd0a6",
       "style": "IPY_MODEL_57de0096a47b452fb5c59a99578e8f9e",
       "value": "100%"
      }
     },
     "057884b79c0a470598c5007fddd0a680": {
      "model_module": "@jupyter-widgets/controls",
      "model_module_version": "2.0.0",
      "model_name": "ProgressStyleModel",
      "state": {
       "description_width": ""
      }
     },
     "083b64b1c2ab4f29859b2c9503f5f38a": {
      "model_module": "@jupyter-widgets/controls",
      "model_module_version": "2.0.0",
      "model_name": "FloatProgressModel",
      "state": {
       "bar_style": "success",
       "layout": "IPY_MODEL_7964f48701a94ccb8db7bdb015b8343a",
       "max": 1,
       "style": "IPY_MODEL_057884b79c0a470598c5007fddd0a680",
       "value": 1
      }
     },
     "086d9e84542c4d5d8f5b7721ccebcedb": {
      "model_module": "@jupyter-widgets/base",
      "model_module_version": "2.0.0",
      "model_name": "LayoutModel",
      "state": {}
     },
     "0942138c6b1f44c8bac865e85538a029": {
      "model_module": "@jupyter-widgets/controls",
      "model_module_version": "2.0.0",
      "model_name": "FloatProgressModel",
      "state": {
       "bar_style": "success",
       "layout": "IPY_MODEL_36f626e49a5b40728c3e9b2299b99cd4",
       "max": 1,
       "style": "IPY_MODEL_ddcb32006ed84d25bd0633d17e93809e",
       "value": 1
      }
     },
     "0a634fc58cd548a79002eca6469619f6": {
      "model_module": "@jupyter-widgets/base",
      "model_module_version": "2.0.0",
      "model_name": "LayoutModel",
      "state": {}
     },
     "0b884ca055cd46708f03f5746251ab85": {
      "model_module": "@jupyter-widgets/controls",
      "model_module_version": "2.0.0",
      "model_name": "HTMLModel",
      "state": {
       "layout": "IPY_MODEL_a97bf04e73614aafb9ffd52d96768011",
       "style": "IPY_MODEL_69cad521b0174f1fb6eb1c9c3c49b98a",
       "value": "100%"
      }
     },
     "0ce0a15148234afdb17365de147be471": {
      "model_module": "@jupyter-widgets/controls",
      "model_module_version": "2.0.0",
      "model_name": "HTMLStyleModel",
      "state": {
       "description_width": "",
       "font_size": null,
       "text_color": null
      }
     },
     "0da6a9a13677471790f54a77cd9195e5": {
      "model_module": "@jupyter-widgets/base",
      "model_module_version": "2.0.0",
      "model_name": "LayoutModel",
      "state": {}
     },
     "0ecf8fdd93a34babb273867999ae570d": {
      "model_module": "@jupyter-widgets/controls",
      "model_module_version": "2.0.0",
      "model_name": "ProgressStyleModel",
      "state": {
       "description_width": ""
      }
     },
     "10a380bdc1474e77834e4dc86e44faaf": {
      "model_module": "@jupyter-widgets/controls",
      "model_module_version": "2.0.0",
      "model_name": "ProgressStyleModel",
      "state": {
       "description_width": ""
      }
     },
     "161308930d6b4ba7b1d8dabf600c2c83": {
      "model_module": "@jupyter-widgets/controls",
      "model_module_version": "2.0.0",
      "model_name": "ProgressStyleModel",
      "state": {
       "description_width": ""
      }
     },
     "17d25484393f4db58e36597d195be4c9": {
      "model_module": "@jupyter-widgets/base",
      "model_module_version": "2.0.0",
      "model_name": "LayoutModel",
      "state": {}
     },
     "1870bcd884cb46d1873db1f975b69350": {
      "model_module": "@jupyter-widgets/controls",
      "model_module_version": "2.0.0",
      "model_name": "HTMLStyleModel",
      "state": {
       "description_width": "",
       "font_size": null,
       "text_color": null
      }
     },
     "19f4bdbfa7634955a7452063fc4bbb99": {
      "model_module": "@jupyter-widgets/controls",
      "model_module_version": "2.0.0",
      "model_name": "HBoxModel",
      "state": {
       "children": [
        "IPY_MODEL_50e9f5e7b0ba4cf48ac9a3ffc0618d98",
        "IPY_MODEL_aa34cd7bb7674094b605c5d0fbecd00d",
        "IPY_MODEL_7aa7aef8cb114828a81bb2145952afbc"
       ],
       "layout": "IPY_MODEL_92b91f59e2924edf8688edd70946b7e2"
      }
     },
     "1b1b08e7b2b84e059f336d5d181ecdc7": {
      "model_module": "@jupyter-widgets/controls",
      "model_module_version": "2.0.0",
      "model_name": "HTMLStyleModel",
      "state": {
       "description_width": "",
       "font_size": null,
       "text_color": null
      }
     },
     "1c4502af5e1245b5914b00377decac44": {
      "model_module": "@jupyter-widgets/controls",
      "model_module_version": "2.0.0",
      "model_name": "FloatProgressModel",
      "state": {
       "bar_style": "success",
       "layout": "IPY_MODEL_fb2ecab4c8e6407d858c00230eb49ef4",
       "max": 1,
       "style": "IPY_MODEL_161308930d6b4ba7b1d8dabf600c2c83",
       "value": 1
      }
     },
     "1d53f4b12c5e414aa2e559af80386b95": {
      "model_module": "@jupyter-widgets/controls",
      "model_module_version": "2.0.0",
      "model_name": "ProgressStyleModel",
      "state": {
       "description_width": ""
      }
     },
     "1d88ec425fd44e02b643fce3b0293b10": {
      "model_module": "@jupyter-widgets/base",
      "model_module_version": "2.0.0",
      "model_name": "LayoutModel",
      "state": {}
     },
     "24bcb8a50e9f48dabd88a26f54b33029": {
      "model_module": "@jupyter-widgets/controls",
      "model_module_version": "2.0.0",
      "model_name": "HTMLStyleModel",
      "state": {
       "description_width": "",
       "font_size": null,
       "text_color": null
      }
     },
     "2c549a4c524f47edb7033299693dd0a6": {
      "model_module": "@jupyter-widgets/base",
      "model_module_version": "2.0.0",
      "model_name": "LayoutModel",
      "state": {}
     },
     "2d22e6269fe0445586c72aeb7dc2f17c": {
      "model_module": "@jupyter-widgets/controls",
      "model_module_version": "2.0.0",
      "model_name": "HTMLModel",
      "state": {
       "layout": "IPY_MODEL_faaf66d9ee994ff2b95eb8bf7c2e35df",
       "style": "IPY_MODEL_ff518e4efafd4408aace4660827155ed",
       "value": " 1/1 [00:00&lt;00:00, 104.59it/s]"
      }
     },
     "31b3ecd6d12a4144b384f94dbe6a6364": {
      "model_module": "@jupyter-widgets/base",
      "model_module_version": "2.0.0",
      "model_name": "LayoutModel",
      "state": {}
     },
     "36f626e49a5b40728c3e9b2299b99cd4": {
      "model_module": "@jupyter-widgets/base",
      "model_module_version": "2.0.0",
      "model_name": "LayoutModel",
      "state": {}
     },
     "3a5fe39a49a4414c9466c0d6734e4270": {
      "model_module": "@jupyter-widgets/base",
      "model_module_version": "2.0.0",
      "model_name": "LayoutModel",
      "state": {}
     },
     "3abf4f2b2ecb490e9f756f410cd1e60f": {
      "model_module": "@jupyter-widgets/controls",
      "model_module_version": "2.0.0",
      "model_name": "ProgressStyleModel",
      "state": {
       "description_width": ""
      }
     },
     "3acb5b6a709947d98765e9704cc807b7": {
      "model_module": "@jupyter-widgets/base",
      "model_module_version": "2.0.0",
      "model_name": "LayoutModel",
      "state": {}
     },
     "3c1ab4844df74358a65626f9369cdab4": {
      "model_module": "@jupyter-widgets/controls",
      "model_module_version": "2.0.0",
      "model_name": "HTMLModel",
      "state": {
       "layout": "IPY_MODEL_31b3ecd6d12a4144b384f94dbe6a6364",
       "style": "IPY_MODEL_1b1b08e7b2b84e059f336d5d181ecdc7",
       "value": "100%"
      }
     },
     "4154f0b5aba24fbc8474f8b8cc658879": {
      "model_module": "@jupyter-widgets/controls",
      "model_module_version": "2.0.0",
      "model_name": "HTMLStyleModel",
      "state": {
       "description_width": "",
       "font_size": null,
       "text_color": null
      }
     },
     "48e66bdd7e764b77b98fb616aa65ece3": {
      "model_module": "@jupyter-widgets/base",
      "model_module_version": "2.0.0",
      "model_name": "LayoutModel",
      "state": {}
     },
     "48fcadc59030414ab70241bd46bbfa29": {
      "model_module": "@jupyter-widgets/controls",
      "model_module_version": "2.0.0",
      "model_name": "HTMLModel",
      "state": {
       "layout": "IPY_MODEL_af90e2901f4941cfb82d22985633a270",
       "style": "IPY_MODEL_24bcb8a50e9f48dabd88a26f54b33029",
       "value": "100%"
      }
     },
     "49d968f3e1dd4a4688f2dfd2053e3a08": {
      "model_module": "@jupyter-widgets/controls",
      "model_module_version": "2.0.0",
      "model_name": "HTMLStyleModel",
      "state": {
       "description_width": "",
       "font_size": null,
       "text_color": null
      }
     },
     "49f76da5c06f4fb5a2fd0e7c8a097e26": {
      "model_module": "@jupyter-widgets/base",
      "model_module_version": "2.0.0",
      "model_name": "LayoutModel",
      "state": {}
     },
     "4b5e309320234b6a8b8734984726602b": {
      "model_module": "@jupyter-widgets/controls",
      "model_module_version": "2.0.0",
      "model_name": "HTMLModel",
      "state": {
       "layout": "IPY_MODEL_17d25484393f4db58e36597d195be4c9",
       "style": "IPY_MODEL_0ce0a15148234afdb17365de147be471",
       "value": "100%"
      }
     },
     "4e0930b9b2c34ab39dfe576b0a8b8b7d": {
      "model_module": "@jupyter-widgets/base",
      "model_module_version": "2.0.0",
      "model_name": "LayoutModel",
      "state": {}
     },
     "5022f3d151934b32a09f389c66584dcd": {
      "model_module": "@jupyter-widgets/base",
      "model_module_version": "2.0.0",
      "model_name": "LayoutModel",
      "state": {}
     },
     "50e9f5e7b0ba4cf48ac9a3ffc0618d98": {
      "model_module": "@jupyter-widgets/controls",
      "model_module_version": "2.0.0",
      "model_name": "HTMLModel",
      "state": {
       "layout": "IPY_MODEL_95dbb892b4d047d0b8f9bf2d37ffddbd",
       "style": "IPY_MODEL_6c89c8b64a444a82b81f821d56878413",
       "value": "100%"
      }
     },
     "51754be353fe4f16b70f65c057eaece8": {
      "model_module": "@jupyter-widgets/base",
      "model_module_version": "2.0.0",
      "model_name": "LayoutModel",
      "state": {}
     },
     "51b6a2e7bd1e44dda1b39419a92e7b44": {
      "model_module": "@jupyter-widgets/controls",
      "model_module_version": "2.0.0",
      "model_name": "HTMLModel",
      "state": {
       "layout": "IPY_MODEL_0a634fc58cd548a79002eca6469619f6",
       "style": "IPY_MODEL_55884c776021451e8e44669760ce548e",
       "value": "100%"
      }
     },
     "52956696e0c244d2a0a901dd4d17945b": {
      "model_module": "@jupyter-widgets/controls",
      "model_module_version": "2.0.0",
      "model_name": "ProgressStyleModel",
      "state": {
       "description_width": ""
      }
     },
     "55884c776021451e8e44669760ce548e": {
      "model_module": "@jupyter-widgets/controls",
      "model_module_version": "2.0.0",
      "model_name": "HTMLStyleModel",
      "state": {
       "description_width": "",
       "font_size": null,
       "text_color": null
      }
     },
     "57476ec739fc4880ad51794b1679f8f0": {
      "model_module": "@jupyter-widgets/controls",
      "model_module_version": "2.0.0",
      "model_name": "HTMLModel",
      "state": {
       "layout": "IPY_MODEL_e8c6e1cdcd444c70bb2684053f4ab950",
       "style": "IPY_MODEL_4154f0b5aba24fbc8474f8b8cc658879",
       "value": "100%"
      }
     },
     "57de0096a47b452fb5c59a99578e8f9e": {
      "model_module": "@jupyter-widgets/controls",
      "model_module_version": "2.0.0",
      "model_name": "HTMLStyleModel",
      "state": {
       "description_width": "",
       "font_size": null,
       "text_color": null
      }
     },
     "5825b646c1884c1eb45849e5d6e5e301": {
      "model_module": "@jupyter-widgets/controls",
      "model_module_version": "2.0.0",
      "model_name": "HBoxModel",
      "state": {
       "children": [
        "IPY_MODEL_4b5e309320234b6a8b8734984726602b",
        "IPY_MODEL_c02ddf83104442ee9b0246e5ffa0dcd6",
        "IPY_MODEL_e17d61a465a24e25bbba157f9dad8b3a"
       ],
       "layout": "IPY_MODEL_3acb5b6a709947d98765e9704cc807b7"
      }
     },
     "5fbe1ba797f841e5a1825f54b829b65f": {
      "model_module": "@jupyter-widgets/base",
      "model_module_version": "2.0.0",
      "model_name": "LayoutModel",
      "state": {}
     },
     "64e73ddcb6564b579e5b900baa61c735": {
      "model_module": "@jupyter-widgets/controls",
      "model_module_version": "2.0.0",
      "model_name": "ProgressStyleModel",
      "state": {
       "description_width": ""
      }
     },
     "660e7e49d129453991a24d79a041d53d": {
      "model_module": "@jupyter-widgets/base",
      "model_module_version": "2.0.0",
      "model_name": "LayoutModel",
      "state": {}
     },
     "69075f17b5d44639b01678598fc12664": {
      "model_module": "@jupyter-widgets/controls",
      "model_module_version": "2.0.0",
      "model_name": "HTMLStyleModel",
      "state": {
       "description_width": "",
       "font_size": null,
       "text_color": null
      }
     },
     "69cad521b0174f1fb6eb1c9c3c49b98a": {
      "model_module": "@jupyter-widgets/controls",
      "model_module_version": "2.0.0",
      "model_name": "HTMLStyleModel",
      "state": {
       "description_width": "",
       "font_size": null,
       "text_color": null
      }
     },
     "6aa4bb7fdd604eea82bc1aa93f540841": {
      "model_module": "@jupyter-widgets/base",
      "model_module_version": "2.0.0",
      "model_name": "LayoutModel",
      "state": {}
     },
     "6c89c8b64a444a82b81f821d56878413": {
      "model_module": "@jupyter-widgets/controls",
      "model_module_version": "2.0.0",
      "model_name": "HTMLStyleModel",
      "state": {
       "description_width": "",
       "font_size": null,
       "text_color": null
      }
     },
     "7194a10b49b14a0aaf2b8632b9bf06a3": {
      "model_module": "@jupyter-widgets/controls",
      "model_module_version": "2.0.0",
      "model_name": "HTMLModel",
      "state": {
       "layout": "IPY_MODEL_c2ae687f635746d38d6303188c07f867",
       "style": "IPY_MODEL_8c4e83b4ff88437eb1c3e2271e566d8f",
       "value": " 1/1 [00:00&lt;00:00, 59.86it/s]"
      }
     },
     "732b682f733a4220a62ccd3ed8cc3cfc": {
      "model_module": "@jupyter-widgets/controls",
      "model_module_version": "2.0.0",
      "model_name": "FloatProgressModel",
      "state": {
       "bar_style": "success",
       "layout": "IPY_MODEL_660e7e49d129453991a24d79a041d53d",
       "max": 1,
       "style": "IPY_MODEL_dc7977c2674a4788b6f6f5ae5e394b9b",
       "value": 1
      }
     },
     "775464ed67134938ab83bd1c4aebd1b8": {
      "model_module": "@jupyter-widgets/controls",
      "model_module_version": "2.0.0",
      "model_name": "FloatProgressModel",
      "state": {
       "bar_style": "success",
       "layout": "IPY_MODEL_1d88ec425fd44e02b643fce3b0293b10",
       "max": 1,
       "style": "IPY_MODEL_10a380bdc1474e77834e4dc86e44faaf",
       "value": 1
      }
     },
     "7964f48701a94ccb8db7bdb015b8343a": {
      "model_module": "@jupyter-widgets/base",
      "model_module_version": "2.0.0",
      "model_name": "LayoutModel",
      "state": {}
     },
     "7aa7aef8cb114828a81bb2145952afbc": {
      "model_module": "@jupyter-widgets/controls",
      "model_module_version": "2.0.0",
      "model_name": "HTMLModel",
      "state": {
       "layout": "IPY_MODEL_b0e81ff4e05d44f889d84609f1cb1563",
       "style": "IPY_MODEL_7f2ba4d35e5d4029ac5cf3dcbfcde713",
       "value": " 1/1 [00:00&lt;00:00, 49.41it/s]"
      }
     },
     "7f2ba4d35e5d4029ac5cf3dcbfcde713": {
      "model_module": "@jupyter-widgets/controls",
      "model_module_version": "2.0.0",
      "model_name": "HTMLStyleModel",
      "state": {
       "description_width": "",
       "font_size": null,
       "text_color": null
      }
     },
     "8054f5b9dfbe4134a1bbdea5ea28080c": {
      "model_module": "@jupyter-widgets/base",
      "model_module_version": "2.0.0",
      "model_name": "LayoutModel",
      "state": {}
     },
     "84de673445574607a4442781e3544a3c": {
      "model_module": "@jupyter-widgets/controls",
      "model_module_version": "2.0.0",
      "model_name": "FloatProgressModel",
      "state": {
       "bar_style": "success",
       "layout": "IPY_MODEL_49f76da5c06f4fb5a2fd0e7c8a097e26",
       "max": 1,
       "style": "IPY_MODEL_52956696e0c244d2a0a901dd4d17945b",
       "value": 1
      }
     },
     "852f404918c849d69b7406562c808576": {
      "model_module": "@jupyter-widgets/controls",
      "model_module_version": "2.0.0",
      "model_name": "HTMLModel",
      "state": {
       "layout": "IPY_MODEL_a26e4cff52c24acd8b17d2cf2422929a",
       "style": "IPY_MODEL_a58234ea9e0e4b59a6c1d0b36f9747b1",
       "value": " 1/1 [00:00&lt;00:00, 157.49it/s]"
      }
     },
     "88e6282ae60d473e9a92b2518e778e4a": {
      "model_module": "@jupyter-widgets/base",
      "model_module_version": "2.0.0",
      "model_name": "LayoutModel",
      "state": {}
     },
     "8c4e83b4ff88437eb1c3e2271e566d8f": {
      "model_module": "@jupyter-widgets/controls",
      "model_module_version": "2.0.0",
      "model_name": "HTMLStyleModel",
      "state": {
       "description_width": "",
       "font_size": null,
       "text_color": null
      }
     },
     "8cee0a7f821e424cbff7a265c167a4ad": {
      "model_module": "@jupyter-widgets/controls",
      "model_module_version": "2.0.0",
      "model_name": "HTMLStyleModel",
      "state": {
       "description_width": "",
       "font_size": null,
       "text_color": null
      }
     },
     "8e10ab511eb744ec85dd26904ceb49f3": {
      "model_module": "@jupyter-widgets/base",
      "model_module_version": "2.0.0",
      "model_name": "LayoutModel",
      "state": {}
     },
     "909f981cd976432695b6b1e75e7afb56": {
      "model_module": "@jupyter-widgets/base",
      "model_module_version": "2.0.0",
      "model_name": "LayoutModel",
      "state": {}
     },
     "92b91f59e2924edf8688edd70946b7e2": {
      "model_module": "@jupyter-widgets/base",
      "model_module_version": "2.0.0",
      "model_name": "LayoutModel",
      "state": {}
     },
     "95dbb892b4d047d0b8f9bf2d37ffddbd": {
      "model_module": "@jupyter-widgets/base",
      "model_module_version": "2.0.0",
      "model_name": "LayoutModel",
      "state": {}
     },
     "961d1370247542699ae950e20261bb8e": {
      "model_module": "@jupyter-widgets/controls",
      "model_module_version": "2.0.0",
      "model_name": "HTMLStyleModel",
      "state": {
       "description_width": "",
       "font_size": null,
       "text_color": null
      }
     },
     "98665333d2dc4d60b5be86289ccad240": {
      "model_module": "@jupyter-widgets/controls",
      "model_module_version": "2.0.0",
      "model_name": "HBoxModel",
      "state": {
       "children": [
        "IPY_MODEL_0b884ca055cd46708f03f5746251ab85",
        "IPY_MODEL_083b64b1c2ab4f29859b2c9503f5f38a",
        "IPY_MODEL_2d22e6269fe0445586c72aeb7dc2f17c"
       ],
       "layout": "IPY_MODEL_c203cfc03f5a4507aa7a1f0e0af2428e"
      }
     },
     "9fde706be5b24d74aec14968d7ebfb1b": {
      "model_module": "@jupyter-widgets/controls",
      "model_module_version": "2.0.0",
      "model_name": "HBoxModel",
      "state": {
       "children": [
        "IPY_MODEL_cd9096c25cb44835868c4e6024649769",
        "IPY_MODEL_0942138c6b1f44c8bac865e85538a029",
        "IPY_MODEL_cf9232dca9274d71a04a7f1334d747d4"
       ],
       "layout": "IPY_MODEL_ad7d4fe382d442e1977b1b8eb2839039"
      }
     },
     "a12e5f36c744406b90a69a42b010d2ba": {
      "model_module": "@jupyter-widgets/controls",
      "model_module_version": "2.0.0",
      "model_name": "HBoxModel",
      "state": {
       "children": [
        "IPY_MODEL_02e0621cfdb94913bee8927c354b374a",
        "IPY_MODEL_0015549f1fa849569e28890bc177c2e3",
        "IPY_MODEL_a38ca3a1be27436d9f99bd0acf85231d"
       ],
       "layout": "IPY_MODEL_5022f3d151934b32a09f389c66584dcd"
      }
     },
     "a26e4cff52c24acd8b17d2cf2422929a": {
      "model_module": "@jupyter-widgets/base",
      "model_module_version": "2.0.0",
      "model_name": "LayoutModel",
      "state": {}
     },
     "a38ca3a1be27436d9f99bd0acf85231d": {
      "model_module": "@jupyter-widgets/controls",
      "model_module_version": "2.0.0",
      "model_name": "HTMLModel",
      "state": {
       "layout": "IPY_MODEL_ae22b315d0ed4bc0a66d3315ca621852",
       "style": "IPY_MODEL_c84083de33bd4559b10c4ea607f7b8a6",
       "value": " 1/1 [00:00&lt;00:00, 72.05it/s]"
      }
     },
     "a58234ea9e0e4b59a6c1d0b36f9747b1": {
      "model_module": "@jupyter-widgets/controls",
      "model_module_version": "2.0.0",
      "model_name": "HTMLStyleModel",
      "state": {
       "description_width": "",
       "font_size": null,
       "text_color": null
      }
     },
     "a64dc6587a824941aff845dcc0029486": {
      "model_module": "@jupyter-widgets/controls",
      "model_module_version": "2.0.0",
      "model_name": "FloatProgressModel",
      "state": {
       "bar_style": "success",
       "layout": "IPY_MODEL_48e66bdd7e764b77b98fb616aa65ece3",
       "max": 1,
       "style": "IPY_MODEL_1d53f4b12c5e414aa2e559af80386b95",
       "value": 1
      }
     },
     "a7ce671c09364c8ea98bb321426e486f": {
      "model_module": "@jupyter-widgets/controls",
      "model_module_version": "2.0.0",
      "model_name": "HTMLModel",
      "state": {
       "layout": "IPY_MODEL_4e0930b9b2c34ab39dfe576b0a8b8b7d",
       "style": "IPY_MODEL_961d1370247542699ae950e20261bb8e",
       "value": " 1/1 [00:00&lt;00:00, 69.40it/s]"
      }
     },
     "a8a1245c0969445c8784845c182feda0": {
      "model_module": "@jupyter-widgets/controls",
      "model_module_version": "2.0.0",
      "model_name": "HTMLStyleModel",
      "state": {
       "description_width": "",
       "font_size": null,
       "text_color": null
      }
     },
     "a97bf04e73614aafb9ffd52d96768011": {
      "model_module": "@jupyter-widgets/base",
      "model_module_version": "2.0.0",
      "model_name": "LayoutModel",
      "state": {}
     },
     "aa34cd7bb7674094b605c5d0fbecd00d": {
      "model_module": "@jupyter-widgets/controls",
      "model_module_version": "2.0.0",
      "model_name": "FloatProgressModel",
      "state": {
       "bar_style": "success",
       "layout": "IPY_MODEL_8e10ab511eb744ec85dd26904ceb49f3",
       "max": 1,
       "style": "IPY_MODEL_64e73ddcb6564b579e5b900baa61c735",
       "value": 1
      }
     },
     "ad7d4fe382d442e1977b1b8eb2839039": {
      "model_module": "@jupyter-widgets/base",
      "model_module_version": "2.0.0",
      "model_name": "LayoutModel",
      "state": {}
     },
     "ae22b315d0ed4bc0a66d3315ca621852": {
      "model_module": "@jupyter-widgets/base",
      "model_module_version": "2.0.0",
      "model_name": "LayoutModel",
      "state": {}
     },
     "af6fb457f0cd4fa191fa021ed1373e3c": {
      "model_module": "@jupyter-widgets/controls",
      "model_module_version": "2.0.0",
      "model_name": "HTMLModel",
      "state": {
       "layout": "IPY_MODEL_6aa4bb7fdd604eea82bc1aa93f540841",
       "style": "IPY_MODEL_bdaa750ca3684382aca31776f99ae320",
       "value": "100%"
      }
     },
     "af826b782a20456cbcc071184a9662ab": {
      "model_module": "@jupyter-widgets/base",
      "model_module_version": "2.0.0",
      "model_name": "LayoutModel",
      "state": {}
     },
     "af90e2901f4941cfb82d22985633a270": {
      "model_module": "@jupyter-widgets/base",
      "model_module_version": "2.0.0",
      "model_name": "LayoutModel",
      "state": {}
     },
     "b0752f4168534b64b236c39535fe4601": {
      "model_module": "@jupyter-widgets/controls",
      "model_module_version": "2.0.0",
      "model_name": "HBoxModel",
      "state": {
       "children": [
        "IPY_MODEL_3c1ab4844df74358a65626f9369cdab4",
        "IPY_MODEL_775464ed67134938ab83bd1c4aebd1b8",
        "IPY_MODEL_a7ce671c09364c8ea98bb321426e486f"
       ],
       "layout": "IPY_MODEL_ef0de7e1028241db9a7758c0fb94d130"
      }
     },
     "b0e81ff4e05d44f889d84609f1cb1563": {
      "model_module": "@jupyter-widgets/base",
      "model_module_version": "2.0.0",
      "model_name": "LayoutModel",
      "state": {}
     },
     "b42c67c0bf924b2eb0804d1dfb90c0dd": {
      "model_module": "@jupyter-widgets/controls",
      "model_module_version": "2.0.0",
      "model_name": "HTMLModel",
      "state": {
       "layout": "IPY_MODEL_51754be353fe4f16b70f65c057eaece8",
       "style": "IPY_MODEL_a8a1245c0969445c8784845c182feda0",
       "value": " 1/1 [00:00&lt;00:00, 165.40it/s]"
      }
     },
     "bac50950383e49998fd6c1b73a6285dd": {
      "model_module": "@jupyter-widgets/controls",
      "model_module_version": "2.0.0",
      "model_name": "HBoxModel",
      "state": {
       "children": [
        "IPY_MODEL_57476ec739fc4880ad51794b1679f8f0",
        "IPY_MODEL_732b682f733a4220a62ccd3ed8cc3cfc",
        "IPY_MODEL_b42c67c0bf924b2eb0804d1dfb90c0dd"
       ],
       "layout": "IPY_MODEL_3a5fe39a49a4414c9466c0d6734e4270"
      }
     },
     "bd0cc5cfdcf3448d991de44a55cc0ed2": {
      "model_module": "@jupyter-widgets/base",
      "model_module_version": "2.0.0",
      "model_name": "LayoutModel",
      "state": {}
     },
     "bdaa750ca3684382aca31776f99ae320": {
      "model_module": "@jupyter-widgets/controls",
      "model_module_version": "2.0.0",
      "model_name": "HTMLStyleModel",
      "state": {
       "description_width": "",
       "font_size": null,
       "text_color": null
      }
     },
     "c02ddf83104442ee9b0246e5ffa0dcd6": {
      "model_module": "@jupyter-widgets/controls",
      "model_module_version": "2.0.0",
      "model_name": "FloatProgressModel",
      "state": {
       "bar_style": "success",
       "layout": "IPY_MODEL_88e6282ae60d473e9a92b2518e778e4a",
       "max": 1,
       "style": "IPY_MODEL_3abf4f2b2ecb490e9f756f410cd1e60f",
       "value": 1
      }
     },
     "c203cfc03f5a4507aa7a1f0e0af2428e": {
      "model_module": "@jupyter-widgets/base",
      "model_module_version": "2.0.0",
      "model_name": "LayoutModel",
      "state": {}
     },
     "c20989ccfb18473cab160d5839676691": {
      "model_module": "@jupyter-widgets/controls",
      "model_module_version": "2.0.0",
      "model_name": "HTMLModel",
      "state": {
       "layout": "IPY_MODEL_af826b782a20456cbcc071184a9662ab",
       "style": "IPY_MODEL_1870bcd884cb46d1873db1f975b69350",
       "value": " 1/1 [00:00&lt;00:00, 133.59it/s]"
      }
     },
     "c2ae687f635746d38d6303188c07f867": {
      "model_module": "@jupyter-widgets/base",
      "model_module_version": "2.0.0",
      "model_name": "LayoutModel",
      "state": {}
     },
     "c84083de33bd4559b10c4ea607f7b8a6": {
      "model_module": "@jupyter-widgets/controls",
      "model_module_version": "2.0.0",
      "model_name": "HTMLStyleModel",
      "state": {
       "description_width": "",
       "font_size": null,
       "text_color": null
      }
     },
     "cd9096c25cb44835868c4e6024649769": {
      "model_module": "@jupyter-widgets/controls",
      "model_module_version": "2.0.0",
      "model_name": "HTMLModel",
      "state": {
       "layout": "IPY_MODEL_f4f56f1e8c424c3b802cac1e1dbf4eed",
       "style": "IPY_MODEL_8cee0a7f821e424cbff7a265c167a4ad",
       "value": "100%"
      }
     },
     "cf9232dca9274d71a04a7f1334d747d4": {
      "model_module": "@jupyter-widgets/controls",
      "model_module_version": "2.0.0",
      "model_name": "HTMLModel",
      "state": {
       "layout": "IPY_MODEL_0da6a9a13677471790f54a77cd9195e5",
       "style": "IPY_MODEL_69075f17b5d44639b01678598fc12664",
       "value": " 1/1 [00:00&lt;00:00, 129.91it/s]"
      }
     },
     "d1344d6bf51e43ff9f714ddf98a34dfe": {
      "model_module": "@jupyter-widgets/controls",
      "model_module_version": "2.0.0",
      "model_name": "HBoxModel",
      "state": {
       "children": [
        "IPY_MODEL_48fcadc59030414ab70241bd46bbfa29",
        "IPY_MODEL_1c4502af5e1245b5914b00377decac44",
        "IPY_MODEL_852f404918c849d69b7406562c808576"
       ],
       "layout": "IPY_MODEL_5fbe1ba797f841e5a1825f54b829b65f"
      }
     },
     "dc7977c2674a4788b6f6f5ae5e394b9b": {
      "model_module": "@jupyter-widgets/controls",
      "model_module_version": "2.0.0",
      "model_name": "ProgressStyleModel",
      "state": {
       "description_width": ""
      }
     },
     "ddcb32006ed84d25bd0633d17e93809e": {
      "model_module": "@jupyter-widgets/controls",
      "model_module_version": "2.0.0",
      "model_name": "ProgressStyleModel",
      "state": {
       "description_width": ""
      }
     },
     "df9e83fa4e154886acd51fb14f4320f7": {
      "model_module": "@jupyter-widgets/controls",
      "model_module_version": "2.0.0",
      "model_name": "HBoxModel",
      "state": {
       "children": [
        "IPY_MODEL_51b6a2e7bd1e44dda1b39419a92e7b44",
        "IPY_MODEL_84de673445574607a4442781e3544a3c",
        "IPY_MODEL_7194a10b49b14a0aaf2b8632b9bf06a3"
       ],
       "layout": "IPY_MODEL_8054f5b9dfbe4134a1bbdea5ea28080c"
      }
     },
     "e17d61a465a24e25bbba157f9dad8b3a": {
      "model_module": "@jupyter-widgets/controls",
      "model_module_version": "2.0.0",
      "model_name": "HTMLModel",
      "state": {
       "layout": "IPY_MODEL_086d9e84542c4d5d8f5b7721ccebcedb",
       "style": "IPY_MODEL_49d968f3e1dd4a4688f2dfd2053e3a08",
       "value": " 1/1 [00:00&lt;00:00, 153.08it/s]"
      }
     },
     "e8c6e1cdcd444c70bb2684053f4ab950": {
      "model_module": "@jupyter-widgets/base",
      "model_module_version": "2.0.0",
      "model_name": "LayoutModel",
      "state": {}
     },
     "ef0de7e1028241db9a7758c0fb94d130": {
      "model_module": "@jupyter-widgets/base",
      "model_module_version": "2.0.0",
      "model_name": "LayoutModel",
      "state": {}
     },
     "f303fdf2e7e549d994d5d0aa9f4fdc7e": {
      "model_module": "@jupyter-widgets/controls",
      "model_module_version": "2.0.0",
      "model_name": "HBoxModel",
      "state": {
       "children": [
        "IPY_MODEL_af6fb457f0cd4fa191fa021ed1373e3c",
        "IPY_MODEL_a64dc6587a824941aff845dcc0029486",
        "IPY_MODEL_c20989ccfb18473cab160d5839676691"
       ],
       "layout": "IPY_MODEL_bd0cc5cfdcf3448d991de44a55cc0ed2"
      }
     },
     "f4f56f1e8c424c3b802cac1e1dbf4eed": {
      "model_module": "@jupyter-widgets/base",
      "model_module_version": "2.0.0",
      "model_name": "LayoutModel",
      "state": {}
     },
     "faaf66d9ee994ff2b95eb8bf7c2e35df": {
      "model_module": "@jupyter-widgets/base",
      "model_module_version": "2.0.0",
      "model_name": "LayoutModel",
      "state": {}
     },
     "fb2ecab4c8e6407d858c00230eb49ef4": {
      "model_module": "@jupyter-widgets/base",
      "model_module_version": "2.0.0",
      "model_name": "LayoutModel",
      "state": {}
     },
     "ff518e4efafd4408aace4660827155ed": {
      "model_module": "@jupyter-widgets/controls",
      "model_module_version": "2.0.0",
      "model_name": "HTMLStyleModel",
      "state": {
       "description_width": "",
       "font_size": null,
       "text_color": null
      }
     }
    },
    "version_major": 2,
    "version_minor": 0
   }
  }
 },
 "nbformat": 4,
 "nbformat_minor": 5
}
