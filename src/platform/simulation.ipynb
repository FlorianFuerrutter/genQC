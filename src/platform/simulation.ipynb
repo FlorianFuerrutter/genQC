{
 "cells": [
  {
   "cell_type": "markdown",
   "id": "a8980c24-d62e-462b-ba89-3195cfdcc374",
   "metadata": {},
   "source": [
    "# Simulation backend\n",
    "\n",
    "> Class to load and run corresponding backends."
   ]
  },
  {
   "cell_type": "code",
   "execution_count": 7,
   "id": "a8832bdd-f61c-44e1-8619-a9cb352ba768",
   "metadata": {
    "execution": {
     "iopub.execute_input": "2025-06-01T11:21:06.143385Z",
     "iopub.status.busy": "2025-06-01T11:21:06.142386Z",
     "iopub.status.idle": "2025-06-01T11:21:06.145917Z",
     "shell.execute_reply": "2025-06-01T11:21:06.145917Z",
     "shell.execute_reply.started": "2025-06-01T11:21:06.143385Z"
    }
   },
   "outputs": [],
   "source": [
    "#| default_exp platform.simulation"
   ]
  },
  {
   "cell_type": "code",
   "execution_count": 8,
   "id": "06272f6f-b4e3-4504-a90a-feebbf6ad821",
   "metadata": {
    "execution": {
     "iopub.execute_input": "2025-06-01T11:21:06.146903Z",
     "iopub.status.busy": "2025-06-01T11:21:06.146903Z",
     "iopub.status.idle": "2025-06-01T11:21:06.153385Z",
     "shell.execute_reply": "2025-06-01T11:21:06.153385Z",
     "shell.execute_reply.started": "2025-06-01T11:21:06.146903Z"
    }
   },
   "outputs": [],
   "source": [
    "#| export\n",
    "from genQC.imports import *\n",
    "from genQC.platform.backends.base_backend import BaseBackend"
   ]
  },
  {
   "cell_type": "markdown",
   "id": "27afa544-b435-4ad2-9897-d731ccfc100d",
   "metadata": {},
   "source": [
    "## Backend types"
   ]
  },
  {
   "cell_type": "code",
   "execution_count": 9,
   "id": "3e0f28ff-2843-4269-8bb7-2f967928bad1",
   "metadata": {
    "execution": {
     "iopub.execute_input": "2025-06-01T11:21:06.154393Z",
     "iopub.status.busy": "2025-06-01T11:21:06.154393Z",
     "iopub.status.idle": "2025-06-01T11:21:06.159052Z",
     "shell.execute_reply": "2025-06-01T11:21:06.159052Z",
     "shell.execute_reply.started": "2025-06-01T11:21:06.154393Z"
    }
   },
   "outputs": [],
   "source": [
    "#| export\n",
    "class CircuitBackendType(enum.Enum): \n",
    "    QISKIT    = enum.auto()\n",
    "    CUDAQ     = enum.auto() \n",
    "    PENNYLANE = enum.auto() \n",
    "\n",
    "GenericBackendType = Union[CircuitBackendType]"
   ]
  },
  {
   "cell_type": "code",
   "execution_count": 10,
   "id": "961ce363-003b-49d4-95f5-83ebeab1ec2c",
   "metadata": {
    "execution": {
     "iopub.execute_input": "2025-06-01T11:21:06.160060Z",
     "iopub.status.busy": "2025-06-01T11:21:06.160060Z",
     "iopub.status.idle": "2025-06-01T11:21:06.164444Z",
     "shell.execute_reply": "2025-06-01T11:21:06.164444Z",
     "shell.execute_reply.started": "2025-06-01T11:21:06.160060Z"
    }
   },
   "outputs": [],
   "source": [
    "#| export\n",
    "class TensorEncodingType(enum.Enum): \n",
    "    CIRCUIT = enum.auto()\n",
    "\n",
    "def is_circuit_type(backend_type): return backend_type in CircuitBackendType"
   ]
  },
  {
   "cell_type": "markdown",
   "id": "1bf989ee-ba6d-45a8-ac7e-c71947e85b87",
   "metadata": {},
   "source": [
    "## Simulator"
   ]
  },
  {
   "cell_type": "code",
   "execution_count": 11,
   "id": "bb0eca29-bf36-4696-9162-f118c1b971de",
   "metadata": {
    "execution": {
     "iopub.execute_input": "2025-06-01T11:21:06.165452Z",
     "iopub.status.busy": "2025-06-01T11:21:06.165452Z",
     "iopub.status.idle": "2025-06-01T11:21:06.170093Z",
     "shell.execute_reply": "2025-06-01T11:21:06.170093Z",
     "shell.execute_reply.started": "2025-06-01T11:21:06.165452Z"
    }
   },
   "outputs": [],
   "source": [
    "#| export\n",
    "class Simulator():\n",
    "    \"\"\"Basic class for handling backend types.\"\"\"\n",
    "    \n",
    "    def __init__(self, backend: GenericBackendType, *args, **kwargs) -> BaseBackend:  \n",
    "        match backend:        \n",
    "            case CircuitBackendType.QISKIT:  \n",
    "                from genQC.platform.backends.circuits_qiskit import CircuitsQiskitBackend    \n",
    "                backend = CircuitsQiskitBackend(*args, **kwargs)\n",
    "    \n",
    "            case CircuitBackendType.CUDAQ:\n",
    "                from genQC.platform.backends.circuits_cudaq import CircuitsCudaqBackend    \n",
    "                backend = CircuitsCudaqBackend(*args, **kwargs)\n",
    "\n",
    "            case CircuitBackendType.PENNYLANE:\n",
    "                from genQC.platform.backends.circuits_pennylane import CircuitsPennylaneBackend    \n",
    "                backend = CircuitsPennylaneBackend(*args, **kwargs)\n",
    "\n",
    "            case _:\n",
    "                raise NotImplementedError(f\"Not implemented given backend: {backend}\")\n",
    "                \n",
    "        self.backend = backend\n",
    "\n",
    "    \n",
    "    def backend_to_genqc(self, *args, **kwargs):\n",
    "        return self.backend.backend_to_genqc(*args, **kwargs)\n",
    "\n",
    "    \n",
    "    def genqc_to_backend(self, *args, **kwargs):\n",
    "        return self.backend.genqc_to_backend(*args, **kwargs)"
   ]
  },
  {
   "cell_type": "markdown",
   "id": "f41f26a8-ac40-4e91-8c0e-1ef07a0fd4f4",
   "metadata": {},
   "source": [
    "# Export -"
   ]
  },
  {
   "cell_type": "code",
   "execution_count": 12,
   "id": "a0474216-8e0c-4ba7-9a37-571ac7d8e82c",
   "metadata": {
    "execution": {
     "iopub.execute_input": "2025-06-01T11:21:06.171102Z",
     "iopub.status.busy": "2025-06-01T11:21:06.170093Z",
     "iopub.status.idle": "2025-06-01T11:21:06.955176Z",
     "shell.execute_reply": "2025-06-01T11:21:06.955176Z",
     "shell.execute_reply.started": "2025-06-01T11:21:06.171102Z"
    }
   },
   "outputs": [],
   "source": [
    "#| hide\n",
    "import nbdev; nbdev.nbdev_export()"
   ]
  }
 ],
 "metadata": {
  "kernelspec": {
   "display_name": "Python 3 (ipykernel)",
   "language": "python",
   "name": "python3"
  },
  "language_info": {
   "codemirror_mode": {
    "name": "ipython",
    "version": 3
   },
   "file_extension": ".py",
   "mimetype": "text/x-python",
   "name": "python",
   "nbconvert_exporter": "python",
   "pygments_lexer": "ipython3",
   "version": "3.12.9"
  },
  "widgets": {
   "application/vnd.jupyter.widget-state+json": {
    "state": {},
    "version_major": 2,
    "version_minor": 0
   }
  }
 },
 "nbformat": 4,
 "nbformat_minor": 5
}
