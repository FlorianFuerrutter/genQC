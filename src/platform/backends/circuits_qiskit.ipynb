{
 "cells": [
  {
   "cell_type": "markdown",
   "id": "5fb2a609-e10c-4af6-9740-676112148336",
   "metadata": {},
   "source": [
    "# Qiskit circuits backend\n",
    "\n",
    "> [Qiskit](https://github.com/Qiskit/qiskit) based quantum circuit backend."
   ]
  },
  {
   "cell_type": "code",
   "execution_count": null,
   "id": "a7a65d39-ffb3-441b-bb84-81e0f18e0769",
   "metadata": {},
   "outputs": [],
   "source": [
    "#| default_exp platform.backends.circuits_qiskit"
   ]
  },
  {
   "cell_type": "code",
   "execution_count": null,
   "id": "d8d25f86-82c1-482e-997e-cb08141fbcf5",
   "metadata": {},
   "outputs": [],
   "source": [
    "#| export\n",
    "from genQC.imports import *\n",
    "from genQC.platform.backends.base_backend import BaseBackend\n",
    "from genQC.platform.circuits_instructions import CircuitInstructions\n",
    "from genQC.platform.tokenizer.base_tokenizer import Vocabulary\n",
    "from genQC.utils.config_loader import get_obj_from_str\n",
    "\n",
    "import qiskit.circuit.library as ql\n",
    "import qiskit.quantum_info as qi\n",
    "\n",
    "from qiskit import QuantumCircuit, transpile\n",
    "from qiskit.circuit.gate import Gate"
   ]
  },
  {
   "cell_type": "markdown",
   "id": "1e6ecfe9-0365-49e3-bdf3-3902c5f52fcd",
   "metadata": {},
   "source": [
    "## Utils"
   ]
  },
  {
   "cell_type": "code",
   "execution_count": null,
   "id": "e0e6cce5-01ed-4842-bb24-323776cdae99",
   "metadata": {},
   "outputs": [],
   "source": [
    "#| export\n",
    "def get_number_of_gate_params(gate_cls: type[Gate]) -> int:\n",
    "    # python: gives you the number of any arguments BEFORE *args, minus the ones that have a default, -1 for self parameter of classes\n",
    "    return gate_cls.__init__.__code__.co_argcount - len(gate_cls.__init__.__defaults__) - 1"
   ]
  },
  {
   "cell_type": "code",
   "execution_count": null,
   "id": "a8d28b5b-702e-4bb0-acf1-20fe45d90c3f",
   "metadata": {},
   "outputs": [],
   "source": [
    "assert get_number_of_gate_params(ql.HGate)  == 0\n",
    "assert get_number_of_gate_params(ql.CXGate) == 0\n",
    "assert get_number_of_gate_params(ql.U1Gate) == 1\n",
    "assert get_number_of_gate_params(ql.U2Gate) == 2\n",
    "assert get_number_of_gate_params(ql.U3Gate) == 3"
   ]
  },
  {
   "cell_type": "code",
   "execution_count": null,
   "id": "6e7415a3-7e89-4efc-9a9e-80f9d8d637fe",
   "metadata": {},
   "outputs": [],
   "source": [
    "#| export\n",
    "def instruction_name_to_qiskit_gate(name: str) -> Gate:\n",
    "    match name:\n",
    "        case \"swap\": name = \"Swap\"\n",
    "        case \"cp\":   name = \"CPhase\"\n",
    "        case _:      name = name.upper()\n",
    "        \n",
    "    return get_obj_from_str(f\"qiskit.circuit.library.standard_gates.{name}Gate\")"
   ]
  },
  {
   "cell_type": "code",
   "execution_count": null,
   "id": "2486f09e-78e3-4dec-b9a3-21d22dfdcc4d",
   "metadata": {},
   "outputs": [],
   "source": [
    "#| export\n",
    "def get_target_control_qubits(qc: QuantumCircuit, gate: Gate) -> Tuple[List[int], List[int]]:\n",
    "    \"\"\"Get the target and control qubits of a Qiskit `Gate` of a `QuantumCircuit`.\"\"\"\n",
    "    \n",
    "    acts_on_cnt = gate.operation.num_qubits\n",
    "    acts_on     = [qc.find_bit(qubit).index for qubit in gate.qubits]      # order: (*control_qubits, *target_qubits)\n",
    "\n",
    "    assert acts_on_cnt == len(acts_on), \"error in: acts_on_cnt == len(acts_on)\"\n",
    "\n",
    "    num_ctrl_qubits = gate.operation.num_ctrl_qubits if hasattr(gate.operation, \"num_ctrl_qubits\") else 0 \n",
    "    num_targ_qubits = acts_on_cnt - num_ctrl_qubits\n",
    "\n",
    "    control_qubits, target_qubits = acts_on[:-num_targ_qubits], acts_on[-num_targ_qubits:]   \n",
    "    return control_qubits, target_qubits  "
   ]
  },
  {
   "cell_type": "markdown",
   "id": "7cd858b0-e512-43d0-acf2-b76e9f06e5af",
   "metadata": {},
   "source": [
    "## Backend"
   ]
  },
  {
   "cell_type": "code",
   "execution_count": null,
   "id": "31d639ab-a606-4d19-a998-60eca46dd0a2",
   "metadata": {},
   "outputs": [],
   "source": [
    "#| export\n",
    "class CircuitsQiskitBackend(BaseBackend):\n",
    "\n",
    "    BASIC_BACKEND_TYPE = type[QuantumCircuit]\n",
    "    \n",
    "    def backend_to_genqc(self, qc: QuantumCircuit, ignore_barriers: bool = True) -> CircuitInstructions:\n",
    "        \"\"\"Convert a given Qiskit `QuantumCircuit` to genQC `CircuitInstructions`.\"\"\"\n",
    "\n",
    "        if ignore_barriers:\n",
    "            gates = []\n",
    "            for gate in qc.data:\n",
    "                if gate.operation.name != \"barrier\": \n",
    "                    gates.append(gate)\n",
    "        else:\n",
    "            gates = qc.data\n",
    "        \n",
    "        instructions = CircuitInstructions(tensor_shape=torch.Size([qc.num_qubits, len(gates)]))\n",
    "        \n",
    "        for gate in gates:          \n",
    "            control_qubits, target_qubits = get_target_control_qubits(qc, gate)      \n",
    "\n",
    "            #Correction to qiskit v1.3.1\n",
    "            #`cp` is symmetric but qiskit uses\n",
    "            #`cp(theta, control_qubit, target_qubit)` target and control\n",
    "            #We make it only target connections like `swap` gates\n",
    "            if gate.operation.name == \"cp\":\n",
    "                target_qubits.extend(control_qubits)\n",
    "                control_qubits = []\n",
    "            \n",
    "            instructions.add_instruction(gate.operation.name, control_qubits, target_qubits, gate.operation.params)\n",
    "\n",
    "        return instructions\n",
    "\n",
    "    def genqc_to_backend(self, \n",
    "                         instructions: CircuitInstructions, \n",
    "                         place_barriers: bool = True,\n",
    "                         ignore_errors: bool = False,\n",
    "                         place_error_placeholders: bool = False) -> QuantumCircuit:  \n",
    "        \"\"\"Convert given genQC `CircuitInstructions` to a Qiskit `QuantumCircuit`.\"\"\"\n",
    "        \n",
    "        gate_classes = {name:instruction_name_to_qiskit_gate(name) for name in instructions.instruction_names_set}        \n",
    "        qc           = QuantumCircuit(instructions.num_qubits)  \n",
    "        \n",
    "        for instruction in instructions.data:\n",
    "            gate_cls         = gate_classes[instruction.name]      \n",
    "            num_of_paramters = get_number_of_gate_params(gate_cls)   \n",
    "\n",
    "            control_qubits, target_qubits = instruction.control_nodes, instruction.target_nodes\n",
    "            params                        = instruction.params[:num_of_paramters]\n",
    "            \n",
    "            try:\n",
    "                qc.append(gate_cls(*params), [*control_qubits, *target_qubits], [])        \n",
    "            except Exception as err:\n",
    "                if ignore_errors: continue\n",
    "                elif place_error_placeholders:\n",
    "                    qc.append(ql.UnitaryGate(np.eye(2**instructions.num_qubits), label=\"Err\"), range(instructions.num_qubits))\n",
    "                    # qc.append(ql.UnitaryGate(np.eye(2), label=\"Err\"), [0])\n",
    "                    continue\n",
    "                raise err\n",
    "            \n",
    "            if place_barriers: qc.barrier()\n",
    "    \n",
    "        return qc \n",
    "\n",
    "    def get_unitary(self, qc: QuantumCircuit, remove_global_phase: bool = True) -> np.ndarray:\n",
    "        \"\"\"Return the unitary matrix of a `QuantumCircuit`.\"\"\"\n",
    "        U = qi.Operator(qc).to_matrix().astype(np.complex128)\n",
    "        if remove_global_phase:\n",
    "            U *= np.exp(-1j * qc.global_phase) \n",
    "        return U\n",
    "\n",
    "    def schmidt_rank_vector(self, qc: Optional[QuantumCircuit] = None, densityMatrix: Optional[qi.DensityMatrix] = None) -> List[int]:   \n",
    "        \"\"\"Return the SRV of a `qi.DensityMatrix`.\"\"\"\n",
    "\n",
    "        if not exists(densityMatrix):\n",
    "            densityMatrix = qi.DensityMatrix(qc)\n",
    "        \n",
    "        systems_cnt = len(densityMatrix.dims())   \n",
    "        total_trace = set(range(systems_cnt))    \n",
    "        rank_vector = []\n",
    "        \n",
    "        for i in range(systems_cnt): \n",
    "            trace = list(total_trace - {i})\n",
    "            red_densityMatrix = qi.partial_trace(densityMatrix, trace)        \n",
    "            # r = np.count_nonzero(np.linalg.eigvals(red_densityMatrix) > 1e-14) # was slower during testing   \n",
    "            r = np.linalg.matrix_rank(red_densityMatrix, hermitian=True).item()       \n",
    "            rank_vector.append(r)\n",
    "        \n",
    "        return rank_vector\n",
    "\n",
    "    def optimize_circuit(self, \n",
    "                         qc: QuantumCircuit, \n",
    "                         vocabulary: Vocabulary, \n",
    "                         optimization_level: int = 1, \n",
    "                         silent: bool = True) -> QuantumCircuit:\n",
    "        \"\"\"Use `qiskit.compiler.transpile` to optimize a circuit.\"\"\"\n",
    "        \n",
    "        if optimization_level == 0: \n",
    "            return qc\n",
    "                \n",
    "        while optimization_level > 0:\n",
    "            try:\n",
    "                qc_opt = transpile(qc, optimization_level=optimization_level, basis_gates=vocabulary)\n",
    "                return qc_opt\n",
    "                \n",
    "            except Exception as er: \n",
    "                if not silent: print(er)\n",
    "                pass \n",
    "    \n",
    "            optimization_level -= 1\n",
    "    \n",
    "        return qc\n",
    "\n",
    "    def rnd_circuit(self, \n",
    "                    num_of_qubits: int, \n",
    "                    num_of_gates:int, \n",
    "                    gate_pool: Union[Sequence[Gate], Sequence[str]], \n",
    "                    rng: np.random.Generator) -> QuantumCircuit:\n",
    "        \"\"\"Create a random `QuantumCircuit`.\"\"\"\n",
    "\n",
    "        qc = QuantumCircuit(num_of_qubits)    \n",
    "        gate_indices = rng.choice(len(gate_pool), num_of_gates)\n",
    "\n",
    "        gate_pool = list(gate_pool)\n",
    "        if isinstance(gate_pool[0], str):\n",
    "            gate_pool = [instruction_name_to_qiskit_gate(gate) for gate in gate_pool]  \n",
    "        \n",
    "        for gate_index in gate_indices:\n",
    "            gate_cls         = gate_pool[gate_index]\n",
    "            num_of_paramters = get_number_of_gate_params(gate_cls)         \n",
    "            params           = rng.uniform(low=0, high=4.0*np.pi, size=num_of_paramters) if num_of_paramters > 0 else [] \n",
    "            \n",
    "            gate = gate_cls(*params)      \n",
    "            act_qubits = rng.choice(num_of_qubits, gate.num_qubits, replace=False)   # order: (*act_qubits)=(*control_qubits, *target_qubits)   \n",
    "            qc.append(gate, [*act_qubits], [])\n",
    "        \n",
    "        return qc\n",
    "\n",
    "    def randomize_params(self, qc: QuantumCircuit, rng: np.random.Generator) -> QuantumCircuit:\n",
    "        \"\"\"Randomize all parameters of a `QuantumCircuit`. This creates a new `QuantumCircuit` and therefore deletes global phase.\"\"\"\n",
    "        \n",
    "        qc_new = QuantumCircuit(qc.num_qubits)\n",
    "        \n",
    "        for gate in qc.data:\n",
    "            gate_cls                       = instruction_name_to_qiskit_gate(gate.operation.name)\n",
    "            control_qubits, target_qubits  = get_target_control_qubits(qc, gate)\n",
    "            params                         = rng.uniform(low=0, high=4.0*np.pi, size=len(gate.operation.params))\n",
    "            \n",
    "            qc_new.append(gate_cls(*params), [*control_qubits, *target_qubits], [])           \n",
    "            \n",
    "        return qc_new\n",
    "\n",
    "    def draw(self, qc: QuantumCircuit, **kwargs) -> None:\n",
    "        \"\"\"Draw the given `QuantumCircuit` using Qiskit.\"\"\" \n",
    "        return qc.draw(\"mpl\", **kwargs)\n",
    "        # plt.show()"
   ]
  },
  {
   "cell_type": "markdown",
   "id": "890c5b01-6a2c-4f10-8510-8c19077ca12a",
   "metadata": {},
   "source": [
    "## Test"
   ]
  },
  {
   "cell_type": "code",
   "execution_count": null,
   "id": "0bd1a012-1802-4b4c-9c63-d58f918cd734",
   "metadata": {},
   "outputs": [],
   "source": [
    "from genQC.platform.tokenizer.circuits_tokenizer import CircuitTokenizer"
   ]
  },
  {
   "cell_type": "markdown",
   "id": "78f03bed-23d1-47db-8497-5fe6943c722d",
   "metadata": {},
   "source": [
    "### genqc <-> backend"
   ]
  },
  {
   "cell_type": "code",
   "execution_count": null,
   "id": "5b8d9d74-5b66-465d-95ff-7a80111e7d29",
   "metadata": {},
   "outputs": [
    {
     "name": "stdout",
     "output_type": "stream",
     "text": [
      "CircuitInstruction(name='h', control_nodes=[], target_nodes=[0], params=[6.2831854820251465, 6.2831854820251465])\n",
      "CircuitInstruction(name='h', control_nodes=[], target_nodes=[2], params=[6.2831854820251465, 6.2831854820251465])\n",
      "CircuitInstruction(name='ccx', control_nodes=[0, 2], target_nodes=[1], params=[6.2831854820251465, 6.2831854820251465])\n",
      "CircuitInstruction(name='h', control_nodes=[], target_nodes=[2], params=[6.2831854820251465, 6.2831854820251465])\n",
      "CircuitInstruction(name='u2', control_nodes=[], target_nodes=[1], params=[11.9380521774292, 1.8849557638168335])\n"
     ]
    }
   ],
   "source": [
    "tensor = torch.tensor([\n",
    "                [3, 0, -2, 0, 0],\n",
    "                [0, 0,  2, 0, 1],\n",
    "                [0, 3, -2, 3, 0],\n",
    "            ], dtype=torch.int32)\n",
    "\n",
    "params_tensor = torch.tensor([       # ... [max_params, time]\n",
    "                    [0, 0, 0, 0,  0.9],\n",
    "                    [0, 0, 0, 0, -0.7]\n",
    "                ])\n",
    "\n",
    "vocabulary   = {\"u2\":1, \"ccx\":2, \"h\":3}\n",
    "tokenizer    = CircuitTokenizer(vocabulary)\n",
    "instructions = tokenizer.decode(tensor, params_tensor)\n",
    "\n",
    "instructions.print()"
   ]
  },
  {
   "cell_type": "code",
   "execution_count": null,
   "id": "37a72460-592e-49ed-91ec-f51c8bd1c15f",
   "metadata": {},
   "outputs": [
    {
     "data": {
      "image/png": "[encoded data removed]",
      "text/plain": [
       "<Figure size 1040x284.278 with 1 Axes>"
      ]
     },
     "execution_count": null,
     "metadata": {},
     "output_type": "execute_result"
    }
   ],
   "source": [
    "backend = CircuitsQiskitBackend()\n",
    "\n",
    "qc = backend.genqc_to_backend(instructions)\n",
    "qc.draw(\"mpl\")"
   ]
  },
  {
   "cell_type": "code",
   "execution_count": null,
   "id": "3d5ddaab-189b-48c2-8766-29fa3e6a2981",
   "metadata": {},
   "outputs": [
    {
     "name": "stdout",
     "output_type": "stream",
     "text": [
      "CircuitInstruction(name='h', control_nodes=[], target_nodes=[0], params=[])\n",
      "CircuitInstruction(name='h', control_nodes=[], target_nodes=[2], params=[])\n",
      "CircuitInstruction(name='ccx', control_nodes=[0, 2], target_nodes=[1], params=[])\n",
      "CircuitInstruction(name='h', control_nodes=[], target_nodes=[2], params=[])\n",
      "CircuitInstruction(name='u2', control_nodes=[], target_nodes=[1], params=[11.9380521774292, 1.8849557638168335])\n"
     ]
    }
   ],
   "source": [
    "dec_instructions = backend.backend_to_genqc(qc)\n",
    "dec_instructions.print()"
   ]
  },
  {
   "cell_type": "code",
   "execution_count": null,
   "id": "fde08ecb-fd42-48e7-8b4d-2357854b3e7c",
   "metadata": {},
   "outputs": [
    {
     "data": {
      "text/plain": [
       "(tensor([[ 3,  0, -2,  0,  0],\n",
       "         [ 0,  0,  2,  0,  1],\n",
       "         [ 0,  3, -2,  3,  0]], dtype=torch.int32),\n",
       " tensor([[ 0.0000,  0.0000,  0.0000,  0.0000,  0.9000],\n",
       "         [ 0.0000,  0.0000,  0.0000,  0.0000, -0.7000]]))"
      ]
     },
     "execution_count": null,
     "metadata": {},
     "output_type": "execute_result"
    }
   ],
   "source": [
    "enc_tensor, enc_params_tensor = tokenizer.encode(dec_instructions)\n",
    "enc_tensor, enc_params_tensor"
   ]
  },
  {
   "cell_type": "code",
   "execution_count": null,
   "id": "d34e84ef-51ec-4692-bd8f-eb9047368892",
   "metadata": {},
   "outputs": [],
   "source": [
    "assert torch.allclose(tensor, enc_tensor)\n",
    "assert torch.allclose(params_tensor, enc_params_tensor)"
   ]
  },
  {
   "cell_type": "markdown",
   "id": "b35c1cbe-d80d-4e3c-bafb-25b1514bb734",
   "metadata": {},
   "source": [
    "### Calculate unitary and optimize circuit"
   ]
  },
  {
   "cell_type": "code",
   "execution_count": null,
   "id": "7e4b5aeb-98e6-48c8-99b9-c8c432201941",
   "metadata": {},
   "outputs": [
    {
     "name": "stdout",
     "output_type": "stream",
     "text": [
      "[[ 0.64+0.59j -0.25+0.04j -0.31-0.27j  0.12-0.02j]\n",
      " [-0.18-0.18j -0.86+0.11j  0.09+0.08j  0.41-0.06j]\n",
      " [-0.11+0.05j -0.11+0.4j  -0.23+0.1j  -0.21+0.84j]\n",
      " [ 0.37-0.17j -0.03+0.12j  0.78-0.39j -0.05+0.25j]]\n"
     ]
    }
   ],
   "source": [
    "gate_pool  = [\"u3\", \"cx\",  \"h\"]\n",
    "qc         = backend.rnd_circuit(2, 10, gate_pool, np.random.default_rng())\n",
    "U_initial  = backend.get_unitary(qc)\n",
    "\n",
    "qc_opt = backend.optimize_circuit(qc, gate_pool, silent=0)\n",
    "U_opt  = backend.get_unitary(qc_opt, remove_global_phase=False)\n",
    "\n",
    "print(np.round(U_initial, 2))\n",
    "\n",
    "assert np.allclose(U_initial, U_opt)"
   ]
  },
  {
   "cell_type": "code",
   "execution_count": null,
   "id": "5b9d244c-9574-4a26-904c-966b3ed5f39d",
   "metadata": {},
   "outputs": [
    {
     "name": "stdout",
     "output_type": "stream",
     "text": [
      "Timeit get_unitary: 524 μs ± 407 ns per loop (mean ± std. dev. of 7 runs, 1,000 loops each)\n"
     ]
    }
   ],
   "source": [
    "res = %timeit -o -q backend.get_unitary(qc)\n",
    "print(f\"Timeit get_unitary: {str(res)}\")"
   ]
  },
  {
   "cell_type": "code",
   "execution_count": null,
   "id": "e970f669-acca-40f2-84e6-66662a163433",
   "metadata": {},
   "outputs": [
    {
     "name": "stdout",
     "output_type": "stream",
     "text": [
      "Initial number of gates 10:\n"
     ]
    },
    {
     "data": {
      "image/png": "[encoded data removed]",
      "text/plain": [
       "<Figure size 1123.41x200.667 with 1 Axes>"
      ]
     },
     "metadata": {},
     "output_type": "display_data"
    },
    {
     "name": "stdout",
     "output_type": "stream",
     "text": [
      "After optimization 3:\n"
     ]
    },
    {
     "data": {
      "image/png": "[encoded data removed]",
      "text/plain": [
       "<Figure size 454.517x200.667 with 1 Axes>"
      ]
     },
     "metadata": {},
     "output_type": "display_data"
    }
   ],
   "source": [
    "print(f\"Initial number of gates {len(qc.data)}:\")\n",
    "display(qc.draw(\"mpl\"))\n",
    "\n",
    "print(f\"After optimization {len(qc_opt.data)}:\")\n",
    "display(qc_opt.draw(\"mpl\"))"
   ]
  },
  {
   "cell_type": "code",
   "execution_count": null,
   "id": "5ee9f32e-de6e-461d-bb7c-ea730a7e6772",
   "metadata": {},
   "outputs": [
    {
     "data": {
      "image/png": "[encoded data removed]",
      "text/plain": [
       "<Figure size 370.906x200.667 with 1 Axes>"
      ]
     },
     "metadata": {},
     "output_type": "display_data"
    }
   ],
   "source": [
    "qc_rand = backend.randomize_params(qc_opt, np.random.default_rng())\n",
    "display(qc_rand.draw(\"mpl\"))"
   ]
  },
  {
   "cell_type": "markdown",
   "id": "d870cb35-35cc-402d-9b2e-50fb39bf047d",
   "metadata": {},
   "source": [
    "### Schmidt-rank-vector"
   ]
  },
  {
   "cell_type": "code",
   "execution_count": null,
   "id": "b0077ab7-12ff-45cb-8457-a37f0ae664c4",
   "metadata": {},
   "outputs": [],
   "source": [
    "def plot_srv_stat(num_of_qubits, min_gates, max_gates, gate_pool, samples, rng=np.random.default_rng()):    \n",
    "    srv_list = list()\n",
    "    for i in range(samples):\n",
    "        qc  = backend.rnd_circuit(num_of_qubits, rng.integers(min_gates, max_gates+1), gate_pool, rng) \n",
    "        qc  = backend.optimize_circuit(qc, gate_pool)\n",
    "        srv = backend.schmidt_rank_vector(qc)\n",
    "        srv_list.append(srv)           \n",
    "\n",
    "    srv_unique, srv_cnt = np.unique(np.array(srv_list), axis=0, return_counts=True)\n",
    "    srv_unique = [f\"{s}\" for s in srv_unique]\n",
    "    \n",
    "    plt.bar(srv_unique, srv_cnt)\n",
    "    plt.title(\"Different SRV distribution\")\n",
    "    plt.show()"
   ]
  },
  {
   "cell_type": "code",
   "execution_count": null,
   "id": "99159db5-a206-48e3-88eb-91352f25f20d",
   "metadata": {},
   "outputs": [
    {
     "data": {
      "image/png": "[encoded data removed]",
      "text/plain": [
       "<Figure size 640x480 with 1 Axes>"
      ]
     },
     "metadata": {},
     "output_type": "display_data"
    }
   ],
   "source": [
    "gate_pool = [ql.HGate, ql.CXGate]\n",
    "\n",
    "plot_srv_stat(num_of_qubits=3, min_gates=6, max_gates=8, gate_pool=gate_pool, samples=int(1e3), rng=np.random.default_rng())"
   ]
  },
  {
   "cell_type": "code",
   "execution_count": null,
   "id": "72ca2b73-186b-49ae-8ece-af2ed06d37ee",
   "metadata": {},
   "outputs": [],
   "source": [
    "def test_srv(system_dims, init, target):\n",
    "    vec = qi.Statevector(init, dims=system_dims)\n",
    "    vec *= 1/np.sqrt(vec.trace())\n",
    "    srv = backend.schmidt_rank_vector(densityMatrix=qi.DensityMatrix(vec)) \n",
    "    assert srv == target, f\"srv: {srv}\"\n",
    "    print(f\"passed test, svr: {srv}\")\n",
    "    display(vec.draw('latex', prefix='|\\\\psi\\\\rangle = '))"
   ]
  },
  {
   "cell_type": "code",
   "execution_count": null,
   "id": "6ed24cb5-fb38-464b-9e60-885eefb23f6a",
   "metadata": {},
   "outputs": [
    {
     "name": "stdout",
     "output_type": "stream",
     "text": [
      "passed test, svr: [1, 1]\n"
     ]
    },
    {
     "data": {
      "text/latex": [
       "$$|\\psi\\rangle = \\frac{\\sqrt{2}}{2} |00\\rangle+\\frac{\\sqrt{2}}{2} |01\\rangle$$"
      ],
      "text/plain": [
       "<IPython.core.display.Latex object>"
      ]
     },
     "metadata": {},
     "output_type": "display_data"
    },
    {
     "name": "stdout",
     "output_type": "stream",
     "text": [
      "passed test, svr: [2, 2]\n"
     ]
    },
    {
     "data": {
      "text/latex": [
       "$$|\\psi\\rangle = \\frac{\\sqrt{2}}{2} |00\\rangle+\\frac{\\sqrt{2}}{2} |11\\rangle$$"
      ],
      "text/plain": [
       "<IPython.core.display.Latex object>"
      ]
     },
     "metadata": {},
     "output_type": "display_data"
    },
    {
     "name": "stdout",
     "output_type": "stream",
     "text": [
      "passed test, svr: [2, 2, 2]\n"
     ]
    },
    {
     "data": {
      "text/latex": [
       "$$|\\psi\\rangle = \\frac{\\sqrt{2}}{2} |000\\rangle+\\frac{\\sqrt{2}}{2} |111\\rangle$$"
      ],
      "text/plain": [
       "<IPython.core.display.Latex object>"
      ]
     },
     "metadata": {},
     "output_type": "display_data"
    },
    {
     "name": "stdout",
     "output_type": "stream",
     "text": [
      "passed test, svr: [3, 3, 3]\n"
     ]
    },
    {
     "data": {
      "text/latex": [
       "$$\\begin{align}\n",
       "\n",
       "|\\psi\\rangle = \n",
       "\\begin{bmatrix}\n",
       "\\frac{\\sqrt{3}}{3} & 0 & 0 & 0 & \\cdots & 0 & 0 & \\frac{\\sqrt{3}}{3}  \\\\\n",
       " \\end{bmatrix}\n",
       "\\\\\n",
       "\\text{dims=(3, 3, 3)}\n",
       "\\end{align}$$"
      ],
      "text/plain": [
       "<IPython.core.display.Latex object>"
      ]
     },
     "metadata": {},
     "output_type": "display_data"
    },
    {
     "name": "stdout",
     "output_type": "stream",
     "text": [
      "passed test, svr: [2, 2, 4]\n"
     ]
    },
    {
     "data": {
      "text/latex": [
       "$$\\begin{align}\n",
       "\n",
       "|\\psi\\rangle = \n",
       "\\begin{bmatrix}\n",
       "\\frac{1}{2} & 0 & 0 & 0 & \\cdots & 0 & 0 & 0  \\\\\n",
       " \\end{bmatrix}\n",
       "\\\\\n",
       "\\text{dims=(4, 4, 4)}\n",
       "\\end{align}$$"
      ],
      "text/plain": [
       "<IPython.core.display.Latex object>"
      ]
     },
     "metadata": {},
     "output_type": "display_data"
    }
   ],
   "source": [
    "#---------------- |0+> = |00>+|01>\n",
    "system_dims = (2,2)\n",
    "init = np.zeros(np.prod(system_dims), dtype=complex)\n",
    "init[0] = 1\n",
    "init[1] = 1\n",
    "test_srv(system_dims, init, [1, 1])\n",
    "\n",
    "#----------------Bell, |00>+|11>\n",
    "system_dims = (2,2)\n",
    "init = np.zeros(np.prod(system_dims), dtype=complex)\n",
    "init[0] = 1\n",
    "init[3] = 1\n",
    "test_srv(system_dims, init, [2, 2])\n",
    "  \n",
    "#----------------GHZ, |000>+|111>\n",
    "system_dims = (2,2,2)\n",
    "init = np.zeros(np.prod(system_dims), dtype=complex)\n",
    "init[0] = 1\n",
    "init[7] = 1\n",
    "test_srv(system_dims, init, [2,2,2])\n",
    " \n",
    "#----------------Sym, |000>+|111>+|222>\n",
    "system_dims = (3,3,3)\n",
    "init = np.zeros(np.prod(system_dims), dtype=complex)\n",
    "init[0]  = 1\n",
    "init[13] = 1\n",
    "init[26] = 1\n",
    "test_srv(system_dims, init, [3,3,3])\n",
    "      \n",
    "#----------------Wikipedia example, |000>+|101>+|210>+|311>\n",
    "system_dims = (4,4,4)\n",
    "init = np.zeros(np.prod(system_dims), dtype=complex)\n",
    "init[0]  = 1\n",
    "init[17] = 1\n",
    "init[36] = 1\n",
    "init[53] = 1\n",
    "test_srv(system_dims, init, [2, 2, 4])"
   ]
  },
  {
   "cell_type": "markdown",
   "id": "2f0718e3-8282-4fd3-b883-4f2be50e4912",
   "metadata": {},
   "source": [
    "# Export -"
   ]
  },
  {
   "cell_type": "code",
   "execution_count": null,
   "id": "1f12d3ca-ebf9-4752-9d61-2fbd26f027db",
   "metadata": {},
   "outputs": [],
   "source": [
    "#| hide\n",
    "import nbdev; nbdev.nbdev_export()"
   ]
  }
 ],
 "metadata": {
  "kernelspec": {
   "display_name": "python3",
   "language": "python",
   "name": "python3"
  },
  "widgets": {
   "application/vnd.jupyter.widget-state+json": {
    "state": {},
    "version_major": 2,
    "version_minor": 0
   }
  }
 },
 "nbformat": 4,
 "nbformat_minor": 5
}
