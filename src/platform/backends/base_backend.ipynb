{
 "cells": [
  {
   "cell_type": "markdown",
   "id": "abb1587f-e8df-41df-97ca-a7b338d217d0",
   "metadata": {},
   "source": [
    "# Base backend\n",
    "\n",
    "> Base class of corresponding backends."
   ]
  },
  {
   "cell_type": "code",
   "execution_count": null,
   "id": "15d245ad-f61a-4c43-aae6-a2054f1ab9ee",
   "metadata": {},
   "outputs": [],
   "source": [
    "#| default_exp platform.backends.base_backend"
   ]
  },
  {
   "cell_type": "code",
   "execution_count": null,
   "id": "e8dd5677-66ab-40f7-93d2-ac88b5dfc4e0",
   "metadata": {},
   "outputs": [],
   "source": [
    "#| export\n",
    "from genQC.imports import *"
   ]
  },
  {
   "cell_type": "code",
   "execution_count": null,
   "id": "009a348f-06d0-48ed-9e99-ca2d7dbe0cbd",
   "metadata": {},
   "outputs": [],
   "source": [
    "#| export\n",
    "class BaseBackend(abc.ABC):\n",
    "    \"\"\"Backends implement at least these functions.\"\"\"\n",
    "\n",
    "    BASIC_BACKEND_TYPE = type[Any]\n",
    "    \n",
    "    @abc.abstractmethod\n",
    "    def backend_to_genqc(self, *args, **kwargs):\n",
    "        raise NotImplementedError()\n",
    "\n",
    "    @abc.abstractmethod\n",
    "    def genqc_to_backend(self, *args, **kwargs):\n",
    "        raise NotImplementedError()\n",
    "\n",
    "    @abc.abstractmethod\n",
    "    def get_unitary(self, *args, **kwargs):\n",
    "        raise NotImplementedError()\n",
    "\n",
    "    @abc.abstractmethod\n",
    "    def draw(self, *args, **kwargs) -> None:\n",
    "        raise NotImplementedError()"
   ]
  },
  {
   "cell_type": "markdown",
   "id": "39e56f2e-a161-46ca-8239-a61e6f86cd44",
   "metadata": {},
   "source": [
    "# Export -"
   ]
  },
  {
   "cell_type": "code",
   "execution_count": null,
   "id": "f321b61f-afe7-4b3d-9a50-b0a0b1bd6139",
   "metadata": {},
   "outputs": [],
   "source": [
    "#| hide\n",
    "import nbdev; nbdev.nbdev_export()"
   ]
  }
 ],
 "metadata": {
  "kernelspec": {
   "display_name": "python3",
   "language": "python",
   "name": "python3"
  },
  "widgets": {
   "application/vnd.jupyter.widget-state+json": {
    "state": {},
    "version_major": 2,
    "version_minor": 0
   }
  }
 },
 "nbformat": 4,
 "nbformat_minor": 5
}
