{
 "cells": [
  {
   "cell_type": "markdown",
   "id": "5fb2a609-e10c-4af6-9740-676112148336",
   "metadata": {},
   "source": [
    "# Pennylane circuits backend\n",
    "\n",
    "> [PennyLane](https://pennylane.ai/) based quantum circuit backend."
   ]
  },
  {
   "cell_type": "code",
   "execution_count": null,
   "id": "a7a65d39-ffb3-441b-bb84-81e0f18e0769",
   "metadata": {},
   "outputs": [],
   "source": [
    "#| default_exp platform.backends.circuits_pennylane"
   ]
  },
  {
   "cell_type": "code",
   "execution_count": null,
   "id": "d8d25f86-82c1-482e-997e-cb08141fbcf5",
   "metadata": {},
   "outputs": [],
   "source": [
    "#| export\n",
    "from genQC.imports import *\n",
    "from genQC.platform.backends.base_backend import BaseBackend\n",
    "from genQC.platform.circuits_instructions import CircuitInstructions\n",
    "from genQC.platform.tokenizer.base_tokenizer import Vocabulary\n",
    "from genQC.utils.config_loader import get_obj_from_str\n",
    "\n",
    "import pennylane as qml\n",
    "import pennylane.ops as pennylane_ops"
   ]
  },
  {
   "cell_type": "markdown",
   "id": "1e6ecfe9-0365-49e3-bdf3-3902c5f52fcd",
   "metadata": {},
   "source": [
    "## Utils"
   ]
  },
  {
   "cell_type": "code",
   "execution_count": null,
   "id": "dc3b8e1c-c756-4673-960a-c867d1248ab1",
   "metadata": {},
   "outputs": [],
   "source": [
    "#| export\n",
    "def instruction_name_to_pennylane_name(name: str) -> str:\n",
    "    \"\"\"Maps instruction names to PennyLane names.\"\"\"\n",
    "\n",
    "    _maps = {\n",
    "        \"ccx\": \"Toffoli\",\n",
    "        \"cp\": \"CPhase\",\n",
    "        \"cx\": \"CNOT\",\n",
    "    }\n",
    "    \n",
    "    if name in _maps: \n",
    "        name = _maps[name]  \n",
    "    else:\n",
    "        name = name.upper()\n",
    "    \n",
    "    return name"
   ]
  },
  {
   "cell_type": "code",
   "execution_count": null,
   "id": "c9aa20aa-ae43-4d25-99e6-cff04e7fd897",
   "metadata": {},
   "outputs": [],
   "source": [
    "#| export\n",
    "@dataclass\n",
    "class ParametrizedPennylaneCircuit:\n",
    "    circuit: qml.QNode\n",
    "    params: torch.Tensor"
   ]
  },
  {
   "cell_type": "markdown",
   "id": "7cd858b0-e512-43d0-acf2-b76e9f06e5af",
   "metadata": {},
   "source": [
    "## Backend"
   ]
  },
  {
   "cell_type": "code",
   "execution_count": null,
   "id": "31d639ab-a606-4d19-a998-60eca46dd0a2",
   "metadata": {},
   "outputs": [],
   "source": [
    "#| export\n",
    "class CircuitsPennylaneBackend(BaseBackend):\n",
    "    \"\"\"A backend for [PennyLane](https://pennylane.ai/).\"\"\"\n",
    "    \n",
    "    def backend_to_genqc(self, qc: ParametrizedPennylaneCircuit, ignore_barriers: bool = True) -> CircuitInstructions:\n",
    "        \"\"\"Convert a given Pennylane `ParametrizedPennylaneCircuit` to genQC `CircuitInstructions`.\"\"\"\n",
    "        raise NotImplementedError()\n",
    "\n",
    "    def genqc_to_backend(self, \n",
    "                         instructions: CircuitInstructions,  \n",
    "                         flip_qubit_order: bool = True,\n",
    "                         place_barriers: bool = False,\n",
    "                         ignore_errors: bool = False,\n",
    "                         place_error_placeholders: bool = False) -> ParametrizedPennylaneCircuit:  \n",
    "        \"\"\"\n",
    "        Convert given genQC `CircuitInstructions` to a `ParametrizedPennylaneCircuit`.\n",
    "        - flip_qubit_order ... e.g. needed when using little-endian definition.\n",
    "        \"\"\"\n",
    "\n",
    "        _params = torch.tensor([\n",
    "                                instruction.params if instruction.params else torch.nan \n",
    "                                for instruction in instructions.data\n",
    "                               ])   # ... [seq, nP]\n",
    "            \n",
    "        assert _params.shape[1] == 1  #only support nP=1 for now\n",
    "        _params = _params.squeeze() # swap so we have batched [1, seq]\n",
    "\n",
    "        N   = instructions.num_qubits\n",
    "        dev = qml.device(\"default.qubit\", wires=N)\n",
    "\n",
    "        @qml.qnode(dev, interface='torch')\n",
    "        def _circuit(params):\n",
    "            for i, instruction in enumerate(instructions.data): \n",
    "                \n",
    "                _name = instruction_name_to_pennylane_name(instruction.name)\n",
    "                \n",
    "                op = getattr(pennylane_ops, _name)\n",
    "    \n",
    "                # The first wire provided corresponds to the control qubit.\n",
    "                # e.g. is qml.H(0)\n",
    "                _wires = (*instruction.control_nodes, *instruction.target_nodes)\n",
    "    \n",
    "                if flip_qubit_order:\n",
    "                    _wires = [N-n-1 for n in _wires]\n",
    "                \n",
    "                try:\n",
    "                    if op.num_params > 0:\n",
    "                        op(params[i], wires=_wires)   \n",
    "                    else:\n",
    "                        op(wires=_wires)   \n",
    "                except Exception as err:\n",
    "                    if ignore_errors: continue\n",
    "                    elif place_error_placeholders:\n",
    "                        qml.Identity(wires=_wires)\n",
    "                    raise err\n",
    "\n",
    "                if place_barriers: qml.Barrier(wires=list(range(N)))\n",
    "                    \n",
    "            # dummy return, as we only care about the unitary\n",
    "            # return qml.expval(qml.PauliZ(0))\n",
    "            return qml.state()\n",
    "\n",
    "        #run once to test for errors\n",
    "        try:\n",
    "            _circuit(_params)\n",
    "        except Exception as err:\n",
    "            raise err\n",
    "            \n",
    "        return ParametrizedPennylaneCircuit(circuit=_circuit, params=_params)\n",
    "\n",
    "    def get_unitary(self, qc: ParametrizedPennylaneCircuit) -> torch.Tensor:\n",
    "        \"\"\"Return the unitary matrix of a `ParametrizedPennylaneCircuit`.\"\"\"\n",
    "        return qml.matrix(qc.circuit)(qc.params)\n",
    "        \n",
    "    def draw(self, qc: ParametrizedPennylaneCircuit, style:str = \"black_white\", **kwargs) -> None:\n",
    "        \"\"\"Draw the given Pennylane `ParametrizedPennylaneCircuit`\"\"\"      \n",
    "        fig, ax = qml.draw_mpl(qc.circuit, decimals=2, show_all_wires=True, style=style, **kwargs)(qc.params.cpu().numpy())\n",
    "        return fig"
   ]
  },
  {
   "cell_type": "markdown",
   "id": "890c5b01-6a2c-4f10-8510-8c19077ca12a",
   "metadata": {},
   "source": [
    "## Test"
   ]
  },
  {
   "cell_type": "code",
   "execution_count": null,
   "id": "0bd1a012-1802-4b4c-9c63-d58f918cd734",
   "metadata": {},
   "outputs": [],
   "source": [
    "from genQC.platform.tokenizer.circuits_tokenizer import CircuitTokenizer"
   ]
  },
  {
   "cell_type": "markdown",
   "id": "78f03bed-23d1-47db-8497-5fe6943c722d",
   "metadata": {},
   "source": [
    "### genqc <-> backend"
   ]
  },
  {
   "cell_type": "code",
   "execution_count": null,
   "id": "5b8d9d74-5b66-465d-95ff-7a80111e7d29",
   "metadata": {},
   "outputs": [
    {
     "name": "stdout",
     "output_type": "stream",
     "text": [
      "CircuitInstruction(name='rx', control_nodes=[], target_nodes=[0], params=[12.566370964050293])\n",
      "CircuitInstruction(name='rx', control_nodes=[], target_nodes=[2], params=[12.566370964050293])\n",
      "CircuitInstruction(name='ccx', control_nodes=[0, 2], target_nodes=[1], params=[12.566370964050293])\n",
      "CircuitInstruction(name='rx', control_nodes=[], target_nodes=[2], params=[12.566370964050293])\n",
      "CircuitInstruction(name='cp', control_nodes=[], target_nodes=[0, 1], params=[11.9380521774292])\n"
     ]
    }
   ],
   "source": [
    "tensor = torch.tensor([\n",
    "                [3, 0, -2, 0, 1],\n",
    "                [0, 0,  2, 0, 1],\n",
    "                [0, 3, -2, 3, 0],\n",
    "            ], dtype=torch.int32)\n",
    "\n",
    "params_tensor = torch.tensor([       # ... [max_params, time]\n",
    "                    [1, 1, 1, 1,  0.9],\n",
    "                ])\n",
    "\n",
    "vocabulary   = {\"cp\":1, \"ccx\":2, \"rx\":3}\n",
    "tokenizer    = CircuitTokenizer(vocabulary)\n",
    "instructions = tokenizer.decode(tensor, params_tensor)\n",
    "\n",
    "instructions.print()"
   ]
  },
  {
   "cell_type": "code",
   "execution_count": null,
   "id": "37a72460-592e-49ed-91ec-f51c8bd1c15f",
   "metadata": {},
   "outputs": [
    {
     "data": {
      "image/png": "[encoded data removed]",
      "text/plain": [
       "<Figure size 600x400 with 1 Axes>"
      ]
     },
     "metadata": {},
     "output_type": "display_data"
    }
   ],
   "source": [
    "backend = CircuitsPennylaneBackend()\n",
    "\n",
    "qc = backend.genqc_to_backend(instructions, flip_qubit_order=False)\n",
    "backend.draw(qc);"
   ]
  },
  {
   "cell_type": "markdown",
   "id": "2f0718e3-8282-4fd3-b883-4f2be50e4912",
   "metadata": {},
   "source": [
    "# Export -"
   ]
  },
  {
   "cell_type": "code",
   "execution_count": null,
   "id": "1f12d3ca-ebf9-4752-9d61-2fbd26f027db",
   "metadata": {},
   "outputs": [],
   "source": [
    "#| hide\n",
    "import nbdev; nbdev.nbdev_export()"
   ]
  }
 ],
 "metadata": {
  "kernelspec": {
   "display_name": "python3",
   "language": "python",
   "name": "python3"
  },
  "widgets": {
   "application/vnd.jupyter.widget-state+json": {
    "state": {},
    "version_major": 2,
    "version_minor": 0
   }
  }
 },
 "nbformat": 4,
 "nbformat_minor": 5
}
