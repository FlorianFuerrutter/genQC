{
 "cells": [
  {
   "cell_type": "markdown",
   "id": "5fb2a609-e10c-4af6-9740-676112148336",
   "metadata": {},
   "source": [
    "# CUDA-Q circuits backend\n",
    "\n",
    "> [CUDA-Q](https://github.com/NVIDIA/cuda-quantum) based quantum circuit backend."
   ]
  },
  {
   "cell_type": "code",
   "execution_count": null,
   "id": "a7a65d39-ffb3-441b-bb84-81e0f18e0769",
   "metadata": {},
   "outputs": [],
   "source": [
    "#| default_exp platform.backends.circuits_cudaq"
   ]
  },
  {
   "cell_type": "code",
   "execution_count": null,
   "id": "d8d25f86-82c1-482e-997e-cb08141fbcf5",
   "metadata": {},
   "outputs": [],
   "source": [
    "#| export\n",
    "from genQC.imports import *\n",
    "from genQC.platform.backends.base_backend import BaseBackend\n",
    "from genQC.platform.circuits_instructions import CircuitInstructions\n",
    "\n",
    "import cudaq"
   ]
  },
  {
   "cell_type": "markdown",
   "id": "56ceb33f-7ea8-429a-9a1e-0a232d34e049",
   "metadata": {},
   "source": [
    "## Utils"
   ]
  },
  {
   "cell_type": "code",
   "execution_count": null,
   "id": "93cd70f8-cc88-4776-9150-ef7e1346bd75",
   "metadata": {},
   "outputs": [],
   "source": [
    "#| export\n",
    "@dataclass\n",
    "class ParametrizedCudaqKernel:\n",
    "    kernel: cudaq.kernel\n",
    "    params: list[float] # currently only support 1 angle per gate"
   ]
  },
  {
   "cell_type": "markdown",
   "id": "ce9ba9e0-b6ed-45cb-9c02-dcdbf37f8fb1",
   "metadata": {},
   "source": [
    "## Backend"
   ]
  },
  {
   "cell_type": "code",
   "execution_count": null,
   "id": "31d639ab-a606-4d19-a998-60eca46dd0a2",
   "metadata": {},
   "outputs": [],
   "source": [
    "#| export\n",
    "class CircuitsCudaqBackend(BaseBackend):\n",
    "\n",
    "    BASIC_BACKEND_TYPE = type[cudaq.kernel]\n",
    "\n",
    "    def __init__(self, target: str = \"qpp-cpu\") -> None:\n",
    "        cudaq.reset_target()\n",
    "        cudaq.set_target(target) # 'nvidia'\n",
    "    \n",
    "    def backend_to_genqc(self):\n",
    "        raise NotImplementedError(\"Not implemeted cudaq to genQC.\")\n",
    "\n",
    "    # Has to match with insides of belows kernel\n",
    "    KERNEL_VOCABULARY = {\"h\":1, \n",
    "                         \"cx\":2, \n",
    "                         \"z\":3, \n",
    "                         \"x\":4, \n",
    "                         \"y\":5, \n",
    "                         \"ccx\":6, \n",
    "                         \"swap\":7,\n",
    "                         \"rx\":8,\n",
    "                         \"ry\":9,\n",
    "                         \"rz\":10,\n",
    "                         \"cp\":11,} \n",
    "\n",
    "    def _construct_kernel(self,\n",
    "                          gate_list: List[str],\n",
    "                          target_1_nodes_list: List[int],\n",
    "                          target_2_nodes_list: List[int],\n",
    "                          control_1_nodes_list: List[int],\n",
    "                          control_2_nodes_list: List[int]\n",
    "                         ) -> cudaq.kernel:\n",
    "        \"\"\"Construct a `cudaq.kernel` from provided paramters.\"\"\"\n",
    "  \n",
    "        num_gates = len(gate_list)\n",
    "        gate_list = [self.KERNEL_VOCABULARY[g] for g in gate_list]\n",
    "\n",
    "        # Note: `@cudaq.kernel` decorator has a overhead of 20ms, regardless of the for-loop inside\n",
    "        \n",
    "        @cudaq.kernel\n",
    "        def place_gate_kernel(gate: int, \n",
    "                              qvector: cudaq.qview,\n",
    "                              target_1: int, \n",
    "                              target_2: int, \n",
    "                              control_1: int, \n",
    "                              control_2: int,\n",
    "                              theta: float):       \n",
    "            \n",
    "            if   gate == 1: h(qvector[target_1])\n",
    "            elif gate == 2: cx(qvector[control_1], qvector[target_1])\n",
    "            elif gate == 3: z(qvector[target_1])\n",
    "            elif gate == 4: x(qvector[target_1])\n",
    "            elif gate == 5: y(qvector[target_1])\n",
    "            elif gate == 6: x.ctrl(qvector[control_1], qvector[control_2], qvector[target_1])\n",
    "            elif gate == 7: swap(qvector[target_1], qvector[target_2])\n",
    "                \n",
    "            elif gate == 8:  rx(theta, qvector[target_1])\n",
    "            elif gate == 9:  ry(theta, qvector[target_1])\n",
    "            elif gate == 10: rz(theta, qvector[target_1])\n",
    "                \n",
    "            elif gate == 11: \n",
    "                # R1 applies the unitary transformation; i.e. it is a phase gate\n",
    "                # R1(λ) = | 1     0    |\n",
    "                #         | 0  exp(iλ) |\n",
    "                r1.ctrl(theta, qvector[target_1], qvector[target_2])\n",
    "                \n",
    "      \n",
    "        @cudaq.kernel  \n",
    "        def kernel(input_state: list[complex], thetas: list[float]):\n",
    "            qvector = cudaq.qvector(input_state)\n",
    "            for i in range(num_gates):\n",
    "                place_gate_kernel(gate_list[i], qvector, target_1_nodes_list[i], target_2_nodes_list[i], control_1_nodes_list[i], control_2_nodes_list[i], thetas[i])\n",
    "    \n",
    "        return kernel\n",
    "\n",
    "    def check_error_circuit(self, \n",
    "                            gate: str, \n",
    "                            num_target_nodes: int, \n",
    "                            num_control_nodes: int) -> bool:\n",
    "        \"\"\"Check number of connections of given gate. Used to check for error circuits.\"\"\"\n",
    "\n",
    "        if gate not in self.KERNEL_VOCABULARY:\n",
    "            raise NotImplementedError(f\"Unknown gate {gate}, not in `self.KERNEL_VOCABULARY`.\")\n",
    "            \n",
    "        if gate in [\"h\", \"z\", \"x\", \"y\", \"rx\", \"ry\", \"rz\"]:\n",
    "            if num_target_nodes != 1 or num_control_nodes !=0: return False\n",
    "\n",
    "        elif gate in [\"cx\"]:\n",
    "            if num_target_nodes != 1 or num_control_nodes !=1: return False\n",
    "\n",
    "        elif gate in [\"ccx\"]:\n",
    "            if num_target_nodes != 1 or num_control_nodes !=2: return False\n",
    "\n",
    "        elif gate in [\"swap\", \"cp\"]:\n",
    "            if num_target_nodes != 2 or num_control_nodes !=0: return False\n",
    "\n",
    "        else:\n",
    "            raise NotImplementedError(f\"Unknown gate {gate}, implemetation is faulty!\")\n",
    "\n",
    "        return True\n",
    "  \n",
    "    def genqc_to_backend(self, \n",
    "                         instructions: CircuitInstructions,\n",
    "                         **kwargs) -> cudaq.kernel:\n",
    "        \"\"\"Convert given genQC `CircuitInstructions` to a `cudaq.kernel`.\"\"\"\n",
    "\n",
    "        _params = torch.tensor([\n",
    "                                instruction.params if instruction.params else torch.nan \n",
    "                                for instruction in instructions.data\n",
    "                               ])   # ... [seq, nP]\n",
    "\n",
    "        if not torch.isnan(_params).any():\n",
    "            assert _params.shape[1] == 1  #only support nP=1 for now\n",
    "            _params = _params.squeeze()\n",
    "\n",
    "        #--------------------\n",
    "        \n",
    "        # num_qubits = instructions.num_qubits\n",
    "        num_gates  = instructions.length\n",
    "\n",
    "        # @cudaq.kernel can only take list[int] and no str directly\n",
    "        # -> we have to map everything to list[int]        \n",
    "        # set default value to 9999 so an error wil be raised if we have a faulty tensor encoding\n",
    "        \n",
    "        gate_list = []\n",
    "        target_1_nodes_list  = [9999] * num_gates\n",
    "        target_2_nodes_list  = [9999] * num_gates\n",
    "        control_1_nodes_list = [9999] * num_gates\n",
    "        control_2_nodes_list = [9999] * num_gates\n",
    "\n",
    "        for i, instruction in enumerate(instructions.data):\n",
    "\n",
    "            gate          = instruction.name.lower()\n",
    "            control_nodes = instruction.control_nodes\n",
    "            target_nodes  = instruction.target_nodes\n",
    "            \n",
    "            num_target_nodes  = len(target_nodes)\n",
    "            num_control_nodes = len(control_nodes)\n",
    "            \n",
    "            if not self.check_error_circuit(gate, num_target_nodes, num_control_nodes):\n",
    "                return None\n",
    "            \n",
    "            gate_list.append(gate)\n",
    "  \n",
    "            if num_target_nodes > 0:\n",
    "                target_1_nodes_list[i] = target_nodes[0]\n",
    "                if num_target_nodes > 1: \n",
    "                    target_2_nodes_list[i] = target_nodes[1]      \n",
    "            \n",
    "            if num_control_nodes > 0:\n",
    "                control_1_nodes_list[i] = control_nodes[0]  \n",
    "                if num_control_nodes > 1: \n",
    "                    control_2_nodes_list[i] = control_nodes[1]  \n",
    "                    \n",
    "        #--------------------\n",
    "        _kernel = self._construct_kernel(gate_list, target_1_nodes_list, target_2_nodes_list, control_1_nodes_list, control_2_nodes_list)\n",
    "\n",
    "        return ParametrizedCudaqKernel(kernel=_kernel, params=_params.tolist())\n",
    "    \n",
    "    def get_unitary(self, parametrizedCudaqKernel: ParametrizedCudaqKernel, num_qubits: int) -> np.ndarray:\n",
    "        \"\"\"Return the unitary matrix of a `cudaq.kernel`. Currently relies on simulation, could change in future releases of cudaq.\"\"\"\n",
    "\n",
    "        kernel, thetas = parametrizedCudaqKernel.kernel, parametrizedCudaqKernel.params\n",
    "        \n",
    "        N = 2**num_qubits\n",
    "        U = np.zeros((N, N), dtype=np.complex128)\n",
    "        \n",
    "        for j in range(N): \n",
    "            state_j    = np.zeros((N), dtype=np.complex128) \n",
    "            state_j[j] = 1\n",
    "            \n",
    "            U[:, j] = np.array(cudaq.get_state(kernel, state_j, thetas), copy=False)\n",
    "            \n",
    "        return U\n",
    "\n",
    "    def draw(self, kernel: cudaq.kernel, num_qubits: int, **kwargs) -> None:\n",
    "        \"\"\"Draw the given `cudaq.kernel` using cudaq.\"\"\" \n",
    "        c    = [0] * (2**num_qubits)\n",
    "        c[0] = 1\n",
    "        print(cudaq.draw(kernel, c))"
   ]
  },
  {
   "cell_type": "markdown",
   "id": "53c81cbb-6660-415f-84af-6f7c1db3bbc1",
   "metadata": {},
   "source": [
    "## Test "
   ]
  },
  {
   "cell_type": "code",
   "execution_count": null,
   "id": "ebd4e5fc-d36b-426a-a25d-1ac9b6f512e2",
   "metadata": {},
   "outputs": [],
   "source": [
    "from genQC.platform.tokenizer.circuits_tokenizer import CircuitTokenizer"
   ]
  },
  {
   "cell_type": "markdown",
   "id": "808e0504-771f-4e75-b9eb-ec49002f45a1",
   "metadata": {},
   "source": [
    "### genqc <-> backend"
   ]
  },
  {
   "cell_type": "code",
   "execution_count": null,
   "id": "85c251bf-8b3f-444c-b965-710f8960246b",
   "metadata": {},
   "outputs": [
    {
     "name": "stdout",
     "output_type": "stream",
     "text": [
      "CircuitInstruction(name='h', control_nodes=[], target_nodes=[0], params=[0.0])\n",
      "CircuitInstruction(name='ry', control_nodes=[], target_nodes=[2], params=[0.10000012069940567])\n",
      "CircuitInstruction(name='ccx', control_nodes=[0, 2], target_nodes=[1], params=[0.0])\n",
      "CircuitInstruction(name='swap', control_nodes=[], target_nodes=[1, 2], params=[0.0])\n",
      "CircuitInstruction(name='rx', control_nodes=[], target_nodes=[1], params=[2.299999713897705])\n",
      "CircuitInstruction(name='cp', control_nodes=[], target_nodes=[0, 1], params=[0.7000001072883606])\n"
     ]
    }
   ],
   "source": [
    "tensor = torch.tensor([\n",
    "                [1, 0, -2, 0, 0, 5],\n",
    "                [0, 0,  2, 3, 4, 5],\n",
    "                [0, 6, -2, 3, 0, 0],\n",
    "            ], dtype=torch.int32)\n",
    "\n",
    "params_tensor = torch.tensor([[0, 0.1, 0, 0, 2.3, 0.7]])/(2*np.pi) - 1\n",
    "\n",
    "vocabulary   = {\"h\":1, \"ccx\":2, \"swap\":3, \"rx\":4, \"cp\": 5, \"ry\":6}\n",
    "tokenizer    = CircuitTokenizer(vocabulary)\n",
    "instructions = tokenizer.decode(tensor, params_tensor)\n",
    "\n",
    "instructions.print()"
   ]
  },
  {
   "cell_type": "code",
   "execution_count": null,
   "id": "397b03a8-4abe-4557-97a4-0729384788d6",
   "metadata": {},
   "outputs": [
    {
     "name": "stdout",
     "output_type": "stream",
     "text": [
      "        ╭───╮                                 \n",
      "q0 : ───┤ h ├─────●─────────────────────●─────\n",
      "        ╰───╯   ╭─┴─╮   ╭─────────╮╭────┴────╮\n",
      "q1 : ───────────┤ x ├─╳─┤ rx(2.3) ├┤ r1(0.7) ├\n",
      "     ╭─────────╮╰─┬─╯ │ ╰─────────╯╰─────────╯\n",
      "q2 : ┤ ry(0.1) ├──●───╳───────────────────────\n",
      "     ╰─────────╯                              \n",
      "\n",
      "Measurement distribution:{ 000:85 010:401 100:85 110:429 }\n",
      "\n"
     ]
    }
   ],
   "source": [
    "N = 2**instructions.num_qubits\n",
    "\n",
    "backend = CircuitsCudaqBackend()\n",
    "parametrizedCudaqKernel = backend.genqc_to_backend(instructions)\n",
    "\n",
    "kernel, thetas = parametrizedCudaqKernel.kernel, parametrizedCudaqKernel.params\n",
    "\n",
    "c    = [0] * N\n",
    "c[0] = 1\n",
    "\n",
    "print(cudaq.draw(kernel, c, thetas))\n",
    "\n",
    "results = cudaq.sample(kernel, c, thetas)\n",
    "print(\"Measurement distribution:\" + str(results))"
   ]
  },
  {
   "cell_type": "code",
   "execution_count": null,
   "id": "1c07e877-6aaa-4e1a-98e1-3275c86084bd",
   "metadata": {},
   "outputs": [
    {
     "name": "stdout",
     "output_type": "stream",
     "text": [
      "[[ 0.29-0.03j  0.29-0.03j  0.  +0.j    0.  +0.j   -0.01-0.64j -0.01-0.64j  0.  +0.j    0.  +0.j  ]\n",
      " [ 0.29+0.j   -0.29+0.j    0.  -0.03j  0.  +0.03j -0.01+0.j    0.01+0.j    0.  -0.64j  0.  +0.64j]\n",
      " [ 0.01-0.64j  0.01-0.64j  0.  +0.j    0.  +0.j    0.29+0.03j  0.29+0.03j  0.  +0.j    0.  +0.j  ]\n",
      " [ 0.42-0.49j -0.42+0.49j  0.01+0.01j -0.01-0.01j -0.02+0.02j  0.02-0.02j  0.22+0.19j -0.22-0.19j]\n",
      " [ 0.  +0.j    0.  +0.j    0.29-0.03j  0.29-0.03j  0.  +0.j    0.  +0.j   -0.01-0.64j -0.01-0.64j]\n",
      " [ 0.  -0.03j  0.  +0.03j  0.29+0.j   -0.29+0.j    0.  -0.64j  0.  +0.64j -0.01+0.j    0.01+0.j  ]\n",
      " [ 0.  +0.j    0.  +0.j    0.01-0.64j  0.01-0.64j  0.  +0.j    0.  +0.j    0.29+0.03j  0.29+0.03j]\n",
      " [ 0.01+0.01j -0.01-0.01j  0.42-0.49j -0.42+0.49j  0.22+0.19j -0.22-0.19j -0.02+0.02j  0.02-0.02j]]\n"
     ]
    }
   ],
   "source": [
    "U = backend.get_unitary(parametrizedCudaqKernel, instructions.num_qubits)\n",
    "print(np.round(U, 2))"
   ]
  },
  {
   "cell_type": "code",
   "execution_count": null,
   "id": "e85cbaf0-9768-47ce-9799-a937b240472f",
   "metadata": {},
   "outputs": [],
   "source": [
    "U = np.matrix(U)\n",
    "assert np.allclose(U.H@U, np.eye(N)) and  np.allclose(U@U.H, np.eye(N))"
   ]
  },
  {
   "cell_type": "markdown",
   "id": "552d2a7b-9921-4463-8513-40bdefe45cf2",
   "metadata": {},
   "source": [
    "## Time targets"
   ]
  },
  {
   "cell_type": "code",
   "execution_count": null,
   "id": "c2e89596-1465-4349-a9d5-e0c1cf7cad92",
   "metadata": {},
   "outputs": [],
   "source": [
    "def time_target(target):\n",
    "    if cudaq.has_target(target):\n",
    "        cudaq.reset_target()\n",
    "        cudaq.set_target(target)\n",
    "        res = %timeit -o -q backend.get_unitary(parametrizedCudaqKernel, instructions.num_qubits)\n",
    "        print(f\"Timeit {target=}: {str(res)}\")"
   ]
  },
  {
   "cell_type": "code",
   "execution_count": null,
   "id": "2f4c1c71-13b0-4fe9-9736-1f5bca7de801",
   "metadata": {},
   "outputs": [
    {
     "name": "stdout",
     "output_type": "stream",
     "text": [
      "Timeit target='qpp-cpu': 1.08 ms ± 58.9 μs per loop (mean ± std. dev. of 7 runs, 1,000 loops each)\n",
      "Timeit target='nvidia': 13.5 ms ± 3.14 ms per loop (mean ± std. dev. of 7 runs, 10 loops each)\n"
     ]
    }
   ],
   "source": [
    "targets = [\"qpp-cpu\", \"nvidia\"]\n",
    "for target in targets:\n",
    "    time_target(target)"
   ]
  },
  {
   "cell_type": "markdown",
   "id": "2f0718e3-8282-4fd3-b883-4f2be50e4912",
   "metadata": {},
   "source": [
    "# Export -"
   ]
  },
  {
   "cell_type": "code",
   "execution_count": null,
   "id": "1f12d3ca-ebf9-4752-9d61-2fbd26f027db",
   "metadata": {},
   "outputs": [],
   "source": [
    "#| hide\n",
    "import nbdev; nbdev.nbdev_export()"
   ]
  }
 ],
 "metadata": {
  "kernelspec": {
   "display_name": "python3",
   "language": "python",
   "name": "python3"
  },
  "widgets": {
   "application/vnd.jupyter.widget-state+json": {
    "state": {},
    "version_major": 2,
    "version_minor": 0
   }
  }
 },
 "nbformat": 4,
 "nbformat_minor": 5
}
