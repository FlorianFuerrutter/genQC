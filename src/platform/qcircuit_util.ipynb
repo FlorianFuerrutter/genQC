{
 "cells": [
  {
   "cell_type": "markdown",
   "id": "a8980c24-d62e-462b-ba89-3195cfdcc374",
   "metadata": {},
   "source": [
    "# Quantum circuit utils"
   ]
  },
  {
   "cell_type": "code",
   "execution_count": null,
   "id": "a8832bdd-f61c-44e1-8619-a9cb352ba768",
   "metadata": {},
   "outputs": [],
   "source": [
    "#| default_exp platform.qcircuit_util"
   ]
  },
  {
   "cell_type": "code",
   "execution_count": null,
   "id": "06272f6f-b4e3-4504-a90a-feebbf6ad821",
   "metadata": {},
   "outputs": [],
   "source": [
    "#| export\n",
    "from genQC.imports import *"
   ]
  },
  {
   "cell_type": "markdown",
   "id": "5ba7e853-c591-4943-b023-35034b7169a5",
   "metadata": {},
   "source": [
    "## SRV"
   ]
  },
  {
   "cell_type": "code",
   "execution_count": null,
   "id": "03461e06-4205-4d4a-9c46-8c637d2d8fd3",
   "metadata": {},
   "outputs": [],
   "source": [
    "#| export\n",
    "def get_element_matching_indices(a, b):\n",
    "    \"\"\"Compares (2d) `a` with `b`. Returns the indices of `b`, where a element of `a` matches with `b`.\"\"\"\n",
    "    # Expand dimensions of a to match the shape of b for element-wise comparison\n",
    "    expanded_a = a.unsqueeze(0).expand(b.shape[0], *a.shape)  # [b0, a0, a1]\n",
    "    expanded_b = b.unsqueeze(1)                               # [b0,  1, b1]\n",
    "    \n",
    "    # Compare all vector entries of a with all vectors of b\n",
    "    matches = torch.all(expanded_a == expanded_b, dim=-1)\n",
    "\n",
    "    matching_indices = torch.nonzero(torch.any(matches, dim=1)).squeeze()\n",
    "    \n",
    "    if   matching_indices.dim() == 0: matching_indices = torch.tensor([matching_indices])\n",
    "\n",
    "    return matching_indices"
   ]
  },
  {
   "cell_type": "code",
   "execution_count": null,
   "id": "8dfeb984-9bd2-4000-8cb5-cde7768cb9e4",
   "metadata": {},
   "outputs": [],
   "source": [
    "#| export\n",
    "def get_entanglement_bins(num_of_qubits):\n",
    "    \"\"\"Returns all SRV sorted in entangle bins which correspond to a number of entangled qubits.\"\"\"\n",
    "    dist_srvs = [x for x in itertools.product(*([[1,2]]*num_of_qubits))]\n",
    "    dist_srvs = np.array(dist_srvs, dtype=int)[np.sum(dist_srvs, axis=1)!=num_of_qubits+1].tolist()\n",
    "    dist_srvs = sorted(dist_srvs, key=lambda x: sum(x))\n",
    "    dist_srvs = np.array(dist_srvs)\n",
    "    \n",
    "    entangle = [1] + [scipy.special.comb(num_of_qubits, i, exact=True) for i in range(2, num_of_qubits)]\n",
    "    \n",
    "    entanglement_bins = np.split(dist_srvs, np.cumsum(entangle))\n",
    "    \n",
    "    ent_bits = [f\"{sum(n[0])-num_of_qubits} qubit entangled\" for n in entanglement_bins]\n",
    "    \n",
    "    return [x.tolist() for x in entanglement_bins], ent_bits"
   ]
  },
  {
   "cell_type": "code",
   "execution_count": null,
   "id": "c5d72d74-3619-41da-ac6e-c6219688a44b",
   "metadata": {},
   "outputs": [
    {
     "name": "stdout",
     "output_type": "stream",
     "text": [
      "0 qubit entangled : [[1, 1, 1, 1, 1]]\n",
      "2 qubit entangled : [[1, 1, 1, 2, 2], [1, 1, 2, 1, 2], [1, 1, 2, 2, 1], [1, 2, 1, 1, 2], [1, 2, 1, 2, 1], [1, 2, 2, 1, 1], [2, 1, 1, 1, 2], [2, 1, 1, 2, 1], [2, 1, 2, 1, 1], [2, 2, 1, 1, 1]]\n",
      "3 qubit entangled : [[1, 1, 2, 2, 2], [1, 2, 1, 2, 2], [1, 2, 2, 1, 2], [1, 2, 2, 2, 1], [2, 1, 1, 2, 2], [2, 1, 2, 1, 2], [2, 1, 2, 2, 1], [2, 2, 1, 1, 2], [2, 2, 1, 2, 1], [2, 2, 2, 1, 1]]\n",
      "4 qubit entangled : [[1, 2, 2, 2, 2], [2, 1, 2, 2, 2], [2, 2, 1, 2, 2], [2, 2, 2, 1, 2], [2, 2, 2, 2, 1]]\n",
      "5 qubit entangled : [[2, 2, 2, 2, 2]]\n"
     ]
    }
   ],
   "source": [
    "for srvs,label in zip(*get_entanglement_bins(5)):\n",
    "    print(label, \":\", srvs)"
   ]
  },
  {
   "cell_type": "markdown",
   "id": "f41f26a8-ac40-4e91-8c0e-1ef07a0fd4f4",
   "metadata": {},
   "source": [
    "# Export -"
   ]
  },
  {
   "cell_type": "code",
   "execution_count": null,
   "id": "a0474216-8e0c-4ba7-9a37-571ac7d8e82c",
   "metadata": {},
   "outputs": [],
   "source": [
    "#| hide\n",
    "import nbdev; nbdev.nbdev_export()"
   ]
  }
 ],
 "metadata": {
  "kernelspec": {
   "display_name": "python3",
   "language": "python",
   "name": "python3"
  }
 },
 "nbformat": 4,
 "nbformat_minor": 5
}
