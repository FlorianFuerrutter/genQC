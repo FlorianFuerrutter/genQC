{
 "cells": [
  {
   "cell_type": "markdown",
   "id": "a8980c24-d62e-462b-ba89-3195cfdcc374",
   "metadata": {},
   "source": [
    "# Quantum circuit evaluation"
   ]
  },
  {
   "cell_type": "code",
   "execution_count": null,
   "id": "a8832bdd-f61c-44e1-8619-a9cb352ba768",
   "metadata": {},
   "outputs": [],
   "source": [
    "#| default_exp platform.qcircuit_evaluation"
   ]
  },
  {
   "cell_type": "code",
   "execution_count": null,
   "id": "06272f6f-b4e3-4504-a90a-feebbf6ad821",
   "metadata": {},
   "outputs": [],
   "source": [
    "#| export\n",
    "from genQC.imports import *\n",
    "from genQC.platform.qcircuit_dataset_construction import *\n",
    "from genQC.platform.simulation.qcircuit_sim import schmidt_rank_vector, optimize_circuit\n",
    "\n",
    "import qiskit.quantum_info as qi\n",
    "from qiskit import QuantumCircuit"
   ]
  },
  {
   "cell_type": "markdown",
   "id": "c19c4594-4749-4e91-bfc5-27cf95508de0",
   "metadata": {},
   "source": [
    "## Gate count"
   ]
  },
  {
   "cell_type": "code",
   "execution_count": null,
   "id": "5df02715-8767-43ff-871d-8075871f1edf",
   "metadata": {},
   "outputs": [],
   "source": [
    "#| export\n",
    "def sort_into_bins(x, y, y_uniques):\n",
    "    \n",
    "    x_binned = []\n",
    "    y_binned = []\n",
    "    \n",
    "    for y_unique in y_uniques:\n",
    "    \n",
    "        comp    = torch.all(y==y_unique, dim=-1)\n",
    "        indices = comp.nonzero().squeeze()\n",
    "        \n",
    "        x_binned.append(x[indices])\n",
    "        y_binned.append(y[indices])\n",
    "    \n",
    "    y_bins = [y[0] for y in y_binned]\n",
    "    \n",
    "    return x_binned, y_binned, y_bins"
   ]
  },
  {
   "cell_type": "code",
   "execution_count": null,
   "id": "e2357103-f41c-4caa-ae05-0f90bc26ebcf",
   "metadata": {},
   "outputs": [],
   "source": [
    "#| export\n",
    "def extract_gate_number(qc: QuantumCircuit, gate_pool, max_gates):    \n",
    "    gate_classes = {\"empty\":0} | {x().name:i+1 for i,x in enumerate(gate_pool)}\n",
    "       \n",
    "    gate_cnt = np.zeros(len(gate_classes), dtype=int)   \n",
    "    \n",
    "    if hasattr(qc, \"data\"):    \n",
    "        for t, gate in enumerate(qc.data):   \n",
    "            gate_id = gate_classes[gate.operation.name]       \n",
    "            gate_cnt[gate_id] += 1\n",
    "                \n",
    "    gate_cnt[0] = max_gates - sum(gate_cnt[1:])\n",
    "        \n",
    "    return gate_cnt, gate_classes"
   ]
  },
  {
   "cell_type": "code",
   "execution_count": null,
   "id": "882cd1bd-2c14-4739-9bd4-cb5a42f450d2",
   "metadata": {},
   "outputs": [],
   "source": [
    "#| export\n",
    "def get_gate_stat_from_tensors(tensors, gate_pool):\n",
    "    for i,tensor in tqdm(enumerate(tensors), total=tensors.shape[0]):       \n",
    "        qc = decode_circuit(tensor, gate_pool)\n",
    "        \n",
    "        t_gate_cnts, gate_dict = extract_gate_number(qc, gate_pool, max_gates=tensor.shape[1])\n",
    "  \n",
    "        if i > 0: gate_cnts = np.vstack([gate_cnts, t_gate_cnts])\n",
    "        else:     gate_cnts = t_gate_cnts\n",
    "\n",
    "    return gate_cnts, gate_dict"
   ]
  },
  {
   "cell_type": "code",
   "execution_count": null,
   "id": "0b67ae98-5d20-4e5c-bad9-498a078b6b4c",
   "metadata": {},
   "outputs": [],
   "source": [
    "#| export\n",
    "def get_gate_stat_from_circuits(qcs: list, gate_pool, max_gates):\n",
    "    for i,qc in tqdm(enumerate(qcs), total=len(qcs)):\n",
    "        \n",
    "        t_gate_cnts, gate_dict = extract_gate_number(qc, gate_pool, max_gates)\n",
    "  \n",
    "        if i > 0: gate_cnts = np.vstack([gate_cnts, t_gate_cnts])\n",
    "        else:     gate_cnts = t_gate_cnts\n",
    "\n",
    "    return gate_cnts, gate_dict"
   ]
  },
  {
   "cell_type": "markdown",
   "id": "f41f26a8-ac40-4e91-8c0e-1ef07a0fd4f4",
   "metadata": {},
   "source": [
    "# Export -"
   ]
  },
  {
   "cell_type": "code",
   "execution_count": null,
   "id": "a0474216-8e0c-4ba7-9a37-571ac7d8e82c",
   "metadata": {},
   "outputs": [],
   "source": [
    "#| hide\n",
    "import nbdev; nbdev.nbdev_export()"
   ]
  }
 ],
 "metadata": {
  "kernelspec": {
   "display_name": "python3",
   "language": "python",
   "name": "python3"
  }
 },
 "nbformat": 4,
 "nbformat_minor": 5
}
