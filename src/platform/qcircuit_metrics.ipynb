{
 "cells": [
  {
   "cell_type": "markdown",
   "id": "a8980c24-d62e-462b-ba89-3195cfdcc374",
   "metadata": {},
   "source": [
    "# Quantum circuit metrics"
   ]
  },
  {
   "cell_type": "markdown",
   "id": "b1beda93-a604-4ba9-919b-39e59f53580f",
   "metadata": {},
   "source": [
    "Norms for unitary compilation."
   ]
  },
  {
   "cell_type": "code",
   "execution_count": null,
   "id": "a8832bdd-f61c-44e1-8619-a9cb352ba768",
   "metadata": {},
   "outputs": [],
   "source": [
    "#| default_exp platform.qcircuit_metrics"
   ]
  },
  {
   "cell_type": "code",
   "execution_count": null,
   "id": "06272f6f-b4e3-4504-a90a-feebbf6ad821",
   "metadata": {},
   "outputs": [],
   "source": [
    "#| export\n",
    "from genQC.imports import *"
   ]
  },
  {
   "cell_type": "markdown",
   "id": "c19c4594-4749-4e91-bfc5-27cf95508de0",
   "metadata": {},
   "source": [
    "## Unitary distances"
   ]
  },
  {
   "cell_type": "code",
   "execution_count": null,
   "id": "1b178cbc-d116-49c9-862d-16f646daa39b",
   "metadata": {},
   "outputs": [],
   "source": [
    "#| export\n",
    "class Unitary_FrobeniusNorm:\n",
    "    #defined in https://arxiv.org/pdf/2106.05649.pdf\n",
    "    \n",
    "    @staticmethod\n",
    "    def distance(approx_U: torch.tensor, target_U: torch.tensor):\n",
    "        d = 0.5 * torch.linalg.matrix_norm((approx_U-target_U), ord=\"fro\")**2\n",
    "        return d\n",
    "        \n",
    "    @staticmethod\n",
    "    def name():\n",
    "        return \"Frobenius-Norm\""
   ]
  },
  {
   "cell_type": "code",
   "execution_count": null,
   "id": "9984b83d-7f70-4dfd-8ab5-f32ad132e2a2",
   "metadata": {},
   "outputs": [
    {
     "data": {
      "text/plain": [
       "tensor(1.5000)"
      ]
     },
     "execution_count": null,
     "metadata": {},
     "output_type": "execute_result"
    }
   ],
   "source": [
    "a = torch.tensor([[1,2], [2, 1]]).float()\n",
    "b = torch.tensor([[2,3], [2, 2]]).float()\n",
    "\n",
    "g = Unitary_FrobeniusNorm\n",
    "g.distance(a,b)"
   ]
  },
  {
   "cell_type": "markdown",
   "id": "f41f26a8-ac40-4e91-8c0e-1ef07a0fd4f4",
   "metadata": {},
   "source": [
    "# Export -"
   ]
  },
  {
   "cell_type": "code",
   "execution_count": null,
   "id": "a0474216-8e0c-4ba7-9a37-571ac7d8e82c",
   "metadata": {},
   "outputs": [],
   "source": [
    "#| hide\n",
    "import nbdev; nbdev.nbdev_export()"
   ]
  }
 ],
 "metadata": {
  "kernelspec": {
   "display_name": "python3",
   "language": "python",
   "name": "python3"
  }
 },
 "nbformat": 4,
 "nbformat_minor": 5
}
