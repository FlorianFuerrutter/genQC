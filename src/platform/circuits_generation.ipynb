{
 "cells": [
  {
   "cell_type": "markdown",
   "id": "4bf8892a-8c4a-4d36-8fd9-c983a1bea170",
   "metadata": {},
   "source": [
    "# Circuits dataset generation functions\n",
    "\n",
    "> Functions to create a quantum circuit dataset."
   ]
  },
  {
   "cell_type": "code",
   "execution_count": 1,
   "id": "8f8bab72-5b33-4d47-8805-8efa39510344",
   "metadata": {
    "execution": {
     "iopub.execute_input": "2025-06-01T11:16:00.273345Z",
     "iopub.status.busy": "2025-06-01T11:16:00.272355Z",
     "iopub.status.idle": "2025-06-01T11:16:00.276375Z",
     "shell.execute_reply": "2025-06-01T11:16:00.276375Z",
     "shell.execute_reply.started": "2025-06-01T11:16:00.273345Z"
    }
   },
   "outputs": [],
   "source": [
    "#| default_exp platform.circuits_generation"
   ]
  },
  {
   "cell_type": "code",
   "execution_count": 2,
   "id": "c82c4d7b-e275-416e-b88d-3d527a9e3bff",
   "metadata": {
    "execution": {
     "iopub.execute_input": "2025-06-01T11:16:00.277358Z",
     "iopub.status.busy": "2025-06-01T11:16:00.277358Z",
     "iopub.status.idle": "2025-06-01T11:16:03.688432Z",
     "shell.execute_reply": "2025-06-01T11:16:03.688432Z",
     "shell.execute_reply.started": "2025-06-01T11:16:00.277358Z"
    }
   },
   "outputs": [],
   "source": [
    "#| export\n",
    "from genQC.imports import *\n",
    "from genQC.platform.backends.base_backend import BaseBackend\n",
    "from genQC.platform.tokenizer.circuits_tokenizer import CircuitTokenizer, Vocabulary\n",
    "from genQC.dataset.dataset_helper import get_unique_elements_indices\n",
    "from genQC.utils.async_fn import MemoryMappedArray, Parallel, delayed"
   ]
  },
  {
   "cell_type": "markdown",
   "id": "b87a1715-06d4-41a0-b0fd-493020065164",
   "metadata": {},
   "source": [
    "## Generate random circuits"
   ]
  },
  {
   "cell_type": "code",
   "execution_count": 3,
   "id": "297cefeb-ff48-4fdb-9df6-f02b43c518cb",
   "metadata": {
    "execution": {
     "iopub.execute_input": "2025-06-01T11:16:03.689440Z",
     "iopub.status.busy": "2025-06-01T11:16:03.689440Z",
     "iopub.status.idle": "2025-06-01T11:16:03.692440Z",
     "shell.execute_reply": "2025-06-01T11:16:03.692440Z",
     "shell.execute_reply.started": "2025-06-01T11:16:03.689440Z"
    }
   },
   "outputs": [],
   "source": [
    "#| export\n",
    "class CircuitConditionType(enum.Enum):   \n",
    "    SRV      = enum.auto() \n",
    "    UNITARY  = enum.auto() "
   ]
  },
  {
   "cell_type": "code",
   "execution_count": 4,
   "id": "c3c07f63-1d6e-4c6f-8079-f78eadccb172",
   "metadata": {
    "execution": {
     "iopub.execute_input": "2025-06-01T11:16:03.693925Z",
     "iopub.status.busy": "2025-06-01T11:16:03.693876Z",
     "iopub.status.idle": "2025-06-01T11:16:03.702195Z",
     "shell.execute_reply": "2025-06-01T11:16:03.702195Z",
     "shell.execute_reply.started": "2025-06-01T11:16:03.693925Z"
    }
   },
   "outputs": [],
   "source": [
    "#| export\n",
    "def get_rnd_encoded_circuit(backend: BaseBackend, \n",
    "                            tokenizer: CircuitTokenizer,\n",
    "                            condition: CircuitConditionType,\n",
    "                            num_of_qubits: int, \n",
    "                            gate_pool: Optional[Sequence[str]],\n",
    "                            min_gates: int, \n",
    "                            max_gates: int,  \n",
    "                            rng: np.random.Generator, \n",
    "                            optimized: bool = True,\n",
    "                            post_randomize_params: bool = True,\n",
    "                            return_params: bool = True) -> Tuple[Any, torch.Tensor, ...]:   \n",
    "    \"\"\"Generate a random circuit with corresponding condition.\"\"\"\n",
    "\n",
    "    gate_pool = default(gate_pool, tokenizer.vocabulary)\n",
    "\n",
    "    qc = backend.rnd_circuit(num_of_qubits, rng.integers(min_gates, max_gates+1), gate_pool, rng)  \n",
    "    \n",
    "    if optimized:          \n",
    "        qc = backend.optimize_circuit(qc, gate_pool)   \n",
    "        \n",
    "    if post_randomize_params: \n",
    "        qc = backend.randomize_params(qc, rng)   \n",
    "    \n",
    "    match condition:\n",
    "        case CircuitConditionType.SRV:     \n",
    "            condition = torch.tensor(backend.schmidt_rank_vector(qc))\n",
    "            \n",
    "        case CircuitConditionType.UNITARY: \n",
    "            U         = backend.get_unitary(qc)   \n",
    "            U_r, U_i  = torch.from_numpy(np.real(U)), torch.from_numpy(np.imag(U))\n",
    "            condition = torch.stack([U_r, U_i], dim=0)\n",
    "    \n",
    "        case _: raise NotImplementedError(f\"Not implemented given condition: {condition}\")\n",
    "    \n",
    "    instructions = backend.backend_to_genqc(qc)\n",
    "    enc_tuple    = tokenizer.encode(instructions, max_gates, return_params_tensor=return_params)  # qc_tensor, params_tensor\n",
    "\n",
    "    return qc, condition, *enc_tuple"
   ]
  },
  {
   "cell_type": "code",
   "execution_count": 5,
   "id": "d8271eeb-3c07-4a94-8cc1-3a44b9cb37d3",
   "metadata": {
    "execution": {
     "iopub.execute_input": "2025-06-01T11:16:03.703205Z",
     "iopub.status.busy": "2025-06-01T11:16:03.703205Z",
     "iopub.status.idle": "2025-06-01T11:16:03.712205Z",
     "shell.execute_reply": "2025-06-01T11:16:03.712205Z",
     "shell.execute_reply.started": "2025-06-01T11:16:03.703205Z"
    }
   },
   "outputs": [],
   "source": [
    "#| export\n",
    "def get_rnd_encoded_circuits(backend: BaseBackend, \n",
    "                             tokenizer: CircuitTokenizer,\n",
    "                             condition: CircuitConditionType,                                  \n",
    "                             samples: int, \n",
    "                             num_of_qubits: int, \n",
    "                             min_gates: int, \n",
    "                             max_gates: int,                       \n",
    "                             min_sub_gate_pool_cnt: int = 1,\n",
    "                             max_sub_gate_pool_cnt: Optional[int] = None,\n",
    "                             fixed_sub_gate_pool: Optional[Sequence[str]] = None,\n",
    "                             max_num_params: Optional[int] = None,\n",
    "                             filter_unique: bool = True,\n",
    "                             optimized: bool = True,                                                         \n",
    "                             post_randomize_params: bool = True,\n",
    "                             return_params: bool = True,\n",
    "                             silent: bool = False) -> Tuple[torch.Tensor, ...]:\n",
    "    \"\"\"\n",
    "    Generate ´samples´ number of random circuits with corresponding condition. \n",
    "    Creates prompts for conditioning.\n",
    "    \"\"\"\n",
    "\n",
    "    if condition not in [CircuitConditionType.SRV, CircuitConditionType.UNITARY]:\n",
    "        raise NotImplementedError(f\"Not implemented {condition}\")\n",
    "    \n",
    "    sub_gate_pool = fixed_sub_gate_pool\n",
    "    gate_pool     = list(tokenizer.vocabulary)\n",
    "\n",
    "    rng     = np.random.default_rng() \n",
    "    n       = len(gate_pool) + 1\n",
    "    c_range = np.arange(n-1)\n",
    "\n",
    "    if exists(max_sub_gate_pool_cnt):\n",
    "        max_sub_gate_pool_cnt = max(min_sub_gate_pool_cnt, min(max_sub_gate_pool_cnt+1, n))\n",
    "    else:                             \n",
    "        max_sub_gate_pool_cnt = n\n",
    "\n",
    "    #------------------\n",
    "    # Generate single circuits sequentially\n",
    "    \n",
    "    x = []\n",
    "    y = []    \n",
    "    \n",
    "    if condition is CircuitConditionType.UNITARY: \n",
    "        u = []\n",
    "    \n",
    "    if return_params: \n",
    "        p = []   # Note: params is of different size -> keep list\n",
    "\n",
    "    for i in tqdm(range(samples), disable=silent):\n",
    "\n",
    "        if not exists(fixed_sub_gate_pool):    \n",
    "            sub_gate_pool_cnt = rng.integers(min_sub_gate_pool_cnt, max_sub_gate_pool_cnt)        \n",
    "            sub_gate_pool_ind = rng.choice(c_range, size=sub_gate_pool_cnt, replace=False)   \n",
    "\n",
    "            #NOTE: with this we have always the same ordering of the prompt gates!!\n",
    "            sub_gate_pool_ind = np.sort(sub_gate_pool_ind)  \n",
    "            \n",
    "            sub_gate_pool     = [gate_pool[ind] for ind in sub_gate_pool_ind]\n",
    "\n",
    "        val = get_rnd_encoded_circuit(backend=backend,\n",
    "                                      tokenizer=tokenizer,\n",
    "                                      condition=condition,\n",
    "                                      num_of_qubits=num_of_qubits,\n",
    "                                      gate_pool=sub_gate_pool, \n",
    "                                      min_gates=min_gates, \n",
    "                                      max_gates=max_gates,\n",
    "                                      rng=rng,\n",
    "                                      optimized=optimized,\n",
    "                                      post_randomize_params=post_randomize_params,\n",
    "                                      return_params=return_params)\n",
    "        \n",
    "        if return_params:\n",
    "            _, cond, qc_tensor, params_tensor = val    \n",
    "            p.append(params_tensor)\n",
    "        else:\n",
    "            _, cond, qc_tensor = val\n",
    "\n",
    "        x.append(qc_tensor)\n",
    "        \n",
    "        match condition:\n",
    "            case CircuitConditionType.SRV:      \n",
    "                label = f\"Generate SRV: {cond.tolist()}\"     \n",
    "                \n",
    "            case CircuitConditionType.UNITARY:  \n",
    "                label = f\"Compile using: {[str(gate) for gate in sub_gate_pool]}\"           \n",
    "                u.append(cond)\n",
    "                \n",
    "            case _: raise NotImplementedError(f\"Not implemented given condition: {condition}\")\n",
    "      \n",
    "        y.append(label)\n",
    "        \n",
    "    #------------------\n",
    "    # Make tensors unique and combine tensors and arrays\n",
    "\n",
    "    x = torch.stack(x, dim=0)\n",
    "    y = np.array(y)\n",
    "\n",
    "    if condition is CircuitConditionType.UNITARY: \n",
    "        u = torch.stack(u, dim=0) \n",
    "    \n",
    "    if filter_unique:\n",
    "        tensor_unique, tensor_indices = get_unique_elements_indices(x)\n",
    "        \n",
    "        x = x[tensor_indices]\n",
    "        y = y[tensor_indices]         \n",
    "        if return_params:                             p = [p[i] for i in tensor_indices.tolist()]    \n",
    "        if condition is CircuitConditionType.UNITARY: u = u[tensor_indices]\n",
    "\n",
    "        if not silent: \n",
    "            print(f\"[INFO]: Generated unique circuits: {tensor_unique.shape[0]}.\")\n",
    "    \n",
    "    if not exists(max_num_params):\n",
    "        p_max_para  = max(pi.shape[0] for pi in p)\n",
    "        p_min_value = min(pi.min() if pi.numel()>0 else 0 for pi in p)\n",
    "        p_max_value = max(pi.max() if pi.numel()>0 else 0 for pi in p)\n",
    "        if not silent: print(f\"[INFO]: No max_num_params provided, infered {p_max_para=}, {p_min_value=} and {p_max_value=}.\")\n",
    "    else:\n",
    "        if not silent: print(f\"[INFO]: Using provided {max_num_params=}.\")\n",
    "        p_max_para = max_num_params\n",
    "        \n",
    "    p_t = torch.zeros((len(p), p_max_para, max_gates))\n",
    "    for i,pi in enumerate(p):\n",
    "        p_t[i, :pi.shape[0], :pi.shape[1]] = pi\n",
    "    p = p_t\n",
    "\n",
    "    if return_params: \n",
    "        return x, y, u, p\n",
    "    return x, y, u"
   ]
  },
  {
   "cell_type": "markdown",
   "id": "bd859420-2f74-448a-b0c5-327521a70366",
   "metadata": {},
   "source": [
    "## Dataset generation"
   ]
  },
  {
   "cell_type": "code",
   "execution_count": 6,
   "id": "9abc01cb-136e-4d87-bb91-beae08e0bb33",
   "metadata": {
    "execution": {
     "iopub.execute_input": "2025-06-01T11:16:03.713217Z",
     "iopub.status.busy": "2025-06-01T11:16:03.713217Z",
     "iopub.status.idle": "2025-06-01T11:16:03.722005Z",
     "shell.execute_reply": "2025-06-01T11:16:03.722005Z",
     "shell.execute_reply.started": "2025-06-01T11:16:03.713217Z"
    }
   },
   "outputs": [],
   "source": [
    "#| export\n",
    "def generate_circuit_dataset(backend: BaseBackend, \n",
    "                             tokenizer: CircuitTokenizer,\n",
    "                             condition: CircuitConditionType,                                  \n",
    "                             total_samples: int,    \n",
    "                             num_of_qubits: int, \n",
    "                             min_gates: int, \n",
    "                             max_gates: int,  \n",
    "                             batch_samples: int = 128,  \n",
    "                             n_jobs: int = 1,\n",
    "                             unitary_dtype: torch.dtype = torch.float16,\n",
    "                             min_sub_gate_pool_cnt: int = 1,\n",
    "                             max_sub_gate_pool_cnt: Optional[int] = None,\n",
    "                             fixed_sub_gate_pool: Optional[Sequence[str]] = None,\n",
    "                             max_num_params: Optional[int] = None,\n",
    "                             filter_unique: bool = True,\n",
    "                             optimized: bool = True,                                                         \n",
    "                             post_randomize_params: bool = True,\n",
    "                             return_params: bool = True) -> Tuple[torch.Tensor, ...]:\n",
    "    \"\"\"\n",
    "    Generates ´samples´ number of random circuits with corresponding condition. \n",
    "    Supports large scale dataset with large unitaries. Uses memory mapping and parallelization.\n",
    "\n",
    "    - ´unitary_dtype´ only relevant for ´condition=CircuitConditionType.UNITARY´   \n",
    "    \"\"\"\n",
    "\n",
    "    if condition not in [CircuitConditionType.UNITARY]:\n",
    "        raise NotImplementedError(f\"Not implemented {condition=}\")\n",
    "\n",
    "    if not return_params:\n",
    "        raise NotImplementedError(f\"Not implemented {return_params=}\")\n",
    "\n",
    "    total_samples = int(total_samples)\n",
    "    batch_samples = min(int(batch_samples), total_samples)\n",
    "    njobs         = max(min(n_jobs, total_samples//batch_samples), 1)\n",
    "\n",
    "    #------------------\n",
    "    # Check data sizes\n",
    "\n",
    "    gen_data = functools.partial(get_rnd_encoded_circuits, \n",
    "                                 backend=backend, \n",
    "                                 tokenizer=tokenizer,\n",
    "                                 condition=condition,\n",
    "                                 samples=batch_samples,        \n",
    "                                 num_of_qubits=num_of_qubits, \n",
    "                                 min_gates=min_gates, \n",
    "                                 max_gates=max_gates,\n",
    "                                 min_sub_gate_pool_cnt=min_sub_gate_pool_cnt,\n",
    "                                 max_sub_gate_pool_cnt=max_sub_gate_pool_cnt,\n",
    "                                 fixed_sub_gate_pool=fixed_sub_gate_pool,\n",
    "                                 max_num_params=max_num_params,\n",
    "                                 filter_unique=filter_unique,\n",
    "                                 optimized=optimized,\n",
    "                                 post_randomize_params=post_randomize_params,\n",
    "                                 return_params=return_params,\n",
    "                                 silent=True)\n",
    "    \n",
    "    x, y, u, p = gen_data()\n",
    "    x_global = torch.zeros((total_samples, *x.shape[1:]), dtype=x.dtype) \n",
    "    y_global =     np.empty(total_samples, dtype=y.dtype)  \n",
    "    u_global = torch.zeros((total_samples, 2, u.shape[-2], u.shape[-1]), dtype=unitary_dtype) \n",
    "    p_global = torch.zeros((total_samples, *p.shape[1:]), dtype=p.dtype) \n",
    "\n",
    "    #------------------\n",
    "    # Run memory mapped parallel generation\n",
    "\n",
    "    def _f(idx, x_map, y_map, u_map, p_map):\n",
    "        x, y, u, p = gen_data()\n",
    "     \n",
    "        off  = x.shape[0]\n",
    "        idx *= batch_samples\n",
    "    \n",
    "        x_map[idx:idx+off] = x\n",
    "        y_map[idx:idx+off] = y\n",
    "        u_map[idx:idx+off] = u\n",
    "        p_map[idx:idx+off] = p\n",
    "    \n",
    "\n",
    "    def _scope():\n",
    "        x_map = MemoryMappedArray(x_global)\n",
    "        y_map = MemoryMappedArray(y_global, type=\"numpy\")\n",
    "        u_map = MemoryMappedArray(u_global)\n",
    "        p_map = MemoryMappedArray(p_global)\n",
    "        \n",
    "        with Parallel(n_jobs=n_jobs) as parallel:\n",
    "            loop_set = range(int(np.floor(total_samples/batch_samples)))\n",
    "            _        = parallel(delayed(_f)(idx, x_map.obj_memmap, y_map.obj_memmap, u_map.obj_memmap, p_map.obj_memmap) for idx in loop_set)\n",
    "\n",
    "        return x_map.get_obj(), y_map.get_obj(), u_map.get_obj(), p_map.get_obj()\n",
    "        \n",
    "    (x_global, x_file), (y_global, y_file), (u_global, u_file), (p_global, p_file) = _scope()\n",
    "        \n",
    "    MemoryMappedArray.clean([x_file, y_file, u_file, p_file])\n",
    "\n",
    "    #------------------\n",
    "    # Collect results and remove the holes\n",
    " \n",
    "    x_global_nonzero = torch.logical_not((x_global==0).all(-1).all(-1)).nonzero(as_tuple=True)\n",
    "    print(f\"[INFO]: Generated {x_global_nonzero[0].shape[0]} valid circuits.\")\n",
    "\n",
    "    # complex indexing makes copy not view\n",
    "    x_global = x_global[x_global_nonzero]#.contiguous().clone()\n",
    "    u_global = u_global[x_global_nonzero]#.contiguous().clone()\n",
    "    p_global = p_global[x_global_nonzero]#.contiguous().clone()\n",
    "    y_global = y_global[x_global_nonzero] #np.ascontiguousarray(y_global[x_global_nonzero])\n",
    "\n",
    "    if filter_unique:\n",
    "        tensor_unique, tensor_indices = get_unique_elements_indices(x_global)\n",
    "        \n",
    "        x_global = x_global[tensor_indices]\n",
    "        y_global = y_global[tensor_indices]\n",
    "        u_global = u_global[tensor_indices]\n",
    "        p_global = p_global[tensor_indices]\n",
    "\n",
    "        print(f\"[INFO]: After filtering unique circuits: {x_global.shape[0]}.\")\n",
    "    \n",
    "    return x_global, y_global, u_global, p_global"
   ]
  },
  {
   "cell_type": "markdown",
   "id": "013ddf9d-aba8-4018-b048-8d66229df040",
   "metadata": {},
   "source": [
    "## Test"
   ]
  },
  {
   "cell_type": "code",
   "execution_count": 7,
   "id": "d97c4a90-7232-4776-83ce-e7dcce160466",
   "metadata": {
    "execution": {
     "iopub.execute_input": "2025-06-01T11:16:03.723014Z",
     "iopub.status.busy": "2025-06-01T11:16:03.723014Z",
     "iopub.status.idle": "2025-06-01T11:16:03.729260Z",
     "shell.execute_reply": "2025-06-01T11:16:03.729260Z",
     "shell.execute_reply.started": "2025-06-01T11:16:03.723014Z"
    }
   },
   "outputs": [],
   "source": [
    "from genQC.platform.simulation import Simulator, CircuitBackendType"
   ]
  },
  {
   "cell_type": "code",
   "execution_count": 8,
   "id": "d201f855-f536-41c0-91df-722cfac281e1",
   "metadata": {
    "execution": {
     "iopub.execute_input": "2025-06-01T11:16:03.730269Z",
     "iopub.status.busy": "2025-06-01T11:16:03.730269Z",
     "iopub.status.idle": "2025-06-01T11:16:04.147220Z",
     "shell.execute_reply": "2025-06-01T11:16:04.147220Z",
     "shell.execute_reply.started": "2025-06-01T11:16:03.730269Z"
    }
   },
   "outputs": [],
   "source": [
    "simulator = Simulator(CircuitBackendType.QISKIT)\n",
    "tokenizer = CircuitTokenizer({\"rx\":1, \"ccx\":2, \"u\":3, \"cp\": 4})"
   ]
  },
  {
   "cell_type": "code",
   "execution_count": 9,
   "id": "d72b8c97-86a6-4853-b08d-4b018e47067b",
   "metadata": {
    "execution": {
     "iopub.execute_input": "2025-06-01T11:16:04.148229Z",
     "iopub.status.busy": "2025-06-01T11:16:04.148229Z",
     "iopub.status.idle": "2025-06-01T11:16:04.153552Z",
     "shell.execute_reply": "2025-06-01T11:16:04.153552Z",
     "shell.execute_reply.started": "2025-06-01T11:16:04.148229Z"
    }
   },
   "outputs": [
    {
     "data": {
      "text/plain": [
       "['rx', 'ccx', 'u', 'cp']"
      ]
     },
     "execution_count": 9,
     "metadata": {},
     "output_type": "execute_result"
    }
   ],
   "source": [
    "list(tokenizer.vocabulary)"
   ]
  },
  {
   "cell_type": "markdown",
   "id": "a57ad0b3-099c-488b-973e-c06d1cceefbf",
   "metadata": {},
   "source": [
    "### Random circuits with condition"
   ]
  },
  {
   "cell_type": "code",
   "execution_count": 10,
   "id": "bcbf1a82-f9ab-4fd1-b5bd-2cb5a4e5207e",
   "metadata": {
    "execution": {
     "iopub.execute_input": "2025-06-01T11:16:04.155564Z",
     "iopub.status.busy": "2025-06-01T11:16:04.154561Z",
     "iopub.status.idle": "2025-06-01T11:16:04.401969Z",
     "shell.execute_reply": "2025-06-01T11:16:04.401969Z",
     "shell.execute_reply.started": "2025-06-01T11:16:04.155564Z"
    }
   },
   "outputs": [
    {
     "data": {
      "image/png": "[encoded data removed]",
      "text/plain": [
       "<Figure size 1040x284.278 with 1 Axes>"
      ]
     },
     "metadata": {},
     "output_type": "display_data"
    },
    {
     "data": {
      "text/plain": [
       "tensor([[-2,  4,  1,  0,  0,  0,  4,  0],\n",
       "        [-2,  4,  0,  3,  4,  0,  0,  0],\n",
       "        [ 2,  0,  0,  0,  4,  1,  4,  1]], dtype=torch.int32)"
      ]
     },
     "metadata": {},
     "output_type": "display_data"
    },
    {
     "data": {
      "text/plain": [
       "tensor([[ 0.0000,  0.1530,  0.8770, -0.0982,  0.8894, -0.1517, -0.9942,  0.4529],\n",
       "        [ 0.0000,  0.0000,  0.0000,  0.5461,  0.0000,  0.0000,  0.0000,  0.0000],\n",
       "        [ 0.0000,  0.0000,  0.0000,  0.3656,  0.0000,  0.0000,  0.0000,  0.0000]])"
      ]
     },
     "metadata": {},
     "output_type": "display_data"
    },
    {
     "data": {
      "text/plain": [
       "tensor([[[-0.5160,  0.0000,  0.1092,  0.0922,  0.0000, -0.2913, -0.1705, -0.0078],\n",
       "         [ 0.0059, -0.5158,  0.0487,  0.0356, -0.2911, -0.0280,  0.0643,  0.1626],\n",
       "         [-0.1575,  0.0191, -0.4388, -0.2793,  0.0899, -0.0853,  0.6793,  0.0832],\n",
       "         [ 0.0209, -0.1561, -0.1054,  0.1762, -0.0866,  0.0817, -0.1028, -0.4679],\n",
       "         [ 0.0000, -0.2913, -0.1705, -0.0078, -0.5160,  0.0000,  0.1092,  0.0922],\n",
       "         [-0.2913,  0.0022,  0.0614,  0.1631,  0.0017, -0.5160,  0.0496,  0.0260],\n",
       "         [-0.0652, -0.0889,  0.3769, -0.0596, -0.1511, -0.0264, -0.1630, -0.2675],\n",
       "         [-0.0890, -0.0645, -0.2472, -0.4959, -0.0259, -0.1516, -0.1986, -0.2816]],\n",
       "\n",
       "        [[ 0.0000, -0.2100, -0.1229,  0.0109,  0.7160,  0.0000, -0.1515,  0.0664],\n",
       "         [-0.2098, -0.0145,  0.0458, -0.2253, -0.0114,  0.7155, -0.0669,  0.0238],\n",
       "         [-0.0470, -0.0641,  0.2716,  0.0827,  0.2096,  0.0366,  0.2261, -0.1928],\n",
       "         [-0.0635, -0.0514, -0.1815,  0.6940,  0.0332,  0.2130,  0.2726, -0.2176],\n",
       "         [ 0.7160,  0.0000, -0.1515,  0.0664,  0.0000, -0.2100, -0.1229,  0.0109],\n",
       "         [ 0.0009,  0.7160, -0.0695,  0.0206, -0.2099, -0.0042,  0.0448, -0.2266],\n",
       "         [ 0.2186, -0.0265,  0.6088, -0.2013,  0.0648, -0.0615,  0.4896, -0.1154],\n",
       "         [-0.0263,  0.2188,  0.1541,  0.1425, -0.0617,  0.0636, -0.0679,  0.6583]]], dtype=torch.float64)"
      ]
     },
     "metadata": {},
     "output_type": "display_data"
    }
   ],
   "source": [
    "qc, condition, qc_tensor, params_tensor = get_rnd_encoded_circuit(backend=simulator.backend, \n",
    "                                                                  tokenizer=tokenizer,\n",
    "                                                                  condition=CircuitConditionType.UNITARY,       \n",
    "                                                                  gate_pool=tokenizer.vocabulary,           \n",
    "                                                                  num_of_qubits=3, \n",
    "                                                                  min_gates=4, \n",
    "                                                                  max_gates=8,\n",
    "                                                                  rng=np.random.default_rng())\n",
    "display(qc.draw(\"mpl\"), qc_tensor, params_tensor, condition)"
   ]
  },
  {
   "cell_type": "code",
   "execution_count": 11,
   "id": "6fda9ebd-8b03-45cd-9974-0b22b07153b8",
   "metadata": {
    "execution": {
     "iopub.execute_input": "2025-06-01T11:16:04.402979Z",
     "iopub.status.busy": "2025-06-01T11:16:04.402979Z",
     "iopub.status.idle": "2025-06-01T11:16:05.722757Z",
     "shell.execute_reply": "2025-06-01T11:16:05.722757Z",
     "shell.execute_reply.started": "2025-06-01T11:16:04.402979Z"
    }
   },
   "outputs": [
    {
     "data": {
      "application/vnd.jupyter.widget-view+json": {
       "model_id": "d085aec59ed94682ae4de97bd206b958",
       "version_major": 2,
       "version_minor": 0
      },
      "text/plain": [
       "  0%|          | 0/128 [00:00<?, ?it/s]"
      ]
     },
     "metadata": {},
     "output_type": "display_data"
    },
    {
     "name": "stdout",
     "output_type": "stream",
     "text": [
      "[INFO]: Generated unique circuits: 125.\n",
      "[INFO]: No max_num_params provided, infered p_max_para=3, p_min_value=tensor(-0.9998) and p_max_value=tensor(0.9996).\n"
     ]
    },
    {
     "data": {
      "text/plain": [
       "tensor([[-2, -2,  4,  2,  0,  4,  2, -2,  0,  0,  0,  4,  0,  0,  0,  0],\n",
       "        [ 0, -2,  0,  0,  2,  0, -2,  2,  0,  2,  0,  0, -2,  0,  0,  0],\n",
       "        [ 2,  2,  4, -2, -2,  4, -2, -2,  4, -2,  4,  4,  2,  0,  0,  0],\n",
       "        [-2,  0,  0, -2, -2,  0,  0,  0,  4, -2,  4,  0, -2,  0,  0,  0]], dtype=torch.int32)"
      ]
     },
     "metadata": {},
     "output_type": "display_data"
    },
    {
     "data": {
      "text/plain": [
       "np.str_(\"Compile using: ['ccx', 'cp']\")"
      ]
     },
     "metadata": {},
     "output_type": "display_data"
    },
    {
     "data": {
      "text/plain": [
       "tensor([[ 0.0000,  0.0000,  0.9185,  0.0000,  0.0000, -0.0226,  0.0000,  0.0000, -0.1110,  0.0000, -0.8066, -0.6071,  0.0000,  0.0000,  0.0000,  0.0000],\n",
       "        [ 0.0000,  0.0000,  0.0000,  0.0000,  0.0000,  0.0000,  0.0000,  0.0000,  0.0000,  0.0000,  0.0000,  0.0000,  0.0000,  0.0000,  0.0000,  0.0000],\n",
       "        [ 0.0000,  0.0000,  0.0000,  0.0000,  0.0000,  0.0000,  0.0000,  0.0000,  0.0000,  0.0000,  0.0000,  0.0000,  0.0000,  0.0000,  0.0000,  0.0000]])"
      ]
     },
     "metadata": {},
     "output_type": "display_data"
    },
    {
     "data": {
      "text/plain": [
       "torch.Size([125, 2, 16, 16])"
      ]
     },
     "metadata": {},
     "output_type": "display_data"
    }
   ],
   "source": [
    "tensors, ys, Us, params = get_rnd_encoded_circuits(backend=simulator.backend, \n",
    "                                                   tokenizer=tokenizer,\n",
    "                                                   condition=CircuitConditionType.UNITARY,\n",
    "                                                   samples=128,          \n",
    "                                                   num_of_qubits=4, \n",
    "                                                   min_gates=4, \n",
    "                                                   max_gates=16,\n",
    "                                                   min_sub_gate_pool_cnt=2)\n",
    "display(tensors[0], ys[0], params[0], Us.shape)"
   ]
  },
  {
   "cell_type": "code",
   "execution_count": 12,
   "id": "df0f7d1a-0b4f-44e5-ac9a-776cd886d329",
   "metadata": {
    "execution": {
     "iopub.execute_input": "2025-06-01T11:16:05.723769Z",
     "iopub.status.busy": "2025-06-01T11:16:05.723769Z",
     "iopub.status.idle": "2025-06-01T11:16:05.727741Z",
     "shell.execute_reply": "2025-06-01T11:16:05.727741Z",
     "shell.execute_reply.started": "2025-06-01T11:16:05.723769Z"
    }
   },
   "outputs": [
    {
     "data": {
      "text/plain": [
       "array([\"Compile using: ['ccx', 'cp']\", \"Compile using: ['ccx', 'u']\", \"Compile using: ['ccx', 'u', 'cp']\", \"Compile using: ['rx', 'ccx', 'u', 'cp']\", \"Compile using: ['ccx', 'cp']\"], dtype='<U39')"
      ]
     },
     "execution_count": 12,
     "metadata": {},
     "output_type": "execute_result"
    }
   ],
   "source": [
    "ys[:5]"
   ]
  },
  {
   "cell_type": "code",
   "execution_count": 13,
   "id": "82d59d77-f76e-47d1-abd2-28ee9367c9d0",
   "metadata": {
    "execution": {
     "iopub.execute_input": "2025-06-01T11:16:05.728755Z",
     "iopub.status.busy": "2025-06-01T11:16:05.728755Z",
     "iopub.status.idle": "2025-06-01T11:16:05.812121Z",
     "shell.execute_reply": "2025-06-01T11:16:05.812121Z",
     "shell.execute_reply.started": "2025-06-01T11:16:05.728755Z"
    }
   },
   "outputs": [
    {
     "data": {
      "image/png": "[encoded data removed]",
      "text/plain": [
       "<Figure size 640x480 with 1 Axes>"
      ]
     },
     "metadata": {},
     "output_type": "display_data"
    }
   ],
   "source": [
    "data = params.flatten()\n",
    "ind  = data.nonzero(as_tuple=True)\n",
    "\n",
    "plt.hist(data[ind], bins=20)\n",
    "plt.show()"
   ]
  },
  {
   "cell_type": "code",
   "execution_count": 14,
   "id": "a9d6013c-eddc-4629-9219-da0e43cee9e5",
   "metadata": {
    "execution": {
     "iopub.execute_input": "2025-06-01T11:16:05.813132Z",
     "iopub.status.busy": "2025-06-01T11:16:05.813132Z",
     "iopub.status.idle": "2025-06-01T11:16:05.817069Z",
     "shell.execute_reply": "2025-06-01T11:16:05.817069Z",
     "shell.execute_reply.started": "2025-06-01T11:16:05.813132Z"
    }
   },
   "outputs": [],
   "source": [
    "def test_unitary(tensor, param, should_U, rtol, atol):\n",
    "    instructions = tokenizer.decode(tensor, param)\n",
    "    qc   = simulator.genqc_to_backend(instructions)\n",
    "    is_U = simulator.backend.get_unitary(qc)\n",
    "    is_U = torch.stack([torch.from_numpy(np.real(is_U)), torch.from_numpy(np.imag(is_U))])\n",
    "    \n",
    "    assert torch.allclose(is_U, should_U, rtol=rtol, atol=atol)"
   ]
  },
  {
   "cell_type": "code",
   "execution_count": 15,
   "id": "1be4d78b-54dd-4178-b15a-71d2245c15bf",
   "metadata": {
    "execution": {
     "iopub.execute_input": "2025-06-01T11:16:05.818081Z",
     "iopub.status.busy": "2025-06-01T11:16:05.818081Z",
     "iopub.status.idle": "2025-06-01T11:16:06.338479Z",
     "shell.execute_reply": "2025-06-01T11:16:06.338479Z",
     "shell.execute_reply.started": "2025-06-01T11:16:05.818081Z"
    }
   },
   "outputs": [
    {
     "data": {
      "application/vnd.jupyter.widget-view+json": {
       "model_id": "d833eeb8d58d45a9a5a4623f91de0d52",
       "version_major": 2,
       "version_minor": 0
      },
      "text/plain": [
       "  0%|          | 0/125 [00:00<?, ?it/s]"
      ]
     },
     "metadata": {},
     "output_type": "display_data"
    }
   ],
   "source": [
    "for tensor, param, should_U in tqdm(zip(tensors, params, Us), total=tensors.shape[0]):\n",
    "    test_unitary(tensor, param, should_U, rtol=1e-03, atol=1e-05)"
   ]
  },
  {
   "cell_type": "markdown",
   "id": "40be28cc-736d-4574-b58e-8e09c6a543d4",
   "metadata": {},
   "source": [
    "### Generate Dataset"
   ]
  },
  {
   "cell_type": "code",
   "execution_count": 16,
   "id": "7574654f-6da2-4cbb-a04d-3b627edeb62e",
   "metadata": {
    "execution": {
     "iopub.execute_input": "2025-06-01T11:16:06.339488Z",
     "iopub.status.busy": "2025-06-01T11:16:06.339488Z",
     "iopub.status.idle": "2025-06-01T11:16:14.784171Z",
     "shell.execute_reply": "2025-06-01T11:16:14.784171Z",
     "shell.execute_reply.started": "2025-06-01T11:16:06.339488Z"
    }
   },
   "outputs": [
    {
     "name": "stdout",
     "output_type": "stream",
     "text": [
      "[INFO]: Generated 498 valid circuits.\n",
      "[INFO]: After filtering unique circuits: 494.\n"
     ]
    },
    {
     "data": {
      "text/plain": [
       "torch.float64"
      ]
     },
     "metadata": {},
     "output_type": "display_data"
    },
    {
     "data": {
      "text/plain": [
       "torch.Size([494, 2, 8, 8])"
      ]
     },
     "metadata": {},
     "output_type": "display_data"
    }
   ],
   "source": [
    "tensors, ys, Us, params = generate_circuit_dataset(backend=simulator.backend, \n",
    "                                                   tokenizer=tokenizer,\n",
    "                                                   condition=CircuitConditionType.UNITARY,\n",
    "                                                   total_samples=512,\n",
    "                                                   n_jobs=2,\n",
    "                                                   num_of_qubits=3, \n",
    "                                                   min_gates=4, \n",
    "                                                   max_gates=16,\n",
    "                                                   unitary_dtype=torch.float64,\n",
    "                                                   min_sub_gate_pool_cnt=2)\n",
    "display(Us.dtype, Us.shape)"
   ]
  },
  {
   "cell_type": "code",
   "execution_count": 17,
   "id": "e3215062-51c7-468b-b4ad-75bd4c634c96",
   "metadata": {
    "execution": {
     "iopub.execute_input": "2025-06-01T11:16:14.786178Z",
     "iopub.status.busy": "2025-06-01T11:16:14.785178Z",
     "iopub.status.idle": "2025-06-01T11:16:16.832826Z",
     "shell.execute_reply": "2025-06-01T11:16:16.832826Z",
     "shell.execute_reply.started": "2025-06-01T11:16:14.786178Z"
    }
   },
   "outputs": [
    {
     "data": {
      "application/vnd.jupyter.widget-view+json": {
       "model_id": "58f19085808e4a62a54ffb625f8711b6",
       "version_major": 2,
       "version_minor": 0
      },
      "text/plain": [
       "  0%|          | 0/494 [00:00<?, ?it/s]"
      ]
     },
     "metadata": {},
     "output_type": "display_data"
    }
   ],
   "source": [
    "for tensor, param, should_U in tqdm(zip(tensors, params, Us), total=tensors.shape[0]):\n",
    "    test_unitary(tensor, param, should_U, rtol=1e-03, atol=1e-05)"
   ]
  },
  {
   "cell_type": "markdown",
   "id": "13cf0ddc-2efe-426f-816a-bc6b1d324ae0",
   "metadata": {},
   "source": [
    "# Export -"
   ]
  },
  {
   "cell_type": "code",
   "execution_count": 18,
   "id": "99039570-261c-4196-a4bc-6e476c743c1e",
   "metadata": {
    "execution": {
     "iopub.execute_input": "2025-06-01T11:16:16.833838Z",
     "iopub.status.busy": "2025-06-01T11:16:16.833838Z",
     "iopub.status.idle": "2025-06-01T11:16:17.925658Z",
     "shell.execute_reply": "2025-06-01T11:16:17.925658Z",
     "shell.execute_reply.started": "2025-06-01T11:16:16.833838Z"
    }
   },
   "outputs": [],
   "source": [
    "#| hide\n",
    "import nbdev; nbdev.nbdev_export()"
   ]
  }
 ],
 "metadata": {
  "kernelspec": {
   "display_name": "Python 3 (ipykernel)",
   "language": "python",
   "name": "python3"
  },
  "language_info": {
   "codemirror_mode": {
    "name": "ipython",
    "version": 3
   },
   "file_extension": ".py",
   "mimetype": "text/x-python",
   "name": "python",
   "nbconvert_exporter": "python",
   "pygments_lexer": "ipython3",
   "version": "3.12.9"
  },
  "widgets": {
   "application/vnd.jupyter.widget-state+json": {
    "state": {
     "08186667b499403b98d45008b373cd51": {
      "model_module": "@jupyter-widgets/base",
      "model_module_version": "2.0.0",
      "model_name": "LayoutModel",
      "state": {}
     },
     "13ab4d5c77344ce583fd9f5f5fd35ed6": {
      "model_module": "@jupyter-widgets/controls",
      "model_module_version": "2.0.0",
      "model_name": "FloatProgressModel",
      "state": {
       "bar_style": "success",
       "layout": "IPY_MODEL_1f6e00abd86642ff9429e25f83e62673",
       "max": 494,
       "style": "IPY_MODEL_8ec3d1746f2f4c7aa417128765902adb",
       "value": 494
      }
     },
     "170bca1b925446e191431b1adfbeca90": {
      "model_module": "@jupyter-widgets/base",
      "model_module_version": "2.0.0",
      "model_name": "LayoutModel",
      "state": {}
     },
     "1e58e44178774979a94b9edc5f18219d": {
      "model_module": "@jupyter-widgets/controls",
      "model_module_version": "2.0.0",
      "model_name": "FloatProgressModel",
      "state": {
       "bar_style": "success",
       "layout": "IPY_MODEL_9e26b80070e64ead8e41851ce156fe93",
       "max": 125,
       "style": "IPY_MODEL_1fbf56b888ec41ecb6a42c680c75ae83",
       "value": 125
      }
     },
     "1f6e00abd86642ff9429e25f83e62673": {
      "model_module": "@jupyter-widgets/base",
      "model_module_version": "2.0.0",
      "model_name": "LayoutModel",
      "state": {}
     },
     "1fbf56b888ec41ecb6a42c680c75ae83": {
      "model_module": "@jupyter-widgets/controls",
      "model_module_version": "2.0.0",
      "model_name": "ProgressStyleModel",
      "state": {
       "description_width": ""
      }
     },
     "22de4c4c3cb64fe0b0bd7e01fb03c0ec": {
      "model_module": "@jupyter-widgets/controls",
      "model_module_version": "2.0.0",
      "model_name": "HTMLModel",
      "state": {
       "layout": "IPY_MODEL_49a64c58adfa46888b45841d137e9e4d",
       "style": "IPY_MODEL_8567817c50174b8181b09fa7339ae223",
       "value": "100%"
      }
     },
     "230f519207bc4327a790d597381f448b": {
      "model_module": "@jupyter-widgets/controls",
      "model_module_version": "2.0.0",
      "model_name": "HTMLModel",
      "state": {
       "layout": "IPY_MODEL_08186667b499403b98d45008b373cd51",
       "style": "IPY_MODEL_6c06e03d7697403d99aed60257cd8c9f",
       "value": "100%"
      }
     },
     "3ff8b21ffd36489e8bb17881138a851f": {
      "model_module": "@jupyter-widgets/controls",
      "model_module_version": "2.0.0",
      "model_name": "ProgressStyleModel",
      "state": {
       "description_width": ""
      }
     },
     "45db3a5f68c14fb198ead4fd1409cf94": {
      "model_module": "@jupyter-widgets/controls",
      "model_module_version": "2.0.0",
      "model_name": "HTMLModel",
      "state": {
       "layout": "IPY_MODEL_db4489f792c6425cbf3a5eedeba4e453",
       "style": "IPY_MODEL_eae366ae96614851b956a42dc99756b3",
       "value": " 125/125 [00:00&lt;00:00, 244.55it/s]"
      }
     },
     "46609e8068f2452e851619258b5fe539": {
      "model_module": "@jupyter-widgets/base",
      "model_module_version": "2.0.0",
      "model_name": "LayoutModel",
      "state": {}
     },
     "49a64c58adfa46888b45841d137e9e4d": {
      "model_module": "@jupyter-widgets/base",
      "model_module_version": "2.0.0",
      "model_name": "LayoutModel",
      "state": {}
     },
     "50afd699d284434bae72237738ea8a5f": {
      "model_module": "@jupyter-widgets/controls",
      "model_module_version": "2.0.0",
      "model_name": "HTMLStyleModel",
      "state": {
       "description_width": "",
       "font_size": null,
       "text_color": null
      }
     },
     "53b9f8941423421bb122f7d6b2672360": {
      "model_module": "@jupyter-widgets/base",
      "model_module_version": "2.0.0",
      "model_name": "LayoutModel",
      "state": {}
     },
     "58f19085808e4a62a54ffb625f8711b6": {
      "model_module": "@jupyter-widgets/controls",
      "model_module_version": "2.0.0",
      "model_name": "HBoxModel",
      "state": {
       "children": [
        "IPY_MODEL_230f519207bc4327a790d597381f448b",
        "IPY_MODEL_13ab4d5c77344ce583fd9f5f5fd35ed6",
        "IPY_MODEL_cb2eba774b5b453f85559d908ddf0122"
       ],
       "layout": "IPY_MODEL_efa6ce1b1b764d7aa58578cbbcfbf696"
      }
     },
     "6c06e03d7697403d99aed60257cd8c9f": {
      "model_module": "@jupyter-widgets/controls",
      "model_module_version": "2.0.0",
      "model_name": "HTMLStyleModel",
      "state": {
       "description_width": "",
       "font_size": null,
       "text_color": null
      }
     },
     "70ae6cc4196147898cb1a37798554577": {
      "model_module": "@jupyter-widgets/base",
      "model_module_version": "2.0.0",
      "model_name": "LayoutModel",
      "state": {}
     },
     "8567817c50174b8181b09fa7339ae223": {
      "model_module": "@jupyter-widgets/controls",
      "model_module_version": "2.0.0",
      "model_name": "HTMLStyleModel",
      "state": {
       "description_width": "",
       "font_size": null,
       "text_color": null
      }
     },
     "8ec3d1746f2f4c7aa417128765902adb": {
      "model_module": "@jupyter-widgets/controls",
      "model_module_version": "2.0.0",
      "model_name": "ProgressStyleModel",
      "state": {
       "description_width": ""
      }
     },
     "94e27138b28245fd88fd14569312fbe1": {
      "model_module": "@jupyter-widgets/controls",
      "model_module_version": "2.0.0",
      "model_name": "HTMLModel",
      "state": {
       "layout": "IPY_MODEL_9fbfae679fc64e42872f2cf3fb7fae2f",
       "style": "IPY_MODEL_f1c06c29fd6c40c087d429a45307ac4d",
       "value": "100%"
      }
     },
     "9e26b80070e64ead8e41851ce156fe93": {
      "model_module": "@jupyter-widgets/base",
      "model_module_version": "2.0.0",
      "model_name": "LayoutModel",
      "state": {}
     },
     "9fbfae679fc64e42872f2cf3fb7fae2f": {
      "model_module": "@jupyter-widgets/base",
      "model_module_version": "2.0.0",
      "model_name": "LayoutModel",
      "state": {}
     },
     "b7b416a987be4fdab797a33eca661b57": {
      "model_module": "@jupyter-widgets/controls",
      "model_module_version": "2.0.0",
      "model_name": "HTMLModel",
      "state": {
       "layout": "IPY_MODEL_bdeac293c5684f929b4b2a58db2603d4",
       "style": "IPY_MODEL_d3d4e37557324cafba675b48423c5ff7",
       "value": " 128/128 [00:01&lt;00:00, 99.31it/s]"
      }
     },
     "bdeac293c5684f929b4b2a58db2603d4": {
      "model_module": "@jupyter-widgets/base",
      "model_module_version": "2.0.0",
      "model_name": "LayoutModel",
      "state": {}
     },
     "cb2eba774b5b453f85559d908ddf0122": {
      "model_module": "@jupyter-widgets/controls",
      "model_module_version": "2.0.0",
      "model_name": "HTMLModel",
      "state": {
       "layout": "IPY_MODEL_170bca1b925446e191431b1adfbeca90",
       "style": "IPY_MODEL_50afd699d284434bae72237738ea8a5f",
       "value": " 494/494 [00:02&lt;00:00, 247.76it/s]"
      }
     },
     "ceb2d6a4802642cb964f3065e1595c26": {
      "model_module": "@jupyter-widgets/controls",
      "model_module_version": "2.0.0",
      "model_name": "FloatProgressModel",
      "state": {
       "bar_style": "success",
       "layout": "IPY_MODEL_53b9f8941423421bb122f7d6b2672360",
       "max": 128,
       "style": "IPY_MODEL_3ff8b21ffd36489e8bb17881138a851f",
       "value": 128
      }
     },
     "d085aec59ed94682ae4de97bd206b958": {
      "model_module": "@jupyter-widgets/controls",
      "model_module_version": "2.0.0",
      "model_name": "HBoxModel",
      "state": {
       "children": [
        "IPY_MODEL_94e27138b28245fd88fd14569312fbe1",
        "IPY_MODEL_ceb2d6a4802642cb964f3065e1595c26",
        "IPY_MODEL_b7b416a987be4fdab797a33eca661b57"
       ],
       "layout": "IPY_MODEL_70ae6cc4196147898cb1a37798554577"
      }
     },
     "d3d4e37557324cafba675b48423c5ff7": {
      "model_module": "@jupyter-widgets/controls",
      "model_module_version": "2.0.0",
      "model_name": "HTMLStyleModel",
      "state": {
       "description_width": "",
       "font_size": null,
       "text_color": null
      }
     },
     "d833eeb8d58d45a9a5a4623f91de0d52": {
      "model_module": "@jupyter-widgets/controls",
      "model_module_version": "2.0.0",
      "model_name": "HBoxModel",
      "state": {
       "children": [
        "IPY_MODEL_22de4c4c3cb64fe0b0bd7e01fb03c0ec",
        "IPY_MODEL_1e58e44178774979a94b9edc5f18219d",
        "IPY_MODEL_45db3a5f68c14fb198ead4fd1409cf94"
       ],
       "layout": "IPY_MODEL_46609e8068f2452e851619258b5fe539"
      }
     },
     "db4489f792c6425cbf3a5eedeba4e453": {
      "model_module": "@jupyter-widgets/base",
      "model_module_version": "2.0.0",
      "model_name": "LayoutModel",
      "state": {}
     },
     "eae366ae96614851b956a42dc99756b3": {
      "model_module": "@jupyter-widgets/controls",
      "model_module_version": "2.0.0",
      "model_name": "HTMLStyleModel",
      "state": {
       "description_width": "",
       "font_size": null,
       "text_color": null
      }
     },
     "efa6ce1b1b764d7aa58578cbbcfbf696": {
      "model_module": "@jupyter-widgets/base",
      "model_module_version": "2.0.0",
      "model_name": "LayoutModel",
      "state": {}
     },
     "f1c06c29fd6c40c087d429a45307ac4d": {
      "model_module": "@jupyter-widgets/controls",
      "model_module_version": "2.0.0",
      "model_name": "HTMLStyleModel",
      "state": {
       "description_width": "",
       "font_size": null,
       "text_color": null
      }
     }
    },
    "version_major": 2,
    "version_minor": 0
   }
  }
 },
 "nbformat": 4,
 "nbformat_minor": 5
}
