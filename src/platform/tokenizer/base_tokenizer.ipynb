{
 "cells": [
  {
   "cell_type": "markdown",
   "id": "a8980c24-d62e-462b-ba89-3195cfdcc374",
   "metadata": {},
   "source": [
    "# Base tokenizer\n",
    "\n",
    "> Base class of corresponding tokenizers."
   ]
  },
  {
   "cell_type": "code",
   "execution_count": null,
   "id": "a8832bdd-f61c-44e1-8619-a9cb352ba768",
   "metadata": {},
   "outputs": [],
   "source": [
    "#| default_exp platform.tokenizer.base_tokenizer"
   ]
  },
  {
   "cell_type": "code",
   "execution_count": null,
   "id": "06272f6f-b4e3-4504-a90a-feebbf6ad821",
   "metadata": {},
   "outputs": [],
   "source": [
    "#| export\n",
    "from genQC.imports import *"
   ]
  },
  {
   "cell_type": "code",
   "execution_count": null,
   "id": "49c180c0-dd8c-4a69-b2f5-77944f6d3bcf",
   "metadata": {},
   "outputs": [],
   "source": [
    "#| export\n",
    "Vocabulary        = dict[str, int] | dict[Any, int]\n",
    "VocabularyInverse = dict[int, str] | dict[int, Any]\n",
    "\n",
    "def invert_vocabulary(vocabulary: Vocabulary) -> VocabularyInverse:\n",
    "    vocabulary_inverse = {token:gate for gate, token in vocabulary.items()}\n",
    "    return vocabulary_inverse  "
   ]
  },
  {
   "cell_type": "code",
   "execution_count": null,
   "id": "36032308-bd0e-4409-9db0-9d89fc258e5a",
   "metadata": {},
   "outputs": [],
   "source": [
    "#| export\n",
    "class BaseTokenizer(abc.ABC):\n",
    "\n",
    "    def __init__(self, vocabulary: Vocabulary) -> None:\n",
    "        self.vocabulary         = vocabulary\n",
    "        self.vocabulary_inverse = invert_vocabulary(vocabulary)\n",
    "\n",
    "    @abc.abstractmethod\n",
    "    def tokenize(self, *args, **kwargs):\n",
    "        raise NotImplementedError()\n",
    "\n",
    "    @abc.abstractmethod\n",
    "    def encode(self, *args, **kwargs):\n",
    "        raise NotImplementedError()\n",
    "\n",
    "    @abc.abstractmethod\n",
    "    def decode(self, *args, **kwargs):\n",
    "        raise NotImplementedError()"
   ]
  },
  {
   "cell_type": "markdown",
   "id": "f41f26a8-ac40-4e91-8c0e-1ef07a0fd4f4",
   "metadata": {},
   "source": [
    "# Export -"
   ]
  },
  {
   "cell_type": "code",
   "execution_count": null,
   "id": "a0474216-8e0c-4ba7-9a37-571ac7d8e82c",
   "metadata": {},
   "outputs": [],
   "source": [
    "#| hide\n",
    "import nbdev; nbdev.nbdev_export()"
   ]
  }
 ],
 "metadata": {
  "kernelspec": {
   "display_name": "python3",
   "language": "python",
   "name": "python3"
  },
  "widgets": {
   "application/vnd.jupyter.widget-state+json": {
    "state": {},
    "version_major": 2,
    "version_minor": 0
   }
  }
 },
 "nbformat": 4,
 "nbformat_minor": 5
}
