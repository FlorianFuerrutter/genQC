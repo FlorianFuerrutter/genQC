{
 "cells": [
  {
   "cell_type": "markdown",
   "id": "355f5771-96ee-4eb7-a96a-7a5e65f4c9b3",
   "metadata": {},
   "source": [
    "# Qiskit: quantum circuit simulation"
   ]
  },
  {
   "cell_type": "code",
   "execution_count": null,
   "id": "b760a97f-1fe6-4f5e-ab5b-944b0dc5281e",
   "metadata": {},
   "outputs": [],
   "source": [
    "#| default_exp platform.simulation.qcircuit_sim"
   ]
  },
  {
   "cell_type": "code",
   "execution_count": null,
   "id": "2e6b78f1-4a7c-42aa-bdc5-88c3d79d13fd",
   "metadata": {},
   "outputs": [],
   "source": [
    "#| export\n",
    "from genQC.imports import *\n",
    "\n",
    "import qiskit.quantum_info as qi\n",
    "from qiskit import QuantumCircuit, transpile\n",
    "from qiskit.circuit.gate import Gate\n",
    "import qiskit.circuit.library as ql"
   ]
  },
  {
   "cell_type": "markdown",
   "id": "c3f361d8-9fed-4c98-9dbb-6b0be5395158",
   "metadata": {},
   "source": [
    "## Circuit"
   ]
  },
  {
   "cell_type": "code",
   "execution_count": null,
   "id": "62a66436-76b4-4f7b-8577-32b47e936325",
   "metadata": {},
   "outputs": [],
   "source": [
    "#| export\n",
    "def get_number_of_gate_params(gate_cls):\n",
    "    return gate_cls.__init__.__code__.co_argcount - len(gate_cls.__init__.__defaults__) - 1 # python: gives you the number of any arguments BEFORE *args, minus ones that have a default, -1 for self parameter of classes"
   ]
  },
  {
   "cell_type": "code",
   "execution_count": null,
   "id": "35351940-c10d-4d6b-9bb9-9c8990143a37",
   "metadata": {},
   "outputs": [],
   "source": [
    "#| export\n",
    "def gate_pool_to_gate_classes(gate_pool: list[Gate]): \n",
    "    \"\"\"Creates a vocabulary from a gate pool.\"\"\"\n",
    "    classes = {}\n",
    "    \n",
    "    for i,cls in enumerate(gate_pool):\n",
    "        num_of_paramters = get_number_of_gate_params(cls)\n",
    "        name = cls(*[0]*num_of_paramters).name\n",
    "        classes[name] = (i+1)\n",
    "        \n",
    "    return classes"
   ]
  },
  {
   "cell_type": "code",
   "execution_count": null,
   "id": "aa7679d4-769f-48f4-a261-b55c646c5a2d",
   "metadata": {},
   "outputs": [],
   "source": [
    "#| export\n",
    "def schmidt_rank_vector(densityMatrix: qi.DensityMatrix):   \n",
    "    \"\"\"Return the SRV of a `qi.DensityMatrix`.\"\"\"\n",
    "    systems_cnt = len(densityMatrix.dims())   \n",
    "    total_trace = set(range(systems_cnt))    \n",
    "    rank_vector = []\n",
    "    \n",
    "    for i in range(systems_cnt): \n",
    "        trace = list(total_trace - {i})\n",
    "        red_densityMatrix = qi.partial_trace(densityMatrix, trace)        \n",
    "        # r = np.count_nonzero(np.linalg.eigvals(red_densityMatrix) > 1e-14) # was slower during testing   \n",
    "        r = np.linalg.matrix_rank(red_densityMatrix, hermitian=True)       \n",
    "        rank_vector.append(r)\n",
    "    \n",
    "    return rank_vector"
   ]
  },
  {
   "cell_type": "code",
   "execution_count": null,
   "id": "39dc10a2-340b-419a-8093-baae068575c6",
   "metadata": {},
   "outputs": [],
   "source": [
    "#| export\n",
    "def rnd_circuit(num_of_qubits, num_of_gates, gate_pool: list[Gate], rng):\n",
    "    \"\"\"Create a random circuit.\"\"\"\n",
    "    qc = QuantumCircuit(num_of_qubits)    \n",
    "    gate_indices = rng.choice(len(gate_pool), num_of_gates)\n",
    "    \n",
    "    for gate_index in gate_indices:\n",
    "        gate_qiskit_class = gate_pool[gate_index]\n",
    "        \n",
    "        num_of_paramters = get_number_of_gate_params(gate_qiskit_class)\n",
    "        params           = rng.uniform(low=0, high=2*np.pi, size=num_of_paramters) if num_of_paramters > 0 else [] # random between 0 and 2pi\n",
    "        \n",
    "        gate = gate_qiskit_class(*params)      \n",
    "        act_qubits = rng.choice(num_of_qubits, gate.num_qubits, replace=False) # order: (*act_qubits)=(*control_qubits, *target_qubits)   \n",
    "        qc.append(gate, [*act_qubits], [])\n",
    "    \n",
    "    return qc"
   ]
  },
  {
   "cell_type": "code",
   "execution_count": null,
   "id": "780554ad-8226-43d2-b79d-3e173c274c3b",
   "metadata": {},
   "outputs": [],
   "source": [
    "#| export\n",
    "def optimize_circuit(qc: QuantumCircuit, gate_pool: list[Gate], optimization_level=2):\n",
    "    \"\"\"Use qiskit.compiler.transpile to optimize a circuit.\"\"\"\n",
    "    basis_gates = gate_pool_to_gate_classes(gate_pool).keys()\n",
    "    \n",
    "    while optimization_level > 0:\n",
    "        try:\n",
    "            qc_opt = transpile(qc, optimization_level=optimization_level, basis_gates=basis_gates) #target=target\n",
    "            return qc_opt\n",
    "        except Exception as er: pass\n",
    "  \n",
    "        optimization_level -= 1\n",
    "\n",
    "    return qc"
   ]
  },
  {
   "cell_type": "code",
   "execution_count": null,
   "id": "2b376adf-c31f-4b05-b5be-5f2630e1edea",
   "metadata": {},
   "outputs": [
    {
     "data": {
      "text/plain": [
       "'Rand: svr=[1, 1, 1]    num_gates=8'"
      ]
     },
     "metadata": {},
     "output_type": "display_data"
    },
    {
     "data": {
      "image/png": "[encoded data removed]",
      "text/plain": [
       "<Figure size 621.941x284.278 with 1 Axes>"
      ]
     },
     "metadata": {},
     "output_type": "display_data"
    },
    {
     "data": {
      "text/plain": [
       "'Opti: svr=[1, 1, 1]    num_gates=8'"
      ]
     },
     "metadata": {},
     "output_type": "display_data"
    },
    {
     "data": {
      "image/png": "[encoded data removed]",
      "text/plain": [
       "<Figure size 621.941x284.278 with 1 Axes>"
      ]
     },
     "metadata": {},
     "output_type": "display_data"
    }
   ],
   "source": [
    "gs = [ql.HGate, ql.CXGate, ql.CRXGate]\n",
    "qc = rnd_circuit(num_of_qubits=3, num_of_gates=8, gate_pool=gs, rng=np.random.default_rng())\n",
    "svr = schmidt_rank_vector(qi.DensityMatrix(qc))\n",
    "display(f\"Rand: svr={svr}    num_gates={len(qc.data)}\", qc.draw('mpl'))\n",
    "\n",
    "qc = optimize_circuit(qc, gs)\n",
    "svr = schmidt_rank_vector(qi.DensityMatrix(qc))\n",
    "display(f\"Opti: svr={svr}    num_gates={len(qc.data)}\", qc.draw('mpl'))"
   ]
  },
  {
   "cell_type": "code",
   "execution_count": null,
   "id": "112d1b45-1abb-41b2-90df-bf71e8021ffa",
   "metadata": {},
   "outputs": [],
   "source": [
    "#| export\n",
    "def plot_svr_stat(num_of_qubits, min_gates, max_gates, gs, samples, sort=False, opt=True, rng=np.random.default_rng()):    \n",
    "    svr_list = list()\n",
    "    for i in range(samples):\n",
    "        qc = rnd_circuit(num_of_qubits, rng.integers(min_gates, max_gates+1), gs, rng) \n",
    "        if opt: qc = optimize_circuit(qc, gs)\n",
    "        svr = schmidt_rank_vector(qi.DensityMatrix(qc))\n",
    "        if sort: svr = sorted(svr)\n",
    "        svr_list.append(svr)           \n",
    "    df = pd.DataFrame(data={\"svr\":svr_list})   \n",
    "    cnts = df['svr'].value_counts(normalize=True)\n",
    "    for n,v in zip(cnts.index, cnts.values): print(f\"{n}: {v*100:.1f}%\")    \n",
    "    df['svr'].value_counts().plot(kind='bar')   "
   ]
  },
  {
   "cell_type": "markdown",
   "id": "39b0de7a-9704-4f3c-b74c-f2ed26254bc0",
   "metadata": {},
   "source": [
    "SRV distrubtion for random sampling"
   ]
  },
  {
   "cell_type": "code",
   "execution_count": null,
   "id": "bc66db51-7335-47ef-aad2-dd7a19266212",
   "metadata": {},
   "outputs": [
    {
     "name": "stdout",
     "output_type": "stream",
     "text": [
      "[1, 1, 1]: 58.2%\n",
      "[2, 2, 1]: 11.5%\n",
      "[2, 2, 2]: 11.3%\n",
      "[1, 2, 2]: 9.6%\n",
      "[2, 1, 2]: 9.4%\n"
     ]
    },
    {
     "data": {
      "image/png": "[encoded data removed]",
      "text/plain": [
       "<Figure size 640x480 with 1 Axes>"
      ]
     },
     "metadata": {},
     "output_type": "display_data"
    }
   ],
   "source": [
    "# gs = [ql.HGate, ql.SGate, ql.TGate, ql.CXGate]  # approx universal set\n",
    "# gs = [ql.HGate, ql.CCXGate]                     # approx universal set\n",
    "gs = [ql.HGate, ql.CXGate]\n",
    "\n",
    "plot_svr_stat(num_of_qubits=3, min_gates=6, max_gates=8, gs=gs, samples=int(1e3),  rng=np.random.default_rng())"
   ]
  },
  {
   "cell_type": "markdown",
   "id": "f8f449e7-9d6a-405e-81db-b5635702bed6",
   "metadata": {},
   "source": [
    "## SVR Test cases"
   ]
  },
  {
   "cell_type": "code",
   "execution_count": null,
   "id": "62d87f70-2e3c-4190-9a56-76a7985dd24e",
   "metadata": {},
   "outputs": [],
   "source": [
    "def test_srv(system_dims, init, target):\n",
    "    vec = qi.Statevector(init, dims=system_dims)\n",
    "    vec *= 1/np.sqrt(vec.trace())\n",
    "    srv = schmidt_rank_vector(qi.DensityMatrix(vec)) \n",
    "    assert srv == target, f\"srv: {srv}\"\n",
    "    print(f\"passed test, svr: {srv}\")\n",
    "    display(vec.draw('latex', prefix='|\\\\psi\\\\rangle = '))"
   ]
  },
  {
   "cell_type": "code",
   "execution_count": null,
   "id": "2a277e60-537e-4c5d-b0ed-51f446852990",
   "metadata": {},
   "outputs": [
    {
     "name": "stdout",
     "output_type": "stream",
     "text": [
      "passed test, svr: [1, 1]\n"
     ]
    },
    {
     "data": {
      "text/latex": [
       "$$|\\psi\\rangle = \\frac{\\sqrt{2}}{2} |00\\rangle+\\frac{\\sqrt{2}}{2} |01\\rangle$$"
      ],
      "text/plain": [
       "<IPython.core.display.Latex object>"
      ]
     },
     "metadata": {},
     "output_type": "display_data"
    },
    {
     "name": "stdout",
     "output_type": "stream",
     "text": [
      "passed test, svr: [2, 2]\n"
     ]
    },
    {
     "data": {
      "text/latex": [
       "$$|\\psi\\rangle = \\frac{\\sqrt{2}}{2} |00\\rangle+\\frac{\\sqrt{2}}{2} |11\\rangle$$"
      ],
      "text/plain": [
       "<IPython.core.display.Latex object>"
      ]
     },
     "metadata": {},
     "output_type": "display_data"
    },
    {
     "name": "stdout",
     "output_type": "stream",
     "text": [
      "passed test, svr: [2, 2, 2]\n"
     ]
    },
    {
     "data": {
      "text/latex": [
       "$$|\\psi\\rangle = \\frac{\\sqrt{2}}{2} |000\\rangle+\\frac{\\sqrt{2}}{2} |111\\rangle$$"
      ],
      "text/plain": [
       "<IPython.core.display.Latex object>"
      ]
     },
     "metadata": {},
     "output_type": "display_data"
    },
    {
     "name": "stdout",
     "output_type": "stream",
     "text": [
      "passed test, svr: [3, 3, 3]\n"
     ]
    },
    {
     "data": {
      "text/latex": [
       "$$\\begin{align}\n",
       "\n",
       "|\\psi\\rangle = \n",
       "\\begin{bmatrix}\n",
       "\\frac{\\sqrt{3}}{3} & 0 & 0 & 0 & \\cdots & 0 & 0 & \\frac{\\sqrt{3}}{3}  \\\\\n",
       " \\end{bmatrix}\n",
       "\\\\\n",
       "\\text{dims=(3, 3, 3)}\n",
       "\\end{align}$$"
      ],
      "text/plain": [
       "<IPython.core.display.Latex object>"
      ]
     },
     "metadata": {},
     "output_type": "display_data"
    },
    {
     "name": "stdout",
     "output_type": "stream",
     "text": [
      "passed test, svr: [2, 2, 4]\n"
     ]
    },
    {
     "data": {
      "text/latex": [
       "$$\\begin{align}\n",
       "\n",
       "|\\psi\\rangle = \n",
       "\\begin{bmatrix}\n",
       "\\frac{1}{2} & 0 & 0 & 0 & \\cdots & 0 & 0 & 0  \\\\\n",
       " \\end{bmatrix}\n",
       "\\\\\n",
       "\\text{dims=(4, 4, 4)}\n",
       "\\end{align}$$"
      ],
      "text/plain": [
       "<IPython.core.display.Latex object>"
      ]
     },
     "metadata": {},
     "output_type": "display_data"
    }
   ],
   "source": [
    "#---------------- |0+> = |00>+|01>\n",
    "system_dims = (2,2)\n",
    "init = np.zeros(np.prod(system_dims), dtype=complex)\n",
    "init[0] = 1\n",
    "init[1] = 1\n",
    "test_srv(system_dims, init, [1, 1])\n",
    "\n",
    "#----------------Bell, |00>+|11>\n",
    "system_dims = (2,2)\n",
    "init = np.zeros(np.prod(system_dims), dtype=complex)\n",
    "init[0] = 1\n",
    "init[3] = 1\n",
    "test_srv(system_dims, init, [2, 2])\n",
    "  \n",
    "#----------------GHZ, |000>+|111>\n",
    "system_dims = (2,2,2)\n",
    "init = np.zeros(np.prod(system_dims), dtype=complex)\n",
    "init[0] = 1\n",
    "init[7] = 1\n",
    "test_srv(system_dims, init, [2,2,2])\n",
    " \n",
    "#----------------Sym, |000>+|111>+|222>\n",
    "system_dims = (3,3,3)\n",
    "init = np.zeros(np.prod(system_dims), dtype=complex)\n",
    "init[0]  = 1\n",
    "init[13] = 1\n",
    "init[26] = 1\n",
    "test_srv(system_dims, init, [3,3,3])\n",
    "      \n",
    "#----------------Wikipedia example, |000>+|101>+|210>+|311>\n",
    "system_dims = (4,4,4)\n",
    "init = np.zeros(np.prod(system_dims), dtype=complex)\n",
    "init[0]  = 1\n",
    "init[17] = 1\n",
    "init[36] = 1\n",
    "init[53] = 1\n",
    "test_srv(system_dims, init, [2, 2, 4])"
   ]
  },
  {
   "cell_type": "markdown",
   "id": "92a90911-c1ac-4212-b101-7f208855abab",
   "metadata": {},
   "source": [
    "# Export -"
   ]
  },
  {
   "cell_type": "code",
   "execution_count": null,
   "id": "c96927df-676c-4584-ae67-64fa7707eb65",
   "metadata": {},
   "outputs": [],
   "source": [
    "#| hide\n",
    "import nbdev; nbdev.nbdev_export()"
   ]
  }
 ],
 "metadata": {
  "kernelspec": {
   "display_name": "python3",
   "language": "python",
   "name": "python3"
  },
  "widgets": {
   "application/vnd.jupyter.widget-state+json": {
    "state": {},
    "version_major": 2,
    "version_minor": 0
   }
  }
 },
 "nbformat": 4,
 "nbformat_minor": 5
}
