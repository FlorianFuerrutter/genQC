{
 "cells": [
  {
   "cell_type": "markdown",
   "id": "a8980c24-d62e-462b-ba89-3195cfdcc374",
   "metadata": {},
   "source": [
    "# Quantum circuit dataset"
   ]
  },
  {
   "cell_type": "markdown",
   "id": "233e6242-46fc-451b-9e58-abf60b1216ef",
   "metadata": {},
   "source": [
    "Dataset for quantum circuits."
   ]
  },
  {
   "cell_type": "code",
   "execution_count": null,
   "id": "a8832bdd-f61c-44e1-8619-a9cb352ba768",
   "metadata": {},
   "outputs": [],
   "source": [
    "#| default_exp dataset.qc_dataset"
   ]
  },
  {
   "cell_type": "code",
   "execution_count": null,
   "id": "06272f6f-b4e3-4504-a90a-feebbf6ad821",
   "metadata": {},
   "outputs": [],
   "source": [
    "#| export\n",
    "from genQC.imports import *\n",
    "from genQC.dataset.config_dataset import Config_Dataset, Config_Dataset_config\n",
    "from genQC.config_loader import *\n",
    "from genQC.dataset.dataset_helper import *\n",
    "from genQC.platform.qcircuit_dataset_construction import decode_circuit\n",
    "from genQC.platform.simulation.qcircuit_sim import schmidt_rank_vector\n",
    "import qiskit.quantum_info as qi"
   ]
  },
  {
   "cell_type": "code",
   "execution_count": null,
   "id": "016fc327-f986-4d69-b5f0-1b39466fb528",
   "metadata": {},
   "outputs": [],
   "source": [
    "#| export\n",
    "@dataclass\n",
    "class Qc_Config_Dataset_config(Config_Dataset_config):\n",
    "    optimized: bool\n",
    "    dataset_to_gpu: bool\n",
    "    random_samples: int  \n",
    "    num_of_qubits: int  \n",
    "    min_gates: int \n",
    "    max_gates: int \n",
    "    gate_pool: list[str] "
   ]
  },
  {
   "cell_type": "code",
   "execution_count": null,
   "id": "36032308-bd0e-4409-9db0-9d89fc258e5a",
   "metadata": {},
   "outputs": [],
   "source": [
    "#| export\n",
    "class Qc_Config_Dataset(Config_Dataset):\n",
    "    \"\"\"Dataset for quantum circuits, access `gate_pool` directly and all other paras with `.params_config`\"\"\"\n",
    "    \n",
    "    req_params     = [f.name for f in dataclasses.fields(Qc_Config_Dataset_config)]\n",
    "    add_balance_fn = None\n",
    "    \n",
    "    def __init__(self, device: torch.device=torch.device(\"cpu\"), **parameters):\n",
    "        super().__init__(device, **parameters)            \n",
    "        self.gate_pool = [get_obj_from_str(gate) for gate in parameters[\"gate_pool\"]]           \n",
    "            \n",
    "    @property\n",
    "    def params_config(self):\n",
    "        params_config = super().params_config            \n",
    "        params_config[\"gate_pool\"] = [class_to_str(gate) for gate in params_config[\"gate_pool\"]]\n",
    "        params_config = Qc_Config_Dataset_config(**params_config)\n",
    "        return params_config   \n",
    "    \n",
    "    #----------------------------\n",
    "       \n",
    "    def x_y_preprocess(self, balance_max=None, shuffle=False, max_samples=None):\n",
    "        #params_config = self.params_config\n",
    "        #if params_config.dataset_to_gpu: self.to(\"cuda\")\n",
    "         \n",
    "        z_proc = []\n",
    "        for k,v in self.store_dict.items(): \n",
    "            if k != \"x\" and k != \"y\":\n",
    "                z_proc.append(getattr(self, k))\n",
    "                              \n",
    "        x_proc, y_proc = self.x, self.y\n",
    "        \n",
    "        #---------------------\n",
    "        if shuffle:\n",
    "            x_proc, y_proc, *z_proc = shuffle_tensor_dataset(x_proc, y_proc, *z_proc)\n",
    "                \n",
    "        if exists(max_samples):\n",
    "            x_proc = x_proc[:max_samples]\n",
    "            y_proc = y_proc[:max_samples]\n",
    "            z_proc = (iz[:max_samples] for iz in z_proc)   \n",
    "        \n",
    "        #---------------------\n",
    "        t = self.store_dict[\"y\"]\n",
    "        if exists(balance_max): \n",
    "            if t == \"tensor\" or t == \"numpy\": x_proc, y_proc, *z_proc = balance_tensor_dataset(x_proc, y_proc, *z_proc, make_unique=True, \n",
    "                                                                                               samples=balance_max, add_balance_fn=self.add_balance_fn) \n",
    "            else:                             print(f\"[WARNING]: Unsupported y type: `{t}`. Not balancing dataset!\")\n",
    "        else: print(f\"[INFO]: Not balancing dataset!  {balance_max=}\")\n",
    "          \n",
    "        #---------------------\n",
    "        if shuffle:\n",
    "            x_proc, y_proc, *z_proc = shuffle_tensor_dataset(x_proc, y_proc, *z_proc)\n",
    "            \n",
    "        return x_proc, y_proc, *z_proc\n",
    "    \n",
    "    def valid_split(self, x, y, *z, p_valid=0.1):\n",
    "        splits = max(int(x.shape[0] * p_valid), 1)\n",
    "        x, x_valid =    x[splits:].clone(), x[:splits].clone() \n",
    "        \n",
    "        t = self.store_dict[\"y\"]\n",
    "        if   t == \"tensor\" : y, y_valid =    y[splits:].clone(), y[:splits].clone()      \n",
    "        elif t == \"numpy\":   y, y_valid =    y[splits:]        , y[:splits]      \n",
    "            \n",
    "        else: raise NotImplementedError(\"Not implemented\")\n",
    "        \n",
    "        try:\n",
    "            z       = list(iz[splits:].clone() for iz in z)\n",
    "            z_valid = list(iz[:splits].clone() for iz in z)     \n",
    "        except:\n",
    "            z       = list(iz[splits:] for iz in z)\n",
    "            z_valid = list(iz[:splits] for iz in z)   \n",
    "        \n",
    "        return x, x_valid, y, y_valid, (z, z_valid)\n",
    "    \n",
    "    def get_dataloaders(self, batch_size, p_valid=0.1, balance_max=None, max_samples=None, y_on_cpu=False):\n",
    " \n",
    "        excepts = []\n",
    "        if y_on_cpu: excepts.append(\"y\")\n",
    "        if self.params_config.dataset_to_gpu: self.to(\"cuda\", excepts=excepts)\n",
    "               \n",
    "        x_proc, y_proc, *z_proc              = self.x_y_preprocess(balance_max=balance_max, max_samples=max_samples)       \n",
    "        x, x_valid, y, y_valid, (z, z_valid) = self.valid_split(x_proc, y_proc, *z_proc, p_valid=p_valid)\n",
    "               \n",
    "        ds       = TensorDataset(x, y, *z)\n",
    "        ds_valid = TensorDataset(x_valid, y_valid, *z_valid)\n",
    "        \n",
    "        if self.params_config.dataset_to_gpu: \n",
    "            train_loader = DataLoader(dataset=ds      , batch_size=batch_size, shuffle=True)\n",
    "            valid_loader = DataLoader(dataset=ds_valid, batch_size=batch_size, shuffle=True)\n",
    "\n",
    "        else:              \n",
    "            train_loader = DataLoader(dataset=ds      , batch_size=batch_size, shuffle=True, pin_memory=True, num_workers=12)\n",
    "            valid_loader = DataLoader(dataset=ds_valid, batch_size=batch_size, shuffle=True, pin_memory=True, num_workers=12)\n",
    "\n",
    "        self.dataloaders = DataLoaders(train_loader, valid_loader)        \n",
    "        return self.dataloaders\n",
    "\n",
    "    #----------------------------\n",
    "  \n",
    "    def plot_example(self):\n",
    "        params_config = self.params_config\n",
    "        enc_tensor = self.x[0]\n",
    "        \n",
    "        while enc_tensor.dim()>2: enc_tensor=enc_tensor[0]\n",
    "\n",
    "        params = None\n",
    "        if hasattr(self, \"params\"): params=self.params[0]\n",
    "        \n",
    "        qc = decode_circuit(enc_tensor, self.gate_pool, params_tensor=params)\n",
    " \n",
    "        t = self.store_dict[\"y\"]\n",
    "        if   t == \"tensor\"     : label = self.y[0].cpu().tolist()\n",
    "        elif t == \"tensor_list\": \n",
    "            print(\"Not implemented\")\n",
    "            return\n",
    "        else : \n",
    "            label = self.y[0]#.tolist()\n",
    "            while len(label.shape)>0: label=label[0]\n",
    "        \n",
    "        print(f\"Label: ``{label}``    SRV is: {schmidt_rank_vector(qi.DensityMatrix(qc))}\")\n",
    "        display(qc.draw(\"mpl\", plot_barriers=False))\n",
    "\n",
    "    def plot_distribution(self):\n",
    "        if hasattr(self, \"dataloaders\"): x, y, *z = self.dataloaders.train.dataset.tensors  \n",
    "        else:                            x, y     = self.x, self.y\n",
    "            \n",
    "        t = self.store_dict[\"y\"]\n",
    "        if   t == \"tensor\"     : data={\"svr\":[iy for iy in y.cpu().tolist()]}\n",
    "        elif t == \"numpy\": data={\"svr\":[iy for iy in y.tolist()]}\n",
    "        else:   #  list tensor_list        \n",
    "            print(\"Not implemented\")\n",
    "            return\n",
    "                        \n",
    "        print(\"Train dataset (x, y):\", x.shape, y.shape)\n",
    "        print(\"Train uniques  x    :\", torch.unique(x, dim=0).shape)              \n",
    "              \n",
    "        #real data distribution     \n",
    "        df = pd.DataFrame(data)   \n",
    "        cnts = df['svr'].value_counts(normalize=True)\n",
    "        for n,v in zip(cnts.index, cnts.values): print(f\"{n}: {v*100:.1f}%\")    \n",
    "        ax = df['svr'].value_counts().plot(kind='bar')"
   ]
  },
  {
   "cell_type": "code",
   "execution_count": null,
   "id": "e6322ed9-c703-41df-88a3-6b163c051af1",
   "metadata": {},
   "outputs": [
    {
     "data": {
      "text/plain": [
       "{'target': '__main__.Qc_Config_Dataset',\n",
       " 'device': 'cpu',\n",
       " 'comment': '',\n",
       " 'save_path': None,\n",
       " 'save_datetime': '12/06/2023 19:06:49',\n",
       " 'params': Qc_Config_Dataset_config(store_dict={'x': 'tensor', 'y': 'tensor_list'}, optimized=None, dataset_to_gpu=None, random_samples=None, num_of_qubits=None, min_gates=None, max_gates=None, gate_pool=['qiskit.circuit.library.standard_gates.h.HGate', 'qiskit.circuit.library.standard_gates.x.CXGate'])}"
      ]
     },
     "execution_count": null,
     "metadata": {},
     "output_type": "execute_result"
    }
   ],
   "source": [
    "init = {k:None for k in Qc_Config_Dataset.req_params}\n",
    "init[\"gate_pool\"]  = [\"qiskit.circuit.library.standard_gates.h.HGate\",\n",
    "                      \"qiskit.circuit.library.standard_gates.x.CXGate\"]\n",
    "init[\"store_dict\"] = {\"x\":\"tensor\", \"y\":\"tensor_list\"}\n",
    "\n",
    "a = Qc_Config_Dataset(**init)\n",
    "a.get_config()"
   ]
  },
  {
   "cell_type": "markdown",
   "id": "f41f26a8-ac40-4e91-8c0e-1ef07a0fd4f4",
   "metadata": {},
   "source": [
    "# Export -"
   ]
  },
  {
   "cell_type": "code",
   "execution_count": null,
   "id": "a0474216-8e0c-4ba7-9a37-571ac7d8e82c",
   "metadata": {},
   "outputs": [],
   "source": [
    "#| hide\n",
    "import nbdev; nbdev.nbdev_export()"
   ]
  }
 ],
 "metadata": {
  "kernelspec": {
   "display_name": "python3",
   "language": "python",
   "name": "python3"
  },
  "widgets": {
   "application/vnd.jupyter.widget-state+json": {
    "state": {},
    "version_major": 2,
    "version_minor": 0
   }
  }
 },
 "nbformat": 4,
 "nbformat_minor": 5
}
