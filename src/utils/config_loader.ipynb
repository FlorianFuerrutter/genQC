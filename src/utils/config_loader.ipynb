{
 "cells": [
  {
   "cell_type": "markdown",
   "id": "a8980c24-d62e-462b-ba89-3195cfdcc374",
   "metadata": {},
   "source": [
    "# Config loader\n",
    "\n",
    "> Functions to load and store models and datasets."
   ]
  },
  {
   "cell_type": "markdown",
   "id": "1bb62f14-03c7-4d64-b1b9-f1d3ae309b01",
   "metadata": {},
   "source": [
    "Code using `omegaconf` to handle IO."
   ]
  },
  {
   "cell_type": "code",
   "execution_count": null,
   "id": "a8832bdd-f61c-44e1-8619-a9cb352ba768",
   "metadata": {},
   "outputs": [],
   "source": [
    "#| default_exp utils.config_loader"
   ]
  },
  {
   "cell_type": "code",
   "execution_count": null,
   "id": "06272f6f-b4e3-4504-a90a-feebbf6ad821",
   "metadata": {},
   "outputs": [],
   "source": [
    "#| export\n",
    "from genQC.imports import *\n",
    "from omegaconf import OmegaConf\n",
    "\n",
    "from safetensors.torch import load_file as load_safetensors\n",
    "from safetensors.torch import save_file as save_safetensors\n",
    "from safetensors.numpy import load_file as load_safetensors_np\n",
    "from safetensors.numpy import save_file as save_safetensors_np\n",
    "from safetensors import safe_open"
   ]
  },
  {
   "cell_type": "markdown",
   "id": "9b6c0b5e-4779-4c4a-98e9-46a3dca8bee6",
   "metadata": {},
   "source": [
    "## IO"
   ]
  },
  {
   "cell_type": "code",
   "execution_count": null,
   "id": "cb173637-3d18-4f94-8b95-76cda4117b1e",
   "metadata": {},
   "outputs": [],
   "source": [
    "#| export\n",
    "def class_to_str(cls):\n",
    "    return str(cls)[8:-2]"
   ]
  },
  {
   "cell_type": "code",
   "execution_count": null,
   "id": "e0d5bc35-cc53-42fb-8fcd-8f2bc66c7c9b",
   "metadata": {},
   "outputs": [],
   "source": [
    "#| export\n",
    "def load_config(file_path):\n",
    "    return OmegaConf.load(f\"{file_path}\")"
   ]
  },
  {
   "cell_type": "code",
   "execution_count": null,
   "id": "b105c04a-66d1-4450-8ee0-87aae618e60a",
   "metadata": {},
   "outputs": [],
   "source": [
    "#| export\n",
    "def config_to_dict(config):\n",
    "    return OmegaConf.to_container(config)"
   ]
  },
  {
   "cell_type": "code",
   "execution_count": null,
   "id": "e3d81e5c-cf3d-4152-ab66-acd6e42ec3c9",
   "metadata": {},
   "outputs": [],
   "source": [
    "#| export\n",
    "def save_dataclass_yaml(data_obj, file_path):\n",
    "    conf = OmegaConf.structured(data_obj)\n",
    "    with open(file_path, 'w') as f:\n",
    "        OmegaConf.save(config=conf, f=f)"
   ]
  },
  {
   "cell_type": "code",
   "execution_count": null,
   "id": "bf89bbfc-9d4e-442f-96ea-db1ab99505e9",
   "metadata": {},
   "outputs": [],
   "source": [
    "#| export\n",
    "def save_dict_yaml(dict_obj, file_path):\n",
    "    conf = OmegaConf.create(dict_obj)\n",
    "    with open(file_path, 'w') as f:\n",
    "        OmegaConf.save(config=conf, f=f)"
   ]
  },
  {
   "cell_type": "markdown",
   "id": "ef21ca53-aa2c-4faa-877f-a9b39eeb8ff4",
   "metadata": {},
   "source": [
    "Test"
   ]
  },
  {
   "cell_type": "code",
   "execution_count": null,
   "id": "ed2b17fc-e4d9-4967-89cb-4a0bb28e39a2",
   "metadata": {},
   "outputs": [
    {
     "data": {
      "text/plain": [
       "{'target': 'omegaconf.omegaconf.OmegaConf', 'clr_dim': 80, 'features': [1, 2, 3]}"
      ]
     },
     "execution_count": null,
     "metadata": {},
     "output_type": "execute_result"
    }
   ],
   "source": [
    "@dataclass\n",
    "class MyConfig:    \n",
    "    target:str = class_to_str(OmegaConf)\n",
    "    clr_dim: int = 80\n",
    "    features: list[int]=None\n",
    "    \n",
    "c = MyConfig()\n",
    "c.features = [1,2,3]\n",
    "\n",
    "OmegaConf.structured(c)"
   ]
  },
  {
   "cell_type": "markdown",
   "id": "a3cbe4ce-7e90-413b-b55e-e07a9eeb6d8f",
   "metadata": {},
   "source": [
    "## Object config load"
   ]
  },
  {
   "cell_type": "markdown",
   "id": "3398beb4-8b77-4a8b-9075-b3f6a9775bcd",
   "metadata": {},
   "source": [
    "Adapted from: https://github.com/Stability-AI/generative-models"
   ]
  },
  {
   "cell_type": "code",
   "execution_count": null,
   "id": "debf2c16-b2c4-4aa1-a52e-cdd8aafb4ba3",
   "metadata": {},
   "outputs": [],
   "source": [
    "#| export\n",
    "def get_obj_from_str(string, reload=False, invalidate_cache=True):\n",
    "    module, cls = string.rsplit(\".\", 1)\n",
    "    if invalidate_cache:\n",
    "        importlib.invalidate_caches()\n",
    "    if reload:\n",
    "        module_imp = importlib.import_module(module)\n",
    "        importlib.reload(module_imp)\n",
    "    return getattr(importlib.import_module(module, package=None), cls)"
   ]
  },
  {
   "cell_type": "code",
   "execution_count": null,
   "id": "ffc7fa40-81aa-42ed-ac23-8562ffdc8e4f",
   "metadata": {},
   "outputs": [],
   "source": [
    "#| export\n",
    "def instantiate_from_config(config):\n",
    "    if not \"target\" in config: raise KeyError(\"Expected key `target` to instantiate.\")\n",
    "    if not \"params\" in config: print(\"[WARNING] Expected key `params` to instantiate.\")\n",
    "    return get_obj_from_str(config[\"target\"])(**config.get(\"params\", dict()))"
   ]
  },
  {
   "cell_type": "markdown",
   "id": "d63da861-63cf-4f6e-8724-8bcfd2ffc9bc",
   "metadata": {},
   "source": [
    "### Models"
   ]
  },
  {
   "cell_type": "code",
   "execution_count": null,
   "id": "2dfa8063-d1d1-4ea6-b4ed-055e905a669f",
   "metadata": {},
   "outputs": [],
   "source": [
    "#| export\n",
    "def store_model_state_dict(state_dict, save_path):\n",
    "    print(f\"[INFO]: Saving model to `{save_path}`.\")\n",
    "\n",
    "    if save_path.endswith(\"ckpt\") or save_path.endswith(\"pt\"):\n",
    "        torch.save(state_dict, save_path)\n",
    "\n",
    "    elif save_path.endswith(\"safetensors\"):       \n",
    "        save_safetensors(state_dict, save_path)\n",
    "        \n",
    "    else:\n",
    "        raise NotImplementedError(f\"unknown filetype: {save_path}\")"
   ]
  },
  {
   "cell_type": "code",
   "execution_count": null,
   "id": "06c24366-a179-492e-adc2-5d696f7485fa",
   "metadata": {},
   "outputs": [],
   "source": [
    "#| export\n",
    "def load_model_state_dict(save_path, device):\n",
    "    print(f\"[INFO]: Loading model from `{save_path}` onto device: {device}.\")\n",
    "\n",
    "    if save_path.endswith(\"ckpt\") or save_path.endswith(\"pt\"):\n",
    "        state_dict = torch.load(save_path, map_location=torch.device(device).type, weights_only=True)\n",
    "\n",
    "    elif save_path.endswith(\"safetensors\"):       \n",
    "        state_dict = load_safetensors(save_path, device=torch.device(device).type)\n",
    "        \n",
    "    else:\n",
    "        raise NotImplementedError(f\"unknown filetype: {save_path}\")\n",
    "\n",
    "    return state_dict"
   ]
  },
  {
   "cell_type": "markdown",
   "id": "c199cdb0-8a79-46ff-ab49-d4b7071c0450",
   "metadata": {},
   "source": [
    "### Tensors and numpy"
   ]
  },
  {
   "cell_type": "code",
   "execution_count": null,
   "id": "3cc82c8d-4e82-4d87-9123-28fd9e144cb6",
   "metadata": {},
   "outputs": [
    {
     "data": {
      "text/plain": [
       "2"
      ]
     },
     "execution_count": null,
     "metadata": {},
     "output_type": "execute_result"
    }
   ],
   "source": [
    "torch.serialization.DEFAULT_PROTOCOL"
   ]
  },
  {
   "cell_type": "code",
   "execution_count": null,
   "id": "ec27728c-c8a9-4adf-bdbb-cf9dd9fc4abc",
   "metadata": {},
   "outputs": [],
   "source": [
    "#| export\n",
    "def store_tensor(tensor, save_path, type=\"tensor\"):\n",
    "    print(f\"[INFO]: Saving tensor to `{save_path}`.\")\n",
    "\n",
    "    if type==\"numpy\" and save_path.endswith(\"safetensors\"):\n",
    "        save_path = save_path.replace(\".safetensors\", \".pt\")\n",
    "    \n",
    "    if save_path.endswith(\"ckpt\") or save_path.endswith(\"pt\") or type==\"numpy\":\n",
    "        # serializing a string larger than 4 GiB requires pickle protocol 4 or higher; Protocol version 5 was added in Python 3.8.\n",
    "        torch.save(tensor, save_path, pickle_protocol=5)   \n",
    "\n",
    "    elif save_path.endswith(\"safetensors\") and type==\"tensor\":       \n",
    "        save_safetensors(tensor, save_path)\n",
    "            \n",
    "    else:\n",
    "        raise NotImplementedError(f\"unknown filetype: {save_path} or unknown type {type}\")"
   ]
  },
  {
   "cell_type": "code",
   "execution_count": null,
   "id": "cc632206-1779-462d-968d-1debdbe83c91",
   "metadata": {},
   "outputs": [],
   "source": [
    "#| export\n",
    "def load_tensor(save_path, device, type=\"tensor\"):\n",
    "    print(f\"[INFO]: Loading tensor from `{save_path}` onto device: {device}.\")\n",
    "\n",
    "    if type==\"numpy\" and save_path.endswith(\"safetensors\"):\n",
    "        save_path = save_path.replace(\".safetensors\", \".pt\")\n",
    "    \n",
    "    if save_path.endswith(\"ckpt\") or save_path.endswith(\"pt\") or type==\"numpy\":\n",
    "        tensor = torch.load(save_path, map_location=torch.device(device).type, weights_only=False)\n",
    "\n",
    "    elif save_path.endswith(\"safetensors\") and type==\"tensor\":            \n",
    "        tensor = load_safetensors(save_path, device=torch.device(device).type)\n",
    "\n",
    "    else:\n",
    "        raise NotImplementedError(f\"unknown filetype: {save_path} or unknown type {type}\")\n",
    "\n",
    "    return tensor"
   ]
  },
  {
   "cell_type": "markdown",
   "id": "f41f26a8-ac40-4e91-8c0e-1ef07a0fd4f4",
   "metadata": {},
   "source": [
    "# Export -"
   ]
  },
  {
   "cell_type": "code",
   "execution_count": null,
   "id": "a0474216-8e0c-4ba7-9a37-571ac7d8e82c",
   "metadata": {},
   "outputs": [],
   "source": [
    "#| hide\n",
    "import nbdev; nbdev.nbdev_export()"
   ]
  }
 ],
 "metadata": {
  "kernelspec": {
   "display_name": "python3",
   "language": "python",
   "name": "python3"
  },
  "widgets": {
   "application/vnd.jupyter.widget-state+json": {
    "state": {},
    "version_major": 2,
    "version_minor": 0
   }
  }
 },
 "nbformat": 4,
 "nbformat_minor": 5
}
