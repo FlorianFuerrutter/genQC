{
 "cells": [
  {
   "cell_type": "markdown",
   "id": "ca8283df-e353-4e58-a726-8e75ae1007e9",
   "metadata": {},
   "source": [
    "# Miscellaneous util\n",
    "\n",
    "> Miscellaneous util code"
   ]
  },
  {
   "cell_type": "code",
   "execution_count": null,
   "id": "1ad65227-3d39-4f9c-832a-2d4555aeb399",
   "metadata": {},
   "outputs": [],
   "source": [
    "#| default_exp utils.misc_utils"
   ]
  },
  {
   "cell_type": "code",
   "execution_count": null,
   "id": "5b3271aa-6684-40ab-8c73-b8f9210ab423",
   "metadata": {},
   "outputs": [],
   "source": [
    "#| export\n",
    "from genQC.imports import *\n",
    "import gc, traceback, inspect"
   ]
  },
  {
   "cell_type": "markdown",
   "id": "97eb37f5-8fb3-4299-b790-c7b478ed78b1",
   "metadata": {},
   "source": [
    "## Memory utils"
   ]
  },
  {
   "cell_type": "code",
   "execution_count": null,
   "id": "a5f68941-9951-42de-a3d6-7c0399281ac3",
   "metadata": {},
   "outputs": [],
   "source": [
    "#|export\n",
    "class MemoryCleaner():\n",
    "    \"\"\"CLass with static methods to clean (gpu) memory.\"\"\"\n",
    "    \n",
    "    @staticmethod\n",
    "    def _clean_ipython_hist():\n",
    "        # Code in this function mainly copied from IPython source\n",
    "        if not 'get_ipython' in globals(): return\n",
    "        ip = get_ipython()\n",
    "        user_ns = ip.user_ns\n",
    "        ip.displayhook.flush()\n",
    "        pc = ip.displayhook.prompt_count + 1\n",
    "        for n in range(1, pc): user_ns.pop('_i'+repr(n),None)\n",
    "        user_ns.update(dict(_i='',_ii='',_iii=''))\n",
    "        hm = ip.history_manager\n",
    "        hm.input_hist_parsed[:] = [''] * pc\n",
    "        hm.input_hist_raw[:] = [''] * pc\n",
    "        hm._i = hm._ii = hm._iii = hm._i00 =  ''\n",
    "\n",
    "    @staticmethod\n",
    "    def _clean_tb():\n",
    "        if hasattr(sys, 'last_traceback'):\n",
    "            traceback.clear_frames(sys.last_traceback)\n",
    "            delattr(sys, 'last_traceback')\n",
    "        if hasattr(sys, 'last_type'): delattr(sys, 'last_type')\n",
    "        if hasattr(sys, 'last_value'): delattr(sys, 'last_value')\n",
    "        \n",
    "    @staticmethod\n",
    "    def purge_mem():\n",
    "        \"\"\"Clear all. Purge all memory.\"\"\"\n",
    "        MemoryCleaner._clean_tb()\n",
    "        MemoryCleaner._clean_ipython_hist()\n",
    "        gc.collect()\n",
    "        torch.cuda.empty_cache()   \n",
    "        \n",
    "    @staticmethod\n",
    "    def free_memory(to_delete: list):\n",
    "        \"\"\"Remove objs of `to_delete` from namespace\"\"\"\n",
    "        calling_namespace = inspect.currentframe().f_back\n",
    "        for _var in to_delete:\n",
    "            del _var\n",
    "            calling_namespace.f_locals.pop(_var, None)\n",
    "            gc.collect()\n",
    "            torch.cuda.empty_cache()"
   ]
  },
  {
   "cell_type": "markdown",
   "id": "f910a356-b685-44fb-98ea-4c03ab6969fb",
   "metadata": {},
   "source": [
    "## Python utils"
   ]
  },
  {
   "cell_type": "code",
   "execution_count": null,
   "id": "ca1fa9d4-aea9-4c72-a72b-bc187db868d6",
   "metadata": {},
   "outputs": [],
   "source": [
    "#| export\n",
    "def virtual(f: callable) -> callable:\n",
    "    '''Decorator to enfore subclass method implementations and raises error at method calls.'''\n",
    "    @functools.wraps(f)\n",
    "    def inner(self, *args, **kwargs): raise NotImplementedError(f\"Virtual method {f.__name__} needs to be implemented by subclass {self.__class__.__name__}.\")      \n",
    "    return inner"
   ]
  },
  {
   "cell_type": "code",
   "execution_count": null,
   "id": "59dc4c68-4a11-4b0e-9486-3faf2d1acbbc",
   "metadata": {},
   "outputs": [
    {
     "name": "stdout",
     "output_type": "stream",
     "text": [
      "A p1 1\n",
      "Exception that would be raised:  Virtual method p2 needs to be implemented by subclass B.\n"
     ]
    }
   ],
   "source": [
    "class A():\n",
    "    def p1(self, x): print(\"A p1\", x)\n",
    "    \n",
    "    @virtual\n",
    "    def p2(self, x): pass\n",
    " \n",
    "class B(A):\n",
    "    def p3(self, x): print(\"B p2\", x)\n",
    "    \n",
    "b = B()\n",
    "b.p1(1)\n",
    "try:\n",
    "    b.p2(1)\n",
    "except BaseException as e:\n",
    "    print(\"Exception that would be raised: \", e)"
   ]
  },
  {
   "cell_type": "code",
   "execution_count": null,
   "id": "92760394-9f81-4dc4-89e8-ba9e365fbcd0",
   "metadata": {},
   "outputs": [],
   "source": [
    "#| export\n",
    "def cache_data(file_name, force_recompute):\n",
    "    \"\"\"\n",
    "    A decorator that memorizes the result of a function and stores it.\n",
    "    Note, if the function or its arguments change we ignore it, we only check if the file exists!\n",
    "\n",
    "    Parameters:\n",
    "        - file_name (str): The name of the file to store the memoized results.\n",
    "        - force_recompute (bool): If True, existing cache is ignored.\n",
    "    \"\"\"\n",
    "        \n",
    "    #-------------------\n",
    "    def load(): \n",
    "        if os.path.exists(file_name) and not force_recompute: \n",
    "            return torch.load(file_name)\n",
    "        return None\n",
    "    \n",
    "    #-------------------\n",
    "    def save(cache):     \n",
    "        if exists(cache): \n",
    "            os.makedirs(file_name[:file_name.rfind(\"/\")] + \"/\", exist_ok=True)\n",
    "            torch.save(cache, file_name)\n",
    "    \n",
    "    #-------------------\n",
    "    def decorator(func: callable) -> callable: \n",
    "        @functools.wraps(func)\n",
    "        def inner(*args, **kwargs):\n",
    "        \n",
    "            cache = load()\n",
    "            \n",
    "            if not exists(cache): # run function normally\n",
    "                print(f\"Computing: {func.__name__}\")\n",
    "                cache = func(*args, **kwargs)\n",
    "                \n",
    "                save(cache)\n",
    "                print(f\"Result saved\")\n",
    "                \n",
    "            else: # loaded already from cache\n",
    "                print(f\"Result retrieved from cache: {func.__name__}\")\n",
    "            \n",
    "            return cache\n",
    "        return inner\n",
    "    return decorator"
   ]
  },
  {
   "cell_type": "markdown",
   "id": "2086a56a-b142-41c2-8b67-716d6afbc574",
   "metadata": {},
   "source": [
    "## Torch utils"
   ]
  },
  {
   "cell_type": "code",
   "execution_count": null,
   "id": "1f4e15ca-cbab-4ee0-bf9a-fabe0a687c9b",
   "metadata": {},
   "outputs": [],
   "source": [
    "#|export\n",
    "class DataLoaders:\n",
    "    \"\"\"Combines train and valid `DataLoader` objects.\"\"\"\n",
    "    def __init__(self, *dls: list[DataLoader]): self.train, self.valid = dls[:2]"
   ]
  },
  {
   "cell_type": "code",
   "execution_count": null,
   "id": "61e428d1-3482-412c-8286-011a979a7fae",
   "metadata": {},
   "outputs": [],
   "source": [
    "#| export\n",
    "def infer_torch_device(): \n",
    "    if torch.cuda.is_available():   \n",
    "        torch.backends.cudnn.benchmark = True\n",
    "\n",
    "        dev_cap = torch.cuda.get_device_capability()\n",
    "        \n",
    "        if dev_cap[0] >= 8: # AMPERE and up\n",
    "            print(f\"[INFO]: Cuda device has a capability of {dev_cap[0]}.{dev_cap[1]} (>= 8), allowing tf32 matmul.\")\n",
    "            torch.backends.cuda.matmul.allow_tf32 = True\n",
    "            torch.backends.cudnn.allow_tf32 = True\n",
    "        \n",
    "        return torch.device(\"cuda\")\n",
    "    return torch.device(\"cpu\")"
   ]
  },
  {
   "cell_type": "code",
   "execution_count": null,
   "id": "84ba05ff-9d30-4c43-9b15-187c219b385d",
   "metadata": {},
   "outputs": [
    {
     "name": "stdout",
     "output_type": "stream",
     "text": [
      "[INFO]: Cuda device has a capability of 8.6 (>= 8), allowing tf32 matmul.\n"
     ]
    },
    {
     "data": {
      "text/plain": [
       "device(type='cuda')"
      ]
     },
     "execution_count": null,
     "metadata": {},
     "output_type": "execute_result"
    }
   ],
   "source": [
    "infer_torch_device()"
   ]
  },
  {
   "cell_type": "code",
   "execution_count": null,
   "id": "e05ec728-70a3-402f-80cc-c58a18394710",
   "metadata": {},
   "outputs": [],
   "source": [
    "#| export\n",
    "def number_of_paramters(model: nn.Module): return sum([p.flatten().shape[0] for p in model.parameters()])"
   ]
  },
  {
   "cell_type": "code",
   "execution_count": null,
   "id": "e7122570-f02a-4fc2-b9db-8d65a72ceb94",
   "metadata": {},
   "outputs": [],
   "source": [
    "#| export\n",
    "def normalize_tensor(t: torch.Tensor):\n",
    "    \"\"\"[0,1] to [-1,1]\"\"\"\n",
    "    return t * 2.0 - 1.0\n",
    "\n",
    "def scale_tensor(t: torch.Tensor):\n",
    "    \"\"\"[-1,1] to [0,1]\"\"\"\n",
    "    return (t / 2.0 + 0.5).clamp(0.0, 1.0)"
   ]
  },
  {
   "cell_type": "markdown",
   "id": "058de092-2f9e-4d4e-b321-c4539f618a1d",
   "metadata": {},
   "source": [
    "## Plot utils"
   ]
  },
  {
   "cell_type": "code",
   "execution_count": null,
   "id": "34d371d4-9fee-4544-81e5-4d82f6e720cd",
   "metadata": {},
   "outputs": [],
   "source": [
    "#| export\n",
    "def savePdf(filename): plt.savefig(filename + '.pdf', bbox_inches='tight')\n",
    "def savePng(filename): plt.savefig(filename + '.png', bbox_inches='tight')\n",
    "def saveSvg(filename): plt.savefig(filename + '.svg', bbox_inches='tight')"
   ]
  },
  {
   "cell_type": "code",
   "execution_count": null,
   "id": "276a1ac5-ff77-47e2-9530-faa152e2a120",
   "metadata": {},
   "outputs": [],
   "source": [
    "#| export\n",
    "def plot_image_grid(imgs: Union[list, np.array, torch.Tensor], labels: list=None, labels_fs=\"medium\", \n",
    "                    figsize=(16, 4), cols=8, cmap=\"Greys\", show_colorbar=False, **imshow_kwargs):  \n",
    "    if type(imgs) is list: n = len(imgs)\n",
    "    elif type(imgs) is np.ndarray: n = imgs.shape[0]\n",
    "    elif type(imgs) is torch.Tensor: n = imgs.shape[0]\n",
    "    else: raise NotImplementedError(\"err type:\", type(imgs))\n",
    "\n",
    "    if n == 0: return\n",
    "\n",
    "    cols = min(n, cols)\n",
    "    rows = math.ceil(n/cols)\n",
    "\n",
    "    fig, axs = plt.subplots(rows, cols, figsize=figsize, squeeze=False, constrained_layout=True)   \n",
    "    for i, (r, c) in enumerate(itertools.product(range(rows), range(cols))):\n",
    "        plt.sca(axs[r,c])\n",
    "        plt.axis('off')\n",
    "         \n",
    "        if i >= n: continue\n",
    "\n",
    "        if labels is not None: plt.title(labels[i], fontsize=labels_fs)\n",
    "        p = plt.imshow(imgs[i], cmap=cmap, **imshow_kwargs) #cmap ignored for RGB   \n",
    "        if show_colorbar: plt.colorbar(p)\n",
    "        \n",
    "    plt.show()"
   ]
  },
  {
   "cell_type": "code",
   "execution_count": null,
   "id": "46b4389e-3f3b-40ce-8360-d32fe2350a9e",
   "metadata": {},
   "outputs": [
    {
     "data": {
      "image/png": "[encoded data removed]",
      "text/plain": [
       "<Figure size 1600x400 with 6 Axes>"
      ]
     },
     "metadata": {},
     "output_type": "display_data"
    }
   ],
   "source": [
    "n = 6\n",
    "plot_image_grid(torch.randn((n,28,28,1)), [f\"label {i}\" for i in range(n)])"
   ]
  },
  {
   "cell_type": "code",
   "execution_count": null,
   "id": "a9d2dca8-d73f-49fc-a56c-1c148b1abeab",
   "metadata": {},
   "outputs": [],
   "source": [
    "#| export\n",
    "def latents_to_pil(latents:torch.Tensor, channels=None):\n",
    "    if channels is None:        \n",
    "        channels = latents.shape[1] if len(latents.shape) > 3 else 1\n",
    "            \n",
    "    images = scale_tensor(latents)\n",
    "    images = images.detach().cpu().permute(0, 2, 3, 1).numpy()\n",
    "    \n",
    "    if channels == 1: images = images[:, :, :, 0]\n",
    "\n",
    "    images = (images * 255).round().astype(np.uint8)\n",
    "  \n",
    "    pil_images = [Image.fromarray(image) for image in images]\n",
    "    return pil_images   "
   ]
  },
  {
   "cell_type": "markdown",
   "id": "79d6cbc5-61cc-4ed3-bf0f-93ebd7b8c742",
   "metadata": {},
   "source": [
    "## Inference utils"
   ]
  },
  {
   "cell_type": "code",
   "execution_count": null,
   "id": "f7be07ff-99cb-4d36-9b41-0fcab28cfbf0",
   "metadata": {},
   "outputs": [],
   "source": [
    "#| export\n",
    "def set_seed(seed: int):\n",
    "    \"\"\"Sets a seed to pytorch, numpy and python. Additionally sets cuda flags.\"\"\"\n",
    "\n",
    "    torch.manual_seed(seed)\n",
    "    np.random.seed(seed)\n",
    "    random.seed(seed)\n",
    "\n",
    "    # see https://pytorch.org/docs/stable/notes/randomness.html\n",
    "    torch.backends.cudnn.benchmark = False\n",
    "    torch.backends.cudnn.deterministic = True\n",
    "    torch.use_deterministic_algorithms(True)\n",
    "\n",
    "    # see https://docs.nvidia.com/cuda/cublas/index.html#results-reproducibility\n",
    "    os.environ[\"CUBLAS_WORKSPACE_CONFIG\"] = \":4096:8\""
   ]
  },
  {
   "cell_type": "code",
   "execution_count": null,
   "id": "fedabe68-7767-49f3-a2d8-73a2c105c64f",
   "metadata": {},
   "outputs": [],
   "source": [
    "#| export\n",
    "def get_element_matching_indices(a: torch.Tensor, b: torch.Tensor) -> torch.Tensor:\n",
    "    \"\"\"Compares (2d) `a` with `b`. Returns the indices of `b`, where a element of `a` matches with `b`.\"\"\"\n",
    "    # Expand dimensions of a to match the shape of b for element-wise comparison\n",
    "    expanded_a = a.unsqueeze(0).expand(b.shape[0], *a.shape)  # [b0, a0, a1]\n",
    "    expanded_b = b.unsqueeze(1)                               # [b0,  1, b1]\n",
    "    \n",
    "    # Compare all vector entries of a with all vectors of b\n",
    "    matches = torch.all(expanded_a == expanded_b, dim=-1)\n",
    "\n",
    "    matching_indices = torch.nonzero(torch.any(matches, dim=1)).squeeze()\n",
    "    \n",
    "    if matching_indices.dim() == 0: matching_indices = torch.tensor([matching_indices])\n",
    "\n",
    "    return matching_indices"
   ]
  },
  {
   "cell_type": "code",
   "execution_count": null,
   "id": "547b1bae-d899-4b8e-8368-f1c1968c9e76",
   "metadata": {},
   "outputs": [],
   "source": [
    "#| export\n",
    "def get_entanglement_bins(num_of_qubits: int) -> Tuple[List[List], List[str]]:\n",
    "    \"\"\"Returns all SRV sorted in entangle bins, corresponding to a number of entangled qubits.\"\"\"\n",
    "    \n",
    "    dist_srvs = [x for x in itertools.product(*([[1,2]]*num_of_qubits))]\n",
    "    dist_srvs = np.array(dist_srvs, dtype=int)[np.sum(dist_srvs, axis=1)!=num_of_qubits+1].tolist()\n",
    "    dist_srvs = sorted(dist_srvs, key=lambda x: sum(x))\n",
    "    dist_srvs = np.array(dist_srvs)\n",
    "    \n",
    "    entangle = [1] + [scipy.special.comb(num_of_qubits, i, exact=True) for i in range(2, num_of_qubits)]\n",
    "    \n",
    "    entanglement_bins = np.split(dist_srvs, np.cumsum(entangle))\n",
    "    \n",
    "    ent_bits = [f\"{sum(n[0])-num_of_qubits} qubit entangled\" for n in entanglement_bins]\n",
    "    \n",
    "    return [x.tolist() for x in entanglement_bins], ent_bits"
   ]
  },
  {
   "cell_type": "markdown",
   "id": "b3ea52bf-f57f-40b3-bb4b-9a1a40010088",
   "metadata": {},
   "source": [
    "Print the Schmidt-rank-vector bins for 5 qubits:"
   ]
  },
  {
   "cell_type": "code",
   "execution_count": null,
   "id": "f949cb38-42c7-48d0-bf7c-520c841cd273",
   "metadata": {},
   "outputs": [
    {
     "name": "stdout",
     "output_type": "stream",
     "text": [
      "0 qubit entangled : [[1, 1, 1, 1, 1]]\n",
      "2 qubit entangled : [[1, 1, 1, 2, 2], [1, 1, 2, 1, 2], [1, 1, 2, 2, 1], [1, 2, 1, 1, 2], [1, 2, 1, 2, 1], [1, 2, 2, 1, 1], [2, 1, 1, 1, 2], [2, 1, 1, 2, 1], [2, 1, 2, 1, 1], [2, 2, 1, 1, 1]]\n",
      "3 qubit entangled : [[1, 1, 2, 2, 2], [1, 2, 1, 2, 2], [1, 2, 2, 1, 2], [1, 2, 2, 2, 1], [2, 1, 1, 2, 2], [2, 1, 2, 1, 2], [2, 1, 2, 2, 1], [2, 2, 1, 1, 2], [2, 2, 1, 2, 1], [2, 2, 2, 1, 1]]\n",
      "4 qubit entangled : [[1, 2, 2, 2, 2], [2, 1, 2, 2, 2], [2, 2, 1, 2, 2], [2, 2, 2, 1, 2], [2, 2, 2, 2, 1]]\n",
      "5 qubit entangled : [[2, 2, 2, 2, 2]]\n"
     ]
    }
   ],
   "source": [
    "for srvs,label in zip(*get_entanglement_bins(5)):\n",
    "    print(label, \":\", srvs)"
   ]
  },
  {
   "cell_type": "markdown",
   "id": "82152d0d-bfac-4196-ba10-3dfe21fc705f",
   "metadata": {},
   "source": [
    "# Export -"
   ]
  },
  {
   "cell_type": "code",
   "execution_count": null,
   "id": "11d3d56b-0aba-4ccc-9299-86bf132fcc99",
   "metadata": {},
   "outputs": [],
   "source": [
    "#| hide\n",
    "import nbdev; nbdev.nbdev_export()"
   ]
  }
 ],
 "metadata": {
  "kernelspec": {
   "display_name": "python3",
   "language": "python",
   "name": "python3"
  },
  "widgets": {
   "application/vnd.jupyter.widget-state+json": {
    "state": {},
    "version_major": 2,
    "version_minor": 0
   }
  }
 },
 "nbformat": 4,
 "nbformat_minor": 5
}
