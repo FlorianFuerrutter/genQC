{
 "cells": [
  {
   "cell_type": "markdown",
   "id": "a8980c24-d62e-462b-ba89-3195cfdcc374",
   "metadata": {},
   "source": [
    "# Async functions\n",
    "\n",
    "> Basic functions for async executions."
   ]
  },
  {
   "cell_type": "code",
   "execution_count": null,
   "id": "a8832bdd-f61c-44e1-8619-a9cb352ba768",
   "metadata": {},
   "outputs": [],
   "source": [
    "#| default_exp utils.async_fn"
   ]
  },
  {
   "cell_type": "code",
   "execution_count": null,
   "id": "06272f6f-b4e3-4504-a90a-feebbf6ad821",
   "metadata": {},
   "outputs": [],
   "source": [
    "#| export\n",
    "from genQC.imports import *\n",
    "from joblib import Parallel, delayed\n",
    "\n",
    "from tensordict.tensordict import MemoryMappedTensor\n",
    "import tempfile"
   ]
  },
  {
   "cell_type": "markdown",
   "id": "2bae3d8c-7970-42ee-8723-d0ba4f701fb8",
   "metadata": {},
   "source": [
    "# Joblib"
   ]
  },
  {
   "cell_type": "code",
   "execution_count": null,
   "id": "7c3dbea0-513a-4754-b24b-23bfde48d423",
   "metadata": {},
   "outputs": [],
   "source": [
    "#| export\n",
    "def run_parallel_jobs(f: callable, loop_set, n_jobs: int = 1):      \n",
    "    if n_jobs > 1: res = Parallel(n_jobs=n_jobs)(delayed(f)(x) for x in loop_set)         \n",
    "    else:          res = [f(x) for x in loop_set]      \n",
    "    return res "
   ]
  },
  {
   "cell_type": "markdown",
   "id": "18d7f6ef-051c-42db-bce0-0450ac87880c",
   "metadata": {},
   "source": [
    "# MemMap"
   ]
  },
  {
   "cell_type": "code",
   "execution_count": null,
   "id": "141766e2-4e5f-45d8-bda8-f606d56e6774",
   "metadata": {},
   "outputs": [],
   "source": [
    "#| export\n",
    "class MemoryMappedArray():\n",
    "    def __init__(self, obj, type=\"tensor\"):\n",
    "        self.obj  = obj\n",
    "        self.type = type\n",
    "        assert type in [\"tensor\", \"numpy\"]\n",
    "        \n",
    "        with tempfile.NamedTemporaryFile(delete=False) as file:   \n",
    "            # Note can bes simplified with python 3.12 as we can set delete=true, and delete_on_close=True, so it will be kept and we dont need to delete\n",
    "            # see https://docs.python.org/3.12/library/tempfile.html\n",
    "            \n",
    "            self.temporaryFileName = file.name\n",
    "            file.close()\n",
    "\n",
    "        if self.type == \"numpy\":\n",
    "            self.obj_memmap    = np.memmap(filename=self.temporaryFileName, dtype=obj.dtype, mode='w+', shape=obj.shape)\n",
    "            self.obj_memmap[:] = self.obj[:]\n",
    "            self.obj_memmap.flush()\n",
    "        \n",
    "        elif self.type == \"tensor\":  \n",
    "            self.obj_memmap = MemoryMappedTensor.from_tensor(self.obj.cpu(), filename=self.temporaryFileName, existsok=True) \n",
    "        \n",
    "        else: \n",
    "            raise NotImplementedError()\n",
    "\n",
    "    def get_obj(self):\n",
    "        if self.type == \"numpy\":\n",
    "            self.obj = self.obj_memmap.copy()\n",
    "            \n",
    "        elif self.type == \"tensor\":\n",
    "            self.obj = self.obj_memmap.contiguous().clone().to(self.obj.device)\n",
    "\n",
    "        del self.obj_memmap\n",
    "        return self.obj, self.temporaryFileName\n",
    "\n",
    "    @staticmethod\n",
    "    def clean(temp_files):\n",
    "        for temp_file in temp_files:\n",
    "            try: os.remove(temp_file)\n",
    "            except Exception as e: print(f\"[ERROR]: {e}\") "
   ]
  },
  {
   "cell_type": "markdown",
   "id": "f41f26a8-ac40-4e91-8c0e-1ef07a0fd4f4",
   "metadata": {},
   "source": [
    "# Export -"
   ]
  },
  {
   "cell_type": "code",
   "execution_count": null,
   "id": "a0474216-8e0c-4ba7-9a37-571ac7d8e82c",
   "metadata": {},
   "outputs": [],
   "source": [
    "#| hide\n",
    "import nbdev; nbdev.nbdev_export()"
   ]
  }
 ],
 "metadata": {
  "kernelspec": {
   "display_name": "python3",
   "language": "python",
   "name": "python3"
  },
  "widgets": {
   "application/vnd.jupyter.widget-state+json": {
    "state": {},
    "version_major": 2,
    "version_minor": 0
   }
  }
 },
 "nbformat": 4,
 "nbformat_minor": 5
}
