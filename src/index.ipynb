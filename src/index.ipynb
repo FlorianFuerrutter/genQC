{
 "cells": [
  {
   "cell_type": "markdown",
   "metadata": {},
   "source": [
    "# genQC &middot; Generative Quantum Circuits\n",
    "\n",
    "> Generating quantum circuits with diffusion models"
   ]
  },
  {
   "cell_type": "markdown",
   "metadata": {},
   "source": [
    "<p align=\"left\">\n",
    "  <a><img src=\"https://badgen.net/badge/icon/awesome?icon=awesome&label\" alt=\"awesome\"></a>\n",
    "  <a><img src=\"https://badgen.net/badge/generative/models/orange\" alt=\"generative-models\"></a>\n",
    "  <a><img src=\"https://badgen.net/badge/diffusion/models/pink\" alt=\"diffusion-models\"></a>\n",
    "  <a><img src=\"https://img.shields.io/badge/python-3.9-red\" alt=\"python-3.9\"></a>\n",
    "</p>"
   ]
  },
  {
   "cell_type": "markdown",
   "metadata": {},
   "source": [
    "Code repository for generating quantum circuits with diffusion models. [[Paper]](https://arxiv.org/abs/2311.02041) [[Demo]](https://huggingface.co/spaces/Floki00/genQC)"
   ]
  },
  {
   "cell_type": "markdown",
   "metadata": {},
   "source": [
    "![](https://github.com/FlorianFuerrutter/genQC/blob/main/src/assets/inference.png?raw=true)"
   ]
  },
  {
   "cell_type": "markdown",
   "metadata": {},
   "source": [
    "## The codebase"
   ]
  },
  {
   "cell_type": "markdown",
   "metadata": {},
   "source": [
    "All weights and functions are contained within this repo. For the CLIP model weights we use the [OpenCLIP](https://github.com/mlfoundations/open_clip) library, which will download (and cache) the CLIP model on first usage of our pipeline. In case you prefer reading a documentation rather than notebooks or code see [[Documentation]](https://florianfuerrutter.github.io/genQC/)."
   ]
  },
  {
   "cell_type": "markdown",
   "metadata": {},
   "source": [
    "The repo inlcudes:\n",
    "\n",
    "1. `saves/` the configs and weights of the pre-trained models.\n",
    "2. `genQC/` a full release of our used diffusion pipeline.\n",
    "3. `src/examples` examples how to reproduce some figures of the [Paper](https://arxiv.org/abs/2311.02041).\n",
    "4. `src/` the source notebooks for [nbdev](https://github.com/fastai/nbdev)."
   ]
  },
  {
   "cell_type": "markdown",
   "metadata": {},
   "source": [
    "## Examples"
   ]
  },
  {
   "cell_type": "markdown",
   "metadata": {},
   "source": [
    "#### Minimal example"
   ]
  },
  {
   "cell_type": "markdown",
   "metadata": {},
   "source": [
    "A minimal example to generate a 5 qubit circuit conditioned on a SRV of $[1,1,1,2,2]$. You can try it out on your own with our demo [[huggingface-space]](https://huggingface.co/spaces/Floki00/genQC), no coding required."
   ]
  },
  {
   "cell_type": "code",
   "execution_count": null,
   "metadata": {},
   "outputs": [
    {
     "name": "stdout",
     "output_type": "stream",
     "text": [
      "[INFO]: `genQC.models.unet_qc.QC_Cond_UNet` instantiated from given config on cpu.\n",
      "[INFO]: `genQC.models.frozen_open_clip.CachedFrozenOpenCLIPEmbedder` instantiated from given config on cpu.\n",
      "[INFO]: `genQC.models.frozen_open_clip.CachedFrozenOpenCLIPEmbedder`. No save_path` provided. No state dict loaded.\n"
     ]
    }
   ],
   "source": [
    "from genQC.pipeline.diffusion_pipeline import DiffusionPipeline\n",
    "from genQC.inference.infer_srv import generate_srv_tensors, convert_tensors_to_srvs\n",
    "\n",
    "model_path = \"../saves/qc_unet_config_SRV_3to8_qubit/\"\n",
    "pipeline   = DiffusionPipeline.from_config_file(model_path, \"cpu\")  \n",
    "pipeline.scheduler.set_timesteps(20) \n",
    "\n",
    "out_tensor           = generate_srv_tensors(pipeline, \"Generate SRV: [1,1,1,2,2]\", samples=1, system_size=5, num_of_qubits=5, max_gates=16, g=7.5) \n",
    "qc_list, _, svr_list = convert_tensors_to_srvs(out_tensor, pipeline.gate_pool)"
   ]
  },
  {
   "cell_type": "code",
   "execution_count": null,
   "metadata": {},
   "outputs": [
    {
     "name": "stdout",
     "output_type": "stream",
     "text": [
      "is SRV [1, 1, 1, 2, 2]\n"
     ]
    },
    {
     "data": {
      "image/png": "[encoded data removed]",
      "text/plain": [
       "<Figure size 538.33x451.5 with 1 Axes>"
      ]
     },
     "execution_count": null,
     "metadata": {},
     "output_type": "execute_result"
    }
   ],
   "source": [
    "print(f\"is SRV {svr_list[0]}\")\n",
    "qc_list[0].draw(\"mpl\", style=\"clifford\")"
   ]
  },
  {
   "cell_type": "markdown",
   "metadata": {},
   "source": [
    "#### Included examples"
   ]
  },
  {
   "cell_type": "markdown",
   "metadata": {},
   "source": [
    "Example notebooks are provided in the directory `src/examples/`."
   ]
  },
  {
   "cell_type": "markdown",
   "metadata": {},
   "source": [
    "- `0_hello_circuit` [[doc]](https://florianfuerrutter.github.io/genQC/examples/hello_circuit.html) [[notebook]](https://github.com/FlorianFuerrutter/genQC/blob/main/src/examples/0_hello_circuit.ipynb): How to sample a circuit (conditioned on a SRV)\n",
    "- `1_editing_and_masking` [[doc]](https://florianfuerrutter.github.io/genQC/examples/editing_and_masking.html) [[notebook]](https://github.com/FlorianFuerrutter/genQC/blob/main/src/examples/1_editing_and_masking.ipynb): Presents editing and masking of circuits\n",
    "- `2_unitary_compilation` [[doc]](https://florianfuerrutter.github.io/genQC/examples/unitary_compilation.html) [[notebook]](https://github.com/FlorianFuerrutter/genQC/blob/main/src/examples/2_unitary_compilation.ipynb): Compile unitaries and transpile circuits\n",
    "- `3_dataset_and_fineTune` [[doc]](https://florianfuerrutter.github.io/genQC/examples/dataset_and_fineTune.html) [[notebook]](https://github.com/FlorianFuerrutter/genQC/blob/main/src/examples/3_dataset_and_fineTune.ipynb): How to create a dataset and fine-tune a pre-trained model"
   ]
  },
  {
   "cell_type": "markdown",
   "metadata": {},
   "source": [
    "## Installation"
   ]
  },
  {
   "cell_type": "markdown",
   "metadata": {},
   "source": [
    "The installation of genQC is done via `pip` within a few minutes, depending on your downloading speed."
   ]
  },
  {
   "cell_type": "markdown",
   "metadata": {},
   "source": [
    "#### 1. Clone the repository"
   ]
  },
  {
   "cell_type": "markdown",
   "metadata": {},
   "source": [
    "```sh\n",
    "git clone https://github.com/FlorianFuerrutter/genQC.git\n",
    "cd genQC\n",
    "```"
   ]
  },
  {
   "cell_type": "markdown",
   "metadata": {},
   "source": [
    "#### 2. Install genQC"
   ]
  },
  {
   "cell_type": "markdown",
   "metadata": {},
   "source": [
    "This library is build using jupyter notebooks and [nbdev](https://github.com/fastai/nbdev). To install the library use in the clone directory:"
   ]
  },
  {
   "cell_type": "markdown",
   "metadata": {},
   "source": [
    "```sh\n",
    "pip install -e .\n",
    "```"
   ]
  },
  {
   "cell_type": "markdown",
   "metadata": {},
   "source": [
    "Note, this will install missing requirements automatically. You may want to install some of them manually beforehand, e.g. pytorch for specific cuda support, see [pytorch.org/get-started/locally](https://pytorch.org/get-started/locally/)."
   ]
  },
  {
   "cell_type": "markdown",
   "metadata": {},
   "source": [
    "**Requirements:** `genQC` depends on `python` (min. version 3.9) and the librarys: `torch`, `numpy`, `matplotlib`, `scipy`, `pandas`, `omegaconf`, `qiskit`, `tqdm`, `joblib`, `open_clip_torch`, `ipywidgets` and `pylatexenc`. All can be installed with `pip`. In `src/RELEASES.md` [[doc]](https://florianfuerrutter.github.io/genQC/src/RELEASES.html) and the release descriptions specific tested-on versions are listed."
   ]
  },
  {
   "cell_type": "markdown",
   "metadata": {},
   "source": [
    "#### 3. Run example"
   ]
  },
  {
   "cell_type": "markdown",
   "metadata": {},
   "source": [
    "You can run the provided `0_hello_circuit` [[doc]](https://florianfuerrutter.github.io/genQC/examples/hello_circuit.html) [[notebook]](https://github.com/FlorianFuerrutter/genQC/blob/main/src/examples/0_hello_circuit.ipynb) example to test your installation. On a computer with a moderate GPU this inference example notebook should run under half a minute. "
   ]
  },
  {
   "cell_type": "markdown",
   "metadata": {},
   "source": [
    "## License"
   ]
  },
  {
   "cell_type": "markdown",
   "metadata": {},
   "source": [
    "The code and weights in this repository are released under the MIT License."
   ]
  },
  {
   "cell_type": "markdown",
   "metadata": {},
   "source": [
    "## BibTeX"
   ]
  },
  {
   "cell_type": "markdown",
   "metadata": {},
   "source": [
    "We kindly ask you to cite our paper if any of the previous material was useful for your work."
   ]
  },
  {
   "cell_type": "markdown",
   "metadata": {},
   "source": [
    "``` latex\n",
    "@article{fuerrutter2023quantum,\n",
    "      title={Quantum circuit synthesis with diffusion models}, \n",
    "      author={Florian Fürrutter and Gorka Muñoz-Gil and Hans J. Briegel},\n",
    "      year={2023},\n",
    "      eprint={2311.02041},\n",
    "      publisher = {arXiv},\n",
    "      archivePrefix={arXiv},\n",
    "      primaryClass={quant-ph},\n",
    "      url = {https://arxiv.org/abs/2311.02041},\n",
    "      doi = {/10.48550/arXiv.2311.02041},\n",
    "}\n",
    "```"
   ]
  },
  {
   "cell_type": "code",
   "execution_count": null,
   "metadata": {},
   "outputs": [],
   "source": []
  }
 ],
 "metadata": {
  "kernelspec": {
   "display_name": "python3",
   "language": "python",
   "name": "python3"
  }
 },
 "nbformat": 4,
 "nbformat_minor": 4
}
