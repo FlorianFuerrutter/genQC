{
 "cells": [
  {
   "cell_type": "markdown",
   "metadata": {},
   "source": [
    "---\n",
    "\n",
    "<h1 align=\"center\"> REPO UNDER CONSTRUCTION 🏗</h1>\n",
    "\n",
    "---"
   ]
  },
  {
   "cell_type": "markdown",
   "metadata": {},
   "source": [
    "<h1 align=\"center\">genQC &middot; Generative Quantum circuits</h1>\n",
    "<h4 align=\"center\">Quantum circuit synthesis with diffusion models</h4>"
   ]
  },
  {
   "cell_type": "markdown",
   "metadata": {},
   "source": [
    "<p align=\"center\">\n",
    "  <a><img src=\"https://badgen.net/badge/icon/awesome?icon=awesome&label\" alt=\"awesome\"></a>\n",
    "  <a><img src=\"https://badgen.net/badge/generative/models/orange\" alt=\"generative-models\"></a>\n",
    "  <a><img src=\"https://badgen.net/badge/diffusion/models/pink\" alt=\"diffusion-models\"></a>\n",
    "  <a><img src=\"https://img.shields.io/badge/python-3.11-red\" alt=\"python-3.11\"></a>\n",
    "</p>"
   ]
  },
  {
   "cell_type": "code",
   "execution_count": null,
   "metadata": {},
   "outputs": [],
   "source": [
    "#| hide\n",
    "\n",
    "# <p align=\"center\">\n",
    "#   <img width=\"350\" src=\"https://a.png?raw=true\">\n",
    "# </p>"
   ]
  },
  {
   "cell_type": "markdown",
   "metadata": {},
   "source": [
    "### Install"
   ]
  },
  {
   "cell_type": "markdown",
   "metadata": {},
   "source": [
    "```sh\n",
    "pip install -e .\n",
    "```\n",
    "\n",
    "or\n",
    "\n",
    "```sh\n",
    "pip install genQC\n",
    "```"
   ]
  },
  {
   "cell_type": "code",
   "execution_count": null,
   "metadata": {},
   "outputs": [],
   "source": []
  }
 ],
 "metadata": {
  "kernelspec": {
   "display_name": "python3",
   "language": "python",
   "name": "python3"
  }
 },
 "nbformat": 4,
 "nbformat_minor": 4
}
