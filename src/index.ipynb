{
 "cells": [
  {
   "cell_type": "markdown",
   "metadata": {},
   "source": [
    "# genQC &middot; Generative Quantum Circuits\n",
    "\n",
    "> Generating quantum circuits with diffusion models"
   ]
  },
  {
   "cell_type": "markdown",
   "metadata": {},
   "source": [
    "<p align=\"left\">\n",
    "  <a><img src=\"https://badgen.net/badge/icon/awesome?icon=awesome&label\" alt=\"awesome\"></a>\n",
    "  <a><img src=\"https://badgen.net/badge/generative/models/orange\" alt=\"generative-models\"></a>\n",
    "  <a><img src=\"https://badgen.net/badge/diffusion/models/pink\" alt=\"diffusion-models\"></a>\n",
    "  <a><img src=\"https://img.shields.io/badge/python-3.10-red\" alt=\"python-3.10\"></a>\n",
    "</p>"
   ]
  },
  {
   "cell_type": "markdown",
   "metadata": {},
   "source": [
    "Code repository for generating quantum circuits with diffuison models. [[Paper]](https://arxiv.org/abs/2311.02041)"
   ]
  },
  {
   "cell_type": "markdown",
   "metadata": {},
   "source": [
    "![](assets/inference.png)"
   ]
  },
  {
   "cell_type": "markdown",
   "metadata": {},
   "source": [
    "## The codebase"
   ]
  },
  {
   "cell_type": "markdown",
   "metadata": {},
   "source": [
    "All weights and functions are contained within this repo. For the CLIP model weights we use the [OpenCLIP](https://github.com/mlfoundations/open_clip) library, which will download (and cache) the CLIP model on first usage of our pipeline. In case you prefer reading a documentation rather than notebooks or code see [florianfuerrutter.github.io/genQC/](https://florianfuerrutter.github.io/genQC/)."
   ]
  },
  {
   "cell_type": "markdown",
   "metadata": {},
   "source": [
    "The repo inlcudes:\n",
    "\n",
    "1. `saves/` the configs and weights of the pre-trained models.\n",
    "2. `genQC/` a full release of our used diffusion pipeline.\n",
    "3. `src/examples` examples how to reproduce some figures of the [Paper](https://arxiv.org/abs/2311.02041).\n",
    "4. `src/` the source notebooks for [nbdev](https://github.com/fastai/nbdev)."
   ]
  },
  {
   "cell_type": "markdown",
   "metadata": {},
   "source": [
    "## Examples"
   ]
  },
  {
   "cell_type": "markdown",
   "metadata": {},
   "source": [
    "#### Minimal example"
   ]
  },
  {
   "cell_type": "markdown",
   "metadata": {},
   "source": [
    "A minimal example to generate a 5 qubit circuit conditioned on a SRV of $[1,1,1,2,2]$:"
   ]
  },
  {
   "cell_type": "code",
   "execution_count": null,
   "metadata": {},
   "outputs": [
    {
     "name": "stdout",
     "output_type": "stream",
     "text": [
      "[INFO]: `genQC.models.unet_qc.QC_Cond_UNet` instantiated from given config on cpu.\n",
      "[INFO]: `genQC.models.frozen_open_clip.CachedFrozenOpenCLIPEmbedder` instantiated from given config on cpu.\n",
      "[INFO]: `genQC.models.frozen_open_clip.CachedFrozenOpenCLIPEmbedder`. No save_path` provided. No state dict loaded.\n"
     ]
    }
   ],
   "source": [
    "from genQC.pipeline.diffusion_pipeline import DiffusionPipeline\n",
    "from genQC.inference.infer_srv import generate_srv_tensors, convert_tensors_to_srvs\n",
    "\n",
    "model_path = \"../saves/qc_unet_config_SRV_3to8_qubit/\"\n",
    "pipeline   = DiffusionPipeline.from_config_file(model_path, \"cpu\")  \n",
    "pipeline.scheduler.set_timesteps(20) \n",
    "\n",
    "out_tensor           = generate_srv_tensors(pipeline, \"Generate SRV: [1,1,1,2,2]\", samples=1, system_size=5, num_of_qubits=5, max_gates=16, g=7.5) \n",
    "qc_list, _, svr_list = convert_tensors_to_srvs(out_tensor, pipeline.gate_pool)"
   ]
  },
  {
   "cell_type": "code",
   "execution_count": null,
   "metadata": {},
   "outputs": [
    {
     "name": "stdout",
     "output_type": "stream",
     "text": [
      "is SRV [1, 1, 1, 2, 2]\n"
     ]
    },
    {
     "data": {
      "image/png": "[encoded data removed]",
      "text/plain": [
       "<Figure size 621.941x451.5 with 1 Axes>"
      ]
     },
     "execution_count": null,
     "metadata": {},
     "output_type": "execute_result"
    }
   ],
   "source": [
    "print(f\"is SRV {svr_list[0]}\")\n",
    "qc_list[0].draw(\"mpl\")"
   ]
  },
  {
   "cell_type": "markdown",
   "metadata": {},
   "source": [
    "#### Included examples"
   ]
  },
  {
   "cell_type": "markdown",
   "metadata": {},
   "source": [
    "Examples are provided in the directory `src/examples/`."
   ]
  },
  {
   "cell_type": "markdown",
   "metadata": {},
   "source": [
    "- [0_hello_circuit](examples/0_hello_circuit.ipynb): how to sample a circuit (conditioned on a SRV)\n",
    "- [1_editing_and_masking](examples/1_editing_and_masking.ipynb): presents editing and masking\n",
    "- [2_unitary_compilation](examples/2_unitary_compilation.ipynb): compile unitariy and transpile circuit"
   ]
  },
  {
   "cell_type": "markdown",
   "metadata": {},
   "source": [
    "## Installation:"
   ]
  },
  {
   "cell_type": "markdown",
   "metadata": {},
   "source": [
    "#### 1. Clone"
   ]
  },
  {
   "cell_type": "markdown",
   "metadata": {},
   "source": [
    "```sh\n",
    "git clone https://github.com/FlorianFuerrutter/genQC.git\n",
    "cd genQC\n",
    "```"
   ]
  },
  {
   "cell_type": "markdown",
   "metadata": {},
   "source": [
    "#### 2. Install genQC"
   ]
  },
  {
   "cell_type": "markdown",
   "metadata": {},
   "source": [
    "This library is build using jupyter notebooks and [nbdev](https://github.com/fastai/nbdev). To install the library use in the clone directory:"
   ]
  },
  {
   "cell_type": "markdown",
   "metadata": {},
   "source": [
    "```sh\n",
    "pip install -e .\n",
    "```"
   ]
  },
  {
   "cell_type": "markdown",
   "metadata": {},
   "source": [
    "Note, this will install missing requirements automatically: `[torch numpy matplotlib scipy pandas omegaconf qiskit tqdm joblib open_clip_torch ipywidgets pylatexenc]`. You may want to install some of them manually beforehand, e.g. pytorch for specific cuda support [pytorch.org/get-started/locally](https://pytorch.org/get-started/locally/)."
   ]
  },
  {
   "cell_type": "markdown",
   "metadata": {},
   "source": [
    "#### 3. Run example"
   ]
  },
  {
   "cell_type": "markdown",
   "metadata": {},
   "source": [
    "You can run the provided [0_hello_circuit](examples/0_hello_circuit.ipynb) example to test your installation."
   ]
  },
  {
   "cell_type": "markdown",
   "metadata": {},
   "source": [
    "## License"
   ]
  },
  {
   "cell_type": "markdown",
   "metadata": {},
   "source": [
    "The code and weights in this repository are released under the MIT License."
   ]
  },
  {
   "cell_type": "markdown",
   "metadata": {},
   "source": [
    "## BibTeX"
   ]
  },
  {
   "cell_type": "markdown",
   "metadata": {},
   "source": [
    "We kindly ask you to cite our paper if any of the previous material was useful for your work."
   ]
  },
  {
   "cell_type": "markdown",
   "metadata": {},
   "source": [
    "``` latex\n",
    "@article{fuerrutter2023quantum,\n",
    "      title={Quantum circuit synthesis with diffusion models}, \n",
    "      author={Florian Fürrutter and Gorka Muñoz-Gil and Hans J. Briegel},\n",
    "      year={2023},\n",
    "      eprint={2311.02041},\n",
    "      publisher = {arXiv},\n",
    "      archivePrefix={arXiv},\n",
    "      primaryClass={quant-ph},\n",
    "      url = {https://arxiv.org/abs/2311.02041},\n",
    "      doi = {/10.48550/arXiv.2311.02041},\n",
    "}\n",
    "```"
   ]
  },
  {
   "cell_type": "code",
   "execution_count": null,
   "metadata": {},
   "outputs": [],
   "source": []
  }
 ],
 "metadata": {
  "kernelspec": {
   "display_name": "python3",
   "language": "python",
   "name": "python3"
  }
 },
 "nbformat": 4,
 "nbformat_minor": 4
}
