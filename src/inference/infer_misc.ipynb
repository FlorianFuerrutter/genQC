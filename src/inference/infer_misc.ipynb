{
 "cells": [
  {
   "cell_type": "markdown",
   "id": "a8980c24-d62e-462b-ba89-3195cfdcc374",
   "metadata": {},
   "source": [
    "# Inference miscellaneous functions"
   ]
  },
  {
   "cell_type": "code",
   "execution_count": null,
   "id": "a8832bdd-f61c-44e1-8619-a9cb352ba768",
   "metadata": {},
   "outputs": [],
   "source": [
    "#| default_exp inference.infer_misc"
   ]
  },
  {
   "cell_type": "code",
   "execution_count": null,
   "id": "06272f6f-b4e3-4504-a90a-feebbf6ad821",
   "metadata": {},
   "outputs": [],
   "source": [
    "#| export\n",
    "from genQC.imports import *\n",
    "from genQC.platform.qcircuit_dataset_construction import decode_circuit, gate_pool_to_gate_classes"
   ]
  },
  {
   "cell_type": "markdown",
   "id": "d968941a-c24b-4e2e-bcce-edf497476aa0",
   "metadata": {},
   "source": [
    "## Misc"
   ]
  },
  {
   "cell_type": "code",
   "execution_count": null,
   "id": "a9b6311a-916c-48e9-8f94-7f612884c643",
   "metadata": {},
   "outputs": [],
   "source": [
    "#| export\n",
    "def get_rnd_gatepool_subset(gate_pool, min_sub_gate_pool_cnt=2):\n",
    "    rng = np.random.default_rng()\n",
    "    \n",
    "    n       = len(gate_pool) + 1\n",
    "    c_range = np.arange(n-1)\n",
    "    \n",
    "    sub_gate_pool_cnt = rng.integers(min_sub_gate_pool_cnt, n)       \n",
    "    sub_gate_pool_ind = rng.choice(c_range, size=sub_gate_pool_cnt, replace=False)         \n",
    "    sub_gate_pool     = [gate_pool[ind] for ind in sub_gate_pool_ind]  # pick random subeset of gates\n",
    "        \n",
    "    return sub_gate_pool"
   ]
  },
  {
   "cell_type": "markdown",
   "id": "ecb1da3e-e9cc-420e-9a05-39d6c033b371",
   "metadata": {},
   "source": [
    "## Convertion"
   ]
  },
  {
   "cell_type": "code",
   "execution_count": null,
   "id": "e0e50913-ebc3-43c4-a5b6-f8e75cb776cc",
   "metadata": {},
   "outputs": [],
   "source": [
    "#| export\n",
    "def convert_tensors_to_circuits(out_tensor, gate_pool, params_tensor=None, place_barrier=False): \n",
    "    error_cnt = 0\n",
    "    qc_list   = []\n",
    "\n",
    "    if not exists(params_tensor):\n",
    "        params_tensor = [None]*out_tensor.shape[0]\n",
    "    \n",
    "    #TODO: para this loop\n",
    "   \n",
    "    for i,(enc_tensor,p) in enumerate(zip(out_tensor, params_tensor)):   \n",
    "        try:\n",
    "            qc = decode_circuit(enc_tensor=enc_tensor, gate_pool=gate_pool, place_barrier=place_barrier, params_tensor=p)\n",
    "\n",
    "        except Exception as e:\n",
    "            error_cnt += 1\n",
    "            # print(e)\n",
    "            continue\n",
    "                 \n",
    "        qc_list.append(qc)  \n",
    "  \n",
    "    return qc_list, error_cnt"
   ]
  },
  {
   "cell_type": "markdown",
   "id": "f41f26a8-ac40-4e91-8c0e-1ef07a0fd4f4",
   "metadata": {},
   "source": [
    "# Export -"
   ]
  },
  {
   "cell_type": "code",
   "execution_count": null,
   "id": "a0474216-8e0c-4ba7-9a37-571ac7d8e82c",
   "metadata": {},
   "outputs": [],
   "source": [
    "#| hide\n",
    "import nbdev; nbdev.nbdev_export()"
   ]
  }
 ],
 "metadata": {
  "kernelspec": {
   "display_name": "python3",
   "language": "python",
   "name": "python3"
  },
  "widgets": {
   "application/vnd.jupyter.widget-state+json": {
    "state": {},
    "version_major": 2,
    "version_minor": 0
   }
  }
 },
 "nbformat": 4,
 "nbformat_minor": 5
}
