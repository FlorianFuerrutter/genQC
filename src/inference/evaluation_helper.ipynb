{
 "cells": [
  {
   "cell_type": "markdown",
   "id": "e65be610-fea3-4579-b325-80c39c7edd8d",
   "metadata": {},
   "source": [
    "# Evaluation helper\n",
    "\n",
    "> Handy helper functions for model evaluations."
   ]
  },
  {
   "cell_type": "code",
   "execution_count": null,
   "id": "b82820c7-3649-4559-9e1f-04fe3e390ebc",
   "metadata": {},
   "outputs": [],
   "source": [
    "#| default_exp inference.evaluation_helper"
   ]
  },
  {
   "cell_type": "code",
   "execution_count": null,
   "id": "68f0714b-e45a-46d8-aa05-d6735d4d0e33",
   "metadata": {},
   "outputs": [],
   "source": [
    "#| export\n",
    "from genQC.imports import *\n",
    "from genQC.utils.async_fn import run_parallel_jobs\n",
    "from genQC.platform.simulation import Simulator "
   ]
  },
  {
   "cell_type": "markdown",
   "id": "338cf491-3528-440e-9079-d4388efaa448",
   "metadata": {},
   "source": [
    "# SRV helper"
   ]
  },
  {
   "cell_type": "code",
   "execution_count": null,
   "id": "f265206e-7f08-4d74-955b-25eb644adc22",
   "metadata": {},
   "outputs": [],
   "source": [
    "#| export\n",
    "def get_srvs(simulator: Simulator, backend_obj_list: Sequence, n_jobs: int = 1, **kwargs): \n",
    "    \"\"\"Returns SRVs of a given list of backen objects `backend_obj_list`.\"\"\"\n",
    "    def _f(backend_obj):\n",
    "        return simulator.backend.schmidt_rank_vector(backend_obj, **kwargs)\n",
    "        \n",
    "    return run_parallel_jobs(_f, backend_obj_list, n_jobs)"
   ]
  },
  {
   "cell_type": "markdown",
   "id": "ab5d451d-20de-465d-b47e-174e89e3e4de",
   "metadata": {},
   "source": [
    "## Compilation helper"
   ]
  },
  {
   "cell_type": "code",
   "execution_count": null,
   "id": "4cf36492-a8c9-437c-850d-09148fe39eeb",
   "metadata": {},
   "outputs": [],
   "source": [
    "#| export\n",
    "def get_unitaries(simulator: Simulator, backend_obj_list: Sequence, n_jobs: int = 1, **kwargs):\n",
    "    \"\"\"Returns unitaries of a given list of backen objects `backend_obj_list`.\"\"\"\n",
    "    def _f(backend_obj):\n",
    "        return simulator.backend.get_unitary(backend_obj, **kwargs)\n",
    "        \n",
    "    return run_parallel_jobs(_f, backend_obj_list, n_jobs)"
   ]
  },
  {
   "cell_type": "markdown",
   "id": "227082e1-29c8-4340-a1a3-2e4071e31604",
   "metadata": {},
   "source": [
    "# Export -"
   ]
  },
  {
   "cell_type": "code",
   "execution_count": null,
   "id": "298aa915-8684-49c0-843e-101a5d84dc20",
   "metadata": {},
   "outputs": [],
   "source": [
    "#| hide\n",
    "import nbdev; nbdev.nbdev_export()"
   ]
  }
 ],
 "metadata": {
  "kernelspec": {
   "display_name": "python3",
   "language": "python",
   "name": "python3"
  },
  "widgets": {
   "application/vnd.jupyter.widget-state+json": {
    "state": {},
    "version_major": 2,
    "version_minor": 0
   }
  }
 },
 "nbformat": 4,
 "nbformat_minor": 5
}
