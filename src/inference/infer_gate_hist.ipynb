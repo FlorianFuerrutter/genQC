{
 "cells": [
  {
   "cell_type": "markdown",
   "id": "a8980c24-d62e-462b-ba89-3195cfdcc374",
   "metadata": {},
   "source": [
    "# Inference gate distribution"
   ]
  },
  {
   "cell_type": "code",
   "execution_count": null,
   "id": "a8832bdd-f61c-44e1-8619-a9cb352ba768",
   "metadata": {},
   "outputs": [],
   "source": [
    "#| default_exp inference.infer_gate_hist"
   ]
  },
  {
   "cell_type": "code",
   "execution_count": null,
   "id": "06272f6f-b4e3-4504-a90a-feebbf6ad821",
   "metadata": {},
   "outputs": [],
   "source": [
    "#| export\n",
    "from genQC.imports import *"
   ]
  },
  {
   "cell_type": "markdown",
   "id": "d968941a-c24b-4e2e-bcce-edf497476aa0",
   "metadata": {},
   "source": [
    "## Gate length"
   ]
  },
  {
   "cell_type": "code",
   "execution_count": null,
   "id": "4990eae0-c931-4b6a-b540-82c77c26c992",
   "metadata": {},
   "outputs": [],
   "source": [
    "#| export\n",
    "def get_tensor_gate_length(clr_tensor, padding_token=0):\n",
    "    '''Careful with padding tokens!'''\n",
    "    assert clr_tensor.dim() == 3 #[b, s, t]\n",
    "    \n",
    "    collabsed_clr_tensor = (clr_tensor != padding_token).to(torch.int8)\n",
    "    red_clr_tensor = torch.sum(collabsed_clr_tensor, dim=1)  # [b, t]\n",
    "    return torch.count_nonzero(red_clr_tensor, dim=1)    # [b]"
   ]
  },
  {
   "cell_type": "code",
   "execution_count": null,
   "id": "2b55214a-6f4d-41f0-a61f-beddcf037411",
   "metadata": {},
   "outputs": [],
   "source": [
    "#| export\n",
    "def get_circuit_gate_length(qcs): \n",
    "    lengths = torch.zeros(len(qcs), dtype=int)    \n",
    "    for i,qc in enumerate(qcs):         \n",
    "        if hasattr(qc, \"data\"):   \n",
    "            lengths[i] = len(qc.data) \n",
    "    return lengths"
   ]
  },
  {
   "cell_type": "markdown",
   "id": "f41f26a8-ac40-4e91-8c0e-1ef07a0fd4f4",
   "metadata": {},
   "source": [
    "# Export -"
   ]
  },
  {
   "cell_type": "code",
   "execution_count": null,
   "id": "a0474216-8e0c-4ba7-9a37-571ac7d8e82c",
   "metadata": {},
   "outputs": [],
   "source": [
    "#| hide\n",
    "import nbdev; nbdev.nbdev_export()"
   ]
  }
 ],
 "metadata": {
  "kernelspec": {
   "display_name": "python3",
   "language": "python",
   "name": "python3"
  }
 },
 "nbformat": 4,
 "nbformat_minor": 5
}
