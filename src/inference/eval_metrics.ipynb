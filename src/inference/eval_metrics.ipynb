{
 "cells": [
  {
   "cell_type": "markdown",
   "id": "a8980c24-d62e-462b-ba89-3195cfdcc374",
   "metadata": {},
   "source": [
    "# Evaluation metrics\n",
    "\n",
    "> Different metrics used for evaluation."
   ]
  },
  {
   "cell_type": "code",
   "execution_count": null,
   "id": "a8832bdd-f61c-44e1-8619-a9cb352ba768",
   "metadata": {},
   "outputs": [],
   "source": [
    "#| default_exp inference.eval_metrics"
   ]
  },
  {
   "cell_type": "code",
   "execution_count": null,
   "id": "06272f6f-b4e3-4504-a90a-feebbf6ad821",
   "metadata": {},
   "outputs": [],
   "source": [
    "#| export\n",
    "from genQC.imports import *\n",
    "from scipy.stats import unitary_group"
   ]
  },
  {
   "cell_type": "markdown",
   "id": "27afa544-b435-4ad2-9897-d731ccfc100d",
   "metadata": {},
   "source": [
    "## Base norm"
   ]
  },
  {
   "cell_type": "code",
   "execution_count": null,
   "id": "ccbc4adc-098b-415a-98c8-8b80a0697d34",
   "metadata": {},
   "outputs": [],
   "source": [
    "#| export\n",
    "class BaseNorm(abc.ABC): \n",
    "    \"\"\"Base class for norms.\"\"\"\n",
    "    \n",
    "    @staticmethod\n",
    "    @abc.abstractmethod\n",
    "    def distance(approx_U: torch.Tensor, target_U: torch.Tensor) -> torch.Tensor: raise NotImplementedError()\n",
    "    \n",
    "    @staticmethod\n",
    "    @abc.abstractmethod\n",
    "    def name() -> str: raise NotImplementedError()"
   ]
  },
  {
   "cell_type": "markdown",
   "id": "c19c4594-4749-4e91-bfc5-27cf95508de0",
   "metadata": {},
   "source": [
    "## Unitary distances"
   ]
  },
  {
   "cell_type": "code",
   "execution_count": null,
   "id": "1b178cbc-d116-49c9-862d-16f646daa39b",
   "metadata": {},
   "outputs": [],
   "source": [
    "#| export\n",
    "class UnitaryFrobeniusNorm(BaseNorm):\n",
    "    \"\"\"\n",
    "    The Frobenius-Norm for unitaries: defined in https://arxiv.org/pdf/2106.05649.pdf.\n",
    "    \"\"\"\n",
    "\n",
    "    def __call__(self, approx_U: torch.Tensor, target_U: torch.Tensor) -> torch.Tensor:        \n",
    "        return Unitary_FrobeniusNorm.distance(approx_U, target_U)\n",
    "    \n",
    "    @staticmethod\n",
    "    def distance(approx_U: torch.Tensor, target_U: torch.Tensor) -> torch.Tensor:\n",
    "        d = 0.5 * torch.linalg.matrix_norm((approx_U-target_U), ord=\"fro\")**2\n",
    "        return d\n",
    "        \n",
    "    @staticmethod\n",
    "    def name() -> str: return \"Frobenius-Norm\""
   ]
  },
  {
   "cell_type": "code",
   "execution_count": null,
   "id": "90080d81-c872-4da3-9f81-31c8908c1056",
   "metadata": {},
   "outputs": [],
   "source": [
    "#| export\n",
    "class UnitaryInfidelityNorm(BaseNorm):\n",
    "    \"\"\"\n",
    "    The Infidelity-Norm for unitaries: defined in https://link.aps.org/accepted/10.1103/PhysRevA.95.042318, TABLE I: 1.\n",
    "    \"\"\"\n",
    "\n",
    "    def __call__(self, approx_U: torch.Tensor, target_U: torch.Tensor) -> torch.Tensor:        \n",
    "        return Unitary_infidelity.distance(approx_U, target_U)\n",
    "    \n",
    "    @staticmethod\n",
    "    def distance(approx_U: torch.Tensor, target_U: torch.Tensor) -> torch.Tensor: \n",
    "        \"\"\"Supports batched intputs, can be used as loss. Input shapes [b, n, n] or [n, n].\"\"\"\n",
    "        d = torch.matmul(torch.transpose(target_U, -2, -1).conj(), approx_U) # out [b, n, n] or [n, n]\n",
    "        d = torch.diagonal(d, offset=0, dim1=-2, dim2=-1).sum(-1)  # do partial (batched) trace, out [b, n] or [n]      \n",
    "        d = 1.0 - (d / target_U.shape[-1]).abs().square()\n",
    "        return d\n",
    "        \n",
    "    @staticmethod\n",
    "    def name() -> str: return \"Unitary-Infidelity\""
   ]
  },
  {
   "cell_type": "markdown",
   "id": "121c092a-e560-4ef0-9831-84344661137f",
   "metadata": {},
   "source": [
    "Test the metrics on random unitaries:"
   ]
  },
  {
   "cell_type": "code",
   "execution_count": null,
   "id": "48c7c0a8-9a2b-4ce9-a1f7-547ce74ddee9",
   "metadata": {},
   "outputs": [],
   "source": [
    "approx_U = torch.tensor(unitary_group.rvs(8))\n",
    "target_U = torch.tensor(unitary_group.rvs(8))"
   ]
  },
  {
   "cell_type": "code",
   "execution_count": null,
   "id": "a0f84359-e366-432e-b83d-926c9816b564",
   "metadata": {},
   "outputs": [
    {
     "name": "stdout",
     "output_type": "stream",
     "text": [
      "Frobenius-Norm\n"
     ]
    },
    {
     "data": {
      "text/plain": [
       "(tensor(0., dtype=torch.float64), tensor(8.5523, dtype=torch.float64))"
      ]
     },
     "execution_count": null,
     "metadata": {},
     "output_type": "execute_result"
    }
   ],
   "source": [
    "print(UnitaryFrobeniusNorm.name())\n",
    "UnitaryFrobeniusNorm.distance(target_U, target_U), UnitaryFrobeniusNorm.distance(approx_U, target_U)"
   ]
  },
  {
   "cell_type": "code",
   "execution_count": null,
   "id": "c019a5ce-b3f2-4af9-9228-613447c8f3f3",
   "metadata": {},
   "outputs": [
    {
     "name": "stdout",
     "output_type": "stream",
     "text": [
      "Unitary-Infidelity\n"
     ]
    },
    {
     "data": {
      "text/plain": [
       "(tensor(4.4409e-16, dtype=torch.float64), tensor(0.9895, dtype=torch.float64))"
      ]
     },
     "execution_count": null,
     "metadata": {},
     "output_type": "execute_result"
    }
   ],
   "source": [
    "print(UnitaryInfidelityNorm.name())\n",
    "UnitaryInfidelityNorm.distance(target_U, target_U), UnitaryInfidelityNorm.distance(approx_U, target_U)"
   ]
  },
  {
   "cell_type": "markdown",
   "id": "f41f26a8-ac40-4e91-8c0e-1ef07a0fd4f4",
   "metadata": {},
   "source": [
    "# Export -"
   ]
  },
  {
   "cell_type": "code",
   "execution_count": null,
   "id": "a0474216-8e0c-4ba7-9a37-571ac7d8e82c",
   "metadata": {},
   "outputs": [],
   "source": [
    "#| hide\n",
    "import nbdev; nbdev.nbdev_export()"
   ]
  }
 ],
 "metadata": {
  "kernelspec": {
   "display_name": "python3",
   "language": "python",
   "name": "python3"
  },
  "widgets": {
   "application/vnd.jupyter.widget-state+json": {
    "state": {},
    "version_major": 2,
    "version_minor": 0
   }
  }
 },
 "nbformat": 4,
 "nbformat_minor": 5
}
