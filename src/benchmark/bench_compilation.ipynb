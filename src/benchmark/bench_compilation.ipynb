{
 "cells": [
  {
   "cell_type": "markdown",
   "id": "77b00dc5-b55a-4d1c-a364-b4226779b409",
   "metadata": {},
   "source": [
    "# Compilation benchmark\n",
    "\n",
    "> Functions to test and benchmark unitary compilation."
   ]
  },
  {
   "cell_type": "code",
   "execution_count": null,
   "id": "a36b0d5a-5131-439c-82f5-bc551ecb24e1",
   "metadata": {},
   "outputs": [],
   "source": [
    "#| default_exp benchmark.bench_compilation"
   ]
  },
  {
   "cell_type": "code",
   "execution_count": null,
   "id": "a593dee3-594e-4760-a02d-db5559f5f25f",
   "metadata": {},
   "outputs": [],
   "source": [
    "#| export\n",
    "from genQC.imports import *"
   ]
  },
  {
   "cell_type": "markdown",
   "id": "7f7792a9-71d4-4443-93db-8b6361a42d76",
   "metadata": {},
   "source": [
    "## Special unitaries"
   ]
  },
  {
   "cell_type": "markdown",
   "id": "584cfa35-3391-4d21-a130-773b8f701d86",
   "metadata": {},
   "source": [
    "#### Quantum Fourier transform\n",
    "\n",
    "$$\n",
    "\\begin{equation}\n",
    "   \\mathrm{QFT}: |x\\rangle \\mapsto \\frac{1}{\\sqrt{N}} \\sum_{k=0}^{N-1}  \\omega_N^{xk}\\;|k\\rangle,\n",
    "\\end{equation}\n",
    "$$\n",
    "where\n",
    "$$\n",
    "\\begin{equation}\n",
    "    \\omega_N=\\exp{\\frac{2\\pi i}{N}} \\quad\\text{and}\\quad N=2^{\\text{qubits}}.\n",
    "\\end{equation}\n",
    "$$"
   ]
  },
  {
   "cell_type": "code",
   "execution_count": null,
   "id": "e9337291-4d9e-4524-8fe8-9d198a2abb24",
   "metadata": {},
   "outputs": [],
   "source": [
    "#| export\n",
    "class SpecialUnitaries:\n",
    "    \"\"\"Special unitary matrices to benchmark compilation.\"\"\"\n",
    "    \n",
    "    @staticmethod\n",
    "    def QFT(num_qubits: int) -> torch.Tensor:\n",
    "        \"\"\"The Quantum Fourier transform (QFT) unitary for `num_qubits`-qubits.\"\"\"\n",
    "        \n",
    "        N  = 2**num_qubits\n",
    "        wN = np.exp(2.0j*np.pi/N)\n",
    "\n",
    "        U = torch.zeros((N, N), dtype=torch.complex128)      \n",
    "        for x in range(N):\n",
    "            U[:, x] = torch.tensor([np.power(wN, x*k, dtype=complex) for k in range(N)])\n",
    "\n",
    "        U *= 1.0/np.sqrt(N)   \n",
    "        return U"
   ]
  },
  {
   "cell_type": "code",
   "execution_count": null,
   "id": "0b263212-b4e5-4d66-b2dd-d0eb44b4ec91",
   "metadata": {},
   "outputs": [],
   "source": [
    "# test QFT for N=4\n",
    "QFT_2_qubits = 0.5 * torch.tensor([[1,  1,   1,  1],\n",
    "                                   [1,  1j, -1, -1j],\n",
    "                                   [1, -1,   1, -1],\n",
    "                                   [1, -1j, -1,  1j]], dtype=torch.complex128)\n",
    "\n",
    "assert torch.allclose(SpecialUnitaries.QFT(num_qubits=2), QFT_2_qubits)"
   ]
  },
  {
   "cell_type": "code",
   "execution_count": null,
   "id": "7420fa00-b96b-4ed9-b465-ee8015abf665",
   "metadata": {},
   "outputs": [
    {
     "data": {
      "text/plain": [
       "tensor([[ 0.3540+0.0000j,  0.3540+0.0000j,  0.3540+0.0000j,  0.3540+0.0000j,  0.3540+0.0000j,  0.3540+0.0000j,  0.3540+0.0000j,  0.3540+0.0000j],\n",
       "        [ 0.3540+0.0000j,  0.2500+0.2500j,  0.0000+0.3540j, -0.2500+0.2500j, -0.3540+0.0000j, -0.2500-0.2500j,  0.0000-0.3540j,  0.2500-0.2500j],\n",
       "        [ 0.3540+0.0000j,  0.0000+0.3540j, -0.3540+0.0000j,  0.0000-0.3540j,  0.3540+0.0000j,  0.0000+0.3540j, -0.3540+0.0000j,  0.0000-0.3540j],\n",
       "        [ 0.3540+0.0000j, -0.2500+0.2500j,  0.0000-0.3540j,  0.2500+0.2500j, -0.3540+0.0000j,  0.2500-0.2500j,  0.0000+0.3540j, -0.2500-0.2500j],\n",
       "        [ 0.3540+0.0000j, -0.3540+0.0000j,  0.3540+0.0000j, -0.3540+0.0000j,  0.3540+0.0000j, -0.3540+0.0000j,  0.3540+0.0000j, -0.3540+0.0000j],\n",
       "        [ 0.3540+0.0000j, -0.2500-0.2500j,  0.0000+0.3540j,  0.2500-0.2500j, -0.3540+0.0000j,  0.2500+0.2500j,  0.0000-0.3540j, -0.2500+0.2500j],\n",
       "        [ 0.3540+0.0000j,  0.0000-0.3540j, -0.3540+0.0000j,  0.0000+0.3540j,  0.3540+0.0000j,  0.0000-0.3540j, -0.3540+0.0000j,  0.0000+0.3540j],\n",
       "        [ 0.3540+0.0000j,  0.2500-0.2500j,  0.0000-0.3540j, -0.2500-0.2500j, -0.3540+0.0000j, -0.2500+0.2500j,  0.0000+0.3540j,  0.2500+0.2500j]], dtype=torch.complex128)"
      ]
     },
     "execution_count": null,
     "metadata": {},
     "output_type": "execute_result"
    }
   ],
   "source": [
    "np.round(SpecialUnitaries.QFT(3), 3)"
   ]
  },
  {
   "cell_type": "markdown",
   "id": "acdc565a-f01b-4e1e-8cc7-ffba730f46b2",
   "metadata": {},
   "source": [
    "## Hamiltonian evolutions"
   ]
  },
  {
   "cell_type": "code",
   "execution_count": null,
   "id": "86c32afa-32ad-4a52-9aa6-144d8f76f1f2",
   "metadata": {},
   "outputs": [],
   "source": [
    "#| export\n",
    "sigma_x = torch.tensor([[0, 1],\n",
    "                        [1, 0]],\n",
    "                       dtype=torch.complex128)\n",
    "\n",
    "sigma_y = torch.tensor([[ 0, -1j],\n",
    "                        [1j,   0]],\n",
    "                       dtype=torch.complex128)\n",
    "\n",
    "sigma_z = torch.tensor([[1,  0],\n",
    "                        [0, -1]],\n",
    "                       dtype=torch.complex128)"
   ]
  },
  {
   "cell_type": "code",
   "execution_count": null,
   "id": "c9c7d034-6310-4f42-a626-686880060cd1",
   "metadata": {},
   "outputs": [],
   "source": [
    "assert torch.allclose(sigma_x@sigma_x, torch.eye(2, dtype=torch.complex128))\n",
    "assert torch.allclose(sigma_y@sigma_y, torch.eye(2, dtype=torch.complex128))\n",
    "assert torch.allclose(sigma_z@sigma_z, torch.eye(2, dtype=torch.complex128))"
   ]
  },
  {
   "cell_type": "code",
   "execution_count": null,
   "id": "485317ad-e46c-4652-bd2b-89c0c03afea2",
   "metadata": {},
   "outputs": [],
   "source": [
    "#| export\n",
    "def qubit_tensor_product(num_qubits: int, *ops: torch.Tensor, pos: int | Sequence[int]) -> torch.Tensor:\n",
    "    \"\"\"\n",
    "    Make tensor product with identities, assumes `ops` placed at `pos` in the tensor product ordering.\n",
    "    \"\"\"\n",
    "\n",
    "    _ops = [torch.eye(2) for i in range(num_qubits)]\n",
    "\n",
    "    if isinstance(pos, int):\n",
    "        pos = [pos]\n",
    "    elif isinstance(pos, Sequence):\n",
    "        assert len(pos) == len(ops)\n",
    "    else:\n",
    "        raise NotImplementedError()\n",
    "\n",
    "    for pos_i, ops_i in zip(pos, ops):\n",
    "        _ops[pos_i] = ops_i\n",
    "        \n",
    "    mat = _ops[0]\n",
    "    for op in _ops[1:]:\n",
    "        mat = torch.kron(mat, op)\n",
    "\n",
    "    return mat"
   ]
  },
  {
   "cell_type": "markdown",
   "id": "f5bddb3e-39fc-496f-9cdc-6cc1423c0b49",
   "metadata": {},
   "source": [
    "$\\sigma_x \\otimes I$:"
   ]
  },
  {
   "cell_type": "code",
   "execution_count": null,
   "id": "26bf121b-5a83-4ef3-b222-3ffe79dc4fea",
   "metadata": {},
   "outputs": [
    {
     "data": {
      "text/plain": [
       "tensor([[0.+0.j, 0.+0.j, 1.+0.j, 0.+0.j],\n",
       "        [0.+0.j, 0.+0.j, 0.+0.j, 1.+0.j],\n",
       "        [1.+0.j, 0.+0.j, 0.+0.j, 0.+0.j],\n",
       "        [0.+0.j, 1.+0.j, 0.+0.j, 0.+0.j]], dtype=torch.complex128)"
      ]
     },
     "execution_count": null,
     "metadata": {},
     "output_type": "execute_result"
    }
   ],
   "source": [
    "qubit_tensor_product(2, sigma_x, pos=0)"
   ]
  },
  {
   "cell_type": "markdown",
   "id": "2f43cbd2-e966-46cc-99f5-8f36af63636f",
   "metadata": {},
   "source": [
    "$I \\otimes \\sigma_x$:"
   ]
  },
  {
   "cell_type": "code",
   "execution_count": null,
   "id": "a467fa4e-182f-47df-a4e5-50d98ff98e81",
   "metadata": {},
   "outputs": [
    {
     "data": {
      "text/plain": [
       "tensor([[0.+0.j, 1.+0.j, 0.+0.j, 0.+0.j],\n",
       "        [1.+0.j, 0.+0.j, 0.+0.j, 0.+0.j],\n",
       "        [0.+0.j, 0.+0.j, 0.+0.j, 1.+0.j],\n",
       "        [0.+0.j, 0.+0.j, 1.+0.j, 0.+0.j]], dtype=torch.complex128)"
      ]
     },
     "execution_count": null,
     "metadata": {},
     "output_type": "execute_result"
    }
   ],
   "source": [
    "qubit_tensor_product(2, sigma_x, pos=-1)"
   ]
  },
  {
   "cell_type": "markdown",
   "id": "ae425eac-ae09-4658-8e45-eaf370f6e7ed",
   "metadata": {},
   "source": [
    "$\\sigma_z \\otimes \\sigma_z$:"
   ]
  },
  {
   "cell_type": "code",
   "execution_count": null,
   "id": "c716c26d-86d2-42fd-9414-b5ef833cd000",
   "metadata": {},
   "outputs": [
    {
     "data": {
      "text/plain": [
       "tensor([[ 1.+0.j,  0.+0.j,  0.+0.j,  0.+0.j],\n",
       "        [ 0.+0.j, -1.+0.j,  0.+0.j, -0.+0.j],\n",
       "        [ 0.+0.j,  0.+0.j, -1.+0.j, -0.+0.j],\n",
       "        [ 0.+0.j, -0.+0.j, -0.+0.j,  1.-0.j]], dtype=torch.complex128)"
      ]
     },
     "execution_count": null,
     "metadata": {},
     "output_type": "execute_result"
    }
   ],
   "source": [
    "qubit_tensor_product(2, sigma_z, sigma_z, pos=[0, 1])"
   ]
  },
  {
   "cell_type": "markdown",
   "id": "e7f9d723-3105-47b5-8a6a-0ee492061e21",
   "metadata": {},
   "source": [
    "#### Base Hamiltonian"
   ]
  },
  {
   "cell_type": "code",
   "execution_count": null,
   "id": "ecb265cc-521a-44fd-bf8d-c97b46938932",
   "metadata": {},
   "outputs": [],
   "source": [
    "#| export\n",
    "class BaseHamiltonian(abc.ABC):\n",
    "    \"\"\"Base implementation of a Hamiltonian.\"\"\"\n",
    "\n",
    "    def __init__(self, device: Optional[str | torch.device] = None) -> None:\n",
    "        self.device = default(device, \"cpu\")\n",
    "        self._generate_matrix()\n",
    "        \n",
    "        if not torch.allclose(self.data.adjoint(), self.data):\n",
    "            raise RuntimeError(\"Generated Hamiltonian matrix is not self-adjoint!\")\n",
    "    \n",
    "    @abc.abstractmethod\n",
    "    def _generate_matrix(self) -> torch.Tensor:\n",
    "        \"\"\"Generates the Hamiltonian matrix into `self.data`.\"\"\"\n",
    "        raise NotImplementedError()\n",
    "\n",
    "    def get_evolution(self, t: float | torch.Tensor, split_complex_channel: bool = False, dtype: Optional[torch.dtype] = None) -> torch.Tensor:\n",
    "        \"\"\"\n",
    "        Assuming `h_bar=1`. Returns the unitary evolution in marix form.\n",
    "        \"\"\"\n",
    "        U = torch.linalg.matrix_exp(-1j * t * self.data)\n",
    "\n",
    "        if split_complex_channel:\n",
    "            U = torch.stack([torch.real(U), torch.imag(U)])\n",
    "\n",
    "        if exists(dtype):\n",
    "            U = U.to(dtype)\n",
    "        \n",
    "        return U"
   ]
  },
  {
   "cell_type": "markdown",
   "id": "5135f0f1-c46d-4ba7-b27c-d665e5df66d7",
   "metadata": {},
   "source": [
    "#### Ising Hamiltonian\n",
    "\n",
    "Defined as\n",
    "$$\n",
    "H = -J \\sum_{\\langle i, j \\rangle} \\sigma_i^z \\sigma_j^z - h \\sum_i \\sigma_i^x,\n",
    "$$\n",
    "where $J$ is the coupling constant and $h$ a magnetic field."
   ]
  },
  {
   "cell_type": "code",
   "execution_count": null,
   "id": "8e1da512-6e2f-4eb4-aade-5cb822b6e6f9",
   "metadata": {},
   "outputs": [],
   "source": [
    "#| export\n",
    "class IsingHamiltonian(BaseHamiltonian):\n",
    "    \"\"\"Implementation of the Ising Hamiltonian on a qubit chain.\"\"\"\n",
    "    \n",
    "    def __init__(self, \n",
    "                 h: float, \n",
    "                 J: float, \n",
    "                 num_qubits: int, \n",
    "                 periodic_boundary: bool = True,\n",
    "                 device: Optional[str | torch.device] = None) -> None:\n",
    "        \"\"\"\n",
    "        h:     Magnetic field \n",
    "        J:     Coupling constant \n",
    "        \"\"\"\n",
    "        self.h = h\n",
    "        self.J = J      \n",
    "        self.num_qubits = num_qubits\n",
    "        self.periodic_boundary = periodic_boundary\n",
    "        super().__init__(device)\n",
    "        \n",
    "    def _generate_matrix(self) -> torch.Tensor:\n",
    "        \"\"\"\n",
    "        Note:  We take big endian convention in placing the `i,j`-sigmas in tensor product ordering.\n",
    "               For little endian we need to use `pos = self.num_qubits-i`.\n",
    "        \"\"\"\n",
    "        \n",
    "        N   = 2**self.num_qubits\n",
    "        ham = torch.zeros((N, N), dtype=torch.complex128)\n",
    "\n",
    "        pairs = [(i, i+1) for i in range(self.num_qubits-1)]\n",
    "        \n",
    "        if self.periodic_boundary:\n",
    "            pairs.append((self.num_qubits-1, 0))\n",
    "\n",
    "        for (i, j) in pairs:\n",
    "            Z_term = qubit_tensor_product(self.num_qubits, sigma_z, sigma_z, pos=[i, j])\n",
    "\n",
    "            # Coupling + Perturbation\n",
    "            ham += -self.J * Z_term\n",
    "\n",
    "        # Magnetic\n",
    "        for i in range(self.num_qubits):\n",
    "            ham += -self.h * qubit_tensor_product(self.num_qubits, sigma_x, pos=i)\n",
    "\n",
    "        self.data = ham.to(self.device)"
   ]
  },
  {
   "cell_type": "code",
   "execution_count": null,
   "id": "77a808ae-11db-448e-b52b-bd83f0299c12",
   "metadata": {},
   "outputs": [
    {
     "data": {
      "text/plain": [
       "tensor([[-2.+0.j,  0.+0.j,  0.+0.j,  0.+0.j],\n",
       "        [ 0.+0.j,  2.+0.j,  0.+0.j,  0.+0.j],\n",
       "        [ 0.+0.j,  0.+0.j,  2.+0.j,  0.+0.j],\n",
       "        [ 0.+0.j,  0.+0.j,  0.+0.j, -2.+0.j]], dtype=torch.complex128)"
      ]
     },
     "execution_count": null,
     "metadata": {},
     "output_type": "execute_result"
    }
   ],
   "source": [
    "hamiltonian = IsingHamiltonian(h=0, J=1, num_qubits=2)\n",
    "hamiltonian.data"
   ]
  },
  {
   "cell_type": "markdown",
   "id": "23dbc4f0-e61f-46f0-9624-eb8e60c2a59e",
   "metadata": {},
   "source": [
    "Eigenvalues of this Hamiltonian:"
   ]
  },
  {
   "cell_type": "code",
   "execution_count": null,
   "id": "1cd6ff54-0f31-44a1-bbfa-d5753b1a8c55",
   "metadata": {},
   "outputs": [
    {
     "data": {
      "text/plain": [
       "tensor([-2., -2.,  2.,  2.], dtype=torch.float64)"
      ]
     },
     "execution_count": null,
     "metadata": {},
     "output_type": "execute_result"
    }
   ],
   "source": [
    "torch.linalg.eigvalsh(hamiltonian.data)"
   ]
  },
  {
   "cell_type": "code",
   "execution_count": null,
   "id": "dd201def-ba78-4262-b733-3484a0d916f6",
   "metadata": {},
   "outputs": [
    {
     "data": {
      "text/plain": [
       "tensor([[1.+0.j, 0.+0.j, 0.+0.j, 0.+0.j],\n",
       "        [0.+0.j, 0.+0.j, 0.+0.j, 1.+0.j],\n",
       "        [0.+0.j, 0.+0.j, 1.+0.j, 0.+0.j],\n",
       "        [0.+0.j, 1.+0.j, 0.+0.j, 0.+0.j]], dtype=torch.complex128)"
      ]
     },
     "execution_count": null,
     "metadata": {},
     "output_type": "execute_result"
    }
   ],
   "source": [
    "e, v = torch.linalg.eigh(hamiltonian.data)\n",
    "v"
   ]
  },
  {
   "cell_type": "markdown",
   "id": "6935b595-89f5-4734-a80f-44d0342c33a1",
   "metadata": {},
   "source": [
    "And the evolution unitary is:"
   ]
  },
  {
   "cell_type": "code",
   "execution_count": null,
   "id": "715e07a0-f2bd-41ed-9d53-7bf370eebb9c",
   "metadata": {},
   "outputs": [
    {
     "data": {
      "text/plain": [
       "tensor([[0.5000+0.8660j, 0.0000+0.0000j, 0.0000+0.0000j, 0.0000+0.0000j],\n",
       "        [0.0000+0.0000j, 0.5000-0.8660j, 0.0000+0.0000j, 0.0000+0.0000j],\n",
       "        [0.0000+0.0000j, 0.0000+0.0000j, 0.5000-0.8660j, 0.0000+0.0000j],\n",
       "        [0.0000+0.0000j, 0.0000+0.0000j, 0.0000+0.0000j, 0.5000+0.8660j]], dtype=torch.complex128)"
      ]
     },
     "execution_count": null,
     "metadata": {},
     "output_type": "execute_result"
    }
   ],
   "source": [
    "hamiltonian.get_evolution(t=np.pi/6)"
   ]
  },
  {
   "cell_type": "markdown",
   "id": "3b01a2f2-14fc-453a-9076-8442b7a51c6a",
   "metadata": {},
   "source": [
    "#### XXZ Hamiltonian\n",
    "\n",
    "Defined as\n",
    "$$\n",
    "H = -J \\sum_{\\langle i, j \\rangle} ( \\sigma_i^x \\sigma_j^x + \\sigma_i^y \\sigma_j^y + \\Delta \\sigma_i^z \\sigma_j^z ) - h \\sum_i \\sigma_i^x,\n",
    "$$\n",
    "where $J$ is the coupling constant, $\\Delta$ a perturbation and $h$ a magnetic field."
   ]
  },
  {
   "cell_type": "code",
   "execution_count": null,
   "id": "bcff4597-de9d-436e-908a-ff683e868478",
   "metadata": {},
   "outputs": [],
   "source": [
    "#| export\n",
    "class XXZHamiltonian(BaseHamiltonian):\n",
    "    \"\"\"Implementation of the XXZ Hamiltonian on a qubit chain.\"\"\"\n",
    "    \n",
    "    def __init__(self, \n",
    "                 h: float, \n",
    "                 J: float, \n",
    "                 delta: float, \n",
    "                 num_qubits: int, \n",
    "                 periodic_boundary: bool = True,\n",
    "                 device: Optional[str | torch.device] = None) -> None:\n",
    "        \"\"\"\n",
    "        h:     Magnetic field \n",
    "        J:     Coupling constant \n",
    "        delta: Perturbation\n",
    "        \"\"\"\n",
    "        self.h = h\n",
    "        self.J = J      \n",
    "        self.delta = delta\n",
    "        self.num_qubits = num_qubits\n",
    "        self.periodic_boundary = periodic_boundary\n",
    "        super().__init__(device)\n",
    "        \n",
    "    def _generate_matrix(self) -> torch.Tensor:\n",
    "        \"\"\"\n",
    "        Note:  We take big endian convention in placing the `i,j`-sigmas in tensor product ordering.\n",
    "               For little endian we need to use `pos = self.num_qubits-i`.\n",
    "        \"\"\"\n",
    "        \n",
    "        N   = 2**self.num_qubits\n",
    "        ham = torch.zeros((N, N), dtype=torch.complex128)\n",
    "\n",
    "        pairs = [(i, i+1) for i in range(self.num_qubits-1)]\n",
    "        \n",
    "        if self.periodic_boundary:\n",
    "            pairs.append((self.num_qubits-1, 0))\n",
    "\n",
    "        for (i, j) in pairs:\n",
    "            X_term = qubit_tensor_product(self.num_qubits, sigma_x, sigma_x, pos=[i, j])\n",
    "            Y_term = qubit_tensor_product(self.num_qubits, sigma_y, sigma_y, pos=[i, j])\n",
    "            Z_term = qubit_tensor_product(self.num_qubits, sigma_z, sigma_z, pos=[i, j])\n",
    "\n",
    "            # Coupling + Perturbation\n",
    "            ham += -self.J * (X_term + Y_term + self.delta * Z_term)\n",
    "\n",
    "        # Magnetic\n",
    "        for i in range(self.num_qubits):\n",
    "            ham += -self.h * qubit_tensor_product(self.num_qubits, sigma_x, pos=i)\n",
    "\n",
    "        self.data = ham.to(self.device)"
   ]
  },
  {
   "cell_type": "code",
   "execution_count": null,
   "id": "b4bb213f-bd28-4b4e-97a4-f8f285596394",
   "metadata": {},
   "outputs": [
    {
     "data": {
      "text/plain": [
       "tensor([[-2.+0.j, -1.+0.j, -1.+0.j,  0.+0.j],\n",
       "        [-1.+0.j,  2.+0.j, -4.+0.j, -1.+0.j],\n",
       "        [-1.+0.j, -4.+0.j,  2.+0.j, -1.+0.j],\n",
       "        [ 0.+0.j, -1.+0.j, -1.+0.j, -2.+0.j]], dtype=torch.complex128)"
      ]
     },
     "execution_count": null,
     "metadata": {},
     "output_type": "execute_result"
    }
   ],
   "source": [
    "hamiltonian = XXZHamiltonian(h=1, J=1, delta=1, num_qubits=2)\n",
    "hamiltonian.data"
   ]
  },
  {
   "cell_type": "markdown",
   "id": "9f261b77-79ba-41fc-b47a-eeff4c05a7d7",
   "metadata": {},
   "source": [
    "Eigenvalues of this Hamiltonian:"
   ]
  },
  {
   "cell_type": "code",
   "execution_count": null,
   "id": "db06d406-5477-44a5-aec8-f7fab7895130",
   "metadata": {},
   "outputs": [
    {
     "data": {
      "text/plain": [
       "tensor([-4.0000e+00, -2.0000e+00,  8.8818e-16,  6.0000e+00], dtype=torch.float64)"
      ]
     },
     "execution_count": null,
     "metadata": {},
     "output_type": "execute_result"
    }
   ],
   "source": [
    "torch.linalg.eigvalsh(hamiltonian.data)"
   ]
  },
  {
   "cell_type": "markdown",
   "id": "85448086-ac18-4fa4-a887-8887ac062d19",
   "metadata": {},
   "source": [
    "And the evolution unitary is:"
   ]
  },
  {
   "cell_type": "code",
   "execution_count": null,
   "id": "0c9a6406-65f2-41c0-8eb2-26479e4df2f8",
   "metadata": {},
   "outputs": [
    {
     "data": {
      "text/plain": [
       "tensor([[ 0.3750+0.6495j, -0.3750+0.2165j, -0.3750+0.2165j, -0.1250-0.2165j],\n",
       "        [-0.3750+0.2165j, -0.3750+0.2165j,  0.6250+0.2165j, -0.3750+0.2165j],\n",
       "        [-0.3750+0.2165j,  0.6250+0.2165j, -0.3750+0.2165j, -0.3750+0.2165j],\n",
       "        [-0.1250-0.2165j, -0.3750+0.2165j, -0.3750+0.2165j,  0.3750+0.6495j]], dtype=torch.complex128)"
      ]
     },
     "execution_count": null,
     "metadata": {},
     "output_type": "execute_result"
    }
   ],
   "source": [
    "hamiltonian.get_evolution(t=np.pi/6)"
   ]
  },
  {
   "cell_type": "code",
   "execution_count": null,
   "id": "d29002e5-db43-4562-86bc-b2cb0ec8ab57",
   "metadata": {},
   "outputs": [
    {
     "data": {
      "text/plain": [
       "tensor([[[ 0.3750, -0.3750, -0.3750, -0.1250],\n",
       "         [-0.3750, -0.3750,  0.6250, -0.3750],\n",
       "         [-0.3750,  0.6250, -0.3750, -0.3750],\n",
       "         [-0.1250, -0.3750, -0.3750,  0.3750]],\n",
       "\n",
       "        [[ 0.6495,  0.2165,  0.2165, -0.2165],\n",
       "         [ 0.2165,  0.2165,  0.2165,  0.2165],\n",
       "         [ 0.2165,  0.2165,  0.2165,  0.2165],\n",
       "         [-0.2165,  0.2165,  0.2165,  0.6495]]], dtype=torch.float64)"
      ]
     },
     "execution_count": null,
     "metadata": {},
     "output_type": "execute_result"
    }
   ],
   "source": [
    "hamiltonian.get_evolution(t=np.pi/6, split_complex_channel=True)"
   ]
  },
  {
   "cell_type": "markdown",
   "id": "a12db28d-f69a-41bd-863d-9d2cd12494df",
   "metadata": {},
   "source": [
    "# Export -"
   ]
  },
  {
   "cell_type": "code",
   "execution_count": null,
   "id": "7eea527e-0aa8-4814-a413-c5e580d51969",
   "metadata": {},
   "outputs": [],
   "source": [
    "#| hide\n",
    "import nbdev; nbdev.nbdev_export()"
   ]
  }
 ],
 "metadata": {
  "kernelspec": {
   "display_name": "python3",
   "language": "python",
   "name": "python3"
  },
  "widgets": {
   "application/vnd.jupyter.widget-state+json": {
    "state": {},
    "version_major": 2,
    "version_minor": 0
   }
  }
 },
 "nbformat": 4,
 "nbformat_minor": 5
}
