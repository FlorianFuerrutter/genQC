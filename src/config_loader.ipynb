{
 "cells": [
  {
   "cell_type": "markdown",
   "id": "a8980c24-d62e-462b-ba89-3195cfdcc374",
   "metadata": {},
   "source": [
    "# Config loader"
   ]
  },
  {
   "cell_type": "markdown",
   "id": "1bb62f14-03c7-4d64-b1b9-f1d3ae309b01",
   "metadata": {},
   "source": [
    "Code using `omegaconf` to handle IO."
   ]
  },
  {
   "cell_type": "code",
   "execution_count": null,
   "id": "a8832bdd-f61c-44e1-8619-a9cb352ba768",
   "metadata": {},
   "outputs": [],
   "source": [
    "#| default_exp config_loader"
   ]
  },
  {
   "cell_type": "code",
   "execution_count": null,
   "id": "06272f6f-b4e3-4504-a90a-feebbf6ad821",
   "metadata": {},
   "outputs": [],
   "source": [
    "#| export\n",
    "from genQC.imports import *\n",
    "from omegaconf import OmegaConf"
   ]
  },
  {
   "cell_type": "markdown",
   "id": "9b6c0b5e-4779-4c4a-98e9-46a3dca8bee6",
   "metadata": {},
   "source": [
    "## IO"
   ]
  },
  {
   "cell_type": "code",
   "execution_count": null,
   "id": "cb173637-3d18-4f94-8b95-76cda4117b1e",
   "metadata": {},
   "outputs": [],
   "source": [
    "#| export\n",
    "def class_to_str(cls):\n",
    "    return str(cls)[8:-2]"
   ]
  },
  {
   "cell_type": "code",
   "execution_count": null,
   "id": "e0d5bc35-cc53-42fb-8fcd-8f2bc66c7c9b",
   "metadata": {},
   "outputs": [],
   "source": [
    "#| export\n",
    "def load_config(file_path):\n",
    "    return OmegaConf.load(f\"{file_path}\")"
   ]
  },
  {
   "cell_type": "code",
   "execution_count": null,
   "id": "b105c04a-66d1-4450-8ee0-87aae618e60a",
   "metadata": {},
   "outputs": [],
   "source": [
    "#| export\n",
    "def config_to_dict(config):\n",
    "    return OmegaConf.to_container(config)"
   ]
  },
  {
   "cell_type": "code",
   "execution_count": null,
   "id": "e3d81e5c-cf3d-4152-ab66-acd6e42ec3c9",
   "metadata": {},
   "outputs": [],
   "source": [
    "#| export\n",
    "def save_dataclass_yaml(data_obj, file_path):\n",
    "    conf = OmegaConf.structured(data_obj)\n",
    "    with open(file_path, 'w') as f:\n",
    "        OmegaConf.save(config=conf, f=f)"
   ]
  },
  {
   "cell_type": "code",
   "execution_count": null,
   "id": "bf89bbfc-9d4e-442f-96ea-db1ab99505e9",
   "metadata": {},
   "outputs": [],
   "source": [
    "#| export\n",
    "def save_dict_yaml(dict_obj, file_path):\n",
    "    conf = OmegaConf.create(dict_obj)\n",
    "    with open(file_path, 'w') as f:\n",
    "        OmegaConf.save(config=conf, f=f)"
   ]
  },
  {
   "cell_type": "markdown",
   "id": "ef21ca53-aa2c-4faa-877f-a9b39eeb8ff4",
   "metadata": {},
   "source": [
    "Test"
   ]
  },
  {
   "cell_type": "code",
   "execution_count": null,
   "id": "ed2b17fc-e4d9-4967-89cb-4a0bb28e39a2",
   "metadata": {},
   "outputs": [
    {
     "data": {
      "text/plain": [
       "{'target': 'omegaconf.omegaconf.OmegaConf', 'clr_dim': 80, 'features': [1, 2, 3]}"
      ]
     },
     "execution_count": null,
     "metadata": {},
     "output_type": "execute_result"
    }
   ],
   "source": [
    "@dataclass\n",
    "class MyConfig:    \n",
    "    target:str = class_to_str(OmegaConf)\n",
    "    clr_dim: int = 80\n",
    "    features: list[int]=None\n",
    "    \n",
    "c = MyConfig()\n",
    "c.features = [1,2,3]\n",
    "\n",
    "OmegaConf.structured(c)"
   ]
  },
  {
   "cell_type": "markdown",
   "id": "a3cbe4ce-7e90-413b-b55e-e07a9eeb6d8f",
   "metadata": {},
   "source": [
    "## Object config load"
   ]
  },
  {
   "cell_type": "markdown",
   "id": "3398beb4-8b77-4a8b-9075-b3f6a9775bcd",
   "metadata": {},
   "source": [
    "Mostly taken from: https://github.com/Stability-AI/stablediffusion"
   ]
  },
  {
   "cell_type": "code",
   "execution_count": null,
   "id": "6547d020-5764-4379-92b2-583d8f6f4bc5",
   "metadata": {},
   "outputs": [],
   "source": [
    "#| export\n",
    "def get_obj_from_str(string, reload=False):\n",
    "    module, cls = string.rsplit(\".\", 1)\n",
    "    if reload:\n",
    "        module_imp = importlib.import_module(module)\n",
    "        importlib.reload(module_imp)\n",
    "    return getattr(importlib.import_module(module, package=None), cls)"
   ]
  },
  {
   "cell_type": "code",
   "execution_count": null,
   "id": "ffc7fa40-81aa-42ed-ac23-8562ffdc8e4f",
   "metadata": {},
   "outputs": [],
   "source": [
    "#| export\n",
    "def instantiate_from_config(config):\n",
    "    if not \"target\" in config: raise KeyError(\"Expected key `target` to instantiate.\")\n",
    "    if not \"params\" in config: print(f\"[WARNING] Expected key `params` to instantiate.\")\n",
    "    return get_obj_from_str(config[\"target\"])(**config.get(\"params\", dict()))"
   ]
  },
  {
   "cell_type": "code",
   "execution_count": null,
   "id": "36032308-bd0e-4409-9db0-9d89fc258e5a",
   "metadata": {},
   "outputs": [],
   "source": [
    "#| export\n",
    "def load_model_from_config(config, ckpt, device):\n",
    "    \n",
    "    print(f\"Loading model from {ckpt}\")\n",
    "    pl_sd = torch.load(ckpt, map_location=torch.device(device).type)\n",
    "          \n",
    "    model = instantiate_from_config(config.model)\n",
    "    \n",
    "    sd = pl_sd[\"state_dict\"]\n",
    "    m, u = model.load_state_dict(sd, strict=True)\n",
    "    \n",
    "    return model.to(device)"
   ]
  },
  {
   "cell_type": "markdown",
   "id": "f41f26a8-ac40-4e91-8c0e-1ef07a0fd4f4",
   "metadata": {},
   "source": [
    "# Export -"
   ]
  },
  {
   "cell_type": "code",
   "execution_count": null,
   "id": "a0474216-8e0c-4ba7-9a37-571ac7d8e82c",
   "metadata": {},
   "outputs": [],
   "source": [
    "#| hide\n",
    "import nbdev; nbdev.nbdev_export()"
   ]
  }
 ],
 "metadata": {
  "kernelspec": {
   "display_name": "python3",
   "language": "python",
   "name": "python3"
  }
 },
 "nbformat": 4,
 "nbformat_minor": 5
}
